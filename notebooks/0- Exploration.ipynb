{
 "cells": [
  {
   "cell_type": "markdown",
   "metadata": {},
   "source": [
    "# Dataset Exploration\n",
    "\n",
    "First, we will show you how to explore the dataset, how to pre-process it and how to start making initial visualizations."
   ]
  },
  {
   "cell_type": "markdown",
   "metadata": {},
   "source": [
    "## Library Imports"
   ]
  },
  {
   "cell_type": "code",
   "execution_count": 1,
   "metadata": {},
   "outputs": [],
   "source": [
    "%reset -f\n",
    "# Import Os to get to the root directory\n",
    "import os\n",
    "import sys\n",
    "\n",
    "# Root directory of the project\n",
    "ROOT_DIR = os.path.abspath(\"../\")\n",
    "sys.path.append(ROOT_DIR)\n",
    "\n",
    "# Import own functions\n",
    "from libraries import corpus\n",
    "from libraries import pdf2text\n",
    "\n",
    "# Import other libraries\n",
    "import nltk \n",
    "import numpy as np\n",
    "\n",
    "import re\n",
    "\n",
    "import warnings\n",
    "warnings.filterwarnings(\"ignore\")"
   ]
  },
  {
   "cell_type": "code",
   "execution_count": 2,
   "metadata": {},
   "outputs": [],
   "source": [
    "import pandas as pd"
   ]
  },
  {
   "cell_type": "code",
   "execution_count": 62,
   "metadata": {},
   "outputs": [
    {
     "data": {
      "text/plain": [
       "<module 'libraries.corpus' from 'D:\\\\Dropbox\\\\Masters\\\\BIPM\\\\2 Semester\\\\Text, Web and Social Media Analytics\\\\Project\\\\datascience_project\\\\libraries\\\\corpus.py'>"
      ]
     },
     "execution_count": 62,
     "metadata": {},
     "output_type": "execute_result"
    }
   ],
   "source": [
    "from importlib import reload\n",
    "reload(corpus)"
   ]
  },
  {
   "cell_type": "markdown",
   "metadata": {},
   "source": [
    "## Data Preprocessing"
   ]
  },
  {
   "cell_type": "code",
   "execution_count": 60,
   "metadata": {},
   "outputs": [],
   "source": [
    "stats = corpus.get_datastats()"
   ]
  },
  {
   "cell_type": "code",
   "execution_count": 61,
   "metadata": {},
   "outputs": [
    {
     "data": {
      "text/html": [
       "<div>\n",
       "<style scoped>\n",
       "    .dataframe tbody tr th:only-of-type {\n",
       "        vertical-align: middle;\n",
       "    }\n",
       "\n",
       "    .dataframe tbody tr th {\n",
       "        vertical-align: top;\n",
       "    }\n",
       "\n",
       "    .dataframe thead th {\n",
       "        text-align: right;\n",
       "    }\n",
       "</style>\n",
       "<table border=\"1\" class=\"dataframe\">\n",
       "  <thead>\n",
       "    <tr style=\"text-align: right;\">\n",
       "      <th></th>\n",
       "      <th>rank</th>\n",
       "      <th>name</th>\n",
       "      <th>marketcapUSD</th>\n",
       "      <th>priceUSD</th>\n",
       "      <th>volumeUSD</th>\n",
       "      <th>circulatingsupply</th>\n",
       "      <th>changePER</th>\n",
       "      <th>coin</th>\n",
       "    </tr>\n",
       "  </thead>\n",
       "  <tbody>\n",
       "    <tr>\n",
       "      <th>0</th>\n",
       "      <td>1</td>\n",
       "      <td>bitcoin</td>\n",
       "      <td>1.454306e+11</td>\n",
       "      <td>8190.930000</td>\n",
       "      <td>1.953846e+10</td>\n",
       "      <td>1.775508e+07</td>\n",
       "      <td>4.52%</td>\n",
       "      <td>BTC</td>\n",
       "    </tr>\n",
       "    <tr>\n",
       "      <th>1</th>\n",
       "      <td>2</td>\n",
       "      <td>ethereum</td>\n",
       "      <td>2.751643e+10</td>\n",
       "      <td>258.460000</td>\n",
       "      <td>8.437298e+09</td>\n",
       "      <td>1.064610e+08</td>\n",
       "      <td>6.79%</td>\n",
       "      <td>ETH</td>\n",
       "    </tr>\n",
       "    <tr>\n",
       "      <th>2</th>\n",
       "      <td>3</td>\n",
       "      <td>xrp</td>\n",
       "      <td>1.701080e+10</td>\n",
       "      <td>0.402728</td>\n",
       "      <td>1.235396e+09</td>\n",
       "      <td>4.223895e+10</td>\n",
       "      <td>3.04%</td>\n",
       "      <td>XRP</td>\n",
       "    </tr>\n",
       "    <tr>\n",
       "      <th>3</th>\n",
       "      <td>4</td>\n",
       "      <td>litecoin</td>\n",
       "      <td>8.814551e+09</td>\n",
       "      <td>141.730000</td>\n",
       "      <td>6.057901e+09</td>\n",
       "      <td>6.219208e+07</td>\n",
       "      <td>8.47%</td>\n",
       "      <td>LTC</td>\n",
       "    </tr>\n",
       "    <tr>\n",
       "      <th>4</th>\n",
       "      <td>5</td>\n",
       "      <td>bitcoincash</td>\n",
       "      <td>7.075264e+09</td>\n",
       "      <td>396.730000</td>\n",
       "      <td>1.439348e+09</td>\n",
       "      <td>1.783416e+07</td>\n",
       "      <td>2.78%</td>\n",
       "      <td>BCH</td>\n",
       "    </tr>\n",
       "  </tbody>\n",
       "</table>\n",
       "</div>"
      ],
      "text/plain": [
       "   rank         name  marketcapUSD     priceUSD     volumeUSD  \\\n",
       "0     1      bitcoin  1.454306e+11  8190.930000  1.953846e+10   \n",
       "1     2     ethereum  2.751643e+10   258.460000  8.437298e+09   \n",
       "2     3          xrp  1.701080e+10     0.402728  1.235396e+09   \n",
       "3     4     litecoin  8.814551e+09   141.730000  6.057901e+09   \n",
       "4     5  bitcoincash  7.075264e+09   396.730000  1.439348e+09   \n",
       "\n",
       "   circulatingsupply changePER coin  \n",
       "0       1.775508e+07     4.52%  BTC  \n",
       "1       1.064610e+08     6.79%  ETH  \n",
       "2       4.223895e+10     3.04%  XRP  \n",
       "3       6.219208e+07     8.47%  LTC  \n",
       "4       1.783416e+07     2.78%  BCH  "
      ]
     },
     "execution_count": 61,
     "metadata": {},
     "output_type": "execute_result"
    }
   ],
   "source": [
    "stats.head()"
   ]
  },
  {
   "cell_type": "code",
   "execution_count": 63,
   "metadata": {},
   "outputs": [],
   "source": [
    "# Get the Dataset from the White-Paper folders, converting all PDFs into text\n",
    "dataset = pdf2text.get_dataset()"
   ]
  },
  {
   "cell_type": "code",
   "execution_count": 64,
   "metadata": {},
   "outputs": [
    {
     "data": {
      "text/plain": [
       "dict_keys(['0chain', '0x', '1world', '1x2coin', 'ab-chain', 'abcccoin', 'able', 'absolute', 'ace', 'achain', 'acrecoin', 'actinium', 'acuteangle', 'adamant', 'adbank', 'adchainregistry', 'adcoin', 'adhive', 'aditus', 'adshares', 'alluva', 'ample!', 'ardor', 'ark', 'basicattentiontoken', 'binancecoin', 'bitcoin', 'bitcoindiamond', 'bitcoingold', 'bitshares', 'bitstash', 'bittorrent', 'budbo', 'bytecoin', 'bytom', 'chainlink', 'cosmos', 'crypto', 'cryptonex', 'cryptonote', 'daistablecoinsystem', 'dash', 'decentraland', 'dent', 'digixdao', 'dogecoin', 'enjincoin', 'eos', 'etherace', 'ethereum', 'ethereumclassic', 'giant', 'givecoin', 'golem', 'guaranteedentrancetoken', 'gxchain', 'holo', 'horizen', 'hypercash', 'icon', 'iota', 'komodo', 'kwattcoin', 'latoken', 'loopring', 'maidsafecoin', 'maker', 'metaverseetp', 'mixin', 'monerov', 'nano', 'nebulas', 'nem', 'neox', 'oceanprotocol', 'omisego', 'ontology', 'opbusiness', 'opmarket', 'oxcert', 'paxosstandardtoken', 'pundix', 'ravencoin', 'sdusd', 'siacoin', 'snipcoin', 'solve', 'status', 'steem', 'stellar', 'stratis', 'tether', 'tezos', 'theta', 'thundertoken', 'tron', 'truechain', 'usdcoin', 'vechain', 'waltonchain', 'waves', 'wax', 'xrp', 'zcash', 'zerocash', 'zilliqa'])"
      ]
     },
     "execution_count": 64,
     "metadata": {},
     "output_type": "execute_result"
    }
   ],
   "source": [
    "# Name of all the White Papers in our dataset\n",
    "dataset.keys()"
   ]
  },
  {
   "cell_type": "code",
   "execution_count": 65,
   "metadata": {},
   "outputs": [
    {
     "data": {
      "text/plain": [
       "106"
      ]
     },
     "execution_count": 65,
     "metadata": {},
     "output_type": "execute_result"
    }
   ],
   "source": [
    "# Number of White Papers in our dataset\n",
    "len(dataset.keys())"
   ]
  },
  {
   "cell_type": "code",
   "execution_count": 54,
   "metadata": {},
   "outputs": [
    {
     "data": {
      "text/plain": [
       "'\\n\\n\\n\\n\\n\\n\\n\\n\\n\\n\\n\\n\\n\\n\\n\\n\\n\\n\\n\\n\\n\\n\\n\\n\\n\\n\\n\\n\\n\\n\\n\\n\\n\\n\\n\\n\\n\\n\\n\\n\\n\\n\\n\\n\\n   \\n \\n\\n \\n\\nSeptember 2017 \\n\\nLAToken.com \\n\\n \\n\\n\\n\\n   \\n \\n\\n \\n\\n\\n\\n   \\n \\n\\n \\n\\n\\n\\n   \\n \\n\\n \\n\\n\\n\\n   \\n \\n\\n \\n\\n\\n\\n   \\n \\n\\n \\n\\n                                                           \\n\\n \\n\\n\\n\\n   \\n \\n\\n \\n\\n                                                           \\n\\n \\n\\n\\n\\n   \\n \\n\\n \\n\\n\\n\\n   \\n \\n\\n \\n\\n\\n\\n   \\n \\n\\n \\n\\nO\\n\\n                                                           \\n\\n\\n\\n   \\n \\n\\n \\n\\n\\n\\n   \\n \\n\\n \\n\\n \\n\\n \\n\\n \\n\\n\\n\\n   \\n \\n\\n \\n\\n \\n\\n \\n\\n \\n\\n \\n\\n\\n\\n   \\n \\n\\n \\n\\n\\n\\n   \\n \\n\\n \\n\\n\\n\\n   \\n \\n\\n \\n\\n \\n\\n\\n\\n   \\n \\n\\n \\n\\n \\n\\n \\n\\n \\n\\n \\n\\n \\n\\n \\n\\n\\n\\n   \\n \\n\\n \\n\\n                                                           \\n\\n \\n\\n\\n\\n   \\n \\n\\n \\n\\n                                                           \\n\\n \\n\\n\\n\\n   \\n \\n\\n \\n\\n                                                           \\n\\n \\n\\n\\n\\n   \\n \\n\\n \\n\\nBY 2025, TOTAL \\nCAPITALIZATION OF \\nCRYPTO-\\nCURRENCIES COULD \\nEXCEED  \\n$5 TRILLION \\n\\nFigure 1. Total market cap of cryptocurrencies, 2017-2025, $ trillion \\n\\n\\n\\n   \\n \\n\\n \\n\\nTRADING VOLUME OF \\nASSET CRYPTO-\\nCURRENCIES COULD \\nEXCEED $40 TRILLION \\nBY 2025 \\n\\nASSET CRYPTO CAN \\nBE REGARDED AS \\nCOUNTER-CYCLICAL \\nTO TRADITIONAL \\nCRYPTO-CURRENCIES \\n\\nFigure 2. Total asset cryptocurrency trading volume \\n\\n\\n\\n   \\n \\n\\n \\n\\nAdoption of technology in the US \\n\\n \\n\\n\\n\\n   \\n \\n\\n \\n\\n                                                           \\n\\n \\n\\n\\n\\n   \\n \\n\\n \\n\\n                                                           \\n\\n \\n\\nWE EXPECT TOTAL \\nCRYPTO-CURRENCY \\nCAPITALIZATION TO \\nEXCEED $5 TRILLION BY \\n2025 \\n\\n\\n\\n   \\n \\n\\n \\n\\n\\n\\n   \\n \\n\\n \\n\\n                                                           \\n\\nFigure 5 60-day volatility of BTC/USD, ETH/USD, Gold/USD and USD/EUR \\n\\n \\n\\nASSET CRYPTO-\\nCURRENCIES MAY \\nACCOUNT FOR \\n~80% OF TOTAL \\nCRYPTOCURRENCY \\nCAPITALIZATION \\n\\n\\n\\n   \\n \\n\\n \\n\\n                                                           \\n\\n \\n\\n \\n\\n\\n\\n   \\n \\n\\n \\n\\n                                                           \\n\\n \\n\\nFigure 7. Typical trading transaction costs and turnover \\nratio for different types of assets \\n\\nBY 2025, \\nTRANSACTION COSTS \\nON THE BLOCKCHAIN \\nCOULD FALL BELOW \\n0.001% FOR \\nTRANSACTIONS \\nABOVE $5,000 \\n\\n\\n\\n   \\n \\n\\n \\n\\n                                                           \\n\\nTRADING VOLUME \\nPOTENTIAL FOR THE \\nMAJOR ASSET \\nCLASSES COULD \\nEXCEED $6 \\nQUADRILLION \\n\\nFigure 8. Typical trading transaction costs and turnover ratio for different types of assets \\n\\n \\n\\nCryptocoin\\n\\nCapitalization, \\n\\nbln $\\n\\nVolume (30d), \\n\\nbln $\\n\\nAnnualized volume, \\n\\nbln $\\n\\nTurnover ratio, \\n\\ntimes\\n\\nBitcoin 72,3 56,1 673,0 9,3\\n\\nEthereum 31,7 30,3 363,8 11,5\\n\\nBitcoin Cash 10,2 16,1 193,3 18,9\\n\\nRipple 7,8 8,1 96,9 12,5\\n\\nLitecoin 3,3 5,6 67,1 20,6\\n\\nTether 0,3 4,1 48,9 152,7\\n\\nNEO 1,9 3,9 47,2 25,1\\n\\nEthereum Classic 1,5 2,2 26,7 17,8\\n\\nOmiseGo 0,8 1,9 23,3 29,2\\n\\nDash 2,7 1,7 20,9 7,6\\n\\nQtum 0,9 1,5 18,0 20,0\\n\\nMonero 1,9 1,3 15,6 8,1\\n\\nTotal 135,3 132,9 1594,7 11,8\\n\\n\\n\\n   \\n \\n\\n \\n\\n                                                           \\n \\n\\nASSET CRYPTO-\\nCURRENCIES ARE \\nCOUNTER-CYCLICAL TO \\nTRADITIONAL \\nCRYPTOCURRENCIES \\n\\n\\n\\n   \\n \\n\\n \\n\\n\\n\\n   \\n \\n\\n \\n\\n \\n\\n \\n\\n \\n\\n \\n\\n \\n\\n \\n\\n \\n\\n• \\n\\n\\n\\n   \\n \\n\\n \\n\\n• \\n\\n• \\n\\n• \\n\\n• \\n\\nhttps://drive.google.com/file/d/1wUsOj1OOyrbcS1nZkRXKT3DZ6vC-4Kzx/view\\nhttps://drive.google.com/file/d/1wUsOj1OOyrbcS1nZkRXKT3DZ6vC-4Kzx/view\\n\\n\\n   \\n \\n\\n \\n\\n \\n\\n \\n\\n \\n\\n \\n\\nhttps://www.sec.gov/litigation/investreport/34-81207.pdf\\n\\n\\n   \\n \\n\\n \\n\\n \\n\\n \\n\\n \\n\\n \\n\\n  \\n\\nhttp://www.osc.gov.on.ca/documents/en/Securities-Category4/csa_20170824_cryptocurrency-offerings.pdf\\n\\n\\n   \\n \\n\\n \\n\\n\\n\\n   \\n \\n\\n \\n\\n\\n\\n   \\n \\n\\n \\n\\n\\n\\n   \\n \\n\\n \\n\\n\\n'"
      ]
     },
     "execution_count": 54,
     "metadata": {},
     "output_type": "execute_result"
    }
   ],
   "source": [
    "# Example on how to examine a unprocessed White Paper\n",
    "dataset[\"latoken\"]"
   ]
  },
  {
   "cell_type": "code",
   "execution_count": 66,
   "metadata": {},
   "outputs": [
    {
     "name": "stderr",
     "output_type": "stream",
     "text": [
      "[nltk_data] Downloading package punkt to\n",
      "[nltk_data]     C:\\Users\\luisd\\AppData\\Roaming\\nltk_data...\n",
      "[nltk_data]   Package punkt is already up-to-date!\n",
      "[nltk_data] Downloading package stopwords to\n",
      "[nltk_data]     C:\\Users\\luisd\\AppData\\Roaming\\nltk_data...\n",
      "[nltk_data]   Package stopwords is already up-to-date!\n",
      "[nltk_data] Downloading package averaged_perceptron_tagger to\n",
      "[nltk_data]     C:\\Users\\luisd\\AppData\\Roaming\\nltk_data...\n",
      "[nltk_data]   Package averaged_perceptron_tagger is already up-to-\n",
      "[nltk_data]       date!\n",
      "[nltk_data] Downloading package wordnet to\n",
      "[nltk_data]     C:\\Users\\luisd\\AppData\\Roaming\\nltk_data...\n"
     ]
    },
    {
     "name": "stdout",
     "output_type": "stream",
     "text": [
      "Cleaning: 0chain\n"
     ]
    },
    {
     "name": "stderr",
     "output_type": "stream",
     "text": [
      "[nltk_data]   Package wordnet is already up-to-date!\n",
      "[nltk_data] Error loading en_core_web_md: Package 'en_core_web_md' not\n",
      "[nltk_data]     found in index\n"
     ]
    },
    {
     "name": "stdout",
     "output_type": "stream",
     "text": [
      "Cleaning: 0x\n",
      "Cleaning: 1world\n",
      "Cleaning: 1x2coin\n",
      "Cleaning: ab-chain\n",
      "Cleaning: abcccoin\n",
      "Cleaning: able\n",
      "Cleaning: absolute\n",
      "Cleaning: ace\n",
      "Cleaning: achain\n",
      "Cleaning: acrecoin\n",
      "Cleaning: actinium\n",
      "Cleaning: acuteangle\n",
      "Cleaning: adamant\n",
      "Cleaning: adbank\n",
      "Cleaning: adchainregistry\n",
      "Cleaning: adcoin\n",
      "Cleaning: adhive\n",
      "Cleaning: aditus\n",
      "Cleaning: adshares\n",
      "Cleaning: alluva\n",
      "Cleaning: ample!\n",
      "Cleaning: ardor\n",
      "Cleaning: ark\n",
      "Cleaning: basicattentiontoken\n",
      "Cleaning: binancecoin\n",
      "Cleaning: bitcoin\n",
      "Cleaning: bitcoindiamond\n",
      "Cleaning: bitcoingold\n",
      "Cleaning: bitshares\n",
      "Cleaning: bitstash\n",
      "Cleaning: bittorrent\n",
      "Cleaning: budbo\n",
      "Cleaning: bytecoin\n",
      "Cleaning: bytom\n",
      "Cleaning: chainlink\n",
      "Cleaning: cosmos\n",
      "Cleaning: crypto\n",
      "Cleaning: cryptonex\n",
      "Cleaning: cryptonote\n",
      "Cleaning: daistablecoinsystem\n",
      "Cleaning: dash\n",
      "Cleaning: decentraland\n",
      "Cleaning: dent\n",
      "Cleaning: digixdao\n",
      "Cleaning: dogecoin\n",
      "Cleaning: enjincoin\n",
      "Cleaning: eos\n",
      "Cleaning: etherace\n",
      "Cleaning: ethereum\n",
      "Cleaning: ethereumclassic\n",
      "Cleaning: giant\n",
      "Cleaning: givecoin\n",
      "Cleaning: golem\n",
      "Cleaning: guaranteedentrancetoken\n",
      "Cleaning: gxchain\n",
      "Cleaning: holo\n",
      "Cleaning: horizen\n",
      "Cleaning: hypercash\n",
      "Cleaning: icon\n",
      "Cleaning: iota\n",
      "Cleaning: komodo\n",
      "Cleaning: kwattcoin\n",
      "Cleaning: latoken\n",
      "Cleaning: loopring\n",
      "Cleaning: maidsafecoin\n",
      "Cleaning: maker\n",
      "Cleaning: metaverseetp\n",
      "Cleaning: mixin\n",
      "Cleaning: monerov\n",
      "Cleaning: nano\n",
      "Cleaning: nebulas\n",
      "Cleaning: nem\n",
      "Cleaning: neox\n",
      "Cleaning: oceanprotocol\n",
      "Cleaning: omisego\n",
      "Cleaning: ontology\n",
      "Cleaning: opbusiness\n",
      "Cleaning: opmarket\n",
      "Cleaning: oxcert\n",
      "Cleaning: paxosstandardtoken\n",
      "Cleaning: pundix\n",
      "Cleaning: ravencoin\n",
      "Cleaning: sdusd\n",
      "Cleaning: siacoin\n",
      "Cleaning: snipcoin\n",
      "Cleaning: solve\n",
      "Cleaning: status\n",
      "Cleaning: steem\n",
      "Cleaning: stellar\n",
      "Cleaning: stratis\n",
      "Cleaning: tether\n",
      "Cleaning: tezos\n",
      "Cleaning: theta\n",
      "Cleaning: thundertoken\n",
      "Cleaning: tron\n",
      "Cleaning: truechain\n",
      "Cleaning: usdcoin\n",
      "Cleaning: vechain\n",
      "Cleaning: waltonchain\n",
      "Cleaning: waves\n",
      "Cleaning: wax\n",
      "Cleaning: xrp\n",
      "Cleaning: zcash\n",
      "Cleaning: zerocash\n",
      "Cleaning: zilliqa\n",
      "Done!\n"
     ]
    }
   ],
   "source": [
    "# Define if you want your corpus to be whole or divided in sentences\n",
    "makeSentences = False\n",
    "# Creates a dictionary with each White Paper and its text pre-processed\n",
    "corpora = corpus.makeCleanCorpus(dataset, lemmatize=False, removePunct=True, removeNums=True\n",
    "                                 ,makeSentences=makeSentences, removeURL=True, removeChar=True, removeEnt=False)"
   ]
  },
  {
   "cell_type": "code",
   "execution_count": 67,
   "metadata": {},
   "outputs": [
    {
     "data": {
      "text/plain": [
       "dict_keys(['0chain', '0x', '1world', '1x2coin', 'ab-chain', 'abcccoin', 'able', 'absolute', 'ace', 'achain', 'acrecoin', 'actinium', 'acuteangle', 'adamant', 'adbank', 'adchainregistry', 'adcoin', 'adhive', 'aditus', 'adshares', 'alluva', 'ample!', 'ardor', 'ark', 'basicattentiontoken', 'binancecoin', 'bitcoin', 'bitcoindiamond', 'bitcoingold', 'bitshares', 'bitstash', 'bittorrent', 'budbo', 'bytecoin', 'bytom', 'chainlink', 'cosmos', 'crypto', 'cryptonex', 'cryptonote', 'daistablecoinsystem', 'dash', 'decentraland', 'dent', 'digixdao', 'dogecoin', 'enjincoin', 'eos', 'etherace', 'ethereum', 'ethereumclassic', 'giant', 'givecoin', 'golem', 'guaranteedentrancetoken', 'gxchain', 'holo', 'horizen', 'hypercash', 'icon', 'iota', 'komodo', 'kwattcoin', 'latoken', 'loopring', 'maidsafecoin', 'maker', 'metaverseetp', 'mixin', 'monerov', 'nano', 'nebulas', 'nem', 'neox', 'oceanprotocol', 'omisego', 'ontology', 'opbusiness', 'opmarket', 'oxcert', 'paxosstandardtoken', 'pundix', 'ravencoin', 'sdusd', 'siacoin', 'snipcoin', 'solve', 'status', 'steem', 'stellar', 'stratis', 'tether', 'tezos', 'theta', 'thundertoken', 'tron', 'truechain', 'usdcoin', 'vechain', 'waltonchain', 'waves', 'wax', 'xrp', 'zcash', 'zerocash', 'zilliqa'])"
      ]
     },
     "execution_count": 67,
     "metadata": {},
     "output_type": "execute_result"
    }
   ],
   "source": [
    "# All the White Papers pre-processed\n",
    "corpora.keys()"
   ]
  },
  {
   "cell_type": "code",
   "execution_count": 68,
   "metadata": {},
   "outputs": [],
   "source": [
    "# Function that converts a dictionary into a Pandas Dataframe\n",
    "# The indexes are the name of the files\n",
    "df = corpus.dictionaryToPandas(corpora)"
   ]
  },
  {
   "cell_type": "code",
   "execution_count": 69,
   "metadata": {},
   "outputs": [
    {
     "data": {
      "text/html": [
       "<div>\n",
       "<style scoped>\n",
       "    .dataframe tbody tr th:only-of-type {\n",
       "        vertical-align: middle;\n",
       "    }\n",
       "\n",
       "    .dataframe tbody tr th {\n",
       "        vertical-align: top;\n",
       "    }\n",
       "\n",
       "    .dataframe thead th {\n",
       "        text-align: right;\n",
       "    }\n",
       "</style>\n",
       "<table border=\"1\" class=\"dataframe\">\n",
       "  <thead>\n",
       "    <tr style=\"text-align: right;\">\n",
       "      <th></th>\n",
       "      <th>text</th>\n",
       "    </tr>\n",
       "  </thead>\n",
       "  <tbody>\n",
       "    <tr>\n",
       "      <th>0chain</th>\n",
       "      <td>chain chain fast secure scalable free blockchain tailored highperformance zerotrust decentralize...</td>\n",
       "    </tr>\n",
       "    <tr>\n",
       "      <th>0x</th>\n",
       "      <td>open protocol decentralized exchange ethereum blockchain warren amir bandeali xprojectcom februa...</td>\n",
       "    </tr>\n",
       "    <tr>\n",
       "      <th>1world</th>\n",
       "      <td>legal disclaimer purpose white paper present world online token potential token holders connecti...</td>\n",
       "    </tr>\n",
       "    <tr>\n",
       "      <th>1x2coin</th>\n",
       "      <td>powerpoint presentation table contents introduction masternodes coinholders proofofstake coin sp...</td>\n",
       "    </tr>\n",
       "    <tr>\n",
       "      <th>ab-chain</th>\n",
       "      <td>abchain blockchain effect ive advert ing drive traffic ico companies cryptocurrency budgets tabl...</td>\n",
       "    </tr>\n",
       "  </tbody>\n",
       "</table>\n",
       "</div>"
      ],
      "text/plain": [
       "                                                                                                         text\n",
       "0chain    chain chain fast secure scalable free blockchain tailored highperformance zerotrust decentralize...\n",
       "0x        open protocol decentralized exchange ethereum blockchain warren amir bandeali xprojectcom februa...\n",
       "1world    legal disclaimer purpose white paper present world online token potential token holders connecti...\n",
       "1x2coin   powerpoint presentation table contents introduction masternodes coinholders proofofstake coin sp...\n",
       "ab-chain  abchain blockchain effect ive advert ing drive traffic ico companies cryptocurrency budgets tabl..."
      ]
     },
     "execution_count": 69,
     "metadata": {},
     "output_type": "execute_result"
    }
   ],
   "source": [
    "# Define to show all the data\n",
    "pd.set_option('display.max_colwidth', 100)\n",
    "# Inspect the DataFrame\n",
    "df.head()"
   ]
  },
  {
   "cell_type": "code",
   "execution_count": 70,
   "metadata": {},
   "outputs": [],
   "source": [
    "# Merge the WhitePaper Text with the Stats\n",
    "df = df.merge(stats, how='left',left_index=True, right_on='name')"
   ]
  },
  {
   "cell_type": "code",
   "execution_count": 88,
   "metadata": {},
   "outputs": [
    {
     "data": {
      "text/plain": [
       "40"
      ]
     },
     "execution_count": 88,
     "metadata": {},
     "output_type": "execute_result"
    }
   ],
   "source": [
    "# WhitePapers not in the ranking\n",
    "len(df[pd.isnull(df['rank'])])"
   ]
  },
  {
   "cell_type": "code",
   "execution_count": 20,
   "metadata": {},
   "outputs": [
    {
     "data": {
      "text/plain": [
       "'bitcoin electronic cash system satoshi nakamoto satoshingmxcom abstract purely peertopeer version electronic cash would allow online payment sent directly party another without go financial institution signature provide part solution main benefit lose trust third party still require prevent doublespending propose solution doublespending problem use peertopeer nerk nerk timestamps transaction hash ongoing chain hashbased proofofwork form record change without redo proofofwork long chain serf proof sequence event witness proof come large pool power long majority power control node cooperate attack nerk theyll generate long chain outpace attacker nerk require minimal structure message broadcast best effort basis node leave rejoin nerk accept long proofofwork chain proof happen commerce internet come rely almost exclusively financial institution serve trust third party process electronic payment system work well enough transaction still suffers inherent weakness trust base model completely nonreversible transaction really possible since financial institution avoid mediate dispute cost mediation increase transaction cost limit minimum practical transaction size cut possibility small casual transaction broader cost loss ability make nonreversible payment non reversible service possibility reversal need trust spread merchant must wary customer hassle information would otherwise need certain percentage fraud accepted unavoidable cost payment uncertainty avoid person use physical currency mechanism exists make payment communication channel without trust party need electronic payment system base cryptographic proof instead trust allow willing party transact directly without need trust third party transaction computationally impractical reverse would protect seller fraud routine escrow mechanism could easily implement protect buyer paper propose solution doublespending problem use peertopeer distribute timestamp server generate computational proof chronological order transaction system secure long hst node collectively control power cooperate group attacker node transaction define electronic coin chain digital signature owner transfer coin next digitally signing hash previous transaction public key next owner add end coin payee verify signature verify chain ownership problem course payee cant verify owner doublespend coin common solution introduce trust central authority mint check every transaction double spending transaction coin must return mint issue new coin coin issue directly mint trust doublespent problem solution fate entire system depends company run mint every transaction go like bank need way payee know previous owner sign earlier transaction purpose early transaction count dont care later attempt doublespend way confirm absence transaction aware transaction mint base model mint aware transaction decide arrive first accomplish without trust party transaction must publicly announce need system participant agree single history order receive payee need proof time transaction majority node agree first receive timestamp server solution propose begin timestamp server timestamp server work take hash block item timestamped widely publishing hash newspaper post timestamp prof data must exist time obviously order get hash timestamp include previous timestamp hash form chain additional timestamp reinforce block item item hash block item item hash transaction owner public key owner signature hash transaction owner public key owner signature hash verify transaction owner public key owner signature hash verify owner private key owner private key sig sig owner private key proofofwork implement distribute timestamp server peertopeer basis need use proof ofwork system similar hashcash rather newspaper post proofofwork involves scan value hash sha hash begin number bit average work require expntial number bit require verify execute single hash timestamp nerk implement proofofwork incrementing nonce block value found give block hash require bit effort expend make satisfy proofofwork block change without redo work later block chain work change block would include redo block proofofwork also solves problem determine representation majority decision make majority base ipaddressvote could subvert able allocate many ip proofofwork essentially vote majority decision represent long chain great proofofwork effort invest majority power control hst node hst chain grow fast outpace compete chain modify past block attacker would redo proofofwork block block catch surpass work hst node show later probability slow attacker catch diminishes expntially subsequent block add compensate increase hardware speed vary interest run node time proofofwork difficulty determine move average target average number block per hour theyre generate fast difficulty increase nerk step run nerk follow new transaction broadcast node node collect new transaction block node work find difficult proofofwork block node find proofofwork broadcast block node node accept block transaction valid already spent node express acceptance block work create next block chain use hash accepted block previous hash node always consider long chain correct keep work extend node broadcast different version next block simultaneously node may receive first case work first receive save branch case becomes longer tie broken next proof ofwork found branch becomes longer node work branch switch longer block prev hash nonce tx tx block prev hash nonce tx tx new transaction broadcast necessarily need reach node long reach many node get block long block broadcast also tolerant drop message node receive block request receives next block realizes miss incentive convention first transaction block special transaction start new coin creator block add incentive node support nerk provide way initially distribute coin circulation since central authority issue steady addition constant amount new coin analogous gold miner expend resource add gold circulation case time electricity expend incentive also fund transaction fee output value transaction less input value difference transaction fee add incentive value block contain transaction predetermine number coin enter circulation incentive transition entirely transaction fee completely inflation free incentive may help encourage node stay hst greedy attacker able assemble power hst node would choose use defraud people steal back payment use generate new coin ought find profitable play rule rule favour new coin every else combine undermine system validity wealth reclaim disk space late transaction coin bury enough block spent transaction discard save disk space facilitate without break block hash transaction hash root include block hash old block compact stub branch tree interior hash need store block header transaction would suppose block generate every minute byte mb per year computer system typically sell predict current growth per year storage problem even block header must kept memory blockblock block header block hash prev hash nonce hash hash hash hash hash hash hash hash tx hash block header block hash transaction hash prune tx block prev hash nonce hash tx tx tx tx simplify payment verification possible verify payment without run full nerk node user need keep copy block header long proofofwork chain get query nerk node convince long chain obtain branch link transaction block timestamped cant check transaction link place chain see nerk node accepted block add far confirm nerk accepted verification reliable long hst node control nerk vulnerable nerk overpower attacker nerk node verify transaction simplify method fool attacker fabricate transaction long attacker continue overpower nerk strategy protect would accept alert nerk node detect invalid block prompt user software download full block alert transaction confirm inconsistency business receive frequent payment probably still want run node independent security quicker verification combine splitting value although would possible handle coin individually would unwieldy make separate transaction transfer allow value split combine transaction contain multiple input output normally either single input large previous transaction multiple input combine small amount output payment return change back sender note fanout transaction depends several transaction transaction depend many problem never need extract complete standal copy transaction history transaction hash hash hash hash block header root prev hash nonce block header root prev hash nonce block header root prev hash nonce branch tx long proofofwork chain tx privacy traditional banking model achieves level privacy limit access information party involve trust third party necessity announce transaction publicly precludes method privacy still maintain break flow information another place keep public key anonymous public see send amount else without information link transaction similar level information release stock exchange time size individual trade tape make public without tell party additional firewall new key pair use transaction keep link common owner link still unavoidable multiinput transaction necessarily reveal input owner risk owner key reveal link could reveal transaction belong owner calculation consider scenario attacker try generate alternate chain faster hst chain even accomplish throw system open arbitrary change create value thin air take never belong attacker node go accept invalid transaction payment hst node never accept block contain attacker try change transaction take back recently spent race hst chain attacker chain characterize binomial random walk success event hst chain extend block increase lead failure event attacker chain extend block reduce gap probability attacker catch give deficit analogous ruin problem suppose gambler unlimited credit start deficit play potentially infinite number trial try reach breakeven calculate probability ever reach breakeven attacker ever catch hst chain follow probability hst node find next block probability attacker find next block qz probability attacker ever catch block behind pqq pz pq identity transaction trustedthird party counterparty public identity transaction public new privacy model traditional privacy model give assumption probability drop expntially number block attacker catch increase odds doesnt make lucky lunge forward early chance become vanishingly small fall far behind consider long recipient new transaction need wait sufficiently certain sender cant change transaction assume sender attacker want make recipient believe paid switch pay back time pass receiver alert happens sender hope late receiver generates new key pair give public key sender shortly signing prevents sender prepare chain block ahead time work continuously lucky enough get far enough ahead execute transaction moment transaction sent dishst sender start work secret parallel chain contain alternate version transaction recipient wait transaction add block block link doesnt know exact amount progress attacker make assume hst block take average expect time per block attacker potential progress poisson distribution expect value z get probability attacker could still catch multiply poisson density amount progress could make probability could catch point k e p zk k k rearrange avoid sum infinite tail distribution  k e q p zk convert code include mathh double attackersuccessprobabilitydouble int double double lambda double sum int double poisson explambda poisson lambda sum poisson powq return sum run result see probability drop expntially solve less conclusion propose system electronic transaction without rely trust start usual framework coin make digital signature provide strong control ownership incomplete without way prevent doublespending solve propose peertopeer nerk use proofofwork record public history transaction quickly becomes computationally impractical attacker change hst node control majority power nerk robust unstructured simplicity node work little coordination need identify since message rout particular place need deliver best effort basis node leave rejoin nerk accept proofofwork chain proof happen vote power express acceptance valid block work extend reject invalid block refuse work need rule incentive enforce consensus mechanism reference bmy th may timestamp digital document vol page improve efficiency reliability digital timestamping sequence ii method communication security computer science page secure name bitstrings eedings th acm conference computer communication security page april back hashcash denial service countermeasure rc protocol public key cryptosystems privacy page april introduction probability theory application'"
      ]
     },
     "execution_count": 20,
     "metadata": {},
     "output_type": "execute_result"
    }
   ],
   "source": [
    "# Explore a White Paper text within a DataFrame (corpus or sentences)\n",
    "df.loc[\"bitcoin\"][0]"
   ]
  },
  {
   "cell_type": "markdown",
   "metadata": {},
   "source": [
    "## Data Exploration"
   ]
  },
  {
   "cell_type": "code",
   "execution_count": 16,
   "metadata": {},
   "outputs": [
    {
     "name": "stdout",
     "output_type": "stream",
     "text": [
      "We have 3585 words in total. \n",
      "\n",
      "['free', 'tailor', 'highperformance', 'zerotrust', 'decentralize']\n"
     ]
    }
   ],
   "source": [
    "# Start tokenizing your dataset\n",
    "tokenizer = nltk.tokenize.RegexpTokenizer('\\s+', gaps=True)\n",
    "\n",
    "if makeSentences:\n",
    "    #############################################\n",
    "    # Tokenization on sentences\n",
    "    tokens = [tokenizer.tokenize(s) for s in corpora[\"0chain\"]]\n",
    "    # Flatten the list\n",
    "    tokens = np.reshape(np.concatenate(tokens), -1)\n",
    "    #############################################\n",
    "else:\n",
    "    #############################################\n",
    "    # Tokenization on whole corpus (no sentences)\n",
    "    tokens = tokenizer.tokenize(corpora[\"0chain\"])\n",
    "    #############################################\n",
    "\n",
    "\n",
    "\n",
    "print('We have', len(tokens), 'words in total. \\n')\n",
    "print(tokens[5:10])\n"
   ]
  },
  {
   "cell_type": "code",
   "execution_count": 18,
   "metadata": {},
   "outputs": [
    {
     "data": {
      "image/png": "[encoded data removed]",
      "text/plain": [
       "<Figure size 432x288 with 1 Axes>"
      ]
     },
     "metadata": {
      "needs_background": "light"
     },
     "output_type": "display_data"
    }
   ],
   "source": [
    "from nltk.probability import FreqDist\n",
    "\n",
    "# Turn corpus into np before unnest the list\n",
    " # numpy can handle text as well\n",
    "\n",
    "fdist = FreqDist(tokens)\n",
    "\n",
    "fdist.most_common(5)\n",
    "\n",
    "import matplotlib.pyplot as plt\n",
    "fdist.plot(30,cumulative=False)\n",
    "plt.show()"
   ]
  },
  {
   "cell_type": "code",
   "execution_count": 19,
   "metadata": {},
   "outputs": [
    {
     "data": {
      "image/png": "[encoded data removed]",
      "text/plain": [
       "<Figure size 432x288 with 1 Axes>"
      ]
     },
     "metadata": {
      "needs_background": "light"
     },
     "output_type": "display_data"
    }
   ],
   "source": [
    "from nltk import bigrams, ngrams\n",
    "bigrams_tokens = bigrams(tokens)\n",
    "fdist_bigrams = FreqDist(list(bigrams_tokens))\n",
    "fdist_bigrams.plot(30,cumulative=False)\n",
    "plt.show()"
   ]
  }
 ],
 "metadata": {
  "kernelspec": {
   "display_name": "Python 3",
   "language": "python",
   "name": "python3"
  },
  "language_info": {
   "codemirror_mode": {
    "name": "ipython",
    "version": 3
   },
   "file_extension": ".py",
   "mimetype": "text/x-python",
   "name": "python",
   "nbconvert_exporter": "python",
   "pygments_lexer": "ipython3",
   "version": "3.7.3"
  }
 },
 "nbformat": 4,
 "nbformat_minor": 2
}
