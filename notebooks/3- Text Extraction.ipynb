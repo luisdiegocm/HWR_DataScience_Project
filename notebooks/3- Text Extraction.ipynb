{
 "cells": [
  {
   "cell_type": "markdown",
   "metadata": {},
   "source": [
    "# Text Extraction\n"
   ]
  },
  {
   "cell_type": "markdown",
   "metadata": {},
   "source": [
    "## Library Imports"
   ]
  },
  {
   "cell_type": "code",
   "execution_count": 3,
   "metadata": {},
   "outputs": [],
   "source": [
    "# Import Os to get to the root directory\n",
    "import os\n",
    "import sys\n",
    "\n",
    "# Root directory of the project\n",
    "ROOT_DIR = os.path.abspath(\"../\")\n",
    "sys.path.append(ROOT_DIR)\n",
    "\n",
    "# Import own functions\n",
    "from libraries import corpus\n",
    "from libraries import pdf2text\n",
    "\n",
    "# Import other libraries\n",
    "import nltk \n",
    "import numpy as np\n",
    "import pandas as pd\n",
    "import tika\n",
    "\n",
    "import warnings\n",
    "warnings.filterwarnings(\"ignore\")"
   ]
  },
  {
   "cell_type": "markdown",
   "metadata": {},
   "source": [
    "## Data Preprocessing"
   ]
  },
  {
   "cell_type": "code",
   "execution_count": 4,
   "metadata": {},
   "outputs": [
    {
     "name": "stderr",
     "output_type": "stream",
     "text": [
      "Using TensorFlow backend.\n"
     ]
    }
   ],
   "source": [
    "from keras.preprocessing.text import Tokenizer\n",
    "from gensim.models import Word2Vec\n",
    "from sklearn.decomposition import PCA\n",
    "from matplotlib import pyplot"
   ]
  },
  {
   "cell_type": "code",
   "execution_count": 5,
   "metadata": {},
   "outputs": [
    {
     "data": {
      "text/plain": [
       "<module 'libraries.pdf2text' from '/Users/Polina/Google Drive/Uni/MASTER/SoSe 2019/Text, Web and Social Media Analytics/datascience_project/libraries/pdf2text.py'>"
      ]
     },
     "execution_count": 5,
     "metadata": {},
     "output_type": "execute_result"
    }
   ],
   "source": [
    "from importlib import reload\n",
    "reload(pdf2text)"
   ]
  },
  {
   "cell_type": "code",
   "execution_count": 7,
   "metadata": {},
   "outputs": [
    {
     "name": "stderr",
     "output_type": "stream",
     "text": [
      "2019-06-23 18:31:40,098 [MainThread  ] [INFO ]  Retrieving http://search.maven.org/remotecontent?filepath=org/apache/tika/tika-server/1.19/tika-server-1.19.jar to /var/folders/x4/3xn9_d5d6yg57jq706n4zyp80000gq/T/tika-server.jar.\n",
      "2019-06-23 18:32:18,347 [MainThread  ] [INFO ]  Retrieving http://search.maven.org/remotecontent?filepath=org/apache/tika/tika-server/1.19/tika-server-1.19.jar.md5 to /var/folders/x4/3xn9_d5d6yg57jq706n4zyp80000gq/T/tika-server.jar.md5.\n",
      "2019-06-23 18:32:18,961 [MainThread  ] [WARNI]  Failed to see startup log message; retrying...\n",
      "2019-06-23 18:32:37,452 [MainThread  ] [WARNI]  Tika server returned status: 415\n",
      "2019-06-23 18:32:40,985 [MainThread  ] [WARNI]  Tika server returned status: 422\n"
     ]
    }
   ],
   "source": [
    "dataset = pdf2text.get_dataset()"
   ]
  },
  {
   "cell_type": "code",
   "execution_count": 8,
   "metadata": {},
   "outputs": [
    {
     "data": {
      "text/plain": [
       "dict_keys(['0chain', 'opmarket', '1x2Coin', '1World', 'opbusiness', 'oceanprotocol'])"
      ]
     },
     "execution_count": 8,
     "metadata": {},
     "output_type": "execute_result"
    }
   ],
   "source": [
    "dataset.keys()"
   ]
  },
  {
   "cell_type": "code",
   "execution_count": 9,
   "metadata": {},
   "outputs": [
    {
     "data": {
      "text/plain": [
       "6"
      ]
     },
     "execution_count": 9,
     "metadata": {},
     "output_type": "execute_result"
    }
   ],
   "source": [
    "len(dataset)"
   ]
  },
  {
   "cell_type": "code",
   "execution_count": 10,
   "metadata": {},
   "outputs": [
    {
     "data": {
      "text/plain": [
       "'/Users/Polina/Google Drive/Uni/MASTER/SoSe 2019/Text, Web and Social Media Analytics/datascience_project/white-papers'"
      ]
     },
     "execution_count": 10,
     "metadata": {},
     "output_type": "execute_result"
    }
   ],
   "source": [
    "pdf2text.WHITE_PAPER_DIR"
   ]
  },
  {
   "cell_type": "code",
   "execution_count": 11,
   "metadata": {},
   "outputs": [
    {
     "name": "stdout",
     "output_type": "stream",
     "text": [
      "[nltk_data] Downloading package punkt to /Users/Polina/nltk_data...\n",
      "[nltk_data]   Package punkt is already up-to-date!\n",
      "[nltk_data] Downloading package stopwords to\n",
      "[nltk_data]     /Users/Polina/nltk_data...\n",
      "[nltk_data]   Package stopwords is already up-to-date!\n",
      "[nltk_data] Downloading package averaged_perceptron_tagger to\n",
      "[nltk_data]     /Users/Polina/nltk_data...\n",
      "[nltk_data]   Package averaged_perceptron_tagger is already up-to-\n",
      "[nltk_data]       date!\n",
      "[nltk_data] Downloading package wordnet to /Users/Polina/nltk_data...\n",
      "[nltk_data]   Package wordnet is already up-to-date!\n",
      "Cleaning: 0chain\n",
      "Cleaning: opmarket\n",
      "Cleaning: 1x2Coin\n",
      "Cleaning: 1World\n",
      "Cleaning: opbusiness\n",
      "Cleaning: oceanprotocol\n",
      "Done!\n"
     ]
    }
   ],
   "source": [
    "# Define if you want your corpus to be whole or divided in sentences\n",
    "makeSentences = False\n",
    "# Creates a dictionary with each White Paper and its text pre-processed\n",
    "corpora = corpus.makeCleanCorpus(dataset, lemmatize=False, removePunct=True, removeNums=True\n",
    "                                 ,makeSentences=makeSentences, removeURL=True, removeChar=True)\n",
    "\n"
   ]
  },
  {
   "cell_type": "markdown",
   "metadata": {},
   "source": [
    "## Corpus without labels"
   ]
  },
  {
   "cell_type": "code",
   "execution_count": 12,
   "metadata": {},
   "outputs": [],
   "source": [
    "keys = []\n",
    "\n",
    "for key in corpora.keys():\n",
    "    keys.append(key)"
   ]
  },
  {
   "cell_type": "code",
   "execution_count": 13,
   "metadata": {},
   "outputs": [],
   "source": [
    "only_text = []\n",
    "\n",
    "for key in keys:\n",
    "    only_text.append(corpora[key])"
   ]
  },
  {
   "cell_type": "markdown",
   "metadata": {},
   "source": [
    "## Spacy - Entity Detection"
   ]
  },
  {
   "cell_type": "code",
   "execution_count": 14,
   "metadata": {},
   "outputs": [
    {
     "name": "stdout",
     "output_type": "stream",
     "text": [
      "today DATE\n",
      "today DATE\n",
      "today DATE\n",
      "daily DATE\n",
      "first ORDINAL\n",
      "minutes TIME\n",
      "seconds TIME\n",
      "second ORDINAL\n",
      "billion CARDINAL\n",
      "today DATE\n",
      "two CARDINAL\n",
      "four years DATE\n",
      "today DATE\n",
      "today DATE\n",
      "first ORDINAL\n",
      "second ORDINAL\n",
      "second ORDINAL\n",
      "second ORDINAL\n",
      "two CARDINAL\n",
      "three CARDINAL\n",
      "today DATE\n",
      "second ORDINAL\n",
      "second ORDINAL\n",
      "today DATE\n",
      "today DATE\n",
      "first ORDINAL\n",
      "one CARDINAL\n",
      "long lines hours TIME\n",
      "one CARDINAL\n",
      "second ORDINAL\n",
      "two CARDINAL\n",
      "one CARDINAL\n",
      "artist million CARDINAL\n",
      "thousand CARDINAL\n",
      "three CARDINAL\n",
      "second ORDINAL\n",
      "one CARDINAL\n",
      "today DATE\n",
      "two CARDINAL\n",
      "one CARDINAL\n",
      "one CARDINAL\n",
      "two CARDINAL\n",
      "one CARDINAL\n",
      "one CARDINAL\n",
      "one CARDINAL\n",
      "years DATE\n",
      "first ORDINAL\n",
      "years DATE\n",
      "july DATE\n",
      "february DATE\n",
      "two CARDINAL\n",
      "first ORDINAL\n",
      "two CARDINAL\n",
      "two CARDINAL\n",
      "two CARDINAL\n",
      "two CARDINAL\n",
      "one CARDINAL\n",
      "two CARDINAL\n",
      "first ORDINAL\n",
      "two CARDINAL\n",
      "one CARDINAL\n"
     ]
    }
   ],
   "source": [
    "#Entity detection\n",
    "from spacy.lang.en import English\n",
    "import spacy\n",
    "\n",
    "nlp = spacy.load('en_core_web_sm')\n",
    "\n",
    "\n",
    "text = only_text[0]\n",
    "doc = nlp(text)\n",
    "\n",
    "for ent in doc.ents:\n",
    "    print(ent.text, ent.label_)\n"
   ]
  },
  {
   "cell_type": "markdown",
   "metadata": {},
   "source": [
    "## Word2Vec"
   ]
  },
  {
   "cell_type": "code",
   "execution_count": 15,
   "metadata": {},
   "outputs": [],
   "source": [
    "with open('text.txt', 'w') as f:\n",
    "    for i in range(6):\n",
    "        f.write(\"%s\\n\" % only_text[i])"
   ]
  },
  {
   "cell_type": "code",
   "execution_count": 16,
   "metadata": {},
   "outputs": [],
   "source": [
    "from gensim.models import Word2Vec\n",
    "from sklearn.decomposition import PCA\n",
    "from matplotlib import pyplot\n",
    "from gensim.models.word2vec import Text8Corpus"
   ]
  },
  {
   "cell_type": "code",
   "execution_count": 17,
   "metadata": {},
   "outputs": [],
   "source": [
    "model = Word2Vec(only_text, min_count = 2)"
   ]
  },
  {
   "cell_type": "code",
   "execution_count": 18,
   "metadata": {},
   "outputs": [],
   "source": [
    "X = model[model.wv.vocab]"
   ]
  },
  {
   "cell_type": "code",
   "execution_count": 19,
   "metadata": {},
   "outputs": [],
   "source": [
    "pca = PCA(n_components=4)\n",
    "result = pca.fit_transform(X)"
   ]
  },
  {
   "cell_type": "code",
   "execution_count": 20,
   "metadata": {},
   "outputs": [
    {
     "data": {
      "image/png": "[encoded data removed]",
      "text/plain": [
       "<Figure size 432x288 with 1 Axes>"
      ]
     },
     "metadata": {
      "needs_background": "light"
     },
     "output_type": "display_data"
    }
   ],
   "source": [
    "pyplot.scatter(result[:,0], result[:,1])\n",
    "words = list(model.wv.vocab)\n",
    "for i, word in enumerate(words):\n",
    "    pyplot.annotate(word, xy=(result[i,0], result[i,1]))\n",
    "pyplot.show()"
   ]
  },
  {
   "cell_type": "code",
   "execution_count": 21,
   "metadata": {},
   "outputs": [
    {
     "name": "stdout",
     "output_type": "stream",
     "text": [
      "<bound method WordEmbeddingsKeyedVectors.most_similar of <gensim.models.keyedvectors.Word2VecKeyedVectors object at 0x1a3a0d3630>>\n"
     ]
    }
   ],
   "source": [
    "w2v_model2 = Word2Vec(Text8Corpus('text.txt'), size =100, window=5, min_count=150, workers=2)\n",
    "print(w2v_model2.wv.most_similar)"
   ]
  },
  {
   "cell_type": "code",
   "execution_count": 22,
   "metadata": {},
   "outputs": [
    {
     "data": {
      "text/plain": [
       "[('network', 0.9997021555900574),\n",
       " ('ocean', 0.9996883869171143),\n",
       " ('data', 0.9996845722198486),\n",
       " ('service', 0.9996814727783203),\n",
       " ('tokens', 0.9990384578704834),\n",
       " ('world', 0.9985746145248413)]"
      ]
     },
     "execution_count": 22,
     "metadata": {},
     "output_type": "execute_result"
    }
   ],
   "source": [
    "w2v_model2.wv.most_similar(['protocol'])"
   ]
  },
  {
   "cell_type": "markdown",
   "metadata": {},
   "source": [
    "## Keras"
   ]
  },
  {
   "cell_type": "code",
   "execution_count": 23,
   "metadata": {},
   "outputs": [],
   "source": [
    "from keras.preprocessing.text import one_hot\n",
    "from keras.preprocessing.sequence import pad_sequences\n",
    "from keras.models import Sequential\n",
    "from keras.layers import Dense\n",
    "from keras.layers import Flatten\n",
    "from keras.layers.embeddings import Embedding"
   ]
  },
  {
   "cell_type": "code",
   "execution_count": 24,
   "metadata": {},
   "outputs": [],
   "source": [
    "# define documents\n",
    "docs = ['Well done!',\n",
    "        'Good work',\n",
    "        'Great effort',\n",
    "        'nice work',\n",
    "        'Excellent!',\n",
    "        'Weak',\n",
    "        'Poor effort!',\n",
    "        'not good',\n",
    "        'poor work',\n",
    "        'Could have done better.']"
   ]
  },
  {
   "cell_type": "code",
   "execution_count": 25,
   "metadata": {},
   "outputs": [
    {
     "name": "stdout",
     "output_type": "stream",
     "text": [
      "[[33, 41, 35, 33, 31, 19, 35, 36, 22, 15, 40, 43, 32, 31, 41, 18, 47, 17, 9, 3, 15, 24, 37, 2, 42, 46, 29, 33, 21, 10, 22, 43, 2, 8, 46, 43, 33, 14, 2, 48, 4, 33, 8, 14, 31, 31, 31, 13, 5, 31, 38, 13, 31, 32, 31, 9, 36, 19, 21, 19, 41, 33, 7, 19, 14, 31, 19, 31, 38, 13, 31, 19, 13, 5, 31, 2, 25, 13, 33, 24, 12, 25, 40, 43, 42, 46, 5, 46, 14, 20, 39, 22, 2, 19, 45, 31, 20, 25, 35, 47, 16, 38, 23, 38, 11, 28, 32, 38, 29, 30, 10, 35, 32, 49, 47, 8, 2, 26, 40, 43, 22, 47, 19, 23, 9, 41, 8, 46, 8, 46, 42, 31, 32, 26, 48, 30, 48, 12, 8, 21, 9, 37, 30, 2, 5, 19, 22, 44, 39, 23, 31, 15, 22, 36, 35, 42, 38, 43, 11, 28, 32, 23, 47, 30, 5, 47, 32, 23, 48, 20, 43, 4, 3, 22, 5, 18, 15, 20, 33, 28, 35, 26, 25, 24, 49, 46, 13, 12, 25, 15, 13, 47, 10, 35, 24, 38, 31, 24, 6, 25, 36, 5, 37, 19, 4, 43, 28, 39, 7, 26, 35, 40, 41, 31, 21, 19, 19, 7, 8, 21, 49, 7, 18, 7, 40, 48, 9, 24, 45, 4, 47, 36, 17, 30, 31, 2, 46, 21, 22, 4, 7, 22, 30, 33, 25, 4, 37, 21, 35, 25, 18, 40, 1, 1, 42, 32, 3, 11, 42, 26, 31, 7, 1, 10, 21, 4, 42, 20, 12, 27, 44, 40, 48, 10, 8, 40, 29, 2, 4, 42, 4, 42, 5, 22, 20, 29, 29, 39, 40, 1, 31, 8, 35, 29, 22, 45, 45, 33, 8, 4, 3, 46, 27, 22, 3, 28, 19, 35, 26, 19, 4, 40, 26, 38, 7, 40, 14, 31, 35, 30, 7, 30, 1, 40, 7, 26, 30, 22, 20, 8, 4, 1, 16, 25, 41, 45, 29, 4, 29, 2, 8, 18, 9, 49, 8, 46, 39, 38, 25, 39, 20, 42, 20, 49, 46, 4, 8, 47, 28, 5, 25, 44, 22, 47, 29, 44, 42, 22, 5, 25, 31, 26, 10, 22, 39, 30, 4, 20, 33, 42, 47, 39, 47, 45, 37, 38, 46, 35, 39, 12, 39, 38, 30, 34, 15, 40, 20, 46, 38, 27, 47, 33, 24, 38, 41, 20, 12, 26, 2, 26, 39, 20, 31, 7, 23, 20, 12, 38, 10, 31, 39, 37, 15, 39, 32, 31, 12, 20, 46, 4, 28, 14, 46, 9, 20, 12, 36, 38, 38, 40, 8, 45, 36, 46, 4, 36, 4, 27, 12, 31, 29, 12, 38, 43, 31, 47, 46, 30, 42, 43, 30, 25, 18, 33, 45, 28, 42, 22, 5, 22, 47, 35, 18, 36, 1, 25, 25, 43, 17, 19, 27, 17, 19, 14, 20, 22, 5, 8, 20, 44, 33, 45, 25, 43, 39, 38, 9, 20, 44, 38, 18, 25, 39, 38, 20, 9, 42, 31, 12, 20, 27, 34, 23, 20, 31, 47, 46, 4, 28, 14, 13, 39, 1, 23, 47, 20, 31, 46, 8, 33, 35, 31, 25, 39, 38, 37, 8, 39, 41, 30, 25, 10, 20, 44, 8, 28, 42, 5, 8, 46, 38, 39, 39, 38, 39, 6, 4, 19, 2, 10, 10, 24, 10, 36, 48, 13, 21, 24, 20, 21, 24, 44, 30, 20, 44, 30, 35, 12, 27, 11, 45, 27, 12, 1, 11, 38, 20, 39, 49, 47, 35, 47, 40, 41, 41, 39, 35, 47, 8, 46, 38, 39, 38, 18, 29, 19, 39, 14, 1, 48, 45, 38, 39, 12, 22, 21, 24, 44, 30, 40, 2, 48, 7, 23, 35, 41, 18, 39, 45, 35, 39, 3, 27, 11, 36, 15, 46, 1, 20, 49, 39, 47, 18, 10, 38, 8, 46, 32, 48, 42, 31, 11, 20, 41, 30, 10, 31, 36, 31, 48, 10, 7, 38, 26, 42, 45, 14, 2, 33, 1, 17, 48, 37, 33, 33, 11, 39, 40, 18, 39, 33, 32, 4, 31, 29, 31, 35, 30, 17, 42, 23, 8, 48, 34, 30, 26, 22, 29, 34, 30, 41, 45, 38, 40, 38, 44, 6, 22, 14, 38, 38, 35, 35, 19, 32, 34, 9, 38, 21, 16, 8, 31, 20, 24, 35, 49, 31, 2, 49, 38, 9, 32, 22, 47, 8, 41, 16, 21, 22, 47, 46, 20, 14, 45, 30, 36, 22, 3, 14, 31, 26, 31, 22, 24, 20, 16, 44, 31, 6, 47, 45, 6, 22, 47, 41, 21, 30, 34, 14, 3, 10, 33, 27, 33, 31, 19, 9, 3, 35, 34, 36, 25, 12, 33, 42, 3, 9, 30, 7, 30, 20, 28, 2, 2, 14, 43, 33, 43, 19, 4, 31, 17, 31, 22, 3, 39, 2, 33, 6, 4, 20, 14, 46, 42, 2, 9, 13, 8, 2, 8, 22, 2, 2, 31, 19, 10, 37, 22, 49, 9, 21, 14, 31, 4, 32, 28, 48, 42, 3, 43, 9, 32, 32, 21, 33, 2, 40, 42, 47, 39, 4, 31, 19, 36, 3, 30, 5, 25, 33, 14, 7, 19, 43, 48, 28, 45, 33, 36, 2, 3, 44, 49, 9, 23, 10, 9, 24, 48, 26, 9, 23, 10, 22, 9, 48, 31, 5, 20, 46, 44, 35, 37, 21, 44, 34, 43, 48, 35, 43, 15, 20, 43, 28, 4, 24, 35, 4, 23, 25, 4, 28, 4, 33, 32, 22, 48, 24, 32, 26, 23, 35, 4, 3, 19, 31, 2, 29, 25, 4, 49, 6, 13, 29, 47, 14, 14, 14, 14, 2, 26, 42, 48, 34, 2, 14, 16, 31, 47, 48, 32, 31, 41, 2, 14, 18, 48, 12, 2, 3, 46, 36, 43, 43, 39, 14, 20, 4, 26, 4, 33, 31, 16, 20, 4, 8, 4, 37, 19, 39, 49, 40, 45, 9, 39, 29, 17, 12, 48, 42, 42, 42, 26, 43, 16, 3, 27, 23, 34, 25, 6, 3, 34, 35, 25, 3, 27, 16, 31, 9, 39, 12, 27, 21, 19, 26, 25, 5, 2, 21, 21, 47, 45, 32, 47, 36, 21, 29, 7, 33, 7, 6, 7, 42, 4, 7, 42, 19, 16, 4, 41, 5, 4, 1, 1, 27, 4, 40, 1, 1, 4, 36, 4, 40, 42, 7, 1, 40, 1, 1, 32, 38, 4, 7, 31, 43, 45, 1, 4, 9, 4, 44, 42, 47, 21, 10, 42, 7, 47, 7, 42, 43, 47, 7, 46, 25, 43, 4, 47, 16, 47, 7, 42, 30, 4, 7, 10, 34, 47, 34, 10, 21, 24, 18, 46, 16, 37, 47, 47, 49, 24, 22, 4, 1, 22, 31, 18, 42, 3, 19, 35, 25, 4, 37, 2, 42, 7, 38, 4, 7, 47, 7, 42, 7, 4, 26, 25, 7, 34, 36, 46, 27, 30, 42, 33, 4, 24, 49, 3, 18, 30, 41, 4, 37, 12, 2, 26, 40, 17, 1, 4, 42, 7, 12, 10, 2, 4, 7, 2, 47, 7, 21, 32, 22, 12, 46, 31, 44, 26, 6, 29, 30, 31, 38, 15, 5, 49, 38, 5, 33, 2, 41, 4, 40, 1, 1, 28, 47, 31, 8, 11, 24, 42, 41, 49, 29, 46, 40, 1, 1, 47, 2, 46, 36, 18, 17, 26, 2, 17, 33, 2, 29, 8, 47, 25, 42, 34, 43, 3, 40, 11, 27, 25, 23, 33, 10, 5, 9, 29, 4, 3, 29, 13, 14, 14, 21, 42, 10, 22, 29, 32, 30, 26, 35, 40, 34, 31, 32, 22, 35, 48, 36, 29, 35, 45, 38, 33, 33, 27, 30, 28, 37, 15, 22, 31, 36, 47, 38, 49, 42, 37, 38, 11, 18, 20, 22, 29, 1, 40, 40, 49, 30, 23, 15, 4, 41, 12, 16, 26, 17, 28, 39, 13, 38, 12, 26, 45, 4, 33, 7, 27, 22, 18, 38, 26, 30, 34, 27, 1, 38, 17, 11, 49, 30, 7, 20, 28, 12, 47, 31, 42, 45, 14, 39, 7, 20, 28, 39, 12, 27, 2, 21, 9, 39, 8, 7, 20, 28, 12, 22, 33, 32, 31, 9, 34, 3, 20, 28, 12, 31, 3, 28, 16, 2, 31, 38, 32, 12, 14, 49, 8, 9, 30, 45, 21, 2, 32, 31, 17, 21, 30, 3, 2, 20, 28, 12, 45, 40, 32, 31, 33, 6, 8, 47, 31, 48, 18, 46, 7, 27, 1, 38, 37, 33, 48, 14, 48, 39, 35, 33, 41, 7, 27, 15, 21, 33, 28, 3, 27, 23, 44, 38, 28, 1, 45, 14, 31, 9, 30, 28, 12, 15, 35, 27, 41, 26, 35, 40, 22, 49, 25, 26, 15, 12, 18, 44, 15, 46, 20, 36, 9, 47, 29, 7, 12, 32, 26, 19, 25, 31, 45, 22, 31, 41, 9, 29, 16, 22, 39, 31, 22, 37, 16, 25, 47, 11, 2, 25, 30, 1, 13, 35, 1, 41, 43, 22, 30, 24, 31, 23, 18, 30, 6, 15, 31, 18, 49, 22, 29, 42, 9, 41, 47, 6, 23, 13, 41, 22, 11, 46, 8, 44, 23, 18, 19, 18, 12, 21, 22, 30, 49, 31, 7, 44, 25, 29, 10, 14, 18, 20, 37, 28, 7, 29, 9, 28, 34, 9, 34, 46, 31, 34, 38, 39, 18, 25, 7, 3, 16, 14, 23, 7, 47, 6, 43, 38, 33, 9, 22, 39, 31, 7, 9, 22, 41, 7, 30, 43, 39, 35, 36, 38, 45, 2, 3, 12, 2, 48, 34, 1, 21, 1, 5, 3, 16, 14, 14, 5, 49, 3, 49, 21, 16, 12, 16, 7, 31, 3, 33, 49, 38, 25, 6, 7, 30, 2, 14, 41, 9, 48, 14, 14, 48, 1, 45, 13, 17, 48, 20, 46, 35, 32, 31, 15, 31, 48, 30, 29, 47, 26, 23, 37, 42, 9, 29, 2, 48, 20, 26, 12, 32, 31, 2, 44, 23, 22, 19, 26, 5, 12, 27, 30, 30, 12, 27, 31, 23, 35, 19, 23, 41, 16, 43, 25, 7, 37, 4, 22, 26, 36, 26, 22, 16, 39, 30, 33, 9, 26, 4, 26, 28, 20, 7, 35, 31, 44, 36, 37, 26, 13, 47, 36, 22, 39, 47, 32, 26, 33, 36, 28, 32, 26, 12, 10, 32, 33, 4, 1, 20, 49, 5, 14, 40, 31, 13, 41, 37, 26, 26, 9, 32, 34, 32, 36, 10, 45, 40, 27, 31, 46, 7, 14, 3, 33, 19, 14, 17, 42, 33, 14, 48, 10, 19, 21, 27, 22, 18, 48, 20, 49, 29, 16, 38, 30, 26, 25, 20, 46, 5, 11, 2, 32, 9, 41, 33, 20, 13, 30, 5, 21, 48, 4, 5, 30, 21, 14, 48, 28, 14, 28, 48, 9, 42, 5, 30, 21, 26, 3, 16, 33, 28, 22, 42, 46, 44, 37, 38, 40, 48, 43, 39, 30, 15, 41, 20, 18, 9, 15, 30, 48, 41, 38, 15, 37, 22, 5, 49, 46, 28, 41, 38, 24, 15, 49, 15, 28, 41, 38, 24, 17, 15, 49, 19, 37, 40, 43, 15, 36, 19, 48, 36, 40, 20, 12, 33, 23, 33, 5, 37, 24, 38, 46, 36, 42, 43, 30, 48, 33, 18, 48, 24, 43, 48, 14, 20, 38, 48, 36, 41, 7, 18, 43, 37, 28, 39, 28, 44, 25, 5, 1, 34, 35, 11, 40, 42, 15, 7, 12, 29, 18, 14, 15, 37, 24, 49, 42, 17, 2, 18, 20, 19, 42, 26, 28, 36, 39, 37, 36, 12, 38, 12, 24, 27, 29, 18, 48, 31, 26, 2, 37, 22, 9, 21, 27, 48, 10, 45, 20, 14, 48, 10, 38, 37, 22, 16, 48, 43, 27, 11, 37, 36, 29, 40, 43, 14, 21, 25, 9, 30, 43, 28, 44, 32, 31, 5, 38, 28, 42, 38, 37, 40, 43, 14, 21, 42, 37, 31, 20, 49, 29, 32, 21, 30, 48, 28, 19, 49, 20, 46, 23, 35, 15, 1, 40, 3, 2, 40, 48, 14, 27, 40, 40, 23, 4, 43, 46, 38, 7, 20, 28, 39, 12, 20, 41, 7, 20, 28, 39, 12, 48, 42, 27, 19, 20, 28, 39, 12, 37, 11, 35, 43, 20, 37, 7, 30, 32, 40, 33, 32, 31, 7, 20, 28, 39, 12, 42, 18, 37, 14, 1, 40, 10, 7, 48, 30, 18, 23, 9, 27, 1, 38, 37, 27, 37, 48, 45, 26, 35, 15, 31, 36, 27, 11, 46, 14, 48, 39, 35, 21, 13, 21, 48, 33, 41, 38, 41, 27, 23, 21, 38, 45, 47, 48, 2, 44, 9, 43, 39, 12, 49, 40, 33, 29, 20, 18, 34, 16, 20, 48, 24, 42, 43, 23, 42, 31, 5, 4, 38, 47, 40, 33, 43, 27, 20, 49, 4, 16, 44, 48, 32, 41, 27, 3, 47, 12, 27, 17, 47, 48, 30, 35, 20, 46, 20, 47, 22, 30, 3, 9, 48, 21, 38, 31, 20, 49, 10, 35, 3, 2, 48, 2, 11, 44, 34, 14, 4, 4, 45, 4, 19, 25, 5, 28, 49, 25, 4, 14, 4, 46, 19, 14, 15, 19, 34, 12, 38, 17, 12, 7, 40, 7, 46, 24, 8, 19, 12, 16, 13, 8, 30, 1, 7, 16, 16, 6, 6, 9, 46, 9, 13, 8, 29, 47, 49, 29, 45, 9, 31, 2, 49, 25, 24, 28, 4, 14, 30, 14, 12, 33, 30, 32, 2, 49, 28, 7, 30, 25, 6, 12, 36, 40, 30, 29, 47, 12, 33, 4, 20, 14, 39, 4, 2, 19, 36, 14, 14, 33, 8, 8, 33, 8, 25, 2, 13, 31, 5, 30, 13, 42, 9, 5, 39, 26, 8, 21, 14, 37, 16, 13, 32, 4, 23, 16, 39, 29, 9, 9, 13, 35, 13, 36, 10, 21, 39, 33, 8, 14, 31, 2, 47, 31, 19, 35, 22, 47, 14, 31, 15, 20, 34, 34, 31, 42, 23, 33, 31, 29, 30, 9, 47, 10, 29, 33, 34, 29, 33, 7, 40, 36, 42, 38, 10, 8, 48, 7, 35, 30, 22, 37, 30, 1, 37, 26, 30, 20, 2, 20, 5, 4, 10, 18, 30, 29, 2, 1, 14, 19, 24, 46, 20, 32, 45, 19, 33, 33, 7, 34, 7, 42, 31, 18, 29, 19, 35, 20, 47, 42, 16, 31, 12, 6, 5, 22, 19, 35, 26, 42, 1, 27, 8, 45, 19, 8, 4, 8, 5, 44, 33, 14, 31, 35, 2, 40, 4, 37, 49, 2, 33, 43, 3, 49, 6, 31, 43, 30, 47, 43, 47, 18, 4, 38, 44, 33, 4, 1, 19, 33, 8, 31, 31, 5, 3, 20, 31, 47, 22, 31, 29, 4, 30, 22, 17, 31, 19, 44, 31, 32, 26, 26, 49, 41, 30, 22, 7, 34, 8, 22, 4, 39, 31, 40, 29, 22, 31, 8, 42, 31, 36, 20, 36, 22, 28, 42, 42, 31, 30, 13, 8, 45, 36, 22, 48, 31, 8, 12, 8, 4, 47, 47, 22, 33, 42, 33, 12, 4, 8, 46, 22, 21, 20, 49, 5, 46, 18, 28, 35, 42, 7, 31, 23, 26, 31, 8, 8, 33, 49, 11, 31, 9, 8, 21, 30, 33, 21, 29, 34, 22, 4, 5, 47, 17, 8, 24, 24, 42, 20, 29, 30, 8, 28, 44, 20, 7, 47, 5, 12, 44, 24, 33, 20, 49, 8, 25, 39, 49, 5, 19, 34, 20, 26, 1, 27, 22, 4, 2, 7, 32, 20, 20, 26, 34, 26, 34, 29, 5, 4, 31, 21, 18, 9, 32, 19, 36, 21, 41, 39, 31, 17, 8, 25, 18, 48, 27, 36, 4, 16, 3, 38, 33, 33, 8, 28, 4, 31, 28, 4, 31, 15, 16, 3, 36, 13, 40, 5, 26, 42, 21, 48, 40, 40, 22, 16, 47, 46, 2, 40, 29, 5, 36, 5, 36, 5, 13, 47, 16, 40, 24, 16, 5, 14, 7, 37, 27, 10, 26, 7, 32, 43, 16, 7, 24, 5, 24, 5, 45, 38, 16, 16, 40, 13, 47, 23, 16, 49, 7, 41, 13, 46, 31, 43, 31, 36, 17, 23, 38, 6, 9, 28, 4, 31, 35, 36, 38, 9, 13, 40, 38, 17, 14, 46, 1, 30, 13, 40, 19, 37, 13, 48, 27, 36, 4, 16, 3, 38, 33, 48, 27, 36, 4, 16, 3, 38, 33, 38, 13, 31, 20, 5, 12, 25, 38, 38, 7, 41, 39, 12, 42, 30, 15, 46, 4, 46, 25, 4, 47, 13, 8, 4, 31, 25, 31, 22, 39, 45, 15, 30, 40, 35, 8, 28, 22, 4, 42, 31, 23, 7, 28, 5, 19, 21, 12, 32, 47, 38, 22, 4, 38, 13, 31, 27, 11, 39, 12, 30, 4, 46, 36, 49, 31, 34, 9, 26, 24, 27, 23, 39, 30, 33, 8, 32, 31, 32, 31, 4, 41, 30, 25, 29, 26, 42, 24, 11, 19, 43, 20, 42, 31, 31, 41, 11, 14, 32, 14, 15, 42, 47, 33, 42, 14, 27, 31, 48, 14, 23, 26, 27, 31, 45, 21, 20, 33, 42, 34, 26, 5, 42, 20, 13, 48, 49, 20, 33, 12, 23, 29, 5, 12, 33, 38, 37, 39, 37, 26, 31, 38, 37, 31, 45, 10, 12, 20, 23, 46, 45, 34, 36, 1, 23, 30, 38, 37, 45, 39, 20, 5, 5, 26, 4, 34, 6, 34, 49, 30, 29, 31, 29, 28, 14, 9, 27, 34, 16, 6, 26, 9, 41, 49, 34, 24, 25, 18, 36, 26, 38, 25, 34, 16, 30, 1, 26, 6, 31, 16, 20, 25, 5, 5, 26, 34, 5, 3, 15, 34, 13, 26, 34, 37, 31, 3, 7, 30, 23, 41, 34, 34, 4, 30, 23, 15, 33, 41, 33, 23, 4, 23, 7, 32, 43, 16, 3, 30, 35, 3, 35, 15, 32, 49, 11, 44, 45, 31, 1, 28, 30, 35, 31, 7, 21, 9, 47, 9, 19, 42, 5, 37, 11, 6, 25, 9, 48, 35, 20, 39, 7, 11, 39, 38, 45, 20, 33, 21, 9, 44, 27, 25, 31, 9, 48, 14, 33, 33, 28, 49, 42, 3, 9, 14, 36, 36, 19, 21, 19, 21, 45, 36, 39, 22, 9, 16, 21, 47, 39, 36, 24, 37, 1, 17, 23, 26, 45, 2, 28, 9, 17, 45, 8, 22, 9, 9, 48, 4, 22, 19, 6, 5, 42, 42, 18, 41, 22, 12, 42, 23, 8, 34, 5, 36, 33, 28, 28, 23, 40, 16, 13, 33, 31, 38, 13, 9, 2, 22, 33, 46, 29, 1, 17, 29, 41, 45, 15, 39, 5, 30, 3, 49, 30, 23, 33, 30, 11, 33, 37, 24, 38, 31, 18, 36, 23, 25, 46, 21, 19, 37, 34, 5, 2, 33, 38, 28, 48, 20, 22, 14, 4, 40, 19, 41, 33, 7, 19, 41, 33, 7, 33, 14, 31, 35, 46, 23, 19, 4, 29, 1, 1, 35, 4, 46, 1, 1, 49, 26, 21, 34, 34, 4, 15, 44, 19, 38, 14, 20, 5, 5, 31, 43, 15, 37, 22, 17, 44, 18, 9, 31, 40, 8, 5, 33, 40, 5, 31, 5, 20, 24, 44, 48, 48, 7, 43, 42, 30, 12, 24, 38, 48, 24, 38, 25, 1, 47, 43, 13, 29, 25, 19, 41, 33, 7, 15, 21, 4, 28, 46, 1, 25, 47, 42, 13, 11, 1, 6, 13, 9, 19, 8, 1, 47, 35, 47, 32, 47, 6, 25, 26, 30, 36, 7, 4, 43, 17, 9, 47, 43, 13, 44, 9, 6, 43, 34, 17, 47, 43, 38, 29, 48, 4, 32, 1, 13, 43, 20, 30, 36, 7, 4, 33, 20, 19, 41, 33, 7, 15, 10, 20, 22, 43, 29, 43, 4, 1, 43, 4, 34, 6, 43, 4, 36, 43, 36, 39, 29, 43, 8, 46, 43, 41, 4, 41, 19, 5, 39, 7, 25, 25, 41, 7, 38, 5, 16, 4, 34, 6, 43, 40, 46, 5, 29, 22, 7, 18, 1, 36, 39, 9, 16, 4, 36, 38, 3, 4, 34, 6, 43, 46, 7, 47, 6, 43, 32, 45, 37, 38, 43, 7, 39, 8, 42, 7, 29, 21, 33, 1, 30, 30, 12, 10, 4, 34, 6, 43, 36, 44, 4, 16, 30, 30, 4, 43, 17, 25, 4, 43, 25, 48, 4, 34, 6, 43, 1, 29, 30, 4, 43, 17, 25, 20, 4, 34, 6, 43, 30, 34, 29, 30, 4, 43, 17, 25, 36, 29, 15, 29, 43, 4, 4, 43, 45, 4, 34, 6, 43, 36, 24, 46, 20, 45, 44, 28, 26, 21, 7, 10, 31, 21, 7, 33, 1, 37, 48, 7, 19, 41, 33, 7, 15, 10, 26, 30, 36, 7, 43, 35, 47, 43, 16, 31, 4, 7, 43, 13, 4, 43, 46, 8, 7, 44, 5, 10, 25, 30, 36, 4, 7, 43, 20, 34, 20, 31, 4, 7, 43, 7, 42, 20, 34, 7, 42, 31, 7, 7, 25, 1, 31, 3, 4, 1, 43, 36, 10, 47, 31, 4, 10, 16, 4, 43, 14, 28, 44, 6, 22, 35, 36, 39, 8, 6, 46, 2, 30, 4, 29, 4, 2, 43, 10, 28, 2, 43, 42, 10, 31, 5, 25, 45, 43, 13, 29, 15, 2, 46, 2, 5, 25, 20, 12, 20, 24, 19, 21, 7, 43, 19, 41, 33, 7, 1, 10, 31, 3, 4, 1, 43, 36, 10, 47, 31, 4, 10, 16, 4, 43, 14, 28, 44, 6, 22, 35, 36, 39, 8, 6, 46, 2, 30, 4, 29, 4, 2, 43, 10, 28, 2, 43, 42, 10, 31, 5, 25, 45, 43, 13, 29, 15, 2, 46, 2, 5, 25, 20, 12, 20, 24, 19, 21, 7, 43, 31, 8, 47, 4, 34, 6, 43, 6, 19, 6, 8, 10, 7, 6, 43, 10, 17, 30, 36, 4, 7, 13, 49, 4, 7, 40, 13, 21, 7, 29, 34, 9, 6, 43, 15, 4, 6, 43, 3, 10, 31, 7, 42, 7, 32, 31, 7, 43, 20, 34, 19, 41, 33, 7, 10, 38, 10, 19, 42, 10, 1, 13, 21, 7, 45, 2, 6, 4, 34, 6, 43, 30, 36, 7, 39, 46, 2, 2, 6, 43, 39, 39, 16, 29, 6, 43, 6, 43, 28, 24, 30, 6, 4, 28, 4, 35, 15, 6, 43, 32, 4, 34, 6, 43, 35, 6, 43, 10, 41, 36, 7, 1, 6, 43, 7, 26, 2, 46, 36, 19, 32, 27, 23, 10, 13, 43, 20, 6, 6, 43, 12, 40, 13, 1, 21, 7, 12, 44, 46, 40, 2, 6, 10, 19, 3, 3, 29, 4, 30, 43, 49, 7, 6, 43, 34, 18, 30, 36, 7, 16, 47, 38, 44, 7, 6, 43, 17, 20, 43, 47, 43, 13, 30, 36, 7, 34, 20, 16, 20, 7, 43, 47, 23, 49, 30, 36, 7, 49, 49, 34, 49, 13, 49, 4, 7, 2, 29, 7, 12, 2, 2, 43, 45, 25, 5, 13, 49, 7, 43, 41, 33, 6, 6, 2, 14, 13, 1, 21, 7, 2, 10, 6, 14, 30, 36, 7, 28, 2, 2, 38, 7, 27, 7, 23, 34, 21, 7, 1, 8, 6, 6, 30, 36, 7, 31, 16, 47, 4, 6, 34, 43, 10, 6, 38, 43, 6, 30, 25, 4, 43, 14, 30, 24, 4, 43, 16, 29, 48, 10, 6, 43, 32, 16, 47, 10, 6, 43, 2, 30, 36, 7, 8, 18, 45, 1, 44, 33, 16, 41, 44, 49, 5, 24, 2, 34, 19, 38, 4, 1, 36, 10, 41, 4, 43, 11, 15, 2, 46, 2, 33, 31, 30, 19, 38, 36, 11, 7, 43, 15, 46, 44, 31, 19, 19, 14, 31, 19, 14, 31, 19, 14, 31, 38, 40, 31, 19, 31, 38, 13, 31, 19, 31, 38, 13, 31, 19, 31, 38, 13, 31, 38, 40, 31, 19, 28, 31, 19, 28, 31, 38, 40, 31, 19, 28, 31], [36, 43, 30, 43, 4, 39, 43, 49, 28, 38, 49, 33, 18, 25, 8, 26, 5, 44, 9, 44, 35, 17, 20, 33, 8, 26, 27, 1, 20, 45, 20, 39, 30, 17, 31, 5, 31, 19, 10, 20, 16, 4, 30, 36, 43], [39, 21, 41, 10, 22, 43, 34, 11, 47, 23, 14, 33, 40, 23, 13, 10, 20, 43, 34, 11, 47, 23, 14, 33, 40, 23, 13, 10, 20, 43, 47, 25, 42, 9, 28, 30, 39, 18, 1, 21, 44, 23, 43, 9, 28, 35, 40, 42, 2, 30, 36, 16, 31, 42, 2, 6, 9, 1, 36, 32, 31, 7, 35, 9, 42, 2, 28, 12, 38, 2, 40, 12, 4, 12, 9, 28, 41, 18, 17, 25, 11, 29, 18, 1, 9, 28, 13, 48, 16, 41, 30, 39, 22, 48, 44, 5, 10, 43, 41, 26, 6, 2, 39, 48, 25, 23, 49, 16, 48, 44, 38, 48, 2, 15, 30, 10, 43, 20, 11, 41, 2, 30, 27, 49, 7, 48, 23, 41, 7, 31, 23, 32, 30, 13, 45, 22, 23, 41, 13, 36, 12, 5, 49, 34, 28, 45, 22, 30, 32, 20, 40, 24, 6, 25, 47, 39, 34, 30, 35, 45, 4, 40, 42, 48, 31, 48, 23, 12, 38, 10, 23, 40, 39, 23, 23, 22, 34, 39, 26, 31, 49, 23, 33, 4, 23, 23, 37, 42, 38, 23, 49, 46, 4, 33, 3, 34, 23, 8, 30, 41, 4, 3, 22, 10, 40, 38, 46, 40, 45, 33, 47, 26, 31, 23, 49, 3, 4, 30, 29, 7, 25, 11, 23, 42, 47, 30, 27, 42, 2, 43, 47, 5, 42, 7, 30, 31, 11, 33, 22, 10, 13, 36, 7, 17, 47, 16, 10, 40, 9, 14, 15, 5, 5, 44, 24, 40, 14, 49, 42, 20, 22, 4, 31, 49, 24, 33, 22, 39, 16, 37, 21, 23, 4, 9, 11, 22, 26, 41, 42, 6, 42, 49, 7, 4, 40, 40, 42, 26, 48, 9, 40, 25, 29, 42, 14, 21, 7, 4, 26, 31, 17, 33, 4, 46, 13, 26, 27, 5, 49, 46, 36, 7, 28, 37, 23, 11, 39, 48, 42, 7, 28, 28, 14, 15, 22, 48, 22, 42, 26, 31, 22, 9, 18, 9, 35, 16, 47, 22, 14, 42, 45, 31, 19, 30, 48, 47, 4, 16, 30, 18, 21, 42, 9, 30, 43, 2, 49, 23, 16, 41, 3, 26, 19, 26, 19, 12, 4, 26, 47, 29, 15, 13, 15, 16, 18, 4, 4, 47, 2, 30, 26, 19, 19, 33, 7, 9, 42, 27, 22, 39, 6, 28, 25, 35, 7, 37, 25, 36, 4, 4, 41, 12, 47, 8, 42, 31, 14, 23, 4, 8, 2, 47, 42, 33, 32, 34, 42, 1, 25, 42, 26, 23, 3, 35, 47, 26, 47, 4, 10, 47, 32, 8, 48, 35, 36, 6, 42, 21, 27, 42, 13, 18, 18, 4, 12, 28, 22, 22, 27, 24, 20, 33, 29, 23, 36, 47, 23, 49, 19, 19, 47, 26, 29, 37, 42, 24, 4, 38, 41, 7, 42, 23, 4, 44, 41, 23, 11, 22, 34, 42, 7, 4, 23, 29, 37, 6, 18, 48, 40, 22, 23, 14, 23, 31, 23, 10, 8, 5, 22, 47, 39, 33, 36, 42, 26, 22, 18, 22, 13, 5, 13, 4, 13, 4, 43, 33, 13, 10, 4, 24, 4, 13, 2, 13, 26, 13, 2, 13, 26, 13, 6, 4, 13, 49, 10, 23, 22, 40, 11, 24, 2, 42, 4, 24, 4, 13, 2, 13, 26, 13, 2, 13, 26, 13, 33, 40, 23, 33, 23, 42, 47, 39, 16, 40, 44, 42, 10, 10, 48, 23, 48, 24, 4, 48, 36, 31, 42, 23, 10, 30, 46, 9, 29, 46, 2, 9, 12, 29, 33, 21, 40, 19, 15, 12, 15, 27, 6, 10, 7, 41, 34, 20, 40, 47, 26, 21, 10, 17, 26, 21, 16, 10, 44, 43, 9, 41, 43, 2, 32, 43, 20, 14, 30, 20, 38, 23, 48, 2, 47, 11, 4, 46, 28, 28, 31, 43, 38, 43, 24, 27, 15, 15, 20, 38, 48, 20, 38, 31, 46, 46, 13, 43, 2, 22, 46, 24, 46, 7, 46, 29, 22, 46, 34, 44, 20, 42, 45, 17, 46, 38, 22, 36, 30, 16, 32, 27, 48, 7, 48, 33, 30, 28, 42, 36, 28, 20, 16, 47, 6, 47, 6, 15, 19, 20, 41, 47, 29, 1, 6, 28, 47, 1, 17, 1, 6, 2, 49, 2, 16, 48, 8, 15, 30, 47, 48, 41, 39, 22, 42, 46, 29, 33, 22, 20, 37, 9, 49, 20], [22, 32, 25, 31, 18, 26, 43, 6, 23, 38, 49, 38, 46, 37, 18, 39, 21, 22, 44, 23, 20, 16, 1, 39, 15, 14, 25, 44, 7, 47, 21, 49, 38, 46, 30, 35, 6, 15, 13, 31, 42, 28, 9, 23, 12, 8, 31, 18, 1, 20, 7, 9, 15, 5, 22, 3, 19, 29, 5, 28, 29, 2, 45, 40, 6, 29, 9, 43, 9, 45, 26, 5, 49, 45, 38, 7, 28, 23, 3, 33, 48, 29, 27, 2, 31, 2, 43, 36, 41, 45, 2, 43, 12, 2, 2, 43, 45, 49, 38, 14, 31, 23, 38, 30, 24, 9, 31, 18, 2, 49, 22, 6, 48, 24, 23, 38, 35, 49, 41, 2, 49, 1, 49, 2, 49, 34, 31, 3, 9, 2, 27, 35, 9, 48, 22, 49, 15, 22, 44, 3, 30, 30, 48, 21, 11, 37, 7, 23, 30, 21, 23, 30, 21, 15, 33, 22, 33, 39, 23, 31, 7, 42, 1, 25, 16, 30, 1, 30, 41, 23, 30, 19, 16, 31, 18, 24, 10, 18, 21, 23, 38, 21, 11, 37, 23, 43, 43, 9, 25, 30, 32, 26, 32, 2, 20, 7, 12, 27, 35, 32, 19, 13, 21, 11, 37, 23, 6, 31, 29, 37, 18, 2, 26, 22, 25, 12, 41, 2, 10, 19, 16, 31, 18, 1, 19, 16, 21, 40, 1, 15, 42, 43, 41, 31, 30, 31, 17, 39, 22, 13, 21, 49, 7, 21, 4, 14, 16, 41, 2, 35, 30, 47, 8, 2, 16, 30, 45, 2, 20, 49, 36, 43, 28, 36, 20, 7, 17, 46, 45, 43, 19, 1, 47, 21, 46, 45, 20, 49, 28, 29, 49, 40, 20, 8, 41, 4, 1, 49, 11, 20, 43, 4, 47, 23, 42, 12, 2, 49, 13, 1, 21, 17, 1, 20, 28, 48, 30, 26, 46, 10, 12, 8, 37, 7, 35, 43, 46, 33, 17, 7, 23, 26, 30, 46, 10, 40, 9, 37, 47, 46, 48, 40, 31, 46, 34, 40, 43, 19, 31, 41, 46, 17, 21, 40, 12, 7, 10, 22, 22, 32, 42, 10, 22, 43, 43, 4, 26, 37, 43, 2, 29, 43, 26, 30, 36, 30, 43, 35, 9, 42, 32, 43, 47, 12, 33, 31, 12, 33, 49, 12, 33, 46, 12, 33, 22, 43, 11, 43, 24, 47, 26, 43, 4, 49, 12, 33, 43, 38, 27, 43, 38, 15, 5, 39, 38, 7, 13, 38, 49, 22, 38, 49, 21, 12, 26, 22, 30, 30, 42, 40, 42, 18, 40, 46, 36, 4, 29, 36, 19, 39, 9, 37, 18, 30, 49, 12, 33, 23, 12, 26, 19, 18, 29, 14, 24, 23, 12, 26, 18, 18, 23, 12, 31, 8, 42, 40, 30, 40, 43, 13, 47, 43, 49, 34, 30, 34, 46, 20, 43, 14, 24, 43, 22, 38, 21, 41, 46, 24, 33, 38, 20, 29, 41, 2, 42, 27, 44, 27, 43, 21, 43, 10, 21, 43, 41, 46, 21, 43, 42, 46, 21, 43, 47, 26, 21, 43, 29, 21, 43, 30, 27, 30, 21, 43, 21, 21, 43, 27, 36, 43, 45, 31, 18, 30, 17, 33, 9, 39, 46, 39, 33, 20, 18, 40, 14, 42, 14, 23, 22, 33, 22, 46, 29, 38, 48, 1, 45, 49, 26, 3, 41, 43, 9, 23, 21, 25, 23, 38, 33, 48, 32, 43, 6, 37, 26, 38, 9, 35, 30, 34, 48, 17, 33, 14, 31, 41, 6, 46, 17, 31, 39, 48, 39, 30, 39, 42, 16, 17, 47, 34, 46, 48, 34, 30, 9, 31, 2, 41, 46, 34, 39, 23, 34, 49, 20, 9, 21, 40, 20, 46, 33, 38, 23, 46, 49, 34, 37, 34, 42, 3, 2, 2, 13, 25, 30, 22, 23, 22, 42, 36, 17, 42, 36, 9, 49, 41, 44, 12, 6, 10, 17, 10, 46, 41, 15, 38, 35, 7, 31, 26, 3, 28, 41, 24, 18, 33, 47, 21, 38, 31, 45, 41, 19, 13, 36, 3, 2, 31, 33, 47, 37, 44, 45, 14, 19, 6, 31, 19, 6, 23, 21, 30, 44, 44, 20, 15, 46, 4, 14, 28, 43, 4, 9, 30, 29, 40, 31, 26, 14, 31, 21, 41, 30, 18, 30, 35, 33, 16, 41, 49, 2, 16, 23, 48, 23, 9, 46, 48, 7, 33, 38, 26, 11, 31, 14, 35, 14, 37, 14, 14, 32, 24, 44, 47, 36, 30, 20, 40, 21, 32, 31, 6, 10, 6, 31, 16, 47, 49, 25, 22, 41, 37, 47, 30, 41, 46, 17, 2, 47, 49, 34, 2, 40, 17, 13, 36, 13, 46, 49, 46, 30, 20, 48, 26, 16, 10, 41, 28, 12, 41, 19, 17, 15, 13, 26, 37, 31, 2, 19, 27, 22, 47, 30, 26, 43, 22, 41, 44, 2, 28, 36, 1, 4, 30, 5, 35, 17, 13, 35, 41, 16, 33, 1, 46, 8, 11, 1, 20, 36, 15, 21, 23, 44, 21, 31, 30, 21, 27, 23, 32, 3, 43, 28, 4, 43, 27, 31, 14, 31, 35, 30, 40, 40, 12, 40, 46, 32, 35, 46, 29, 44, 34, 12, 7, 1, 40, 27, 34, 26, 49, 46, 21, 34, 43, 31, 17, 49, 4, 29, 16, 11, 16, 43, 23, 43, 23, 12, 30, 21, 43, 48, 9, 2, 17, 31, 29, 13, 30, 36, 20, 42, 30, 21, 4, 20, 39, 16, 4, 12, 45, 27, 44, 32, 49, 11, 30, 16, 29, 33, 28, 26, 39, 1, 49, 13, 31, 7, 32, 17, 14, 7, 3, 12, 14, 9, 27, 33, 12, 12, 37, 7, 11, 11, 28, 23, 33, 1, 6, 30, 32, 21, 25, 17, 26, 16, 45, 43, 4, 26, 43, 6, 33, 38, 42, 19, 27, 34, 5, 15, 16, 43, 32, 42, 35, 31, 35, 6, 37, 41, 49, 7, 17, 21, 16, 43, 41, 2, 2, 17, 15, 21, 28, 16, 28, 26, 40, 18, 7, 11, 21, 39, 20, 49, 32, 49, 7, 38, 4, 21, 30, 13, 46, 20, 6, 46, 30, 44, 37, 10, 43, 40, 11, 33, 4, 31, 7, 28, 35, 40, 20, 19, 36, 42, 30, 26, 27, 15, 15, 3, 49, 4, 46, 41, 8, 7, 37, 8, 42, 30, 28, 35, 45, 44, 43, 49, 31, 29, 44, 9, 37, 35, 11, 21, 20, 45, 21, 32, 11, 9, 17, 12, 2, 45, 24, 36, 6, 39, 29, 31, 20, 21, 5, 13, 46, 8, 26, 38, 48, 21, 9, 31, 30, 21, 6, 41, 29, 18, 43, 15, 38, 34, 11, 2, 30, 36, 43, 36, 29, 44, 7, 19, 28, 35, 37, 36, 4, 26, 49, 3, 17, 1, 7, 18, 9, 12, 27, 26, 42, 42, 37, 35, 42, 19, 28, 37, 43, 2, 29, 16, 13, 43, 16, 34, 49, 17, 41, 31, 15, 30, 49, 36, 36, 8, 4, 21, 30, 44, 43, 45, 30, 4, 31, 21, 43, 49, 41, 49, 48, 13, 2, 35, 30, 15, 25, 41, 1, 49, 7, 21, 4, 14, 36, 17, 41, 2, 29, 30, 31, 17, 46, 26, 26, 31, 13, 49, 42, 18, 49, 43, 29, 19, 9, 37, 16, 43, 42, 41, 2, 8, 45, 46, 19, 21, 14, 30, 37, 39, 9, 28, 39, 44, 7, 36, 20, 46, 26, 48, 47, 2, 35, 43, 8, 15, 19, 20, 31, 8, 49, 20, 44, 22, 44, 31, 36, 47, 43, 7, 23, 37, 7, 14, 31, 32, 16, 49, 8, 28, 37, 43, 40, 27, 15, 7, 38, 27, 2, 6, 20, 48, 29, 9, 11, 26, 23, 37, 8, 12, 17, 37, 31, 43, 26, 43, 40, 14, 46, 49, 29, 36, 30, 31, 43, 35, 7, 49, 32, 42, 30, 5, 2, 34, 41, 13, 1, 33, 46, 48, 12, 6, 32, 48, 21, 46, 35, 40, 43, 31, 27, 27, 15, 30, 31, 48, 47, 45, 44, 40, 7, 17, 49, 48, 32, 13, 36, 1, 25, 38, 48, 32, 42, 35, 1, 27, 44, 47, 23, 42, 41, 45, 8, 43, 4, 45, 10, 27, 15, 7, 23, 37, 12, 7, 6, 1, 30, 36, 30, 8, 16, 46, 42, 41, 18, 35, 44, 7, 18, 45, 36, 26, 48, 31, 39, 46, 20, 41, 18, 7, 28, 3, 19, 28, 14, 29, 1, 28, 19, 7, 20, 28, 34, 19, 21, 9, 29, 27, 13, 24, 27, 21, 20, 49, 43, 29, 31, 10, 15, 15, 38, 27, 45, 20, 46, 36, 16, 46, 4, 22, 12, 36, 6, 46, 27, 30, 30, 30, 16, 29, 10, 47, 45, 20, 40, 43, 35, 9, 42, 32, 43, 42, 25, 32, 13, 16, 7, 40, 7, 27, 16, 43, 39, 33, 38, 28, 23, 43, 32, 1, 28, 32, 20, 22, 40, 11, 40, 28, 10, 2, 7, 32, 16, 27, 13, 42, 29, 28, 7, 1, 27, 43, 5, 32, 43, 39, 43, 47, 28, 13, 8, 37, 7, 15, 38, 25, 11, 25, 7, 11, 20, 49, 47, 41, 25, 21, 10, 8, 8, 47, 44, 8, 41, 25, 21, 41, 20, 22, 4, 41, 25, 21, 25, 7, 9, 10, 16, 41, 25, 21, 41, 22, 43, 35, 8, 10, 41, 25, 21, 24, 21, 42, 1, 27, 27, 41, 25, 21, 37, 17, 9, 21, 32, 16, 25, 33, 10, 1, 24, 21, 47, 10, 11, 27, 10, 2, 16, 46, 10, 1, 46, 35, 19, 43, 31, 20, 41, 45, 9, 48, 20, 21, 47, 27, 10, 12, 18, 36, 43, 33, 21, 20, 35, 26, 35, 8, 19, 12, 38, 14, 8, 30, 26, 36, 3, 19, 43, 25, 32, 16, 44, 8, 29, 13, 35, 15, 31, 13, 42, 7, 11, 21, 9, 25, 37, 49, 30, 43, 47, 1, 44, 11, 44, 32, 17, 41, 30, 35, 30, 20, 10, 21, 49, 41, 19, 2, 4, 39, 13, 37, 38, 10, 8, 8, 47, 44, 8, 25, 33, 47, 21, 49, 41, 44, 15, 5, 8, 1, 48, 8, 20, 30, 25, 7, 11, 20, 49, 47, 25, 27, 4, 20, 49, 43, 14, 7, 35, 19, 19, 35, 13, 21, 38, 41, 7, 37, 41, 1, 48, 19, 26, 19, 43, 43, 36, 30, 17, 16, 44, 37, 13, 7, 5, 9, 19, 13, 36, 9, 24, 9, 16, 12, 20, 35, 47, 43, 35, 7, 14, 7, 6, 21, 21, 22, 7, 22, 3, 3, 8, 29, 23, 15, 43, 5, 6, 8, 17, 17, 29, 13, 37, 48, 32, 41, 21, 25, 42, 24, 34, 20, 47, 22, 43, 21, 47, 21, 49, 30, 7, 35, 46, 35, 8, 16, 19, 41, 1, 44, 1, 19, 35, 43, 20, 5, 25, 10, 7, 14, 9, 48, 20, 21, 47, 21, 5, 6, 41, 38, 2, 21, 2, 16, 29, 13, 25, 1, 49, 5, 35, 7, 31, 21, 36, 6, 35, 30, 20, 38, 16, 13, 18, 37, 37, 10, 44, 19, 28, 6, 10, 43, 3, 15, 3, 33, 4, 2, 31, 34, 10, 44, 21, 49, 32, 20, 25, 20, 49, 42, 41, 42, 5, 3, 5, 11, 10, 6, 37, 1, 47, 25, 22, 36, 13, 6, 26, 19, 23, 44, 23, 43, 9, 6, 30, 30, 46, 34, 1, 23, 49, 6, 13, 18, 7, 46, 26, 37, 25, 42, 37, 36, 31, 37, 30, 6, 17, 31, 44, 19, 17, 2, 6, 40, 30, 23, 15, 35, 30, 19, 49, 13, 18, 10, 32, 35, 22, 2, 38, 42, 33, 43, 47, 12, 33, 43, 6, 23, 47, 28, 23, 40, 38, 23, 38, 40, 47, 4, 9, 24, 43, 6, 41, 21, 31, 7, 9, 24, 8, 40, 23, 12, 29, 22, 23, 12, 32, 30, 28, 5, 48, 6, 41, 23, 29, 23, 42, 6, 39, 27, 23, 28, 7, 48, 12, 47, 21, 28, 23, 37, 38, 1, 26, 29, 26, 33, 40, 9, 24, 29, 25, 13, 11, 45, 23, 38, 46, 30, 12, 24, 13, 9, 4, 20, 12, 45, 25, 31, 13, 40, 12, 36, 30, 43, 6, 24, 38, 6, 12, 33, 41, 21, 1, 21, 31, 30, 21, 31, 12, 33, 18, 26, 7, 29, 12, 17, 24, 35, 46, 28, 17, 38, 28, 24, 29, 21, 43, 31, 15, 1, 49, 27, 48, 21, 46, 6, 38, 39, 22, 35, 24, 31, 23, 12, 3, 46, 37, 27, 4, 15, 12, 25, 12, 26, 26, 9, 43, 47, 12, 9, 26, 10, 17, 11, 12, 23, 42, 39, 15, 17, 24, 37, 37, 38, 7, 32, 31, 31, 41, 19, 4, 7, 9, 37, 31, 41, 34, 32, 28, 15, 26, 43, 34, 39, 7, 35, 23, 46, 17, 19, 49, 26, 12, 23, 42, 41, 17, 16, 36, 20, 49, 39, 49, 40, 43, 19, 13, 4, 40, 15, 41, 16, 27, 6, 14, 23, 42, 6, 30, 43, 12, 48, 40, 36, 45, 21, 43, 46, 12, 14, 45, 46, 5, 25, 23, 42, 12, 47, 35, 23, 22, 43, 23, 12, 36, 16, 10, 43, 18, 5, 7, 21, 47, 21, 11, 14, 10, 24, 12, 14, 14, 30, 32, 43, 6, 34, 9, 7, 43, 33, 4, 42, 31, 2, 43, 7, 43, 21, 17, 38, 15, 15, 40, 41, 26, 8, 31, 3, 2, 20, 34, 32, 15, 10, 47, 49, 12, 33, 30, 39, 43, 12, 42, 42, 38, 2, 33, 36, 42, 45, 12, 2, 5, 22, 39, 31, 29, 18, 12, 8, 48, 47, 7, 18, 44, 30, 49, 12, 42, 26, 40, 43, 39, 30, 31, 43, 35, 9, 34, 40, 30, 11, 49, 48, 5, 12, 43, 31, 49, 46, 13, 45, 5, 28, 43, 7, 31, 19, 43, 9, 37, 19, 1, 41, 2, 6, 20, 16, 17, 42, 46, 12, 33, 21, 37, 35, 41, 49, 43, 12, 42, 32, 41, 22, 42, 38, 33, 36, 20, 21, 23, 12, 3, 36, 48, 39, 43, 4, 30, 15, 11, 14, 19, 14, 29, 28, 4, 23, 48, 14, 12, 2, 8, 47, 42, 18, 9, 34, 38, 22, 43, 47, 41, 31, 32, 31, 10, 29, 12, 32, 48, 28, 12, 24, 7, 25, 40, 35, 7, 28, 22, 12, 17, 47, 22, 22, 12, 30, 30, 48, 43, 20, 4, 31, 28, 41, 12, 20, 29, 18, 22, 19, 38, 8, 12, 6, 48, 34, 1, 6, 33, 35, 42, 12, 43, 31, 48, 34, 47, 38, 48, 9, 30, 48, 41, 34, 31, 12, 48, 32, 49, 43, 42, 46, 18, 20, 42, 43, 48, 24, 3, 9, 37, 49, 44, 16, 12, 38, 48, 9, 48, 25, 20, 31, 12, 6, 22, 10, 19, 33, 32, 48, 28, 48, 26, 36, 2, 4, 14, 37, 12, 18, 38, 22, 19, 8, 43, 42, 8, 12, 33, 18, 12, 18, 49, 10, 22, 44, 39, 45, 30, 6, 20, 38, 38, 31, 33, 21, 49, 1, 12, 17, 15, 47, 25, 40, 49, 26, 38, 22, 19, 48, 30, 11, 34, 17, 1, 46, 12, 20, 4, 33, 18, 6, 12, 31, 20, 30, 36, 33, 43, 45, 47, 38, 7, 22, 38, 31, 23, 35, 39, 4, 43, 6, 48, 24, 22, 9, 1, 43, 31, 21, 12, 22, 33, 10, 16, 11, 29, 48, 45, 31, 47, 16, 43, 29, 21, 8, 28, 32, 47, 14, 19, 35, 9, 30, 9, 25, 9, 13, 29, 42, 41, 21, 22, 35, 14, 28, 14, 10, 3, 7, 21, 10, 31, 9, 26, 9, 30, 31, 46, 16, 22, 48, 7, 41, 33, 47, 19, 17, 43, 39, 31, 7, 43, 29, 7, 47, 30, 6, 1, 42, 13, 46, 7, 26, 46, 47, 12, 35, 32, 36, 34, 20, 35, 24, 1, 14, 6, 12, 22, 30, 30, 26, 43, 24, 43, 9, 34, 42, 26, 18, 14, 13, 31, 13, 13, 30, 19, 26, 30, 29, 12, 20, 14, 43, 29, 46, 17, 8, 26, 49, 41, 17, 26, 9, 35, 9, 34, 48, 38, 35, 21, 9, 37, 14, 35, 31, 13, 49, 35, 24, 19, 10, 32, 21, 43, 31, 31, 46, 12, 31, 26, 22, 20, 46, 28, 9, 34, 32, 25, 41, 1, 7, 27, 12, 33, 43, 11, 43, 32, 11, 29, 31, 16, 44, 16, 7, 26, 25, 49, 46, 30, 37, 2, 49, 17, 36, 12, 20, 46, 8, 40, 45, 7, 49, 4, 49, 20, 4, 30, 20, 22, 13, 21, 30, 26, 8, 30, 35, 46, 27, 46, 7, 38, 40, 43, 19, 43, 24, 47, 26, 43, 22, 1, 47, 30, 16, 43, 4, 43, 4, 7, 27, 26, 4, 29, 18, 12, 30, 43, 24, 49, 12, 33, 38, 43, 16, 20, 15, 35, 20, 5, 46, 14, 9, 47, 19, 23, 16, 1, 29, 18, 24, 33, 21, 49, 23, 12, 36, 20, 14, 38, 27, 22, 43, 35, 43, 38, 27, 43, 6, 10, 23, 12, 8, 38, 49, 38, 10, 33, 29, 23, 12, 24, 39, 7, 43, 49, 39, 9, 47, 49, 15, 29, 12, 1, 38, 15, 33, 48, 12, 21, 24, 35, 38, 35, 39, 38, 22, 49, 12, 5, 11, 14, 38, 20, 15, 36, 13, 15, 23, 9, 18, 39, 44, 14, 38, 27, 15, 22, 42, 24, 35, 47, 14, 1, 36, 40, 15, 5, 48, 13, 35, 24, 35, 24, 8, 24, 24, 8, 24, 24, 8, 24, 24, 8, 24, 45, 10, 48, 18, 35, 45, 35, 24, 39, 13, 35, 45, 35, 24, 39, 18, 35, 4, 35, 24, 38, 15, 35, 4, 35, 24, 43, 38, 15, 39, 16, 38, 24, 2, 10, 38, 37, 22, 30, 27, 38, 37, 21, 24, 13, 3, 38, 20, 46, 47, 25, 43, 12, 2, 23, 43, 23, 12, 38, 5, 35, 39, 38, 22, 48, 17, 2, 43, 26, 21, 30, 16, 10, 39, 9, 49, 26, 10, 12, 27, 42, 21, 16, 30, 47, 47, 43, 39, 3, 5, 27, 22, 25, 35, 47, 23, 30, 22, 7, 12, 42, 13, 5, 43, 6, 38, 16, 38, 49, 12, 39, 38, 9, 38, 39, 37, 48, 12, 48, 20, 10, 48, 22, 48, 21, 24, 8, 38, 39, 9, 44, 4, 29, 38, 21, 47, 29, 42, 45, 13, 48, 42, 46, 9, 12, 26, 24, 2, 30, 20, 30, 27, 26, 49, 40, 13, 26, 1, 18, 5, 13, 21, 39, 48, 40, 7, 47, 43, 6, 34, 12, 10, 25, 24, 23, 12, 1, 49, 30, 12, 49, 11, 12, 26, 38, 25, 45, 43, 27, 43, 20, 11, 41, 19, 42, 49, 9, 7, 30, 40, 26, 5, 35, 29, 11, 31, 29, 40, 38, 45, 48, 17, 11, 7, 7, 13, 38, 16, 28, 26, 47, 2, 10, 26, 30, 7, 26, 3, 39, 33, 37, 47, 6, 24, 22, 47, 42, 24, 4, 35, 36, 37, 26, 48, 38, 31, 23, 12, 5, 30, 15, 21, 16, 38, 5, 38, 24, 15, 5, 15, 26, 42, 25, 20, 4, 46, 27, 23, 30, 36, 23, 12, 38, 41, 19, 42, 23, 22, 27, 47, 36, 6, 15, 23, 12, 6, 20, 35, 43, 36, 20, 35, 43, 42, 7, 26, 31, 46, 12, 28, 22, 22, 19, 31, 43, 38, 41, 37, 19, 42, 42, 34, 13, 23, 38, 10, 26, 3, 14, 34, 42, 23, 37, 30, 29, 23, 12, 14, 42, 13, 23, 38, 48, 5, 31, 10, 48, 12, 49, 41, 4, 47, 35, 31, 23, 12, 23, 12, 25, 35, 43, 41, 33, 23, 38, 10, 35, 22, 35, 14, 35, 5, 21, 47, 7, 22, 15, 30, 12, 38, 41, 27, 21, 23, 12, 29, 23, 16, 25, 37, 19, 47, 38, 49, 22, 23, 38, 10, 33, 27, 29, 41, 15, 5, 23, 38, 14, 23, 12, 37, 20, 37, 16, 27, 23, 38, 46, 23, 43, 5, 23, 12, 2, 47, 4, 11, 42, 49, 20, 22, 15, 5, 26, 43, 23, 38, 10, 39, 10, 14, 5, 31, 22, 36, 38, 21, 7, 19, 5, 18, 31, 22, 7, 14, 5, 1, 20, 38, 49, 21, 23, 12, 49, 31, 21, 12, 23, 21, 2, 10, 8, 38, 43, 26, 21, 24, 5, 39, 45, 13, 3, 47, 43, 11, 33, 20, 42, 3, 37, 42, 27, 39, 2, 31, 18, 49, 38, 1, 12, 26, 43, 27, 38, 12, 26, 44, 39, 2, 10, 26, 41, 21, 46, 27, 1, 20, 25, 22, 29, 42, 49, 22, 42, 46, 15, 42, 36, 47, 47, 43, 11, 33, 20, 42, 3, 37, 42, 46, 1, 30, 47, 11, 26, 46, 42, 42, 42, 22, 30, 22, 30, 35, 43, 11, 47, 5, 38, 48, 23, 23, 12, 21, 46, 10, 44, 40, 22, 27, 2, 30, 36, 29, 36, 19, 36, 22, 2, 30, 39, 26, 31, 30, 12, 31, 39, 5, 23, 12, 3, 42, 10, 40, 22, 42, 28, 32, 15, 17, 30, 42, 40, 42, 40, 22, 17, 44, 49, 10, 17, 7, 20, 9, 37, 16, 25, 1, 21, 20, 40, 3, 43, 40, 6, 20, 22, 31, 28, 42, 38, 34, 43, 44, 44, 20, 3, 40, 24, 2, 49, 24, 29, 7, 42, 4, 7, 48, 9, 37, 32, 28, 40, 22, 18, 40, 46, 22, 33, 40, 22, 26, 32, 4, 40, 20, 33, 1, 24, 49, 14, 35, 14, 38, 6, 2, 43, 49, 33, 39, 24, 34, 40, 41, 44, 43, 32, 11, 47, 8, 22, 40, 3, 36, 14, 41, 19, 35, 34, 3, 39, 6, 5, 29, 40, 31, 18, 43, 11, 40, 49, 5, 18, 18, 40, 35, 22, 49, 18, 33, 29, 5, 1, 47, 40, 33, 13, 29, 33, 25, 31, 40, 1, 1, 47, 25, 15, 7, 19, 47, 31, 28, 46, 34, 18, 29, 43, 6, 31, 29, 18, 12, 33, 21, 12, 42, 10, 21, 43, 29, 12, 23, 12, 13, 19, 7, 35, 37, 46, 10, 40, 22, 30, 40, 33, 47, 12, 31, 16, 29, 13, 21, 19, 12, 6, 29, 33, 47, 29, 14, 31, 23, 47, 12, 47, 40, 25, 41, 43, 6, 24, 12, 20, 44, 10, 40, 22, 34, 40, 24, 2, 13, 19, 40, 20, 14, 7, 1, 19, 35, 40, 46, 29, 26, 40, 21, 45, 46, 49, 35, 21, 40, 20, 13, 1, 28, 16, 21, 35, 47, 13, 7, 29, 40, 40, 47, 26, 23, 21, 43, 2, 46, 29, 31, 12, 38, 9, 14, 31, 40, 22, 3, 35, 18, 22, 48, 28, 4, 49, 40, 21, 12, 3, 4, 26, 26, 42, 29, 39, 35, 22, 18, 30, 6, 38, 36, 19, 29, 8, 20, 36, 4, 29, 9, 37, 39, 36, 4, 36, 4, 3, 18, 3, 4, 27, 46, 21, 17, 42, 4, 40, 42, 12, 2, 17, 47, 1, 43, 37, 15, 4, 27, 36, 19, 46, 5, 42, 38, 28, 41, 13, 22, 36, 4, 44, 15, 47, 42, 15, 41, 14, 2, 31, 26, 33, 36, 4, 1, 29, 37, 25, 1, 15, 23, 7, 16, 29, 29, 8, 40, 10, 40, 36, 42, 36, 1, 14, 3, 7, 5, 19, 32, 36, 40, 49, 4, 33, 43, 29, 29, 2, 47, 36, 43, 5, 22, 29, 10, 35, 47, 21, 36, 9, 21, 47, 4, 29, 19, 40, 22, 25, 40, 22, 25, 42, 49, 38, 44, 40, 5, 36, 15, 14, 2, 36, 9, 37, 18, 40, 6, 22, 4, 39, 35, 15, 31, 36, 48, 12, 31, 3, 46, 31, 21, 36, 47, 1, 22, 22, 12, 31, 36, 19, 45, 10, 29, 30, 29, 36, 43, 6, 24, 29, 2, 36, 36, 19, 6, 40, 36, 19, 5, 30, 36, 44, 9, 40, 40, 47, 9, 26, 48, 43, 34, 18, 2, 22, 25, 36, 23, 36, 29, 47, 9, 36, 19, 29, 40, 10, 22, 14, 8, 22, 46, 16, 27, 12, 23, 3, 22, 47, 26, 36, 19, 30, 23, 4, 36, 30, 22, 12, 28, 23, 16, 47, 36, 6, 7, 9, 37, 9, 2, 39, 39, 2, 18, 37, 22, 10, 31, 46, 12, 4, 32, 36, 10, 22, 36, 15, 9, 37, 10, 40, 1, 1, 38, 43, 33, 40, 1, 1, 17, 2, 23, 2, 10, 22, 39, 15, 23, 36, 24, 36, 14, 8, 11, 1, 20, 49, 41, 22, 26, 3, 6, 25, 6, 28, 45, 49, 7, 39, 27, 47, 2, 43, 18, 16, 47, 22, 24, 1, 19, 40, 27, 48, 36, 39, 22, 20, 18, 22, 30, 5, 20, 37, 6, 23, 40, 38, 8, 31, 7, 36, 9, 4, 12, 39, 27, 40, 22, 9, 37, 43, 16, 9, 39, 6, 40, 13, 46, 18, 17, 8, 12, 33, 21, 40, 18, 30, 49, 21, 38, 38, 29, 7, 24, 30, 43, 6, 24, 44, 25, 21, 23, 40, 10, 22, 44, 23, 27, 45, 30, 44, 12, 40, 33, 34, 47, 28, 5, 21, 29, 23, 17, 4, 16, 2, 40, 40, 18, 27, 4, 21, 35, 32, 37, 5, 27, 32, 30, 12, 33, 23, 12, 14, 35, 32, 6, 43, 40, 42, 36, 18, 30, 2, 21, 26, 18, 29, 14, 24, 23, 12, 26, 18, 18, 23, 12, 31, 8, 42, 40, 49, 40, 26, 19, 18, 29, 14, 24, 23, 12, 18, 43, 19, 30, 49, 4, 7, 41, 31, 29, 23, 24, 26, 9, 38, 24, 15, 42, 13, 4, 19, 47, 46, 26, 45, 7, 10, 45, 49, 23, 15, 12, 14, 43, 6, 21, 26, 30, 28, 33, 44, 28, 35, 2, 12, 17, 37, 3, 42, 5, 35, 43, 19, 16, 9, 23, 24, 44, 18, 26, 6, 25, 1, 47, 12, 30, 33, 24, 12, 46, 9, 29, 9, 47, 23, 24, 14, 43, 6, 21, 26, 30, 48, 26, 30, 28, 33, 44, 28, 35, 31, 14, 4, 30, 10, 23, 24, 23, 12, 19, 10, 19, 19, 31, 34, 23, 38, 20, 36, 10, 20, 49, 6, 43, 43, 6, 8, 42, 37, 2, 35, 20, 5, 46, 27, 43, 7, 24, 25, 10, 46, 20, 39, 14, 4, 46, 18, 46, 47, 37, 35, 7, 27, 23, 24, 25, 35, 7, 35, 47, 31, 23, 12, 25, 46, 4, 18, 40, 36, 46, 21, 18, 34, 27, 45, 30, 44, 21, 29, 36, 39, 3, 2, 26, 18, 18, 23, 12, 18, 7, 4, 31, 18, 23, 12, 24, 33, 23, 12, 18, 20, 49, 14, 22, 49, 10, 20, 49, 36, 39, 29, 37, 15, 18, 46, 26, 30, 18, 7, 34, 27, 45, 30, 44, 31, 8, 42, 40, 30, 36, 40, 4, 31, 12, 18, 23, 12, 35, 20, 46, 48, 35, 45, 7, 45, 49, 40, 19, 43, 6, 31, 36, 10, 40, 44, 40, 47, 21, 3, 7, 28, 47, 33, 31, 12, 24, 6, 29, 33, 47, 33, 4, 16, 17, 12, 31, 18, 33, 40, 47, 25, 23, 30, 40, 30, 29, 23, 12, 45, 30, 20, 46, 49, 45, 30, 45, 7, 45, 49, 23, 2, 26, 31, 17, 39, 29, 37, 26, 31, 38, 20, 7, 49, 40, 19, 10, 40, 44, 40, 34, 27, 45, 30, 44, 21, 29, 36, 39, 3, 2, 45, 49, 8, 23, 9, 27, 2, 27, 40, 27, 44, 3, 7, 23, 12, 26, 49, 43, 13, 47, 43, 13, 47, 1, 30, 29, 26, 13, 44, 2, 43, 49, 34, 43, 49, 34, 30, 31, 37, 30, 34, 30, 34, 13, 13, 27, 13, 35, 46, 23, 23, 12, 21, 46, 10, 44, 40, 22, 27, 29, 30, 36, 29, 39, 20, 43, 21, 32, 35, 2, 19, 19, 31, 7, 22, 20, 22, 48, 20, 14, 23, 9, 47, 20, 45, 29, 38, 20, 16, 28, 1, 25, 26, 22, 38, 3, 44, 7, 9, 43, 19, 25, 26, 43, 24, 47, 45, 23, 12, 44, 46, 12, 46, 18, 4, 31, 25, 26, 49, 34, 17, 46, 44, 35, 8, 19, 26, 6, 4, 11, 15, 30, 25, 26, 41, 37, 47, 41, 44, 43, 14, 18, 20, 5, 7, 25, 26, 41, 41, 11, 26, 30, 44, 43, 10, 17, 25, 26, 8, 49, 42, 34, 44, 49, 43, 19, 4, 36, 6, 8, 41, 27, 22, 38, 46, 49, 2, 27, 20, 12, 37, 1, 39, 21, 4, 36, 4, 1, 41, 27, 42, 7, 4, 27, 20, 12, 30, 47, 20, 16, 9, 37, 42, 46, 1, 30, 14, 43, 14, 24, 43, 22, 38, 21, 18, 12, 16, 9, 22, 10, 17, 22, 12, 14, 43, 33, 14, 42, 38, 15, 11, 15, 6, 47, 15, 14, 33, 38, 32, 44, 48, 3, 2, 42, 30, 23, 22, 23, 13, 33, 40, 42, 29, 38, 39, 42, 22, 17, 32, 42, 36, 29, 33, 26, 46, 39, 13, 34, 11, 32, 41, 46, 24, 4, 43, 22, 14, 16, 27, 43, 14, 17, 48, 1, 8, 33, 39, 16, 14, 43, 15, 28, 18, 18, 10, 41, 8, 49, 39, 15, 3, 13, 39, 48, 32, 3, 49, 35, 19, 41, 39, 38, 35, 10, 44, 20, 30, 22, 14, 25, 27, 20, 29, 30, 2, 14, 14, 15, 44, 1, 33, 38, 32, 3, 25, 27, 2, 14, 43, 30, 24, 33, 38, 32, 29, 14, 21, 41, 42, 27, 33, 38, 32, 22, 27, 31, 24, 27, 10, 22, 44, 12, 33, 38, 32, 4, 36, 10, 33, 40, 31, 48, 14, 29, 15, 10, 42, 43, 46, 42, 33, 38, 3, 42, 23, 45, 42, 26, 31, 26, 45, 44, 44, 31, 42, 8, 12, 5, 23, 17, 29, 9, 13, 14, 18, 9, 3, 17, 20, 10, 14, 9, 15, 6, 30, 40, 14, 45, 35, 25, 41, 20, 29, 41, 2, 2, 18, 4, 8, 22, 5, 29, 3, 7, 24, 46, 3, 4, 25, 15, 2, 5, 36, 17, 31, 49, 1, 41, 4, 16, 7, 18, 19, 34, 33, 2, 40, 1, 42, 27, 4, 2, 47, 24, 46, 33, 32, 27, 2, 42, 42, 5, 4, 38, 22, 36, 48, 27, 20, 24, 13, 33, 32, 32, 42, 22, 4, 24, 44, 48, 10, 24, 22, 34, 41, 46, 29, 44, 26, 45, 8, 33, 45, 47, 5, 44, 27, 3, 49, 36, 26, 31, 10, 26, 43, 3, 34, 21, 32, 31, 42, 10, 12, 30, 7, 39, 10, 41, 41, 31, 31, 45, 45, 42, 7, 36, 16, 45, 25, 29, 13, 12, 44, 43, 21, 7, 1, 42, 34, 16, 25, 8, 39, 39, 21, 17, 22, 46, 1, 34, 29, 20, 13, 20, 9, 29, 10, 43, 10, 21, 36, 19, 44, 16, 36, 39, 14, 15, 24, 20, 9, 38, 15, 27, 45, 46, 7, 15, 20, 16, 37, 24, 20, 42, 14, 15, 24, 28, 10, 43, 16, 47, 35, 25, 38, 15, 20, 16, 6, 48, 27, 6, 43, 47, 45, 15, 20, 32, 2, 3, 45, 15, 20, 16, 22, 14, 41, 31, 15, 17, 3, 20, 14, 20, 42, 49, 15, 47, 38, 20, 16, 22, 14, 32, 31, 11, 10, 10, 12, 32, 14, 4, 14, 31, 27, 7, 43, 41, 46, 21, 42, 32, 43, 16, 26, 40, 31, 22, 24, 41, 48, 9, 13, 35, 43, 16, 26, 35, 33, 31, 41, 33, 29, 41, 48, 9, 18, 7, 43, 4, 26, 37, 7, 31, 29, 30, 31, 28, 13, 14, 21, 43, 16, 26, 1, 20, 31, 30, 31, 27, 41, 48, 9, 48, 28, 27, 1, 29, 41, 48, 9, 43, 42, 46, 21, 35, 6, 30, 23, 10, 12, 48, 30, 46, 29, 33, 23, 33, 2, 33, 38, 32, 8, 39, 33, 19, 44, 4, 45, 23, 40, 34, 25, 1, 21, 49, 48, 27, 43, 42, 23, 34, 42, 4, 18, 16, 8, 17, 9, 1, 23, 7, 1, 43, 47, 26, 21, 27, 43, 25, 8, 6, 14, 8, 10, 2, 41, 37, 49, 14, 8, 23, 39, 20, 29, 43, 44, 44, 10, 34, 36, 41, 43, 44, 44, 43, 39, 30, 26, 14, 8, 10, 9, 49, 7, 26, 14, 8, 26, 27, 34, 26, 27, 1, 44, 4, 4, 36, 26, 14, 8, 40, 21, 41, 14, 27, 8, 43, 29, 21, 4, 8, 27, 46, 17, 41, 48, 9, 9, 20, 30, 31, 41, 39, 33, 42, 18, 30, 31, 41, 40, 13, 48, 20, 29, 17, 31, 29, 4, 48, 20, 29, 17, 31, 20, 8, 37, 43, 30, 27, 30, 21, 43, 43, 3, 21, 21, 43, 43, 3, 27, 36, 43, 43, 3, 45, 31, 31, 12, 15, 46, 31, 45, 2, 49, 33, 21, 9, 12, 14, 27, 48, 29, 21, 33, 5, 31, 18, 15, 38, 45, 31, 18, 30, 17, 33, 43, 46, 27, 20, 17, 10, 3, 3, 20, 15, 33, 42, 36, 20, 2, 3, 7, 36, 40, 33, 20, 35, 15, 34, 31, 47, 29, 38, 40, 9, 39, 46, 9, 39, 14, 24, 3, 23, 2, 21, 45, 8, 23, 23, 47, 15, 49, 39, 46, 48, 33, 16, 8, 25, 8, 47, 30, 26, 39, 33, 23, 10, 37, 25, 42, 41, 45, 2, 41, 30, 45, 23, 9, 39, 48, 25, 8, 40, 44, 35, 24, 31, 22, 23, 27, 10, 23, 12, 39, 33, 22, 14, 2, 49, 15, 12, 23, 20, 16, 19, 23, 29, 20, 9, 4, 20, 9, 19, 22, 15, 28, 9, 23, 31, 18, 23, 9, 39, 22, 23, 2, 18, 33, 23, 9, 39, 2, 49, 9, 10, 23, 12, 20, 18, 40, 43, 47, 46, 2, 19, 36, 22, 5, 6, 18, 14, 21, 27, 18, 12, 44, 29, 38, 2, 10, 18, 12, 33, 14, 43, 12, 5, 39, 11, 20, 24, 29, 38, 46, 30, 12, 20, 14, 42, 14, 23, 22, 33, 22, 46, 47, 22, 10, 28, 46, 3, 37, 43, 12, 43, 1, 1, 1, 4, 31, 9, 34, 49, 29, 49, 3, 37, 43, 4, 23, 46, 45, 42, 48, 23, 38, 46, 11, 38, 46, 41, 16, 22, 27, 36, 15, 2, 14, 27, 36, 22, 43, 41, 41, 12, 19, 10, 10, 22, 37, 29, 38, 48, 23, 38, 42, 44, 33, 6, 39, 43, 24, 47, 19, 46, 14, 12, 12, 24, 4, 30, 42, 25, 13, 25, 30, 43, 31, 6, 16, 17, 23, 10, 25, 23, 12, 34, 12, 12, 1, 45, 38, 46, 8, 22, 27, 23, 30, 20, 1, 8, 44, 10, 45, 5, 40, 21, 37, 6, 41, 45, 24, 13, 14, 8, 38, 46, 8, 22, 27, 22, 8, 43, 41, 45, 19, 20, 7, 45, 49, 26, 43, 36, 23, 27, 46, 30, 9, 49, 26, 8, 24, 31, 18, 49, 26, 1, 45, 29, 42, 8, 24, 32, 43, 1, 42, 45, 8, 11, 17, 25, 1, 46, 10, 45, 4, 30, 16, 28, 24, 25, 5, 42, 38, 13, 39, 45, 42, 36, 27, 33, 14, 8, 43, 29, 14, 25, 43, 38, 43, 8, 4, 9, 27, 23, 12, 43, 25, 15, 23, 12, 30, 47, 15, 35, 5, 47, 23, 15, 28, 15, 23, 38, 8, 28, 37, 21, 41, 15, 22, 19, 35, 28, 3, 41, 43, 9, 31, 7, 2, 41, 45, 23, 38, 46, 34, 12, 12, 19, 27, 7, 12, 30, 22, 41, 43, 9, 23, 49, 48, 37, 44, 42, 30, 19, 48, 7, 41, 30, 36, 8, 34, 40, 30, 22, 22, 9, 21, 23, 12, 47, 27, 29, 7, 43, 21, 38, 29, 15, 38, 46, 4, 22, 36, 15, 32, 16, 17, 41, 22, 27, 41, 2, 15, 41, 7, 19, 27, 43, 12, 39, 31, 23, 38, 24, 46, 28, 37, 43, 6, 12, 38, 46, 23, 12, 12, 23, 49, 48, 36, 2, 12, 38, 8, 32, 41, 27, 41, 43, 22, 28, 36, 14, 3, 13, 19, 2, 3, 6, 23, 21, 33, 21, 26, 23, 38, 46, 23, 38, 10, 40, 27, 49, 31, 21, 31, 12, 19, 14, 43, 37, 25, 12, 4, 3, 30, 7, 21, 23, 14, 7, 46, 44, 23, 30, 9, 43, 30, 30, 21, 7, 11, 46, 30, 43, 1, 43, 24, 41, 21, 23, 25, 23, 38, 6, 25, 23, 12, 23, 23, 18, 9, 30, 1, 43, 15, 27, 25, 23, 38, 27, 7, 43, 43, 1, 24, 41, 37, 25, 23, 38, 40, 6, 37, 15, 36, 42, 13, 27, 25, 37, 30, 15, 46, 41, 43, 14, 43, 40, 21, 24, 39, 49, 11, 6, 8, 43, 21, 7, 40, 12, 23, 30, 47, 23, 24, 3, 2, 43, 21, 28, 17, 23, 30, 11, 31, 18, 24, 14, 26, 47, 39, 8, 23, 30, 11, 37, 6, 21, 23, 32, 45, 31, 43, 49, 23, 27, 43, 40, 21, 22, 33, 41, 8, 43, 40, 23, 9, 33, 1, 34, 43, 48, 22, 42, 4, 6, 14, 19, 20, 7, 17, 15, 16, 46, 20, 47, 31, 18, 36, 22, 18, 48, 3, 4, 26, 43, 43, 31, 15, 22, 7, 12, 48, 26, 32, 8, 9, 37, 1, 20, 7, 9, 15, 5, 22, 3, 19, 29, 5, 28, 29, 2, 45, 40, 41, 29, 9, 43, 9, 45, 26, 5, 49, 21, 9, 37, 7, 28, 5, 10, 23, 12, 45, 28, 5, 10, 12, 34, 28, 41, 23, 12, 23, 29, 41, 40, 22, 4, 3, 30, 30, 11, 37, 7, 23, 30, 21, 23, 30, 21, 15, 33, 22, 33, 39, 23, 31, 7, 42, 1, 25, 16, 30, 1, 30, 41, 23, 30, 22, 19, 8, 26, 23, 23, 14, 8, 25, 20, 6, 23, 12, 47, 31, 23, 12, 24, 31, 28, 23, 12, 9, 32, 10, 12], [14, 2, 38, 46, 43, 32, 20, 22, 31, 49, 22, 14, 27, 46, 40, 21, 16, 14, 9, 38, 31, 15, 38, 42, 7, 48, 32, 5, 45, 38, 31, 15, 10, 15, 33, 10, 22, 10, 22, 23, 38, 31, 43, 9, 38, 31, 20, 24, 33, 31, 30, 20, 36, 30, 20, 4, 20, 49, 42, 20, 20, 9, 3, 30, 49, 31, 25, 20, 34, 31, 24, 40, 37, 30, 20, 12, 42, 28, 31, 4, 12, 33, 47, 32, 24, 26, 2, 12, 20, 9, 15, 34, 49, 17, 12, 10, 16, 11, 26, 32, 5, 16, 35, 30, 13, 27, 49, 20, 28, 46, 22, 22, 39, 5, 27, 18, 45, 40, 12, 38, 31, 38, 15, 46, 39, 4, 14, 22, 47, 34, 2, 35, 2, 8, 37, 38, 31, 15, 10, 15, 33, 20, 16, 49, 18, 11, 21, 30, 24, 15, 24, 20, 20, 10, 38, 31, 15, 10, 15, 33, 23, 38, 31, 38, 31, 32, 20, 22, 31, 34, 20, 46, 27, 31, 28, 20, 43, 38, 31, 15, 22, 14, 4, 20, 45, 2, 19, 19, 35, 7, 38, 32, 31, 4, 29, 37, 9, 33, 20, 17, 2, 39, 31, 32, 46, 38, 31, 30, 4, 3, 21, 27, 20, 37, 20, 9, 39, 37, 41, 37, 25, 4, 22, 7, 3, 6, 14, 4, 32, 8, 15, 4, 32, 31, 20, 37, 20, 9, 38, 38, 38, 30, 4, 25, 22, 30, 38, 31, 4, 38, 12, 37, 38, 39, 42, 1, 32, 44, 36, 4, 46, 4, 38, 31, 4, 13, 19, 38, 31, 38, 38, 15, 35, 10, 15, 38, 15, 47, 2, 38, 31, 6, 30, 26, 44, 29, 2, 38, 31, 29, 45, 32, 29, 20, 22, 4, 24, 42, 38, 31, 49, 35, 38, 15, 38, 15, 1, 20, 49, 3, 12, 36, 38, 27, 42, 20, 13, 49, 25, 36, 38, 31, 30, 38, 2, 39, 38, 31, 4, 18, 36, 30, 38, 31, 15, 10, 15, 33, 43, 9, 38, 31, 43, 20, 26, 5, 31, 19, 40, 3, 1, 30, 30, 21, 37, 7, 11, 3, 21, 14, 30, 20, 14, 36, 20, 6, 6, 45, 46, 14, 26, 3, 46, 40, 13, 35, 47, 34, 9, 30, 13, 43, 4, 39, 38, 20, 18, 31, 30, 4, 38, 33, 38, 18, 46, 9, 8, 46, 31, 8, 41, 17, 20, 33, 47, 44, 20, 44, 41, 47, 35, 20, 25, 34, 5, 48, 12, 2, 5, 23, 16, 38, 38, 38, 38, 31, 15, 10, 15, 33, 20, 24, 33, 31, 30, 20, 20, 19, 29, 30, 36, 48, 9, 3, 20, 8, 1, 35, 44, 48, 49, 48, 16, 15, 48, 19, 20, 3, 40, 22, 4, 27, 20, 10, 17, 5, 9, 42, 36, 48, 20, 24, 29, 44, 43, 39, 9, 27, 5, 22, 37, 36, 3, 20, 36, 24, 33, 36, 30, 20, 4, 20, 49, 42, 20, 33, 17, 5, 9, 11, 38, 1, 2, 17, 35, 3, 36, 20, 42, 20, 41, 17, 24, 20, 35, 46, 35, 44, 8, 1, 45, 27, 20, 12, 33, 38, 2, 20, 9, 20, 28, 20, 20, 49, 14, 37, 20, 48, 9, 21, 9, 2, 22, 20, 38, 40, 20, 6, 30, 15, 44, 38, 38, 31, 15, 10, 15, 33, 10, 47, 20, 31, 1, 20, 8, 20, 18, 22, 1, 9, 23, 20, 46, 7, 19, 32, 17, 37, 46, 49, 34, 20, 25, 34, 5, 48, 12, 2, 5, 23, 16, 10, 20, 34, 46, 10, 2, 20, 31, 25, 45, 43, 5, 8, 45, 20, 34, 1, 2, 25, 45, 43, 5, 20, 39, 20, 34, 17, 1, 10, 2, 20, 1, 20, 12, 19, 2, 20, 49, 16, 20, 20, 9, 13, 18, 42, 20, 12, 7, 11, 20, 13, 3, 2, 33, 20, 18, 31, 16, 31, 26, 26, 19, 49, 20, 4, 17, 15, 17, 37, 20, 29, 33, 14, 20, 46, 24, 20, 34, 49, 8, 21, 20, 46, 7, 49, 34, 23, 16, 20, 5, 32, 46, 44, 20, 20, 34, 47, 5, 23, 28, 25, 38, 20, 38, 31, 15, 10, 15, 33, 20, 20, 9, 3, 21, 14, 46, 23, 20, 45, 48, 49, 24, 28, 8, 44, 46, 14, 25, 43, 23, 29, 4, 12, 20, 3, 20, 43, 25, 45, 48, 25, 4, 30, 47, 43, 20, 45, 48, 46, 32, 2, 46, 23, 31, 28, 16, 33, 20, 45, 45, 16, 9, 20, 16, 12, 9, 5, 20, 31, 6, 29, 29, 41, 9, 20, 49, 49, 38, 1, 31, 20, 9, 6, 20, 22, 6, 9, 20, 37, 3, 20, 18, 20, 24, 6, 3, 20, 30, 24, 49, 20, 9, 5, 20, 22, 35, 40, 47, 29, 16, 46, 16, 43, 5, 40, 1, 13, 40, 41, 20, 30, 40, 28, 48, 37, 25, 20, 37, 28, 1, 25, 38, 32, 44, 11, 14, 20, 37, 14, 20, 12, 22, 33, 20, 32, 1, 32, 18, 6, 18, 39, 18, 20, 9, 49, 1, 41, 23, 49, 39, 32, 40, 49, 20, 38, 31, 15, 10, 15, 33, 30, 49, 31, 25, 20, 34, 31, 30, 20, 18, 43, 25, 20, 28, 49, 30, 19, 31, 12, 41, 20, 39, 25, 8, 47, 33, 8, 16, 24, 34, 20, 20, 25, 38, 20, 43, 11, 20, 34, 34, 41, 31, 13, 31, 20, 20, 29, 49, 3, 20, 20, 37, 42, 49, 36, 19, 43, 43, 20, 38, 31, 31, 16, 29, 20, 37, 21, 39, 26, 20, 30, 14, 43, 14, 20, 25, 23, 10, 20, 44, 15, 3, 44, 40, 20, 9, 17, 29, 29, 20, 3, 6, 32, 48, 6, 38, 43, 38, 31, 15, 10, 15, 33, 24, 4, 31, 9, 26, 38, 31, 46, 22, 32, 10, 3, 27, 42, 9, 26, 20, 24, 38, 31, 4, 19, 9, 20, 9, 15, 30, 5, 14, 13, 5, 13, 1, 38, 31, 4, 38, 38, 26, 23, 20, 37, 38, 14, 6, 43, 20, 35, 46, 44, 49, 28, 22, 17, 46, 20, 9, 38, 31, 49, 30, 10, 39, 4, 49, 8, 20, 49, 42, 20, 32, 20, 46, 23, 35, 9, 38, 15, 16, 7, 26, 24, 23, 26, 30, 35, 6, 38, 31, 15, 10, 15, 33, 20, 37, 34, 44, 12, 20, 39, 42, 33, 25, 20, 20, 9, 34, 44, 9, 33, 9, 20, 31, 37, 17, 49, 30, 33, 10, 28, 48, 14, 10, 31, 34, 16, 23, 33, 27, 20, 30, 35, 4, 45, 30, 43, 16, 22, 27, 17, 9, 25, 31, 20, 7, 46, 4, 31, 3, 45, 32, 17, 46, 35, 40, 38, 31, 38, 31, 15, 10, 15, 33, 40, 37, 30, 20, 20, 37, 30, 20, 35, 43, 32, 39, 43, 5, 20, 6, 20, 9, 45, 36, 10, 20, 43, 4, 13, 22, 40, 20, 40, 31, 40, 4, 22, 36, 20, 40, 41, 30, 27, 21, 38, 31, 2, 41, 48, 34, 40, 49, 14, 20, 29, 20, 9, 38, 6, 20, 14, 23, 26, 49, 6, 12, 38, 36, 20, 28, 16, 30, 20, 9, 26, 20, 9, 24, 47, 29, 41, 43, 12, 4, 1, 39, 39, 36, 10, 20, 35, 40, 41, 23, 16, 20, 29, 40, 3, 20, 46, 32, 24, 14, 20, 24, 20, 43, 13, 21, 20, 49, 20, 41, 21, 1, 28, 45, 14, 20, 19, 18, 20, 6, 30, 38, 31, 15, 10, 15, 33, 12, 42, 28, 31, 4, 38, 12, 38, 30, 38, 31, 4, 4, 25, 22, 30, 31, 23, 49, 3, 4, 38, 38, 33, 38, 31, 38, 31, 4, 29, 38, 12, 17, 20, 20, 37, 10, 46, 46, 18, 20, 6, 20, 9, 21, 25, 40, 41, 40, 38, 14, 20, 10, 20, 46, 3, 9, 29, 38, 12, 37, 20, 14, 44, 33, 10, 20, 20, 2, 35, 22, 45, 43, 23, 13, 19, 31, 42, 38, 31, 4, 22, 38, 7, 26, 10, 20, 27, 30, 16, 29, 38, 12, 41, 20, 35, 22, 38, 31, 4, 47, 20, 20, 24, 20, 16, 24, 31, 17, 30, 20, 5, 32, 17, 46, 40, 31, 43, 20, 41, 29, 38, 12, 17, 4, 46, 4, 32, 44, 48, 36, 46, 4, 30, 22, 37, 40, 42, 7, 46, 30, 38, 31, 15, 10, 15, 33, 12, 33, 21, 49, 18, 38, 31, 16, 21, 26, 12, 33, 17, 16, 38, 31, 14, 38, 18, 3, 17, 27, 12, 33, 38, 38, 3, 47, 32, 24, 26, 2, 5, 45, 24, 30, 30, 42, 29, 9, 38, 35, 13, 38, 31, 45, 49, 18, 5, 24, 6, 5, 4, 7, 23, 22, 27, 37, 14, 32, 34, 35, 35, 2, 15, 5, 44, 27, 9, 32, 39, 13, 48, 30, 2, 39, 9, 31, 45, 26, 46, 44, 24, 14, 20, 20, 25, 27, 6, 14, 2, 38, 31, 15, 10, 15, 33, 26, 3, 6, 47, 32, 42, 41, 28, 34, 23, 47, 13, 35, 30, 24, 39, 13, 40, 8, 37, 10, 46, 44, 16, 48, 24, 4, 48, 3, 17, 45, 5, 1, 17, 28, 18, 24, 39, 4, 48, 9, 34, 42, 19, 17, 31, 18, 20, 44, 7, 33, 30, 5, 13, 7, 20, 44, 7, 33, 16, 30, 9, 12, 5, 7, 24, 19, 20, 24, 1, 49, 30, 38, 49, 18, 25, 18, 20, 30, 12, 9, 46, 46, 9, 13, 2, 5, 24, 41, 2, 14, 12, 25, 7, 13, 20, 41, 16, 38, 31, 4, 27, 9, 20, 45, 17, 2, 8, 24, 2, 30, 12, 8, 25, 25, 1, 8, 46, 18, 17, 12, 20, 30, 31, 5, 22, 1, 17, 4, 7, 48, 49, 24, 1, 15, 27, 3, 30, 2, 17, 12, 38, 41, 30, 38, 44, 38, 21, 38, 31, 15, 10, 15, 33, 12, 20, 9, 15, 34, 38, 41, 22, 33, 2, 15, 38, 10, 12, 36, 29, 9, 25, 19, 9, 40, 27, 29, 16, 3, 10, 5, 29, 21, 16, 45, 18, 40, 1, 29, 31, 44, 13, 27, 4, 19, 30, 19, 24, 18, 42, 43, 10, 27, 8, 18, 10, 19, 49, 27, 17, 1, 38, 39, 25, 18, 19, 27, 8, 16, 15, 31, 44, 24, 47, 7, 19, 21, 18, 38, 2, 36, 5, 18, 1, 17, 48, 23, 27, 8, 26, 38, 21, 31, 47, 29, 1, 32, 12, 40, 26, 15, 39, 39, 32, 21, 31, 13, 37, 31, 3, 43, 27, 45, 20, 45, 29, 38, 16, 7, 21, 40, 3, 11, 7, 9, 38, 2, 17, 19, 17, 34, 36, 43, 46, 15, 31, 44, 47, 7, 40, 30, 49, 18, 1, 31, 47, 49, 10, 32, 16, 10, 5, 23, 7, 17, 12, 47, 38, 31, 14, 23, 38, 38, 14, 20, 46, 5, 20, 23, 41, 48, 20, 30, 38, 31, 15, 10, 15, 33, 49, 17, 12, 10, 16, 23, 23, 18, 13, 20, 20, 22, 5, 14, 25, 17, 12, 11, 14, 32, 20, 38, 35, 15, 42, 33, 21, 23, 10, 47, 4, 40, 30, 19, 45, 4, 12, 20, 35, 42, 33, 10, 1, 40, 24, 44, 25, 44, 31, 29, 22, 29, 42, 37, 22, 20, 49, 21, 29, 27, 22, 29, 37, 20, 44, 40, 30, 14, 15, 5, 36, 2, 7, 28, 43, 20, 22, 20, 41, 16, 17, 45, 47, 4, 47, 15, 43, 1, 40, 14, 25, 7, 41, 30, 40, 7, 4, 38, 47, 29, 33, 11, 23, 38, 31, 14, 7, 20, 9, 41, 46, 22, 16, 20, 45, 36, 10, 8, 24, 16, 30, 8, 17, 11, 12, 38, 44, 15, 38, 31, 15, 10, 15, 33, 11, 26, 35, 38, 31, 15, 17, 4, 40, 35, 28, 38, 31, 17, 28, 2, 18, 20, 37, 20, 9, 20, 35, 22, 39, 37, 14, 27, 30, 32, 5, 5, 11, 20, 49, 20, 9, 20, 9, 4, 5, 36, 7, 2, 14, 44, 26, 22, 39, 10, 20, 9, 44, 44, 10, 46, 39, 4, 36, 16, 28, 32, 32, 41, 2, 42, 5, 35, 21, 45, 46, 26, 10, 20, 45, 10, 20, 45, 20, 26, 2, 31, 14, 37, 42, 34, 27, 35, 44, 46, 49, 19, 39, 4, 27, 3, 38, 20, 8, 34, 5, 5, 32, 40, 22, 21, 2, 4, 33, 22, 46, 26, 2, 8, 35, 27, 46, 22, 6, 15, 34, 29, 5, 38, 31, 15, 10, 15, 33, 40, 42, 28, 12, 7, 47, 20, 9, 6, 9, 23, 45, 33, 12, 20, 10, 42, 20, 49, 2, 20, 9, 27, 31, 27, 21, 38, 31, 12, 38, 38, 4, 25, 22, 34, 44, 12, 12, 33, 35, 49, 33, 11, 38, 31, 15, 2, 23, 48, 22, 39, 5, 49, 1, 3, 36, 5, 38, 31, 41, 4, 5, 49, 23, 27, 2, 1, 23, 1, 17, 47, 14, 15, 32, 18, 30, 33, 32, 20, 35, 35, 7, 34, 4, 14, 11, 2, 20, 4, 46, 39, 2, 7, 38, 31, 15, 4, 19, 19, 12, 39, 20, 41, 1, 4, 30, 25, 38, 46, 44, 1, 34, 49, 38, 31, 15, 32, 8, 20, 22, 31, 6, 19, 16, 16, 10, 20, 32, 20, 46, 49, 41, 35, 9, 5, 49, 44, 14, 38, 31, 38, 31, 15, 10, 15, 33, 16, 35, 29, 5, 42, 2, 21, 20, 9, 12, 33, 42, 47, 40, 32, 20, 22, 31, 18, 2, 30, 16, 30, 20, 8, 36, 2, 30, 20, 9, 12, 33, 12, 30, 46, 41, 25, 41, 39, 30, 13, 27, 49, 38, 31, 30, 30, 10, 20, 35, 29, 49, 15, 43, 26, 30, 48, 13, 27, 10, 39, 48, 6, 12, 33, 32, 44, 41, 35, 42, 2, 36, 20, 41, 32, 38, 37, 48, 38, 31, 49, 3, 15, 42, 12, 38, 31, 15, 10, 15, 33, 38, 31, 15, 36, 16, 41, 25, 33, 5, 20, 5, 32, 32, 25, 20, 22, 34, 25, 8, 15, 2, 46, 33, 25, 20, 23, 16, 20, 9, 44, 28, 25, 18, 31, 44, 10, 32, 20, 24, 42, 5, 43, 42, 22, 33, 6, 25, 33, 5, 24, 9, 27, 35, 8, 45, 29, 24, 20, 23, 2, 13, 20, 14, 8, 43, 8, 31, 33, 25, 49, 7, 10, 30, 5, 20, 1, 32, 12, 7, 6, 11, 2, 9, 8, 7, 44, 33, 1, 25, 2, 15, 8, 45, 41, 2, 42, 35, 20, 42, 12, 21, 30, 21, 38, 31, 32, 23, 42, 8, 2, 6, 30, 20, 20, 9, 7, 9, 32, 20, 11, 20, 11, 12, 20, 22, 49, 7, 30, 26, 20, 35, 27, 12, 6, 11, 44, 14, 16, 23, 38, 31, 15, 10, 15, 33, 20, 28, 46, 38, 31, 12, 20, 29, 35, 18, 31, 28, 20, 22, 38, 20, 38, 15, 41, 15, 46, 39, 4, 40, 28, 46, 7, 44, 44, 1, 46, 33, 39, 5, 7, 32, 12, 33, 15, 44, 9, 20, 46, 43, 46, 39, 4, 37, 38, 12, 33, 4, 40, 32, 20, 22, 31, 35, 21, 16, 34, 44, 26, 9, 16, 13, 39, 2, 18, 11, 30, 20, 20, 35, 20, 26, 17, 12, 8, 38, 4, 27, 32, 34, 14, 46, 38, 4, 28, 12, 20, 35, 36, 12, 30, 6, 20, 20, 41, 41, 25, 39, 38, 31, 15, 10, 15, 33, 22, 22, 38, 31, 23, 22, 22, 48, 47, 22, 34, 32, 24, 9, 31, 8, 46, 26, 9, 22, 42, 32, 7, 42, 42, 38, 31, 45, 32, 35, 23, 28, 30, 39, 5, 27, 38, 31, 43, 4, 20, 3, 25, 43, 9, 16, 36, 31, 27, 29, 8, 22, 3, 34, 32, 26, 6, 17, 27, 2, 34, 38, 31, 15, 10, 15, 33, 18, 45, 40, 12, 9, 13, 26, 45, 24, 12, 46, 38, 31, 27, 35, 45, 25, 2, 24, 32, 10, 49, 4, 27, 44, 11, 29, 3, 40, 45, 13, 3, 45, 30, 20, 9, 15, 12, 48, 14, 49, 3, 44, 20, 17, 20, 32, 46, 40, 38, 31, 7, 2, 12, 22, 25, 16, 10, 20, 22, 3, 20, 2, 38, 32, 38, 31, 18, 45, 1, 17, 18, 17, 49, 38, 31, 15, 10, 15, 33, 38, 31, 38, 15, 46, 39, 38, 31, 36, 8, 7, 9, 7, 22, 9, 32, 33, 17, 17, 1, 3, 20, 8, 20, 29, 15, 28, 4, 12, 38, 31, 46, 39, 12, 38, 47, 2, 12, 32, 15, 40, 9, 26, 40, 2, 38, 31, 29, 20, 12, 43, 15, 17, 48, 43, 23, 30, 11, 28, 21, 22, 9, 32, 14, 39, 39, 22, 34, 20, 6, 18, 30, 20, 19, 27, 37, 27, 42, 20, 35, 19, 19, 2, 45, 42, 2, 8, 32, 48, 30, 39, 40, 11, 1, 40, 9, 15, 11, 2, 18, 22, 2, 21, 16, 22, 49, 42, 9, 30, 15, 16, 5, 34, 40, 47, 12, 42, 47, 32, 35, 30, 32, 30, 15, 36, 6, 3, 6, 17, 23, 12, 16, 20, 40, 17, 42, 29, 31, 29, 1, 20, 29, 1, 9, 20, 3, 22, 9, 15, 7, 18, 49, 26, 48, 30, 36, 13, 47, 33, 38, 1, 39, 38, 31, 15, 10, 15, 33, 4, 12, 38, 17, 5, 43, 39, 9, 20, 20, 8, 20, 2, 31, 46, 39, 10, 2, 4, 23, 8, 10, 36, 9, 48, 47, 25, 20, 32, 28, 29, 8, 49, 35, 42, 44, 25, 10, 49, 4, 19, 20, 9, 38, 22, 44, 44, 4, 49, 14, 20, 33, 20, 8, 10, 36, 40, 6, 5, 48, 29, 31, 20, 32, 39, 10, 30, 20, 45, 20, 9, 40, 2, 39, 31, 39, 31, 26, 11, 35, 9, 22, 38, 31, 15, 20, 31, 35, 9, 40, 17, 49, 20, 35, 8, 20, 27, 29, 20, 46, 39, 40, 4, 7, 49, 9, 20, 20, 37, 10, 14, 46, 32, 40, 23, 5, 13, 24, 22, 43, 36, 29, 25, 16, 15, 26, 22, 14, 47, 17, 10, 20, 35, 7, 7, 43, 40, 3, 40, 9, 19, 31, 23, 1, 42, 4, 5, 6, 32, 49, 7, 43, 12, 28, 40, 30, 30, 30, 11, 30, 2, 33, 12, 43, 13, 27, 38, 38, 31, 15, 10, 15, 33, 14, 38, 32, 20, 22, 31, 22, 41, 18, 25, 32, 20, 41, 31, 4, 28, 38, 20, 20, 46, 16, 41, 31, 42, 25, 42, 43, 40, 25, 20, 39, 35, 20, 20, 13, 32, 20, 47, 46, 23, 31, 9, 16, 15, 44, 20, 27, 40, 18, 9, 23, 33, 6, 23, 16, 20, 1, 20, 34, 20, 49, 8, 30, 31, 20, 35, 42, 33, 38, 31, 4, 45, 40, 32, 20, 35, 38, 39, 24, 5, 13, 27, 20, 20, 42, 32, 21, 40, 38, 6, 20, 35, 29, 8, 20, 41, 45, 18, 14, 7, 16, 22, 33, 40, 47, 45, 38, 17, 41, 17, 17, 43, 10, 22, 47, 28, 33, 41, 38, 22, 47, 20, 13, 20, 37, 47, 10, 14, 49, 14, 46, 8, 38, 31, 40, 30, 9, 41, 29, 31, 13, 40, 36, 38, 26, 45, 40, 23, 38, 31, 15, 10, 15, 33, 22, 47, 38, 31, 34, 5, 21, 22, 31, 18, 21, 37, 8, 31, 12, 4, 4, 15, 33, 45, 2, 30, 39, 26, 10, 9, 37, 2, 47, 19, 14, 30, 44, 26, 17, 26, 38, 24, 19, 25, 26, 2, 34, 5, 23, 34, 20, 22, 47, 36, 12, 4, 43, 4, 20, 46, 20, 29, 20, 9, 38, 31, 15, 10, 15, 33, 2, 35, 2, 32, 2, 35, 43, 45, 30, 16, 1, 47, 38, 41, 13, 20, 38, 20, 45, 11, 49, 46, 36, 17, 35, 15, 30, 41, 39, 22, 12, 12, 11, 8, 38, 31, 32, 4, 20, 39, 39, 25, 4, 4, 37, 21, 7, 1, 20, 46, 32, 38, 8, 24, 48, 17, 25, 46, 2, 25, 20, 39, 39, 33, 17, 20, 25, 2, 31, 8, 7, 27, 18, 27, 39, 26, 10, 30, 39, 33, 10, 19, 2, 39, 14, 26, 38, 31, 15, 10, 15, 33, 25, 6, 47, 5, 20, 9, 39, 37, 35, 39, 30, 25, 43, 40, 26, 39, 37, 37, 48, 20, 33, 20, 12, 31, 37, 27, 25, 20, 39, 20, 36, 6, 20, 16, 6, 16, 17, 49, 46, 38, 31, 15, 10, 15, 33, 37, 6, 29, 30, 31, 22, 9, 41, 42, 37, 6, 36, 45, 31, 33, 27, 14, 22, 9, 35, 15, 30, 41, 17, 31, 11, 20, 5, 20, 35, 14, 7, 25, 12, 38, 38, 25, 38, 34, 44, 43, 5, 12, 33, 38, 31, 38, 31, 15, 10, 15, 33, 20, 16, 49, 43, 28, 28, 2, 20, 33, 46, 48, 39, 29, 40, 25, 46, 48, 25, 20, 33, 13, 43, 8, 20, 33, 36, 40, 18, 21, 20, 38, 31, 46, 34, 31, 14, 6, 26, 11, 49, 20, 33, 13, 10, 9, 38, 31, 15, 10, 15, 33, 18, 11, 11, 38, 38, 22, 44, 38, 32, 31, 4, 24, 44, 38, 31, 12, 46, 26, 43, 40, 28, 38, 48, 15, 46, 39, 4, 32, 14, 6, 46, 2, 47, 19, 42, 31, 38, 15, 24, 10, 25, 30, 1, 38, 15, 38, 15, 5, 49, 32, 29, 17, 24, 33, 20, 17, 26, 23, 20, 9, 4, 13, 44, 47, 5, 40, 2, 49, 36, 44, 44, 24, 31, 17, 4, 31, 9, 30, 20, 46, 4, 7, 49, 36, 19, 38, 15, 46, 5, 14, 38, 26, 38, 15, 35, 15, 14, 15, 15, 48, 30, 1, 47, 9, 5, 15, 38, 23, 16, 22, 42, 2, 20, 32, 30, 22, 13, 2, 29, 8, 45, 15, 46, 39, 4, 15, 41, 47, 4, 31, 20, 16, 8, 41, 27, 46, 39, 41, 9, 9, 12, 33, 25, 27, 5, 23, 10, 36, 22, 17, 30, 20, 4, 40, 47, 41, 27, 46, 40, 38, 31, 38, 15, 11, 48, 7, 15, 46, 39, 4, 32, 4, 38, 27, 38, 31, 15, 10, 15, 33, 38, 31, 4, 31, 35, 29, 26, 38, 37, 2, 38, 31, 9, 37, 46, 38, 29, 36, 32, 6, 40, 40, 12, 10, 30, 36, 10, 43, 20, 30, 20, 43, 29, 35, 9, 10, 32, 35, 17, 42, 18, 5, 31, 46, 44, 35, 18, 5, 33, 13, 18, 21, 31, 46, 43, 32, 46, 44, 18, 2, 46, 43, 32, 46, 44, 35, 18, 19, 30, 39, 5, 35, 13, 18, 6, 33, 35, 10, 29, 15, 49, 35, 26, 13, 15, 34, 4, 35, 40, 7, 2, 4, 15, 19, 5, 31, 7, 34, 12, 20, 16, 24, 25, 16, 17, 42, 43, 40, 35, 2, 34, 38, 31, 4, 12, 34, 8, 10, 3, 8, 12, 4, 26, 46, 32, 28, 43, 40, 32, 14, 35, 47, 47, 44, 43, 40, 32, 35, 15, 31, 20, 41, 11, 2, 30, 1, 20, 41, 37, 20, 31, 38, 46, 31, 20, 8, 30, 40, 12, 20, 3, 18, 35, 20, 20, 24, 18, 35, 29, 29, 24, 49, 30, 32, 43, 45, 48, 24, 48, 29, 16, 20, 39, 38, 31, 15, 10, 15, 33, 21, 38, 21, 17, 33, 37, 3, 20, 22, 23, 16, 20, 29, 26, 46, 17, 21, 18, 20, 25, 2, 38, 31, 15, 10, 15, 33, 5, 21, 35, 9, 9, 24, 42, 14, 2, 29, 40, 22, 49, 9, 46, 26, 30, 21, 31, 47, 17, 35, 17, 34, 33, 7, 2, 43, 18, 45, 31, 47, 19, 17, 3, 32, 5, 16, 47, 16, 12, 29, 44, 7, 33, 20, 34, 10, 46, 29, 16, 16, 43, 41, 7, 27, 14, 35, 27, 30, 33, 48, 38, 31, 15, 10, 15, 33, 30, 3, 48, 9, 32, 29, 30, 41, 44, 40, 20, 20, 36, 34, 7, 49, 40, 24, 15, 9, 40, 24, 24, 40, 49, 22, 30, 43, 9, 46, 20, 20, 22, 44, 36, 34, 28, 30, 41, 9, 44, 45, 12, 4, 21, 39, 20, 20, 38, 31, 15, 10, 15, 33, 38, 31, 15, 10, 15, 33, 15, 28, 13, 34, 40, 45, 38, 7, 14, 30, 11, 7, 30, 2, 38, 31, 24, 38, 31, 15, 10, 15, 33, 20, 20, 10, 9, 48, 40, 20, 29, 20, 9, 10, 6, 20, 41, 48, 20, 9, 29, 25, 35, 20, 41, 33, 18, 20, 16, 21, 15, 14, 11, 20, 41, 19, 20, 40, 30, 20, 41, 46, 20, 3, 41, 20, 41, 42, 20, 39, 16, 41, 20, 30, 21, 3, 20, 49, 42, 32, 34, 2, 25, 20, 41, 43, 42, 20, 35, 12, 2, 11, 49, 42, 4, 20, 22, 18, 20, 41, 41, 20, 12, 2, 42, 41, 31, 40, 38, 31, 32, 13, 4, 4, 41, 14, 39, 47, 38, 31, 35, 12, 47, 6, 24, 32, 41, 40, 38, 31, 26, 29, 25, 48, 26, 20, 21, 34, 40, 41, 9, 38, 31, 35, 8, 15, 31, 14, 49, 49, 38, 31, 44, 35, 41, 2, 41, 21, 38, 31, 38, 31, 15, 10, 15, 33, 38, 31, 15, 10, 15, 33], [38, 31, 32, 1, 20, 20, 46, 22, 41, 38, 31, 15, 15, 28, 46, 39, 4, 12, 38, 44, 45, 42, 18, 25, 38, 31, 38, 32, 31, 4, 23, 16, 20, 48, 6, 30, 48, 20, 40, 20, 33, 46, 29, 30, 35, 26, 20, 20, 46, 35, 6, 39, 37, 20, 22, 16, 49, 17, 20, 38, 32, 12, 26, 32, 39, 10, 32, 39, 14, 45, 32, 17, 18, 4, 37, 21, 7, 1, 20, 46, 38, 13, 4, 37, 23, 20, 9, 2, 3, 20, 37, 22, 41, 42, 12, 21, 16, 38, 49, 4, 27, 38, 31, 15, 38, 21, 16, 49, 22, 41, 42, 32, 1, 9, 22, 36, 19, 22, 21, 16, 19, 33, 33, 22, 45, 43, 39, 10, 39, 14, 19, 32, 44, 12, 29, 38, 12, 18, 44, 42, 12, 33, 39, 20, 6, 29, 44, 20, 1, 8, 42, 20, 37, 26, 40, 38, 32, 12, 38, 6, 4, 32, 13, 27, 38, 26, 8, 43, 8, 45, 11, 21, 17, 46, 30, 41, 20, 20, 16, 49, 11, 31, 17, 9, 23, 25, 13, 38, 25, 5, 34, 2, 20, 30, 39, 37, 11, 32, 34, 17, 38, 26, 24, 17, 7, 17, 26, 30, 5, 14, 36, 20, 5, 17, 39, 26, 10, 45, 43, 14, 45, 39, 26, 31, 39, 33, 10, 23, 45, 35, 35, 39, 10, 6, 11, 45, 29, 17, 20, 4, 25, 6, 39, 49, 15, 23, 13, 38, 34, 39, 26, 27, 39, 38, 39, 14, 2, 46, 49, 10, 26, 48, 9, 4, 15, 38, 4, 4, 2, 4, 32, 13, 39, 43, 39, 24, 20, 24, 28, 24, 32, 26, 38, 5, 37, 13, 30, 43, 4, 37, 23, 7, 48, 34, 31, 3, 29, 8, 16, 12, 49, 4, 37, 9, 30, 4, 37, 42, 30, 7, 10, 4, 43, 12, 46, 48, 44, 22, 43, 33, 7, 48, 4, 37, 38, 18, 37, 38, 49, 38, 28, 49, 38, 4, 13, 22, 38, 4, 13, 1, 44, 12, 43, 5, 45, 43, 45, 5, 39, 29, 45, 31, 23, 48, 19, 14, 30, 43, 8, 5, 26, 44, 15, 19, 6, 46, 4, 2, 2, 8, 3, 49, 46, 2, 25, 7, 19, 28, 5, 36, 5, 5, 19, 28, 31, 20, 31, 3, 42, 49, 39, 29, 20, 42, 49, 39, 36, 20, 4, 13, 27, 20, 20, 7, 40, 18, 28, 34, 36, 9, 32, 48, 4, 37, 46, 20, 19, 43, 8, 9, 30, 19, 20, 40, 17, 45, 43, 6, 30, 29, 20, 41, 6, 23, 16, 20, 19, 25, 20, 20, 4, 14, 20, 49, 48, 10, 2, 4, 48, 30, 46, 40, 6, 2, 22, 20, 40, 20, 6, 30, 15, 44, 14, 20, 23, 13, 25, 38, 20, 18, 16, 28, 20, 17, 20, 6, 30, 20, 16, 24, 33, 48, 17, 30, 48, 20, 7, 30, 39, 20, 10, 11, 11, 17, 7, 31, 11, 24, 24, 4, 30, 38, 1, 30, 20, 24, 20, 35, 36, 20, 9, 10, 41, 36, 42, 49, 34, 20, 31, 12, 20, 28, 43, 14, 20, 20, 20, 13, 10, 2, 42, 20, 9, 20, 49, 10, 33, 46, 23, 19, 20, 37, 7, 9, 31, 6, 21, 45, 36, 22, 23, 29, 34, 17, 36, 10, 30, 31, 33, 21, 33, 34, 42, 34, 21, 30, 13, 7, 20, 38, 47, 10, 7, 4, 35, 28, 29, 6, 24, 30, 48, 14, 24, 43, 5, 28, 38, 31, 13, 33, 23, 15, 28, 47, 28, 38, 37, 38, 30, 20, 46, 37, 3, 39, 10, 39, 14, 4, 2, 3, 20, 40, 19, 4, 37, 23, 39, 7, 20, 20, 46, 18, 47, 28, 38, 5, 15, 44, 12, 32, 46, 42, 40, 10, 4, 44, 38, 32, 30, 48, 14, 39, 29, 11, 46, 25, 44, 47, 43, 46, 29, 45, 11, 44, 19, 20, 39, 10, 39, 14, 3, 34, 20, 31, 12, 20, 28, 43, 14, 20, 20, 20, 42, 28, 38, 4, 6, 20, 20, 46, 20, 41, 20, 25, 46, 13, 26, 47, 20, 20, 46, 19, 31, 26, 40, 4, 2, 32, 39, 26, 10, 45, 32, 39, 14, 27, 30, 20, 39, 39, 25, 4, 37, 21, 7, 1, 20, 46, 4, 2, 3, 20, 9, 30, 6, 20, 20, 16, 45, 20, 47, 9, 10, 44, 1, 9, 35, 37, 24, 15, 9, 38, 4, 38, 25, 38, 23, 12, 20, 47, 47, 4, 36, 23, 36, 43, 38, 2, 19, 45, 34, 4, 28, 5, 29, 19, 40, 31, 28, 3, 29, 45, 32, 9, 13, 14, 31, 22, 19, 32, 30, 26, 2, 32, 32, 9, 39, 48, 19, 32, 3, 23, 19, 20, 37, 42, 28, 40, 45, 3, 38, 13, 4, 37, 23, 20, 9, 49, 37, 15, 38, 22, 1, 10, 28, 34, 31, 1, 24, 20, 20, 46, 40, 20, 35, 45, 37, 13, 30, 11, 11, 47, 23, 33, 37, 10, 7, 37, 40, 42, 7, 37, 4, 31, 10, 10, 34, 19, 31, 10, 21, 28, 19, 31, 3, 13, 21, 40, 42, 29, 23, 42, 20, 32, 7, 30, 33, 37, 34, 37, 12, 41, 16, 9, 18, 38, 6, 33, 10, 7, 47, 30, 12, 40, 7, 30, 30, 38, 46, 43, 48, 24, 28, 42, 2, 6, 26, 29, 35, 25, 48, 10, 13, 24, 40, 28, 33, 10, 48, 36, 21, 6, 2, 29, 13, 10, 28, 12, 13, 47, 26, 1, 41, 17, 48, 31, 3, 37, 37, 4, 37, 33, 10, 8, 42, 21, 26, 10, 7, 37, 13, 23, 9, 36, 36, 23, 43, 33, 38, 28, 47, 36, 22, 28, 43, 48, 47, 6, 36, 28, 15, 28, 28, 21, 35, 31, 24, 37, 44, 12, 3, 21, 47, 10, 7, 4, 35, 28, 29, 6, 24, 38, 10, 4, 42, 10, 46, 24, 28, 33, 14, 24, 49, 30, 28, 30, 30, 18, 38, 4, 44, 12, 47, 7, 4, 37, 14, 40, 24, 2, 23, 45, 14, 29, 3, 21, 30, 48, 14, 24, 3, 32, 9, 36, 30, 26, 9, 30, 38, 30, 34, 29, 40, 36, 14, 17, 42, 47, 19, 1, 42, 3, 23, 45, 38, 12, 38, 12, 25, 12, 4, 30, 38, 12, 10, 24, 38, 30, 42, 23, 28, 38, 12, 30, 11, 22, 46, 31, 48, 41, 12, 20, 48, 38, 12, 38, 28, 41, 4, 44, 36, 9, 47, 22, 24, 41, 12, 12, 48, 22, 33, 7, 38, 24, 38, 4, 12, 14, 38, 36, 32, 43, 5, 9, 5, 25, 17, 21, 39, 28, 1, 45, 20, 19, 4, 1, 38, 12, 30, 42, 15, 42, 33, 10, 4, 44, 36, 47, 12, 28, 48, 48, 46, 12, 38, 12, 1, 47, 12, 46, 38, 29, 48, 26, 47, 48, 37, 38, 12, 40, 7, 10, 44, 22, 35, 22, 18, 14, 29, 44, 38, 12, 30, 13, 4, 37, 8, 38, 29, 38, 18, 44, 42, 18, 22, 2, 14, 31, 42, 19, 12, 33, 26, 20, 24, 11, 41, 38, 26, 8, 24, 2, 11, 41, 26, 27, 38, 38, 26, 27, 39, 35, 20, 35, 20, 37, 38, 20, 16, 49, 14, 30, 5, 14, 39, 26, 10, 39, 14, 14, 9, 34, 4, 15, 11, 41, 27, 43, 19, 38, 4, 38, 20, 43, 38, 4, 14, 8, 14, 32, 14, 44, 12, 14, 45, 14, 29, 4, 15, 14, 21, 45, 31, 14, 41, 14, 48, 36, 23, 21, 27, 14, 30, 6, 46, 38, 5, 3, 5, 36, 28, 31, 2, 3, 42, 49, 20, 20, 20, 40, 17, 38, 34, 47, 24, 40, 45, 18, 23, 42, 38, 11, 31, 7, 14, 5, 24, 42, 14, 40, 7, 27, 24, 41, 31, 18, 49, 17, 13, 39, 11, 38, 10, 4, 14, 11, 44, 26, 13, 15, 26, 37, 21, 41, 34, 7, 13, 27, 9, 4, 42, 12, 33, 12, 33, 38, 14, 5, 39, 20, 6, 29, 22, 12, 38, 39, 20, 6, 29, 37, 30, 5, 43, 44, 35, 23, 12, 2, 36, 20, 49, 14, 7, 7, 15, 37, 36, 11, 25, 8, 26, 19, 4, 12, 14, 22, 31, 38, 16, 20, 12, 20, 40, 20, 41, 11, 48, 16, 38, 27, 19, 36, 49, 1, 20, 41, 23, 6, 4, 47, 30, 20, 45, 49, 1, 4, 9, 20, 35, 45, 5, 11, 38, 31, 20, 20, 48, 45, 29, 43, 41, 4, 27, 29, 12, 20, 13, 45, 41, 37, 20, 24, 20, 6, 14, 12, 48, 29, 14, 12, 39, 40, 27, 46, 16, 14, 48, 6, 23, 13, 47, 28, 27, 6, 32, 20, 19, 7, 22, 27, 47, 12, 12, 22, 21, 24, 9, 43, 5, 7, 13, 12, 9, 41, 20, 41, 44, 20, 1, 8, 22, 12, 38, 20, 28, 1, 20, 23, 9, 29, 46, 24, 49, 3, 20, 2, 46, 27, 7, 7, 31, 1, 12, 25, 23, 26, 5, 5, 15, 34, 48, 5, 48, 10, 23, 9, 20, 31, 18, 15, 45, 11, 32, 34, 8, 49, 42, 45, 39, 7, 34, 20, 49, 36, 31, 33, 20, 23, 43, 40, 45, 20, 32, 45, 28, 37, 34, 20, 10, 34, 9, 11, 16, 25, 49, 18, 4, 5, 28, 20, 41, 35, 38, 22, 20, 40, 28, 32, 10, 4, 15, 31, 41, 14, 12, 38, 3, 2, 42, 20, 37, 4, 31, 47, 22, 20, 20, 36, 43, 12, 39, 49, 30, 29, 42, 2, 47, 48, 21, 48, 25, 8, 2, 20, 22, 44, 20, 12, 41, 20, 36, 34, 17, 37, 19, 29, 4, 28, 42, 42, 2, 20, 1, 47, 23, 46, 5, 25, 18, 33, 1, 43, 36, 27, 9, 20, 9, 30, 1, 31, 36, 31, 20, 16, 36, 17, 37, 22, 30, 24, 23, 40, 38, 4, 37, 20, 3, 20, 5, 24, 35, 15, 26, 41, 4, 26, 1, 47, 5, 10, 31, 40, 29, 21, 4, 29, 43, 31, 15, 12, 3, 18, 10, 5, 26, 38, 24, 40, 30, 25, 44, 34, 36, 25, 21, 30, 20, 39, 20, 49, 21, 40, 30, 38, 12, 41, 31, 17, 39, 21, 43, 4, 27, 25, 21, 38, 12, 37, 21, 49, 15, 43, 45, 13, 25, 21, 40, 30, 35, 36, 38, 12, 36, 21, 44, 35, 20, 33, 38, 12, 38, 43, 21, 30, 34, 32, 43, 14, 3, 4, 38, 12, 32, 35, 20, 37, 40, 22, 6, 14, 5, 30, 14, 30, 47, 29, 40, 35, 42, 40, 49, 43, 38, 38, 30, 40, 21, 29, 38, 36, 20, 39, 45, 26, 20, 37, 43, 3, 42, 37, 20, 28, 45, 20, 28, 6, 48, 20, 12, 21, 43, 29, 47, 2, 20, 28, 5, 38, 28, 48, 29, 47, 3, 10, 6, 20, 46, 5, 30, 35, 20, 10, 3, 28, 32, 48, 20, 46, 21, 12, 29, 1, 47, 17, 11, 38, 40, 17, 42, 31, 20, 15, 25, 6, 3, 19, 43, 47, 40, 17, 40, 3, 31, 20, 38, 4, 45, 49, 9, 37, 19, 39, 39, 38, 44, 40, 44, 40, 42, 31, 25, 15, 35, 38, 32, 12, 43, 3, 20, 18, 46, 2, 36, 30, 30, 8, 26, 27, 31, 46, 49, 24, 38, 48, 38, 2, 31, 12, 36, 41, 2, 6, 10, 44, 34, 30, 24, 16, 20, 47, 20, 20, 28, 12, 18, 32, 40, 49, 12, 31, 30, 26, 30, 29, 2, 38, 12, 18, 45, 2, 36, 38, 32, 12, 44, 26, 2, 36, 32, 47, 38, 2, 38, 47, 39, 26, 27, 6, 6, 32, 29, 39, 33, 10, 46, 3, 3, 20, 16, 30, 17, 9, 38, 12, 6, 39, 39, 16, 38, 2, 20, 16, 29, 33, 6, 44, 38, 45, 26, 26, 9, 35, 20, 38, 4, 46, 1, 21, 30, 1, 49, 38, 37, 6, 30, 27, 6, 32, 47, 4, 45, 30, 20, 20, 30, 3, 2, 1, 27, 2, 3, 20, 24, 36, 46, 33, 6, 9, 10, 44, 43, 25, 15, 29, 38, 16, 47, 20, 40, 36, 27, 20, 12, 18, 29, 28, 34, 16, 6, 30, 39, 27, 42, 6, 33, 30, 38, 20, 45, 34, 24, 33, 38, 1, 30, 9, 38, 12, 38, 6, 4, 14, 2, 36, 16, 34, 16, 9, 37, 37, 20, 25, 2, 31, 35, 23, 6, 12, 9, 6, 43, 35, 7, 41, 36, 32, 39, 35, 41, 34, 6, 30, 38, 45, 6, 4, 38, 44, 46, 21, 29, 35, 6, 4, 15, 2, 36, 3, 20, 20, 30, 24, 32, 13, 27, 38, 45, 39, 32, 13, 27, 31, 13, 27, 49, 48, 7, 38, 9, 36, 20, 33, 3, 13, 20, 20, 46, 11, 6, 49, 44, 27, 42, 39, 48, 35, 46, 27, 13, 29, 39, 9, 12, 4, 36, 38, 21, 7, 7, 36, 25, 39, 48, 11, 48, 48, 36, 36, 7, 4, 12, 12, 22, 29, 1, 25, 49, 29, 44, 39, 32, 13, 27, 4, 7, 38, 9, 36, 20, 33, 48, 45, 1, 49, 26, 26, 13, 27, 12, 38, 14, 39, 48, 7, 32, 3, 46, 27, 13, 3, 14, 3, 26, 6, 17, 2, 42, 40, 27, 32, 32, 13, 27, 17, 38, 11, 2, 42, 38, 39, 38, 26, 8, 43, 38, 32, 39, 26, 10, 45, 32, 39, 14, 2, 30, 20, 39, 39, 25, 4, 2, 3, 20, 9, 30, 6, 20, 20, 16, 45, 20, 47, 9, 10, 44, 4, 37, 21, 7, 1, 20, 46, 20, 17, 32, 29, 46, 24, 42, 16, 46, 17, 42, 16, 46, 15, 14, 21, 8, 27, 38, 1, 38, 21, 10, 35, 41, 45, 11, 29, 16, 35, 32, 14, 31, 34, 45, 4, 3, 38, 35, 37, 32, 38, 38, 20, 45, 11, 11, 8, 45, 38, 31, 4, 8, 21, 42, 24, 24, 30, 17, 38, 27, 40, 46, 30, 11, 21, 21, 21, 23, 17, 42, 35, 31, 3, 46, 44, 20, 16, 49, 11, 28, 33, 20, 33, 42, 29, 39, 38, 20, 14, 25, 40, 20, 25, 11, 36, 21, 17, 5, 31, 34, 46, 42, 33, 35, 2, 11, 36, 21, 17, 39, 14, 46, 20, 44, 39, 49, 20, 2, 46, 42, 33, 30, 49, 37, 11, 23, 9, 37, 35, 32, 40, 17, 37, 5, 22, 49, 5, 20, 49, 22, 4, 38, 49, 4, 35, 30, 26, 5, 30, 29, 26, 34, 42, 35, 30, 38, 31, 4, 8, 38, 8, 34, 34, 31, 47, 35, 35, 35, 42, 18, 36, 11, 30, 43, 16, 34, 31, 35, 34, 42, 30, 35, 16, 33, 5, 22, 35, 30, 21, 39, 28, 5, 2, 11, 27, 21, 36, 24, 1, 48, 19, 25, 21, 38, 42, 18, 36, 11, 22, 30, 19, 27, 32, 28, 14, 5, 4, 39, 10, 16, 33, 5, 22, 35, 20, 2, 46, 28, 5, 2, 36, 24, 21, 39, 30, 29, 16, 46, 31, 34, 3, 31, 49, 35, 38, 32, 4, 24, 9, 38, 35, 46, 38, 20, 46, 23, 38, 1, 43, 2, 11, 21, 17, 46, 30, 41, 20, 46, 13, 1, 20, 41, 15, 29, 23, 44, 27, 29, 17, 20, 38, 39, 45, 30, 2, 29, 35, 21, 20, 8, 46, 21, 1, 38, 34, 37, 10, 4, 46, 6, 20, 20, 4, 14, 4, 46, 36, 17, 27, 20, 41, 4, 3, 30, 45, 20, 30, 10, 20, 20, 43, 37, 1, 22, 20, 38, 46, 7, 21, 27, 36, 35, 25, 35, 17, 38, 6, 27, 9, 37, 39, 48, 38, 49, 37, 44, 30, 46, 38, 38, 21, 21, 40, 17, 13, 26, 26, 25, 2, 5, 34, 39, 20, 4, 13, 21, 35, 33, 30, 21, 46, 5, 47, 42, 41, 42, 5, 9, 37, 3, 37, 26, 44, 26, 46, 30, 4, 42, 43, 35, 15, 17, 1, 29, 41, 29, 30, 30, 34, 8, 9, 21, 32, 30, 27, 38, 7, 38, 27, 49, 3, 25, 3, 9, 23, 26, 30, 40, 25, 31, 11, 32, 37, 47, 35, 20, 16, 49, 20, 16, 49, 34, 38, 30, 20, 12, 20, 33, 42, 26, 26, 49, 23, 7, 34, 13, 10, 16, 18, 38, 20, 30, 9, 20, 38, 22, 8, 39, 44, 39, 29, 38, 31, 41, 46, 2, 4, 21, 34, 11, 31, 17, 15, 34, 23, 42, 38, 31, 37, 41, 49, 37, 9, 23, 25, 13, 38, 9, 46, 33, 14, 13, 28, 48, 7, 38, 31, 27, 4, 16, 12, 38, 20, 28, 18, 4, 12, 49, 37, 5, 31, 30, 27, 14, 9, 13, 38, 10, 11, 32, 14, 34, 38, 24, 2, 9, 13, 21, 17, 28, 30, 46, 26, 12, 30, 20, 16, 49, 34, 25, 5, 34, 25, 26, 26, 21, 35, 36, 4, 5, 34, 41, 39, 14, 5, 42, 10, 25, 18, 14, 5, 43, 4, 14, 47, 18, 14, 20, 42, 35, 49, 14, 15, 18, 4, 7, 30, 17, 34, 8, 25, 30, 25, 34, 8, 2, 20, 30, 39, 37, 2, 1, 17, 20, 30, 2, 27, 49, 43, 21, 46, 3, 30, 24, 32, 37, 49, 44, 39, 20, 49, 13, 21, 45, 32, 46, 24, 7, 10, 35, 6, 40, 20, 28, 12, 20, 31, 46, 7, 7, 20, 49, 39, 13, 4, 14, 34, 39, 13, 14, 37, 29, 10, 22, 22, 43, 37, 28, 39, 18, 44, 39, 14, 2, 33, 44, 48, 25, 20, 46, 44, 41, 36, 39, 1, 36, 49, 2, 3, 19, 8, 4, 2, 4, 30, 44, 6, 46, 42, 46, 30, 2, 34, 8, 11, 32, 34, 17, 49, 37, 23, 9, 37, 47, 35, 32, 40, 17, 37, 5, 38, 26, 24, 17, 7, 30, 21, 49, 37, 17, 30, 17, 7, 7, 17, 9, 32, 49, 41, 46, 17, 11, 37, 19, 30, 35, 35, 40, 16, 49, 17, 19, 14, 30, 19, 4, 5, 7, 43, 41, 17, 5, 10, 5, 16, 35, 36, 46, 20, 2, 9, 49, 43, 5, 5, 12, 40, 41, 35, 25, 24, 2, 4, 47, 22, 40, 26, 40, 5, 49, 37, 38, 49, 4, 48, 17, 26, 41, 17, 27, 38, 4, 2, 30, 28, 44, 40, 9, 9, 1, 41, 5, 30, 40, 25, 34, 30, 24, 39, 29, 6, 20, 2, 3, 37, 1, 6, 11, 7, 39, 30, 35, 2, 45, 27, 44, 39, 40, 44, 39, 14, 17, 17, 6, 15, 49, 9, 39, 8, 44, 39, 14, 29, 10, 5, 15, 5, 17, 20, 30, 17, 26, 7, 22, 38, 39, 14, 44, 25, 39, 14, 21, 21, 39, 26, 10, 45, 40, 7, 24, 10, 14, 44, 39, 14, 45, 24, 30, 5, 14, 36, 38, 46, 17, 12, 26, 31, 20, 30, 41, 32, 49, 5, 36, 7, 11, 44, 49, 34, 20, 20, 5, 5, 15, 10, 5, 5, 24, 27, 17, 38, 5, 49, 4, 35, 35, 46, 40, 5, 49, 32, 37, 1, 2, 20, 45, 49, 37, 39, 26, 10, 45, 1, 39, 27, 20, 27, 26, 45, 30, 24, 24, 4, 24, 30, 46, 17, 31, 20, 30, 20, 5, 17, 17, 5, 16, 31, 38, 36, 28, 43, 21, 17, 38, 20, 5, 17, 18, 17, 5, 47, 24, 24, 42, 10, 47, 18, 19, 19, 24, 25, 44, 46, 28, 18, 17, 5, 49, 38, 4, 31, 16, 18, 11, 20, 32, 31, 33, 9, 3, 45, 24, 14, 47, 46, 49, 43, 46, 7, 25, 42, 44, 23, 29, 38, 36, 34, 25, 5, 5, 28, 41, 49, 17, 10, 19, 49, 31, 33, 31, 8, 16, 5, 30, 25, 36, 49, 16, 31, 39, 26, 10, 45, 43, 14, 34, 45, 37, 32, 40, 7, 3, 48, 33, 43, 13, 9, 19, 30, 39, 15, 38, 4, 19, 27, 20, 46, 45, 16, 2, 38, 38, 44, 14, 45, 39, 26, 7, 30, 45, 17, 20, 46, 29, 46, 34, 32, 8, 44, 29, 46, 34, 34, 43, 49, 44, 49, 35, 13, 39, 30, 33, 7, 34, 1, 39, 3, 26, 1, 39, 41, 26, 39, 8, 30, 7, 36, 35, 44, 39, 8, 14, 46, 6, 4, 19, 31, 39, 33, 10, 38, 43, 5, 10, 46, 5, 1, 15, 32, 31, 39, 37, 7, 46, 36, 36, 34, 2, 9, 43, 36, 45, 39, 32, 7, 4, 33, 33, 36, 28, 30, 10, 39, 24, 38, 31, 44, 34, 39, 2, 9, 28, 2, 43, 10, 33, 23, 45, 38, 39, 26, 10, 45, 21, 25, 46, 31, 13, 14, 45, 45, 5, 20, 22, 10, 7, 35, 4, 7, 23, 5, 26, 43, 40, 13, 25, 37, 45, 40, 7, 38, 46, 32, 39, 14, 33, 43, 48, 39, 26, 4, 37, 32, 45, 6, 4, 16, 11, 27, 44, 49, 26, 16, 39, 44, 40, 12, 16, 16, 39, 27, 20, 11, 39, 27, 7, 27, 47, 6, 31, 33, 45, 21, 9, 37, 35, 38, 32, 6, 11, 32, 5, 19, 7, 39, 10, 20, 39, 3, 24, 7, 23, 15, 39, 34, 41, 29, 31, 2, 35, 35, 39, 10, 8, 39, 39, 35, 17, 19, 5, 40, 32, 33, 21, 29, 38, 41, 29, 39, 16, 8, 25, 46, 32, 12, 12, 38, 20, 39, 30, 39, 33, 36, 48, 3, 49, 27, 30, 24, 6, 11, 38, 31, 2, 30, 6, 11, 3, 22, 20, 39, 46, 2, 46, 25, 45, 40, 20, 15, 35, 37, 41, 21, 48, 37, 43, 37, 15, 48, 35, 9, 16, 3, 47, 31, 3, 26, 37, 18, 7, 39, 30, 25, 32, 34, 46, 20, 20, 41, 46, 25, 20, 39, 27, 7, 20, 16, 27, 4, 39, 27, 36, 39, 30, 44, 3, 44, 15, 24, 20, 27, 39, 27, 7, 9, 30, 5, 3, 46, 30, 48, 32, 49, 40, 36, 39, 27, 33, 45, 29, 17, 20, 30, 24, 16, 37, 30, 30, 16, 20, 39, 44, 9, 15, 1, 38, 18, 44, 2, 20, 6, 39, 39, 36, 39, 2, 49, 49, 4, 25, 7, 26, 14, 13, 20, 5, 27, 36, 34, 30, 21, 9, 39, 39, 27, 4, 25, 6, 38, 31, 45, 25, 5, 23, 41, 45, 14, 25, 35, 12, 35, 46, 30, 21, 25, 23, 6, 39, 49, 15, 23, 13, 38, 30, 24, 41, 20, 30, 27, 39, 26, 27, 39, 49, 40, 30, 47, 43, 39, 2, 12, 14, 25, 15, 23, 38, 43, 7, 27, 44, 19, 18, 46, 42, 46, 26, 45, 43, 5, 28, 16, 4, 20, 43, 38, 45, 12, 19, 5, 46, 6, 10, 31, 32, 4, 15, 23, 40, 24, 15, 34, 34, 48, 19, 40, 36, 43, 3, 22, 22, 25, 25, 34, 1, 34, 15, 9, 36, 22, 48, 38, 33, 44, 15, 42, 27, 6, 15, 49, 41, 11, 18, 19, 45, 30, 24, 15, 49, 12, 23, 29, 13, 38, 17, 37, 25, 34, 15, 15, 23, 41, 40, 49, 35, 44, 33, 43, 25, 5, 37, 24, 36, 5, 20, 10, 5, 3, 29, 35, 7, 2, 25, 7, 48, 47, 29, 35, 38, 26, 26, 7, 37, 47, 48, 42, 4, 49, 39, 15, 21, 18, 18, 12, 37, 10, 33, 30, 15, 23, 37, 15, 49, 12, 23, 29, 49, 48, 14, 9, 13, 38, 17, 37, 32, 25, 34, 15, 7, 30, 15, 23, 37, 11, 39, 23, 33, 29, 31, 2, 3, 40, 32, 40, 27, 33, 24, 33, 49, 33, 27, 9, 27, 33, 1, 44, 34, 47, 26, 24, 33, 14, 28, 30, 14, 10, 5, 2, 3, 14, 33, 2, 36, 5, 20, 33, 10, 5, 36, 3, 1, 44, 47, 26, 24, 36, 5, 20, 33, 10, 5, 2, 14, 17, 39, 38, 35, 42, 42, 43, 15, 43, 34, 47, 23, 33, 43, 26, 33, 14, 43, 31, 36, 25, 49, 18, 23, 25, 38, 48, 12, 33, 44, 32, 49, 36, 14, 30, 36, 42, 33, 35, 33, 47, 12, 46, 11, 27, 12, 15, 22, 32, 3, 38, 15, 15, 15, 21, 38, 49, 39, 21, 17, 17, 20, 39, 14, 10, 14, 7, 44, 1, 4, 2, 2, 4, 25, 5, 5, 39, 43, 34, 17, 9, 20, 15, 45, 24, 32, 18, 13, 7, 30, 22, 15, 14, 25, 6, 29, 21, 12, 30, 13, 38, 32, 6, 37, 42, 8, 14, 34, 16, 15, 37, 37, 41, 7, 25, 4, 10, 43, 29, 39, 4, 13, 19, 34, 13, 9, 45, 27, 41, 11, 3, 21, 15, 32, 13, 23, 21, 38, 31, 5, 16, 38, 12, 20, 6, 26, 33, 15, 34, 21, 10, 14, 15, 4, 20, 12, 20, 11, 26, 10, 15, 34, 21, 10, 44, 15, 4, 20, 12, 42, 21, 10, 26, 27, 37, 42, 12, 11, 32, 12, 15, 30, 34, 39, 26, 27, 27, 6, 34, 16, 13, 10, 46, 23, 39, 27, 41, 35, 9, 30, 24, 30, 38, 31, 10, 7, 30, 39, 26, 27, 39, 38, 30, 42, 46, 1, 5, 14, 24, 13, 41, 39, 26, 47, 14, 24, 11, 30, 13, 30, 49, 18, 30, 41, 49, 37, 6, 11, 15, 39, 30, 40, 10, 41, 14, 10, 14, 24, 10, 23, 42, 10, 5, 30, 25, 35, 19, 47, 6, 39, 27, 46, 44, 39, 9, 9, 6, 37, 14, 27, 14, 14, 14, 24, 5, 8, 34, 24, 29, 45, 13, 39, 14, 16, 48, 6, 46, 39, 14, 27, 38, 5, 44, 15, 30, 24, 7, 42, 6, 14, 45, 9, 23, 47, 39, 14, 6, 41, 15, 44, 35, 30, 21, 12, 5, 9, 39, 39, 39, 30, 42, 39, 30, 11, 22, 44, 37, 5, 39, 26, 45, 27, 10, 39, 34, 21, 14, 40, 4, 30, 34, 41, 39, 14, 6, 38, 2, 46, 3, 12, 38, 15, 39, 14, 16, 36, 42, 39, 30, 30, 21, 16, 39, 13, 25, 49, 4, 30, 24, 49, 4, 16, 47, 31, 36, 39, 35, 24, 24, 6, 41, 45, 8, 26, 5, 12, 39, 17, 21, 12, 15, 32, 6, 3, 39, 10, 33, 43, 47, 49, 4, 49, 10, 26, 48, 26, 47, 42, 42, 34, 6, 27, 30, 37, 34, 45, 21, 33, 17, 22, 38, 44, 35, 21, 49, 41, 17, 42, 5, 6, 30, 6, 49, 4, 30, 40, 8, 47, 47, 33, 43, 25, 9, 4, 15, 38, 4, 38, 15, 43, 9, 38, 4, 38, 25, 38, 26, 20, 12, 20, 33, 34, 47, 4, 36, 23, 36, 43, 38, 2, 19, 45, 34, 4, 28, 5, 35, 19, 40, 20, 32, 38, 49, 29, 45, 25, 31, 33, 38, 47, 28, 4, 28, 34, 4, 47, 38, 47, 39, 4, 30, 34, 38, 31, 6, 10, 26, 48, 21, 34, 8, 21, 26, 5, 36, 38, 12, 22, 45, 41, 15, 12, 29, 12, 24, 5, 40, 30, 12, 26, 3, 12, 11, 44, 43, 38, 26, 12, 5, 14, 21, 40, 30, 34, 38, 29, 43, 7, 42, 19, 14, 30, 23, 49, 9, 22, 36, 9, 19, 21, 43, 7, 42, 37, 41, 30, 25, 4, 5, 30, 2, 3, 39, 46, 17, 17, 38, 20, 21, 17, 20, 44, 43, 42, 4, 30, 4, 2, 16, 35, 35, 43, 42, 6, 35, 7, 34, 29, 16, 9, 43, 45, 33, 43, 19, 42, 20, 13, 9, 30, 43, 33, 20, 23, 9, 20, 49, 29, 45, 29, 32, 44, 20, 23, 26, 43, 21, 29, 45, 39, 32, 20, 6, 10, 47, 24, 5, 7, 34, 32, 41, 16, 32, 47, 44, 22, 49, 7, 22, 43, 6, 32, 47, 6, 7, 10, 15, 6, 2, 39, 31, 32, 37, 41, 28, 21, 17, 45, 47, 3, 38, 32, 29, 7, 40, 37, 29, 41, 2, 20, 13, 10, 24, 32, 13, 29, 41, 45, 32, 46, 30, 11, 27, 21, 36, 44, 38, 32, 30, 20, 5, 16, 44, 16, 40, 19, 14, 30, 4, 32, 29, 32, 41, 16, 11, 29, 45, 36, 9, 37, 35, 3, 17, 18, 34, 41, 19, 29, 45, 16, 41, 16, 15, 45, 20, 19, 7, 35, 41, 35, 41, 29, 45, 17, 35, 31, 10, 35, 48, 26, 35, 12, 32, 9, 39, 48, 4, 9, 28, 38, 49, 29, 45, 25, 13, 39, 43, 40, 45, 3, 38, 13, 4, 37, 23, 20, 9, 38, 37, 1, 17, 20, 46, 10, 21, 38, 9, 13, 48, 34, 44, 48, 7, 26, 39, 24, 13, 38, 9, 39, 24, 13, 20, 2, 35, 35, 22, 46, 28, 4, 35, 20, 40, 35, 9, 12, 33, 39, 24, 20, 24, 43, 49, 3, 24, 24, 19, 5, 33, 31, 3, 30, 16, 42, 30, 3, 21, 20, 17, 19, 31, 16, 2, 20, 20, 25, 18, 47, 20, 43, 31, 39, 38, 30, 44, 31, 42, 20, 19, 31, 1, 2, 3, 34, 34, 40, 40, 4, 33, 42, 49, 46, 46, 4, 46, 49, 35, 17, 38, 42, 33, 20, 43, 3, 11, 32, 27, 35, 38, 11, 28, 7, 49, 47, 43, 46, 36, 33, 34, 20, 24, 27, 21, 38, 16, 20, 12, 47, 15, 20, 30, 36, 13, 8, 20, 32, 20, 39, 4, 35, 14, 31, 38, 31, 20, 24, 32, 29, 5, 4, 28, 22, 49, 31, 39, 34, 1, 20, 35, 20, 46, 26, 20, 31, 35, 46, 48, 47, 44, 20, 31, 35, 46, 11, 1, 20, 39, 45, 49, 30, 20, 20, 43, 46, 16, 27, 3, 20, 17, 20, 21, 20, 29, 47, 41, 43, 37, 12, 7, 15, 38, 27, 45, 38, 27, 49, 35, 46, 31, 11, 21, 36, 42, 46, 35, 20, 24, 11, 35, 4, 43, 37, 6, 39, 3, 20, 41, 25, 49, 11, 3, 30, 12, 15, 35, 15, 30, 20, 24, 27, 44, 9, 39, 9, 9, 34, 46, 47, 20, 27, 12, 35, 21, 33, 43, 37, 4, 49, 33, 42, 37, 12, 35, 47, 43, 37, 27, 43, 36, 25, 46, 5, 33, 18, 17, 33, 35, 5, 34, 8, 13, 5, 46, 31, 18, 11, 34, 8, 13, 35, 45, 45, 27, 13, 41, 21, 5, 14, 2, 24, 35, 24, 4, 48, 20, 24, 18, 21, 35, 20, 46, 27, 39, 35, 32, 48, 44, 15, 27, 34, 47, 5, 20, 40, 12, 46, 11, 15, 32, 42, 32, 35, 20, 24, 32, 42, 17, 30, 36, 40, 24, 3, 23, 7, 30, 25, 20, 21, 49, 43, 17, 41, 40, 5, 1, 3, 6, 43, 18, 15, 30, 46, 25, 20, 40, 28, 18, 31, 41, 46, 13, 20, 14, 46, 6, 21, 36, 19, 18, 17, 10, 10, 25, 20, 44, 21, 8, 11, 35, 22, 47, 39, 36, 22, 38, 40, 26, 25, 15, 42, 5, 47, 26, 1, 36, 19, 22, 24, 11, 26, 6, 7, 11, 38, 40, 4, 22, 31, 39, 36, 22, 14, 32, 20, 4, 24, 18, 20, 21, 10, 26, 7, 12, 25, 20, 36, 13, 5, 6, 2, 40, 29, 45, 26, 28, 37, 33, 21, 20, 21, 12, 24, 30, 29, 22, 22, 5, 4, 21, 1, 19, 7, 8, 10, 39, 11, 47, 35, 27, 27, 23, 12, 12, 49, 3, 38, 4, 18, 27, 46, 47, 33, 8, 38, 49, 22, 40, 18, 15, 29, 28, 10, 23, 47, 4, 7, 2, 18, 22, 18, 6, 47, 26, 36, 42, 46, 47, 47, 48, 44, 47, 2, 28, 20, 37, 18, 23, 23, 20, 6, 23, 2, 18, 36, 6, 48, 37, 22, 3, 1, 4, 18, 48, 28, 24, 46, 9, 20, 44, 9, 1, 5, 48, 26, 6, 20, 32, 39, 9, 44, 23, 42, 16, 49, 8, 7, 13, 47, 28, 24, 25, 31, 8, 9, 5, 22, 6, 15, 47, 38, 38, 43, 37, 7, 13, 1, 7, 38, 46, 33, 28, 24, 18, 47, 9, 25, 24, 5, 41, 2, 30, 49, 21, 3, 29, 12, 19, 33, 38, 45, 9, 25, 25, 47, 31, 28, 42, 28, 24, 31, 46, 38, 16, 33, 46, 4, 16, 49, 43, 19, 21, 38, 4, 16, 3, 13, 30, 28, 24, 10, 42, 47, 20, 4, 40, 40, 45, 38, 23, 14, 9, 30, 3, 31, 45, 12, 38, 35, 3, 23, 7, 49, 34, 39, 27, 30, 10, 31, 11, 40, 13, 40, 42, 40, 9, 29, 42, 34, 14, 33, 12, 25, 12, 26, 4, 32, 21, 23, 9, 49, 1, 49, 44, 14, 22, 13, 34, 31, 11, 26, 31, 42, 47, 2, 37, 31, 30, 35, 10, 13, 31, 47, 31, 30, 44, 20, 38, 49, 35, 32, 26, 38, 5, 37, 13, 30, 43, 14, 3, 23, 19, 20, 37, 42, 28, 38, 13, 4, 37, 23, 20, 9, 49, 37, 14, 21, 26, 5, 48, 38, 2, 4, 37, 19, 20, 19, 21, 37, 13, 30, 22, 38, 25, 11, 31, 39, 7, 20, 20, 46, 7, 38, 4, 13, 19, 43, 20, 19, 2, 10, 29, 30, 32, 20, 19, 38, 28, 9, 6, 24, 23, 18, 37, 37, 27, 19, 18, 12, 38, 37, 37, 7, 48, 38, 12, 46, 25, 11, 42, 42, 28, 36, 39, 41, 38, 5, 3, 1, 8, 14, 45, 47, 5, 2, 28, 20, 5, 6, 10, 41, 38, 15, 36, 20, 5, 6, 10, 41, 38, 15, 29, 2, 46, 2, 3, 2, 32, 6, 10, 38, 23, 29, 25, 25, 26, 4, 3, 6, 49, 28, 29, 14, 32, 41, 45, 47, 4, 37, 23, 7, 48, 34, 31, 4, 37, 5, 15, 23, 38, 24, 20, 36, 28, 10, 32, 38, 30, 38, 12, 4, 37, 39, 38, 23, 32, 10, 28, 34, 31, 24, 48, 29, 4, 37, 13, 30, 17, 40, 13, 21, 19, 31, 7, 10, 27, 43, 48, 7, 40, 13, 15, 26, 34, 4, 27, 37, 48, 37, 43, 31, 10, 39, 19, 31, 4, 37, 10, 19, 16, 24, 6, 10, 29, 7, 31, 37, 24, 47, 29, 23, 28, 41, 46, 38, 23, 31, 41, 11, 30, 46, 23, 31, 20, 31, 49, 28, 4, 9, 4, 37, 24, 10, 14, 1, 38, 6, 2, 7, 4, 37, 26, 1, 40, 32, 32, 22, 37, 18, 40, 22, 22, 24, 26, 10, 14, 43, 2, 31, 8, 10, 14, 4, 28, 42, 29, 24, 41, 8, 8, 47, 4, 10, 47, 38, 12, 33, 4, 17, 8, 12, 2, 13, 38, 14, 19, 28, 47, 46, 24, 4, 37, 30, 32, 37, 10, 43, 48, 24, 5, 21, 7, 28, 26, 16, 35, 22, 21, 8, 3, 4, 48, 26, 38, 13, 27, 37, 21, 26, 41, 12, 30, 8, 3, 4, 48, 9, 23, 1, 10, 7, 2, 7, 30, 34, 2, 12, 42, 7, 30, 26, 48, 33, 25, 12, 6, 38, 44, 38, 44, 29, 34, 19, 31, 2, 31, 2, 25, 33, 28, 2, 42, 36, 40, 10, 31, 10, 28, 49, 46, 45, 14, 43, 7, 10, 2, 26, 48, 30, 14, 10, 37, 40, 26, 44, 44, 34, 37, 1, 47, 46, 37, 10, 9, 10, 6, 1, 30, 43, 17, 12, 42, 23, 6, 26, 34, 19, 31, 2, 31, 28, 1, 47, 48, 24, 33, 37, 7, 37, 26, 33, 37, 13, 30, 30, 47, 15, 16, 26, 27, 38, 20, 10, 47, 18, 48, 6, 42, 32, 18, 49, 4, 37, 45, 15, 32, 31, 30, 2, 15, 16, 20, 24, 23, 3, 16, 6, 2, 47, 20, 20, 23, 27, 20, 5, 47, 31, 29, 24, 23, 19, 31, 38, 20, 20, 48, 6, 47, 31, 29, 24, 6, 20, 8, 24, 6, 20, 17, 39, 36, 25, 28, 14, 49, 29, 35, 20, 17, 31, 34, 31, 12, 4, 49, 37, 34, 26, 20, 17, 42, 47, 15, 30, 25, 13, 47, 37, 18, 4, 47, 2, 42, 31, 30, 41, 41, 3, 22, 21, 16, 26, 26, 32, 26, 34, 8, 3, 29, 48, 44, 26, 10, 45, 21, 29, 44, 46, 38, 10, 28, 48, 45, 14, 43, 3, 29, 8, 16, 12, 49, 21, 47, 39, 23, 30, 40, 29, 21, 30, 13, 26, 49, 16, 46, 23, 32, 4, 37, 30, 42, 14, 4, 49, 8, 6, 32, 5, 37, 16, 2, 36, 49, 29, 16, 6, 30, 13, 3, 36, 4, 37, 14, 49, 29, 49, 34, 34, 42, 42, 47, 49, 31, 49, 3, 44, 34, 37, 39, 30, 29, 4, 37, 30, 2, 37, 32, 10, 37, 29, 32, 23, 26, 6, 30, 31, 17, 30, 31, 8, 30, 7, 49, 24, 39, 21, 10, 4, 32, 27, 8, 49, 12, 34, 5, 19, 38, 24, 25, 49, 24, 23, 17, 46, 39, 44, 46, 3, 30, 4, 37, 9, 30, 29, 4, 37, 21, 35, 46, 2, 5, 4, 37, 25, 49, 2, 21, 26, 10, 19, 31, 24, 49, 47, 24, 13, 40, 30, 35, 46, 32, 38, 25, 4, 13, 47, 29, 39, 17, 9, 21, 5, 40, 28, 37, 12, 7, 2, 18, 5, 43, 48, 12, 4, 6, 1, 49, 25, 25, 13, 36, 25, 25, 25, 27, 19, 28, 42, 4, 25, 25, 4, 27, 19, 4, 27, 4, 27, 47, 5, 47, 18, 38, 3, 13, 31, 31, 43, 40, 5, 43, 49, 35, 10, 31, 44, 38, 7, 37, 6, 23, 4, 37, 21, 6, 42, 25, 25, 49, 47, 4, 25, 32, 4, 27, 20, 47, 5, 47, 18, 48, 20, 38, 1, 27, 17, 25, 25, 16, 18, 27, 42, 4, 43, 23, 27, 17, 48, 1, 35, 1, 24, 35, 10, 14, 31, 44, 2, 25, 25, 32, 32, 22, 37, 18, 15, 47, 21, 4, 25, 25, 35, 35, 22, 2, 25, 29, 4, 13, 47, 10, 16, 13, 25, 5, 47, 18, 12, 5, 37, 5, 17, 25, 48, 47, 18, 35, 12, 48, 17, 2, 22, 48, 1, 48, 1, 37, 2, 6, 24, 20, 13, 20, 47, 10, 42, 31, 21, 35, 19, 24, 36, 10, 6, 30, 9, 24, 38, 9, 37, 7, 20, 42, 8, 1, 10, 18, 12, 35, 1, 14, 24, 36, 13, 2, 23, 40, 47, 47, 24, 16, 16, 45, 13, 12, 21, 12, 49, 47, 21, 6, 12, 47, 40, 22, 37, 42, 27, 17, 2, 40, 40, 43, 23, 1, 23, 1, 47, 38, 12, 33, 47, 49, 27, 7, 8, 12, 38, 13, 38, 14, 19, 22, 48, 1, 36, 23, 1, 5, 27, 17, 47, 18, 27, 47, 35, 37, 49, 8, 27, 25, 7, 12, 48, 1, 48, 1, 48, 1, 21, 4, 37, 42, 30, 17, 29, 4, 37, 21, 20, 33, 39, 26, 10, 45, 30, 38, 4, 38, 26, 1, 27, 20, 38, 12, 41, 20, 14, 40, 9, 37, 30, 40, 44, 39, 27, 5, 43, 31, 39, 20, 24, 39, 39, 18, 30, 37, 20, 46, 24, 10, 36, 24, 27, 46, 30, 20, 37, 20, 14, 40, 33, 30, 4, 37, 37, 27, 20, 7, 10, 4, 43, 22, 38, 20, 19, 4, 13, 19, 31, 39, 7, 20, 48, 38, 15, 7, 10, 27, 4, 7, 20, 47, 39, 34, 7, 10, 47, 34, 12, 28, 26, 2, 13, 13, 42, 2, 6, 31, 7, 10, 25, 42, 6, 26, 48, 4, 33, 38, 42, 24, 42, 4, 7, 34, 41, 39, 31, 37, 13, 30, 14, 43, 7, 10, 10, 7, 30, 2, 38, 28, 48, 44, 39, 10, 48, 38, 12, 12, 46, 48, 5, 23, 48, 28, 22, 48, 46, 12, 38, 12, 1, 34, 26, 10, 29, 48, 26, 47, 26, 36, 25, 48, 47, 23, 4, 37, 28, 29, 38, 12, 49, 20, 47, 39, 34, 31, 12, 48, 16, 12, 49, 12, 42, 29, 43, 16, 48, 33, 39, 11, 38, 12, 48, 34, 46, 35, 46, 12, 47, 46, 26, 47, 36, 48, 2, 22, 38, 12, 22, 48, 49, 46, 22, 35, 28, 2, 34, 37, 10, 38, 46, 38, 45, 16, 38, 12, 48, 4, 23, 7, 16, 2, 31, 33, 25, 48, 22, 2, 46, 6, 44, 22, 44, 39, 10, 38, 48, 38, 12, 33, 10, 30, 17, 44, 39, 47, 10, 20, 29, 48, 2, 3, 19, 18, 39, 48, 5, 28, 26, 38, 2, 39, 13, 8, 44, 39, 44, 22, 5, 41, 27, 35, 40, 13, 3, 3, 44, 39, 42, 35, 22, 29, 2, 28, 26, 25, 10, 39, 30, 44, 39, 20, 7, 30, 3, 43, 20, 47, 39, 19, 31, 24, 29, 6, 47, 39, 21, 45, 14, 21, 19, 21, 26, 13, 7, 30, 25, 48, 34, 26, 30, 24, 9, 27, 44, 39, 2, 41, 2, 36, 9, 46, 6, 12, 3, 2, 2, 39, 2, 39, 30, 47, 39, 3, 26, 5, 44, 46, 45, 41, 2, 42, 12, 12, 34, 39, 30, 2, 2, 24, 20, 2, 2, 46, 12, 36, 2, 47, 5, 2, 2, 30, 24, 30, 47, 39, 43, 46, 36, 39, 43, 25, 6, 45, 42, 28, 42, 39, 13, 8, 14, 48, 34, 46, 32, 24, 45, 14, 8, 15, 33, 7, 48, 16, 29, 38, 5, 49, 46, 39, 7, 48, 12, 24, 2, 44, 26, 4, 27, 25, 14, 2, 24, 3, 46, 25, 10, 36, 46, 27, 37, 6, 22, 27, 28, 2, 6, 36, 4, 13, 6, 36, 25, 26, 46, 44, 28, 2, 28, 1, 44, 4, 37, 19, 2, 42, 30, 3, 28, 6, 10, 28, 14, 7, 43, 37, 34, 37, 16, 1, 7, 43, 16, 33, 9, 7, 2, 4, 37, 38, 14, 21, 38, 4, 37, 38, 18, 37, 38, 18, 4, 37, 38, 9, 22, 13, 12, 13, 44, 48, 38, 1, 38, 43, 45, 19, 39, 20, 13, 18, 15, 38, 1, 18, 13, 38, 42, 49, 29, 2, 31, 39, 12, 48, 3, 41, 18, 3, 14, 3, 1, 38, 15, 18, 31, 13, 20, 49, 38, 38, 38, 38, 5, 28, 10, 47, 49, 4, 20, 2, 4, 5, 42, 1, 40, 34, 35, 18, 20, 20, 9, 38, 37, 4, 37, 38, 37, 38, 49, 29, 9, 23, 5, 4, 29, 48, 32, 43, 36, 47, 14, 4, 42, 6, 42, 24, 23, 29, 6, 28, 49, 30, 11, 21, 32, 38, 35, 35, 15, 12, 23, 30, 38, 12, 3, 4, 37, 30, 11, 40, 38, 43, 1, 20, 7, 22, 36, 41, 20, 27, 16, 30, 11, 13, 11, 4, 37, 19, 30, 12, 4, 37, 3, 38, 17, 30, 11, 23, 38, 18, 4, 29, 20, 38, 37, 1, 10, 2, 30, 11, 21, 27, 36, 26, 35, 25, 26, 36, 21, 48, 19, 38, 5, 2, 41, 20, 23, 27, 35, 36, 35, 35, 16, 36, 49, 26, 47, 3, 25, 36, 15, 9, 21, 37, 43, 8, 4, 15, 38, 13, 43, 37, 47, 30, 47, 3, 11, 3, 44, 29, 1, 22, 11, 27, 42, 1, 43, 49, 35, 28, 25, 13, 35, 28, 43, 23, 15, 35, 1, 1, 7, 19, 9, 4, 37, 4, 1, 29, 1, 22, 31, 39, 19, 38, 29, 34, 10, 1, 4, 29, 18, 38, 4, 13, 1, 14, 21, 1, 4, 37, 29, 36, 22, 12, 4, 37, 38, 47, 48, 46, 26, 22, 42, 44, 47, 48, 47, 25, 33, 12, 42, 9, 24, 39, 39, 39, 17, 25, 34, 49, 28, 27, 34, 6, 26, 39, 47, 27, 1, 9, 44, 48, 19, 46, 5, 47, 5, 1, 41, 17, 45, 46, 4, 43, 4, 37, 38, 41, 17, 45, 46, 4, 43, 29, 38, 6, 12, 47, 27, 1, 38, 4, 13, 22, 14, 6, 23, 22, 4, 37, 12, 43, 12, 43, 17, 4, 43, 4, 37, 43, 17, 4, 43, 29, 27, 30, 25, 14, 4, 1, 1, 12, 23, 37, 19, 9, 30, 30, 17, 4, 37, 12, 11, 1, 16, 5, 14, 19, 5, 47, 30, 4, 37, 12, 13, 11, 1, 30, 17, 4, 37, 1, 39, 6, 16, 30, 18, 14, 28, 47, 1, 10, 30, 38, 30, 4, 37, 12, 13, 11, 1, 10, 17, 4, 37, 39, 1, 13, 1, 36, 12, 48, 42, 28, 10, 7, 10, 4, 37, 13, 11, 1, 1, 13, 27, 44, 12, 43, 14, 3, 21, 47, 10, 7, 4, 35, 28, 29, 6, 24, 38, 15, 37, 44, 12, 5, 38, 10, 4, 42, 10, 46, 24, 28, 33, 14, 24, 49, 30, 28, 30, 30, 18, 38, 4, 44, 12, 47, 7, 4, 37, 14, 40, 24, 30, 2, 24, 4, 44, 12, 47, 31, 32, 47, 41, 12, 14, 16, 24, 16, 44, 4, 28, 10, 45, 44, 4, 30, 16, 45, 49, 49, 44, 4, 18, 47, 9, 34, 27, 7, 24, 31, 6, 5, 4, 44, 23, 45, 24, 4, 37, 30, 9, 12, 47, 20, 42, 38, 46, 22, 33, 35, 25, 35, 2, 25, 2, 34, 25, 24, 38, 9, 43, 47, 24, 12, 24, 31, 41, 2, 5, 38, 44, 12, 17, 15, 38, 5, 11, 24, 22, 31, 30, 47, 32, 13, 30, 30, 28, 18, 12, 1, 13, 27, 47, 45, 43, 38, 31, 12, 28, 6, 18, 12, 41, 12, 30, 45, 27, 38, 12, 33, 46, 7, 36, 17, 12, 44, 20, 33, 46, 29, 35, 20, 31, 20, 21, 3, 39, 3, 21, 39, 38, 20, 2, 46, 47, 13, 23, 8, 39, 5, 44, 45, 23, 4, 4, 14, 7, 39, 4, 44, 4, 4, 21, 44, 23, 39, 19, 22, 44, 2, 46, 34, 20, 39, 34, 34, 34, 20, 31, 20, 39, 3, 12, 38, 46, 31, 30, 4, 9, 6, 18, 20, 19, 6, 2, 12, 12, 49, 39, 20, 20, 16, 12, 20, 2, 24, 28, 37, 16, 12, 20, 42, 25, 7, 4, 2, 35, 12, 16, 25, 43, 25, 4, 16, 44, 43, 24, 28, 37, 15, 47, 48, 4, 39, 20, 2, 12, 39, 19, 20, 42, 34, 9, 1, 20, 12, 39, 9, 34, 27, 39, 6, 1, 20, 49, 17, 22, 6, 4, 20, 34, 33, 24, 6, 12, 8, 20, 20, 20, 28, 37, 31, 16, 15, 4, 6, 12, 23, 47, 48, 4, 23, 43, 42, 10, 23, 23, 36, 49, 14, 48, 13, 9, 48, 20, 33, 46, 15, 43, 15, 48, 25, 41, 11, 40, 46, 7, 22, 11, 21, 20, 16, 48, 25, 22, 12, 24, 3, 25, 32, 20, 49, 38, 2, 22, 45, 17, 2, 25, 20, 49, 33, 37, 6, 18, 27, 32, 30, 30, 30, 19, 31, 40, 12, 17, 27, 47, 49, 25, 26, 25, 35, 40, 9, 27, 49, 31, 1, 20, 22, 17, 29, 17, 7, 2, 34, 49, 9, 20, 30, 38, 31, 12, 6, 33, 25, 45, 5, 38, 35, 26, 47, 42, 39, 10, 3, 30, 33, 12, 33, 38, 9, 4, 1, 4, 12, 28, 28, 18, 27, 40, 38, 31, 3, 33, 31, 9, 6, 18, 19, 16, 35, 20, 16, 35, 20, 16, 22, 42, 4, 42, 37, 12, 16, 27, 42, 44, 31, 6, 49, 29, 30, 16, 12, 15, 27, 41, 35, 26, 48, 12, 16, 42, 44, 31, 6, 49, 29, 12, 12, 15, 44, 41, 35, 26, 48, 12, 16, 44, 31, 19, 40, 27, 29, 12, 43, 27, 26, 5, 9, 27, 16, 20, 16, 15, 16, 38, 16, 15, 16, 20, 16, 15, 35, 42, 35, 44, 26, 7, 20, 17, 38, 37, 46, 18, 21, 20, 31, 23, 10, 30, 31, 24, 2, 29, 35, 45, 12, 33, 1, 20, 20, 20, 17, 29, 45, 38, 21, 22, 39, 29, 12, 7, 36, 40, 21, 40, 47, 21, 32, 49, 14, 47, 11, 32, 21, 15, 1, 4, 29, 46, 23, 21, 23, 27, 44, 40, 18, 21, 3, 34, 29, 14, 17, 42, 38, 14, 39, 38, 33, 29, 14, 43, 42, 19, 1, 24, 42, 3, 42, 29, 8, 21, 40, 8, 35, 6, 4, 35, 25, 26, 29, 33, 22, 32, 40, 35, 27, 14, 31, 32, 43, 42, 47, 34, 20, 7, 12, 9, 39, 8, 14, 16, 38, 14, 39, 29, 34, 38, 33, 46, 9, 21, 30, 26, 10, 15, 29, 5, 36, 36, 49, 34, 17, 36, 19, 30, 3, 5, 36, 36, 31, 28, 11, 42, 38, 49, 8, 26, 23, 40, 24, 31, 21, 23, 15, 49, 48, 23, 42, 20, 40, 29, 15, 30, 12, 48, 13, 38, 40, 30, 16, 9, 47, 46, 17, 14, 30, 32, 29, 49, 39, 14, 30, 32, 39, 15, 35, 29, 30, 12, 14, 8, 4, 45, 40, 30, 9, 42, 42, 22, 29, 2, 24, 16, 45, 31, 13, 47, 5, 47, 28, 4, 49, 24, 31, 29, 42, 34, 45, 22, 8, 3, 18, 20, 33, 12, 34, 30, 11, 31, 15, 35, 23, 7, 3, 45, 26, 48, 13, 7, 10, 30, 35, 29, 36, 27, 27, 32, 4, 13, 47, 38, 5, 23, 39, 20, 20, 46, 49, 31, 12, 2, 35, 16, 2, 30, 25, 24, 45, 42, 40, 48, 36, 19, 47, 14, 8, 20, 32, 47, 35, 14, 45, 32, 31, 33, 40, 35, 47, 44, 35, 38, 25, 3, 35, 42, 11, 40, 35, 43, 37, 41, 7, 31, 31, 16, 20, 32, 42, 22, 22, 42, 9, 19, 8, 2, 47, 21, 35, 14, 46, 32, 31, 33, 40, 35, 47, 44, 35, 42, 11, 40, 35, 43, 37, 39, 5, 33, 31, 49, 35, 31, 40, 8, 12, 26, 16, 4, 3, 42, 44, 3, 19, 30, 3, 27, 36, 31, 21, 10, 19, 21, 27, 31, 13, 47, 49, 6, 49, 49, 23, 47, 5, 35, 28, 31, 38, 25, 23, 2, 39, 1, 40, 14, 29, 40, 11, 32, 19, 23, 18, 48, 38, 31, 31, 4, 20, 20, 46, 6, 30, 48, 20, 40, 20, 33, 46, 29, 30, 35, 26, 20, 20, 46, 35, 6, 39, 37, 20, 22, 16, 49, 17, 20, 18, 21, 46, 49, 2, 38, 29, 34, 20, 31, 12, 20, 28, 43, 14, 20, 40, 32, 39, 10, 26, 21, 2, 20, 38, 4, 37, 23, 39, 37, 20, 46, 38, 15, 44, 12, 27, 49, 28, 4, 30, 38, 29, 32, 46, 40, 48, 48, 12, 12, 43, 31, 16, 30, 47, 21, 20, 24, 34, 18, 6, 10, 30, 30, 19, 4, 24, 18, 6, 10, 20, 20, 23, 41, 18, 6, 10, 31, 13, 31, 4, 17, 22, 23, 41, 40, 48, 48, 48, 35, 29, 46, 15, 29, 16, 22, 25, 15, 26, 17, 28, 21, 24, 36, 15, 21, 15, 19, 13, 32, 20, 22, 9, 6, 4, 20, 23, 47, 7, 7, 24, 18, 6, 10, 47, 37, 18, 4, 11, 18, 6, 10, 15, 15, 9, 37, 8, 42, 43, 20, 42, 7, 24, 18, 6, 10, 42, 42, 3, 37, 24, 41, 8, 32, 8, 18, 14, 45, 36, 14, 21, 31, 23, 9, 39, 22, 45, 45, 27, 47, 2, 16, 24, 18, 6, 10, 41, 6, 24, 31, 22, 47, 35, 26, 24, 18, 6, 10, 41, 24, 32, 32, 47, 24, 18, 6, 10, 16, 24, 44, 26, 24, 25, 45, 24, 18, 6, 10, 47, 47, 6, 7, 28, 24, 18, 6, 10, 37, 37, 29, 5, 15, 6, 39, 26, 10, 38, 31, 46, 42, 32, 29, 20, 48, 47, 32, 28, 39, 30, 12, 21, 30, 12, 48, 25, 18, 6, 10, 35, 34, 31, 47, 11, 18, 6, 10, 41, 43, 33, 30, 30, 46, 20, 41, 23, 42, 41, 31, 5, 41, 32, 31, 4, 17, 41, 41, 41, 33, 39, 25, 36, 40, 48, 17, 49, 21, 21, 21, 20, 23, 32, 9, 10, 33, 10, 20, 16, 49, 19, 13, 7, 20, 36, 33, 30, 5, 20, 24, 20, 39, 34, 3, 14, 34, 14, 45, 25, 14, 47, 41, 14, 40, 14, 20, 4, 32, 12, 26, 25, 24, 31, 23, 16, 25, 38, 42, 16, 23, 16, 6, 6, 28, 8, 40, 6, 12, 49, 1, 8, 49, 18, 14, 31, 20, 11, 12, 43, 36, 29, 46, 31, 6, 15, 37, 37, 21, 37, 40, 9, 20, 36, 8, 43, 3, 6, 42, 42, 11, 18, 6, 10, 21, 21, 45, 36, 11, 18, 6, 10, 12, 12, 35, 22, 3, 12, 24, 18, 6, 10, 43, 43, 43, 8, 35, 43, 24, 18, 6, 10, 12, 12, 12, 20, 48, 29, 35, 12, 24, 18, 6, 10, 36, 3, 36, 18, 23, 18, 20, 9, 23, 18, 12, 5, 17, 6, 4, 10, 30, 5, 45, 49, 33, 8, 11, 18, 6, 10, 12, 19, 12, 18, 14, 7, 1, 19, 47, 22, 31, 25, 15, 40, 9, 28, 17, 16, 20, 32, 18, 14, 14, 19, 10, 32, 21, 40, 32, 25, 36, 18, 23, 46, 32, 49, 13, 49, 18, 14, 13, 27, 17, 27, 13, 18, 38, 22, 41, 22, 18, 32, 42, 4, 8, 21, 46, 3, 46, 18, 14, 36, 8, 31, 16, 18, 40, 25, 30, 10, 24, 1, 1, 25, 47, 5, 49, 30, 43, 38, 18, 6, 10, 16, 16, 9, 37, 42, 43, 16, 24, 18, 6, 10, 32, 28, 32, 20, 13, 39, 25, 5, 32, 27, 37, 42, 36, 40, 8, 36, 30, 42, 36, 18, 48, 5, 42, 32, 28, 32, 47, 21, 32, 15, 35, 24, 32, 28, 32, 38, 5, 2, 5, 22, 14, 10, 48, 48, 32, 28, 32, 38, 34, 8, 40, 30, 10, 12, 12, 38, 2, 22, 5, 24, 18, 6, 10, 6, 40, 41, 28, 35, 30, 40, 18, 18, 6, 10, 38, 23, 38, 20, 25, 32, 15, 49, 38, 47, 42, 49, 23, 14, 14, 16, 2, 39, 18, 6, 10, 26, 42, 26, 32, 12, 21, 32, 49, 23, 16, 15, 27, 16, 46, 41, 35, 15, 35, 18, 47, 17, 36, 47, 38, 43, 43, 34, 44, 8, 30, 43, 24, 18, 6, 10, 26, 25, 31, 27, 2, 30, 5, 20, 20, 31, 38, 31, 35, 49, 18, 6, 10, 28, 2, 19, 30, 7, 46, 18, 6, 10, 1, 19, 44, 39, 14, 38, 31, 38, 31, 46, 49, 43, 38, 20, 47, 25, 38, 31, 46, 10, 32, 38, 31, 35, 37, 18, 6, 10, 18, 14, 30, 38, 31, 15, 19, 14, 30, 38, 31, 35, 37, 18, 6, 10, 34, 22, 8, 20, 16, 49, 38, 31, 37, 18, 6, 10, 13, 46, 35, 17, 9, 8, 42, 6, 20, 20, 38, 16, 18, 6, 10, 11, 38, 20, 45, 11, 18, 6, 10, 24, 38, 20, 34, 38, 31, 4, 8, 18, 6, 10, 24, 38, 20, 34, 32, 28, 18, 6, 10, 24, 38, 20, 34, 20, 5, 17, 18, 6, 10, 24, 38, 20, 34, 44, 39, 14, 21, 39, 10, 18, 6, 10, 17, 17, 40, 19, 23, 16, 24, 18, 6, 10, 11, 11, 22, 5, 39, 3, 23, 9, 37, 24, 18, 6, 10, 13, 13, 47, 2, 32, 35, 38, 16, 18, 6, 10, 36, 36, 40, 22, 6, 2, 28, 13, 24, 18, 6, 10, 3, 33, 3, 46, 37, 33, 45, 2, 42, 8, 48, 8, 33, 12, 7, 19, 40, 7, 45, 40, 31, 18, 6, 10, 10, 19, 14, 30, 18, 19, 14, 30, 37, 18, 6, 10, 24, 19, 1, 32, 31, 18, 6, 10, 41, 9, 41, 18, 14, 12, 17, 11, 8, 9, 23, 46, 33, 25, 36, 18, 23, 46, 11, 27, 11, 18, 14, 1, 19, 7, 8, 23, 8, 48, 31, 24, 12, 16, 24, 25, 47, 34, 4, 10, 40, 19, 42, 26, 14, 47, 18, 24, 12, 5, 43, 5, 2, 9, 18, 3, 4, 35, 27, 33, 7, 35, 44, 5, 43, 5, 22, 29, 29, 35, 6, 9, 37, 17, 10, 42, 40, 22, 48, 38, 31, 5, 36, 36, 4, 18, 6, 10, 6, 34, 34, 1, 23, 9, 40, 18, 6, 10, 27, 46, 29, 14, 27, 23, 7, 10, 5, 37, 22, 21, 8, 43, 23, 2, 4, 2, 18, 14, 13, 3, 32, 4, 10, 37, 39, 35, 44, 30, 13, 18, 12, 11, 18, 6, 17, 19, 19, 47, 18, 18, 6, 10, 36, 36, 22, 7, 26, 31, 23, 46, 15, 46, 8, 10, 28, 10, 30, 25, 49, 20, 11, 10, 9, 13, 14, 18, 6, 10, 28, 28, 17, 31, 21, 38, 31, 18, 6, 10, 12, 12, 26, 31, 21, 38, 31, 18, 6, 10, 6, 3, 6, 18, 14, 35, 21, 8, 37, 25, 36, 18, 23, 46, 16, 47, 16, 24, 26, 35, 36, 2, 31, 4, 26, 47, 16, 32, 18, 20, 32, 49, 25, 12, 44, 6, 32, 32, 24, 18, 6, 10, 2, 17, 2, 8, 20, 31, 29, 7, 45, 33, 32, 32, 4, 8, 47, 36, 17, 11, 1, 41, 1, 18, 14, 5, 37, 41, 26, 26, 40, 17, 13, 18, 6, 10, 4, 38, 4, 8, 4, 25, 42, 10, 28, 9, 7, 1, 33, 9, 39, 40, 46, 24, 18, 6, 10, 9, 6, 9, 32, 35, 22, 22, 39, 48, 19, 14, 30, 43, 38, 9, 19, 35, 3, 43, 22, 36, 9, 30, 9, 37, 9, 37, 19, 14, 30, 27, 18, 19, 40, 31, 7, 4, 26, 30, 47, 27, 5, 22, 5, 10, 10, 9, 39, 14, 30, 1, 35, 22, 47, 10, 14, 30, 3, 25, 36, 40, 7, 20, 14, 30, 29, 19, 7, 27, 5, 26, 5, 41, 14, 4, 21, 14, 30, 3, 33, 35, 49, 14, 37, 19, 14, 30, 37, 10, 19, 14, 30, 26, 14, 4, 8, 15, 39, 41, 5, 40, 1, 5, 41, 42, 9, 21, 20, 40, 31, 36, 5, 7, 30, 22, 5, 1, 26, 10, 5, 7, 24, 47, 5, 26, 24, 14, 34, 6, 22, 5, 26, 16, 43, 36, 5, 18, 9, 24, 24, 28, 36, 7, 5, 18, 17, 9, 24, 28, 36, 7, 5, 8, 5, 31, 36, 5, 35, 49, 19, 5, 26, 47, 34, 49, 30, 9, 6, 22, 35, 22, 8, 22, 4, 14, 24, 36, 5, 31, 4, 9, 23, 26, 39, 36, 18, 20, 39, 38, 31, 28, 4, 8, 16, 22, 9, 9, 30, 22, 7, 44, 44, 20, 8, 38, 14, 24, 38, 45, 42, 30, 16, 7, 30, 18, 28, 35, 21, 44, 38, 27, 49, 35, 31, 20, 44, 49, 19, 5, 19, 14, 30, 13, 25, 46, 27, 23, 19, 5, 14, 30, 13, 20, 19, 40, 20, 27, 23, 19, 14, 30, 13, 35, 31, 19, 40, 31, 42, 23, 10, 14, 30, 23, 23, 12, 17, 38, 31, 15, 4, 43, 31, 6, 38, 26, 20, 47, 9, 32, 24, 25, 16, 34, 8, 35, 3, 30, 9, 24, 12, 19, 14, 30, 23, 23, 12, 31, 9, 33, 30, 14, 26, 38, 30, 17, 34, 8, 21, 14, 30, 30, 34, 8, 21, 14, 30, 5, 38, 1, 19, 14, 30, 10, 7, 10, 30, 38, 31, 14, 30, 20, 17, 26, 34, 18, 4, 31, 4, 9, 4, 49, 28, 48, 12, 4, 16, 40, 30, 26, 5, 14, 30, 23, 36, 40, 16, 13, 24, 16, 9, 31, 39, 12, 6, 30, 42, 38, 17, 39, 20, 2, 35, 36, 39, 17, 49, 43, 30, 24, 32, 27, 10, 33, 39, 15, 1, 12, 49, 49, 39, 27, 42, 3, 36, 39, 20, 44, 20, 30, 17, 14, 30, 15, 38, 10, 7, 2, 7, 16, 40, 45, 49, 9, 35, 31, 5, 40, 1, 1, 42, 49, 4, 44, 27, 46, 31, 7, 30, 38, 14, 30, 10, 7, 26, 38, 49, 19, 14, 30, 14, 7, 10, 47, 31, 42, 9, 4, 18, 4, 4, 44, 33, 30, 11, 30, 16, 40, 45, 49, 40, 5, 1, 7, 40, 21, 14, 30, 23, 20, 26, 22, 14, 30, 23, 32, 34, 47, 49, 10, 19, 35, 14, 14, 30, 13, 46, 44, 4, 44, 35, 42, 7, 40, 14, 30, 49, 26, 46, 44, 30, 24, 14, 30, 15, 38, 17, 26, 7, 44, 24, 24, 21, 46, 39, 10, 42, 14, 30, 10, 39, 14, 15, 14, 30, 37, 9, 10, 23, 33, 31, 38, 31, 32, 3, 3, 25, 23, 28, 33, 16, 23, 2, 39, 46, 46, 23, 28, 28, 33, 3, 30, 38, 14, 30, 14, 7, 19, 6, 46, 4, 2, 14, 21, 38, 31, 2, 4, 30, 44, 6, 46, 42, 46, 2, 32, 37, 49, 44, 39, 22, 10, 45, 49, 24, 28, 14, 46, 22, 39, 45, 9, 40, 20, 48, 20, 47, 5, 49, 3, 17, 3, 20, 8, 7, 20, 16, 10, 20, 12, 35, 38, 36, 20, 23, 9, 39, 30, 39, 22, 2, 9, 20, 22, 20, 47, 24, 41, 30, 24, 28, 31, 39, 34, 12, 20, 31, 20, 40, 26, 24, 7, 42, 39, 22, 8, 3, 49, 46, 2, 20, 48, 3, 20, 43, 27, 26, 1, 4, 30, 1, 33, 41, 26, 22, 8, 49, 3, 44, 47, 46, 46, 38, 11, 47, 49, 20, 8, 20, 22, 1, 5, 1, 32, 29, 47, 49, 46, 37, 2, 2, 22, 1, 33, 30, 31, 32, 20, 46, 2, 31, 49, 24, 15, 47, 42, 3, 2, 43, 37, 24, 46, 47, 26, 2, 30, 2, 30, 24, 2, 10, 49, 37, 43, 37, 30, 2, 34, 8, 25, 25, 25, 2, 7, 35, 13, 10, 26, 32, 14, 46, 2, 21, 31, 8, 46, 44, 21, 23, 39, 27, 28, 46, 22, 39, 44, 12, 39, 42, 3, 12, 21, 49, 47, 5, 6, 41, 25, 9, 26, 47, 14, 41, 34, 26, 39, 20, 46, 34, 20, 20, 38, 20, 44, 13, 9, 38, 4, 30, 17, 6, 48, 6, 46, 15, 38, 12, 20, 33, 18, 26, 49, 12, 26, 46, 10, 49, 20, 49, 38, 49, 33, 8, 39, 27, 38, 15, 49, 3, 31, 6, 30, 49, 20, 43, 43, 30, 46, 49, 47, 2, 30, 47, 49, 46, 49, 24, 35, 2, 35, 49, 12, 20, 49, 7, 30, 6, 48, 6, 46, 7, 37, 38, 14, 28, 47, 8, 28, 21, 16, 2, 38, 49, 17, 5, 28, 16, 2, 11, 34, 49, 39, 27, 20, 28, 29, 17, 16, 44, 38, 21, 7, 7, 22, 39, 27, 23, 48, 20, 33, 41, 20, 17, 22, 16, 20, 44, 2, 39, 19, 17, 14, 27, 29, 3, 16, 17, 49, 49, 46, 20, 39, 27, 47, 44, 21, 20, 33, 3, 5, 5, 15, 34, 20, 33, 7, 29, 44, 22, 5, 15, 41, 9, 39, 19, 34, 5, 26, 8, 34, 20, 33, 48, 5, 21, 9, 14, 49, 29, 6, 39, 6, 39, 3, 26, 8, 49, 3, 17, 7, 20, 33, 27, 8, 27, 27, 20, 22, 49, 8, 11, 8, 32, 20, 20, 33, 7, 32, 27, 1, 27, 21, 3, 44, 49, 22, 8, 32, 7, 27, 8, 32, 21, 27, 5, 15, 34, 49, 37, 29, 48, 9, 14, 32, 21, 27, 49, 49, 3, 49, 20, 33, 20, 33, 30, 2, 35, 1, 41, 35, 8, 23, 20, 20, 35, 22, 5, 1, 39, 34, 24, 49, 39, 9, 9, 48, 44, 14, 36, 32, 7, 20, 44, 49, 5, 27, 32, 49, 37, 7, 20, 32, 30, 29, 1, 20, 33, 49, 42, 39, 20, 33, 21, 14, 30, 19, 1, 39, 34, 37, 15, 1, 39, 34, 34, 30, 21, 49, 37, 15, 20, 33, 17, 7, 20, 32, 40, 14, 30, 2, 13, 4, 44, 28, 32, 21, 26, 40, 32, 15, 15, 7, 39, 7, 20, 32, 34, 30, 21, 7, 15, 47, 20, 27, 33, 39, 27, 38, 34, 15, 13, 39, 30, 19, 28, 5, 36, 5, 5, 25, 11, 38, 4, 16, 46, 39, 7, 48, 37, 20, 28, 20, 20, 2, 46, 43, 2, 20, 32, 47, 17, 23, 34, 24, 4, 36, 31, 27, 47, 28, 21, 38, 5, 1, 10, 21, 21, 47, 27, 44, 38, 5, 3, 47, 33, 44, 10, 38, 5, 5, 3, 5, 36, 5, 21, 28, 20, 5, 6, 4, 37, 19, 26, 10, 6, 29, 26, 7, 48, 3, 47, 7, 30, 40, 15, 3, 36, 43, 20, 39, 28, 20, 5, 10, 7, 10, 23, 20, 27, 4, 46, 24, 20, 49, 47, 29, 21, 38, 42, 26, 13, 28, 20, 41, 38, 15, 42, 20, 20, 20, 38, 24, 16, 48, 29, 26, 7, 30, 32, 47, 5, 26, 36, 20, 5, 6, 10, 41, 38, 15, 28, 20, 29, 2, 46, 2, 3, 2, 32, 6, 10, 38, 26, 35, 37, 13, 30, 24, 40, 13, 7, 10, 20, 25, 42, 20, 32, 33, 13, 2, 2, 3, 2, 48, 20, 39, 7, 25, 2, 46, 39, 7, 38, 23, 29, 25, 25, 26, 4, 3, 6, 49, 41, 38, 40, 12, 12, 26, 47, 36, 4, 37, 42, 21, 6, 31, 4, 21, 47, 29, 12, 34, 28, 29, 14, 32, 41, 16, 20, 4, 37, 20, 6, 7, 34, 31, 45, 41, 20, 31, 5, 30, 32, 41, 47, 49, 41, 41, 4, 13, 19, 21, 24, 40, 13, 7, 30, 41, 37, 13, 30, 13, 42, 24, 2, 47, 24, 20, 5, 45, 45, 47, 45, 6, 46, 47, 34, 46, 38, 20, 46, 35, 42, 19, 7, 49, 38, 36, 25, 47, 18, 45, 23, 19, 28, 31, 14, 3, 33, 12, 28, 31, 38, 20, 31, 20, 36, 49, 38, 30, 20, 43, 27, 20, 49, 31, 41, 39, 14, 45, 20, 35, 1, 20, 12, 3, 46, 40, 46, 10, 38, 21, 2, 20, 21, 46, 2, 20, 23, 6, 43, 35, 12, 32, 43, 35, 41, 41, 33, 16, 4, 38, 22, 30, 20, 7, 4, 20, 37, 35, 20, 32, 26, 1, 35, 12, 18, 20, 49, 21, 47, 27, 20, 23, 9, 21, 11, 9, 19, 41, 3, 29, 20, 42, 7, 14, 19, 38, 45, 49, 6, 31, 22, 37, 2, 12, 21, 3, 9, 21, 16, 45, 3, 46, 45, 35, 32, 20, 46, 35, 42, 37, 20, 21, 44, 39, 27, 6, 20, 12, 5, 14, 35, 3, 10, 41, 14, 19, 20, 39, 17, 32, 22, 37, 45, 4, 48, 35, 19, 43, 2, 27, 22, 39, 6, 47, 41, 42, 49, 39, 29, 20, 15, 37, 34, 38, 46, 6, 42, 49, 34, 20, 31, 38, 7, 49, 34, 2, 31, 20, 33, 29, 20, 46, 41, 22, 39, 9, 41, 39, 42, 19, 24, 25, 26, 3, 42, 49, 39, 36, 20, 4, 13, 27, 6, 24, 40, 12, 42, 6, 3, 29, 9, 8, 4, 13, 39, 1, 13, 12, 4, 17, 9, 1, 46, 28, 13, 4, 13, 36, 4, 24, 6, 17, 23, 45, 12, 9, 25, 15, 21, 4, 13, 12, 44, 24, 5, 4, 10, 17, 30, 49, 14, 37, 20, 34, 22, 39, 6, 35, 19, 3, 6, 49, 10, 19, 36, 26, 32, 7, 42, 40, 31, 40, 46, 16, 30, 36, 40, 40, 30, 36, 19, 9, 35, 42, 3, 38, 41, 42, 45, 34, 22, 38, 4, 42, 5, 7, 20, 16, 7, 38, 49, 11, 4, 37, 33, 39, 37, 35, 43, 22, 14, 36, 20, 20, 6, 49, 36, 20, 15, 6, 28, 5, 20, 16, 36, 18, 47, 22, 36, 4, 37, 28, 9, 36, 3, 29, 20, 16, 13, 44, 7, 22, 4, 20, 47, 5, 44, 13, 2, 28, 26, 27, 5, 23, 9, 20, 39, 32, 7, 40, 6, 27, 20, 11, 47, 37, 17, 7, 30, 28, 29, 9, 4, 37, 9, 38, 26, 16, 20, 42, 15, 6, 32, 47, 37, 4, 47, 25, 32, 20, 7, 30, 36, 47, 26, 30, 3, 28, 38, 47, 28, 43, 7, 10, 47, 2, 49, 35, 39, 28, 49, 25, 49, 5, 44, 39, 34, 20, 26, 7, 30, 9, 13, 13, 31, 47, 3, 28, 6, 30, 5, 13, 7, 30, 13, 29, 31, 37, 8, 7, 30, 18, 28, 6, 24, 27, 46, 26, 16, 20, 17, 28, 9, 10, 36, 22, 37, 24, 1, 27, 9, 37, 25, 40, 24, 46, 25, 1, 43, 27, 7, 24, 15, 16, 38, 6, 31, 6, 12, 34, 37, 19, 42, 31, 32, 6, 43, 34, 19, 31, 29, 6, 3, 27, 20, 29, 20, 14, 28, 44, 22, 30, 2, 34, 36, 9, 6, 21, 6, 47, 5, 30, 26, 36, 46, 21, 12, 2, 9, 5, 30, 7, 26, 2, 21, 11, 4, 33, 29, 42, 7, 39, 30, 30, 49, 29, 42, 22, 34, 36, 9, 17, 6, 38, 7, 10, 22, 26, 20, 7, 30, 21, 2, 6, 7, 9, 12, 12, 4, 38, 24, 3, 3, 28, 20, 39, 17, 36, 25, 38, 34, 36, 9, 45, 20, 48, 36, 9, 16, 7, 12, 21, 42, 26, 32, 48, 6, 22, 20, 10, 38, 48, 6, 44, 42, 20, 7, 30, 37, 26, 6, 47, 15, 40, 3, 7, 30, 36, 43, 10, 38, 34, 44, 14, 3, 34, 5, 13, 6, 5, 32, 12, 23, 47, 6, 39, 46, 7, 24, 38, 12, 41, 39, 31, 12, 29, 25, 25, 48, 42, 49, 32, 30, 43, 18, 39, 46, 35, 34, 24, 14, 36, 23, 25, 6, 47, 49, 42, 16, 44, 39, 46, 1, 16, 31, 36, 20, 38, 29, 20, 31, 12, 6, 15, 36, 20, 8, 29, 20, 18, 20, 35, 42, 43, 29, 41, 16, 4, 49, 33, 21, 39, 35, 43, 36, 3, 3, 41, 6, 42, 25, 6, 10, 12, 41, 26, 1, 42, 15, 49, 30, 4, 37, 46, 20, 6, 20, 17, 46, 24, 24, 20, 17, 19, 29, 4, 37, 41, 31, 38, 34, 13, 33, 23, 26, 7, 30, 36, 26, 3, 45, 34, 31, 24, 36, 4, 37, 7, 4, 30, 47, 37, 2, 20, 49, 5, 1, 28, 15, 1, 46, 10, 46, 43, 30, 20, 46, 46, 7, 3, 46, 38, 39, 24, 47, 29, 10, 24, 24, 20, 17, 32, 1, 28, 29, 30, 23, 3, 35, 5, 32, 6, 30, 20, 34, 31, 47, 29, 13, 37, 6, 21, 46, 2, 46, 2, 3, 25, 49, 20, 46, 7, 26, 31, 20, 46, 12, 20, 49, 49, 3, 34, 20, 31, 20, 19, 34, 31, 38, 19, 8, 14, 24, 43, 19, 26, 34, 31, 46, 34, 31, 30, 49, 19, 43, 8, 9, 30, 22, 38, 12, 30, 43, 22, 31, 46, 45, 42, 4, 37, 21, 9, 5, 11, 22, 22, 36, 9, 3, 37, 16, 22, 17, 9, 8, 25, 38, 49, 17, 15, 7, 22, 34, 31, 33, 28, 27, 29, 20, 17, 25, 20, 11, 13, 34, 39, 48, 20, 31, 16, 43, 36, 42, 32, 43, 24, 20, 36, 29, 32, 11, 6, 36, 19, 3, 28, 1, 38, 19, 20, 40, 17, 38, 31, 4, 9, 15, 20, 40, 17, 40, 36, 30, 31, 20, 20, 30, 33, 20, 5, 30, 23, 29, 20, 5, 10, 30, 23, 34, 10, 40, 47, 30, 30, 41, 13, 17, 45, 27, 40, 28, 24, 11, 46, 20, 10, 31, 19, 38, 18, 20, 39, 6, 15, 18, 20, 21, 41, 38, 15, 18, 20, 31, 29, 37, 42, 20, 37, 36, 17, 20, 30, 36, 4, 37, 16, 38, 32, 47, 20, 30, 24, 30, 19, 4, 37, 31, 47, 25, 12, 20, 36, 5, 43, 25, 25, 41, 22, 35, 9, 2, 34, 21, 20, 20, 13, 13, 5, 43, 8, 36, 20, 9, 30, 20, 5, 13, 31, 49, 33, 43, 2, 1, 36, 13, 20, 34, 13, 15, 7, 31, 28, 20, 3, 36, 35, 28, 24, 13, 31, 49, 33, 21, 3, 3, 5, 18, 49, 33, 40, 12, 30, 31, 20, 40, 20, 4, 23, 49, 25, 7, 22, 11, 20, 47, 35, 48, 39, 1, 47, 9, 43, 17]]\n"
     ]
    }
   ],
   "source": [
    "# define class labels\n",
    "labels = [1,1,1,1,1,0,0,0,0,0]\n",
    "\n",
    "# integer encode the documents\n",
    "vocab_size = 50\n",
    "encoded_docs = [one_hot(d, vocab_size) for d in only_text]\n",
    "print(encoded_docs)"
   ]
  },
  {
   "cell_type": "code",
   "execution_count": 26,
   "metadata": {},
   "outputs": [
    {
     "name": "stdout",
     "output_type": "stream",
     "text": [
      "[[31 19 28 31]\n",
      " [ 4 30 36 43]\n",
      " [37  9 49 20]\n",
      " [ 9 32 10 12]\n",
      " [15 10 15 33]\n",
      " [47  9 43 17]]\n"
     ]
    }
   ],
   "source": [
    "# pad documents to a max length of 4 words\n",
    "max_length = 4  # could have been larger!\n",
    "padded_docs = pad_sequences(encoded_docs, maxlen=max_length, padding='post')\n",
    "print(padded_docs)"
   ]
  },
  {
   "cell_type": "code",
   "execution_count": 27,
   "metadata": {},
   "outputs": [],
   "source": [
    "# define the model\n",
    "model = Sequential()\n",
    "#model.input_shape\n",
    "#model.output_shape"
   ]
  },
  {
   "cell_type": "code",
   "execution_count": 28,
   "metadata": {},
   "outputs": [
    {
     "name": "stdout",
     "output_type": "stream",
     "text": [
      "WARNING:tensorflow:From /anaconda3/lib/python3.7/site-packages/tensorflow/python/framework/op_def_library.py:263: colocate_with (from tensorflow.python.framework.ops) is deprecated and will be removed in a future version.\n",
      "Instructions for updating:\n",
      "Colocations handled automatically by placer.\n"
     ]
    },
    {
     "data": {
      "text/plain": [
       "(None, 4, 50)"
      ]
     },
     "execution_count": 28,
     "metadata": {},
     "output_type": "execute_result"
    }
   ],
   "source": [
    "# Embedding(input_dim, output_dim, input_length)\n",
    "model.add(Embedding(vocab_size, 50, input_length=max_length))\n",
    "model.input_shape  # is the input_length\n",
    "model.output_shape  # is the output_dim"
   ]
  },
  {
   "cell_type": "code",
   "execution_count": 29,
   "metadata": {},
   "outputs": [
    {
     "data": {
      "text/plain": [
       "(None, 200)"
      ]
     },
     "execution_count": 29,
     "metadata": {},
     "output_type": "execute_result"
    }
   ],
   "source": [
    "model.add(Flatten())\n",
    "model.input_shape  # is the input_length\n",
    "model.output_shape"
   ]
  },
  {
   "cell_type": "code",
   "execution_count": 30,
   "metadata": {},
   "outputs": [],
   "source": [
    "model.add(Dense(1, activation='sigmoid'))"
   ]
  },
  {
   "cell_type": "code",
   "execution_count": 31,
   "metadata": {},
   "outputs": [],
   "source": [
    "# compile the model\n",
    "model.compile(optimizer='adam', \n",
    "              loss='binary_crossentropy', \n",
    "              metrics=['acc'])"
   ]
  },
  {
   "cell_type": "code",
   "execution_count": 32,
   "metadata": {},
   "outputs": [
    {
     "name": "stdout",
     "output_type": "stream",
     "text": [
      "_________________________________________________________________\n",
      "Layer (type)                 Output Shape              Param #   \n",
      "=================================================================\n",
      "embedding_1 (Embedding)      (None, 4, 50)             2500      \n",
      "_________________________________________________________________\n",
      "flatten_1 (Flatten)          (None, 200)               0         \n",
      "_________________________________________________________________\n",
      "dense_1 (Dense)              (None, 1)                 201       \n",
      "=================================================================\n",
      "Total params: 2,701\n",
      "Trainable params: 2,701\n",
      "Non-trainable params: 0\n",
      "_________________________________________________________________\n"
     ]
    }
   ],
   "source": [
    "# summarize the model\n",
    "model.summary()"
   ]
  },
  {
   "cell_type": "code",
   "execution_count": 34,
   "metadata": {},
   "outputs": [
    {
     "ename": "ValueError",
     "evalue": "Input arrays should have the same number of samples as target arrays. Found 6 input samples and 10 target samples.",
     "output_type": "error",
     "traceback": [
      "\u001b[0;31m---------------------------------------------------------------------------\u001b[0m",
      "\u001b[0;31mValueError\u001b[0m                                Traceback (most recent call last)",
      "\u001b[0;32m<ipython-input-34-06cfc31c8474>\u001b[0m in \u001b[0;36m<module>\u001b[0;34m()\u001b[0m\n\u001b[1;32m      1\u001b[0m \u001b[0;31m# fit the model\u001b[0m\u001b[0;34m\u001b[0m\u001b[0;34m\u001b[0m\u001b[0;34m\u001b[0m\u001b[0m\n\u001b[0;32m----> 2\u001b[0;31m \u001b[0mmodel\u001b[0m\u001b[0;34m.\u001b[0m\u001b[0mfit\u001b[0m\u001b[0;34m(\u001b[0m\u001b[0mpadded_docs\u001b[0m\u001b[0;34m,\u001b[0m \u001b[0mlabels\u001b[0m\u001b[0;34m,\u001b[0m \u001b[0mepochs\u001b[0m\u001b[0;34m=\u001b[0m\u001b[0;36m50\u001b[0m\u001b[0;34m,\u001b[0m \u001b[0mverbose\u001b[0m\u001b[0;34m=\u001b[0m\u001b[0;36m0\u001b[0m\u001b[0;34m)\u001b[0m\u001b[0;34m\u001b[0m\u001b[0;34m\u001b[0m\u001b[0m\n\u001b[0m\u001b[1;32m      3\u001b[0m \u001b[0;31m# evaluate the model\u001b[0m\u001b[0;34m\u001b[0m\u001b[0;34m\u001b[0m\u001b[0;34m\u001b[0m\u001b[0m\n\u001b[1;32m      4\u001b[0m \u001b[0mloss\u001b[0m\u001b[0;34m,\u001b[0m \u001b[0maccuracy\u001b[0m \u001b[0;34m=\u001b[0m \u001b[0mmodel\u001b[0m\u001b[0;34m.\u001b[0m\u001b[0mevaluate\u001b[0m\u001b[0;34m(\u001b[0m\u001b[0mpadded_docs\u001b[0m\u001b[0;34m,\u001b[0m \u001b[0mlabels\u001b[0m\u001b[0;34m,\u001b[0m \u001b[0mverbose\u001b[0m\u001b[0;34m=\u001b[0m\u001b[0;36m0\u001b[0m\u001b[0;34m)\u001b[0m\u001b[0;34m\u001b[0m\u001b[0;34m\u001b[0m\u001b[0m\n\u001b[1;32m      5\u001b[0m \u001b[0mprint\u001b[0m\u001b[0;34m(\u001b[0m\u001b[0;34m'Accuracy: %f'\u001b[0m \u001b[0;34m%\u001b[0m \u001b[0;34m(\u001b[0m\u001b[0maccuracy\u001b[0m\u001b[0;34m*\u001b[0m\u001b[0;36m100\u001b[0m\u001b[0;34m)\u001b[0m\u001b[0;34m)\u001b[0m\u001b[0;34m\u001b[0m\u001b[0;34m\u001b[0m\u001b[0m\n",
      "\u001b[0;32m/anaconda3/lib/python3.7/site-packages/keras/engine/training.py\u001b[0m in \u001b[0;36mfit\u001b[0;34m(self, x, y, batch_size, epochs, verbose, callbacks, validation_split, validation_data, shuffle, class_weight, sample_weight, initial_epoch, steps_per_epoch, validation_steps, **kwargs)\u001b[0m\n\u001b[1;32m    950\u001b[0m             \u001b[0msample_weight\u001b[0m\u001b[0;34m=\u001b[0m\u001b[0msample_weight\u001b[0m\u001b[0;34m,\u001b[0m\u001b[0;34m\u001b[0m\u001b[0;34m\u001b[0m\u001b[0m\n\u001b[1;32m    951\u001b[0m             \u001b[0mclass_weight\u001b[0m\u001b[0;34m=\u001b[0m\u001b[0mclass_weight\u001b[0m\u001b[0;34m,\u001b[0m\u001b[0;34m\u001b[0m\u001b[0;34m\u001b[0m\u001b[0m\n\u001b[0;32m--> 952\u001b[0;31m             batch_size=batch_size)\n\u001b[0m\u001b[1;32m    953\u001b[0m         \u001b[0;31m# Prepare validation data.\u001b[0m\u001b[0;34m\u001b[0m\u001b[0;34m\u001b[0m\u001b[0;34m\u001b[0m\u001b[0m\n\u001b[1;32m    954\u001b[0m         \u001b[0mdo_validation\u001b[0m \u001b[0;34m=\u001b[0m \u001b[0;32mFalse\u001b[0m\u001b[0;34m\u001b[0m\u001b[0;34m\u001b[0m\u001b[0m\n",
      "\u001b[0;32m/anaconda3/lib/python3.7/site-packages/keras/engine/training.py\u001b[0m in \u001b[0;36m_standardize_user_data\u001b[0;34m(self, x, y, sample_weight, class_weight, check_array_lengths, batch_size)\u001b[0m\n\u001b[1;32m    802\u001b[0m             ]\n\u001b[1;32m    803\u001b[0m             \u001b[0;31m# Check that all arrays have the same length.\u001b[0m\u001b[0;34m\u001b[0m\u001b[0;34m\u001b[0m\u001b[0;34m\u001b[0m\u001b[0m\n\u001b[0;32m--> 804\u001b[0;31m             \u001b[0mcheck_array_length_consistency\u001b[0m\u001b[0;34m(\u001b[0m\u001b[0mx\u001b[0m\u001b[0;34m,\u001b[0m \u001b[0my\u001b[0m\u001b[0;34m,\u001b[0m \u001b[0msample_weights\u001b[0m\u001b[0;34m)\u001b[0m\u001b[0;34m\u001b[0m\u001b[0;34m\u001b[0m\u001b[0m\n\u001b[0m\u001b[1;32m    805\u001b[0m             \u001b[0;32mif\u001b[0m \u001b[0mself\u001b[0m\u001b[0;34m.\u001b[0m\u001b[0m_is_graph_network\u001b[0m\u001b[0;34m:\u001b[0m\u001b[0;34m\u001b[0m\u001b[0;34m\u001b[0m\u001b[0m\n\u001b[1;32m    806\u001b[0m                 \u001b[0;31m# Additional checks to avoid users mistakenly\u001b[0m\u001b[0;34m\u001b[0m\u001b[0;34m\u001b[0m\u001b[0;34m\u001b[0m\u001b[0m\n",
      "\u001b[0;32m/anaconda3/lib/python3.7/site-packages/keras/engine/training_utils.py\u001b[0m in \u001b[0;36mcheck_array_length_consistency\u001b[0;34m(inputs, targets, weights)\u001b[0m\n\u001b[1;32m    235\u001b[0m                          \u001b[0;34m'the same number of samples as target arrays. '\u001b[0m\u001b[0;34m\u001b[0m\u001b[0;34m\u001b[0m\u001b[0m\n\u001b[1;32m    236\u001b[0m                          \u001b[0;34m'Found '\u001b[0m \u001b[0;34m+\u001b[0m \u001b[0mstr\u001b[0m\u001b[0;34m(\u001b[0m\u001b[0mlist\u001b[0m\u001b[0;34m(\u001b[0m\u001b[0mset_x\u001b[0m\u001b[0;34m)\u001b[0m\u001b[0;34m[\u001b[0m\u001b[0;36m0\u001b[0m\u001b[0;34m]\u001b[0m\u001b[0;34m)\u001b[0m \u001b[0;34m+\u001b[0m \u001b[0;34m' input samples '\u001b[0m\u001b[0;34m\u001b[0m\u001b[0;34m\u001b[0m\u001b[0m\n\u001b[0;32m--> 237\u001b[0;31m                          'and ' + str(list(set_y)[0]) + ' target samples.')\n\u001b[0m\u001b[1;32m    238\u001b[0m     \u001b[0;32mif\u001b[0m \u001b[0mlen\u001b[0m\u001b[0;34m(\u001b[0m\u001b[0mset_w\u001b[0m\u001b[0;34m)\u001b[0m \u001b[0;34m>\u001b[0m \u001b[0;36m1\u001b[0m\u001b[0;34m:\u001b[0m\u001b[0;34m\u001b[0m\u001b[0;34m\u001b[0m\u001b[0m\n\u001b[1;32m    239\u001b[0m         raise ValueError('All sample_weight arrays should have '\n",
      "\u001b[0;31mValueError\u001b[0m: Input arrays should have the same number of samples as target arrays. Found 6 input samples and 10 target samples."
     ]
    }
   ],
   "source": [
    "# fit the model\n",
    "model.fit(padded_docs, labels, epochs=50, verbose=0)\n",
    "# evaluate the model\n",
    "loss, accuracy = model.evaluate(padded_docs, labels, verbose=0)\n",
    "print('Accuracy: %f' % (accuracy*100))"
   ]
  },
  {
   "cell_type": "markdown",
   "metadata": {},
   "source": [
    "## Rankings Playground"
   ]
  },
  {
   "cell_type": "code",
   "execution_count": 41,
   "metadata": {},
   "outputs": [],
   "source": [
    "rankings = pd.read_csv(\"rankings.csv\")\n",
    "market_cap = rankings['Market Cap']"
   ]
  },
  {
   "cell_type": "code",
   "execution_count": 43,
   "metadata": {},
   "outputs": [
    {
     "ename": "TypeError",
     "evalue": "unsupported operand type(s) for /: 'str' and 'int'",
     "output_type": "error",
     "traceback": [
      "\u001b[0;31m---------------------------------------------------------------------------\u001b[0m",
      "\u001b[0;31mTypeError\u001b[0m                                 Traceback (most recent call last)",
      "\u001b[0;32m<ipython-input-43-4aa79b855f96>\u001b[0m in \u001b[0;36m<module>\u001b[0;34m()\u001b[0m\n\u001b[1;32m      1\u001b[0m \u001b[0;32mimport\u001b[0m \u001b[0mseaborn\u001b[0m \u001b[0;32mas\u001b[0m \u001b[0msns\u001b[0m\u001b[0;34m,\u001b[0m \u001b[0mnumpy\u001b[0m \u001b[0;32mas\u001b[0m \u001b[0mnp\u001b[0m\u001b[0;34m\u001b[0m\u001b[0;34m\u001b[0m\u001b[0m\n\u001b[0;32m----> 2\u001b[0;31m \u001b[0max\u001b[0m \u001b[0;34m=\u001b[0m \u001b[0msns\u001b[0m\u001b[0;34m.\u001b[0m\u001b[0mdistplot\u001b[0m\u001b[0;34m(\u001b[0m\u001b[0mmarket_cap\u001b[0m\u001b[0;34m)\u001b[0m\u001b[0;34m\u001b[0m\u001b[0;34m\u001b[0m\u001b[0m\n\u001b[0m",
      "\u001b[0;32m/anaconda3/lib/python3.7/site-packages/seaborn/distributions.py\u001b[0m in \u001b[0;36mdistplot\u001b[0;34m(a, bins, hist, kde, rug, fit, hist_kws, kde_kws, rug_kws, fit_kws, color, vertical, norm_hist, axlabel, label, ax)\u001b[0m\n\u001b[1;32m    196\u001b[0m             \u001b[0mline\u001b[0m\u001b[0;34m,\u001b[0m \u001b[0;34m=\u001b[0m \u001b[0max\u001b[0m\u001b[0;34m.\u001b[0m\u001b[0mplot\u001b[0m\u001b[0;34m(\u001b[0m\u001b[0;36m0\u001b[0m\u001b[0;34m,\u001b[0m \u001b[0ma\u001b[0m\u001b[0;34m.\u001b[0m\u001b[0mmean\u001b[0m\u001b[0;34m(\u001b[0m\u001b[0;34m)\u001b[0m\u001b[0;34m)\u001b[0m\u001b[0;34m\u001b[0m\u001b[0;34m\u001b[0m\u001b[0m\n\u001b[1;32m    197\u001b[0m         \u001b[0;32melse\u001b[0m\u001b[0;34m:\u001b[0m\u001b[0;34m\u001b[0m\u001b[0;34m\u001b[0m\u001b[0m\n\u001b[0;32m--> 198\u001b[0;31m             \u001b[0mline\u001b[0m\u001b[0;34m,\u001b[0m \u001b[0;34m=\u001b[0m \u001b[0max\u001b[0m\u001b[0;34m.\u001b[0m\u001b[0mplot\u001b[0m\u001b[0;34m(\u001b[0m\u001b[0ma\u001b[0m\u001b[0;34m.\u001b[0m\u001b[0mmean\u001b[0m\u001b[0;34m(\u001b[0m\u001b[0;34m)\u001b[0m\u001b[0;34m,\u001b[0m \u001b[0;36m0\u001b[0m\u001b[0;34m)\u001b[0m\u001b[0;34m\u001b[0m\u001b[0;34m\u001b[0m\u001b[0m\n\u001b[0m\u001b[1;32m    199\u001b[0m         \u001b[0mcolor\u001b[0m \u001b[0;34m=\u001b[0m \u001b[0mline\u001b[0m\u001b[0;34m.\u001b[0m\u001b[0mget_color\u001b[0m\u001b[0;34m(\u001b[0m\u001b[0;34m)\u001b[0m\u001b[0;34m\u001b[0m\u001b[0;34m\u001b[0m\u001b[0m\n\u001b[1;32m    200\u001b[0m         \u001b[0mline\u001b[0m\u001b[0;34m.\u001b[0m\u001b[0mremove\u001b[0m\u001b[0;34m(\u001b[0m\u001b[0;34m)\u001b[0m\u001b[0;34m\u001b[0m\u001b[0;34m\u001b[0m\u001b[0m\n",
      "\u001b[0;32m/anaconda3/lib/python3.7/site-packages/numpy/core/_methods.py\u001b[0m in \u001b[0;36m_mean\u001b[0;34m(a, axis, dtype, out, keepdims)\u001b[0m\n\u001b[1;32m     85\u001b[0m             \u001b[0mret\u001b[0m \u001b[0;34m=\u001b[0m \u001b[0mret\u001b[0m\u001b[0;34m.\u001b[0m\u001b[0mdtype\u001b[0m\u001b[0;34m.\u001b[0m\u001b[0mtype\u001b[0m\u001b[0;34m(\u001b[0m\u001b[0mret\u001b[0m \u001b[0;34m/\u001b[0m \u001b[0mrcount\u001b[0m\u001b[0;34m)\u001b[0m\u001b[0;34m\u001b[0m\u001b[0;34m\u001b[0m\u001b[0m\n\u001b[1;32m     86\u001b[0m     \u001b[0;32melse\u001b[0m\u001b[0;34m:\u001b[0m\u001b[0;34m\u001b[0m\u001b[0;34m\u001b[0m\u001b[0m\n\u001b[0;32m---> 87\u001b[0;31m         \u001b[0mret\u001b[0m \u001b[0;34m=\u001b[0m \u001b[0mret\u001b[0m \u001b[0;34m/\u001b[0m \u001b[0mrcount\u001b[0m\u001b[0;34m\u001b[0m\u001b[0;34m\u001b[0m\u001b[0m\n\u001b[0m\u001b[1;32m     88\u001b[0m \u001b[0;34m\u001b[0m\u001b[0m\n\u001b[1;32m     89\u001b[0m     \u001b[0;32mreturn\u001b[0m \u001b[0mret\u001b[0m\u001b[0;34m\u001b[0m\u001b[0;34m\u001b[0m\u001b[0m\n",
      "\u001b[0;31mTypeError\u001b[0m: unsupported operand type(s) for /: 'str' and 'int'"
     ]
    },
    {
     "data": {
      "image/png": "[encoded data removed]",
      "text/plain": [
       "<Figure size 432x288 with 1 Axes>"
      ]
     },
     "metadata": {
      "needs_background": "light"
     },
     "output_type": "display_data"
    }
   ],
   "source": [
    "import seaborn as sns, numpy as np\n",
    "ax = sns.distplot(market_cap)"
   ]
  },
  {
   "cell_type": "code",
   "execution_count": 6,
   "metadata": {},
   "outputs": [
    {
     "name": "stderr",
     "output_type": "stream",
     "text": [
      "2019-06-12 18:51:08,815 [MainThread  ] [WARNI]  Tika server returned status: 415\n",
      "2019-06-12 18:51:11,266 [MainThread  ] [WARNI]  Tika server returned status: 422\n"
     ]
    }
   ],
   "source": [
    "## Code to convert pdfs to text\n",
    "\n",
    "# Import Os to get to the root directory\n",
    "import os\n",
    "import sys\n",
    "\n",
    "# Root directory of the project\n",
    "ROOT_DIR = os.path.abspath(\"../\")\n",
    "sys.path.append(ROOT_DIR)\n",
    "\n",
    "WHITE_PAPER_DIR = os.path.join(ROOT_DIR, \"white-papers\")\n",
    "\n",
    "TXT_DIR = os.path.join(ROOT_DIR, \"white-papers\")\n",
    "\n",
    "# Import own functions\n",
    "from libraries import corpus\n",
    "from libraries import pdf2text\n",
    "\n",
    "# Import other libraries\n",
    "from tikapp import TikaApp\n",
    "from tika import parser\n",
    "import io\n",
    "\n",
    "data = {} #define the dataset dictionary\n",
    "\n",
    "for file in os.listdir(WHITE_PAPER_DIR): #iterating over all the files in the directory\n",
    "    filename = os.fsdecode(file)\n",
    "    parsed = parser.from_file(os.path.join(WHITE_PAPER_DIR, str(filename))) #parsing the texts within the file\n",
    "    filename = filename.split(\".\")[0]\n",
    "    data[filename] = parsed\n",
    "    #text = parsed['content']\n",
    "    #filename = filename.split(\".\")[0] #splitting the name to remove the .pdf\n",
    "    #dataset = parser.from_file(os.path.join(WHITE_PAPER_DIR, str(filename))) #add file to the dictionary"
   ]
  },
  {
   "cell_type": "code",
   "execution_count": 284,
   "metadata": {},
   "outputs": [],
   "source": [
    "files = []\n",
    "\n",
    "for file in os.listdir(WHITE_PAPER_DIR): #iterating over all the files in the directory\n",
    "    filename = os.fsdecode(file)\n",
    "    filename = filename.split(\".\")[0] #splitting the name to remove the .pdf\n",
    "    files.append(filename)"
   ]
  },
  {
   "cell_type": "code",
   "execution_count": 287,
   "metadata": {},
   "outputs": [],
   "source": [
    "#dataset = get_dataset()\n",
    "all_text = []\n",
    "dataset = []\n",
    "for f in files: \n",
    "    all_text = data[f]\n",
    "    dataset.append(all_text)"
   ]
  },
  {
   "cell_type": "code",
   "execution_count": 321,
   "metadata": {},
   "outputs": [
    {
     "name": "stdout",
     "output_type": "stream",
     "text": [
      "dict_keys(['status', 'content', 'metadata'])\n",
      "dict_keys(['status', 'content', 'metadata'])\n",
      "dict_keys(['status'])\n",
      "dict_keys(['status', 'content', 'metadata'])\n",
      "dict_keys(['status', 'content', 'metadata'])\n",
      "dict_keys(['status', 'content', 'metadata'])\n",
      "dict_keys(['status'])\n",
      "dict_keys(['status', 'content', 'metadata'])\n"
     ]
    }
   ],
   "source": [
    "text2 = []\n",
    "for i in range(len(dataset)):\n",
    "    print(dataset[i].keys())"
   ]
  },
  {
   "cell_type": "code",
   "execution_count": 304,
   "metadata": {},
   "outputs": [],
   "source": [
    "text2 = []\n",
    "for i in range(len(text)):\n",
    "    with open('text.txt', 'w') as f:\n",
    "        for i in range(8):\n",
    "            f.write(\"%s\\n\" % text[i])"
   ]
  },
  {
   "cell_type": "code",
   "execution_count": 311,
   "metadata": {},
   "outputs": [
    {
     "ename": "TypeError",
     "evalue": "list indices must be integers or slices, not str",
     "output_type": "error",
     "traceback": [
      "\u001b[0;31m---------------------------------------------------------------------------\u001b[0m",
      "\u001b[0;31mTypeError\u001b[0m                                 Traceback (most recent call last)",
      "\u001b[0;32m<ipython-input-311-3be7f48ed226>\u001b[0m in \u001b[0;36m<module>\u001b[0;34m()\u001b[0m\n\u001b[1;32m      1\u001b[0m \u001b[0;32mfor\u001b[0m \u001b[0mfile\u001b[0m \u001b[0;32min\u001b[0m \u001b[0mpapers\u001b[0m\u001b[0;34m:\u001b[0m\u001b[0;34m\u001b[0m\u001b[0;34m\u001b[0m\u001b[0m\n\u001b[1;32m      2\u001b[0m     \u001b[0;32mfor\u001b[0m \u001b[0mi\u001b[0m \u001b[0;32min\u001b[0m \u001b[0mrange\u001b[0m\u001b[0;34m(\u001b[0m\u001b[0mlen\u001b[0m\u001b[0;34m(\u001b[0m\u001b[0mos\u001b[0m\u001b[0;34m.\u001b[0m\u001b[0mlistdir\u001b[0m\u001b[0;34m(\u001b[0m\u001b[0mWHITE_PAPER_DIR\u001b[0m\u001b[0;34m)\u001b[0m\u001b[0;34m)\u001b[0m\u001b[0;34m)\u001b[0m\u001b[0;34m:\u001b[0m\u001b[0;34m\u001b[0m\u001b[0;34m\u001b[0m\u001b[0m\n\u001b[0;32m----> 3\u001b[0;31m         \u001b[0mall_text\u001b[0m \u001b[0;34m=\u001b[0m \u001b[0mdataset\u001b[0m\u001b[0;34m[\u001b[0m\u001b[0mfile\u001b[0m\u001b[0;34m]\u001b[0m\u001b[0;34m\u001b[0m\u001b[0;34m\u001b[0m\u001b[0m\n\u001b[0m\u001b[1;32m      4\u001b[0m         \u001b[0mtext1\u001b[0m \u001b[0;34m=\u001b[0m \u001b[0mall_text\u001b[0m\u001b[0;34m[\u001b[0m\u001b[0;34m'content'\u001b[0m\u001b[0;34m]\u001b[0m\u001b[0;34m\u001b[0m\u001b[0;34m\u001b[0m\u001b[0m\n\u001b[1;32m      5\u001b[0m         \u001b[0mtext\u001b[0m\u001b[0;34m[\u001b[0m\u001b[0mi\u001b[0m\u001b[0;34m]\u001b[0m \u001b[0;34m=\u001b[0m \u001b[0mall_text\u001b[0m\u001b[0;34m\u001b[0m\u001b[0;34m\u001b[0m\u001b[0m\n",
      "\u001b[0;31mTypeError\u001b[0m: list indices must be integers or slices, not str"
     ]
    }
   ],
   "source": [
    "for file in papers:\n",
    "    for i in range(len(os.listdir(WHITE_PAPER_DIR))):\n",
    "        all_text = dataset[file]\n",
    "        text1 = all_text['content']\n",
    "        text[i] = all_text\n",
    "    ##dataset[all_text] = all_text['content']"
   ]
  },
  {
   "cell_type": "code",
   "execution_count": 70,
   "metadata": {},
   "outputs": [
    {
     "name": "stdout",
     "output_type": "stream",
     "text": [
      "But we can’t simply use text strings in our machine learning model; we need a way to convert our text into something that can be represented numerically just like the labels (1 for positive and 0 for negative) are.\n",
      "BoW converts text into the matrix of occurrence of words within a given document.\n"
     ]
    }
   ],
   "source": [
    "text = \"Vectorization Feature Engineering (TF-IDF). When we classify text, we end up with text snippets matched with their respective labels. But we can’t simply use text strings in our machine learning model; we need a way to convert our text into something that can be represented numerically just like the labels (1 for positive and 0 for negative) are. Classifying text in positive and negative labels is called sentiment analysis. So we need a way to represent our text numerically. One tool we can use for doing this is called Bag of Words. BoW converts text into the matrix of occurrence of words within a given document. It focuses on whether given words occurred or not in the document, and it generates a matrix that we might see referred to as a BoW matrix or a document term matrix. We can generate a BoW matrix for our text data by using scikit-learn‘s CountVectorizer. In the code below, we’re telling CountVectorizer to use the custom spacy_tokenizer function we built as its tokenizer, and defining the ngram range we want.N-grams are combinations of adjacent words in a given text, where n is the number of words that incuded in the tokens. for example, in the sentence “Who will win the football world cup in 2022?” unigrams would be a sequence of single words such as “who”, “will”, “win” and so on. Bigrams would be a sequence of 2 contiguous words such as “who will”, “will win”, and so on. So the ngram_range parameter we’ll use in the code below sets the lower and upper bounds of the our ngrams (we’ll be using unigrams). Then we’ll assign the ngrams to bow_vector.\"\n",
    "\n",
    "from gensim.summarization import summarize\n",
    "print(summarize(text))"
   ]
  },
  {
   "cell_type": "code",
   "execution_count": null,
   "metadata": {},
   "outputs": [],
   "source": []
  }
 ],
 "metadata": {
  "kernelspec": {
   "display_name": "Python 3",
   "language": "python",
   "name": "python3"
  },
  "language_info": {
   "codemirror_mode": {
    "name": "ipython",
    "version": 3
   },
   "file_extension": ".py",
   "mimetype": "text/x-python",
   "name": "python",
   "nbconvert_exporter": "python",
   "pygments_lexer": "ipython3",
   "version": "3.7.3"
  }
 },
 "nbformat": 4,
 "nbformat_minor": 2
}
