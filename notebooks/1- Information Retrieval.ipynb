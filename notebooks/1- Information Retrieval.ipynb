{
 "cells": [
  {
   "cell_type": "markdown",
   "metadata": {},
   "source": [
    "# Information Retrieval\n",
    "\n",
    "Bag of Words and TF-IDF"
   ]
  },
  {
   "cell_type": "markdown",
   "metadata": {},
   "source": [
    "## 1 - Library Imports"
   ]
  },
  {
   "cell_type": "code",
   "execution_count": 3,
   "metadata": {},
   "outputs": [
    {
     "name": "stderr",
     "output_type": "stream",
     "text": [
      "[nltk_data] Downloading package stopwords to\n",
      "[nltk_data]     /Users/ldiego/nltk_data...\n",
      "[nltk_data]   Unzipping corpora/stopwords.zip.\n"
     ]
    }
   ],
   "source": [
    "%reset -f\n",
    "\n",
    "# Import Os to get to the root directory\n",
    "import os\n",
    "import sys\n",
    "\n",
    "# Root directory of the project\n",
    "ROOT_DIR = os.path.abspath(\"../\")\n",
    "sys.path.append(ROOT_DIR)\n",
    "TEST_DIR = os.path.join(ROOT_DIR, \"test-white-papers\")\n",
    "\n",
    "\n",
    "# Import own functions\n",
    "from libraries import corpus\n",
    "from libraries import pdf2text\n",
    "\n",
    "import warnings\n",
    "warnings.filterwarnings(\"ignore\")\n",
    "\n",
    "##########################\n",
    "# Import other libraries\n",
    "##########################\n",
    "\n",
    "# Data Manipulation\n",
    "import numpy as np\n",
    "import pandas as pd\n",
    "import re\n",
    "\n",
    "# Data Visualization\n",
    "import matplotlib.pyplot as plt\n",
    "from wordcloud import WordCloud, STOPWORDS, ImageColorGenerator\n",
    "\n",
    "# Natural Language Processing libraries\n",
    "import nltk\n",
    "nltk.download('stopwords')\n",
    "from nltk.corpus import stopwords\n",
    "from nltk.corpus import wordnet\n",
    "from nltk.stem import WordNetLemmatizer \n",
    "from nltk.probability import FreqDist\n",
    "from nltk import bigrams, ngrams\n",
    "\n",
    "import string # for punctuation\n",
    "import gc\n",
    "\n",
    "# Vectorizers\n",
    "from sklearn.feature_extraction.text import CountVectorizer\n",
    "from sklearn.feature_extraction.text import TfidfVectorizer\n"
   ]
  },
  {
   "cell_type": "code",
   "execution_count": 2,
   "metadata": {},
   "outputs": [
    {
     "data": {
      "text/plain": [
       "<module 'libraries.corpus' from 'D:\\\\Dropbox\\\\Masters\\\\BIPM\\\\2 Semester\\\\Text, Web and Social Media Analytics\\\\Project\\\\datascience_project\\\\libraries\\\\corpus.py'>"
      ]
     },
     "execution_count": 2,
     "metadata": {},
     "output_type": "execute_result"
    }
   ],
   "source": [
    "# To reload own libraries when a change is made\n",
    "from importlib import reload\n",
    "reload(corpus)"
   ]
  },
  {
   "cell_type": "markdown",
   "metadata": {},
   "source": [
    "## 2 - Data Preprocessing"
   ]
  },
  {
   "cell_type": "code",
   "execution_count": 4,
   "metadata": {},
   "outputs": [
    {
     "name": "stderr",
     "output_type": "stream",
     "text": [
      "2019-07-08 09:09:39,204 [MainThread  ] [INFO ]  Retrieving http://search.maven.org/remotecontent?filepath=org/apache/tika/tika-server/1.19/tika-server-1.19.jar to /var/folders/57/_yzmvkvn2bxcy9h0r2tprdz80000gn/T/tika-server.jar.\n",
      "2019-07-08 09:09:54,602 [MainThread  ] [INFO ]  Retrieving http://search.maven.org/remotecontent?filepath=org/apache/tika/tika-server/1.19/tika-server-1.19.jar.md5 to /var/folders/57/_yzmvkvn2bxcy9h0r2tprdz80000gn/T/tika-server.jar.md5.\n",
      "2019-07-08 09:09:55,069 [MainThread  ] [WARNI]  Failed to see startup log message; retrying...\n"
     ]
    }
   ],
   "source": [
    "# Retrieving the PDF files from white-paper folder and converting them to text\n",
    "dataset = pdf2text.get_dataset()"
   ]
  },
  {
   "cell_type": "code",
   "execution_count": 5,
   "metadata": {},
   "outputs": [
    {
     "data": {
      "text/plain": [
       "dict_keys(['utrust', 'ark', 'bitcoin', 'icon', 'basicattentiontoken', 'dash', 'bytecoin', 'horizen', 'abbccoin', 'komodo', 'hyperion', 'tezos', 'nexo', 'dai', 'tron', 'fantom', 'digixdao', 'cryptonex', 'maker', 'bytom', 'metal', 'dogecoin', 'pundix', 'japancontenttoken', 'cosmos', 'latoken', 'nem', 'maidsafecoin', 'decentraland', 'mixin', 'stellar', 'elastos', 'gxchain', 'nebulas', 'solve', 'eos', 'theta', 'stratis', 'tether', 'iexecrlc', 'orbs', 'dent', 'ethereum', 'vechain', 'hypercash', 'bitcoingold', 'status', 'ravencoin', 'thetafuel', 'zilliqa', 'celernetwork', 'omisego', 'singularitynet', 'usdcoin', 'holo', 'synthetixnetworktoken', 'bitshares', '0x', 'nkn', 'riftoken', 'waves', '#metahash', 'powerledger', 'siacoin', 'wanchain', 'enjincoin', 'loopring', 'factom', 'crypto', 'ontology', 'particl', 'metaverseetp', 'zcash', 'aion', 'skycoin', 'iota', 'binancecoin', 'chainlink', 'wax', 'bhpcoin', 'bittorrent', 'paxosstandardtoken', 'thundertoken', 'inocoin', 'apollocurrency', 'cosmocoin', 'tenx', 'nano', 'truechain', 'ardor', 'xrp', 'ethereumclassic', 'gnosis', 'waltonchain', 'monero', 'golem', 'steem', 'lina', 'obyte'])"
      ]
     },
     "execution_count": 5,
     "metadata": {},
     "output_type": "execute_result"
    }
   ],
   "source": [
    "# Print all the white papers' names\n",
    "dataset.keys()"
   ]
  },
  {
   "cell_type": "code",
   "execution_count": 6,
   "metadata": {},
   "outputs": [
    {
     "data": {
      "text/plain": [
       "99"
      ]
     },
     "execution_count": 6,
     "metadata": {},
     "output_type": "execute_result"
    }
   ],
   "source": [
    "# Size of corpus\n",
    "len(dataset.keys())"
   ]
  },
  {
   "cell_type": "code",
   "execution_count": 6,
   "metadata": {},
   "outputs": [
    {
     "name": "stdout",
     "output_type": "stream",
     "text": [
      "Cleaning: #metahash\n"
     ]
    },
    {
     "name": "stderr",
     "output_type": "stream",
     "text": [
      "[nltk_data] Downloading package punkt to\n",
      "[nltk_data]     C:\\Users\\luisd\\AppData\\Roaming\\nltk_data...\n",
      "[nltk_data]   Package punkt is already up-to-date!\n",
      "[nltk_data] Downloading package stopwords to\n",
      "[nltk_data]     C:\\Users\\luisd\\AppData\\Roaming\\nltk_data...\n",
      "[nltk_data]   Package stopwords is already up-to-date!\n",
      "[nltk_data] Downloading package averaged_perceptron_tagger to\n",
      "[nltk_data]     C:\\Users\\luisd\\AppData\\Roaming\\nltk_data...\n",
      "[nltk_data]   Package averaged_perceptron_tagger is already up-to-\n",
      "[nltk_data]       date!\n",
      "[nltk_data] Downloading package wordnet to\n",
      "[nltk_data]     C:\\Users\\luisd\\AppData\\Roaming\\nltk_data...\n",
      "[nltk_data]   Package wordnet is already up-to-date!\n",
      "[nltk_data] Error loading en_core_web_md: Package 'en_core_web_md' not\n",
      "[nltk_data]     found in index\n"
     ]
    },
    {
     "name": "stdout",
     "output_type": "stream",
     "text": [
      "Cleaning: 0x\n",
      "Cleaning: abbccoin\n",
      "Cleaning: aion\n",
      "Cleaning: apollocurrency\n",
      "Cleaning: ardor\n",
      "Cleaning: ark\n",
      "Cleaning: basicattentiontoken\n",
      "Cleaning: bhpcoin\n",
      "Cleaning: binancecoin\n",
      "Cleaning: bitcoin\n",
      "Cleaning: bitcoingold\n",
      "Cleaning: bitshares\n",
      "Cleaning: bittorrent\n",
      "Cleaning: bytecoin\n",
      "Cleaning: bytom\n",
      "Cleaning: celernetwork\n",
      "Cleaning: chainlink\n",
      "Cleaning: cosmocoin\n",
      "Cleaning: cosmos\n",
      "Cleaning: crypto\n",
      "Cleaning: cryptonex\n",
      "Cleaning: dai\n",
      "Cleaning: dash\n",
      "Cleaning: decentraland\n",
      "Cleaning: dent\n",
      "Cleaning: digixdao\n",
      "Cleaning: dogecoin\n",
      "Cleaning: elastos\n",
      "Cleaning: enjincoin\n",
      "Cleaning: eos\n",
      "Cleaning: ethereum\n",
      "Cleaning: ethereumclassic\n",
      "Cleaning: factom\n",
      "Cleaning: fantom\n",
      "Cleaning: gnosis\n",
      "Cleaning: golem\n",
      "Cleaning: gxchain\n",
      "Cleaning: holo\n",
      "Cleaning: horizen\n",
      "Cleaning: hypercash\n",
      "Cleaning: hyperion\n",
      "Cleaning: icon\n",
      "Cleaning: iexecrlc\n",
      "Cleaning: inocoin\n",
      "Cleaning: iota\n",
      "Cleaning: japancontenttoken\n",
      "Cleaning: komodo\n",
      "Cleaning: latoken\n",
      "Cleaning: lina\n",
      "Cleaning: loopring\n",
      "Cleaning: maidsafecoin\n",
      "Cleaning: maker\n",
      "Cleaning: metal\n",
      "Cleaning: metaverseetp\n",
      "Cleaning: mixin\n",
      "Cleaning: monero\n",
      "Cleaning: nano\n",
      "Cleaning: nebulas\n",
      "Cleaning: nem\n",
      "Cleaning: nexo\n",
      "Cleaning: nkn\n",
      "Cleaning: obyte\n",
      "Cleaning: omisego\n",
      "Cleaning: ontology\n",
      "Cleaning: orbs\n",
      "Cleaning: particl\n",
      "Cleaning: paxosstandardtoken\n",
      "Cleaning: powerledger\n",
      "Cleaning: pundix\n",
      "Cleaning: ravencoin\n",
      "Cleaning: riftoken\n",
      "Cleaning: siacoin\n",
      "Cleaning: singularitynet\n",
      "Cleaning: skycoin\n",
      "Cleaning: solve\n",
      "Cleaning: status\n",
      "Cleaning: steem\n",
      "Cleaning: stellar\n",
      "Cleaning: stratis\n",
      "Cleaning: synthetixnetworktoken\n",
      "Cleaning: tenx\n",
      "Cleaning: tether\n",
      "Cleaning: tezos\n",
      "Cleaning: theta\n",
      "Cleaning: thetafuel\n",
      "Cleaning: thundertoken\n",
      "Cleaning: tron\n",
      "Cleaning: truechain\n",
      "Cleaning: usdcoin\n",
      "Cleaning: utrust\n",
      "Cleaning: vechain\n",
      "Cleaning: waltonchain\n",
      "Cleaning: wanchain\n",
      "Cleaning: waves\n",
      "Cleaning: wax\n",
      "Cleaning: xrp\n",
      "Cleaning: zcash\n",
      "Cleaning: zilliqa\n",
      "Done!\n"
     ]
    }
   ],
   "source": [
    "# Define if you want your corpus to be whole or divided in sentences\n",
    "makeSentences = True\n",
    "# Creates a dictionary with each White Paper and its text pre-processed\n",
    "corpora_sent = corpus.makeCleanCorpus(dataset, lemmatize=False, removePunct=True, removeNums=True\n",
    "                                 ,makeSentences=makeSentences, removeURL=True, removeChar=True, removeEnt=False)"
   ]
  },
  {
   "cell_type": "code",
   "execution_count": 7,
   "metadata": {},
   "outputs": [
    {
     "name": "stdout",
     "output_type": "stream",
     "text": [
      "Cleaning: #metahash\n"
     ]
    },
    {
     "name": "stderr",
     "output_type": "stream",
     "text": [
      "[nltk_data] Downloading package punkt to\n",
      "[nltk_data]     C:\\Users\\luisd\\AppData\\Roaming\\nltk_data...\n",
      "[nltk_data]   Package punkt is already up-to-date!\n",
      "[nltk_data] Downloading package stopwords to\n",
      "[nltk_data]     C:\\Users\\luisd\\AppData\\Roaming\\nltk_data...\n",
      "[nltk_data]   Package stopwords is already up-to-date!\n",
      "[nltk_data] Downloading package averaged_perceptron_tagger to\n",
      "[nltk_data]     C:\\Users\\luisd\\AppData\\Roaming\\nltk_data...\n",
      "[nltk_data]   Package averaged_perceptron_tagger is already up-to-\n",
      "[nltk_data]       date!\n",
      "[nltk_data] Downloading package wordnet to\n",
      "[nltk_data]     C:\\Users\\luisd\\AppData\\Roaming\\nltk_data...\n",
      "[nltk_data]   Package wordnet is already up-to-date!\n",
      "[nltk_data] Error loading en_core_web_md: Package 'en_core_web_md' not\n",
      "[nltk_data]     found in index\n"
     ]
    },
    {
     "name": "stdout",
     "output_type": "stream",
     "text": [
      "Cleaning: 0x\n",
      "Cleaning: abbccoin\n",
      "Cleaning: aion\n",
      "Cleaning: apollocurrency\n",
      "Cleaning: ardor\n",
      "Cleaning: ark\n",
      "Cleaning: basicattentiontoken\n",
      "Cleaning: bhpcoin\n",
      "Cleaning: binancecoin\n",
      "Cleaning: bitcoin\n",
      "Cleaning: bitcoingold\n",
      "Cleaning: bitshares\n",
      "Cleaning: bittorrent\n",
      "Cleaning: bytecoin\n",
      "Cleaning: bytom\n",
      "Cleaning: celernetwork\n",
      "Cleaning: chainlink\n",
      "Cleaning: cosmocoin\n",
      "Cleaning: cosmos\n",
      "Cleaning: crypto\n",
      "Cleaning: cryptonex\n",
      "Cleaning: dai\n",
      "Cleaning: dash\n",
      "Cleaning: decentraland\n",
      "Cleaning: dent\n",
      "Cleaning: digixdao\n",
      "Cleaning: dogecoin\n",
      "Cleaning: elastos\n",
      "Cleaning: enjincoin\n",
      "Cleaning: eos\n",
      "Cleaning: ethereum\n",
      "Cleaning: ethereumclassic\n",
      "Cleaning: factom\n",
      "Cleaning: fantom\n",
      "Cleaning: gnosis\n",
      "Cleaning: golem\n",
      "Cleaning: gxchain\n",
      "Cleaning: holo\n",
      "Cleaning: horizen\n",
      "Cleaning: hypercash\n",
      "Cleaning: hyperion\n",
      "Cleaning: icon\n",
      "Cleaning: iexecrlc\n",
      "Cleaning: inocoin\n",
      "Cleaning: iota\n",
      "Cleaning: japancontenttoken\n",
      "Cleaning: komodo\n",
      "Cleaning: latoken\n",
      "Cleaning: lina\n",
      "Cleaning: loopring\n",
      "Cleaning: maidsafecoin\n",
      "Cleaning: maker\n",
      "Cleaning: metal\n",
      "Cleaning: metaverseetp\n",
      "Cleaning: mixin\n",
      "Cleaning: monero\n",
      "Cleaning: nano\n",
      "Cleaning: nebulas\n",
      "Cleaning: nem\n",
      "Cleaning: nexo\n",
      "Cleaning: nkn\n",
      "Cleaning: obyte\n",
      "Cleaning: omisego\n",
      "Cleaning: ontology\n",
      "Cleaning: orbs\n",
      "Cleaning: particl\n",
      "Cleaning: paxosstandardtoken\n",
      "Cleaning: powerledger\n",
      "Cleaning: pundix\n",
      "Cleaning: ravencoin\n",
      "Cleaning: riftoken\n",
      "Cleaning: siacoin\n",
      "Cleaning: singularitynet\n",
      "Cleaning: skycoin\n",
      "Cleaning: solve\n",
      "Cleaning: status\n",
      "Cleaning: steem\n",
      "Cleaning: stellar\n",
      "Cleaning: stratis\n",
      "Cleaning: synthetixnetworktoken\n",
      "Cleaning: tenx\n",
      "Cleaning: tether\n",
      "Cleaning: tezos\n",
      "Cleaning: theta\n",
      "Cleaning: thetafuel\n",
      "Cleaning: thundertoken\n",
      "Cleaning: tron\n",
      "Cleaning: truechain\n",
      "Cleaning: usdcoin\n",
      "Cleaning: utrust\n",
      "Cleaning: vechain\n",
      "Cleaning: waltonchain\n",
      "Cleaning: wanchain\n",
      "Cleaning: waves\n",
      "Cleaning: wax\n",
      "Cleaning: xrp\n",
      "Cleaning: zcash\n",
      "Cleaning: zilliqa\n",
      "Done!\n"
     ]
    }
   ],
   "source": [
    "# Define if you want your corpus to be whole or divided in sentences\n",
    "makeSentences = False\n",
    "# Creates a dictionary with each White Paper and its text pre-processed\n",
    "corpora_whole = corpus.makeCleanCorpus(dataset, lemmatize=False, removePunct=True, removeNums=True\n",
    "                                 ,makeSentences=makeSentences, removeURL=True, removeChar=True, removeEnt=False)"
   ]
  },
  {
   "cell_type": "markdown",
   "metadata": {},
   "source": [
    "## 3 - Methods Application"
   ]
  },
  {
   "cell_type": "markdown",
   "metadata": {},
   "source": [
    "### Tokenization\n",
    "\n",
    "Tokenization is the first step. The text documents will be broken down into small pieces, in this case words. These tokenized words are called tokens. "
   ]
  },
  {
   "cell_type": "code",
   "execution_count": 8,
   "metadata": {},
   "outputs": [],
   "source": [
    "# Define function\n",
    "def tokenization(corpus, protocol):\n",
    "    \"\"\"\n",
    "    Function that receives a name of a protocol and return the tokens.\n",
    "    Input:\n",
    "        Name of protocol\n",
    "    Output:\n",
    "        Tokens\n",
    "    \"\"\"\n",
    "    assert protocol in corpus.keys()\n",
    "    \n",
    "    # Start tokenizing the dataset\n",
    "    tokenizer = nltk.tokenize.RegexpTokenizer('\\s+', gaps=True)\n",
    "\n",
    "    if makeSentences:\n",
    "        #############################################\n",
    "        # Tokenization on sentences for a specific \n",
    "        tokens = [tokenizer.tokenize(s) for s in corpus[protocol]]\n",
    "        # Flatten the list\n",
    "        tokens = np.reshape(np.concatenate(tokens), -1)\n",
    "        #############################################\n",
    "    else:\n",
    "        #############################################\n",
    "        # Tokenization on whole corpus (no sentences)\n",
    "        tokens = tokenizer.tokenize(corpus[protocol])\n",
    "        #############################################\n",
    "\n",
    "    print('We have', len(tokens), 'words in total. \\n')\n",
    "    print(tokens[5:10])\n",
    "    \n",
    "    return tokens"
   ]
  },
  {
   "cell_type": "markdown",
   "metadata": {},
   "source": [
    "### Frequency Distribution"
   ]
  },
  {
   "cell_type": "markdown",
   "metadata": {},
   "source": [
    "The FreqDist can quickly show how frequent a word occurs in the coprus. Frequency Distribution enables to define the most informative words about the topic of the text document.\n",
    "https://www.nltk.org/book/ch01.html"
   ]
  },
  {
   "cell_type": "code",
   "execution_count": 9,
   "metadata": {},
   "outputs": [
    {
     "name": "stdout",
     "output_type": "stream",
     "text": [
      "We have 1486 words in total. \n",
      "\n",
      "['purely', 'peertopeer', 'version', 'electronic', 'cash']\n"
     ]
    },
    {
     "data": {
      "text/plain": [
       "[('block', 46),\n",
       " ('hash', 42),\n",
       " ('transaction', 36),\n",
       " ('transactions', 33),\n",
       " ('nodes', 31),\n",
       " ('chain', 25),\n",
       " ('network', 21),\n",
       " ('attacker', 19),\n",
       " ('blocks', 19),\n",
       " ('proofofwork', 18)]"
      ]
     },
     "execution_count": 9,
     "metadata": {},
     "output_type": "execute_result"
    }
   ],
   "source": [
    "# Get tokens for a specific white paper\n",
    "tokens = tokenization(corpora_whole, \"bitcoin\")\n",
    "\n",
    "# Create the object with all the tokens\n",
    "fdist = FreqDist(tokens)\n",
    "fdist.most_common(10)"
   ]
  },
  {
   "cell_type": "code",
   "execution_count": 10,
   "metadata": {},
   "outputs": [
    {
     "data": {
      "image/png": "[encoded data removed]",
      "text/plain": [
       "<Figure size 432x288 with 1 Axes>"
      ]
     },
     "metadata": {
      "needs_background": "light"
     },
     "output_type": "display_data"
    }
   ],
   "source": [
    "fdist.plot(30,cumulative=False)\n",
    "plt.show()"
   ]
  },
  {
   "cell_type": "markdown",
   "metadata": {},
   "source": [
    "### N-grams"
   ]
  },
  {
   "cell_type": "markdown",
   "metadata": {},
   "source": [
    "N-grams is a sequence of N words. Extracting a list of word pairs from a text is known as bigrams. N-gram model predicts the occurrence of a word based on the occurrence of its N – 1 previous words. So here we are answering the question – how far back in the history of a sequence of words should we go to predict the next word?"
   ]
  },
  {
   "cell_type": "code",
   "execution_count": 11,
   "metadata": {},
   "outputs": [],
   "source": [
    "def ngrams(tokens, n = 2):\n",
    "    \n",
    "    assert n > 1\n",
    "    \n",
    "    if n == 2:\n",
    "        bigrams_tokens = bigrams(tokens)\n",
    "        fdist_bigrams = FreqDist(list(bigrams_tokens))\n",
    "        fdist_bigrams.plot(30,cumulative=False)\n",
    "        plt.show()\n",
    "    if n == 3:\n",
    "        trigrams_tokens = ngrams(tokens, 3)\n",
    "        fdist_trigrams = FreqDist(list(trigrams_tokens))\n",
    "        fdist_trigrams.plot(30,cumulative=False)\n",
    "        plt.show()\n",
    "    if n > 3:\n",
    "        grams_tokens = ngrams(tokens, n)\n",
    "        fdist_grams = FreqDist(list(grams_tokens))\n",
    "        fdist_grams.plot(30,cumulative=False)\n",
    "        plt.show()"
   ]
  },
  {
   "cell_type": "markdown",
   "metadata": {},
   "source": [
    "### Bag of Words / Word Cloud"
   ]
  },
  {
   "cell_type": "markdown",
   "metadata": {},
   "source": [
    "A popular and simple method of feature extraction with text data is called the bag-of-words model of text. The feature_extraction module from scikit-learn to create bag-of-words features is used below."
   ]
  },
  {
   "cell_type": "code",
   "execution_count": 12,
   "metadata": {},
   "outputs": [],
   "source": [
    "def bag_words(corpus, protocol):\n",
    "\n",
    "    # Initialize a CountVectorizer object: count_vectorizer\n",
    "    count_vec = CountVectorizer(stop_words=\"english\", analyzer='word', \n",
    "                                ngram_range=(1, 1), max_df=1.0, min_df=1, max_features=None)\n",
    "\n",
    "    text = [corpus[protocol]]\n",
    "    # Transforms the data into a bag of words\n",
    "    count_train = count_vec.fit(text)\n",
    "    bag_of_words = count_vec.transform(text)\n",
    "    \n",
    "    return bag_of_words, count_vec\n"
   ]
  },
  {
   "cell_type": "code",
   "execution_count": 28,
   "metadata": {},
   "outputs": [],
   "source": [
    "def word_cloud(corpus,protocol):\n",
    "    text = corpus[protocol]\n",
    "    wordcloud = WordCloud(background_color=\"white\",\n",
    "                          stopwords = set(STOPWORDS)\n",
    "                          ).generate(text)\n",
    "    plt.imshow(wordcloud)\n",
    "    plt.axis(\"off\")\n",
    "    plt.show()"
   ]
  },
  {
   "cell_type": "markdown",
   "metadata": {},
   "source": [
    "## 4 - Outcome"
   ]
  },
  {
   "cell_type": "markdown",
   "metadata": {},
   "source": [
    "### Input"
   ]
  },
  {
   "cell_type": "code",
   "execution_count": 14,
   "metadata": {},
   "outputs": [
    {
     "data": {
      "text/plain": [
       "dict_keys(['adcoin', 'budbo', 'kwattcoin', 'oceanprotocol'])"
      ]
     },
     "execution_count": 14,
     "metadata": {},
     "output_type": "execute_result"
    }
   ],
   "source": [
    "testset = pdf2text.get_dataset(path=TEST_DIR)\n",
    "testset.keys()"
   ]
  },
  {
   "cell_type": "code",
   "execution_count": 19,
   "metadata": {},
   "outputs": [
    {
     "name": "stderr",
     "output_type": "stream",
     "text": [
      "[nltk_data] Downloading package punkt to\n",
      "[nltk_data]     C:\\Users\\luisd\\AppData\\Roaming\\nltk_data...\n",
      "[nltk_data]   Package punkt is already up-to-date!\n",
      "[nltk_data] Downloading package stopwords to\n",
      "[nltk_data]     C:\\Users\\luisd\\AppData\\Roaming\\nltk_data...\n",
      "[nltk_data]   Package stopwords is already up-to-date!\n",
      "[nltk_data] Downloading package averaged_perceptron_tagger to\n",
      "[nltk_data]     C:\\Users\\luisd\\AppData\\Roaming\\nltk_data...\n",
      "[nltk_data]   Package averaged_perceptron_tagger is already up-to-\n",
      "[nltk_data]       date!\n",
      "[nltk_data] Downloading package wordnet to\n",
      "[nltk_data]     C:\\Users\\luisd\\AppData\\Roaming\\nltk_data...\n",
      "[nltk_data]   Package wordnet is already up-to-date!\n",
      "[nltk_data] Error loading en_core_web_md: Package 'en_core_web_md' not\n",
      "[nltk_data]     found in index\n"
     ]
    },
    {
     "name": "stdout",
     "output_type": "stream",
     "text": [
      "Cleaning: adcoin\n",
      "Cleaning: budbo\n",
      "Cleaning: kwattcoin\n",
      "Cleaning: oceanprotocol\n",
      "Done!\n"
     ]
    }
   ],
   "source": [
    "# Define if you want your corpus to be whole or divided in sentences\n",
    "makeSentences = False\n",
    "# Creates a dictionary with each White Paper and its text pre-processed\n",
    "corpora_test = corpus.makeCleanCorpus(testset, lemmatize=True, removePunct=True, removeNums=True\n",
    "                                 ,makeSentences=makeSentences, removeURL=True, removeChar=True, removeEnt=True)"
   ]
  },
  {
   "cell_type": "markdown",
   "metadata": {},
   "source": [
    "### Model/Method"
   ]
  },
  {
   "cell_type": "markdown",
   "metadata": {},
   "source": [
    "#### Adcoin"
   ]
  },
  {
   "cell_type": "code",
   "execution_count": 20,
   "metadata": {},
   "outputs": [
    {
     "name": "stdout",
     "output_type": "stream",
     "text": [
      "We have 1310 words in total. \n",
      "\n",
      "['technological', 'advancement', 'adopt', 'blockchain', 'literally']\n"
     ]
    },
    {
     "data": {
      "image/png": "[encoded data removed]",
      "text/plain": [
       "<Figure size 432x288 with 1 Axes>"
      ]
     },
     "metadata": {
      "needs_background": "light"
     },
     "output_type": "display_data"
    }
   ],
   "source": [
    "tokens = tokenization(corpora_test, \"adcoin\")\n",
    "\n",
    "ngrams(tokens,2)"
   ]
  },
  {
   "cell_type": "code",
   "execution_count": 21,
   "metadata": {},
   "outputs": [],
   "source": [
    "bag, vect = bag_words(corpora_test,\"adcoin\")"
   ]
  },
  {
   "cell_type": "code",
   "execution_count": 29,
   "metadata": {},
   "outputs": [
    {
     "data": {
      "image/png": "[encoded data removed]",
      "text/plain": [
       "<Figure size 432x288 with 1 Axes>"
      ]
     },
     "metadata": {
      "needs_background": "light"
     },
     "output_type": "display_data"
    }
   ],
   "source": [
    "word_cloud(corpora_test,\"adcoin\")"
   ]
  },
  {
   "cell_type": "markdown",
   "metadata": {},
   "source": [
    "# 5 - Inspiration "
   ]
  },
  {
   "cell_type": "markdown",
   "metadata": {},
   "source": [
    "- https://www.kaggle.com/rochachan/part-1-for-beginners-bag-of-words\n",
    "- 'Bag_of_Words_tfidf_Simple_PreProcessing.ipynb' notebook by Prof. Löcher\n",
    "- https://towardsdatascience.com/a-complete-exploratory-data-analysis-and-visualization-for-text-data-29fb1b96fb6a\n",
    "- https://honingds.com/blog/natural-language-processing-with-python/\n",
    "- https://www.kaggle.com/ngyptr/python-nltk-sentiment-analysis\n",
    "- https://blog.xrds.acm.org/2017/10/introduction-n-grams-need/"
   ]
  }
 ],
 "metadata": {
  "kernelspec": {
   "display_name": "Python 3",
   "language": "python",
   "name": "python3"
  },
  "language_info": {
   "codemirror_mode": {
    "name": "ipython",
    "version": 3
   },
   "file_extension": ".py",
   "mimetype": "text/x-python",
   "name": "python",
   "nbconvert_exporter": "python",
   "pygments_lexer": "ipython3",
   "version": "3.7.1"
  }
 },
 "nbformat": 4,
 "nbformat_minor": 2
}
