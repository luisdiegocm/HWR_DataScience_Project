{
 "cells": [
  {
   "cell_type": "markdown",
   "metadata": {},
   "source": [
    "# Information Retrieval\n",
    "\n",
    "Bag of Words and TF-IDF"
   ]
  },
  {
   "cell_type": "markdown",
   "metadata": {},
   "source": [
    "## 1 - Library Imports"
   ]
  },
  {
   "cell_type": "code",
   "execution_count": 41,
   "metadata": {},
   "outputs": [
    {
     "name": "stderr",
     "output_type": "stream",
     "text": [
      "[nltk_data] Downloading package stopwords to\n",
      "[nltk_data]     C:\\Users\\laman\\AppData\\Roaming\\nltk_data...\n",
      "[nltk_data]   Package stopwords is already up-to-date!\n"
     ]
    }
   ],
   "source": [
    "%reset -f\n",
    "\n",
    "# Import Os to get to the root directory\n",
    "import os\n",
    "import sys\n",
    "\n",
    "# Root directory of the project\n",
    "ROOT_DIR = os.path.abspath(\"../\")\n",
    "sys.path.append(ROOT_DIR)\n",
    "TEST_DIR = os.path.join(ROOT_DIR, \"test-white-papers\")\n",
    "\n",
    "\n",
    "# Import own functions\n",
    "from libraries import corpus\n",
    "from libraries import pdf2text\n",
    "\n",
    "import warnings\n",
    "warnings.filterwarnings(\"ignore\")\n",
    "\n",
    "##########################\n",
    "# Import other libraries\n",
    "##########################\n",
    "\n",
    "# Data Manipulation\n",
    "import numpy as np\n",
    "import pandas as pd\n",
    "import re\n",
    "\n",
    "# Data Visualization\n",
    "import matplotlib.pyplot as plt\n",
    "from wordcloud import WordCloud, STOPWORDS, ImageColorGenerator\n",
    "\n",
    "# Natural Language Processing libraries\n",
    "import nltk\n",
    "nltk.download('stopwords')\n",
    "from nltk.corpus import stopwords\n",
    "from nltk.corpus import wordnet\n",
    "from nltk.stem import WordNetLemmatizer \n",
    "from nltk.probability import FreqDist\n",
    "from nltk import bigrams, ngrams\n",
    "from nltk.stem import SnowballStemmer\n",
    "\n",
    "import string # for punctuation\n",
    "import gc\n",
    "\n",
    "# Vectorizers\n",
    "from sklearn.feature_extraction.text import CountVectorizer\n",
    "from sklearn.feature_extraction.text import TfidfVectorizer\n"
   ]
  },
  {
   "cell_type": "code",
   "execution_count": 42,
   "metadata": {},
   "outputs": [
    {
     "data": {
      "text/plain": [
       "<module 'libraries.corpus' from 'C:\\\\Users\\\\laman\\\\Desktop\\\\datascience_project\\\\libraries\\\\corpus.py'>"
      ]
     },
     "execution_count": 42,
     "metadata": {},
     "output_type": "execute_result"
    }
   ],
   "source": [
    "# To reload own libraries when a change is made\n",
    "from importlib import reload\n",
    "reload(corpus)"
   ]
  },
  {
   "cell_type": "markdown",
   "metadata": {},
   "source": [
    "## 2 - Data Preprocessing"
   ]
  },
  {
   "cell_type": "code",
   "execution_count": 44,
   "metadata": {},
   "outputs": [],
   "source": [
    "# Retrieving the PDF files from white-paper folder and converting them to text\n",
    "dataset = pdf2text.get_dataset()"
   ]
  },
  {
   "cell_type": "code",
   "execution_count": 45,
   "metadata": {},
   "outputs": [
    {
     "data": {
      "text/plain": [
       "dict_keys(['#metahash', '0x', 'abbccoin', 'aion', 'apollocurrency', 'ardor', 'ark', 'basicattentiontoken', 'bhpcoin', 'binancecoin', 'bitcoin', 'bitcoingold', 'bitshares', 'bittorrent', 'bytecoin', 'bytom', 'celernetwork', 'chainlink', 'cosmocoin', 'cosmos', 'crypto', 'cryptonex', 'dai', 'dash', 'decentraland', 'dent', 'digixdao', 'dogecoin', 'elastos', 'enjincoin', 'eos', 'ethereum', 'ethereumclassic', 'factom', 'fantom', 'gnosis', 'golem', 'gxchain', 'holo', 'horizen', 'hypercash', 'hyperion', 'icon', 'iexecrlc', 'inocoin', 'iota', 'japancontenttoken', 'komodo', 'latoken', 'lina', 'loopring', 'maidsafecoin', 'maker', 'metal', 'metaverseetp', 'mixin', 'monero', 'nano', 'nebulas', 'nem', 'nexo', 'nkn', 'obyte', 'omisego', 'ontology', 'orbs', 'particl', 'paxosstandardtoken', 'powerledger', 'pundix', 'ravencoin', 'riftoken', 'siacoin', 'singularitynet', 'skycoin', 'solve', 'status', 'steem', 'stellar', 'stratis', 'synthetixnetworktoken', 'tenx', 'tether', 'tezos', 'theta', 'thetafuel', 'thundertoken', 'tron', 'truechain', 'usdcoin', 'utrust', 'vechain', 'waltonchain', 'wanchain', 'waves', 'wax', 'xrp', 'zcash', 'zilliqa'])"
      ]
     },
     "execution_count": 45,
     "metadata": {},
     "output_type": "execute_result"
    }
   ],
   "source": [
    "# Print all the white papers' names\n",
    "dataset.keys()"
   ]
  },
  {
   "cell_type": "code",
   "execution_count": 46,
   "metadata": {},
   "outputs": [
    {
     "data": {
      "text/plain": [
       "99"
      ]
     },
     "execution_count": 46,
     "metadata": {},
     "output_type": "execute_result"
    }
   ],
   "source": [
    "# Size of corpus\n",
    "len(dataset.keys())"
   ]
  },
  {
   "cell_type": "code",
   "execution_count": 47,
   "metadata": {},
   "outputs": [
    {
     "name": "stdout",
     "output_type": "stream",
     "text": [
      "Cleaning: #metahash\n"
     ]
    },
    {
     "name": "stderr",
     "output_type": "stream",
     "text": [
      "[nltk_data] Downloading package punkt to\n",
      "[nltk_data]     C:\\Users\\laman\\AppData\\Roaming\\nltk_data...\n",
      "[nltk_data]   Package punkt is already up-to-date!\n",
      "[nltk_data] Downloading package stopwords to\n",
      "[nltk_data]     C:\\Users\\laman\\AppData\\Roaming\\nltk_data...\n",
      "[nltk_data]   Package stopwords is already up-to-date!\n",
      "[nltk_data] Downloading package averaged_perceptron_tagger to\n",
      "[nltk_data]     C:\\Users\\laman\\AppData\\Roaming\\nltk_data...\n",
      "[nltk_data]   Package averaged_perceptron_tagger is already up-to-\n",
      "[nltk_data]       date!\n",
      "[nltk_data] Downloading package wordnet to\n",
      "[nltk_data]     C:\\Users\\laman\\AppData\\Roaming\\nltk_data...\n",
      "[nltk_data]   Package wordnet is already up-to-date!\n",
      "[nltk_data] Error loading en_core_web_md: Package 'en_core_web_md' not\n",
      "[nltk_data]     found in index\n"
     ]
    },
    {
     "name": "stdout",
     "output_type": "stream",
     "text": [
      "Cleaning: 0x\n",
      "Cleaning: abbccoin\n",
      "Cleaning: aion\n",
      "Cleaning: apollocurrency\n",
      "Cleaning: ardor\n",
      "Cleaning: ark\n",
      "Cleaning: basicattentiontoken\n",
      "Cleaning: bhpcoin\n",
      "Cleaning: binancecoin\n",
      "Cleaning: bitcoin\n",
      "Cleaning: bitcoingold\n",
      "Cleaning: bitshares\n",
      "Cleaning: bittorrent\n",
      "Cleaning: bytecoin\n",
      "Cleaning: bytom\n",
      "Cleaning: celernetwork\n",
      "Cleaning: chainlink\n",
      "Cleaning: cosmocoin\n",
      "Cleaning: cosmos\n",
      "Cleaning: crypto\n",
      "Cleaning: cryptonex\n",
      "Cleaning: dai\n",
      "Cleaning: dash\n",
      "Cleaning: decentraland\n",
      "Cleaning: dent\n",
      "Cleaning: digixdao\n",
      "Cleaning: dogecoin\n",
      "Cleaning: elastos\n",
      "Cleaning: enjincoin\n",
      "Cleaning: eos\n",
      "Cleaning: ethereum\n",
      "Cleaning: ethereumclassic\n",
      "Cleaning: factom\n",
      "Cleaning: fantom\n",
      "Cleaning: gnosis\n",
      "Cleaning: golem\n",
      "Cleaning: gxchain\n",
      "Cleaning: holo\n",
      "Cleaning: horizen\n",
      "Cleaning: hypercash\n",
      "Cleaning: hyperion\n",
      "Cleaning: icon\n",
      "Cleaning: iexecrlc\n",
      "Cleaning: inocoin\n",
      "Cleaning: iota\n",
      "Cleaning: japancontenttoken\n",
      "Cleaning: komodo\n",
      "Cleaning: latoken\n",
      "Cleaning: lina\n",
      "Cleaning: loopring\n",
      "Cleaning: maidsafecoin\n",
      "Cleaning: maker\n",
      "Cleaning: metal\n",
      "Cleaning: metaverseetp\n",
      "Cleaning: mixin\n",
      "Cleaning: monero\n",
      "Cleaning: nano\n",
      "Cleaning: nebulas\n",
      "Cleaning: nem\n",
      "Cleaning: nexo\n",
      "Cleaning: nkn\n",
      "Cleaning: obyte\n",
      "Cleaning: omisego\n",
      "Cleaning: ontology\n",
      "Cleaning: orbs\n",
      "Cleaning: particl\n",
      "Cleaning: paxosstandardtoken\n",
      "Cleaning: powerledger\n",
      "Cleaning: pundix\n",
      "Cleaning: ravencoin\n",
      "Cleaning: riftoken\n",
      "Cleaning: siacoin\n",
      "Cleaning: singularitynet\n",
      "Cleaning: skycoin\n",
      "Cleaning: solve\n",
      "Cleaning: status\n",
      "Cleaning: steem\n",
      "Cleaning: stellar\n",
      "Cleaning: stratis\n",
      "Cleaning: synthetixnetworktoken\n",
      "Cleaning: tenx\n",
      "Cleaning: tether\n",
      "Cleaning: tezos\n",
      "Cleaning: theta\n",
      "Cleaning: thetafuel\n",
      "Cleaning: thundertoken\n",
      "Cleaning: tron\n",
      "Cleaning: truechain\n",
      "Cleaning: usdcoin\n",
      "Cleaning: utrust\n",
      "Cleaning: vechain\n",
      "Cleaning: waltonchain\n",
      "Cleaning: wanchain\n",
      "Cleaning: waves\n",
      "Cleaning: wax\n",
      "Cleaning: xrp\n",
      "Cleaning: zcash\n",
      "Cleaning: zilliqa\n",
      "Done!\n"
     ]
    }
   ],
   "source": [
    "# Define if you want your corpus to be whole or divided in sentences\n",
    "makeSentences = True\n",
    "# Creates a dictionary with each White Paper and its text pre-processed\n",
    "corpora_sent = corpus.makeCleanCorpus(dataset, lemmatize=False, removePunct=True, removeNums=True\n",
    "                                 ,makeSentences=makeSentences, removeURL=True, removeChar=True, removeEnt=False)"
   ]
  },
  {
   "cell_type": "code",
   "execution_count": 48,
   "metadata": {},
   "outputs": [
    {
     "name": "stdout",
     "output_type": "stream",
     "text": [
      "Cleaning: #metahash\n"
     ]
    },
    {
     "name": "stderr",
     "output_type": "stream",
     "text": [
      "[nltk_data] Downloading package punkt to\n",
      "[nltk_data]     C:\\Users\\laman\\AppData\\Roaming\\nltk_data...\n",
      "[nltk_data]   Package punkt is already up-to-date!\n",
      "[nltk_data] Downloading package stopwords to\n",
      "[nltk_data]     C:\\Users\\laman\\AppData\\Roaming\\nltk_data...\n",
      "[nltk_data]   Package stopwords is already up-to-date!\n",
      "[nltk_data] Downloading package averaged_perceptron_tagger to\n",
      "[nltk_data]     C:\\Users\\laman\\AppData\\Roaming\\nltk_data...\n",
      "[nltk_data]   Package averaged_perceptron_tagger is already up-to-\n",
      "[nltk_data]       date!\n",
      "[nltk_data] Downloading package wordnet to\n",
      "[nltk_data]     C:\\Users\\laman\\AppData\\Roaming\\nltk_data...\n",
      "[nltk_data]   Package wordnet is already up-to-date!\n",
      "[nltk_data] Error loading en_core_web_md: Package 'en_core_web_md' not\n",
      "[nltk_data]     found in index\n"
     ]
    },
    {
     "name": "stdout",
     "output_type": "stream",
     "text": [
      "Cleaning: 0x\n",
      "Cleaning: abbccoin\n",
      "Cleaning: aion\n",
      "Cleaning: apollocurrency\n",
      "Cleaning: ardor\n",
      "Cleaning: ark\n",
      "Cleaning: basicattentiontoken\n",
      "Cleaning: bhpcoin\n",
      "Cleaning: binancecoin\n",
      "Cleaning: bitcoin\n",
      "Cleaning: bitcoingold\n",
      "Cleaning: bitshares\n",
      "Cleaning: bittorrent\n",
      "Cleaning: bytecoin\n",
      "Cleaning: bytom\n",
      "Cleaning: celernetwork\n",
      "Cleaning: chainlink\n",
      "Cleaning: cosmocoin\n",
      "Cleaning: cosmos\n",
      "Cleaning: crypto\n",
      "Cleaning: cryptonex\n",
      "Cleaning: dai\n",
      "Cleaning: dash\n",
      "Cleaning: decentraland\n",
      "Cleaning: dent\n",
      "Cleaning: digixdao\n",
      "Cleaning: dogecoin\n",
      "Cleaning: elastos\n",
      "Cleaning: enjincoin\n",
      "Cleaning: eos\n",
      "Cleaning: ethereum\n",
      "Cleaning: ethereumclassic\n",
      "Cleaning: factom\n",
      "Cleaning: fantom\n",
      "Cleaning: gnosis\n",
      "Cleaning: golem\n",
      "Cleaning: gxchain\n",
      "Cleaning: holo\n",
      "Cleaning: horizen\n",
      "Cleaning: hypercash\n",
      "Cleaning: hyperion\n",
      "Cleaning: icon\n",
      "Cleaning: iexecrlc\n",
      "Cleaning: inocoin\n",
      "Cleaning: iota\n",
      "Cleaning: japancontenttoken\n",
      "Cleaning: komodo\n",
      "Cleaning: latoken\n",
      "Cleaning: lina\n",
      "Cleaning: loopring\n",
      "Cleaning: maidsafecoin\n",
      "Cleaning: maker\n",
      "Cleaning: metal\n",
      "Cleaning: metaverseetp\n",
      "Cleaning: mixin\n",
      "Cleaning: monero\n",
      "Cleaning: nano\n",
      "Cleaning: nebulas\n",
      "Cleaning: nem\n",
      "Cleaning: nexo\n",
      "Cleaning: nkn\n",
      "Cleaning: obyte\n",
      "Cleaning: omisego\n",
      "Cleaning: ontology\n",
      "Cleaning: orbs\n",
      "Cleaning: particl\n",
      "Cleaning: paxosstandardtoken\n",
      "Cleaning: powerledger\n",
      "Cleaning: pundix\n",
      "Cleaning: ravencoin\n",
      "Cleaning: riftoken\n",
      "Cleaning: siacoin\n",
      "Cleaning: singularitynet\n",
      "Cleaning: skycoin\n",
      "Cleaning: solve\n",
      "Cleaning: status\n",
      "Cleaning: steem\n",
      "Cleaning: stellar\n",
      "Cleaning: stratis\n",
      "Cleaning: synthetixnetworktoken\n",
      "Cleaning: tenx\n",
      "Cleaning: tether\n",
      "Cleaning: tezos\n",
      "Cleaning: theta\n",
      "Cleaning: thetafuel\n",
      "Cleaning: thundertoken\n",
      "Cleaning: tron\n",
      "Cleaning: truechain\n",
      "Cleaning: usdcoin\n",
      "Cleaning: utrust\n",
      "Cleaning: vechain\n",
      "Cleaning: waltonchain\n",
      "Cleaning: wanchain\n",
      "Cleaning: waves\n",
      "Cleaning: wax\n",
      "Cleaning: xrp\n",
      "Cleaning: zcash\n",
      "Cleaning: zilliqa\n",
      "Done!\n"
     ]
    }
   ],
   "source": [
    "# Define if you want your corpus to be whole or divided in sentences\n",
    "makeSentences = False\n",
    "# Creates a dictionary with each White Paper and its text pre-processed\n",
    "corpora_whole = corpus.makeCleanCorpus(dataset, lemmatize=False, removePunct=True, removeNums=True\n",
    "                                 ,makeSentences=makeSentences, removeURL=True, removeChar=True, removeEnt=False)"
   ]
  },
  {
   "cell_type": "markdown",
   "metadata": {},
   "source": [
    "## 3 - Methods Application"
   ]
  },
  {
   "cell_type": "markdown",
   "metadata": {},
   "source": [
    "### Tokenization\n",
    "\n",
    "Tokenization is the first step. The text documents will be broken down into small pieces, in this case words. These tokenized words are called tokens. "
   ]
  },
  {
   "cell_type": "code",
   "execution_count": 50,
   "metadata": {},
   "outputs": [],
   "source": [
    "# Define function\n",
    "def tokenization(corpus, protocol):\n",
    "    \"\"\"\n",
    "    Function that receives a name of a protocol and return the tokens.\n",
    "    Input:\n",
    "        Name of protocol\n",
    "    Output:\n",
    "        Tokens\n",
    "    \"\"\"\n",
    "    assert protocol in corpus.keys()\n",
    "    \n",
    "    # Start tokenizing the dataset\n",
    "    tokenizer = nltk.tokenize.RegexpTokenizer('\\s+', gaps=True)\n",
    "\n",
    "    if makeSentences:\n",
    "        #############################################\n",
    "        # Tokenization on sentences for a specific \n",
    "        tokens = [tokenizer.tokenize(s) for s in corpus[protocol]]\n",
    "        # Flatten the list\n",
    "        tokens = np.reshape(np.concatenate(tokens), -1)\n",
    "        #############################################\n",
    "    else:\n",
    "        #############################################\n",
    "        # Tokenization on whole corpus (no sentences)\n",
    "        tokens = tokenizer.tokenize(corpus[protocol])\n",
    "        #############################################\n",
    "\n",
    "    print('We have', len(tokens), 'words in total. \\n')\n",
    "    print(tokens[5:10])\n",
    "    \n",
    "    return tokens"
   ]
  },
  {
   "cell_type": "markdown",
   "metadata": {},
   "source": [
    "### Frequency Distribution"
   ]
  },
  {
   "cell_type": "markdown",
   "metadata": {},
   "source": [
    "The FreqDist can quickly show how frequent a word occurs in the coprus. Frequency Distribution enables to define the most informative words about the topic of the text document.\n",
    "https://www.nltk.org/book/ch01.html"
   ]
  },
  {
   "cell_type": "code",
   "execution_count": 51,
   "metadata": {},
   "outputs": [
    {
     "name": "stdout",
     "output_type": "stream",
     "text": [
      "We have 1486 words in total. \n",
      "\n",
      "['purely', 'peertopeer', 'version', 'electronic', 'cash']\n"
     ]
    },
    {
     "data": {
      "text/plain": [
       "[('block', 46),\n",
       " ('hash', 42),\n",
       " ('transaction', 36),\n",
       " ('transactions', 33),\n",
       " ('nodes', 31),\n",
       " ('chain', 25),\n",
       " ('network', 21),\n",
       " ('attacker', 19),\n",
       " ('blocks', 19),\n",
       " ('proofofwork', 18)]"
      ]
     },
     "execution_count": 51,
     "metadata": {},
     "output_type": "execute_result"
    }
   ],
   "source": [
    "# Get tokens for a specific white paper\n",
    "tokens = tokenization(corpora_whole, \"bitcoin\")\n",
    "\n",
    "# Create the object with all the tokens\n",
    "fdist = FreqDist(tokens)\n",
    "fdist.most_common(10)"
   ]
  },
  {
   "cell_type": "code",
   "execution_count": 52,
   "metadata": {},
   "outputs": [
    {
     "data": {
      "image/png": "[encoded data removed]",
      "text/plain": [
       "<Figure size 432x288 with 1 Axes>"
      ]
     },
     "metadata": {
      "needs_background": "light"
     },
     "output_type": "display_data"
    }
   ],
   "source": [
    "fdist.plot(30,cumulative=False)\n",
    "plt.show()"
   ]
  },
  {
   "cell_type": "markdown",
   "metadata": {},
   "source": [
    "### N-grams"
   ]
  },
  {
   "cell_type": "markdown",
   "metadata": {},
   "source": [
    "N-grams is a sequence of N words. Extracting a list of word pairs from a text is known as bigrams. N-gram model predicts the occurrence of a word based on the occurrence of its N – 1 previous words. So here we are answering the question – how far back in the history of a sequence of words should we go to predict the next word?"
   ]
  },
  {
   "cell_type": "code",
   "execution_count": 53,
   "metadata": {},
   "outputs": [],
   "source": [
    "def ngrams(tokens, n = 2):\n",
    "    \n",
    "    assert n > 1\n",
    "    \n",
    "    if n == 2:\n",
    "        bigrams_tokens = bigrams(tokens)\n",
    "        fdist_bigrams = FreqDist(list(bigrams_tokens))\n",
    "        fdist_bigrams.plot(30,cumulative=False)\n",
    "        plt.show()\n",
    "    if n == 3:\n",
    "        trigrams_tokens = ngrams(tokens, 3)\n",
    "        fdist_trigrams = FreqDist(list(trigrams_tokens))\n",
    "        fdist_trigrams.plot(30,cumulative=False)\n",
    "        plt.show()\n",
    "    if n > 3:\n",
    "        grams_tokens = ngrams(tokens, n)\n",
    "        fdist_grams = FreqDist(list(grams_tokens))\n",
    "        fdist_grams.plot(30,cumulative=False)\n",
    "        plt.show()"
   ]
  },
  {
   "cell_type": "markdown",
   "metadata": {},
   "source": [
    "### Bag of Words / Word Cloud"
   ]
  },
  {
   "cell_type": "markdown",
   "metadata": {},
   "source": [
    "A popular and simple method of feature extraction with text data is called the bag-of-words model of text."
   ]
  },
  {
   "cell_type": "code",
   "execution_count": 54,
   "metadata": {},
   "outputs": [],
   "source": [
    "def bag_words(corpus, protocol):\n",
    "\n",
    "    # Initialize a CountVectorizer object: count_vectorizer\n",
    "    count_vec = CountVectorizer(stop_words=\"english\", analyzer='word', \n",
    "                                ngram_range=(1, 1), max_df=1.0, min_df=1, max_features=None)\n",
    "\n",
    "    text = [corpus[protocol]]\n",
    "    # Transforms the data into a bag of words\n",
    "    count_train = count_vec.fit(text)\n",
    "    bag_of_words = count_vec.transform(text)\n",
    "    \n",
    "    return bag_of_words, count_vec\n"
   ]
  },
  {
   "cell_type": "code",
   "execution_count": 61,
   "metadata": {},
   "outputs": [],
   "source": [
    "def word_cloud(corpus,protocol):\n",
    "    text = corpus[protocol]\n",
    "    wordcloud = WordCloud(background_color=\"white\",\n",
    "                          stopwords = set(STOPWORDS)\n",
    "                          ).generate(text)\n",
    "    plt.imshow(wordcloud)\n",
    "    plt.axis(\"off\")\n",
    "    plt.show()"
   ]
  },
  {
   "cell_type": "markdown",
   "metadata": {},
   "source": [
    "## 4 - Outcome"
   ]
  },
  {
   "cell_type": "markdown",
   "metadata": {},
   "source": [
    "### Input"
   ]
  },
  {
   "cell_type": "code",
   "execution_count": 55,
   "metadata": {},
   "outputs": [
    {
     "data": {
      "text/plain": [
       "dict_keys(['adcoin', 'budbo', 'kwattcoin', 'oceanprotocol'])"
      ]
     },
     "execution_count": 55,
     "metadata": {},
     "output_type": "execute_result"
    }
   ],
   "source": [
    "testset = pdf2text.get_dataset(path=TEST_DIR)\n",
    "testset.keys()"
   ]
  },
  {
   "cell_type": "code",
   "execution_count": 56,
   "metadata": {},
   "outputs": [
    {
     "name": "stderr",
     "output_type": "stream",
     "text": [
      "[nltk_data] Downloading package punkt to\n",
      "[nltk_data]     C:\\Users\\laman\\AppData\\Roaming\\nltk_data...\n",
      "[nltk_data]   Package punkt is already up-to-date!\n",
      "[nltk_data] Downloading package stopwords to\n",
      "[nltk_data]     C:\\Users\\laman\\AppData\\Roaming\\nltk_data...\n",
      "[nltk_data]   Package stopwords is already up-to-date!\n",
      "[nltk_data] Downloading package averaged_perceptron_tagger to\n",
      "[nltk_data]     C:\\Users\\laman\\AppData\\Roaming\\nltk_data...\n",
      "[nltk_data]   Package averaged_perceptron_tagger is already up-to-\n",
      "[nltk_data]       date!\n",
      "[nltk_data] Downloading package wordnet to\n",
      "[nltk_data]     C:\\Users\\laman\\AppData\\Roaming\\nltk_data...\n",
      "[nltk_data]   Package wordnet is already up-to-date!\n",
      "[nltk_data] Error loading en_core_web_md: Package 'en_core_web_md' not\n",
      "[nltk_data]     found in index\n"
     ]
    },
    {
     "name": "stdout",
     "output_type": "stream",
     "text": [
      "Cleaning: adcoin\n",
      "Cleaning: budbo\n",
      "Cleaning: kwattcoin\n",
      "Cleaning: oceanprotocol\n",
      "Done!\n"
     ]
    }
   ],
   "source": [
    "# Define if you want your corpus to be whole or divided in sentences\n",
    "makeSentences = False\n",
    "# Creates a dictionary with each White Paper and its text pre-processed\n",
    "corpora_test = corpus.makeCleanCorpus(testset, lemmatize=True, removePunct=True, removeNums=True\n",
    "                                 ,makeSentences=makeSentences, removeURL=True, removeChar=True, removeEnt=True)"
   ]
  },
  {
   "cell_type": "markdown",
   "metadata": {},
   "source": [
    "### Model/Method"
   ]
  },
  {
   "cell_type": "markdown",
   "metadata": {},
   "source": [
    "#### Oceanprotocol"
   ]
  },
  {
   "cell_type": "code",
   "execution_count": 74,
   "metadata": {},
   "outputs": [
    {
     "name": "stdout",
     "output_type": "stream",
     "text": [
      "We have 8478 words in total. \n",
      "\n",
      "['version', 'apr', 'paper', 'decentralize', 'protocol']\n"
     ]
    },
    {
     "data": {
      "image/png": "[encoded data removed]",
      "text/plain": [
       "<Figure size 432x288 with 1 Axes>"
      ]
     },
     "metadata": {
      "needs_background": "light"
     },
     "output_type": "display_data"
    }
   ],
   "source": [
    "tokens = tokenization(corpora_test, \"oceanprotocol\")\n",
    "\n",
    "ngrams(tokens,2)"
   ]
  },
  {
   "cell_type": "code",
   "execution_count": 75,
   "metadata": {},
   "outputs": [],
   "source": [
    "bag, vect = bag_words(corpora_test,\"oceanprotocol\")"
   ]
  },
  {
   "cell_type": "code",
   "execution_count": 76,
   "metadata": {},
   "outputs": [
    {
     "data": {
      "image/png": "[encoded data removed]",
      "text/plain": [
       "<Figure size 432x288 with 1 Axes>"
      ]
     },
     "metadata": {
      "needs_background": "light"
     },
     "output_type": "display_data"
    }
   ],
   "source": [
    "word_cloud(corpora_test,\"oceanprotocol\")"
   ]
  },
  {
   "cell_type": "code",
   "execution_count": 87,
   "metadata": {},
   "outputs": [
    {
     "name": "stdout",
     "output_type": "stream",
     "text": [
      "We have 8478 words in total. \n",
      "\n",
      "['version', 'apr', 'paper', 'decentralize', 'protocol']\n"
     ]
    },
    {
     "data": {
      "text/plain": [
       "[('data', 285),\n",
       " ('service', 192),\n",
       " ('nerk', 184),\n",
       " ('reward', 132),\n",
       " ('access', 129),\n",
       " ('token', 94),\n",
       " ('stake', 75),\n",
       " ('compute', 70),\n",
       " ('figure', 60),\n",
       " ('publisher', 60)]"
      ]
     },
     "execution_count": 87,
     "metadata": {},
     "output_type": "execute_result"
    }
   ],
   "source": [
    "# Get tokens for a specific white paper\n",
    "tokens = tokenization(corpora_test, \"oceanprotocol\")\n",
    "\n",
    "# Create the object with all the tokens\n",
    "fdist = FreqDist(tokens)\n",
    "fdist.most_common(10)"
   ]
  },
  {
   "cell_type": "code",
   "execution_count": 88,
   "metadata": {},
   "outputs": [
    {
     "data": {
      "image/png": "[encoded data removed]",
      "text/plain": [
       "<Figure size 432x288 with 1 Axes>"
      ]
     },
     "metadata": {
      "needs_background": "light"
     },
     "output_type": "display_data"
    }
   ],
   "source": [
    "fdist.plot(30,cumulative=False)\n",
    "plt.show()"
   ]
  },
  {
   "cell_type": "markdown",
   "metadata": {},
   "source": [
    "## TF - IDF"
   ]
  },
  {
   "cell_type": "code",
   "execution_count": 77,
   "metadata": {},
   "outputs": [],
   "source": [
    "# Function that converts a dictionary into a Pandas Dataframe\n",
    "# The indexes are the name of the files\n",
    "df = corpus.dictionaryToPandas(corpora_test)"
   ]
  },
  {
   "cell_type": "code",
   "execution_count": 78,
   "metadata": {},
   "outputs": [
    {
     "data": {
      "text/html": [
       "<div>\n",
       "<style scoped>\n",
       "    .dataframe tbody tr th:only-of-type {\n",
       "        vertical-align: middle;\n",
       "    }\n",
       "\n",
       "    .dataframe tbody tr th {\n",
       "        vertical-align: top;\n",
       "    }\n",
       "\n",
       "    .dataframe thead th {\n",
       "        text-align: right;\n",
       "    }\n",
       "</style>\n",
       "<table border=\"1\" class=\"dataframe\">\n",
       "  <thead>\n",
       "    <tr style=\"text-align: right;\">\n",
       "      <th></th>\n",
       "      <th>text</th>\n",
       "    </tr>\n",
       "  </thead>\n",
       "  <tbody>\n",
       "    <tr>\n",
       "      <th>adcoin</th>\n",
       "      <td>version offer lot great opportunity technological advancement adopt blockchain literally interne...</td>\n",
       "    </tr>\n",
       "    <tr>\n",
       "      <th>budbo</th>\n",
       "      <td>global cannabis comehensive solution cannabis indtry version web wwwio content forward statement...</td>\n",
       "    </tr>\n",
       "    <tr>\n",
       "      <th>kwattcoin</th>\n",
       "      <td>newwhitepaper disclaimer document document constitute prospectus sort solicitation investment co...</td>\n",
       "    </tr>\n",
       "    <tr>\n",
       "      <th>oceanprotocol</th>\n",
       "      <td>decentralize substrate service technical foundation version apr paper decentralize protocol nerk...</td>\n",
       "    </tr>\n",
       "  </tbody>\n",
       "</table>\n",
       "</div>"
      ],
      "text/plain": [
       "                                                                                                              text\n",
       "adcoin         version offer lot great opportunity technological advancement adopt blockchain literally interne...\n",
       "budbo          global cannabis comehensive solution cannabis indtry version web wwwio content forward statement...\n",
       "kwattcoin      newwhitepaper disclaimer document document constitute prospectus sort solicitation investment co...\n",
       "oceanprotocol  decentralize substrate service technical foundation version apr paper decentralize protocol nerk..."
      ]
     },
     "execution_count": 78,
     "metadata": {},
     "output_type": "execute_result"
    }
   ],
   "source": [
    "# Define to show all the data\n",
    "pd.set_option('display.max_colwidth', 100)\n",
    "# Inspect the DataFrame\n",
    "df.head()"
   ]
  },
  {
   "cell_type": "code",
   "execution_count": 79,
   "metadata": {},
   "outputs": [
    {
     "name": "stdout",
     "output_type": "stream",
     "text": [
      "[]\n"
     ]
    }
   ],
   "source": [
    "# Define a function to perform both stemming and tokenization\n",
    "def tokenize_and_stem(text):\n",
    "    \n",
    "    # Tokenize by sentence, then by word\n",
    "    tokens = [word for text in nltk.sent_tokenize(text) for word in nltk.word_tokenize(text)]\n",
    "    \n",
    "    # Filter out raw tokens to remove noise\n",
    "    filtered_tokens = [token for token in tokens if re.search('[a-zA-Z]', token)]\n",
    "    \n",
    "    # Stem the filtered_tokens\n",
    "    stems = []\n",
    "    for token in filtered_tokens:\n",
    "         stems.append(stemmer.stem(token))\n",
    "\n",
    "    return stems\n",
    "\n",
    "words_stemmed = tokenize_and_stem('')\n",
    "print(words_stemmed)"
   ]
  },
  {
   "cell_type": "code",
   "execution_count": 80,
   "metadata": {},
   "outputs": [],
   "source": [
    "# Instantiate TfidfVectorizer object with stopwords and tokenizer\n",
    "# parameters for efficient processing of text\n",
    "tfidf_vectorizer = TfidfVectorizer(max_features=20000,\n",
    "                                        stop_words='english', lowercase = True,\n",
    "                                 use_idf=True, tokenizer=tokenize_and_stem,\n",
    "                                 ngram_range=(1,3))"
   ]
  },
  {
   "cell_type": "code",
   "execution_count": 81,
   "metadata": {},
   "outputs": [
    {
     "ename": "NameError",
     "evalue": "name 'stemmer' is not defined",
     "output_type": "error",
     "traceback": [
      "\u001b[1;31m---------------------------------------------------------------------------\u001b[0m",
      "\u001b[1;31mNameError\u001b[0m                                 Traceback (most recent call last)",
      "\u001b[1;32m<ipython-input-81-f3bbe13c996a>\u001b[0m in \u001b[0;36m<module>\u001b[1;34m\u001b[0m\n\u001b[0;32m      1\u001b[0m \u001b[1;31m# Fit and transform the tfidf_vectorizer with the \"text\" of each paper\u001b[0m\u001b[1;33m\u001b[0m\u001b[1;33m\u001b[0m\u001b[1;33m\u001b[0m\u001b[0m\n\u001b[0;32m      2\u001b[0m \u001b[1;31m# to create a vector representation of the plot summaries\u001b[0m\u001b[1;33m\u001b[0m\u001b[1;33m\u001b[0m\u001b[1;33m\u001b[0m\u001b[0m\n\u001b[1;32m----> 3\u001b[1;33m \u001b[0mtfidf_matrix\u001b[0m \u001b[1;33m=\u001b[0m \u001b[0mtfidf_vectorizer\u001b[0m\u001b[1;33m.\u001b[0m\u001b[0mfit_transform\u001b[0m\u001b[1;33m(\u001b[0m\u001b[0mcorpora_test\u001b[0m\u001b[1;33m.\u001b[0m\u001b[0mvalues\u001b[0m\u001b[1;33m(\u001b[0m\u001b[1;33m)\u001b[0m\u001b[1;33m)\u001b[0m\u001b[1;33m\u001b[0m\u001b[1;33m\u001b[0m\u001b[0m\n\u001b[0m\u001b[0;32m      4\u001b[0m \u001b[1;33m\u001b[0m\u001b[0m\n\u001b[0;32m      5\u001b[0m \u001b[0mprint\u001b[0m\u001b[1;33m(\u001b[0m\u001b[0mtype\u001b[0m\u001b[1;33m(\u001b[0m\u001b[0mtfidf_matrix\u001b[0m\u001b[1;33m)\u001b[0m\u001b[1;33m)\u001b[0m\u001b[1;33m\u001b[0m\u001b[1;33m\u001b[0m\u001b[0m\n",
      "\u001b[1;32m~\\Anaconda3\\lib\\site-packages\\sklearn\\feature_extraction\\text.py\u001b[0m in \u001b[0;36mfit_transform\u001b[1;34m(self, raw_documents, y)\u001b[0m\n\u001b[0;32m   1611\u001b[0m         \"\"\"\n\u001b[0;32m   1612\u001b[0m         \u001b[0mself\u001b[0m\u001b[1;33m.\u001b[0m\u001b[0m_check_params\u001b[0m\u001b[1;33m(\u001b[0m\u001b[1;33m)\u001b[0m\u001b[1;33m\u001b[0m\u001b[1;33m\u001b[0m\u001b[0m\n\u001b[1;32m-> 1613\u001b[1;33m         \u001b[0mX\u001b[0m \u001b[1;33m=\u001b[0m \u001b[0msuper\u001b[0m\u001b[1;33m(\u001b[0m\u001b[0mTfidfVectorizer\u001b[0m\u001b[1;33m,\u001b[0m \u001b[0mself\u001b[0m\u001b[1;33m)\u001b[0m\u001b[1;33m.\u001b[0m\u001b[0mfit_transform\u001b[0m\u001b[1;33m(\u001b[0m\u001b[0mraw_documents\u001b[0m\u001b[1;33m)\u001b[0m\u001b[1;33m\u001b[0m\u001b[1;33m\u001b[0m\u001b[0m\n\u001b[0m\u001b[0;32m   1614\u001b[0m         \u001b[0mself\u001b[0m\u001b[1;33m.\u001b[0m\u001b[0m_tfidf\u001b[0m\u001b[1;33m.\u001b[0m\u001b[0mfit\u001b[0m\u001b[1;33m(\u001b[0m\u001b[0mX\u001b[0m\u001b[1;33m)\u001b[0m\u001b[1;33m\u001b[0m\u001b[1;33m\u001b[0m\u001b[0m\n\u001b[0;32m   1615\u001b[0m         \u001b[1;31m# X is already a transformed view of raw_documents so\u001b[0m\u001b[1;33m\u001b[0m\u001b[1;33m\u001b[0m\u001b[1;33m\u001b[0m\u001b[0m\n",
      "\u001b[1;32m~\\Anaconda3\\lib\\site-packages\\sklearn\\feature_extraction\\text.py\u001b[0m in \u001b[0;36mfit_transform\u001b[1;34m(self, raw_documents, y)\u001b[0m\n\u001b[0;32m   1029\u001b[0m \u001b[1;33m\u001b[0m\u001b[0m\n\u001b[0;32m   1030\u001b[0m         vocabulary, X = self._count_vocab(raw_documents,\n\u001b[1;32m-> 1031\u001b[1;33m                                           self.fixed_vocabulary_)\n\u001b[0m\u001b[0;32m   1032\u001b[0m \u001b[1;33m\u001b[0m\u001b[0m\n\u001b[0;32m   1033\u001b[0m         \u001b[1;32mif\u001b[0m \u001b[0mself\u001b[0m\u001b[1;33m.\u001b[0m\u001b[0mbinary\u001b[0m\u001b[1;33m:\u001b[0m\u001b[1;33m\u001b[0m\u001b[1;33m\u001b[0m\u001b[0m\n",
      "\u001b[1;32m~\\Anaconda3\\lib\\site-packages\\sklearn\\feature_extraction\\text.py\u001b[0m in \u001b[0;36m_count_vocab\u001b[1;34m(self, raw_documents, fixed_vocab)\u001b[0m\n\u001b[0;32m    941\u001b[0m         \u001b[1;32mfor\u001b[0m \u001b[0mdoc\u001b[0m \u001b[1;32min\u001b[0m \u001b[0mraw_documents\u001b[0m\u001b[1;33m:\u001b[0m\u001b[1;33m\u001b[0m\u001b[1;33m\u001b[0m\u001b[0m\n\u001b[0;32m    942\u001b[0m             \u001b[0mfeature_counter\u001b[0m \u001b[1;33m=\u001b[0m \u001b[1;33m{\u001b[0m\u001b[1;33m}\u001b[0m\u001b[1;33m\u001b[0m\u001b[1;33m\u001b[0m\u001b[0m\n\u001b[1;32m--> 943\u001b[1;33m             \u001b[1;32mfor\u001b[0m \u001b[0mfeature\u001b[0m \u001b[1;32min\u001b[0m \u001b[0manalyze\u001b[0m\u001b[1;33m(\u001b[0m\u001b[0mdoc\u001b[0m\u001b[1;33m)\u001b[0m\u001b[1;33m:\u001b[0m\u001b[1;33m\u001b[0m\u001b[1;33m\u001b[0m\u001b[0m\n\u001b[0m\u001b[0;32m    944\u001b[0m                 \u001b[1;32mtry\u001b[0m\u001b[1;33m:\u001b[0m\u001b[1;33m\u001b[0m\u001b[1;33m\u001b[0m\u001b[0m\n\u001b[0;32m    945\u001b[0m                     \u001b[0mfeature_idx\u001b[0m \u001b[1;33m=\u001b[0m \u001b[0mvocabulary\u001b[0m\u001b[1;33m[\u001b[0m\u001b[0mfeature\u001b[0m\u001b[1;33m]\u001b[0m\u001b[1;33m\u001b[0m\u001b[1;33m\u001b[0m\u001b[0m\n",
      "\u001b[1;32m~\\Anaconda3\\lib\\site-packages\\sklearn\\feature_extraction\\text.py\u001b[0m in \u001b[0;36m<lambda>\u001b[1;34m(doc)\u001b[0m\n\u001b[0;32m    327\u001b[0m                                                tokenize)\n\u001b[0;32m    328\u001b[0m             return lambda doc: self._word_ngrams(\n\u001b[1;32m--> 329\u001b[1;33m                 tokenize(preprocess(self.decode(doc))), stop_words)\n\u001b[0m\u001b[0;32m    330\u001b[0m \u001b[1;33m\u001b[0m\u001b[0m\n\u001b[0;32m    331\u001b[0m         \u001b[1;32melse\u001b[0m\u001b[1;33m:\u001b[0m\u001b[1;33m\u001b[0m\u001b[1;33m\u001b[0m\u001b[0m\n",
      "\u001b[1;32m<ipython-input-79-3c048a642f23>\u001b[0m in \u001b[0;36mtokenize_and_stem\u001b[1;34m(text)\u001b[0m\n\u001b[0;32m     11\u001b[0m     \u001b[0mstems\u001b[0m \u001b[1;33m=\u001b[0m \u001b[1;33m[\u001b[0m\u001b[1;33m]\u001b[0m\u001b[1;33m\u001b[0m\u001b[1;33m\u001b[0m\u001b[0m\n\u001b[0;32m     12\u001b[0m     \u001b[1;32mfor\u001b[0m \u001b[0mtoken\u001b[0m \u001b[1;32min\u001b[0m \u001b[0mfiltered_tokens\u001b[0m\u001b[1;33m:\u001b[0m\u001b[1;33m\u001b[0m\u001b[1;33m\u001b[0m\u001b[0m\n\u001b[1;32m---> 13\u001b[1;33m          \u001b[0mstems\u001b[0m\u001b[1;33m.\u001b[0m\u001b[0mappend\u001b[0m\u001b[1;33m(\u001b[0m\u001b[0mstemmer\u001b[0m\u001b[1;33m.\u001b[0m\u001b[0mstem\u001b[0m\u001b[1;33m(\u001b[0m\u001b[0mtoken\u001b[0m\u001b[1;33m)\u001b[0m\u001b[1;33m)\u001b[0m\u001b[1;33m\u001b[0m\u001b[1;33m\u001b[0m\u001b[0m\n\u001b[0m\u001b[0;32m     14\u001b[0m \u001b[1;33m\u001b[0m\u001b[0m\n\u001b[0;32m     15\u001b[0m     \u001b[1;32mreturn\u001b[0m \u001b[0mstems\u001b[0m\u001b[1;33m\u001b[0m\u001b[1;33m\u001b[0m\u001b[0m\n",
      "\u001b[1;31mNameError\u001b[0m: name 'stemmer' is not defined"
     ]
    }
   ],
   "source": [
    "# Fit and transform the tfidf_vectorizer with the \"text\" of each paper\n",
    "# to create a vector representation of the plot summaries\n",
    "tfidf_matrix = tfidf_vectorizer.fit_transform(corpora_test.values())\n",
    "\n",
    "print(type(tfidf_matrix))"
   ]
  },
  {
   "cell_type": "code",
   "execution_count": 82,
   "metadata": {},
   "outputs": [
    {
     "ename": "NameError",
     "evalue": "name 'tfidf_matrix' is not defined",
     "output_type": "error",
     "traceback": [
      "\u001b[1;31m---------------------------------------------------------------------------\u001b[0m",
      "\u001b[1;31mNameError\u001b[0m                                 Traceback (most recent call last)",
      "\u001b[1;32m<ipython-input-82-1c1491d35319>\u001b[0m in \u001b[0;36m<module>\u001b[1;34m\u001b[0m\n\u001b[1;32m----> 1\u001b[1;33m \u001b[0mmatrix\u001b[0m \u001b[1;33m=\u001b[0m \u001b[0mpd\u001b[0m\u001b[1;33m.\u001b[0m\u001b[0mDataFrame\u001b[0m\u001b[1;33m(\u001b[0m\u001b[0mtfidf_matrix\u001b[0m\u001b[1;33m.\u001b[0m\u001b[0mtoarray\u001b[0m\u001b[1;33m(\u001b[0m\u001b[1;33m)\u001b[0m\u001b[1;33m,\u001b[0m \u001b[0mcolumns\u001b[0m\u001b[1;33m=\u001b[0m\u001b[0mtfidf_vectorizer\u001b[0m\u001b[1;33m.\u001b[0m\u001b[0mget_feature_names\u001b[0m\u001b[1;33m(\u001b[0m\u001b[1;33m)\u001b[0m\u001b[1;33m,\u001b[0m\u001b[0mindex\u001b[0m\u001b[1;33m=\u001b[0m\u001b[0mcorpora_test\u001b[0m\u001b[1;33m.\u001b[0m\u001b[0mkeys\u001b[0m\u001b[1;33m(\u001b[0m\u001b[1;33m)\u001b[0m\u001b[1;33m)\u001b[0m\u001b[1;33m\u001b[0m\u001b[1;33m\u001b[0m\u001b[0m\n\u001b[0m\u001b[0;32m      2\u001b[0m \u001b[0mmatrix\u001b[0m\u001b[1;33m.\u001b[0m\u001b[0mhead\u001b[0m\u001b[1;33m(\u001b[0m\u001b[1;36m10\u001b[0m\u001b[1;33m)\u001b[0m\u001b[1;33m\u001b[0m\u001b[1;33m\u001b[0m\u001b[0m\n",
      "\u001b[1;31mNameError\u001b[0m: name 'tfidf_matrix' is not defined"
     ]
    }
   ],
   "source": [
    "matrix = pd.DataFrame(tfidf_matrix.toarray(), columns=tfidf_vectorizer.get_feature_names(),index=corpora_test.keys())\n",
    "matrix.head(10)"
   ]
  },
  {
   "cell_type": "markdown",
   "metadata": {},
   "source": [
    "# 5 - Inspiration "
   ]
  },
  {
   "cell_type": "markdown",
   "metadata": {},
   "source": [
    "- https://www.kaggle.com/rochachan/part-1-for-beginners-bag-of-words\n",
    "- 'Bag_of_Words_tfidf_Simple_PreProcessing.ipynb' notebook by Prof. Löcher\n",
    "- https://towardsdatascience.com/a-complete-exploratory-data-analysis-and-visualization-for-text-data-29fb1b96fb6a\n",
    "- https://honingds.com/blog/natural-language-processing-with-python/\n",
    "- https://www.kaggle.com/ngyptr/python-nltk-sentiment-analysis\n",
    "- https://blog.xrds.acm.org/2017/10/introduction-n-grams-need/"
   ]
  }
 ],
 "metadata": {
  "kernelspec": {
   "display_name": "Python 3",
   "language": "python",
   "name": "python3"
  },
  "language_info": {
   "codemirror_mode": {
    "name": "ipython",
    "version": 3
   },
   "file_extension": ".py",
   "mimetype": "text/x-python",
   "name": "python",
   "nbconvert_exporter": "python",
   "pygments_lexer": "ipython3",
   "version": "3.7.3"
  }
 },
 "nbformat": 4,
 "nbformat_minor": 2
}
