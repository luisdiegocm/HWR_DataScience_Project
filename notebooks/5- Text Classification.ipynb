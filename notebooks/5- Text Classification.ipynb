{
 "cells": [
  {
   "cell_type": "markdown",
   "metadata": {},
   "source": [
    "# Text Classification"
   ]
  },
  {
   "cell_type": "markdown",
   "metadata": {},
   "source": [
    "## 1 - Library Imports"
   ]
  },
  {
   "cell_type": "code",
   "execution_count": 1,
   "metadata": {},
   "outputs": [
    {
     "name": "stderr",
     "output_type": "stream",
     "text": [
      "Using TensorFlow backend.\n"
     ]
    }
   ],
   "source": [
    "%reset -f\n",
    "\n",
    "# Import Os to get to the root directory\n",
    "import os\n",
    "import sys\n",
    "\n",
    "# Root directory of the project\n",
    "ROOT_DIR = os.path.abspath(\"../\")\n",
    "sys.path.append(ROOT_DIR)\n",
    "\n",
    "TEST_DIR = os.path.join(ROOT_DIR, \"test-white-papers\")\n",
    "MODEL_DIR = os.path.join(ROOT_DIR, \"model\")\n",
    "\n",
    "# Change Keras Environment to Theano, in case Tensorflow doesn't work\n",
    "#import os; os.environ['KERAS_BACKEND'] = 'theano'\n",
    "\n",
    "# Import own functions\n",
    "from libraries import corpus\n",
    "from libraries import pdf2text\n",
    "\n",
    "##########################\n",
    "# Import other libraries\n",
    "##########################\n",
    "\n",
    "# Data Processing and visualization\n",
    "import numpy as np\n",
    "import pandas as pd\n",
    "import matplotlib.pyplot as plt\n",
    "\n",
    "# Text Analysis\n",
    "import nltk \n",
    "\n",
    "# Machine Learning Libraries\n",
    "from sklearn import model_selection, preprocessing, linear_model, naive_bayes, metrics, svm\n",
    "from sklearn.model_selection import train_test_split\n",
    "from sklearn.feature_extraction.text import CountVectorizer, TfidfVectorizer, TfidfTransformer\n",
    "\n",
    "from sklearn.metrics import accuracy_score, confusion_matrix, classification_report\n",
    "from sklearn.linear_model import SGDClassifier, LogisticRegression\n",
    "from sklearn.preprocessing import LabelEncoder, LabelBinarizer\n",
    "from sklearn.naive_bayes import MultinomialNB\n",
    "from sklearn.pipeline import Pipeline\n",
    "\n",
    "import itertools\n",
    "import io\n",
    "import json\n",
    "\n",
    "# Tensorflow Utilities\n",
    "import tensorflow as tf\n",
    "from tensorflow.python.keras.preprocessing.text import Tokenizer\n",
    "from tensorflow.python.keras.preprocessing.sequence import pad_sequences\n",
    "\n",
    "# Neural Network Libraries\n",
    "from tensorflow import keras\n",
    "from keras import utils\n",
    "from keras.models import Sequential, load_model\n",
    "from keras.layers import Dense, Activation, Dropout\n",
    "from keras.preprocessing import text, sequence\n",
    "\n",
    "import warnings\n",
    "warnings.filterwarnings(\"ignore\")"
   ]
  },
  {
   "cell_type": "code",
   "execution_count": 2,
   "metadata": {},
   "outputs": [
    {
     "data": {
      "text/plain": [
       "<module 'libraries.corpus' from '/Users/ldiego/Documents/GitHub/datascience_project/libraries/corpus.py'>"
      ]
     },
     "execution_count": 2,
     "metadata": {},
     "output_type": "execute_result"
    }
   ],
   "source": [
    "# To reload own libraries when a change is made\n",
    "from importlib import reload\n",
    "reload(corpus)"
   ]
  },
  {
   "cell_type": "markdown",
   "metadata": {},
   "source": [
    "## 2 - Data Preprocessing"
   ]
  },
  {
   "cell_type": "code",
   "execution_count": 3,
   "metadata": {},
   "outputs": [],
   "source": [
    "# Retrieving the PDF files from white-paper folder and converting them to text\n",
    "dataset = pdf2text.get_dataset()"
   ]
  },
  {
   "cell_type": "code",
   "execution_count": 4,
   "metadata": {},
   "outputs": [
    {
     "data": {
      "text/plain": [
       "dict_keys(['utrust', 'ark', 'bitcoin', 'icon', 'basicattentiontoken', 'dash', 'bytecoin', 'horizen', 'abbccoin', 'komodo', 'hyperion', 'tezos', 'nexo', 'dai', 'tron', 'fantom', 'digixdao', 'cryptonex', 'maker', 'bytom', 'metal', 'dogecoin', 'pundix', 'japancontenttoken', 'cosmos', 'latoken', 'nem', 'maidsafecoin', 'decentraland', 'mixin', 'stellar', 'elastos', 'gxchain', 'nebulas', 'solve', 'eos', 'theta', 'stratis', 'tether', 'iexecrlc', 'orbs', 'dent', 'ethereum', 'vechain', 'hypercash', 'bitcoingold', 'status', 'ravencoin', 'thetafuel', 'zilliqa', 'celernetwork', 'omisego', 'singularitynet', 'usdcoin', 'holo', 'synthetixnetworktoken', 'bitshares', '0x', 'nkn', 'riftoken', 'waves', '#metahash', 'powerledger', 'siacoin', 'wanchain', 'enjincoin', 'loopring', 'factom', 'crypto', 'ontology', 'particl', 'metaverseetp', 'zcash', 'aion', 'skycoin', 'iota', 'binancecoin', 'chainlink', 'wax', 'bhpcoin', 'bittorrent', 'paxosstandardtoken', 'thundertoken', 'inocoin', 'apollocurrency', 'cosmocoin', 'tenx', 'nano', 'truechain', 'ardor', 'xrp', 'ethereumclassic', 'gnosis', 'waltonchain', 'monero', 'golem', 'steem', 'lina', 'obyte'])"
      ]
     },
     "execution_count": 4,
     "metadata": {},
     "output_type": "execute_result"
    }
   ],
   "source": [
    "# Print all the white papers' names\n",
    "dataset.keys()"
   ]
  },
  {
   "cell_type": "code",
   "execution_count": 5,
   "metadata": {},
   "outputs": [
    {
     "data": {
      "text/plain": [
       "99"
      ]
     },
     "execution_count": 5,
     "metadata": {},
     "output_type": "execute_result"
    }
   ],
   "source": [
    "# Print the size of the Train dataset\n",
    "len(dataset.keys())"
   ]
  },
  {
   "cell_type": "code",
   "execution_count": 6,
   "metadata": {},
   "outputs": [
    {
     "name": "stderr",
     "output_type": "stream",
     "text": [
      "[nltk_data] Downloading package punkt to /Users/ldiego/nltk_data...\n",
      "[nltk_data]   Package punkt is already up-to-date!\n",
      "[nltk_data] Downloading package stopwords to\n",
      "[nltk_data]     /Users/ldiego/nltk_data...\n",
      "[nltk_data]   Package stopwords is already up-to-date!\n",
      "[nltk_data] Downloading package averaged_perceptron_tagger to\n",
      "[nltk_data]     /Users/ldiego/nltk_data...\n",
      "[nltk_data]   Package averaged_perceptron_tagger is already up-to-\n",
      "[nltk_data]       date!\n",
      "[nltk_data] Downloading package wordnet to /Users/ldiego/nltk_data...\n",
      "[nltk_data]   Package wordnet is already up-to-date!\n",
      "[nltk_data] Error loading en_core_web_md: Package 'en_core_web_md' not\n",
      "[nltk_data]     found in index\n"
     ]
    },
    {
     "name": "stdout",
     "output_type": "stream",
     "text": [
      "Cleaning: utrust\n",
      "Cleaning: ark\n",
      "Cleaning: bitcoin\n",
      "Cleaning: icon\n",
      "Cleaning: basicattentiontoken\n",
      "Cleaning: dash\n",
      "Cleaning: bytecoin\n",
      "Cleaning: horizen\n",
      "Cleaning: abbccoin\n",
      "Cleaning: komodo\n",
      "Cleaning: hyperion\n",
      "Cleaning: tezos\n",
      "Cleaning: nexo\n",
      "Cleaning: dai\n",
      "Cleaning: tron\n",
      "Cleaning: fantom\n",
      "Cleaning: digixdao\n",
      "Cleaning: cryptonex\n",
      "Cleaning: maker\n",
      "Cleaning: bytom\n",
      "Cleaning: metal\n",
      "Cleaning: dogecoin\n",
      "Cleaning: pundix\n",
      "Cleaning: japancontenttoken\n",
      "Cleaning: cosmos\n",
      "Cleaning: latoken\n",
      "Cleaning: nem\n",
      "Cleaning: maidsafecoin\n",
      "Cleaning: decentraland\n",
      "Cleaning: mixin\n",
      "Cleaning: stellar\n",
      "Cleaning: elastos\n",
      "Cleaning: gxchain\n",
      "Cleaning: nebulas\n",
      "Cleaning: solve\n",
      "Cleaning: eos\n",
      "Cleaning: theta\n",
      "Cleaning: stratis\n",
      "Cleaning: tether\n",
      "Cleaning: iexecrlc\n",
      "Cleaning: orbs\n",
      "Cleaning: dent\n",
      "Cleaning: ethereum\n",
      "Cleaning: vechain\n",
      "Cleaning: hypercash\n",
      "Cleaning: bitcoingold\n",
      "Cleaning: status\n",
      "Cleaning: ravencoin\n",
      "Cleaning: thetafuel\n",
      "Cleaning: zilliqa\n",
      "Cleaning: celernetwork\n",
      "Cleaning: omisego\n",
      "Cleaning: singularitynet\n",
      "Cleaning: usdcoin\n",
      "Cleaning: holo\n",
      "Cleaning: synthetixnetworktoken\n",
      "Cleaning: bitshares\n",
      "Cleaning: 0x\n",
      "Cleaning: nkn\n",
      "Cleaning: riftoken\n",
      "Cleaning: waves\n",
      "Cleaning: #metahash\n",
      "Cleaning: powerledger\n",
      "Cleaning: siacoin\n",
      "Cleaning: wanchain\n",
      "Cleaning: enjincoin\n",
      "Cleaning: loopring\n",
      "Cleaning: factom\n",
      "Cleaning: crypto\n",
      "Cleaning: ontology\n",
      "Cleaning: particl\n",
      "Cleaning: metaverseetp\n",
      "Cleaning: zcash\n",
      "Cleaning: aion\n",
      "Cleaning: skycoin\n",
      "Cleaning: iota\n",
      "Cleaning: binancecoin\n",
      "Cleaning: chainlink\n",
      "Cleaning: wax\n",
      "Cleaning: bhpcoin\n",
      "Cleaning: bittorrent\n",
      "Cleaning: paxosstandardtoken\n",
      "Cleaning: thundertoken\n",
      "Cleaning: inocoin\n",
      "Cleaning: apollocurrency\n",
      "Cleaning: cosmocoin\n",
      "Cleaning: tenx\n",
      "Cleaning: nano\n",
      "Cleaning: truechain\n",
      "Cleaning: ardor\n",
      "Cleaning: xrp\n",
      "Cleaning: ethereumclassic\n",
      "Cleaning: gnosis\n",
      "Cleaning: waltonchain\n",
      "Cleaning: monero\n",
      "Cleaning: golem\n",
      "Cleaning: steem\n",
      "Cleaning: lina\n",
      "Cleaning: obyte\n",
      "Done!\n"
     ]
    }
   ],
   "source": [
    "# Define if you want your corpus to be whole or divided in sentences\n",
    "makeSentences = True\n",
    "# Creates a dictionary with each White Paper and its text pre-processed\n",
    "corpora_sent = corpus.makeCleanCorpus(dataset, lemmatize=True, removePunct=True, removeNums=True\n",
    "                                 ,makeSentences=makeSentences, removeURL=True, removeChar=True, removeEnt=True)"
   ]
  },
  {
   "cell_type": "code",
   "execution_count": 7,
   "metadata": {},
   "outputs": [
    {
     "name": "stderr",
     "output_type": "stream",
     "text": [
      "[nltk_data] Downloading package punkt to /Users/ldiego/nltk_data...\n",
      "[nltk_data]   Package punkt is already up-to-date!\n",
      "[nltk_data] Downloading package stopwords to\n",
      "[nltk_data]     /Users/ldiego/nltk_data...\n",
      "[nltk_data]   Package stopwords is already up-to-date!\n",
      "[nltk_data] Downloading package averaged_perceptron_tagger to\n",
      "[nltk_data]     /Users/ldiego/nltk_data...\n",
      "[nltk_data]   Package averaged_perceptron_tagger is already up-to-\n",
      "[nltk_data]       date!\n",
      "[nltk_data] Downloading package wordnet to /Users/ldiego/nltk_data...\n",
      "[nltk_data]   Package wordnet is already up-to-date!\n",
      "[nltk_data] Error loading en_core_web_md: Package 'en_core_web_md' not\n",
      "[nltk_data]     found in index\n"
     ]
    },
    {
     "name": "stdout",
     "output_type": "stream",
     "text": [
      "Cleaning: utrust\n",
      "Cleaning: ark\n",
      "Cleaning: bitcoin\n",
      "Cleaning: icon\n",
      "Cleaning: basicattentiontoken\n",
      "Cleaning: dash\n",
      "Cleaning: bytecoin\n",
      "Cleaning: horizen\n",
      "Cleaning: abbccoin\n",
      "Cleaning: komodo\n",
      "Cleaning: hyperion\n",
      "Cleaning: tezos\n",
      "Cleaning: nexo\n",
      "Cleaning: dai\n",
      "Cleaning: tron\n",
      "Cleaning: fantom\n",
      "Cleaning: digixdao\n",
      "Cleaning: cryptonex\n",
      "Cleaning: maker\n",
      "Cleaning: bytom\n",
      "Cleaning: metal\n",
      "Cleaning: dogecoin\n",
      "Cleaning: pundix\n",
      "Cleaning: japancontenttoken\n",
      "Cleaning: cosmos\n",
      "Cleaning: latoken\n",
      "Cleaning: nem\n",
      "Cleaning: maidsafecoin\n",
      "Cleaning: decentraland\n",
      "Cleaning: mixin\n",
      "Cleaning: stellar\n",
      "Cleaning: elastos\n",
      "Cleaning: gxchain\n",
      "Cleaning: nebulas\n",
      "Cleaning: solve\n",
      "Cleaning: eos\n",
      "Cleaning: theta\n",
      "Cleaning: stratis\n",
      "Cleaning: tether\n",
      "Cleaning: iexecrlc\n",
      "Cleaning: orbs\n",
      "Cleaning: dent\n",
      "Cleaning: ethereum\n",
      "Cleaning: vechain\n",
      "Cleaning: hypercash\n",
      "Cleaning: bitcoingold\n",
      "Cleaning: status\n",
      "Cleaning: ravencoin\n",
      "Cleaning: thetafuel\n",
      "Cleaning: zilliqa\n",
      "Cleaning: celernetwork\n",
      "Cleaning: omisego\n",
      "Cleaning: singularitynet\n",
      "Cleaning: usdcoin\n",
      "Cleaning: holo\n",
      "Cleaning: synthetixnetworktoken\n",
      "Cleaning: bitshares\n",
      "Cleaning: 0x\n",
      "Cleaning: nkn\n",
      "Cleaning: riftoken\n",
      "Cleaning: waves\n",
      "Cleaning: #metahash\n",
      "Cleaning: powerledger\n",
      "Cleaning: siacoin\n",
      "Cleaning: wanchain\n",
      "Cleaning: enjincoin\n",
      "Cleaning: loopring\n",
      "Cleaning: factom\n",
      "Cleaning: crypto\n",
      "Cleaning: ontology\n",
      "Cleaning: particl\n",
      "Cleaning: metaverseetp\n",
      "Cleaning: zcash\n",
      "Cleaning: aion\n",
      "Cleaning: skycoin\n",
      "Cleaning: iota\n",
      "Cleaning: binancecoin\n",
      "Cleaning: chainlink\n",
      "Cleaning: wax\n",
      "Cleaning: bhpcoin\n",
      "Cleaning: bittorrent\n",
      "Cleaning: paxosstandardtoken\n",
      "Cleaning: thundertoken\n",
      "Cleaning: inocoin\n",
      "Cleaning: apollocurrency\n",
      "Cleaning: cosmocoin\n",
      "Cleaning: tenx\n",
      "Cleaning: nano\n",
      "Cleaning: truechain\n",
      "Cleaning: ardor\n",
      "Cleaning: xrp\n",
      "Cleaning: ethereumclassic\n",
      "Cleaning: gnosis\n",
      "Cleaning: waltonchain\n",
      "Cleaning: monero\n",
      "Cleaning: golem\n",
      "Cleaning: steem\n",
      "Cleaning: lina\n",
      "Cleaning: obyte\n",
      "Done!\n"
     ]
    }
   ],
   "source": [
    "# Define if you want your corpus to be whole or divided in sentences\n",
    "makeSentences = False\n",
    "# Creates a dictionary with each White Paper and its text pre-processed\n",
    "corpora_whole = corpus.makeCleanCorpus(dataset, lemmatize=True, removePunct=True, removeNums=True\n",
    "                                 ,makeSentences=makeSentences, removeURL=True, removeChar=True, removeEnt=True)"
   ]
  },
  {
   "cell_type": "markdown",
   "metadata": {},
   "source": [
    "## 3 - Methods Application"
   ]
  },
  {
   "cell_type": "markdown",
   "metadata": {},
   "source": [
    "### Text Classification with Blockchain Protocol\n",
    "\n",
    "Here, we will use the pdf's to try and see if we can predict how similar are the pdf's\n",
    "The dataset will be X = text or sentences (try both approaches), Y = respective protocol. What we are trying to find out, is if there are some hidden patterns on the text that can explain certain protocols.\n",
    "\n",
    "We will try to evaluate a % similarity of existing protocols, for new protocols, and the investors can then assess "
   ]
  },
  {
   "cell_type": "code",
   "execution_count": 8,
   "metadata": {},
   "outputs": [],
   "source": [
    "# Define a Data Frame to put all the corpora_sent into a Pandas dataframe\n",
    "df = pd.DataFrame(columns=[\"Text\",\"Protocol\"])\n"
   ]
  },
  {
   "cell_type": "code",
   "execution_count": 9,
   "metadata": {},
   "outputs": [],
   "source": [
    "# Iterate over each white paper, and on each sentence, and add it to the Dataframe\n",
    "i=0\n",
    "for k, v in enumerate(corpora_sent):\n",
    "    for sent in corpora_sent[v]:\n",
    "        df.loc[i, \"Text\"] = sent\n",
    "        df.loc[i, \"Protocol\"] = v\n",
    "        i += 1"
   ]
  },
  {
   "cell_type": "code",
   "execution_count": 10,
   "metadata": {},
   "outputs": [
    {
     "data": {
      "text/plain": [
       "(42692, 2)"
      ]
     },
     "execution_count": 10,
     "metadata": {},
     "output_type": "execute_result"
    }
   ],
   "source": [
    "# Size of the Training Dataset\n",
    "df.shape"
   ]
  },
  {
   "cell_type": "code",
   "execution_count": 11,
   "metadata": {},
   "outputs": [
    {
     "data": {
      "text/html": [
       "<div>\n",
       "<style scoped>\n",
       "    .dataframe tbody tr th:only-of-type {\n",
       "        vertical-align: middle;\n",
       "    }\n",
       "\n",
       "    .dataframe tbody tr th {\n",
       "        vertical-align: top;\n",
       "    }\n",
       "\n",
       "    .dataframe thead th {\n",
       "        text-align: right;\n",
       "    }\n",
       "</style>\n",
       "<table border=\"1\" class=\"dataframe\">\n",
       "  <thead>\n",
       "    <tr style=\"text-align: right;\">\n",
       "      <th></th>\n",
       "      <th>Text</th>\n",
       "      <th>Protocol</th>\n",
       "    </tr>\n",
       "  </thead>\n",
       "  <tbody>\n",
       "    <tr>\n",
       "      <th>0</th>\n",
       "      <td>future online payment utrustio version        ...</td>\n",
       "      <td>utrust</td>\n",
       "    </tr>\n",
       "    <tr>\n",
       "      <th>1</th>\n",
       "      <td>executive summary                             ...</td>\n",
       "      <td>utrust</td>\n",
       "    </tr>\n",
       "    <tr>\n",
       "      <th>2</th>\n",
       "      <td>solution                                      ...</td>\n",
       "      <td>utrust</td>\n",
       "    </tr>\n",
       "    <tr>\n",
       "      <th>3</th>\n",
       "      <td>token                                    strat...</td>\n",
       "      <td>utrust</td>\n",
       "    </tr>\n",
       "    <tr>\n",
       "      <th>4</th>\n",
       "      <td>token implementation                          ...</td>\n",
       "      <td>utrust</td>\n",
       "    </tr>\n",
       "  </tbody>\n",
       "</table>\n",
       "</div>"
      ],
      "text/plain": [
       "                                                Text Protocol\n",
       "0  future online payment utrustio version        ...   utrust\n",
       "1  executive summary                             ...   utrust\n",
       "2  solution                                      ...   utrust\n",
       "3  token                                    strat...   utrust\n",
       "4  token implementation                          ...   utrust"
      ]
     },
     "execution_count": 11,
     "metadata": {},
     "output_type": "execute_result"
    }
   ],
   "source": [
    "df.head()"
   ]
  },
  {
   "cell_type": "code",
   "execution_count": 12,
   "metadata": {},
   "outputs": [],
   "source": [
    "# Define our X and y for the Model\n",
    "X = df.Text\n",
    "y = df.Protocol\n",
    "\n",
    "# Create a Test dataset to evaluate different models\n",
    "X_train, X_test, y_train, y_test = train_test_split(X, y, test_size=0.20, random_state = 100, stratify=y)"
   ]
  },
  {
   "cell_type": "code",
   "execution_count": 13,
   "metadata": {},
   "outputs": [],
   "source": [
    "# Generate the Labels, with the name of each White Paper\n",
    "labels = list(corpora_sent.keys())"
   ]
  },
  {
   "cell_type": "code",
   "execution_count": 14,
   "metadata": {},
   "outputs": [
    {
     "data": {
      "text/plain": [
       "Pipeline(memory=None,\n",
       "     steps=[('vect', CountVectorizer(analyzer='word', binary=False, decode_error='strict',\n",
       "        dtype=<class 'numpy.int64'>, encoding='utf-8', input='content',\n",
       "        lowercase=True, max_df=1.0, max_features=None, min_df=1,\n",
       "        ngram_range=(1, 1), preprocessor=None, stop_words=None,\n",
       "        strip...inear_tf=False, use_idf=True)), ('clf', MultinomialNB(alpha=1.0, class_prior=None, fit_prior=True))])"
      ]
     },
     "execution_count": 14,
     "metadata": {},
     "output_type": "execute_result"
    }
   ],
   "source": [
    "# First, we will try a simple Multinomial Naive Bayes classifier\n",
    "\n",
    "# For all our classification methods, we will use a Pipeline that includes a Count Vectorizer (Bag of Words) and TFIDF\n",
    "# to transform our Text data into numerical values\n",
    "nb = Pipeline([('vect', CountVectorizer()),\n",
    "               ('tfidf', TfidfTransformer()),\n",
    "               ('clf', MultinomialNB()),\n",
    "              ])\n",
    "nb.fit(X_train, y_train)"
   ]
  },
  {
   "cell_type": "code",
   "execution_count": 15,
   "metadata": {},
   "outputs": [
    {
     "name": "stdout",
     "output_type": "stream",
     "text": [
      "accuracy 0.3041339735332006\n",
      "                       precision    recall  f1-score   support\n",
      "\n",
      "               utrust       0.96      0.23      0.37       105\n",
      "                  ark       0.00      0.00      0.00        51\n",
      "              bitcoin       0.00      0.00      0.00        50\n",
      "                 icon       1.00      0.18      0.31        99\n",
      "  basicattentiontoken       0.00      0.00      0.00        31\n",
      "                 dash       0.83      0.32      0.47        93\n",
      "             bytecoin       0.78      0.28      0.41       154\n",
      "              horizen       0.85      0.32      0.47       124\n",
      "             abbccoin       0.00      0.00      0.00        40\n",
      "               komodo       0.00      0.00      0.00        35\n",
      "             hyperion       0.00      0.00      0.00        29\n",
      "                tezos       0.00      0.00      0.00        25\n",
      "                 nexo       0.00      0.00      0.00        16\n",
      "                  dai       1.00      0.02      0.03        61\n",
      "                 tron       0.00      0.00      0.00        80\n",
      "               fantom       0.00      0.00      0.00        38\n",
      "             digixdao       0.60      0.57      0.58       187\n",
      "            cryptonex       0.86      0.43      0.57       147\n",
      "                maker       1.00      0.07      0.13        74\n",
      "                bytom       1.00      0.10      0.19        97\n",
      "                metal       1.00      0.03      0.05        38\n",
      "             dogecoin       0.00      0.00      0.00        52\n",
      "               pundix       1.00      0.07      0.13        43\n",
      "    japancontenttoken       0.00      0.00      0.00        36\n",
      "               cosmos       1.00      0.03      0.05        40\n",
      "              latoken       1.00      0.22      0.36        55\n",
      "                  nem       0.00      0.00      0.00        22\n",
      "         maidsafecoin       0.00      0.00      0.00         7\n",
      "         decentraland       0.00      0.00      0.00        61\n",
      "                mixin       0.88      0.10      0.18        68\n",
      "              stellar       1.00      0.08      0.16        71\n",
      "              elastos       1.00      0.06      0.10       109\n",
      "              gxchain       0.97      0.33      0.50        87\n",
      "              nebulas       0.83      0.19      0.31       132\n",
      "                solve       0.64      0.74      0.69       225\n",
      "                  eos       0.57      0.04      0.08        92\n",
      "                theta       1.00      0.04      0.08        69\n",
      "              stratis       1.00      0.08      0.15        97\n",
      "               tether       1.00      0.04      0.08        77\n",
      "             iexecrlc       0.00      0.00      0.00        82\n",
      "                 orbs       0.00      0.00      0.00        45\n",
      "                 dent       0.41      0.32      0.36       128\n",
      "             ethereum       1.00      0.07      0.13        89\n",
      "              vechain       0.88      0.13      0.22       110\n",
      "            hypercash       0.00      0.00      0.00        22\n",
      "          bitcoingold       0.90      0.30      0.45        94\n",
      "               status       1.00      0.04      0.07        53\n",
      "            ravencoin       0.16      0.88      0.27       349\n",
      "            thetafuel       0.00      0.00      0.00         1\n",
      "              zilliqa       0.96      0.24      0.39       107\n",
      "         celernetwork       0.86      0.19      0.32        98\n",
      "              omisego       1.00      0.05      0.09        65\n",
      "       singularitynet       0.50      0.05      0.09        43\n",
      "              usdcoin       0.00      0.00      0.00        32\n",
      "                 holo       0.64      0.19      0.29       146\n",
      "synthetixnetworktoken       1.00      0.06      0.11        52\n",
      "            bitshares       0.00      0.00      0.00        80\n",
      "                   0x       0.00      0.00      0.00        58\n",
      "                  nkn       0.00      0.00      0.00        39\n",
      "             riftoken       0.84      0.30      0.44       127\n",
      "                waves       0.00      0.00      0.00         4\n",
      "            #metahash       1.00      0.04      0.08       102\n",
      "          powerledger       0.76      0.58      0.66       173\n",
      "              siacoin       1.00      0.03      0.07        59\n",
      "             wanchain       0.00      0.00      0.00        44\n",
      "            enjincoin       0.12      0.75      0.21       263\n",
      "             loopring       0.00      0.00      0.00        32\n",
      "               factom       0.00      0.00      0.00        27\n",
      "               crypto       0.80      0.06      0.11        68\n",
      "             ontology       0.60      0.04      0.08        69\n",
      "              particl       0.00      0.00      0.00        36\n",
      "         metaverseetp       0.00      0.00      0.00        54\n",
      "                zcash       1.00      0.02      0.05        42\n",
      "                 aion       0.35      0.77      0.48       258\n",
      "              skycoin       0.00      0.00      0.00        73\n",
      "                 iota       0.00      0.00      0.00        23\n",
      "          binancecoin       1.00      0.02      0.04        55\n",
      "            chainlink       0.65      0.15      0.24       117\n",
      "                  wax       0.76      0.49      0.59       177\n",
      "              bhpcoin       0.00      0.00      0.00        53\n",
      "           bittorrent       0.92      0.29      0.44        77\n",
      "   paxosstandardtoken       1.00      0.14      0.25        57\n",
      "         thundertoken       1.00      0.06      0.12        47\n",
      "              inocoin       1.00      0.02      0.03        66\n",
      "       apollocurrency       0.06      0.03      0.04       132\n",
      "            cosmocoin       0.16      0.09      0.11       132\n",
      "                 tenx       1.00      0.04      0.08        47\n",
      "                 nano       1.00      0.04      0.09        90\n",
      "            truechain       0.00      0.00      0.00        18\n",
      "                ardor       1.00      0.02      0.03        66\n",
      "                  xrp       0.00      0.00      0.00        58\n",
      "      ethereumclassic       0.53      0.38      0.44       157\n",
      "               gnosis       0.79      0.21      0.33       107\n",
      "          waltonchain       0.92      0.13      0.23        83\n",
      "               monero       0.00      0.00      0.00        24\n",
      "                golem       0.70      0.09      0.16        75\n",
      "                steem       0.00      0.00      0.00        37\n",
      "                 lina       0.26      0.99      0.41       679\n",
      "                obyte       0.92      0.20      0.33       121\n",
      "\n",
      "            micro avg       0.30      0.30      0.30      8539\n",
      "            macro avg       0.52      0.13      0.15      8539\n",
      "         weighted avg       0.57      0.30      0.26      8539\n",
      "\n"
     ]
    }
   ],
   "source": [
    "# Test the Accuracy\n",
    "y_pred = nb.predict(X_test)\n",
    "\n",
    "print('accuracy %s' % accuracy_score(y_pred, y_test))\n",
    "print(classification_report(y_test, y_pred,target_names=labels))"
   ]
  },
  {
   "cell_type": "code",
   "execution_count": 16,
   "metadata": {},
   "outputs": [
    {
     "data": {
      "text/plain": [
       "Pipeline(memory=None,\n",
       "     steps=[('vect', CountVectorizer(analyzer='word', binary=False, decode_error='strict',\n",
       "        dtype=<class 'numpy.int64'>, encoding='utf-8', input='content',\n",
       "        lowercase=True, max_df=1.0, max_features=None, min_df=1,\n",
       "        ngram_range=(1, 1), preprocessor=None, stop_words=None,\n",
       "        strip...dom_state=42, shuffle=True, tol=None,\n",
       "       validation_fraction=0.1, verbose=0, warm_start=False))])"
      ]
     },
     "execution_count": 16,
     "metadata": {},
     "output_type": "execute_result"
    }
   ],
   "source": [
    "# Also, we will evaluate a Stocastic Gradient Descent Classifier\n",
    "sgd = Pipeline([('vect', CountVectorizer()),\n",
    "                ('tfidf', TfidfTransformer()),\n",
    "                ('clf', SGDClassifier(loss='hinge', penalty='l2',alpha=1e-3, random_state=42, max_iter=5, tol=None)),\n",
    "               ])\n",
    "sgd.fit(X_train, y_train)"
   ]
  },
  {
   "cell_type": "code",
   "execution_count": 17,
   "metadata": {},
   "outputs": [
    {
     "name": "stdout",
     "output_type": "stream",
     "text": [
      "accuracy 0.5205527579341843\n",
      "                       precision    recall  f1-score   support\n",
      "\n",
      "               utrust       0.54      0.58      0.56       105\n",
      "                  ark       0.54      0.29      0.38        51\n",
      "              bitcoin       0.43      0.20      0.27        50\n",
      "                 icon       0.53      0.64      0.58        99\n",
      "  basicattentiontoken       0.62      0.32      0.43        31\n",
      "                 dash       0.53      0.56      0.54        93\n",
      "             bytecoin       0.50      0.45      0.47       154\n",
      "              horizen       0.55      0.60      0.58       124\n",
      "             abbccoin       0.59      0.33      0.42        40\n",
      "               komodo       0.35      0.17      0.23        35\n",
      "             hyperion       0.43      0.31      0.36        29\n",
      "                tezos       0.60      0.24      0.34        25\n",
      "                 nexo       0.75      0.19      0.30        16\n",
      "                  dai       0.59      0.59      0.59        61\n",
      "                 tron       0.07      0.05      0.06        80\n",
      "               fantom       0.63      0.32      0.42        38\n",
      "             digixdao       0.59      0.66      0.62       187\n",
      "            cryptonex       0.57      0.65      0.60       147\n",
      "                maker       0.54      0.51      0.53        74\n",
      "                bytom       0.54      0.42      0.47        97\n",
      "                metal       0.54      0.53      0.53        38\n",
      "             dogecoin       0.61      0.54      0.57        52\n",
      "               pundix       0.50      0.65      0.57        43\n",
      "    japancontenttoken       0.68      0.36      0.47        36\n",
      "               cosmos       0.55      0.28      0.37        40\n",
      "              latoken       0.64      0.71      0.67        55\n",
      "                  nem       0.71      0.23      0.34        22\n",
      "         maidsafecoin       0.75      0.43      0.55         7\n",
      "         decentraland       0.60      0.48      0.53        61\n",
      "                mixin       0.69      0.46      0.55        68\n",
      "              stellar       0.49      0.63      0.55        71\n",
      "              elastos       0.44      0.37      0.40       109\n",
      "              gxchain       0.50      0.61      0.55        87\n",
      "              nebulas       0.56      0.49      0.52       132\n",
      "                solve       0.52      0.76      0.62       225\n",
      "                  eos       0.34      0.32      0.33        92\n",
      "                theta       0.58      0.48      0.52        69\n",
      "              stratis       0.48      0.37      0.42        97\n",
      "               tether       0.50      0.38      0.43        77\n",
      "             iexecrlc       0.49      0.34      0.40        82\n",
      "                 orbs       0.38      0.13      0.20        45\n",
      "                 dent       0.41      0.47      0.44       128\n",
      "             ethereum       0.63      0.48      0.55        89\n",
      "              vechain       0.43      0.55      0.48       110\n",
      "            hypercash       0.38      0.14      0.20        22\n",
      "          bitcoingold       0.58      0.64      0.61        94\n",
      "               status       0.55      0.51      0.53        53\n",
      "            ravencoin       0.58      0.77      0.66       349\n",
      "            thetafuel       0.00      0.00      0.00         1\n",
      "              zilliqa       0.61      0.59      0.60       107\n",
      "         celernetwork       0.56      0.43      0.49        98\n",
      "              omisego       0.56      0.43      0.49        65\n",
      "       singularitynet       0.46      0.49      0.47        43\n",
      "              usdcoin       0.38      0.16      0.22        32\n",
      "                 holo       0.34      0.31      0.32       146\n",
      "synthetixnetworktoken       0.47      0.38      0.42        52\n",
      "            bitshares       0.02      0.01      0.01        80\n",
      "                   0x       0.51      0.41      0.46        58\n",
      "                  nkn       0.45      0.33      0.38        39\n",
      "             riftoken       0.63      0.61      0.62       127\n",
      "                waves       1.00      0.25      0.40         4\n",
      "            #metahash       0.55      0.40      0.47       102\n",
      "          powerledger       0.58      0.70      0.63       173\n",
      "              siacoin       0.53      0.49      0.51        59\n",
      "             wanchain       0.59      0.45      0.51        44\n",
      "            enjincoin       0.55      0.45      0.50       263\n",
      "             loopring       0.80      0.25      0.38        32\n",
      "               factom       0.60      0.33      0.43        27\n",
      "               crypto       0.58      0.50      0.54        68\n",
      "             ontology       0.55      0.39      0.46        69\n",
      "              particl       0.67      0.44      0.53        36\n",
      "         metaverseetp       0.52      0.41      0.46        54\n",
      "                zcash       0.65      0.52      0.58        42\n",
      "                 aion       0.58      0.73      0.65       258\n",
      "              skycoin       0.32      0.18      0.23        73\n",
      "                 iota       0.53      0.43      0.48        23\n",
      "          binancecoin       0.60      0.53      0.56        55\n",
      "            chainlink       0.44      0.47      0.46       117\n",
      "                  wax       0.52      0.68      0.59       177\n",
      "              bhpcoin       0.54      0.36      0.43        53\n",
      "           bittorrent       0.68      0.65      0.66        77\n",
      "   paxosstandardtoken       0.65      0.46      0.54        57\n",
      "         thundertoken       0.59      0.55      0.57        47\n",
      "              inocoin       0.59      0.29      0.39        66\n",
      "       apollocurrency       0.06      0.05      0.05       132\n",
      "            cosmocoin       0.10      0.09      0.09       132\n",
      "                 tenx       0.53      0.60      0.56        47\n",
      "                 nano       0.44      0.28      0.34        90\n",
      "            truechain       0.78      0.39      0.52        18\n",
      "                ardor       0.74      0.48      0.59        66\n",
      "                  xrp       0.43      0.34      0.38        58\n",
      "      ethereumclassic       0.52      0.48      0.50       157\n",
      "               gnosis       0.58      0.57      0.57       107\n",
      "          waltonchain       0.62      0.58      0.60        83\n",
      "               monero       0.67      0.42      0.51        24\n",
      "                golem       0.56      0.51      0.53        75\n",
      "                steem       0.48      0.65      0.55        37\n",
      "                 lina       0.54      0.93      0.69       679\n",
      "                obyte       0.50      0.49      0.49       121\n",
      "\n",
      "            micro avg       0.52      0.52      0.52      8539\n",
      "            macro avg       0.53      0.44      0.46      8539\n",
      "         weighted avg       0.52      0.52      0.50      8539\n",
      "\n"
     ]
    }
   ],
   "source": [
    "y_pred = sgd.predict(X_test)\n",
    "\n",
    "print('accuracy %s' % accuracy_score(y_pred, y_test))\n",
    "print(classification_report(y_test, y_pred,target_names=labels))"
   ]
  },
  {
   "cell_type": "code",
   "execution_count": 18,
   "metadata": {},
   "outputs": [
    {
     "data": {
      "text/plain": [
       "Pipeline(memory=None,\n",
       "     steps=[('vect', CountVectorizer(analyzer='word', binary=False, decode_error='strict',\n",
       "        dtype=<class 'numpy.int64'>, encoding='utf-8', input='content',\n",
       "        lowercase=True, max_df=1.0, max_features=None, min_df=1,\n",
       "        ngram_range=(1, 1), preprocessor=None, stop_words=None,\n",
       "        strip...penalty='l2', random_state=None,\n",
       "          solver='warn', tol=0.0001, verbose=0, warm_start=False))])"
      ]
     },
     "execution_count": 18,
     "metadata": {},
     "output_type": "execute_result"
    }
   ],
   "source": [
    "# We will also test a Logistic Regression classifier\n",
    "logreg = Pipeline([('vect', CountVectorizer()),\n",
    "                ('tfidf', TfidfTransformer()),\n",
    "                ('clf', LogisticRegression(n_jobs=1, C=1e5)),\n",
    "               ])\n",
    "logreg.fit(X_train, y_train)"
   ]
  },
  {
   "cell_type": "code",
   "execution_count": 19,
   "metadata": {},
   "outputs": [
    {
     "name": "stdout",
     "output_type": "stream",
     "text": [
      "accuracy 0.4499355896474997\n",
      "                       precision    recall  f1-score   support\n",
      "\n",
      "               utrust       0.46      0.43      0.45       105\n",
      "                  ark       0.43      0.37      0.40        51\n",
      "              bitcoin       0.26      0.18      0.21        50\n",
      "                 icon       0.46      0.48      0.47        99\n",
      "  basicattentiontoken       0.56      0.32      0.41        31\n",
      "                 dash       0.57      0.48      0.52        93\n",
      "             bytecoin       0.42      0.37      0.39       154\n",
      "              horizen       0.46      0.48      0.47       124\n",
      "             abbccoin       0.24      0.33      0.28        40\n",
      "               komodo       0.18      0.23      0.20        35\n",
      "             hyperion       0.35      0.24      0.29        29\n",
      "                tezos       0.26      0.20      0.23        25\n",
      "                 nexo       0.60      0.19      0.29        16\n",
      "                  dai       0.51      0.52      0.52        61\n",
      "                 tron       0.06      0.07      0.07        80\n",
      "               fantom       0.54      0.37      0.44        38\n",
      "             digixdao       0.55      0.53      0.54       187\n",
      "            cryptonex       0.62      0.58      0.60       147\n",
      "                maker       0.49      0.39      0.44        74\n",
      "                bytom       0.47      0.38      0.42        97\n",
      "                metal       0.47      0.39      0.43        38\n",
      "             dogecoin       0.69      0.35      0.46        52\n",
      "               pundix       0.73      0.51      0.60        43\n",
      "    japancontenttoken       0.34      0.28      0.31        36\n",
      "               cosmos       0.47      0.23      0.31        40\n",
      "              latoken       0.76      0.58      0.66        55\n",
      "                  nem       0.25      0.18      0.21        22\n",
      "         maidsafecoin       0.50      0.29      0.36         7\n",
      "         decentraland       0.44      0.44      0.44        61\n",
      "                mixin       0.52      0.34      0.41        68\n",
      "              stellar       0.40      0.46      0.43        71\n",
      "              elastos       0.36      0.39      0.37       109\n",
      "              gxchain       0.68      0.59      0.63        87\n",
      "              nebulas       0.38      0.43      0.40       132\n",
      "                solve       0.70      0.76      0.73       225\n",
      "                  eos       0.38      0.24      0.29        92\n",
      "                theta       0.58      0.43      0.50        69\n",
      "              stratis       0.38      0.36      0.37        97\n",
      "               tether       0.34      0.36      0.35        77\n",
      "             iexecrlc       0.29      0.27      0.28        82\n",
      "                 orbs       0.18      0.18      0.18        45\n",
      "                 dent       0.31      0.35      0.33       128\n",
      "             ethereum       0.25      0.47      0.32        89\n",
      "              vechain       0.52      0.40      0.45       110\n",
      "            hypercash       0.14      0.14      0.14        22\n",
      "          bitcoingold       0.63      0.53      0.58        94\n",
      "               status       0.67      0.38      0.48        53\n",
      "            ravencoin       0.54      0.60      0.57       349\n",
      "            thetafuel       0.00      0.00      0.00         1\n",
      "              zilliqa       0.40      0.50      0.45       107\n",
      "         celernetwork       0.36      0.37      0.36        98\n",
      "              omisego       0.51      0.35      0.42        65\n",
      "       singularitynet       0.61      0.44      0.51        43\n",
      "              usdcoin       0.30      0.34      0.32        32\n",
      "                 holo       0.24      0.25      0.25       146\n",
      "synthetixnetworktoken       0.31      0.38      0.34        52\n",
      "            bitshares       0.01      0.01      0.01        80\n",
      "                   0x       0.45      0.34      0.39        58\n",
      "                  nkn       0.50      0.33      0.40        39\n",
      "             riftoken       0.54      0.53      0.54       127\n",
      "                waves       0.50      0.25      0.33         4\n",
      "            #metahash       0.54      0.36      0.44       102\n",
      "          powerledger       0.56      0.57      0.57       173\n",
      "              siacoin       0.78      0.42      0.55        59\n",
      "             wanchain       0.63      0.39      0.48        44\n",
      "            enjincoin       0.38      0.42      0.40       263\n",
      "             loopring       0.79      0.59      0.68        32\n",
      "               factom       0.43      0.22      0.29        27\n",
      "               crypto       0.20      0.47      0.28        68\n",
      "             ontology       0.23      0.38      0.29        69\n",
      "              particl       0.59      0.47      0.52        36\n",
      "         metaverseetp       0.38      0.33      0.36        54\n",
      "                zcash       0.76      0.38      0.51        42\n",
      "                 aion       0.56      0.58      0.57       258\n",
      "              skycoin       0.25      0.21      0.22        73\n",
      "                 iota       0.58      0.30      0.40        23\n",
      "          binancecoin       0.52      0.51      0.51        55\n",
      "            chainlink       0.38      0.38      0.38       117\n",
      "                  wax       0.64      0.60      0.62       177\n",
      "              bhpcoin       0.40      0.36      0.38        53\n",
      "           bittorrent       0.66      0.56      0.61        77\n",
      "   paxosstandardtoken       0.47      0.39      0.42        57\n",
      "         thundertoken       0.79      0.47      0.59        47\n",
      "              inocoin       0.40      0.32      0.35        66\n",
      "       apollocurrency       0.05      0.06      0.05       132\n",
      "            cosmocoin       0.04      0.05      0.04       132\n",
      "                 tenx       0.67      0.62      0.64        47\n",
      "                 nano       0.26      0.33      0.29        90\n",
      "            truechain       0.29      0.22      0.25        18\n",
      "                ardor       0.50      0.45      0.48        66\n",
      "                  xrp       0.22      0.33      0.27        58\n",
      "      ethereumclassic       0.27      0.39      0.32       157\n",
      "               gnosis       0.26      0.43      0.32       107\n",
      "          waltonchain       0.45      0.45      0.45        83\n",
      "               monero       0.64      0.38      0.47        24\n",
      "                golem       0.53      0.45      0.49        75\n",
      "                steem       0.65      0.46      0.54        37\n",
      "                 lina       0.80      0.81      0.80       679\n",
      "                obyte       0.45      0.47      0.46       121\n",
      "\n",
      "            micro avg       0.45      0.45      0.45      8539\n",
      "            macro avg       0.45      0.38      0.40      8539\n",
      "         weighted avg       0.47      0.45      0.45      8539\n",
      "\n"
     ]
    }
   ],
   "source": [
    "y_pred = logreg.predict(X_test)\n",
    "\n",
    "print('accuracy %s' % accuracy_score(y_pred, y_test))\n",
    "print(classification_report(y_test, y_pred,target_names=labels))"
   ]
  },
  {
   "cell_type": "code",
   "execution_count": 20,
   "metadata": {},
   "outputs": [],
   "source": [
    "# Last, we will also try a Neural Network, to see which one behaves better\n",
    "\n",
    "# We define the max of words that our Tokenizer will have\n",
    "max_words = 15000\n",
    "tokenize = text.Tokenizer(num_words=max_words, char_level=False)"
   ]
  },
  {
   "cell_type": "code",
   "execution_count": 21,
   "metadata": {},
   "outputs": [],
   "source": [
    "# Fit the tokenizer with our Train dataset, and then transform it to generate our Numeric Matrix\n",
    "tokenize.fit_on_texts(X_train)\n",
    "X_train = tokenize.texts_to_matrix(X_train)\n",
    "X_test = tokenize.texts_to_matrix(X_test)"
   ]
  },
  {
   "cell_type": "code",
   "execution_count": 70,
   "metadata": {},
   "outputs": [],
   "source": [
    "# Save the Tokenizer to fit Test Data\n",
    "tokenizer_json = tokenize.to_json()\n",
    "with io.open('model_tokenizer_classification.json', 'w', encoding='utf-8') as f:\n",
    "    f.write(json.dumps(tokenizer_json, ensure_ascii=False))"
   ]
  },
  {
   "cell_type": "code",
   "execution_count": 22,
   "metadata": {},
   "outputs": [],
   "source": [
    "# For the Neural Network, we need our labels to be numerical as well\n",
    "encoder = LabelEncoder()\n",
    "encoder.fit(y_train)\n",
    "y_train = encoder.transform(y_train)\n",
    "y_test = encoder.transform(y_test)"
   ]
  },
  {
   "cell_type": "code",
   "execution_count": 23,
   "metadata": {},
   "outputs": [],
   "source": [
    "# We define the number of classes that the network would train on\n",
    "num_classes = np.max(y_train) + 1\n",
    "y_train = utils.to_categorical(y_train, num_classes)\n",
    "y_test = utils.to_categorical(y_test, num_classes)"
   ]
  },
  {
   "cell_type": "code",
   "execution_count": 24,
   "metadata": {},
   "outputs": [
    {
     "name": "stdout",
     "output_type": "stream",
     "text": [
      "x_train shape: (34153, 15000)\n",
      "x_test shape: (8539, 15000)\n",
      "y_train shape: (34153, 99)\n",
      "y_test shape: (8539, 99)\n"
     ]
    }
   ],
   "source": [
    "print('x_train shape:', X_train.shape)\n",
    "print('x_test shape:', X_test.shape)\n",
    "print('y_train shape:', y_train.shape)\n",
    "print('y_test shape:', y_test.shape)"
   ]
  },
  {
   "cell_type": "code",
   "execution_count": 25,
   "metadata": {},
   "outputs": [],
   "source": [
    "batch_size = 32\n",
    "epochs = 5"
   ]
  },
  {
   "cell_type": "code",
   "execution_count": 26,
   "metadata": {},
   "outputs": [
    {
     "name": "stdout",
     "output_type": "stream",
     "text": [
      "WARNING:tensorflow:From /Users/ldiego/.local/lib/python3.7/site-packages/tensorflow/python/framework/op_def_library.py:263: colocate_with (from tensorflow.python.framework.ops) is deprecated and will be removed in a future version.\n",
      "Instructions for updating:\n",
      "Colocations handled automatically by placer.\n"
     ]
    }
   ],
   "source": [
    "# Build the Neural Network Model\n",
    "model = Sequential()\n",
    "model.add(Dense(512, input_shape=(max_words,)))\n",
    "model.add(Activation('relu'))\n",
    "#model.add(Dropout(0.5))\n",
    "model.add(Dense(num_classes))\n",
    "model.add(Activation('softmax'))\n",
    "\n",
    "model.compile(loss='categorical_crossentropy',\n",
    "              optimizer='adam',\n",
    "              metrics=['accuracy'])\n",
    "\n",
    "#history = model.fit(X_train, y_train,\n",
    "#                batch_size=batch_size,\n",
    "#                epochs=epochs,\n",
    "#                validation_split=0.1)"
   ]
  },
  {
   "cell_type": "code",
   "execution_count": 27,
   "metadata": {},
   "outputs": [],
   "source": [
    "# Test the accuracy of the model\n",
    "#score = model.evaluate(X_test, y_test,\n",
    "#                       batch_size=batch_size, verbose=1)\n",
    "#print('Test accuracy:', score[1])"
   ]
  },
  {
   "cell_type": "markdown",
   "metadata": {},
   "source": [
    "At the end, for the four Models tested, the one that had better performance was the Neural Network, so it will be our reference model."
   ]
  },
  {
   "cell_type": "code",
   "execution_count": 28,
   "metadata": {},
   "outputs": [],
   "source": [
    "# Saving the weights\n",
    "#model.save(\"model_neuralnetwork_classification.h5\")"
   ]
  },
  {
   "cell_type": "markdown",
   "metadata": {},
   "source": [
    "### Text Classification with Investors Dimension\n",
    "\n",
    "This model will be a simple Logistic Regression model that extract, from a very small Train dataset, keywords for each of the Investors Dimensions. Then, for test data, we \"predict\" the Investor Dimension topic that it's mentioned on each sentence, and we can assess visually."
   ]
  },
  {
   "cell_type": "code",
   "execution_count": 29,
   "metadata": {},
   "outputs": [],
   "source": [
    "# First, we define the path where our Train dataset is located\n",
    "TRAIN_DIR = os.path.join(ROOT_DIR, \"dataset\")\n",
    "TRAIN_CSV = os.path.join(TRAIN_DIR, \"train.csv\")"
   ]
  },
  {
   "cell_type": "code",
   "execution_count": 30,
   "metadata": {},
   "outputs": [],
   "source": [
    "# Read the csv and load it on a DataFrame\n",
    "df = pd.read_csv(TRAIN_CSV, sep=';', encoding=\"utf-8-sig\")"
   ]
  },
  {
   "cell_type": "code",
   "execution_count": 31,
   "metadata": {},
   "outputs": [],
   "source": [
    "# Lower all the words\n",
    "df.Label = df.Label.apply(lambda x : x.lower())"
   ]
  },
  {
   "cell_type": "code",
   "execution_count": 32,
   "metadata": {},
   "outputs": [],
   "source": [
    "# Define the labels and also the Train dataset\n",
    "labels = df.groupby(by='Label').count().sort_values(by='Label').reset_index()['Label']\n",
    "\n",
    "X_train = df[\"Text\"]\n",
    "y_train = df[\"Label\"]"
   ]
  },
  {
   "cell_type": "code",
   "execution_count": 33,
   "metadata": {},
   "outputs": [],
   "source": [
    "# We need to add another category, in case there is no topic mentioned on the sentence\n",
    "X_train[len(X_train)+1] = \"\"\n",
    "y_train[len(y_train)+1] = \"none\""
   ]
  },
  {
   "cell_type": "code",
   "execution_count": 34,
   "metadata": {},
   "outputs": [
    {
     "data": {
      "text/plain": [
       "Pipeline(memory=None,\n",
       "     steps=[('vect', CountVectorizer(analyzer='word', binary=False, decode_error='strict',\n",
       "        dtype=<class 'numpy.int64'>, encoding='utf-8', input='content',\n",
       "        lowercase=True, max_df=1.0, max_features=None, min_df=1,\n",
       "        ngram_range=(1, 1), preprocessor=None, stop_words=None,\n",
       "        strip...penalty='l2', random_state=None,\n",
       "          solver='warn', tol=0.0001, verbose=0, warm_start=False))])"
      ]
     },
     "execution_count": 34,
     "metadata": {},
     "output_type": "execute_result"
    }
   ],
   "source": [
    "# We train a really simple Logistic Regression\n",
    "logreg = Pipeline([('vect', CountVectorizer()),\n",
    "                ('tfidf', TfidfTransformer()),\n",
    "                ('clf', LogisticRegression(n_jobs=1, C=1e5)),\n",
    "               ])\n",
    "logreg.fit(X_train, y_train)"
   ]
  },
  {
   "cell_type": "code",
   "execution_count": 35,
   "metadata": {
    "scrolled": true
   },
   "outputs": [
    {
     "data": {
      "text/plain": [
       "array(['legal'], dtype=object)"
      ]
     },
     "execution_count": 35,
     "metadata": {},
     "output_type": "execute_result"
    }
   ],
   "source": [
    "# Test roughly the functionality\n",
    "logreg.predict([\"I am risk.\"])"
   ]
  },
  {
   "cell_type": "markdown",
   "metadata": {},
   "source": [
    "## 4 - Outcome"
   ]
  },
  {
   "cell_type": "markdown",
   "metadata": {},
   "source": [
    "### Input"
   ]
  },
  {
   "cell_type": "code",
   "execution_count": 36,
   "metadata": {},
   "outputs": [],
   "source": [
    "test = pdf2text.get_dataset(path=TEST_DIR)"
   ]
  },
  {
   "cell_type": "code",
   "execution_count": 37,
   "metadata": {},
   "outputs": [
    {
     "name": "stderr",
     "output_type": "stream",
     "text": [
      "[nltk_data] Downloading package punkt to /Users/ldiego/nltk_data...\n",
      "[nltk_data]   Package punkt is already up-to-date!\n",
      "[nltk_data] Downloading package stopwords to\n",
      "[nltk_data]     /Users/ldiego/nltk_data...\n",
      "[nltk_data]   Package stopwords is already up-to-date!\n",
      "[nltk_data] Downloading package averaged_perceptron_tagger to\n",
      "[nltk_data]     /Users/ldiego/nltk_data...\n",
      "[nltk_data]   Package averaged_perceptron_tagger is already up-to-\n",
      "[nltk_data]       date!\n",
      "[nltk_data] Downloading package wordnet to /Users/ldiego/nltk_data...\n",
      "[nltk_data]   Package wordnet is already up-to-date!\n",
      "[nltk_data] Error loading en_core_web_md: Package 'en_core_web_md' not\n",
      "[nltk_data]     found in index\n"
     ]
    },
    {
     "name": "stdout",
     "output_type": "stream",
     "text": [
      "Cleaning: kwattcoin\n",
      "Cleaning: adcoin\n",
      "Cleaning: budbo\n",
      "Cleaning: oceanprotocol\n",
      "Done!\n"
     ]
    }
   ],
   "source": [
    "# Define if you want your corpus to be whole or divided in sentences\n",
    "makeSentences = True\n",
    "# Creates a dictionary with each White Paper and its text pre-processed\n",
    "corpora_test_sent = corpus.makeCleanCorpus(test, lemmatize=True, removePunct=True, removeNums=True\n",
    "                                 ,makeSentences=makeSentences, removeURL=True, removeChar=True, removeEnt=True)"
   ]
  },
  {
   "cell_type": "code",
   "execution_count": 38,
   "metadata": {},
   "outputs": [
    {
     "name": "stderr",
     "output_type": "stream",
     "text": [
      "[nltk_data] Downloading package punkt to /Users/ldiego/nltk_data...\n",
      "[nltk_data]   Package punkt is already up-to-date!\n",
      "[nltk_data] Downloading package stopwords to\n",
      "[nltk_data]     /Users/ldiego/nltk_data...\n",
      "[nltk_data]   Package stopwords is already up-to-date!\n",
      "[nltk_data] Downloading package averaged_perceptron_tagger to\n",
      "[nltk_data]     /Users/ldiego/nltk_data...\n",
      "[nltk_data]   Package averaged_perceptron_tagger is already up-to-\n",
      "[nltk_data]       date!\n",
      "[nltk_data] Downloading package wordnet to /Users/ldiego/nltk_data...\n",
      "[nltk_data]   Package wordnet is already up-to-date!\n",
      "[nltk_data] Error loading en_core_web_md: Package 'en_core_web_md' not\n",
      "[nltk_data]     found in index\n"
     ]
    },
    {
     "name": "stdout",
     "output_type": "stream",
     "text": [
      "Cleaning: kwattcoin\n",
      "Cleaning: adcoin\n",
      "Cleaning: budbo\n",
      "Cleaning: oceanprotocol\n",
      "Done!\n"
     ]
    }
   ],
   "source": [
    "# Define if you want your corpus to be whole or divided in sentences\n",
    "makeSentences = False\n",
    "# Creates a dictionary with each White Paper and its text pre-processed\n",
    "corpora_test_whole = corpus.makeCleanCorpus(test, lemmatize=True, removePunct=True, removeNums=True\n",
    "                                 ,makeSentences=makeSentences, removeURL=True, removeChar=True, removeEnt=True)"
   ]
  },
  {
   "cell_type": "code",
   "execution_count": 39,
   "metadata": {},
   "outputs": [],
   "source": [
    "df_test_1 = pd.DataFrame.from_dict(corpora_test_whole,orient=\"index\").reset_index()\n",
    "\n",
    "df_test_1.columns = [\"Protocol\", \"Text\"]"
   ]
  },
  {
   "cell_type": "code",
   "execution_count": 40,
   "metadata": {},
   "outputs": [],
   "source": [
    "# Define a Data Frame to put all the corpora_sent into a Pandas dataframe\n",
    "df_test_2 = pd.DataFrame(columns=[\"Text\",\"Protocol\"])"
   ]
  },
  {
   "cell_type": "code",
   "execution_count": 41,
   "metadata": {},
   "outputs": [],
   "source": [
    "# Iterate over each white paper, and on each sentence, and add it to the Dataframe\n",
    "i=0\n",
    "for k, v in enumerate(corpora_test_sent):\n",
    "    for sent in corpora_test_sent[v]:\n",
    "        df_test_2.loc[i, \"Text\"] = sent\n",
    "        df_test_2.loc[i, \"Protocol\"] = v\n",
    "        i += 1"
   ]
  },
  {
   "cell_type": "code",
   "execution_count": 42,
   "metadata": {},
   "outputs": [
    {
     "data": {
      "text/plain": [
       "(1988, 2)"
      ]
     },
     "execution_count": 42,
     "metadata": {},
     "output_type": "execute_result"
    }
   ],
   "source": [
    "df_test_2.shape"
   ]
  },
  {
   "cell_type": "markdown",
   "metadata": {},
   "source": [
    "### Models/Methods"
   ]
  },
  {
   "cell_type": "code",
   "execution_count": 64,
   "metadata": {},
   "outputs": [],
   "source": [
    "# First, we define our test dataframe\n",
    "X_test = df_test_1[\"Text\"]\n",
    "\n",
    "# For the first model, we need to tokenize the text\n",
    "#X_test = tokenize.texts_to_matrix(X_test)"
   ]
  },
  {
   "cell_type": "code",
   "execution_count": 65,
   "metadata": {},
   "outputs": [
    {
     "data": {
      "text/plain": [
       "0    newwhitepaper disclaimer document document con...\n",
       "1    version offer lot great opportunity technologi...\n",
       "2    global cannabis comehensive solution cannabis ...\n",
       "3    decentralize substrate service technical found...\n",
       "Name: Text, dtype: object"
      ]
     },
     "execution_count": 65,
     "metadata": {},
     "output_type": "execute_result"
    }
   ],
   "source": [
    "X_test"
   ]
  },
  {
   "cell_type": "code",
   "execution_count": 44,
   "metadata": {},
   "outputs": [
    {
     "name": "stdout",
     "output_type": "stream",
     "text": [
      "WARNING:tensorflow:From /Users/ldiego/.local/lib/python3.7/site-packages/tensorflow/python/ops/math_ops.py:3066: to_int32 (from tensorflow.python.ops.math_ops) is deprecated and will be removed in a future version.\n",
      "Instructions for updating:\n",
      "Use tf.cast instead.\n"
     ]
    }
   ],
   "source": [
    "# We load our Neural Network from previous model weights\n",
    "model = load_model(\"model_neuralnetwork_classification.h5\")"
   ]
  },
  {
   "cell_type": "code",
   "execution_count": 45,
   "metadata": {},
   "outputs": [],
   "source": [
    "# Predict\n",
    "predict_nn = model.predict(X_test)"
   ]
  },
  {
   "cell_type": "code",
   "execution_count": 46,
   "metadata": {},
   "outputs": [
    {
     "data": {
      "text/plain": [
       "(4, 2)"
      ]
     },
     "execution_count": 46,
     "metadata": {},
     "output_type": "execute_result"
    }
   ],
   "source": [
    "df_test_1.shape"
   ]
  },
  {
   "cell_type": "code",
   "execution_count": 47,
   "metadata": {},
   "outputs": [
    {
     "data": {
      "text/plain": [
       "(4, 99)"
      ]
     },
     "execution_count": 47,
     "metadata": {},
     "output_type": "execute_result"
    }
   ],
   "source": [
    "predict_nn.shape"
   ]
  },
  {
   "cell_type": "code",
   "execution_count": 48,
   "metadata": {},
   "outputs": [],
   "source": [
    "# Add into the DataFrame\n",
    "df_test_1[\"Model_1\"] = predict_nn.tolist()"
   ]
  },
  {
   "cell_type": "code",
   "execution_count": 49,
   "metadata": {},
   "outputs": [],
   "source": [
    "# First, we define our test dataframe\n",
    "X_test = df_test_2[\"Text\"]\n",
    "\n",
    "# Then, for the second model, we predict it\n",
    "predict_logreg = logreg.predict(X_test)"
   ]
  },
  {
   "cell_type": "code",
   "execution_count": 50,
   "metadata": {},
   "outputs": [],
   "source": [
    "# Add into the Dataframe\n",
    "df_test_2[\"Model_2\"] = predict_logreg"
   ]
  },
  {
   "cell_type": "code",
   "execution_count": 51,
   "metadata": {},
   "outputs": [
    {
     "data": {
      "text/html": [
       "<div>\n",
       "<style scoped>\n",
       "    .dataframe tbody tr th:only-of-type {\n",
       "        vertical-align: middle;\n",
       "    }\n",
       "\n",
       "    .dataframe tbody tr th {\n",
       "        vertical-align: top;\n",
       "    }\n",
       "\n",
       "    .dataframe thead th {\n",
       "        text-align: right;\n",
       "    }\n",
       "</style>\n",
       "<table border=\"1\" class=\"dataframe\">\n",
       "  <thead>\n",
       "    <tr style=\"text-align: right;\">\n",
       "      <th></th>\n",
       "      <th>Text</th>\n",
       "      <th>Protocol</th>\n",
       "      <th>Model_2</th>\n",
       "    </tr>\n",
       "  </thead>\n",
       "  <tbody>\n",
       "    <tr>\n",
       "      <th>0</th>\n",
       "      <td>newwhitepaper</td>\n",
       "      <td>kwattcoin</td>\n",
       "      <td>none</td>\n",
       "    </tr>\n",
       "    <tr>\n",
       "      <th>1</th>\n",
       "      <td>disclaimer document document constitute prospe...</td>\n",
       "      <td>kwattcoin</td>\n",
       "      <td>none</td>\n",
       "    </tr>\n",
       "    <tr>\n",
       "      <th>2</th>\n",
       "      <td>coin represent ownership share public private ...</td>\n",
       "      <td>kwattcoin</td>\n",
       "      <td>none</td>\n",
       "    </tr>\n",
       "    <tr>\n",
       "      <th>3</th>\n",
       "      <td>coin coin purchase good service ecosystem</td>\n",
       "      <td>kwattcoin</td>\n",
       "      <td>roadmap</td>\n",
       "    </tr>\n",
       "    <tr>\n",
       "      <th>4</th>\n",
       "      <td>acquisition coin initial coin ering nonrefunda...</td>\n",
       "      <td>kwattcoin</td>\n",
       "      <td>sales</td>\n",
       "    </tr>\n",
       "  </tbody>\n",
       "</table>\n",
       "</div>"
      ],
      "text/plain": [
       "                                                Text   Protocol  Model_2\n",
       "0                                     newwhitepaper   kwattcoin     none\n",
       "1  disclaimer document document constitute prospe...  kwattcoin     none\n",
       "2  coin represent ownership share public private ...  kwattcoin     none\n",
       "3         coin coin purchase good service ecosystem   kwattcoin  roadmap\n",
       "4  acquisition coin initial coin ering nonrefunda...  kwattcoin    sales"
      ]
     },
     "execution_count": 51,
     "metadata": {},
     "output_type": "execute_result"
    }
   ],
   "source": [
    "df_test_2.head()"
   ]
  },
  {
   "cell_type": "markdown",
   "metadata": {},
   "source": [
    "### Output"
   ]
  },
  {
   "cell_type": "code",
   "execution_count": 52,
   "metadata": {},
   "outputs": [
    {
     "data": {
      "text/html": [
       "<div>\n",
       "<style scoped>\n",
       "    .dataframe tbody tr th:only-of-type {\n",
       "        vertical-align: middle;\n",
       "    }\n",
       "\n",
       "    .dataframe tbody tr th {\n",
       "        vertical-align: top;\n",
       "    }\n",
       "\n",
       "    .dataframe thead th {\n",
       "        text-align: right;\n",
       "    }\n",
       "</style>\n",
       "<table border=\"1\" class=\"dataframe\">\n",
       "  <thead>\n",
       "    <tr style=\"text-align: right;\">\n",
       "      <th></th>\n",
       "      <th>Protocol</th>\n",
       "      <th>Text</th>\n",
       "      <th>Model_1</th>\n",
       "    </tr>\n",
       "  </thead>\n",
       "  <tbody>\n",
       "    <tr>\n",
       "      <th>0</th>\n",
       "      <td>kwattcoin</td>\n",
       "      <td>newwhitepaper disclaimer document document con...</td>\n",
       "      <td>[0.0, 0.0, 4.836906750860829e-38, 0.0, 3.24791...</td>\n",
       "    </tr>\n",
       "    <tr>\n",
       "      <th>1</th>\n",
       "      <td>adcoin</td>\n",
       "      <td>version offer lot great opportunity technologi...</td>\n",
       "      <td>[0.0, 0.0, 3.727703988849e-17, 0.0, 0.00032242...</td>\n",
       "    </tr>\n",
       "    <tr>\n",
       "      <th>2</th>\n",
       "      <td>budbo</td>\n",
       "      <td>global cannabis comehensive solution cannabis ...</td>\n",
       "      <td>[0.0, 0.0, 0.0, 0.0, 0.0, 0.0, 0.0, 0.0, 0.0, ...</td>\n",
       "    </tr>\n",
       "    <tr>\n",
       "      <th>3</th>\n",
       "      <td>oceanprotocol</td>\n",
       "      <td>decentralize substrate service technical found...</td>\n",
       "      <td>[0.0, 0.0, 0.0, 0.0, 0.0, 0.0, 0.0, 0.0, 0.0, ...</td>\n",
       "    </tr>\n",
       "  </tbody>\n",
       "</table>\n",
       "</div>"
      ],
      "text/plain": [
       "        Protocol                                               Text  \\\n",
       "0      kwattcoin  newwhitepaper disclaimer document document con...   \n",
       "1         adcoin  version offer lot great opportunity technologi...   \n",
       "2          budbo  global cannabis comehensive solution cannabis ...   \n",
       "3  oceanprotocol  decentralize substrate service technical found...   \n",
       "\n",
       "                                             Model_1  \n",
       "0  [0.0, 0.0, 4.836906750860829e-38, 0.0, 3.24791...  \n",
       "1  [0.0, 0.0, 3.727703988849e-17, 0.0, 0.00032242...  \n",
       "2  [0.0, 0.0, 0.0, 0.0, 0.0, 0.0, 0.0, 0.0, 0.0, ...  \n",
       "3  [0.0, 0.0, 0.0, 0.0, 0.0, 0.0, 0.0, 0.0, 0.0, ...  "
      ]
     },
     "execution_count": 52,
     "metadata": {},
     "output_type": "execute_result"
    }
   ],
   "source": [
    "# Model 1\n",
    "\n",
    "df_test_1.head()"
   ]
  },
  {
   "cell_type": "code",
   "execution_count": 53,
   "metadata": {},
   "outputs": [],
   "source": [
    "# Generate the Labels, with the name of each White Paper\n",
    "labels = list(corpora_sent.keys())"
   ]
  },
  {
   "cell_type": "code",
   "execution_count": 54,
   "metadata": {},
   "outputs": [
    {
     "data": {
      "image/png": "[encoded data removed]",
      "text/plain": [
       "<Figure size 432x288 with 1 Axes>"
      ]
     },
     "metadata": {
      "needs_background": "light"
     },
     "output_type": "display_data"
    },
    {
     "data": {
      "image/png": "[encoded data removed]",
      "text/plain": [
       "<Figure size 432x288 with 1 Axes>"
      ]
     },
     "metadata": {
      "needs_background": "light"
     },
     "output_type": "display_data"
    },
    {
     "data": {
      "image/png": "[encoded data removed]",
      "text/plain": [
       "<Figure size 432x288 with 1 Axes>"
      ]
     },
     "metadata": {
      "needs_background": "light"
     },
     "output_type": "display_data"
    },
    {
     "data": {
      "image/png": "[encoded data removed]",
      "text/plain": [
       "<Figure size 432x288 with 1 Axes>"
      ]
     },
     "metadata": {
      "needs_background": "light"
     },
     "output_type": "display_data"
    }
   ],
   "source": [
    "pd.options.display.float_format = '{}'.format\n",
    "for index, row in df_test_1.iterrows():\n",
    "    frame = pd.DataFrame()\n",
    "    frame[\"weights\"] = row[\"Model_1\"]\n",
    "    frame[\"label\"] = labels\n",
    "    frame = frame.sort_values(by=\"weights\", ascending=False)\n",
    "    frame = frame.head(5)\n",
    "    plt.bar(frame.label, frame.weights)\n",
    "    plt.title(row[\"Protocol\"]) \n",
    "    plt.xlabel(\"Train Protocols\")\n",
    "    plt.ylabel(\"% Likelihood\")\n",
    "    plt.show()"
   ]
  },
  {
   "cell_type": "code",
   "execution_count": 60,
   "metadata": {},
   "outputs": [
    {
     "data": {
      "text/html": [
       "<div>\n",
       "<style scoped>\n",
       "    .dataframe tbody tr th:only-of-type {\n",
       "        vertical-align: middle;\n",
       "    }\n",
       "\n",
       "    .dataframe tbody tr th {\n",
       "        vertical-align: top;\n",
       "    }\n",
       "\n",
       "    .dataframe thead th {\n",
       "        text-align: right;\n",
       "    }\n",
       "</style>\n",
       "<table border=\"1\" class=\"dataframe\">\n",
       "  <thead>\n",
       "    <tr style=\"text-align: right;\">\n",
       "      <th></th>\n",
       "      <th>Text</th>\n",
       "      <th>Protocol</th>\n",
       "      <th>Model_2</th>\n",
       "    </tr>\n",
       "  </thead>\n",
       "  <tbody>\n",
       "    <tr>\n",
       "      <th>0</th>\n",
       "      <td>newwhitepaper</td>\n",
       "      <td>kwattcoin</td>\n",
       "      <td>none</td>\n",
       "    </tr>\n",
       "    <tr>\n",
       "      <th>1</th>\n",
       "      <td>disclaimer document document constitute prospe...</td>\n",
       "      <td>kwattcoin</td>\n",
       "      <td>none</td>\n",
       "    </tr>\n",
       "    <tr>\n",
       "      <th>2</th>\n",
       "      <td>coin represent ownership share public private ...</td>\n",
       "      <td>kwattcoin</td>\n",
       "      <td>none</td>\n",
       "    </tr>\n",
       "    <tr>\n",
       "      <th>3</th>\n",
       "      <td>coin coin purchase good service ecosystem</td>\n",
       "      <td>kwattcoin</td>\n",
       "      <td>roadmap</td>\n",
       "    </tr>\n",
       "    <tr>\n",
       "      <th>4</th>\n",
       "      <td>acquisition coin initial coin ering nonrefunda...</td>\n",
       "      <td>kwattcoin</td>\n",
       "      <td>sales</td>\n",
       "    </tr>\n",
       "  </tbody>\n",
       "</table>\n",
       "</div>"
      ],
      "text/plain": [
       "                                                Text   Protocol  Model_2\n",
       "0                                     newwhitepaper   kwattcoin     none\n",
       "1  disclaimer document document constitute prospe...  kwattcoin     none\n",
       "2  coin represent ownership share public private ...  kwattcoin     none\n",
       "3         coin coin purchase good service ecosystem   kwattcoin  roadmap\n",
       "4  acquisition coin initial coin ering nonrefunda...  kwattcoin    sales"
      ]
     },
     "execution_count": 60,
     "metadata": {},
     "output_type": "execute_result"
    }
   ],
   "source": [
    "#Model 2\n",
    "df_test_2.head()"
   ]
  },
  {
   "cell_type": "code",
   "execution_count": 56,
   "metadata": {},
   "outputs": [],
   "source": [
    "budbo = df_test_2[df_test_2.Protocol == 'budbo'].groupby(by=\"Model_2\").count().sort_values(by=\"Text\", ascending=False)\n",
    "budbo['percentage'] = budbo['Text']/budbo['Text'].sum()\n",
    "\n",
    "budbo = budbo.drop(\"none\", axis=0).reset_index()\n"
   ]
  },
  {
   "cell_type": "code",
   "execution_count": 57,
   "metadata": {},
   "outputs": [
    {
     "data": {
      "image/png": "[encoded data removed]",
      "text/plain": [
       "<Figure size 432x288 with 1 Axes>"
      ]
     },
     "metadata": {
      "needs_background": "light"
     },
     "output_type": "display_data"
    }
   ],
   "source": [
    "plt.bar(budbo.Model_2, budbo.percentage)\n",
    "plt.title(\"Protocol\") \n",
    "plt.xlabel(\"Train Protocols\")\n",
    "plt.ylabel(\"% Likelihood\")\n",
    "plt.show()"
   ]
  },
  {
   "cell_type": "code",
   "execution_count": 58,
   "metadata": {},
   "outputs": [],
   "source": [
    "ocean = df_test_2[df_test_2.Protocol == 'oceanprotocol'].groupby(by=\"Model_2\").count().sort_values(by=\"Text\", ascending=False)\n",
    "\n",
    "ocean['percentage'] = ocean['Text']/ocean['Text'].sum()\n",
    "\n",
    "ocean = ocean.drop(\"none\", axis=0).reset_index()\n"
   ]
  },
  {
   "cell_type": "code",
   "execution_count": 59,
   "metadata": {},
   "outputs": [
    {
     "data": {
      "image/png": "[encoded data removed]",
      "text/plain": [
       "<Figure size 432x288 with 1 Axes>"
      ]
     },
     "metadata": {
      "needs_background": "light"
     },
     "output_type": "display_data"
    }
   ],
   "source": [
    "plt.bar(ocean.Model_2, ocean.percentage)\n",
    "plt.title(\"Protocol\") \n",
    "plt.xlabel(\"Train Protocols\")\n",
    "plt.ylabel(\"% Likelihood\")\n",
    "plt.show()"
   ]
  },
  {
   "cell_type": "markdown",
   "metadata": {},
   "source": [
    "# 5- Inspiration"
   ]
  },
  {
   "cell_type": "markdown",
   "metadata": {},
   "source": [
    "- https://towardsdatascience.com/applying-machine-learning-to-classify-an-unsupervised-text-document-e7bb6265f52\n",
    "- https://towardsdatascience.com/machine-learning-nlp-text-classification-using-scikit-learn-python-and-nltk-c52b92a7c73a\n",
    "- https://github.com/kavgan/nlp-in-practice/blob/master/word2vec/Word2Vec.ipynb"
   ]
  }
 ],
 "metadata": {
  "kernelspec": {
   "display_name": "Python 3",
   "language": "python",
   "name": "python3"
  },
  "language_info": {
   "codemirror_mode": {
    "name": "ipython",
    "version": 3
   },
   "file_extension": ".py",
   "mimetype": "text/x-python",
   "name": "python",
   "nbconvert_exporter": "python",
   "pygments_lexer": "ipython3",
   "version": "3.7.1"
  }
 },
 "nbformat": 4,
 "nbformat_minor": 2
}
