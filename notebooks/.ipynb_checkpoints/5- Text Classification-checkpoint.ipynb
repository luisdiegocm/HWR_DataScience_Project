{
 "cells": [
  {
   "cell_type": "markdown",
   "metadata": {},
   "source": [
    "# Text Classification"
   ]
  },
  {
   "cell_type": "markdown",
   "metadata": {},
   "source": [
    "## 1 - Library Imports"
   ]
  },
  {
   "cell_type": "code",
   "execution_count": 1,
   "metadata": {},
   "outputs": [
    {
     "name": "stderr",
     "output_type": "stream",
     "text": [
      "Using Theano backend.\n"
     ]
    }
   ],
   "source": [
    "%reset -f\n",
    "\n",
    "# Import Os to get to the root directory\n",
    "import os\n",
    "import sys\n",
    "\n",
    "# Root directory of the project\n",
    "ROOT_DIR = os.path.abspath(\"../\")\n",
    "sys.path.append(ROOT_DIR)\n",
    "\n",
    "TEST_DIR = os.path.join(ROOT_DIR, \"test-white-papers\")\n",
    "MODEL_DIR = os.path.join(ROOT_DIR, \"model\")\n",
    "\n",
    "# Change Keras Environment to Theano, in case Tensorflow doesn't work\n",
    "import os; os.environ['KERAS_BACKEND'] = 'theano'\n",
    "\n",
    "# Import own functions\n",
    "from libraries import corpus\n",
    "from libraries import pdf2text\n",
    "\n",
    "##########################\n",
    "# Import other libraries\n",
    "##########################\n",
    "\n",
    "# Data Processing and visualization\n",
    "import numpy as np\n",
    "import pandas as pd\n",
    "import matplotlib.pyplot as plt\n",
    "\n",
    "# Text Analysis\n",
    "import nltk \n",
    "\n",
    "# Machine Learning Libraries\n",
    "from sklearn import model_selection, preprocessing, linear_model, naive_bayes, metrics, svm\n",
    "from sklearn.model_selection import train_test_split\n",
    "from sklearn.feature_extraction.text import CountVectorizer, TfidfVectorizer, TfidfTransformer\n",
    "\n",
    "from sklearn.metrics import accuracy_score, confusion_matrix, classification_report\n",
    "from sklearn.linear_model import SGDClassifier, LogisticRegression\n",
    "from sklearn.preprocessing import LabelEncoder, LabelBinarizer\n",
    "from sklearn.naive_bayes import MultinomialNB\n",
    "from sklearn.pipeline import Pipeline\n",
    "\n",
    "import itertools\n",
    "\n",
    "# Tensorflow Utilities\n",
    "import tensorflow as tf\n",
    "from tensorflow.python.keras.preprocessing.text import Tokenizer\n",
    "from tensorflow.python.keras.preprocessing.sequence import pad_sequences\n",
    "\n",
    "# Neural Network Libraries\n",
    "from tensorflow import keras\n",
    "from keras import utils\n",
    "from keras.models import Sequential, load_model\n",
    "from keras.layers import Dense, Activation, Dropout\n",
    "from keras.preprocessing import text, sequence\n",
    "\n",
    "import warnings\n",
    "warnings.filterwarnings(\"ignore\")"
   ]
  },
  {
   "cell_type": "code",
   "execution_count": 2,
   "metadata": {},
   "outputs": [
    {
     "data": {
      "text/plain": [
       "<module 'libraries.corpus' from '/home/diego_conejo/datascience_project/libraries/corpus.py'>"
      ]
     },
     "execution_count": 2,
     "metadata": {},
     "output_type": "execute_result"
    }
   ],
   "source": [
    "# To reload own libraries when a change is made\n",
    "from importlib import reload\n",
    "reload(corpus)"
   ]
  },
  {
   "cell_type": "markdown",
   "metadata": {},
   "source": [
    "## 2 - Data Preprocessing"
   ]
  },
  {
   "cell_type": "code",
   "execution_count": 3,
   "metadata": {},
   "outputs": [],
   "source": [
    "# Retrieving the PDF files from white-paper folder and converting them to text\n",
    "dataset = pdf2text.get_dataset()"
   ]
  },
  {
   "cell_type": "code",
   "execution_count": 4,
   "metadata": {},
   "outputs": [
    {
     "data": {
      "text/plain": [
       "dict_keys(['bytom', 'crypto', 'fantom', 'steem', 'status', 'metal', 'chainlink', 'gnosis', 'mixin', 'wanchain', 'hyperion', 'dai', 'hypercash', 'ark', 'tezos', 'gxchain', 'iexecrlc', 'digixdao', 'bhpcoin', 'golem', 'waves', 'pundix', 'vechain', 'nano', 'cosmocoin', 'loopring', 'ravencoin', 'horizen', 'orbs', 'monero', 'latoken', 'paxosstandardtoken', 'inocoin', 'xrp', 'eos', 'aion', 'celernetwork', 'singularitynet', 'thundertoken', 'ethereumclassic', 'ardor', 'tron', 'synthetixnetworktoken', '0x', 'zilliqa', 'nebulas', 'zcash', 'maidsafecoin', 'dent', 'nexo', 'solve', 'abbccoin', 'iota', 'bitcoingold', 'enjincoin', 'bytecoin', 'omisego', 'ethereum', 'obyte', 'ontology', 'elastos', 'metaverseetp', 'basicattentiontoken', 'decentraland', 'komodo', 'bittorrent', 'theta', 'japancontenttoken', 'utrust', 'tenx', 'binancecoin', 'factom', 'usdcoin', 'apollocurrency', 'skycoin', 'tether', 'bitshares', 'wax', 'riftoken', 'waltonchain', '#metahash', 'thetafuel', 'truechain', 'nkn', 'nem', 'bitcoin', 'dogecoin', 'maker', 'lina', 'powerledger', 'stellar', 'cryptonex', 'particl', 'stratis', 'dash', 'holo', 'siacoin', 'icon', 'cosmos'])"
      ]
     },
     "execution_count": 4,
     "metadata": {},
     "output_type": "execute_result"
    }
   ],
   "source": [
    "# Print all the white papers' names\n",
    "dataset.keys()"
   ]
  },
  {
   "cell_type": "code",
   "execution_count": 5,
   "metadata": {},
   "outputs": [
    {
     "data": {
      "text/plain": [
       "99"
      ]
     },
     "execution_count": 5,
     "metadata": {},
     "output_type": "execute_result"
    }
   ],
   "source": [
    "# Print the size of the Train dataset\n",
    "len(dataset.keys())"
   ]
  },
  {
   "cell_type": "code",
   "execution_count": 6,
   "metadata": {},
   "outputs": [
    {
     "name": "stderr",
     "output_type": "stream",
     "text": [
      "[nltk_data] Downloading package punkt to\n",
      "[nltk_data]     /home/diego_conejo/nltk_data...\n",
      "[nltk_data]   Package punkt is already up-to-date!\n",
      "[nltk_data] Downloading package stopwords to\n",
      "[nltk_data]     /home/diego_conejo/nltk_data...\n",
      "[nltk_data]   Package stopwords is already up-to-date!\n",
      "[nltk_data] Downloading package averaged_perceptron_tagger to\n",
      "[nltk_data]     /home/diego_conejo/nltk_data...\n",
      "[nltk_data]   Package averaged_perceptron_tagger is already up-to-\n",
      "[nltk_data]       date!\n",
      "[nltk_data] Downloading package wordnet to\n",
      "[nltk_data]     /home/diego_conejo/nltk_data...\n",
      "[nltk_data]   Package wordnet is already up-to-date!\n",
      "[nltk_data] Error loading en_core_web_md: Package 'en_core_web_md' not\n",
      "[nltk_data]     found in index\n"
     ]
    },
    {
     "name": "stdout",
     "output_type": "stream",
     "text": [
      "Cleaning: bytom\n",
      "Cleaning: crypto\n",
      "Cleaning: fantom\n",
      "Cleaning: zilliqa\n",
      "Cleaning: nebulas\n",
      "Cleaning: zcash\n",
      "Cleaning: maidsafecoin\n",
      "Cleaning: dent\n",
      "Cleaning: nexo\n",
      "Cleaning: solve\n",
      "Cleaning: abbccoin\n",
      "Cleaning: iota\n",
      "Cleaning: bitcoingold\n",
      "Cleaning: enjincoin\n",
      "Cleaning: bytecoin\n",
      "Cleaning: omisego\n",
      "Cleaning: ethereum\n",
      "Cleaning: obyte\n",
      "Cleaning: ontology\n",
      "Cleaning: elastos\n",
      "Cleaning: metaverseetp\n",
      "Cleaning: basicattentiontoken\n",
      "Cleaning: decentraland\n",
      "Cleaning: komodo\n",
      "Cleaning: bittorrent\n",
      "Cleaning: theta\n",
      "Cleaning: japancontenttoken\n",
      "Cleaning: utrust\n",
      "Cleaning: tenx\n",
      "Cleaning: binancecoin\n",
      "Cleaning: factom\n",
      "Cleaning: usdcoin\n",
      "Cleaning: apollocurrency\n",
      "Cleaning: skycoin\n",
      "Cleaning: tether\n",
      "Cleaning: bitshares\n",
      "Cleaning: wax\n",
      "Cleaning: riftoken\n",
      "Cleaning: waltonchain\n",
      "Cleaning: #metahash\n",
      "Cleaning: thetafuel\n",
      "Cleaning: truechain\n",
      "Cleaning: nkn\n",
      "Cleaning: nem\n",
      "Cleaning: bitcoin\n",
      "Cleaning: dogecoin\n",
      "Cleaning: maker\n",
      "Cleaning: lina\n",
      "Cleaning: powerledger\n",
      "Cleaning: stellar\n",
      "Cleaning: cryptonex\n",
      "Cleaning: particl\n",
      "Cleaning: stratis\n",
      "Cleaning: dash\n",
      "Cleaning: holo\n",
      "Cleaning: siacoin\n",
      "Cleaning: icon\n",
      "Cleaning: cosmos\n",
      "Done!\n"
     ]
    }
   ],
   "source": [
    "# Define if you want your corpus to be whole or divided in sentences\n",
    "makeSentences = True\n",
    "# Creates a dictionary with each White Paper and its text pre-processed\n",
    "corpora_sent = corpus.makeCleanCorpus(dataset, lemmatize=True, removePunct=True, removeNums=True\n",
    "                                 ,makeSentences=makeSentences, removeURL=True, removeChar=True, removeEnt=True)"
   ]
  },
  {
   "cell_type": "code",
   "execution_count": 7,
   "metadata": {},
   "outputs": [
    {
     "name": "stderr",
     "output_type": "stream",
     "text": [
      "[nltk_data] Downloading package punkt to\n",
      "[nltk_data]     /home/diego_conejo/nltk_data...\n",
      "[nltk_data]   Package punkt is already up-to-date!\n",
      "[nltk_data] Downloading package stopwords to\n",
      "[nltk_data]     /home/diego_conejo/nltk_data...\n",
      "[nltk_data]   Package stopwords is already up-to-date!\n",
      "[nltk_data] Downloading package averaged_perceptron_tagger to\n",
      "[nltk_data]     /home/diego_conejo/nltk_data...\n",
      "[nltk_data]   Package averaged_perceptron_tagger is already up-to-\n",
      "[nltk_data]       date!\n",
      "[nltk_data] Downloading package wordnet to\n",
      "[nltk_data]     /home/diego_conejo/nltk_data...\n",
      "[nltk_data]   Package wordnet is already up-to-date!\n",
      "[nltk_data] Error loading en_core_web_md: Package 'en_core_web_md' not\n",
      "[nltk_data]     found in index\n"
     ]
    },
    {
     "name": "stdout",
     "output_type": "stream",
     "text": [
      "Cleaning: bytom\n",
      "Cleaning: crypto\n",
      "Cleaning: fantom\n",
      "Cleaning: steem\n",
      "Cleaning: status\n",
      "Cleaning: metal\n",
      "Cleaning: chainlink\n",
      "Cleaning: gnosis\n",
      "Cleaning: mixin\n",
      "Cleaning: wanchain\n",
      "Cleaning: hyperion\n",
      "Cleaning: dai\n",
      "Cleaning: hypercash\n",
      "Cleaning: ark\n",
      "Cleaning: tezos\n",
      "Cleaning: gxchain\n",
      "Cleaning: iexecrlc\n",
      "Cleaning: digixdao\n",
      "Cleaning: bhpcoin\n",
      "Cleaning: golem\n",
      "Cleaning: waves\n",
      "Cleaning: pundix\n",
      "Cleaning: vechain\n",
      "Cleaning: nano\n",
      "Cleaning: cosmocoin\n",
      "Cleaning: loopring\n",
      "Cleaning: ravencoin\n",
      "Cleaning: horizen\n",
      "Cleaning: orbs\n",
      "Cleaning: monero\n",
      "Cleaning: latoken\n",
      "Cleaning: paxosstandardtoken\n",
      "Cleaning: inocoin\n",
      "Cleaning: xrp\n",
      "Cleaning: eos\n",
      "Cleaning: aion\n",
      "Cleaning: celernetwork\n",
      "Cleaning: singularitynet\n",
      "Cleaning: thundertoken\n",
      "Cleaning: ethereumclassic\n",
      "Cleaning: ardor\n",
      "Cleaning: tron\n",
      "Cleaning: synthetixnetworktoken\n",
      "Cleaning: 0x\n",
      "Cleaning: zilliqa\n",
      "Cleaning: nebulas\n",
      "Cleaning: zcash\n",
      "Cleaning: maidsafecoin\n",
      "Cleaning: dent\n",
      "Cleaning: nexo\n",
      "Cleaning: solve\n",
      "Cleaning: abbccoin\n",
      "Cleaning: iota\n",
      "Cleaning: bitcoingold\n",
      "Cleaning: enjincoin\n",
      "Cleaning: bytecoin\n",
      "Cleaning: omisego\n",
      "Cleaning: ethereum\n",
      "Cleaning: obyte\n",
      "Cleaning: ontology\n",
      "Cleaning: elastos\n",
      "Cleaning: metaverseetp\n",
      "Cleaning: basicattentiontoken\n",
      "Cleaning: decentraland\n",
      "Cleaning: komodo\n",
      "Cleaning: bittorrent\n",
      "Cleaning: theta\n",
      "Cleaning: japancontenttoken\n",
      "Cleaning: utrust\n",
      "Cleaning: tenx\n",
      "Cleaning: binancecoin\n",
      "Cleaning: factom\n",
      "Cleaning: usdcoin\n",
      "Cleaning: apollocurrency\n",
      "Cleaning: skycoin\n",
      "Cleaning: tether\n",
      "Cleaning: bitshares\n",
      "Cleaning: wax\n",
      "Cleaning: riftoken\n",
      "Cleaning: waltonchain\n",
      "Cleaning: #metahash\n",
      "Cleaning: thetafuel\n",
      "Cleaning: truechain\n",
      "Cleaning: nkn\n",
      "Cleaning: nem\n",
      "Cleaning: bitcoin\n",
      "Cleaning: dogecoin\n",
      "Cleaning: maker\n",
      "Cleaning: lina\n",
      "Cleaning: powerledger\n",
      "Cleaning: stellar\n",
      "Cleaning: cryptonex\n",
      "Cleaning: particl\n",
      "Cleaning: stratis\n",
      "Cleaning: dash\n",
      "Cleaning: holo\n",
      "Cleaning: siacoin\n",
      "Cleaning: icon\n",
      "Cleaning: cosmos\n",
      "Done!\n"
     ]
    }
   ],
   "source": [
    "# Define if you want your corpus to be whole or divided in sentences\n",
    "makeSentences = False\n",
    "# Creates a dictionary with each White Paper and its text pre-processed\n",
    "corpora_whole = corpus.makeCleanCorpus(dataset, lemmatize=True, removePunct=True, removeNums=True\n",
    "                                 ,makeSentences=makeSentences, removeURL=True, removeChar=True, removeEnt=True)"
   ]
  },
  {
   "cell_type": "markdown",
   "metadata": {},
   "source": [
    "## 3 - Methods Application"
   ]
  },
  {
   "cell_type": "markdown",
   "metadata": {},
   "source": [
    "### Text Classification with Blockchain Protocol\n",
    "\n",
    "Here, we will use the pdf's to try and see if we can predict how similar are the pdf's\n",
    "The dataset will be X = text or sentences (try both approaches), Y = respective protocol. What we are trying to find out, is if there are some hidden patterns on the text that can explain certain protocols.\n",
    "\n",
    "We will try to evaluate a % similarity of existing protocols, for new protocols, and the investors can then assess "
   ]
  },
  {
   "cell_type": "code",
   "execution_count": 8,
   "metadata": {},
   "outputs": [],
   "source": [
    "# Define a Data Frame to put all the corpora_sent into a Pandas dataframe\n",
    "df = pd.DataFrame(columns=[\"Text\",\"Protocol\"])\n"
   ]
  },
  {
   "cell_type": "code",
   "execution_count": 9,
   "metadata": {},
   "outputs": [],
   "source": [
    "# Iterate over each white paper, and on each sentence, and add it to the Dataframe\n",
    "i=0\n",
    "for k, v in enumerate(corpora_sent):\n",
    "    for sent in corpora_sent[v]:\n",
    "        df.loc[i, \"Text\"] = sent\n",
    "        df.loc[i, \"Protocol\"] = v\n",
    "        i += 1"
   ]
  },
  {
   "cell_type": "code",
   "execution_count": 10,
   "metadata": {},
   "outputs": [
    {
     "data": {
      "text/plain": [
       "(42688, 2)"
      ]
     },
     "execution_count": 10,
     "metadata": {},
     "output_type": "execute_result"
    }
   ],
   "source": [
    "# Size of the Training Dataset\n",
    "df.shape"
   ]
  },
  {
   "cell_type": "code",
   "execution_count": 11,
   "metadata": {},
   "outputs": [
    {
     "data": {
      "text/html": [
       "<div>\n",
       "<style scoped>\n",
       "    .dataframe tbody tr th:only-of-type {\n",
       "        vertical-align: middle;\n",
       "    }\n",
       "\n",
       "    .dataframe tbody tr th {\n",
       "        vertical-align: top;\n",
       "    }\n",
       "\n",
       "    .dataframe thead th {\n",
       "        text-align: right;\n",
       "    }\n",
       "</style>\n",
       "<table border=\"1\" class=\"dataframe\">\n",
       "  <thead>\n",
       "    <tr style=\"text-align: right;\">\n",
       "      <th></th>\n",
       "      <th>Text</th>\n",
       "      <th>Protocol</th>\n",
       "    </tr>\n",
       "  </thead>\n",
       "  <tbody>\n",
       "    <tr>\n",
       "      <th>0</th>\n",
       "      <td>vdocx interoperation protocol diversified byte...</td>\n",
       "      <td>bytom</td>\n",
       "    </tr>\n",
       "    <tr>\n",
       "      <th>1</th>\n",
       "      <td>heterogeneous byteassets indigenous digital cu...</td>\n",
       "      <td>bytom</td>\n",
       "    </tr>\n",
       "    <tr>\n",
       "      <th>2</th>\n",
       "      <td>protocol connects atomic byteworld promote int...</td>\n",
       "      <td>bytom</td>\n",
       "    </tr>\n",
       "    <tr>\n",
       "      <th>3</th>\n",
       "      <td>adopts layer architecture application layer co...</td>\n",
       "      <td>bytom</td>\n",
       "    </tr>\n",
       "    <tr>\n",
       "      <th>4</th>\n",
       "      <td>application layer friendly mobile terminal con...</td>\n",
       "      <td>bytom</td>\n",
       "    </tr>\n",
       "  </tbody>\n",
       "</table>\n",
       "</div>"
      ],
      "text/plain": [
       "                                                Text Protocol\n",
       "0  vdocx interoperation protocol diversified byte...    bytom\n",
       "1  heterogeneous byteassets indigenous digital cu...    bytom\n",
       "2  protocol connects atomic byteworld promote int...    bytom\n",
       "3  adopts layer architecture application layer co...    bytom\n",
       "4  application layer friendly mobile terminal con...    bytom"
      ]
     },
     "execution_count": 11,
     "metadata": {},
     "output_type": "execute_result"
    }
   ],
   "source": [
    "df.head()"
   ]
  },
  {
   "cell_type": "code",
   "execution_count": 12,
   "metadata": {},
   "outputs": [],
   "source": [
    "# Define our X and y for the Model\n",
    "X = df.Text\n",
    "y = df.Protocol\n",
    "\n",
    "# Create a Test dataset to evaluate different models\n",
    "X_train, X_test, y_train, y_test = train_test_split(X, y, test_size=0.20, random_state = 100, stratify=y)"
   ]
  },
  {
   "cell_type": "code",
   "execution_count": 13,
   "metadata": {},
   "outputs": [],
   "source": [
    "# Generate the Labels, with the name of each White Paper\n",
    "labels = list(corpora_sent.keys())"
   ]
  },
  {
   "cell_type": "code",
   "execution_count": 14,
   "metadata": {},
   "outputs": [
    {
     "data": {
      "text/plain": [
       "Pipeline(memory=None,\n",
       "         steps=[('vect',\n",
       "                 CountVectorizer(analyzer='word', binary=False,\n",
       "                                 decode_error='strict',\n",
       "                                 dtype=<class 'numpy.int64'>, encoding='utf-8',\n",
       "                                 input='content', lowercase=True, max_df=1.0,\n",
       "                                 max_features=None, min_df=1,\n",
       "                                 ngram_range=(1, 1), preprocessor=None,\n",
       "                                 stop_words=None, strip_accents=None,\n",
       "                                 token_pattern='(?u)\\\\b\\\\w\\\\w+\\\\b',\n",
       "                                 tokenizer=None, vocabulary=None)),\n",
       "                ('tfidf',\n",
       "                 TfidfTransformer(norm='l2', smooth_idf=True,\n",
       "                                  sublinear_tf=False, use_idf=True)),\n",
       "                ('clf',\n",
       "                 MultinomialNB(alpha=1.0, class_prior=None, fit_prior=True))],\n",
       "         verbose=False)"
      ]
     },
     "execution_count": 14,
     "metadata": {},
     "output_type": "execute_result"
    }
   ],
   "source": [
    "# First, we will try a simple Multinomial Naive Bayes classifier\n",
    "\n",
    "# For all our classification methods, we will use a Pipeline that includes a Count Vectorizer (Bag of Words) and TFIDF\n",
    "# to transform our Text data into numerical values\n",
    "nb = Pipeline([('vect', CountVectorizer()),\n",
    "               ('tfidf', TfidfTransformer()),\n",
    "               ('clf', MultinomialNB()),\n",
    "              ])\n",
    "nb.fit(X_train, y_train)"
   ]
  },
  {
   "cell_type": "code",
   "execution_count": 15,
   "metadata": {},
   "outputs": [
    {
     "name": "stdout",
     "output_type": "stream",
     "text": [
      "accuracy 0.3027641133754978\n",
      "                       precision    recall  f1-score   support\n",
      "\n",
      "                bytom       0.92      0.23      0.37       105\n",
      "               crypto       0.00      0.00      0.00        51\n",
      "               fantom       0.00      0.00      0.00        50\n",
      "                steem       1.00      0.19      0.32        99\n",
      "               status       0.00      0.00      0.00        31\n",
      "                metal       0.81      0.32      0.46        93\n",
      "            chainlink       0.79      0.27      0.41       154\n",
      "               gnosis       0.85      0.32      0.47       124\n",
      "                mixin       0.00      0.00      0.00        40\n",
      "             wanchain       0.00      0.00      0.00        35\n",
      "             hyperion       0.00      0.00      0.00        29\n",
      "                  dai       0.00      0.00      0.00        25\n",
      "            hypercash       0.00      0.00      0.00        16\n",
      "                  ark       1.00      0.02      0.03        61\n",
      "                tezos       0.00      0.00      0.00        80\n",
      "              gxchain       0.00      0.00      0.00        38\n",
      "             iexecrlc       0.61      0.56      0.59       187\n",
      "             digixdao       0.86      0.43      0.57       147\n",
      "              bhpcoin       1.00      0.07      0.13        74\n",
      "                golem       1.00      0.10      0.19        97\n",
      "                waves       1.00      0.08      0.15        37\n",
      "               pundix       0.00      0.00      0.00        52\n",
      "              vechain       1.00      0.07      0.13        43\n",
      "                 nano       1.00      0.03      0.05        36\n",
      "            cosmocoin       0.00      0.00      0.00        40\n",
      "             loopring       1.00      0.22      0.36        55\n",
      "            ravencoin       0.00      0.00      0.00        22\n",
      "              horizen       0.00      0.00      0.00         7\n",
      "                 orbs       0.00      0.00      0.00        61\n",
      "               monero       0.86      0.09      0.16        68\n",
      "              latoken       1.00      0.04      0.08        71\n",
      "   paxosstandardtoken       1.00      0.05      0.09       109\n",
      "              inocoin       0.96      0.31      0.47        87\n",
      "                  xrp       0.83      0.19      0.31       132\n",
      "                  eos       0.65      0.74      0.69       225\n",
      "                 aion       0.57      0.04      0.08        92\n",
      "         celernetwork       1.00      0.06      0.11        69\n",
      "       singularitynet       0.86      0.06      0.12        97\n",
      "         thundertoken       1.00      0.04      0.08        77\n",
      "      ethereumclassic       0.00      0.00      0.00        82\n",
      "                ardor       0.00      0.00      0.00        45\n",
      "                 tron       0.44      0.31      0.37       128\n",
      "synthetixnetworktoken       1.00      0.06      0.11        89\n",
      "                   0x       0.77      0.09      0.16       110\n",
      "              zilliqa       0.00      0.00      0.00        22\n",
      "              nebulas       0.90      0.30      0.45        94\n",
      "                zcash       1.00      0.04      0.07        53\n",
      "         maidsafecoin       0.16      0.89      0.27       349\n",
      "                 dent       0.00      0.00      0.00         1\n",
      "                 nexo       0.93      0.24      0.39       107\n",
      "                solve       0.83      0.20      0.33        98\n",
      "             abbccoin       1.00      0.05      0.09        65\n",
      "                 iota       0.40      0.05      0.08        43\n",
      "          bitcoingold       0.00      0.00      0.00        32\n",
      "            enjincoin       0.65      0.19      0.30       146\n",
      "             bytecoin       1.00      0.06      0.11        52\n",
      "              omisego       0.00      0.00      0.00        80\n",
      "             ethereum       0.00      0.00      0.00        58\n",
      "                obyte       0.00      0.00      0.00        39\n",
      "             ontology       0.83      0.30      0.44       127\n",
      "              elastos       0.00      0.00      0.00         4\n",
      "         metaverseetp       1.00      0.04      0.08       102\n",
      "  basicattentiontoken       0.75      0.58      0.66       173\n",
      "         decentraland       1.00      0.03      0.07        59\n",
      "               komodo       0.00      0.00      0.00        44\n",
      "           bittorrent       0.12      0.75      0.21       263\n",
      "                theta       0.00      0.00      0.00        32\n",
      "    japancontenttoken       0.00      0.00      0.00        27\n",
      "               utrust       0.80      0.06      0.11        68\n",
      "                 tenx       0.75      0.04      0.08        69\n",
      "          binancecoin       0.00      0.00      0.00        36\n",
      "               factom       0.00      0.00      0.00        54\n",
      "              usdcoin       1.00      0.02      0.05        42\n",
      "       apollocurrency       0.34      0.77      0.47       258\n",
      "              skycoin       0.00      0.00      0.00        73\n",
      "               tether       0.00      0.00      0.00        23\n",
      "            bitshares       1.00      0.02      0.04        55\n",
      "                  wax       0.71      0.15      0.24       117\n",
      "             riftoken       0.77      0.48      0.59       177\n",
      "          waltonchain       0.00      0.00      0.00        53\n",
      "            #metahash       0.92      0.29      0.44        77\n",
      "            thetafuel       1.00      0.14      0.25        57\n",
      "            truechain       1.00      0.06      0.12        47\n",
      "                  nkn       1.00      0.02      0.03        66\n",
      "                  nem       0.06      0.03      0.04       132\n",
      "              bitcoin       0.16      0.09      0.11       132\n",
      "             dogecoin       1.00      0.04      0.08        47\n",
      "                maker       1.00      0.06      0.11        90\n",
      "                 lina       0.00      0.00      0.00        18\n",
      "          powerledger       1.00      0.02      0.03        66\n",
      "              stellar       0.00      0.00      0.00        58\n",
      "            cryptonex       0.52      0.38      0.44       157\n",
      "              particl       0.85      0.21      0.33       107\n",
      "              stratis       0.85      0.13      0.23        83\n",
      "                 dash       0.00      0.00      0.00        24\n",
      "                 holo       0.73      0.11      0.19        75\n",
      "              siacoin       0.00      0.00      0.00        37\n",
      "                 icon       0.25      0.99      0.40       679\n",
      "               cosmos       0.92      0.20      0.33       121\n",
      "\n",
      "             accuracy                           0.30      8538\n",
      "            macro avg       0.52      0.13      0.15      8538\n",
      "         weighted avg       0.57      0.30      0.26      8538\n",
      "\n"
     ]
    }
   ],
   "source": [
    "# Test the Accuracy\n",
    "y_pred = nb.predict(X_test)\n",
    "\n",
    "print('accuracy %s' % accuracy_score(y_pred, y_test))\n",
    "print(classification_report(y_test, y_pred,target_names=labels))"
   ]
  },
  {
   "cell_type": "code",
   "execution_count": 16,
   "metadata": {},
   "outputs": [
    {
     "data": {
      "text/plain": [
       "Pipeline(memory=None,\n",
       "         steps=[('vect',\n",
       "                 CountVectorizer(analyzer='word', binary=False,\n",
       "                                 decode_error='strict',\n",
       "                                 dtype=<class 'numpy.int64'>, encoding='utf-8',\n",
       "                                 input='content', lowercase=True, max_df=1.0,\n",
       "                                 max_features=None, min_df=1,\n",
       "                                 ngram_range=(1, 1), preprocessor=None,\n",
       "                                 stop_words=None, strip_accents=None,\n",
       "                                 token_pattern='(?u)\\\\b\\\\w\\\\w+\\\\b',\n",
       "                                 tokenizer=None, vocabulary=Non...\n",
       "                ('clf',\n",
       "                 SGDClassifier(alpha=0.001, average=False, class_weight=None,\n",
       "                               early_stopping=False, epsilon=0.1, eta0=0.0,\n",
       "                               fit_intercept=True, l1_ratio=0.15,\n",
       "                               learning_rate='optimal', loss='hinge',\n",
       "                               max_iter=5, n_iter_no_change=5, n_jobs=None,\n",
       "                               penalty='l2', power_t=0.5, random_state=42,\n",
       "                               shuffle=True, tol=None, validation_fraction=0.1,\n",
       "                               verbose=0, warm_start=False))],\n",
       "         verbose=False)"
      ]
     },
     "execution_count": 16,
     "metadata": {},
     "output_type": "execute_result"
    }
   ],
   "source": [
    "# Also, we will evaluate a Stocastic Gradient Descent Classifier\n",
    "sgd = Pipeline([('vect', CountVectorizer()),\n",
    "                ('tfidf', TfidfTransformer()),\n",
    "                ('clf', SGDClassifier(loss='hinge', penalty='l2',alpha=1e-3, random_state=42, max_iter=5, tol=None)),\n",
    "               ])\n",
    "sgd.fit(X_train, y_train)"
   ]
  },
  {
   "cell_type": "code",
   "execution_count": 17,
   "metadata": {},
   "outputs": [
    {
     "name": "stdout",
     "output_type": "stream",
     "text": [
      "accuracy 0.5233075661747482\n",
      "                       precision    recall  f1-score   support\n",
      "\n",
      "                bytom       0.53      0.61      0.57       105\n",
      "               crypto       0.38      0.31      0.34        51\n",
      "               fantom       0.41      0.18      0.25        50\n",
      "                steem       0.55      0.61      0.58        99\n",
      "               status       0.56      0.29      0.38        31\n",
      "                metal       0.54      0.55      0.54        93\n",
      "            chainlink       0.56      0.43      0.49       154\n",
      "               gnosis       0.52      0.60      0.56       124\n",
      "                mixin       0.54      0.38      0.44        40\n",
      "             wanchain       0.27      0.09      0.13        35\n",
      "             hyperion       0.41      0.31      0.35        29\n",
      "                  dai       0.86      0.24      0.38        25\n",
      "            hypercash       0.60      0.19      0.29        16\n",
      "                  ark       0.56      0.59      0.58        61\n",
      "                tezos       0.06      0.05      0.05        80\n",
      "              gxchain       0.67      0.32      0.43        38\n",
      "             iexecrlc       0.62      0.66      0.64       187\n",
      "             digixdao       0.57      0.66      0.61       147\n",
      "              bhpcoin       0.61      0.57      0.59        74\n",
      "                golem       0.46      0.40      0.43        97\n",
      "                waves       0.62      0.49      0.55        37\n",
      "               pundix       0.59      0.52      0.55        52\n",
      "              vechain       0.46      0.53      0.49        43\n",
      "                 nano       0.67      0.33      0.44        36\n",
      "            cosmocoin       0.63      0.42      0.51        40\n",
      "             loopring       0.67      0.78      0.72        55\n",
      "            ravencoin       0.52      0.55      0.53        22\n",
      "              horizen       0.00      0.00      0.00         7\n",
      "                 orbs       0.45      0.28      0.34        61\n",
      "               monero       0.59      0.53      0.56        68\n",
      "              latoken       0.53      0.58      0.55        71\n",
      "   paxosstandardtoken       0.45      0.39      0.42       109\n",
      "              inocoin       0.59      0.61      0.60        87\n",
      "                  xrp       0.58      0.50      0.54       132\n",
      "                  eos       0.52      0.72      0.60       225\n",
      "                 aion       0.41      0.34      0.37        92\n",
      "         celernetwork       0.52      0.43      0.47        69\n",
      "       singularitynet       0.53      0.38      0.44        97\n",
      "         thundertoken       0.47      0.32      0.38        77\n",
      "      ethereumclassic       0.41      0.32      0.36        82\n",
      "                ardor       0.47      0.16      0.23        45\n",
      "                 tron       0.48      0.46      0.47       128\n",
      "synthetixnetworktoken       0.67      0.49      0.57        89\n",
      "                   0x       0.50      0.52      0.51       110\n",
      "              zilliqa       0.00      0.00      0.00        22\n",
      "              nebulas       0.55      0.68      0.61        94\n",
      "                zcash       0.66      0.47      0.55        53\n",
      "         maidsafecoin       0.60      0.79      0.68       349\n",
      "                 dent       1.00      1.00      1.00         1\n",
      "                 nexo       0.59      0.57      0.58       107\n",
      "                solve       0.43      0.48      0.45        98\n",
      "             abbccoin       0.52      0.45      0.48        65\n",
      "                 iota       0.47      0.47      0.47        43\n",
      "          bitcoingold       0.58      0.22      0.32        32\n",
      "            enjincoin       0.42      0.30      0.35       146\n",
      "             bytecoin       0.54      0.40      0.46        52\n",
      "              omisego       0.03      0.03      0.03        80\n",
      "             ethereum       0.51      0.43      0.47        58\n",
      "                obyte       0.67      0.36      0.47        39\n",
      "             ontology       0.63      0.59      0.61       127\n",
      "              elastos       0.50      0.25      0.33         4\n",
      "         metaverseetp       0.47      0.43      0.45       102\n",
      "  basicattentiontoken       0.59      0.71      0.65       173\n",
      "         decentraland       0.55      0.47      0.51        59\n",
      "               komodo       0.65      0.39      0.49        44\n",
      "           bittorrent       0.51      0.50      0.50       263\n",
      "                theta       0.76      0.50      0.60        32\n",
      "    japancontenttoken       0.59      0.48      0.53        27\n",
      "               utrust       0.54      0.51      0.53        68\n",
      "                 tenx       0.55      0.41      0.47        69\n",
      "          binancecoin       0.54      0.42      0.47        36\n",
      "               factom       0.47      0.41      0.44        54\n",
      "              usdcoin       0.58      0.50      0.54        42\n",
      "       apollocurrency       0.59      0.73      0.65       258\n",
      "              skycoin       0.35      0.22      0.27        73\n",
      "               tether       0.71      0.43      0.54        23\n",
      "            bitshares       0.56      0.56      0.56        55\n",
      "                  wax       0.45      0.43      0.44       117\n",
      "             riftoken       0.54      0.68      0.60       177\n",
      "          waltonchain       0.55      0.34      0.42        53\n",
      "            #metahash       0.67      0.64      0.65        77\n",
      "            thetafuel       0.57      0.44      0.50        57\n",
      "            truechain       0.59      0.57      0.58        47\n",
      "                  nkn       0.56      0.30      0.39        66\n",
      "                  nem       0.08      0.05      0.06       132\n",
      "              bitcoin       0.14      0.13      0.13       132\n",
      "             dogecoin       0.60      0.60      0.60        47\n",
      "                maker       0.37      0.28      0.32        90\n",
      "                 lina       0.78      0.39      0.52        18\n",
      "          powerledger       0.62      0.50      0.55        66\n",
      "              stellar       0.44      0.34      0.39        58\n",
      "            cryptonex       0.48      0.49      0.48       157\n",
      "              particl       0.51      0.56      0.54       107\n",
      "              stratis       0.49      0.61      0.55        83\n",
      "                 dash       0.62      0.42      0.50        24\n",
      "                 holo       0.61      0.55      0.58        75\n",
      "              siacoin       0.51      0.62      0.56        37\n",
      "                 icon       0.55      0.92      0.69       679\n",
      "               cosmos       0.51      0.48      0.49       121\n",
      "\n",
      "             accuracy                           0.52      8538\n",
      "            macro avg       0.52      0.45      0.47      8538\n",
      "         weighted avg       0.51      0.52      0.51      8538\n",
      "\n"
     ]
    }
   ],
   "source": [
    "y_pred = sgd.predict(X_test)\n",
    "\n",
    "print('accuracy %s' % accuracy_score(y_pred, y_test))\n",
    "print(classification_report(y_test, y_pred,target_names=labels))"
   ]
  },
  {
   "cell_type": "code",
   "execution_count": 18,
   "metadata": {},
   "outputs": [
    {
     "data": {
      "text/plain": [
       "Pipeline(memory=None,\n",
       "         steps=[('vect',\n",
       "                 CountVectorizer(analyzer='word', binary=False,\n",
       "                                 decode_error='strict',\n",
       "                                 dtype=<class 'numpy.int64'>, encoding='utf-8',\n",
       "                                 input='content', lowercase=True, max_df=1.0,\n",
       "                                 max_features=None, min_df=1,\n",
       "                                 ngram_range=(1, 1), preprocessor=None,\n",
       "                                 stop_words=None, strip_accents=None,\n",
       "                                 token_pattern='(?u)\\\\b\\\\w\\\\w+\\\\b',\n",
       "                                 tokenizer=None, vocabulary=None)),\n",
       "                ('tfidf',\n",
       "                 TfidfTransformer(norm='l2', smooth_idf=True,\n",
       "                                  sublinear_tf=False, use_idf=True)),\n",
       "                ('clf',\n",
       "                 LogisticRegression(C=100000.0, class_weight=None, dual=False,\n",
       "                                    fit_intercept=True, intercept_scaling=1,\n",
       "                                    l1_ratio=None, max_iter=100,\n",
       "                                    multi_class='warn', n_jobs=1, penalty='l2',\n",
       "                                    random_state=None, solver='warn',\n",
       "                                    tol=0.0001, verbose=0, warm_start=False))],\n",
       "         verbose=False)"
      ]
     },
     "execution_count": 18,
     "metadata": {},
     "output_type": "execute_result"
    }
   ],
   "source": [
    "# We will also test a Logistic Regression classifier\n",
    "logreg = Pipeline([('vect', CountVectorizer()),\n",
    "                ('tfidf', TfidfTransformer()),\n",
    "                ('clf', LogisticRegression(n_jobs=1, C=1e5)),\n",
    "               ])\n",
    "logreg.fit(X_train, y_train)"
   ]
  },
  {
   "cell_type": "code",
   "execution_count": 19,
   "metadata": {},
   "outputs": [
    {
     "name": "stdout",
     "output_type": "stream",
     "text": [
      "accuracy 0.4492855469665027\n",
      "                       precision    recall  f1-score   support\n",
      "\n",
      "                bytom       0.42      0.45      0.44       105\n",
      "               crypto       0.40      0.39      0.40        51\n",
      "               fantom       0.29      0.18      0.22        50\n",
      "                steem       0.45      0.51      0.48        99\n",
      "               status       0.62      0.42      0.50        31\n",
      "                metal       0.53      0.46      0.49        93\n",
      "            chainlink       0.38      0.34      0.36       154\n",
      "               gnosis       0.46      0.48      0.47       124\n",
      "                mixin       0.29      0.30      0.30        40\n",
      "             wanchain       0.16      0.17      0.17        35\n",
      "             hyperion       0.26      0.21      0.23        29\n",
      "                  dai       0.33      0.20      0.25        25\n",
      "            hypercash       0.50      0.19      0.27        16\n",
      "                  ark       0.57      0.51      0.54        61\n",
      "                tezos       0.06      0.06      0.06        80\n",
      "              gxchain       0.48      0.34      0.40        38\n",
      "             iexecrlc       0.54      0.51      0.52       187\n",
      "             digixdao       0.57      0.58      0.57       147\n",
      "              bhpcoin       0.52      0.38      0.44        74\n",
      "                golem       0.51      0.38      0.44        97\n",
      "                waves       0.55      0.46      0.50        37\n",
      "               pundix       0.80      0.31      0.44        52\n",
      "              vechain       0.75      0.49      0.59        43\n",
      "                 nano       0.25      0.19      0.22        36\n",
      "            cosmocoin       0.45      0.25      0.32        40\n",
      "             loopring       0.77      0.62      0.69        55\n",
      "            ravencoin       0.62      0.45      0.53        22\n",
      "              horizen       0.33      0.14      0.20         7\n",
      "                 orbs       0.37      0.31      0.34        61\n",
      "               monero       0.63      0.43      0.51        68\n",
      "              latoken       0.42      0.48      0.45        71\n",
      "   paxosstandardtoken       0.28      0.30      0.29       109\n",
      "              inocoin       0.63      0.56      0.59        87\n",
      "                  xrp       0.44      0.48      0.46       132\n",
      "                  eos       0.66      0.74      0.70       225\n",
      "                 aion       0.38      0.22      0.28        92\n",
      "         celernetwork       0.56      0.48      0.52        69\n",
      "       singularitynet       0.36      0.32      0.34        97\n",
      "         thundertoken       0.43      0.39      0.41        77\n",
      "      ethereumclassic       0.33      0.35      0.34        82\n",
      "                ardor       0.18      0.20      0.19        45\n",
      "                 tron       0.31      0.39      0.35       128\n",
      "synthetixnetworktoken       0.21      0.42      0.28        89\n",
      "                   0x       0.48      0.39      0.43       110\n",
      "              zilliqa       0.13      0.09      0.11        22\n",
      "              nebulas       0.60      0.49      0.54        94\n",
      "                zcash       0.71      0.42      0.52        53\n",
      "         maidsafecoin       0.56      0.60      0.58       349\n",
      "                 dent       1.00      1.00      1.00         1\n",
      "                 nexo       0.40      0.52      0.46       107\n",
      "                solve       0.39      0.37      0.38        98\n",
      "             abbccoin       0.49      0.32      0.39        65\n",
      "                 iota       0.53      0.44      0.48        43\n",
      "          bitcoingold       0.32      0.34      0.33        32\n",
      "            enjincoin       0.23      0.25      0.24       146\n",
      "             bytecoin       0.27      0.35      0.31        52\n",
      "              omisego       0.01      0.01      0.01        80\n",
      "             ethereum       0.45      0.36      0.40        58\n",
      "                obyte       0.56      0.36      0.44        39\n",
      "             ontology       0.54      0.54      0.54       127\n",
      "              elastos       0.50      0.25      0.33         4\n",
      "         metaverseetp       0.51      0.34      0.41       102\n",
      "  basicattentiontoken       0.56      0.58      0.57       173\n",
      "         decentraland       0.80      0.41      0.54        59\n",
      "               komodo       0.68      0.39      0.49        44\n",
      "           bittorrent       0.36      0.43      0.39       263\n",
      "                theta       0.74      0.62      0.68        32\n",
      "    japancontenttoken       0.47      0.30      0.36        27\n",
      "               utrust       0.19      0.47      0.27        68\n",
      "                 tenx       0.25      0.41      0.31        69\n",
      "          binancecoin       0.61      0.47      0.53        36\n",
      "               factom       0.38      0.30      0.33        54\n",
      "              usdcoin       0.74      0.40      0.52        42\n",
      "       apollocurrency       0.57      0.61      0.59       258\n",
      "              skycoin       0.29      0.22      0.25        73\n",
      "               tether       0.57      0.35      0.43        23\n",
      "            bitshares       0.54      0.53      0.53        55\n",
      "                  wax       0.41      0.37      0.39       117\n",
      "             riftoken       0.62      0.60      0.61       177\n",
      "          waltonchain       0.36      0.34      0.35        53\n",
      "            #metahash       0.62      0.55      0.58        77\n",
      "            thetafuel       0.47      0.37      0.41        57\n",
      "            truechain       0.78      0.45      0.57        47\n",
      "                  nkn       0.35      0.32      0.33        66\n",
      "                  nem       0.05      0.06      0.05       132\n",
      "              bitcoin       0.03      0.04      0.03       132\n",
      "             dogecoin       0.64      0.62      0.63        47\n",
      "                maker       0.25      0.32      0.28        90\n",
      "                 lina       0.40      0.22      0.29        18\n",
      "          powerledger       0.55      0.48      0.52        66\n",
      "              stellar       0.21      0.33      0.26        58\n",
      "            cryptonex       0.26      0.39      0.31       157\n",
      "              particl       0.27      0.42      0.33       107\n",
      "              stratis       0.45      0.41      0.43        83\n",
      "                 dash       0.64      0.38      0.47        24\n",
      "                 holo       0.58      0.49      0.53        75\n",
      "              siacoin       0.86      0.49      0.62        37\n",
      "                 icon       0.79      0.80      0.80       679\n",
      "               cosmos       0.49      0.47      0.48       121\n",
      "\n",
      "             accuracy                           0.45      8538\n",
      "            macro avg       0.46      0.39      0.41      8538\n",
      "         weighted avg       0.47      0.45      0.45      8538\n",
      "\n"
     ]
    }
   ],
   "source": [
    "y_pred = logreg.predict(X_test)\n",
    "\n",
    "print('accuracy %s' % accuracy_score(y_pred, y_test))\n",
    "print(classification_report(y_test, y_pred,target_names=labels))"
   ]
  },
  {
   "cell_type": "code",
   "execution_count": 20,
   "metadata": {},
   "outputs": [],
   "source": [
    "# Last, we will also try a Neural Network, to see which one behaves better\n",
    "\n",
    "# We define the max of words that our Tokenizer will have\n",
    "max_words = 15000\n",
    "tokenize = text.Tokenizer(num_words=max_words, char_level=False)"
   ]
  },
  {
   "cell_type": "code",
   "execution_count": 21,
   "metadata": {},
   "outputs": [],
   "source": [
    "# Fit the tokenizer with our Train dataset, and then transform it to generate our Numeric Matrix\n",
    "tokenize.fit_on_texts(X_train)\n",
    "X_train = tokenize.texts_to_matrix(X_train)\n",
    "X_test = tokenize.texts_to_matrix(X_test)"
   ]
  },
  {
   "cell_type": "code",
   "execution_count": 22,
   "metadata": {},
   "outputs": [],
   "source": [
    "# For the Neural Network, we need our labels to be numerical as well\n",
    "encoder = LabelEncoder()\n",
    "encoder.fit(y_train)\n",
    "y_train = encoder.transform(y_train)\n",
    "y_test = encoder.transform(y_test)"
   ]
  },
  {
   "cell_type": "code",
   "execution_count": 23,
   "metadata": {},
   "outputs": [],
   "source": [
    "# We define the number of classes that the network would train on\n",
    "num_classes = np.max(y_train) + 1\n",
    "y_train = utils.to_categorical(y_train, num_classes)\n",
    "y_test = utils.to_categorical(y_test, num_classes)"
   ]
  },
  {
   "cell_type": "code",
   "execution_count": 24,
   "metadata": {},
   "outputs": [
    {
     "name": "stdout",
     "output_type": "stream",
     "text": [
      "x_train shape: (34150, 15000)\n",
      "x_test shape: (8538, 15000)\n",
      "y_train shape: (34150, 99)\n",
      "y_test shape: (8538, 99)\n"
     ]
    }
   ],
   "source": [
    "print('x_train shape:', X_train.shape)\n",
    "print('x_test shape:', X_test.shape)\n",
    "print('y_train shape:', y_train.shape)\n",
    "print('y_test shape:', y_test.shape)"
   ]
  },
  {
   "cell_type": "code",
   "execution_count": 25,
   "metadata": {},
   "outputs": [],
   "source": [
    "batch_size = 32\n",
    "epochs = 5"
   ]
  },
  {
   "cell_type": "code",
   "execution_count": 26,
   "metadata": {},
   "outputs": [
    {
     "name": "stdout",
     "output_type": "stream",
     "text": [
      "Train on 30735 samples, validate on 3415 samples\n",
      "Epoch 1/5\n",
      "30735/30735 [==============================] - 69s 2ms/step - loss: 3.1657 - acc: 0.3194 - val_loss: 2.2599 - val_acc: 0.5075\n",
      "Epoch 2/5\n",
      "30735/30735 [==============================] - 165s 5ms/step - loss: 1.6973 - acc: 0.6062 - val_loss: 1.8943 - val_acc: 0.5570\n",
      "Epoch 3/5\n",
      "30735/30735 [==============================] - 214s 7ms/step - loss: 1.1069 - acc: 0.7302 - val_loss: 1.8089 - val_acc: 0.5570\n",
      "Epoch 4/5\n",
      " 1376/30735 [>.............................] - ETA: 3:37 - loss: 0.7956 - acc: 0.8089"
     ]
    },
    {
     "name": "stderr",
     "output_type": "stream",
     "text": [
      "IOPub message rate exceeded.\n",
      "The notebook server will temporarily stop sending output\n",
      "to the client in order to avoid crashing it.\n",
      "To change this limit, set the config variable\n",
      "`--NotebookApp.iopub_msg_rate_limit`.\n",
      "\n",
      "Current values:\n",
      "NotebookApp.iopub_msg_rate_limit=1000.0 (msgs/sec)\n",
      "NotebookApp.rate_limit_window=3.0 (secs)\n",
      "\n"
     ]
    }
   ],
   "source": [
    "# Build the Neural Network Model\n",
    "model = Sequential()\n",
    "model.add(Dense(512, input_shape=(max_words,)))\n",
    "model.add(Activation('relu'))\n",
    "model.add(Dropout(0.5))\n",
    "model.add(Dense(num_classes))\n",
    "model.add(Activation('softmax'))\n",
    "\n",
    "model.compile(loss='categorical_crossentropy',\n",
    "              optimizer='adam',\n",
    "              metrics=['accuracy'])\n",
    "\n",
    "history = model.fit(X_train, y_train,\n",
    "                batch_size=batch_size,\n",
    "                epochs=epochs,\n",
    "                validation_split=0.1)"
   ]
  },
  {
   "cell_type": "code",
   "execution_count": 27,
   "metadata": {},
   "outputs": [
    {
     "name": "stdout",
     "output_type": "stream",
     "text": [
      "8538/8538 [==============================] - 1s 139us/step\n",
      "Test accuracy: 0.5685172171049862\n"
     ]
    }
   ],
   "source": [
    "# Test the accuracy of the model\n",
    "score = model.evaluate(X_test, y_test,\n",
    "                       batch_size=batch_size, verbose=1)\n",
    "print('Test accuracy:', score[1])"
   ]
  },
  {
   "cell_type": "markdown",
   "metadata": {},
   "source": [
    "At the end, for the four Models tested, the one that had better performance was the Neural Network, so it will be our reference model."
   ]
  },
  {
   "cell_type": "code",
   "execution_count": 28,
   "metadata": {},
   "outputs": [],
   "source": [
    "# Saving the weights\n",
    "model.save(os.path.join(MODEL_DIR, \"model_blockchain_softmax.h5\"))"
   ]
  },
  {
   "cell_type": "markdown",
   "metadata": {},
   "source": [
    "### Text Classification with Investors Dimension\n",
    "\n",
    "This model will be a simple Logistic Regression model that extract, from a very small Train dataset, keywords for each of the Investors Dimensions. Then, for test data, we \"predict\" the Investor Dimension topic that it's mentioned on each sentence, and we can assess visually."
   ]
  },
  {
   "cell_type": "code",
   "execution_count": 29,
   "metadata": {},
   "outputs": [],
   "source": [
    "# First, we define the path where our Train dataset is located\n",
    "TRAIN_DIR = os.path.join(ROOT_DIR, \"dataset\")\n",
    "TRAIN_CSV = os.path.join(TRAIN_DIR, \"train.csv\")"
   ]
  },
  {
   "cell_type": "code",
   "execution_count": 30,
   "metadata": {},
   "outputs": [],
   "source": [
    "# Read the csv and load it on a DataFrame\n",
    "df = pd.read_csv(TRAIN_CSV, sep=';', encoding=\"utf-8-sig\")"
   ]
  },
  {
   "cell_type": "code",
   "execution_count": 31,
   "metadata": {},
   "outputs": [],
   "source": [
    "# Lower all the words\n",
    "df.Label = df.Label.apply(lambda x : x.lower())"
   ]
  },
  {
   "cell_type": "code",
   "execution_count": 32,
   "metadata": {},
   "outputs": [],
   "source": [
    "# Define the labels and also the Train dataset\n",
    "labels = df.groupby(by='Label').count().sort_values(by='Label').reset_index()['Label']\n",
    "\n",
    "X_train = df[\"Text\"]\n",
    "y_train = df[\"Label\"]"
   ]
  },
  {
   "cell_type": "code",
   "execution_count": 33,
   "metadata": {},
   "outputs": [],
   "source": [
    "# We need to add another category, in case there is no topic mentioned on the sentence\n",
    "X_train[len(X_train)+1] = \"\"\n",
    "y_train[len(y_train)+1] = \"none\""
   ]
  },
  {
   "cell_type": "code",
   "execution_count": 34,
   "metadata": {},
   "outputs": [
    {
     "data": {
      "text/plain": [
       "Pipeline(memory=None,\n",
       "         steps=[('vect',\n",
       "                 CountVectorizer(analyzer='word', binary=False,\n",
       "                                 decode_error='strict',\n",
       "                                 dtype=<class 'numpy.int64'>, encoding='utf-8',\n",
       "                                 input='content', lowercase=True, max_df=1.0,\n",
       "                                 max_features=None, min_df=1,\n",
       "                                 ngram_range=(1, 1), preprocessor=None,\n",
       "                                 stop_words=None, strip_accents=None,\n",
       "                                 token_pattern='(?u)\\\\b\\\\w\\\\w+\\\\b',\n",
       "                                 tokenizer=None, vocabulary=None)),\n",
       "                ('tfidf',\n",
       "                 TfidfTransformer(norm='l2', smooth_idf=True,\n",
       "                                  sublinear_tf=False, use_idf=True)),\n",
       "                ('clf',\n",
       "                 LogisticRegression(C=100000.0, class_weight=None, dual=False,\n",
       "                                    fit_intercept=True, intercept_scaling=1,\n",
       "                                    l1_ratio=None, max_iter=100,\n",
       "                                    multi_class='warn', n_jobs=1, penalty='l2',\n",
       "                                    random_state=None, solver='warn',\n",
       "                                    tol=0.0001, verbose=0, warm_start=False))],\n",
       "         verbose=False)"
      ]
     },
     "execution_count": 34,
     "metadata": {},
     "output_type": "execute_result"
    }
   ],
   "source": [
    "# We train a really simple Logistic Regression\n",
    "logreg = Pipeline([('vect', CountVectorizer()),\n",
    "                ('tfidf', TfidfTransformer()),\n",
    "                ('clf', LogisticRegression(n_jobs=1, C=1e5)),\n",
    "               ])\n",
    "logreg.fit(X_train, y_train)"
   ]
  },
  {
   "cell_type": "code",
   "execution_count": 35,
   "metadata": {
    "scrolled": true
   },
   "outputs": [
    {
     "data": {
      "text/plain": [
       "array(['legal'], dtype=object)"
      ]
     },
     "execution_count": 35,
     "metadata": {},
     "output_type": "execute_result"
    }
   ],
   "source": [
    "# Test roughly the functionality\n",
    "logreg.predict([\"I am risk.\"])"
   ]
  },
  {
   "cell_type": "markdown",
   "metadata": {},
   "source": [
    "## 4 - Outcome"
   ]
  },
  {
   "cell_type": "markdown",
   "metadata": {},
   "source": [
    "### Input"
   ]
  },
  {
   "cell_type": "code",
   "execution_count": 36,
   "metadata": {},
   "outputs": [],
   "source": [
    "test = pdf2text.get_dataset(path=TEST_DIR)"
   ]
  },
  {
   "cell_type": "code",
   "execution_count": 37,
   "metadata": {},
   "outputs": [
    {
     "name": "stderr",
     "output_type": "stream",
     "text": [
      "[nltk_data] Downloading package punkt to\n",
      "[nltk_data]     /home/diego_conejo/nltk_data...\n",
      "[nltk_data]   Package punkt is already up-to-date!\n",
      "[nltk_data] Downloading package stopwords to\n",
      "[nltk_data]     /home/diego_conejo/nltk_data...\n",
      "[nltk_data]   Package stopwords is already up-to-date!\n",
      "[nltk_data] Downloading package averaged_perceptron_tagger to\n",
      "[nltk_data]     /home/diego_conejo/nltk_data...\n",
      "[nltk_data]   Package averaged_perceptron_tagger is already up-to-\n",
      "[nltk_data]       date!\n",
      "[nltk_data] Downloading package wordnet to\n",
      "[nltk_data]     /home/diego_conejo/nltk_data...\n",
      "[nltk_data]   Package wordnet is already up-to-date!\n",
      "[nltk_data] Error loading en_core_web_md: Package 'en_core_web_md' not\n",
      "[nltk_data]     found in index\n"
     ]
    },
    {
     "name": "stdout",
     "output_type": "stream",
     "text": [
      "Cleaning: budbo\n",
      "Cleaning: adcoin\n",
      "Cleaning: kwattcoin\n",
      "Cleaning: oceanprotocol\n",
      "Done!\n"
     ]
    }
   ],
   "source": [
    "# Define if you want your corpus to be whole or divided in sentences\n",
    "makeSentences = True\n",
    "# Creates a dictionary with each White Paper and its text pre-processed\n",
    "corpora_test_sent = corpus.makeCleanCorpus(test, lemmatize=True, removePunct=True, removeNums=True\n",
    "                                 ,makeSentences=makeSentences, removeURL=True, removeChar=True, removeEnt=True)"
   ]
  },
  {
   "cell_type": "code",
   "execution_count": 38,
   "metadata": {},
   "outputs": [
    {
     "name": "stderr",
     "output_type": "stream",
     "text": [
      "[nltk_data] Downloading package punkt to\n",
      "[nltk_data]     /home/diego_conejo/nltk_data...\n",
      "[nltk_data]   Package punkt is already up-to-date!\n",
      "[nltk_data] Downloading package stopwords to\n",
      "[nltk_data]     /home/diego_conejo/nltk_data...\n",
      "[nltk_data]   Package stopwords is already up-to-date!\n",
      "[nltk_data] Downloading package averaged_perceptron_tagger to\n",
      "[nltk_data]     /home/diego_conejo/nltk_data...\n",
      "[nltk_data]   Package averaged_perceptron_tagger is already up-to-\n",
      "[nltk_data]       date!\n",
      "[nltk_data] Downloading package wordnet to\n",
      "[nltk_data]     /home/diego_conejo/nltk_data...\n",
      "[nltk_data]   Package wordnet is already up-to-date!\n",
      "[nltk_data] Error loading en_core_web_md: Package 'en_core_web_md' not\n",
      "[nltk_data]     found in index\n"
     ]
    },
    {
     "name": "stdout",
     "output_type": "stream",
     "text": [
      "Cleaning: budbo\n",
      "Cleaning: adcoin\n",
      "Cleaning: kwattcoin\n",
      "Cleaning: oceanprotocol\n",
      "Done!\n"
     ]
    }
   ],
   "source": [
    "# Define if you want your corpus to be whole or divided in sentences\n",
    "makeSentences = False\n",
    "# Creates a dictionary with each White Paper and its text pre-processed\n",
    "corpora_test_whole = corpus.makeCleanCorpus(test, lemmatize=True, removePunct=True, removeNums=True\n",
    "                                 ,makeSentences=makeSentences, removeURL=True, removeChar=True, removeEnt=True)"
   ]
  },
  {
   "cell_type": "code",
   "execution_count": 39,
   "metadata": {},
   "outputs": [],
   "source": [
    "df_test_1 = pd.DataFrame.from_dict(corpora_test_whole,orient=\"index\").reset_index()\n",
    "\n",
    "df_test_1.columns = [\"Protocol\", \"Text\"]"
   ]
  },
  {
   "cell_type": "code",
   "execution_count": 40,
   "metadata": {},
   "outputs": [],
   "source": [
    "# Define a Data Frame to put all the corpora_sent into a Pandas dataframe\n",
    "df_test_2 = pd.DataFrame(columns=[\"Text\",\"Protocol\"])"
   ]
  },
  {
   "cell_type": "code",
   "execution_count": 41,
   "metadata": {},
   "outputs": [],
   "source": [
    "# Iterate over each white paper, and on each sentence, and add it to the Dataframe\n",
    "i=0\n",
    "for k, v in enumerate(corpora_test_sent):\n",
    "    for sent in corpora_test_sent[v]:\n",
    "        df_test_2.loc[i, \"Text\"] = sent\n",
    "        df_test_2.loc[i, \"Protocol\"] = v\n",
    "        i += 1"
   ]
  },
  {
   "cell_type": "code",
   "execution_count": 42,
   "metadata": {},
   "outputs": [
    {
     "data": {
      "text/plain": [
       "(1988, 2)"
      ]
     },
     "execution_count": 42,
     "metadata": {},
     "output_type": "execute_result"
    }
   ],
   "source": [
    "df_test_2.shape"
   ]
  },
  {
   "cell_type": "markdown",
   "metadata": {},
   "source": [
    "### Models/Methods"
   ]
  },
  {
   "cell_type": "code",
   "execution_count": 43,
   "metadata": {},
   "outputs": [],
   "source": [
    "# First, we define our test dataframe\n",
    "X_test = df_test_1[\"Text\"]\n",
    "\n",
    "# For the first model, we need to tokenize the text\n",
    "X_test = tokenize.texts_to_matrix(X_test)"
   ]
  },
  {
   "cell_type": "code",
   "execution_count": 46,
   "metadata": {},
   "outputs": [],
   "source": [
    "# We load our Neural Network from previous model weights\n",
    "model = load_model(os.path.join(MODEL_DIR, \"model_blockchain_softmax.h5\"))"
   ]
  },
  {
   "cell_type": "code",
   "execution_count": 47,
   "metadata": {},
   "outputs": [],
   "source": [
    "# Predict\n",
    "predict_nn = model.predict(X_test)"
   ]
  },
  {
   "cell_type": "code",
   "execution_count": 48,
   "metadata": {},
   "outputs": [
    {
     "data": {
      "text/plain": [
       "(4, 2)"
      ]
     },
     "execution_count": 48,
     "metadata": {},
     "output_type": "execute_result"
    }
   ],
   "source": [
    "df_test_1.shape"
   ]
  },
  {
   "cell_type": "code",
   "execution_count": 49,
   "metadata": {},
   "outputs": [
    {
     "data": {
      "text/plain": [
       "(4, 99)"
      ]
     },
     "execution_count": 49,
     "metadata": {},
     "output_type": "execute_result"
    }
   ],
   "source": [
    "predict_nn.shape"
   ]
  },
  {
   "cell_type": "code",
   "execution_count": 50,
   "metadata": {},
   "outputs": [],
   "source": [
    "# Add into the DataFrame\n",
    "df_test_1[\"Model_1\"] = predict_nn.tolist()"
   ]
  },
  {
   "cell_type": "code",
   "execution_count": 51,
   "metadata": {},
   "outputs": [],
   "source": [
    "# First, we define our test dataframe\n",
    "X_test = df_test_2[\"Text\"]\n",
    "\n",
    "# Then, for the second model, we predict it\n",
    "predict_logreg = logreg.predict(X_test)"
   ]
  },
  {
   "cell_type": "code",
   "execution_count": 52,
   "metadata": {},
   "outputs": [],
   "source": [
    "# Add into the Dataframe\n",
    "df_test_2[\"Model_2\"] = predict_logreg"
   ]
  },
  {
   "cell_type": "code",
   "execution_count": 53,
   "metadata": {},
   "outputs": [
    {
     "data": {
      "text/html": [
       "<div>\n",
       "<style scoped>\n",
       "    .dataframe tbody tr th:only-of-type {\n",
       "        vertical-align: middle;\n",
       "    }\n",
       "\n",
       "    .dataframe tbody tr th {\n",
       "        vertical-align: top;\n",
       "    }\n",
       "\n",
       "    .dataframe thead th {\n",
       "        text-align: right;\n",
       "    }\n",
       "</style>\n",
       "<table border=\"1\" class=\"dataframe\">\n",
       "  <thead>\n",
       "    <tr style=\"text-align: right;\">\n",
       "      <th></th>\n",
       "      <th>Text</th>\n",
       "      <th>Protocol</th>\n",
       "      <th>Model_2</th>\n",
       "    </tr>\n",
       "  </thead>\n",
       "  <tbody>\n",
       "    <tr>\n",
       "      <th>0</th>\n",
       "      <td>global cannabis comehensive solution cannabis ...</td>\n",
       "      <td>budbo</td>\n",
       "      <td>product</td>\n",
       "    </tr>\n",
       "    <tr>\n",
       "      <th>1</th>\n",
       "      <td>...</td>\n",
       "      <td>budbo</td>\n",
       "      <td>none</td>\n",
       "    </tr>\n",
       "    <tr>\n",
       "      <th>2</th>\n",
       "      <td>platform ecosystem                            ...</td>\n",
       "      <td>budbo</td>\n",
       "      <td>roadmap</td>\n",
       "    </tr>\n",
       "    <tr>\n",
       "      <th>3</th>\n",
       "      <td>case                                          ...</td>\n",
       "      <td>budbo</td>\n",
       "      <td>financial</td>\n",
       "    </tr>\n",
       "    <tr>\n",
       "      <th>4</th>\n",
       "      <td>token description                             ...</td>\n",
       "      <td>budbo</td>\n",
       "      <td>none</td>\n",
       "    </tr>\n",
       "  </tbody>\n",
       "</table>\n",
       "</div>"
      ],
      "text/plain": [
       "                                                Text Protocol    Model_2\n",
       "0  global cannabis comehensive solution cannabis ...    budbo    product\n",
       "1                                                ...    budbo       none\n",
       "2  platform ecosystem                            ...    budbo    roadmap\n",
       "3  case                                          ...    budbo  financial\n",
       "4  token description                             ...    budbo       none"
      ]
     },
     "execution_count": 53,
     "metadata": {},
     "output_type": "execute_result"
    }
   ],
   "source": [
    "df_test_2.head()"
   ]
  },
  {
   "cell_type": "markdown",
   "metadata": {},
   "source": [
    "### Output"
   ]
  },
  {
   "cell_type": "code",
   "execution_count": 54,
   "metadata": {},
   "outputs": [
    {
     "data": {
      "text/html": [
       "<div>\n",
       "<style scoped>\n",
       "    .dataframe tbody tr th:only-of-type {\n",
       "        vertical-align: middle;\n",
       "    }\n",
       "\n",
       "    .dataframe tbody tr th {\n",
       "        vertical-align: top;\n",
       "    }\n",
       "\n",
       "    .dataframe thead th {\n",
       "        text-align: right;\n",
       "    }\n",
       "</style>\n",
       "<table border=\"1\" class=\"dataframe\">\n",
       "  <thead>\n",
       "    <tr style=\"text-align: right;\">\n",
       "      <th></th>\n",
       "      <th>Protocol</th>\n",
       "      <th>Text</th>\n",
       "      <th>Model_1</th>\n",
       "    </tr>\n",
       "  </thead>\n",
       "  <tbody>\n",
       "    <tr>\n",
       "      <th>0</th>\n",
       "      <td>budbo</td>\n",
       "      <td>global cannabis comehensive solution cannabis ...</td>\n",
       "      <td>[0.0, 0.0, 1.5689744395763696e-34, 0.0, 7.4892...</td>\n",
       "    </tr>\n",
       "    <tr>\n",
       "      <th>1</th>\n",
       "      <td>adcoin</td>\n",
       "      <td>version offer lot great opportunity technologi...</td>\n",
       "      <td>[0.0, 0.0, 2.154397952836007e-05, 0.0, 0.07062...</td>\n",
       "    </tr>\n",
       "    <tr>\n",
       "      <th>2</th>\n",
       "      <td>kwattcoin</td>\n",
       "      <td>newwhitepaper disclaimer document document con...</td>\n",
       "      <td>[0.0, 0.0, 5.1112379268810075e-18, 0.0, 8.2914...</td>\n",
       "    </tr>\n",
       "    <tr>\n",
       "      <th>3</th>\n",
       "      <td>oceanprotocol</td>\n",
       "      <td>decentralize substrate service technical found...</td>\n",
       "      <td>[0.0, 0.0, 0.0, 0.0, 0.0, 0.0, 0.0, 0.0, 0.0, ...</td>\n",
       "    </tr>\n",
       "  </tbody>\n",
       "</table>\n",
       "</div>"
      ],
      "text/plain": [
       "        Protocol                                               Text  \\\n",
       "0          budbo  global cannabis comehensive solution cannabis ...   \n",
       "1         adcoin  version offer lot great opportunity technologi...   \n",
       "2      kwattcoin  newwhitepaper disclaimer document document con...   \n",
       "3  oceanprotocol  decentralize substrate service technical found...   \n",
       "\n",
       "                                             Model_1  \n",
       "0  [0.0, 0.0, 1.5689744395763696e-34, 0.0, 7.4892...  \n",
       "1  [0.0, 0.0, 2.154397952836007e-05, 0.0, 0.07062...  \n",
       "2  [0.0, 0.0, 5.1112379268810075e-18, 0.0, 8.2914...  \n",
       "3  [0.0, 0.0, 0.0, 0.0, 0.0, 0.0, 0.0, 0.0, 0.0, ...  "
      ]
     },
     "execution_count": 54,
     "metadata": {},
     "output_type": "execute_result"
    }
   ],
   "source": [
    "# Model 1\n",
    "\n",
    "df_test_1.head()"
   ]
  },
  {
   "cell_type": "code",
   "execution_count": 55,
   "metadata": {},
   "outputs": [],
   "source": [
    "# Generate the Labels, with the name of each White Paper\n",
    "labels = list(corpora_sent.keys())"
   ]
  },
  {
   "cell_type": "code",
   "execution_count": 56,
   "metadata": {},
   "outputs": [
    {
     "data": {
      "image/png": "[encoded data removed]",
      "text/plain": [
       "<Figure size 432x288 with 1 Axes>"
      ]
     },
     "metadata": {},
     "output_type": "display_data"
    },
    {
     "data": {
      "image/png": "[encoded data removed]",
      "text/plain": [
       "<Figure size 432x288 with 1 Axes>"
      ]
     },
     "metadata": {},
     "output_type": "display_data"
    },
    {
     "data": {
      "image/png": "[encoded data removed]",
      "text/plain": [
       "<Figure size 432x288 with 1 Axes>"
      ]
     },
     "metadata": {},
     "output_type": "display_data"
    },
    {
     "data": {
      "image/png": "[encoded data removed]",
      "text/plain": [
       "<Figure size 432x288 with 1 Axes>"
      ]
     },
     "metadata": {},
     "output_type": "display_data"
    }
   ],
   "source": [
    "pd.options.display.float_format = '{}'.format\n",
    "import matplotlib.pyplot as plt\n",
    "for index, row in df_test_1.iterrows():\n",
    "    frame = pd.DataFrame()\n",
    "    frame[\"weights\"] = row[\"Model_1\"]\n",
    "    frame[\"label\"] = labels\n",
    "    frame = frame.sort_values(by=\"weights\", ascending=False)\n",
    "    frame = frame.head(5)\n",
    "    plt.bar(frame.label, frame.weights)\n",
    "    plt.title(row[\"Protocol\"]) \n",
    "    plt.xlabel(\"Train Protocols\")\n",
    "    plt.ylabel(\"% Likelihood\")\n",
    "    plt.show()"
   ]
  },
  {
   "cell_type": "code",
   "execution_count": 57,
   "metadata": {},
   "outputs": [
    {
     "data": {
      "text/html": [
       "<div>\n",
       "<style scoped>\n",
       "    .dataframe tbody tr th:only-of-type {\n",
       "        vertical-align: middle;\n",
       "    }\n",
       "\n",
       "    .dataframe tbody tr th {\n",
       "        vertical-align: top;\n",
       "    }\n",
       "\n",
       "    .dataframe thead th {\n",
       "        text-align: right;\n",
       "    }\n",
       "</style>\n",
       "<table border=\"1\" class=\"dataframe\">\n",
       "  <thead>\n",
       "    <tr style=\"text-align: right;\">\n",
       "      <th></th>\n",
       "      <th>Text</th>\n",
       "      <th>Protocol</th>\n",
       "      <th>Model_2</th>\n",
       "    </tr>\n",
       "  </thead>\n",
       "  <tbody>\n",
       "    <tr>\n",
       "      <th>0</th>\n",
       "      <td>global cannabis comehensive solution cannabis ...</td>\n",
       "      <td>budbo</td>\n",
       "      <td>product</td>\n",
       "    </tr>\n",
       "    <tr>\n",
       "      <th>1</th>\n",
       "      <td>...</td>\n",
       "      <td>budbo</td>\n",
       "      <td>none</td>\n",
       "    </tr>\n",
       "    <tr>\n",
       "      <th>2</th>\n",
       "      <td>platform ecosystem                            ...</td>\n",
       "      <td>budbo</td>\n",
       "      <td>roadmap</td>\n",
       "    </tr>\n",
       "    <tr>\n",
       "      <th>3</th>\n",
       "      <td>case                                          ...</td>\n",
       "      <td>budbo</td>\n",
       "      <td>financial</td>\n",
       "    </tr>\n",
       "    <tr>\n",
       "      <th>4</th>\n",
       "      <td>token description                             ...</td>\n",
       "      <td>budbo</td>\n",
       "      <td>none</td>\n",
       "    </tr>\n",
       "  </tbody>\n",
       "</table>\n",
       "</div>"
      ],
      "text/plain": [
       "                                                Text Protocol    Model_2\n",
       "0  global cannabis comehensive solution cannabis ...    budbo    product\n",
       "1                                                ...    budbo       none\n",
       "2  platform ecosystem                            ...    budbo    roadmap\n",
       "3  case                                          ...    budbo  financial\n",
       "4  token description                             ...    budbo       none"
      ]
     },
     "execution_count": 57,
     "metadata": {},
     "output_type": "execute_result"
    }
   ],
   "source": [
    "#Model 2\n",
    "df_test_2.head()"
   ]
  },
  {
   "cell_type": "code",
   "execution_count": 58,
   "metadata": {},
   "outputs": [],
   "source": [
    "budbo = df_test_2[df_test_2.Protocol == 'budbo'].groupby(by=\"Model_2\").count().sort_values(by=\"Text\", ascending=False)\n",
    "budbo['percentage'] = budbo['Text']/budbo['Text'].sum()\n",
    "\n",
    "budbo = budbo.drop(\"none\", axis=0).reset_index()\n"
   ]
  },
  {
   "cell_type": "code",
   "execution_count": 59,
   "metadata": {},
   "outputs": [
    {
     "data": {
      "image/png": "[encoded data removed]",
      "text/plain": [
       "<Figure size 432x288 with 1 Axes>"
      ]
     },
     "metadata": {},
     "output_type": "display_data"
    }
   ],
   "source": [
    "plt.bar(budbo.Model_2, budbo.percentage)\n",
    "plt.title(\"Protocol\") \n",
    "plt.xlabel(\"Train Protocols\")\n",
    "plt.ylabel(\"% Likelihood\")\n",
    "plt.show()"
   ]
  },
  {
   "cell_type": "code",
   "execution_count": 60,
   "metadata": {},
   "outputs": [],
   "source": [
    "ocean = df_test_2[df_test_2.Protocol == 'oceanprotocol'].groupby(by=\"Model_2\").count().sort_values(by=\"Text\", ascending=False)\n",
    "\n",
    "ocean['percentage'] = ocean['Text']/ocean['Text'].sum()\n",
    "\n",
    "ocean = ocean.drop(\"none\", axis=0).reset_index()\n"
   ]
  },
  {
   "cell_type": "code",
   "execution_count": 61,
   "metadata": {},
   "outputs": [
    {
     "data": {
      "image/png": "[encoded data removed]",
      "text/plain": [
       "<Figure size 432x288 with 1 Axes>"
      ]
     },
     "metadata": {},
     "output_type": "display_data"
    }
   ],
   "source": [
    "plt.bar(ocean.Model_2, ocean.percentage)\n",
    "plt.title(\"Protocol\") \n",
    "plt.xlabel(\"Train Protocols\")\n",
    "plt.ylabel(\"% Likelihood\")\n",
    "plt.show()"
   ]
  },
  {
   "cell_type": "markdown",
   "metadata": {},
   "source": [
    "# 5- Inspiration"
   ]
  },
  {
   "cell_type": "markdown",
   "metadata": {},
   "source": [
    "- https://towardsdatascience.com/applying-machine-learning-to-classify-an-unsupervised-text-document-e7bb6265f52\n",
    "- https://towardsdatascience.com/machine-learning-nlp-text-classification-using-scikit-learn-python-and-nltk-c52b92a7c73a\n",
    "- https://github.com/kavgan/nlp-in-practice/blob/master/word2vec/Word2Vec.ipynb"
   ]
  }
 ],
 "metadata": {
  "kernelspec": {
   "display_name": "Python 3",
   "language": "python",
   "name": "python3"
  },
  "language_info": {
   "codemirror_mode": {
    "name": "ipython",
    "version": 3
   },
   "file_extension": ".py",
   "mimetype": "text/x-python",
   "name": "python",
   "nbconvert_exporter": "python",
   "pygments_lexer": "ipython3",
   "version": "3.6.7"
  }
 },
 "nbformat": 4,
 "nbformat_minor": 2
}
