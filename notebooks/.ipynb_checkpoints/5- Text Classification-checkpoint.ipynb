{
 "cells": [
  {
   "cell_type": "markdown",
   "metadata": {},
   "source": [
    "# Text Classification"
   ]
  },
  {
   "cell_type": "markdown",
   "metadata": {},
   "source": [
    "## Library Imports"
   ]
  },
  {
   "cell_type": "code",
   "execution_count": 8,
   "metadata": {},
   "outputs": [],
   "source": [
    "# Import Os to get to the root directory\n",
    "import os\n",
    "import sys\n",
    "\n",
    "# Root directory of the project\n",
    "ROOT_DIR = os.path.abspath(\"../\")\n",
    "sys.path.append(ROOT_DIR)\n",
    "\n",
    "# Import own functions\n",
    "from libraries import corpus\n",
    "from libraries import pdf2text\n",
    "\n",
    "import warnings\n",
    "warnings.filterwarnings(\"ignore\")"
   ]
  },
  {
   "cell_type": "code",
   "execution_count": 3,
   "metadata": {},
   "outputs": [
    {
     "data": {
      "text/plain": [
       "<module 'libraries.pdf2text' from 'C:\\\\Users\\\\luisd\\\\Dropbox\\\\Masters\\\\BIPM\\\\2 Semester\\\\Text, Web and Social Media Analytics\\\\Project\\\\datascience_project\\\\libraries\\\\pdf2text.py'>"
      ]
     },
     "execution_count": 3,
     "metadata": {},
     "output_type": "execute_result"
    }
   ],
   "source": [
    "from importlib import reload\n",
    "reload(pdf2text)"
   ]
  },
  {
   "cell_type": "markdown",
   "metadata": {},
   "source": [
    "## Data Preprocessing"
   ]
  },
  {
   "cell_type": "code",
   "execution_count": 9,
   "metadata": {},
   "outputs": [],
   "source": [
    "dataset = pdf2text.get_dataset()"
   ]
  },
  {
   "cell_type": "code",
   "execution_count": 10,
   "metadata": {},
   "outputs": [
    {
     "data": {
      "text/plain": [
       "dict_keys(['0chain', '1World', '1x2Coin', 'AB-CHAIN', 'ABCC', 'ABLE', 'Absolute', 'ACE', 'Achain', 'AcreCoin', 'Actinium', 'AcuteAngle', 'Adamant', 'AdBank', 'AdChainRegistry', 'AdCoin', 'Adhive', 'Aditus', 'Adshares', 'Ample!', 'BasicAttentionToken', 'Binance', 'Bitcoin', 'BitcoinGold', 'Cosmos', 'CryptoNote', 'DaiStableCoinSystem', 'Dash', 'EtherAce', 'Ethereum', 'EthereumClassic', 'Giant', 'GiveCoin', 'GuaranteedEntranceToken', 'IOTA', 'KwattCoin', 'Oxcert', 'RippleProtocol', 'StellarConcensusProtocol', 'Tether', 'Tezos', 'Tron', 'Vechain', 'Zerocash'])"
      ]
     },
     "execution_count": 10,
     "metadata": {},
     "output_type": "execute_result"
    }
   ],
   "source": [
    "dataset.keys()"
   ]
  },
  {
   "cell_type": "code",
   "execution_count": 11,
   "metadata": {},
   "outputs": [
    {
     "data": {
      "text/plain": [
       "44"
      ]
     },
     "execution_count": 11,
     "metadata": {},
     "output_type": "execute_result"
    }
   ],
   "source": [
    "len(dataset.keys())"
   ]
  },
  {
   "cell_type": "code",
   "execution_count": 16,
   "metadata": {},
   "outputs": [
    {
     "data": {
      "text/plain": [
       "'\\n\\n\\n\\n\\n\\n\\n\\n\\n\\n\\n\\n\\n\\n\\n\\n\\n\\n\\n\\n\\n\\n\\n\\n\\n\\n\\n\\n\\n\\n\\n\\n\\n\\n\\n\\n\\n\\n\\n\\n\\n\\n\\n\\n\\n\\n\\n\\n\\n\\n\\n\\n\\n\\n\\n\\n\\n\\n\\n \\n \\n \\n\\n \\n\\nAbsolute. \\nProof of View \\n\\n \\n- \\n \\n\\nLitepaper \\nV1.1 \\n\\n \\n10-June-18 \\n\\n \\nThis Litepaper is a cut down version of the whitepaper which is still in development. \\n\\nThis paper assumes that you already have a basic understanding of the cryptocurrency \\nenvironment.  \\n\\n \\n\\n\\n\\n \\n \\n \\n\\n2 \\n  \\n\\nThe Coins Vision: \\nOur vision is to provide an advertising, promotions and event platform with smart contracts \\nthat will have a global reach of network enablers. Our network will allow agents, organisers \\nand promoters the ability to reach a global audience and utilise their participation to achieve \\ntheir desired media goals. \\n \\nThe network is driven by ultra-low transaction fees, reliable and fast transactions (10x faster \\nthan Bitcoin) which are supported by a large core network of Masternodes.  \\n \\nMainnet Development \\nA newly developed Mainnet (specifications of which will be announced shortly) will be \\nattached to the current blockchain. De-synchronous sidechain implementation for smart \\ncontracts will be initiated via collateral agent inputs and managed under escrow from upper \\ntier nodes. \\n \\nReward Structure  \\nProof of Stake (POS), Proof of View (POV), Proof of Work (POW), Masternodes (MN) \\n \\n\\nThe ABS Cycle \\nAbsolute aims to incentivise a healthy balance of holding and liquidity. To do this we will split \\nthe reward structure as follows: \\n\\n \\nHolding Incentives \\n \\n\\n• Masternodes  \\nMasternodes are a way of earning rewards for holding coins: collateral is locked into \\nthe network allowing stability. In return, Masternodes take it in turn to process the \\nnetwork, receiving a reward for doing so. \\n\\n \\n• POS \\n\\nIf an individual cannot hold enough coins to activate a Masternode, they can earn \\nrewards by holding over a specified amount until the coin matures. When this happens \\nthey will start to receive rewards in the form of ABS. \\n \\n\\nLiquidity Incentives  \\n \\n\\n• POW \\nHashing power from mining will supply security and stability to the network. In return \\nthe network will offer 10% of the block chain reward structure to incentivise liquidity. \\n \\n\\n• POV \\nThe Proof of View network is funded via smart contracts. Agents set contracts which \\nare paid per interaction with the network. The interaction rewards are set by the agent. \\n \\nA reward is issued per successful interaction between certain ‘actors’. The reward \\ndistribution is set based upon the type of contract that is issued. These transactions \\nallow ABS to be distributed to multiple individuals and can in turn be sold. This \\ngenerates volume, formulating a new cycle. \\n\\n \\n\\n\\n\\n \\n \\n \\n\\n3 \\n  \\n\\n \\nCoin Specification \\n \\n \\n\\n Mainnet  POV Network \\n\\nTicker ABS - \\n\\nAlgorithm Lyra2REv2 - \\n\\nBlock Time 120 Seconds 60 Seconds \\n\\nTPS 70  320  \\n\\nBlock Size 2MB  4MB  \\n\\nDifficulty Algorithm Dark Gravity Wave \\n3.0 \\n\\n- \\n\\nMasternode Collateral -1000* (V12.2.2a) \\n-2500* (V12.2.3a) \\n\\n-5,000 ABS \\n-10,000 ABS \\n \\n\\nGovernance Fee 5 ABS - \\n\\nGovernance Minimum \\nQuorum \\n\\n10% of \\nMasternodes \\n\\n- \\n\\n \\n*The current version V12.2.2a is using a Masternode collateral of 1000 ABS. This will \\nbe replaced by a 2500 ABS minimum requirement in the next version (V12.2.3a) which \\nwill then become the new base tier. \\n \\n \\nNetwork Interaction \\nAlthough the POV network is totally transparent, there is a collateral requirement that must \\nbe met to allow access to the POV Masternode network. These nodes process the POV \\ntransactions and administer contract escrow. They also provide agents, enablers, users and the \\nnetwork with rewards based on the interactions.  \\n \\nIn return for processing a POV interaction, the network will receive an additional reward on \\ntop of the block reward. In times of high network transactions, this will mean an increased ROI \\nfor POV Masternodes. \\n \\nThe POV network controls the escrow funds held for each contract. When a contract \\ninteraction occurs, the POV network commands the POV nodes to release escrow funds to the \\nrequired interactors at specific periods during the day.  \\n \\nAll transactions on the POV network are used to process ABS in an efficient way. This means \\nthat when there is high activity on the POV network it will have minimum effect on standard \\ntransactions on the ABS Mainnet.   \\n \\nThe POV network is controlled and maintained directly by the POV Masternodes including \\nblock sealing. There is no reward structure on this network, its primary use is to facilitate \\npayment on the Mainnet and reward ‘actors’.  \\n \\n \\n\\n\\n\\n \\n \\n \\n\\n4 \\n  \\n\\nNetwork Terminology \\nThe POV network is made up of a number of ‘actors’. These are people that interact with the \\nnetwork to successfully process a transaction. \\n\\n• Agent  \\nAgents are the contract initiators. They purchase ABS from an exchange and then issue \\ncontracts based on their needs. \\n\\n \\n• Enablers \\n\\nCertain contracts require ‘enablers’ to create adverts and distribute media, either in a \\nphysical form or online. If they have met the requirements of the contract and a lead is \\ngenerated, they will receive a reward for their interactions. These rewards depend on \\nthe type of contract they are fulfilling.   \\n\\n \\n• Users \\n\\nThese are end users who communicate with the enablers or agent via the network to \\nproduce an interaction. It is possible for users to be rewarded based on their \\ninteraction with certain contracts. \\n\\n \\n• POV Nodes \\n\\nA POV node is the core network processor. Masternodes receive rewards for \\nprocessing interaction information on the network.  \\n\\n \\n\\nTier network reward structure \\nTo keep the network fair for all users, there will be equal share of the block reward based on a \\n1:1 ABS distribution offset against collateral. The upper tier nodes will receive rewards from \\nthe POV network as well, which will increase the ROI over the base tier.  \\n \\nBase Tier Node collateral \\n\\n• 2500 ABS \\n\\nUpper Tier Node collaterals (POV Nodes) \\n\\n• 5,000 ABS \\n• 10,000 ABS \\n• 20,000 ABS (To be added at a later date) \\n• 40,000 ABS (To be added at a later date) \\n\\n \\n\\n\\n\\n \\n \\n \\n\\n5 \\n  \\n\\nProof of View (POV) \\n\\nProof of View allows network agents to form advertising, promotion or event based contracts. \\nAgents must have an active connection to the network either via the wallet or via a website \\nthat is connected to a POV node. This website can be set up by Masternode holders that have \\nthe highest tier nodes. Contracts can be formed based on the following areas: \\n \\n\\n• (LOC) Location based contracts qualified via an Apple or Android wallet \\n \\n\\no These rewards are based on an agent trying to attract people to a location for a \\nspecific reason such as, but not limited to, an event, conference, party or \\nfestival. \\n \\n\\n• (PHY/ PHY-LOC) Physical based capture contracts qualified via an Apple or Android \\nwallet. These are split into two areas based on pre-defined interactions: \\n \\n\\no (PHY) Media capture via a smart phone with the wallet installed.  \\nBefore the campaign starts, adverts are catalogued and imported into the POV \\nsystem, receiving an individual ID. The wallet will then match to this ID and will \\nsupply links to the advert which will generate a lead for the agent. \\n \\n\\no (PHY-LOC) Location media capture via a smart phone with the wallet installed. \\nThese must be in a certain location to receive rewards. This is a double \\nverification process which combines standard physical based capture (PHY) \\nand location.  \\n \\n\\n• (SAW) Social media and website based lead generation contracts. These come under \\ntwo different criteria: \\n \\n\\no (SAW-U) Unqualified Leads – these interactions are not subsidised via the \\ncollateral buffer and can only be funded via the agent’s collateral alone: \\n \\n\\uf0a7 Website adverts and banners processed via the network when an \\n\\ninteraction occurs.  \\n \\n\\n\\uf0a7 Outbound media, based on click per view. \\n \\n\\no (SAW-Q) Qualified Leads - these interactions are subsidised via the collateral \\nbuffer and can only be funded via the agent’s collateral: \\n \\n\\uf0a7 Lead Generation which results in a detailed form submission or website \\n\\norder attached to the contract ID. \\n \\n\\n• (UES) Users can become enablers by republishing media if the contract allows it. \\n\\nMost contracts are subsidised by the block reward structure via the collateral buffer. \\n \\n \\n \\n\\n \\n\\n\\n\\n \\n \\n \\n\\n6 \\n  \\n\\nCollateral Buffer \\n\\nThe Collateral buffer is a stabilisation fund that bridges between the block reward and \\nthe POV network. It provides two outputs: \\n \\n\\n• A Proof of View contracts subsidy. This allows a subsidy percentage based on the level \\nof engagement in the POV system. High demand will reduce the subsidy to a lower \\npercentage. Lower demand will increase the percentage until 20% of the contract value \\nis met. \\n  \\n\\n• The second is an average output to counteract the dynamic adjustment algorithm that \\nkeeps the buffer full. This makes it fairer for Masternodes that received funds from the \\nbuffer overflow to receive a stable reward figure daily. This amount is split between the \\ntotal number of nodes that have been active for more than one day and is transferred \\nto all nodes on a daily basis. \\n \\n\\nLoading conditions \\nThe reward structure is dynamically adjusted to allow the Collateral buffer to stay full based \\non demand. Here are a few loading condition examples: \\n \\n \\n\\nBlock Reward Allocation \\n\\nPOV \\nLoading \\n\\nMN Collateral \\nOverflow \\n\\nCollateral \\nFunding \\n\\nPOW  POS  Governance  \\n\\nNone* 40% 28% 2% 10% 10% 10% \\n\\nMedium 40% 15% 15% 10% 10% 10% \\n\\nHigh 40% 0% 30% 10% 10% 10% \\n\\n \\nPOV Loading Conditions explanation   \\n \\n\\n• None – The buffer is full and awaiting a smart contract to be initiated. All additional \\nsupply from the 28% allocation is diverted to the Masternodes and paid daily to all \\nqualifying nodes.  \\n \\n\\n• Medium – The buffer is in use but requires funding from the reward structure to stay at \\nthe algorithm’s specific target. As only 50% of the block funding is required, the other \\n50% is dispensed to the Masternodes and paid once a day to all qualifying nodes.  \\n \\n\\n• High – The buffer is being depleted rapidly and all available funding is initialised to \\nrestore collateral within the buffer. \\n\\nThe buffer will always pull a minimum of 2% from the block reward. This allows growth of the \\nfund over time in a sustainable way. The base size of the fund is allocated via Governance. The \\nsubsidy algorithm tracks demand for the fund and in turn increases or decreases the size of the \\nfund and subsidy percentage accordingly. \\n\\n\\n\\n \\n \\n \\n\\n7 \\n  \\n\\nPOV Reward \\nThe POV reward system is funded by agents that wish to create smart contracts. Enablers, \\nPOV Nodes and users then receive percentages of the POV reward structure based on the \\ntype of interaction that is occurring in the contract.  \\n \\nSubsidy amounts are adjusted based on loading conditions; the POV network will always \\nreceive a base percentage per contract. \\n\\nBelow is a standard overview of the reward structure for different contract areas based on full \\nload. \\n\\nContract \\ntype \\n\\nSubsidy (SB)  Enabler  User POV \\nNetwork \\n\\nGovernance \\n\\n(LOC) 20% MAX  - 88% 10% 2% \\n(PHY) 20% MAX  53%-(SB%) 40% (SB%)+5%* 2% \\n(PHY-LOC)) 20% MAX  53%-(SB%) 40% (SB%)+5%* 2% \\n(SAW-U) -  93%-(SB%) - (SB%)+5%* 2% \\n(SAW-Q) 20% MAX  73%-(SB%) 20% (SB%)+5%* 2% \\n(UES) 20% MAX  53%-(SB%) 40% (SB%)+5%* 2% \\n\\n \\n\\n*The POV network percentage will always be 5 % higher than that of the subsidy, except for \\nLOC based contracts. \\n \\nReward Allocation based on Tier level \\n\\nTier Level POV allocation from interaction per click Governance Sway per ABS \\n5,000 30% +2 % \\n10,000 70% +5% \\n\\n \\n\\nReward scenario for POV \\nThe table below is an average reward based on 10,000 ABS being spent in one day on the POV \\nnetwork. This is assuming that all contracts are equal in volume (5.8% POV Fee). This reward \\ncan be added to the standard block reward. These are extreme conditions based on each end of \\nthe loadings range. \\n\\nTier Level ABS Contract Average from one Day \\n No Subsidy Reward in ABS Max subsidy Reward in ABS \\n5,000 1.74% 174 20% + 1.74% 2174 \\n10,000 4.06% 406 20% + 4.06% 2406 \\n\\n \\nThis is the total reward, which would need to be distributed equally across the tier level. \\n\\n \\n\\n  \\n\\n\\n\\n \\n \\n \\n\\n8 \\n  \\n\\nSources and Links  \\n \\nGithub \\nhttps://github.com/absolute-community/absolute \\n\\n \\nOfficial Website  \\nhttps://www.absolutecoin.net \\n \\nBCT Announcement thread  \\nhttps://bitcointalk.org/index.php?topic=4418859.0;topicseen \\n\\nReddit \\nhttps://www.reddit.com/user/AbsoluteCoin \\n \\nDiscord server \\nhttps://discord.gg/FhtgzY8 \\n \\nTelegram \\nhttps://t.me/absolute_community \\n\\nContact \\ncontact@absolutecoin.net \\n\\n \\n\\nLegal \\nCryptocurrency investments are inherently high risk. Please make sure you are aware of the \\nnature, complexity and risks before using any cryptocurrency. \\n \\nDo not invest more than you can afford to lose. It is important not to use coins without taking \\ninto account the possible loss, since the type of change in these currencies is highly volatile and \\nthe Absolute team is unable to regulate market-defined prices. We strongly suggest seeking \\nadvice from your own financial, investment, tax or legal adviser.  \\n\\nThe Absolute Development Team will always act in good faith and is not liable for the use of \\nAbsolute by other community members, persons or institutions. \\n \\n \\n\\nReferences \\n1. The Proof of View system - Created and published by CryptoCentric, part of the Absolute \\nCoin (ABS) development team: cyptocentric@absolutecoin.net \\n2. Bitcoin Foundation - https://bitcoin.org/en/developer-documentation \\n3. Dash - https://dashpay.atlassian.net/wiki/spaces/DOC/overview?mode=global \\n\\n \\n\\n \\n\\nhttps://github.com/absolute-community/absolute\\nhttps://www.absolutecoin.net/\\nhttps://bitcointalk.org/index.php?topic=4418859.0;topicseen\\nhttps://www.reddit.com/user/AbsoluteCoin\\nhttps://discord.gg/FhtgzY8\\nhttps://t.me/absolute_community\\nmailto:contact@absolutecoin.net\\nhttps://bitcoin.org/en/developer-documentation\\nhttps://dashpay.atlassian.net/wiki/spaces/DOC/overview?mode=global\\n\\n'"
      ]
     },
     "execution_count": 16,
     "metadata": {},
     "output_type": "execute_result"
    }
   ],
   "source": [
    "dataset['Absolute']"
   ]
  },
  {
   "cell_type": "code",
   "execution_count": null,
   "metadata": {},
   "outputs": [],
   "source": []
  },
  {
   "cell_type": "code",
   "execution_count": null,
   "metadata": {},
   "outputs": [],
   "source": []
  },
  {
   "cell_type": "code",
   "execution_count": null,
   "metadata": {},
   "outputs": [],
   "source": []
  },
  {
   "cell_type": "markdown",
   "metadata": {},
   "source": [
    "## Method Application"
   ]
  },
  {
   "cell_type": "code",
   "execution_count": null,
   "metadata": {},
   "outputs": [],
   "source": []
  },
  {
   "cell_type": "markdown",
   "metadata": {},
   "source": [
    "## Visualization / Outcome"
   ]
  },
  {
   "cell_type": "code",
   "execution_count": null,
   "metadata": {},
   "outputs": [],
   "source": []
  }
 ],
 "metadata": {
  "kernelspec": {
   "display_name": "Python 3",
   "language": "python",
   "name": "python3"
  },
  "language_info": {
   "codemirror_mode": {
    "name": "ipython",
    "version": 3
   },
   "file_extension": ".py",
   "mimetype": "text/x-python",
   "name": "python",
   "nbconvert_exporter": "python",
   "pygments_lexer": "ipython3",
   "version": "3.7.1"
  }
 },
 "nbformat": 4,
 "nbformat_minor": 2
}
