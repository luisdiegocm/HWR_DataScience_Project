{
 "cells": [
  {
   "cell_type": "markdown",
   "metadata": {},
   "source": [
    "# Topic Modeling\n"
   ]
  },
  {
   "cell_type": "markdown",
   "metadata": {},
   "source": [
    "## 1 - Library Imports"
   ]
  },
  {
   "cell_type": "code",
   "execution_count": 124,
   "metadata": {},
   "outputs": [],
   "source": [
    "%reset -f\n",
    "\n",
    "# Import Os to get to the root directory\n",
    "import os\n",
    "import sys\n",
    "\n",
    "# Root directory of the project\n",
    "ROOT_DIR = os.path.abspath(\"../\")\n",
    "sys.path.append(ROOT_DIR)\n",
    "\n",
    "# Import own functions\n",
    "from libraries import corpus\n",
    "from libraries import pdf2text\n",
    "\n",
    "##########################\n",
    "# Import other libraries\n",
    "##########################\n",
    "\n",
    "# Data Manipulation\n",
    "import re, numpy as np, pandas as pd\n",
    "\n",
    "# Gensim Library for Topic Modeling\n",
    "import gensim\n",
    "from gensim import matutils, models\n",
    "import gensim, spacy, logging, warnings\n",
    "from gensim import corpora, models, similarities\n",
    "from gensim.utils import lemmatize, simple_preprocess\n",
    "from gensim.models import CoherenceModel\n",
    "from gensim.test.utils import datapath\n",
    "\n",
    "# Data Visualizations\n",
    "import matplotlib.pyplot as plt\n",
    "%matplotlib notebook\n",
    "from wordcloud import WordCloud, STOPWORDS\n",
    "import matplotlib.colors as mcolors\n",
    "from matplotlib.ticker import FuncFormatter\n",
    "\n",
    "# Natural Language Processing libraries\n",
    "import nltk as nltk\n",
    "from nltk.corpus import stopwords\n",
    "stop_words = stopwords.words('english')\n",
    "stop_words.extend(['from', 'subject', 're', 'edu', 'use', 'not', 'would', 'say', 'could', '_', 'be', 'know', 'good', 'go', 'get', 'do', 'done', 'try', 'many', 'some', 'nice', 'thank', 'think', 'see', 'rather', 'easy', 'easily', 'lot', 'lack', 'make', 'want', 'seem', 'run', 'need', 'even', 'right', 'line', 'even', 'also', 'may', 'take', 'come'])\n",
    "from nltk.stem.wordnet import WordNetLemmatizer\n",
    "import string\n",
    "\n",
    "import en_core_web_sm\n",
    "nlp = spacy.load('en_core_web_sm', disable =['parser', 'ner'])\n",
    "from pprint import pprint\n",
    "\n",
    "import scipy.sparse\n",
    "from collections import Counter\n",
    "\n",
    "# other imports\n",
    "import pickle\n",
    "from importlib import reload\n",
    "warnings.filterwarnings(\"ignore\", category=DeprecationWarning)\n",
    "logging.basicConfig(format='%(asctime)s : %(levelname)s : %(message)s', level=logging.ERROR)"
   ]
  },
  {
   "cell_type": "markdown",
   "metadata": {},
   "source": [
    "## 2 - Data Preprocessing"
   ]
  },
  {
   "cell_type": "code",
   "execution_count": 126,
   "metadata": {},
   "outputs": [],
   "source": [
    "# Retrieving the PDF files from white-paper folder and converting them to text\n",
    "dataset = pdf2text.get_dataset()"
   ]
  },
  {
   "cell_type": "code",
   "execution_count": 127,
   "metadata": {},
   "outputs": [
    {
     "data": {
      "text/plain": [
       "dict_keys(['#metahash', '0x', 'abbccoin', 'aion', 'apollocurrency', 'ardor', 'ark', 'basicattentiontoken', 'bhpcoin', 'binancecoin', 'bitcoin', 'bitcoingold', 'bitshares', 'bittorrent', 'bytecoin', 'bytom', 'celernetwork', 'chainlink', 'cosmocoin', 'cosmos', 'crypto', 'cryptonex', 'dai', 'dash', 'decentraland', 'dent', 'digixdao', 'dogecoin', 'elastos', 'enjincoin', 'eos', 'ethereum', 'ethereumclassic', 'factom', 'fantom', 'gnosis', 'golem', 'gxchain', 'holo', 'horizen', 'hypercash', 'hyperion', 'icon', 'iexecrlc', 'inocoin', 'iota', 'japancontenttoken', 'komodo', 'latoken', 'lina', 'loopring', 'maidsafecoin', 'maker', 'metal', 'metaverseetp', 'mixin', 'monero', 'nano', 'nebulas', 'nem', 'nexo', 'nkn', 'obyte', 'omisego', 'ontology', 'orbs', 'particl', 'paxosstandardtoken', 'powerledger', 'pundix', 'ravencoin', 'riftoken', 'siacoin', 'singularitynet', 'skycoin', 'solve', 'status', 'steem', 'stellar', 'stratis', 'synthetixnetworktoken', 'tenx', 'tether', 'tezos', 'theta', 'thetafuel', 'thundertoken', 'tron', 'truechain', 'usdcoin', 'utrust', 'vechain', 'waltonchain', 'wanchain', 'waves', 'wax', 'xrp', 'zcash', 'zilliqa'])"
      ]
     },
     "execution_count": 127,
     "metadata": {},
     "output_type": "execute_result"
    }
   ],
   "source": [
    "dataset.keys()"
   ]
  },
  {
   "cell_type": "code",
   "execution_count": 128,
   "metadata": {},
   "outputs": [
    {
     "name": "stderr",
     "output_type": "stream",
     "text": [
      "[nltk_data] Downloading package punkt to\n",
      "[nltk_data]     C:\\Users\\sj\\AppData\\Roaming\\nltk_data...\n",
      "[nltk_data]   Unzipping tokenizers\\punkt.zip.\n",
      "[nltk_data] Downloading package stopwords to\n",
      "[nltk_data]     C:\\Users\\sj\\AppData\\Roaming\\nltk_data...\n",
      "[nltk_data]   Unzipping corpora\\stopwords.zip.\n",
      "[nltk_data] Downloading package averaged_perceptron_tagger to\n",
      "[nltk_data]     C:\\Users\\sj\\AppData\\Roaming\\nltk_data...\n",
      "[nltk_data]   Package averaged_perceptron_tagger is already up-to-\n",
      "[nltk_data]       date!\n",
      "[nltk_data] Downloading package wordnet to\n",
      "[nltk_data]     C:\\Users\\sj\\AppData\\Roaming\\nltk_data...\n",
      "[nltk_data]   Package wordnet is already up-to-date!\n",
      "[nltk_data] Error loading en_core_web_md: Package 'en_core_web_md' not\n",
      "[nltk_data]     found in index\n"
     ]
    },
    {
     "name": "stdout",
     "output_type": "stream",
     "text": [
      "Cleaning: #metahash\n",
      "Cleaning: 0x\n",
      "Cleaning: abbccoin\n",
      "Cleaning: aion\n",
      "Cleaning: apollocurrency\n",
      "Cleaning: ardor\n",
      "Cleaning: ark\n"
     ]
    },
    {
     "ename": "KeyboardInterrupt",
     "evalue": "",
     "output_type": "error",
     "traceback": [
      "\u001b[1;31m---------------------------------------------------------------------------\u001b[0m",
      "\u001b[1;31mKeyboardInterrupt\u001b[0m                         Traceback (most recent call last)",
      "\u001b[1;32m<ipython-input-128-a99e9c55cc21>\u001b[0m in \u001b[0;36m<module>\u001b[1;34m\u001b[0m\n\u001b[0;32m      1\u001b[0m \u001b[1;31m#corpora segregated in terms of sentences\u001b[0m\u001b[1;33m\u001b[0m\u001b[1;33m\u001b[0m\u001b[1;33m\u001b[0m\u001b[0m\n\u001b[1;32m----> 2\u001b[1;33m \u001b[0mcorpora\u001b[0m \u001b[1;33m=\u001b[0m \u001b[0mcorpus\u001b[0m\u001b[1;33m.\u001b[0m\u001b[0mmakeCleanCorpus\u001b[0m\u001b[1;33m(\u001b[0m\u001b[0mdataset\u001b[0m\u001b[1;33m,\u001b[0m \u001b[0mlemmatize\u001b[0m\u001b[1;33m=\u001b[0m\u001b[1;32mTrue\u001b[0m\u001b[1;33m,\u001b[0m \u001b[0mremovePunct\u001b[0m\u001b[1;33m=\u001b[0m\u001b[1;32mTrue\u001b[0m\u001b[1;33m,\u001b[0m \u001b[0mremoveNums\u001b[0m\u001b[1;33m=\u001b[0m\u001b[1;32mTrue\u001b[0m\u001b[1;33m,\u001b[0m \u001b[0mmakeSentences\u001b[0m\u001b[1;33m=\u001b[0m\u001b[1;32mTrue\u001b[0m\u001b[1;33m,\u001b[0m \u001b[0mremoveURL\u001b[0m\u001b[1;33m=\u001b[0m\u001b[1;32mTrue\u001b[0m\u001b[1;33m,\u001b[0m \u001b[0mremoveChar\u001b[0m\u001b[1;33m=\u001b[0m \u001b[1;32mTrue\u001b[0m\u001b[1;33m,\u001b[0m \u001b[0mstops\u001b[0m\u001b[1;33m=\u001b[0m\u001b[1;33m[\u001b[0m\u001b[1;34m'\\u200b'\u001b[0m\u001b[1;33m]\u001b[0m \u001b[1;33m)\u001b[0m\u001b[1;33m\u001b[0m\u001b[1;33m\u001b[0m\u001b[0m\n\u001b[0m",
      "\u001b[1;32m~\\Documents\\GitHub\\datascience_project\\libraries\\corpus.py\u001b[0m in \u001b[0;36mmakeCleanCorpus\u001b[1;34m(dataset, removePunct, removeNums, lower, stops, removeStopw, lemmatize, removeURL, makeSentences, removeChar, removeEnt)\u001b[0m\n\u001b[0;32m    107\u001b[0m \u001b[1;33m\u001b[0m\u001b[0m\n\u001b[0;32m    108\u001b[0m         \u001b[1;32mif\u001b[0m \u001b[0mremoveEnt\u001b[0m\u001b[1;33m:\u001b[0m\u001b[1;33m\u001b[0m\u001b[1;33m\u001b[0m\u001b[0m\n\u001b[1;32m--> 109\u001b[1;33m             \u001b[0mdoc\u001b[0m \u001b[1;33m=\u001b[0m \u001b[0mnlp\u001b[0m\u001b[1;33m(\u001b[0m\u001b[0mtext\u001b[0m\u001b[1;33m)\u001b[0m\u001b[1;33m\u001b[0m\u001b[1;33m\u001b[0m\u001b[0m\n\u001b[0m\u001b[0;32m    110\u001b[0m             \u001b[1;32mfor\u001b[0m \u001b[0ment\u001b[0m \u001b[1;32min\u001b[0m \u001b[0mdoc\u001b[0m\u001b[1;33m.\u001b[0m\u001b[0ments\u001b[0m\u001b[1;33m:\u001b[0m\u001b[1;33m\u001b[0m\u001b[1;33m\u001b[0m\u001b[0m\n\u001b[0;32m    111\u001b[0m                 \u001b[1;32mif\u001b[0m\u001b[1;33m(\u001b[0m\u001b[0ment\u001b[0m\u001b[1;33m.\u001b[0m\u001b[0mlabel_\u001b[0m \u001b[1;32min\u001b[0m \u001b[1;33m(\u001b[0m\u001b[1;34m'LAW'\u001b[0m\u001b[1;33m,\u001b[0m\u001b[1;34m'ORG'\u001b[0m\u001b[1;33m,\u001b[0m\u001b[1;34m'GPE'\u001b[0m\u001b[1;33m,\u001b[0m\u001b[1;34m'PERSON'\u001b[0m\u001b[1;33m,\u001b[0m\u001b[1;34m'DATE'\u001b[0m\u001b[1;33m,\u001b[0m\u001b[1;34m'TIME'\u001b[0m\u001b[1;33m,\u001b[0m\u001b[1;34m'WORK_OF_ART'\u001b[0m\u001b[1;33m,\u001b[0m\u001b[1;34m'CARDINAL'\u001b[0m\u001b[1;33m,\u001b[0m\u001b[1;34m'QUANTITY'\u001b[0m\u001b[1;33m,\u001b[0m\u001b[1;34m'MONEY'\u001b[0m\u001b[1;33m,\u001b[0m\u001b[1;34m'NORP'\u001b[0m\u001b[1;33m,\u001b[0m\u001b[1;34m'PRODUCT'\u001b[0m\u001b[1;33m)\u001b[0m\u001b[1;33m)\u001b[0m\u001b[1;33m:\u001b[0m\u001b[1;33m\u001b[0m\u001b[1;33m\u001b[0m\u001b[0m\n",
      "\u001b[1;32m~\\AppData\\Local\\Continuum\\anaconda3\\lib\\site-packages\\spacy\\language.py\u001b[0m in \u001b[0;36m__call__\u001b[1;34m(self, text, disable, component_cfg)\u001b[0m\n\u001b[0;32m    388\u001b[0m             \u001b[1;32mif\u001b[0m \u001b[1;32mnot\u001b[0m \u001b[0mhasattr\u001b[0m\u001b[1;33m(\u001b[0m\u001b[0mproc\u001b[0m\u001b[1;33m,\u001b[0m \u001b[1;34m\"__call__\"\u001b[0m\u001b[1;33m)\u001b[0m\u001b[1;33m:\u001b[0m\u001b[1;33m\u001b[0m\u001b[1;33m\u001b[0m\u001b[0m\n\u001b[0;32m    389\u001b[0m                 \u001b[1;32mraise\u001b[0m \u001b[0mValueError\u001b[0m\u001b[1;33m(\u001b[0m\u001b[0mErrors\u001b[0m\u001b[1;33m.\u001b[0m\u001b[0mE003\u001b[0m\u001b[1;33m.\u001b[0m\u001b[0mformat\u001b[0m\u001b[1;33m(\u001b[0m\u001b[0mcomponent\u001b[0m\u001b[1;33m=\u001b[0m\u001b[0mtype\u001b[0m\u001b[1;33m(\u001b[0m\u001b[0mproc\u001b[0m\u001b[1;33m)\u001b[0m\u001b[1;33m,\u001b[0m \u001b[0mname\u001b[0m\u001b[1;33m=\u001b[0m\u001b[0mname\u001b[0m\u001b[1;33m)\u001b[0m\u001b[1;33m)\u001b[0m\u001b[1;33m\u001b[0m\u001b[1;33m\u001b[0m\u001b[0m\n\u001b[1;32m--> 390\u001b[1;33m             \u001b[0mdoc\u001b[0m \u001b[1;33m=\u001b[0m \u001b[0mproc\u001b[0m\u001b[1;33m(\u001b[0m\u001b[0mdoc\u001b[0m\u001b[1;33m,\u001b[0m \u001b[1;33m**\u001b[0m\u001b[0mcomponent_cfg\u001b[0m\u001b[1;33m.\u001b[0m\u001b[0mget\u001b[0m\u001b[1;33m(\u001b[0m\u001b[0mname\u001b[0m\u001b[1;33m,\u001b[0m \u001b[1;33m{\u001b[0m\u001b[1;33m}\u001b[0m\u001b[1;33m)\u001b[0m\u001b[1;33m)\u001b[0m\u001b[1;33m\u001b[0m\u001b[1;33m\u001b[0m\u001b[0m\n\u001b[0m\u001b[0;32m    391\u001b[0m             \u001b[1;32mif\u001b[0m \u001b[0mdoc\u001b[0m \u001b[1;32mis\u001b[0m \u001b[1;32mNone\u001b[0m\u001b[1;33m:\u001b[0m\u001b[1;33m\u001b[0m\u001b[1;33m\u001b[0m\u001b[0m\n\u001b[0;32m    392\u001b[0m                 \u001b[1;32mraise\u001b[0m \u001b[0mValueError\u001b[0m\u001b[1;33m(\u001b[0m\u001b[0mErrors\u001b[0m\u001b[1;33m.\u001b[0m\u001b[0mE005\u001b[0m\u001b[1;33m.\u001b[0m\u001b[0mformat\u001b[0m\u001b[1;33m(\u001b[0m\u001b[0mname\u001b[0m\u001b[1;33m=\u001b[0m\u001b[0mname\u001b[0m\u001b[1;33m)\u001b[0m\u001b[1;33m)\u001b[0m\u001b[1;33m\u001b[0m\u001b[1;33m\u001b[0m\u001b[0m\n",
      "\u001b[1;31mKeyboardInterrupt\u001b[0m: "
     ]
    }
   ],
   "source": [
    "#corpora segregated in terms of sentences \n",
    "corpora = corpus.makeCleanCorpus(dataset, lemmatize=True, removePunct=True, removeNums=True, makeSentences=True, removeURL=True, removeChar= True, stops=['\\u200b'] )"
   ]
  },
  {
   "cell_type": "code",
   "execution_count": null,
   "metadata": {},
   "outputs": [],
   "source": [
    "#Corpora not segregated with sentences\n",
    "corpora_whole = corpus.makeCleanCorpus(dataset, lemmatize=True, removePunct=True, removeNums=True, makeSentences= False, removeURL=True, removeChar= True, stops=['\\u200b'] )"
   ]
  },
  {
   "cell_type": "code",
   "execution_count": 139,
   "metadata": {},
   "outputs": [],
   "source": [
    "#Our dictionary at the moment is in key: blockchain firms, value: list of text of whitepapers\n",
    "#We change this to key: blockchain firms and value: string format\n",
    "def combine_text(list_of_text):\n",
    "    '''Takes a list of text and combines them into one large chunk of text.'''\n",
    "    combined_text = ' '.join(list_of_text)\n",
    "    return combined_text"
   ]
  },
  {
   "cell_type": "code",
   "execution_count": null,
   "metadata": {},
   "outputs": [],
   "source": [
    "#Combining then\n",
    "data_combined = {key:[combine_text(value)] for (key, value) in corpora.items()}"
   ]
  },
  {
   "cell_type": "code",
   "execution_count": null,
   "metadata": {},
   "outputs": [],
   "source": [
    "#Putting the text into pandas dataframe\n",
    "import pandas as pd\n",
    "pd.set_option('max_colwidth', 150)\n",
    "\n",
    "data_df = pd.DataFrame.from_dict(data_combined).transpose()\n",
    "data_df.columns = ['whitepapers']\n",
    "data_df = data_df.sort_index()"
   ]
  },
  {
   "cell_type": "code",
   "execution_count": 38,
   "metadata": {},
   "outputs": [
    {
     "data": {
      "text/html": [
       "<div>\n",
       "<style scoped>\n",
       "    .dataframe tbody tr th:only-of-type {\n",
       "        vertical-align: middle;\n",
       "    }\n",
       "\n",
       "    .dataframe tbody tr th {\n",
       "        vertical-align: top;\n",
       "    }\n",
       "\n",
       "    .dataframe thead th {\n",
       "        text-align: right;\n",
       "    }\n",
       "</style>\n",
       "<table border=\"1\" class=\"dataframe\">\n",
       "  <thead>\n",
       "    <tr style=\"text-align: right;\">\n",
       "      <th></th>\n",
       "      <th>whitepapers</th>\n",
       "    </tr>\n",
       "  </thead>\n",
       "  <tbody>\n",
       "    <tr>\n",
       "      <th>#metahash</th>\n",
       "      <td>yellow paper technical documentation version g...</td>\n",
       "    </tr>\n",
       "    <tr>\n",
       "      <th>0x</th>\n",
       "      <td>open protocol decentralize exchange blockchain...</td>\n",
       "    </tr>\n",
       "  </tbody>\n",
       "</table>\n",
       "</div>"
      ],
      "text/plain": [
       "                                                 whitepapers\n",
       "#metahash  yellow paper technical documentation version g...\n",
       "0x         open protocol decentralize exchange blockchain..."
      ]
     },
     "execution_count": 38,
     "metadata": {},
     "output_type": "execute_result"
    }
   ],
   "source": [
    "#Glancing into the dataframe; it is a dataframe with each row representing a document (blockchain whitepaper)\n",
    "data_df.head(2)"
   ]
  },
  {
   "cell_type": "code",
   "execution_count": 39,
   "metadata": {},
   "outputs": [],
   "source": [
    "#Pickling the data for future use. \n",
    "data_df.to_pickle('tmcorpus.pkl')"
   ]
  },
  {
   "cell_type": "code",
   "execution_count": 6,
   "metadata": {},
   "outputs": [],
   "source": [
    "with open('tmcorpus.pkl', 'rb') as f:\n",
    "    data_ready = pickle.load(f)"
   ]
  },
  {
   "cell_type": "code",
   "execution_count": 10,
   "metadata": {},
   "outputs": [
    {
     "name": "stdout",
     "output_type": "stream",
     "text": [
      "['yellow', 'paper', 'technical', 'documentation', 'version', 'gartenstrasse', 'yellow', 'paper', 'project', 'goal', 'technical', 'feature', 'test', 'methodology', 'test', 'building', 'nerk', 'test', 'bulk', 'transaction', 'verification', 'latency', 'test', 'nerk', 'failure', 'test', 'blockage', 'nerk', 'recovery', 'test', 'result', 'nerk', 'description', 'data', 'synchronization', 'subsystem', 'nerk', 'structure', 'nerk', 'topology', 'nerk', 'map', 'multiple', 'proof', 'voting', 'cryptography', 'block', 'structure', 'balance', 'model', 'transaction', 'protocol', 'feature', 'specialuse', 'address', 'nature', 'address', 'frozen', 'address', 'child', 'address', 'delegation', 'reward', 'distribution', 'strategy', 'risk', 'conclusion', 'data', 'storage', 'yellow', 'paper', 'decentralize', 'technology', 'boom', 'paradigm', 'address', 'key', 'issue', 'issue', 'trust', 'control', 'authority', 'scalability', 'reliability', 'thirdparty', 'involvement', 'platform', 'app', 'market', 'limited', 'major', 'factor', 'geographic', 'distribution', 'node', 'insufficient', 'connection', 'infrastructure', 'slow', 'data', 'synchronization', 'validation', 'vulnerability', 'distribute', 'nerks', 'attack', 'leaf', 'desire', 'term', 'security', 'trust', 'overcomes', 'obstacle', 'introduce', 'dynamic', 'node', 'role', 'implement', 'fragment', 'cryptographic', 'proof', 'simultaneously', 'decrease', 'volume', 'transmit', 'data', 'approach', 'optimizes', 'nerk', 'synchronization', 'solves', 'issue', 'data', 'transmission', 'archival', 'approach', 'lead', 'creation', 'multilayered', 'consensus', 'enhance', 'nerk', 'resilience', 'attack', 'utilize', 'proprietary', 'technology', 'team', 'create', 'fast', 'blockchain', 'protocol', 'load', 'test', 'result', 'throughput', 'transaction', 'method', 'result', 'document', 'nextgeneration', 'highperformance', 'lowfee', 'blockchain', 'high', 'confirmation', 'speed', 'low', 'data', 'processing', 'fee', 'enable', 'support', 'operating', 'decentralize', 'application', 'realtime', 'broad', 'bandwidth', 'transaction', 'yellow', 'paper', 'project', 'goal', 'shortterm', 'milests', 'midterm', 'milests', 'highspeed', 'multiblockchain', 'base', 'protocol', 'design', 'geodistributed', 'nerk', 'architecture', 'minimum', 'synchronization', 'time', 'maintain', 'maximum', 'data', 'transfer', 'capacity', 'select', 'consensus', 'model', 'minimum', 'transaction', 'confirmation', 'time', 'maintain', 'transaction', 'immutability', 'cryptographic', 'proof', 'asset', 'ownership', 'decrease', 'store', 'transmit', 'data', 'select', 'optimal', 'balance', 'model', 'mitigate', 'excessive', 'data', 'storage', 'issue', 'timeproven', 'blockchain', 'nerk', 'structure', 'nonlinear', 'validation', 'blockchain', 'data', 'avoid', 'hard', 'fork', 'deploy', 'major', 'software', 'update', 'solve', 'issue', 'blockchain', 'merges', 'nerk', 'split', 'decentralise', 'storage', 'virtual', 'app', 'host', 'metadns', 'distribute', 'service', 'multicurrency', 'wallet', 'browser', 'mobile', 'resource', 'share', 'cellular', 'satellite', 'communication', 'data', 'transmission', 'consensus', 'mobile', 'device', 'marketplace', 'digital', 'identification', 'biometric', 'data', 'iot', 'capability', 'compatibility', 'universal', 'reputation', 'yellow', 'paper', 'technical', 'feature', 'experimentally', 'proven', 'feature', 'include', 'exceptional', 'technical', 'characteristic', 'nerk', 'result', 'innovative', 'technology', 'data', 'synchronization', 'subsystem', 'complete', 'integral', 'data', 'update', 'multiconsensus', 'subsystem', 'generate', 'validate', 'block', 'parallel', 'synchronization', 'process', 'subsystem', 'follow', 'test', 'method', 'result', 'provide', 'transaction', 'capacity', 'transaction', 'nerk', 'synchronization', 'time', 'minimum', 'number', 'node', 'block', 'generation', 'time', 'storage', 'require', 'financial', 'transaction', 'yellow', 'paper', 'test', 'building', 'nerk', 'test', 'evaluate', 'process', 'nerk', 'building', 'prior', 'nerk', 'build', 'evaluate', 'effective', 'performance', 'node', 'speed', 'data', 'transmission', 'node', 'mainnet', 'test', 'randomly', 'conduct', 'node', 'background', 'follow', 'test', 'result', 'algorithm', 'active', 'node', 'compute', 'optimal', 'nerk', 'map', 'assign', 'follow', 'role', 'node', 'graphic', 'image', 'result', 'nerk', 'map', 'signal', 'travel', 'outer', 'layer', 'center', 'node', 'node', 'node', 'nerk', 'map', 'test', 'involve', 'node', 'continent', 'wide', 'range', 'node', 'parameter', 'test', 'lowperformance', 'vcpu', 'highperformance', 'vcpu', 'ram', 'test', 'conduct', 'month', 'time', 'billion', 'transaction', 'process', 'test', 'methodology', 'yellow', 'transaction', 'propagation', 'node', 'test', 'bulk', 'transaction', 'verification', 'latency', 'test', 'study', 'dependence', 'transaction', 'time', 'number', 'transaction', 'transaction', 'time', 'define', 'total', 'time', 'transaction', 'creation', 'complete', 'propagation', 'process', 'transaction', 'entire', 'nerk', 'transaction', 'propagation', 'path', 'nerk', 'number', 'transaction', 'varied', 'yellow', 'paper', 'blue', 'dot', 'denote', 'acquire', 'experimental', 'data', 'transaction', 'mark', 'record', 'threshold', 'nerk', 'bandwidth', 'transaction', 'process', 'node', 'queue', 'remain', 'pending', 'process', 'block', 'interpolation', 'polynomial', 'yellow', 'graph', 'linear', 'mark', 'transaction', 'prof', 'excellent', 'scalability', 'nerk', 'study', 'range', 'time', 'number', 'transaction', 'transaction', 'tps', 'yellow', 'partial', 'shutoff', 'nerk', 'test', 'nerk', 'failure', 'test', 'measure', 'nerk', 'performance', 'depend', 'number', 'lose', 'node', 'percentage', 'node', 'randomly', 'turn', 'illustrates', 'shutoff', 'scenario', 'result', 'low', 'node', 'active', 'nerk', 'fully', 'capable', 'function', 'claimed', 'performance', 'capacity', 'nerk', 'availability', 'transaction', 'verification', 'distribution', 'speed', 'result', 'achieve', 'simulation', 'failure', 'cluster', 'server', 'collocation', 'eg', 'data', 'center', 'failure', 'global', 'isp', 'issue', 'yellow', 'paper', 'test', 'blockage', 'nerk', 'recovery', 'test', 'simulated', 'continental', 'blockage', 'lead', 'nerk', 'split', 'subsequent', 'rebuild', 'follow', 'merge', 'purpose', 'test', 'speed', 'consensus', 'reorganization', 'split', 'synchronization', 'speed', 'nerk', 'recovery', 'scenario', 'rebuild', 'nerk', 'complete', 'structure', 'node', 'nerk', 'form', 'chain', 'transaction', 'block', 'merge', 'replacement', 'conflict', 'transaction', 'connection', 'nerks', 'restore', 'cutoff', 'node', 'reconnected', 'nerk', 'node', 'add', 'effective', 'performance', 'slows', 'transaction', 'period', 'data', 'synchronization', 'nerk', 'effectively', 'slows', 'time', 'duration', 'merge', 'test', 'result', 'throughput', 'handle', 'transaction', 'broad', 'range', 'environmental', 'bandwidth', 'load', 'transaction', 'outpace', 'claimed', 'performance', 'transaction', 'exceed', 'incoming', 'transaction', 'rate', 'claimed', 'performance', 'level', 'processing', 'speed', 'observe', 'slow', 'nerk', 'resilience', 'maintain', 'nerk', 'failure', 'level', 'performance', 'deterioration', 'event', 'continental', 'nerk', 'blockage', 'nerks', 'retain', 'local', 'functionality', 'automatically', 'rebuild', 'connectivity', 'restore', 'rebuild', 'nerks', 'function', 'slow', 'mode', 'yellow', 'paper', 'nerk', 'description', 'single', 'rank', 'peertopeer', 'nerk', 'member', 'nerk', 'software', 'automatically', 'role', 'assign', 'role', 'assign', 'algorithm', 'execute', 'node', 'role', 'provide', 'specific', 'service', 'synchronization', 'consensus', 'subsystem', 'operation', 'principle', 'comprehensible', 'subsystem', 'explain', 'individually', 'nerk', 'key', 'role', 'node', 'node', 'node', 'master', 'core', 'node', 'slave', 'core', 'node', 'node', 'yellow', 'paper', 'data', 'synchronization', 'subsystem', 'describes', 'nerk', 'perspective', 'data', 'synchronization', 'subsystem', 'nerk', 'design', 'role', 'assignment', 'nerk', 'member', 'data', 'synchronization', 'subsystem', 'maintain', 'role', 'assignment', 'base', 'node', 'physical', 'property', 'memory', 'cpu', 'performance', 'nerk', 'connection', 'quality', 'performance', 'sole', 'criterion', 'determines', 'node', 'role', 'characteristic', 'node', 'geographic', 'location', 'data', 'synchronization', 'subsystem', 'role', 'functionality', 'nerk', 'structure', 'role', 'function', 'userclient', 'option', 'hard', 'drive', 'archive', 'storage', 'forge', 'mode', 'live', 'node', 'incoming', 'connection', 'light', 'client', 'direct', 'connection', 'node', 'sufficient', 'processing', 'capacity', 'synchronization', 'task', 'ensures', 'fast', 'nerk', 'connectivity', 'client', 'protects', 'invalid', 'transaction', 'node', 'incoming', 'connection', 'maintains', 'longdistance', 'connection', 'maintains', 'direct', 'connection', 'node', 'sufficient', 'processing', 'capacity', 'synchronization', 'serf', 'nerk', 'communication', 'layer', 'node', 'incoming', 'connection', 'node', 'good', 'connection', 'node', 'region', 'sufficient', 'processing', 'capacity', 'fast', 'block', 'generation', 'control', 'synchronization', 'process', 'slave', 'core', 'node', 'duplicate', 'node', 'operation', 'automatically', 'replace', 'node', 'case', 'unavailability', 'failure', 'node', 'connection', 'role', 'sufficient', 'storage', 'capacity', 'blockchain', 'data', 'transmits', 'data', 'node', 'work', 'raw', 'data', 'archive', 'report', 'balance', 'carry', 'specific', 'task', 'support', 'application', 'function', 'data', 'synchronization', 'subsystem', 'role', 'function', 'yellow', 'nerk', 'diagram', 'nerk', 'member', 'role', 'static', 'member', 'change', 'role', 'base', 'criterion', 'list', 'aibased', 'behavioral', 'analysis', 'nerk', 'schematically', 'nerk', 'layer', 'main', 'chain', 'nerk', 'map', 'technical', 'client', 'yellow', 'paper', 'nerk', 'implement', 'node', 'confidence', 'factor', 'define', 'weight', 'factor', 'role', 'assignment', 'voting', 'influence', 'depends', 'duration', 'node', 'operation', 'nerk', 'node', 'performance', 'absence', 'nerk', 'failure', 'error', 'occur', 'node', 'multiple', 'proof', 'data', 'rout', 'crucial', 'task', 'optimize', 'synchronization', 'nerk', 'map', 'dynamically', 'update', 'member', 'generates', 'map', 'entire', 'nerk', 'update', 'continuously', 'speed', 'data', 'delivery', 'map', 'choose', 'optimal', 'operator', 'node', 'task', 'client', 'nerk', 'map', 'generate', 'node', 'sign', 'account', 'voting', 'process', 'chapter', 'multiple', 'proof', 'nerk', 'map', 'public', 'client', 'generates', 'nerk', 'map', 'interact', 'member', 'nerk', 'client', 'choose', 'operator', 'request', 'operator', 'high', 'level', 'connection', 'speed', 'specific', 'client', 'event', 'node', 'failure', 'automatic', 'voting', 'role', 'redistribution', 'place', 'base', 'nerk', 'map', 'node', 'achieve', 'optimal', 'nerk', 'map', 'query', 'node', 'performance', 'intranode', 'transfer', 'speed', 'data', 'randomly', 'node', 'test', 'mode', 'test', 'design', 'compromise', 'node', 'unable', 'spoof', 'nerk', 'provide', 'high', 'performance', 'speed', 'unable', 'understand', 'simulation', 'achieve', 'provide', 'test', 'final', 'stage', 'interaction', 'node', 'connection', 'nerk', 'list', 'node', 'address', 'receive', 'dns', 'nerk', 'map', 'finalize', 'carry', 'map', 'nerk', 'topology', 'yellow', 'paper', 'field', 'description', 'binary', 'node', 'binary', 'format', 'address', 'node', 'wallet', 'address', 'coin', 'coin', 'delegate', 'nodetype', 'bitmask', 'bitmask', 'current', 'node', 'role', 'master', 'slave', 'verif', 'proxy', 'torrentfull', 'torrenttx', 'torrentbalance', 'torrentbkp', 'node', 'counter', 'number', 'parent', 'node', 'type', 'varint', 'node', 'node', 'addr', 'node', 'node', 'addr', 'list', 'parent', 'node', 'correspond', 'number', 'node', 'parent', 'node', 'counter', 'sort', 'priority', 'require', 'follow', 'parameter', 'parent', 'node', 'node', 'node', 'wallet', 'address', 'coin', 'coin', 'delegate', 'object', 'data', 'structure', 'varint', 'proprietary', 'type', 'integer', 'variable', 'length', 'data', 'developed', 'nerk', 'map', 'state', 'define', 'block', 'separate', 'blockchain', 'block', 'describes', 'state', 'member', 'nerk', 'relevant', 'topology', 'performance', 'test', 'result', 'nerk', 'map', 'mhaddr', 'varint', 'parentcnt', 'xea', 'mhaddr', 'xda', 'xda', 'mhaddr', 'varint', 'datasize', 'protobuf', 'data', 'object', 'scheme', 'binary', 'address', 'node', 'counter', 'node', 'node', 'address', 'node', 'address', 'node', 'nodetype', 'bitmask', 'yellow', 'paper', 'follow', 'node', 'description', 'binary', 'list', 'report', 'test', 'result', 'node', 'sign', 'private', 'key', 'node', 'node', 'test', 'result', 'save', 'format', 'mhaddr', 'ping', 'tps', 'signsec', 'ram', 'rate', 'varint', 'signsize', 'sign', 'varint', 'pubksize', 'pubk', 'test', 'schema', 'role', 'node', 'node', 'slave', 'core', 'node', 'slave', 'core', 'node', 'node', 'node', 'node', 'node', 'node', 'receives', 'data', 'role', 'parent', 'node', 'compliance', 'type', 'parent', 'node', 'depends', 'current', 'node', 'role', 'nerk', 'member', 'accord', 'protobuf', 'method', 'data', 'pack', 'binary', 'code', 'propose', 'signature', 'public', 'key', 'block', 'check', 'validity', 'test', 'record', 'data', 'structure', 'test', 'field', 'description', 'mhaddr', 'node', 'binary', 'format', 'ping', 'ping', 'millisecond', 'tps', 'transaction', 'nerk', 'channel', 'bandwidth', 'signsec', 'signature', 'ram', 'ram', 'rate', 'node', 'yellow', 'paper', 'multiconsensus', 'subsystem', 'blockchain', 'critical', 'define', 'state', 'consensus', 'state', 'member', 'nerk', 'agree', 'propose', 'change', 'addition', 'exist', 'blockchain', 'record', 'nerk', 'role', 'exclusively', 'viewport', 'consensus', 'subsystem', 'context', 'exist', 'blockchain', 'technology', 'consensus', 'model', 'cryptographic', 'protection', 'blockchain', 'structure', 'content', 'transaction', 'protocol', 'capability', 'key', 'requirement', 'outline', 'write', 'algorithm', 'consensus', 'model', 'reach', 'consensus', 'high', 'speed', 'provide', 'improve', 'security', 'corruption', 'nerk', 'time', 'write', 'dpos', 'fast', 'consensus', 'model', 'test', 'popular', 'platform', 'dpos', 'proposes', 'member', 'nerk', 'hold', 'voting', 'power', 'equivalent', 'member', 'member', 'grant', 'trust', 'delegate', 'speed', 'voting', 'process', 'number', 'delegate', 'generally', 'small', 'practice', 'large', 'collect', 'limited', 'group', 'people', 'neutralize', 'nerk', 'team', 'improve', 'dpos', 'model', 'developed', 'algorithm', 'multiple', 'proof', 'consensus', 'model', 'model', 'multilayered', 'validation', 'provide', 'basis', 'protect', 'nerk', 'corruption', 'case', 'central', 'nerk', 'entity', 'generate', 'block', 'corrupt', 'rest', 'nerk', 'vote', 'rebuild', 'nerk', 'redistribute', 'role', 'neutralize', 'threat', 'blockcreating', 'core', 'manage', 'synchronization', 'static', 'vary', 'accord', 'dynamic', 'nerk', 'parameter', 'grant', 'final', 'validation', 'model', 'validation', 'block', 'distribution', 'process', 'parallel', 'decrease', 'consensus', 'time', 'innovative', 'method', 'validation', 'management', 'core', 'technology', 'yellow', 'paper', 'reach', 'consensus', 'key', 'definition', 'node', 'key', 'player', 'consensus', 'compile', 'transaction', 'block', 'follow', 'address', 'node', 'synchronization', 'process', 'block', 'generation', 'nerk', 'consensus', 'process', 'distribution', 'block', 'torrent', 'node', 'transaction', 'nerk', 'detailed', 'description', 'transaction', 'undergo', 'validation', 'process', 'symbol', 'denote', 'signature', 'validity', 'check', 'denote', 'transaction', 'validity', 'check', 'function', 'return', 'true', 'transaction', 'valid', 'define', 'method', 'element', 'transaction', 'transaction', 'define', 'transaction', 'fee', 'node', 'formation', 'block', 'verification', 'node', 'vary', 'represent', 'time', 'curverif', 'function', 'time', 'compute', 'curverift', 'represent', 'time', 'define', 'maxverif', 'minverif', 'define', 'access', 'specific', 'verification', 'node', 'nerk', 'icurverif', 'evidently', 'limited', 'node', 'time', 'block', 'creation', 'number', 'core', 'node', 'constant', 'denote', 'curcores', 'access', 'specific', 'core', 'node', 'nerk', 'denote', 'cri', 'icurcores', 'adr', 'address', 'define', 'pair', 'private', 'public', 'key', 'account', 'balance', 'method', 'access', 'property', 'address', 'declare', 'access', 'balance', 'address', 'denote', 'multiple', 'proof', 'node', 'receives', 'transaction', 'client', 'check', 'transaction', 'validity', 'sends', 'transaction', 'verification', 'node', 'blockchain', 'state', 'memory', 'require', 'compute', 'resource', 'node', 'check', 'validity', 'economic', 'feasibility', 'transaction', 'receive', 'peer', 'node', 'record', 'transaction', 'process', 'require', 'compute', 'resource', 'node', 'transaction', 'verification', 'node', 'queue', 'transaction', 'block', 'generation', 'generates', 'block', 'consistent', 'sharding', 'slave', 'core', 'node', 'provide', 'sign', 'block', 'substitute', 'core', 'node', 'case', 'core', 'node', 'failure', 'node', 'distributes', 'blockchain', 'role', 'function', 'consensus', 'subsystem', 'yellow', 'paper', 'synchronization', 'phase', 'form', 'rawblock', 'block', 'valid', 'transaction', 'accord', 'active', 'comprise', 'active', 'sends', 'random', 'number', 'verification', 'node', 'number', 'denote', 'cnxtverif', 'node', 'synchronize', 'rawblock', 'verification', 'node', 'form', 'difference', 'set', 'normal', 'operation', 'equation', 'false', 'verification', 'node', 'sends', 'wide', 'predefined', 'cnxtcores', 'core', 'node', 'accord', 'list', 'manner', 'active', 'additional', 'transaction', 'previous', 'block', 'icurverif', 'icurverif', 'icurverif', 'moment', 'define', 'multiple', 'core', 'node', 'synchronization', 'phase', 'temporary', 'attribute', 'role', 'active', 'describes', 'core', 'node', 'active', 'duration', 'creation', 'block', 'set', 'core', 'wellordered', 'verification', 'node', 'point', 'time', 'aware', 'active', 'core', 'current', 'core', 'identifier', 'curcore', 'curblock', 'mod', 'curcores', 'formula', 'simplify', 'number', 'core', 'order', 'reduce', 'complexity', 'calculate', 'stage', 'set', 'transfer', 'crcurcore', 'follow', 'role', 'active', 'simplicity', 'crcurcore', 'acr', 'valid', 'notation', 'result', 'operation', 'set', 'form', 'union', 'set', 'synchronization', 'phase', 'verification', 'node', 'process', 'calculates', 'multitude', 'transaction', 'arrive', 'verification', 'node', 'deem', 'valid', 'set', 'transaction', 'match', 'condition', 'verification', 'node', 'set', 'valid', 'transaction', 'set', 'transaction', 'set', 'inherits', 'property', 'transaction', 'include', 'hash', 'transaction', 'set', 'valid', 'transaction', 'hash', 'specific', 'verification', 'node', 'define', 'denotes', 'object', 'property', 'verification', 'node', 'yellow', 'paper', 'synchronization', 'phase', 'condition', 'fourth', 'synchronization', 'phase', 'achieve', 'core', 'node', 'form', 'posblock', 'signature', 'core', 'node', 'verify', 'block', 'block', 'torrent', 'node', 'involves', 'core', 'node', 'block', 'creation', 'proceeds', 'order', 'core', 'event', 'failure', 'core', 'node', 'slave', 'core', 'step', 'replacement', 'block', 'validate', 'checked', 'confirm', 'core', 'verification', 'node', 'core', 'commence', 'formation', 'block', 'current', 'validate', 'block', 'torrent', 'node', 'dissemination', 'client', 'node', 'confirm', 'block', 'valid', 'initiate', 'dissemination', 'block', 'user', 'torrent', 'node', 'block', 'invalid', 'torrent', 'node', 'raise', 'signal', 'alert', 'core', 'node', 'compromise', 'initiate', 'role', 'redistribution', 'process', 'synchronization', 'phase', 'transaction', 'notation', 'core', 'node', 'verification', 'node', 'simultaneously', 'send', 'rawblock', 'nonactive', 'core', 'node', 'core', 'node', 'receive', 'block', 'set', 'form', 'manner', 'analogous', 'set', 'set', 'hash', 'rawblock', 'transaction', 'receive', 'node', 'transaction', 'hash', 'compact', 'transaction', 'reduce', 'resource', 'cost', 'synchronization', 'operation', 'stage', 'hash', 'transaction', 'follow', 'attribute', 'require', 'consensus', 'reach', 'set', 'hash', 'active', 'equal', 'equivalent', 'set', 'intersection', 'transaction', 'hash', 'core', 'jcurcores', 'jcurcores', 'hjh', 'icurverif', 'icurverif', 'yellow', 'flowchart', 'process', 'reach', 'consensus', 'provide', 'description', 'time', 'interval', 'stage', 'process', 'designation', 'denote', 'frequent', 'occur', 'observation', 'data', 'set', 'transaction', 'flowchart', 'consensus', 'algorithm', 'visualization', 'verif', 'consensus', 'reach', 'diagram', 'yellow', 'paper', 'consensus', 'reach', 'stage', 'process', 'execution', 'time', 'request', 'service', 'data', 'torrent', 'node', 'mos', 'creates', 'transaction', 'sign', 'sends', 'mos', 'node', 'check', 'sufficiency', 'accuracy', 'data', 'signature', 'transaction', 'sends', 'verification', 'node', 'mos', 'node', 'check', 'data', 'accuracy', 'transaction', 'economic', 'feasibility', 'possess', 'core', 'node', 'active', 'create', 'block', 'verification', 'node', 'sends', 'transaction', 'mos', 'core', 'node', 'generates', 'block', 'incoming', 'transaction', 'verification', 'node', 'mos', 'process', 'occur', 'parallel', 'node', 'distribute', 'block', 'verification', 'node', 'node', 'mos', 'node', 'check', 'transaction', 'block', 'lose', 'transaction', 'verification', 'node', 'deliver', 'follow', 'node', 'participate', 'block', 'creation', 'include', 'transaction', 'block', 'discard', 'completely', 'discard', 'transaction', 'deliver', 'node', 'user', 'learn', 'reason', 'discard', 'status', 'block', 'verify', 'voting', 'core', 'seed', 'root', 'layer', 'torrent', 'node', 'speed', 'synchronization', 'node', 'verify', 'block', 'correct', 'sign', 'deliver', 'root', 'layer', 'torrent', 'node', 'verification', 'node', 'block', 'deliver', 'root', 'layer', 'torrent', 'node', 'verify', 'core', 'node', 'torrent', 'node', 'client', 'check', 'core', 'node', 'voting', 'result', 'add', 'vote', 'mos', 'yellow', 'paper', 'accord', 'test', 'result', 'test', 'transaction', 'verification', 'block', 'distribution', 'torrent', 'node', 'start', 'transaction', 'arrival', 'peer', 'node', 'average', 'maximum', 'generate', 'irreversible', 'block', 'global', 'nerk', 'node', 'process', 'execution', 'time', 'block', 'synchronize', 'torrent', 'node', 'tree', 'root', 'layer', 'torrent', 'node', 'nerk', 'map', 'event', 'torrent', 'node', 'validate', 'block', 'correct', 'vote', 'nerk', 'rebuild', 'vote', 'torrent', 'node', 'favor', 'nerk', 'rebuild', 'torrent', 'node', 'deliver', 'block', 'nerk', 'rebuild', 'complete', 'mos', 'request', 'status', 'transaction', 'torrent', 'node', 'case', 'torrent', 'node', 'block', 'incorrect', 'informs', 'client', 'event', 'torrent', 'node', 'reply', 'client', 'current', 'block', 'compromise', 'transaction', 'deem', 'irreversible', 'probability', 'nerk', 'reconfiguration', 'high', 'torrent', 'node', 'inform', 'client', 'nerk', 'function', 'compromise', 'core', 'node', 'probability', 'transaction', 'rollback', 'yellow', 'paper', 'voting', 'weight', 'vote', 'superposition', 'node', 'holder', 'coin', 'delegate', 'coin', 'effective', 'voting', 'employ', 'votebased', 'decision', 'mechanism', 'include', 'validation', 'block', 'change', 'nerk', 'topology', 'software', 'update', 'address', 'delegate', 'coin', 'address', 'delegation', 'process', 'constraint', 'total', 'coin', 'delegate', 'held', 'address', 'denotes', 'absolute', 'voting', 'power', 'address', 'node', 'obtains', 'factor', 'increase', 'unit', 'hour', 'reward', 'calculation', 'transaction', 'validate', 'correctly', 'decrease', 'case', 'nerk', 'degradation', 'case', 'incorrect', 'validation', 'transaction', 'detection', 'achieve', 'require', 'day', 'yellow', 'paper', 'cryptography', 'nerk', 'security', 'digital', 'signature', 'algorithm', 'elliptic', 'curve', 'digital', 'signature', 'algorithm', 'family', 'sha', 'main', 'hash', 'function', 'algorithm', 'attackresistant', 'repeatedly', 'proven', 'applicability', 'sphere', 'digital', 'security', 'result', 'test', 'undertaken', 'cryptographic', 'algorithm', 'validation', 'program', 'report', 'quantum', 'computer', 'advance', 'considers', 'postquantum', 'cryptography', 'algorithm', 'block', 'structure', 'achieve', 'optimal', 'volume', 'data', 'storage', 'archive', 'blockchain', 'multilevel', 'highspeed', 'validation', 'type', 'block', 'block', 'primary', 'block', 'initial', 'release', 'coin', 'distribution', 'block', 'snapshot', 'blockchain', 'state', 'block', 'generate', 'billion', 'transaction', 'require', 'vote', 'verification', 'node', 'block', 'verification', 'node', 'store', 'block', 'free', 'space', 'data', 'leave', 'data', 'data', 'storage', 'archive', 'block', 'generate', 'base', 'block', 'block', 'validate', 'number', 'node', 'validation', 'cycle', 'checked', 'validators', 'generation', 'block', 'yellow', 'paper', 'block', 'alternative', 'hard', 'fork', 'block', 'complete', 'nerk', 'snapshot', 'hard', 'fork', 'case', 'software', 'update', 'nerk', 'convert', 'software', 'operation', 'continue', 'accord', 'rule', 'block', 'activation', 'block', 'activates', 'change', 'rule', 'require', 'software', 'simultaneous', 'smooth', 'update', 'process', 'validators', 'vote', 'simultaneously', 'core', 'node', 'create', 'invalid', 'block', 'follow', 'validators', 'reject', 'reason', 'corruption', 'check', 'place', 'require', 'nerk', 'rebuilt', 'consensus', 'reach', 'time', 'transaction', 'buffer', 'verification', 'node', 'layer', 'processing', 'buffer', 'start', 'valid', 'block', 'corrupt', 'block', 'corrupt', 'block', 'block', 'discard', 'process', 'block', 'discard', 'procedure', 'nerk', 'split', 'merge', 'merge', 'block', 'nerk', 'split', 'merge', 'yellow', 'paper', 'extreme', 'condition', 'connection', 'failure', 'loss', 'connection', 'country', 'nerk', 'split', 'separate', 'nerks', 'case', 'nerk', 'retain', 'original', 'structure', 'node', 'merge', 'synchronization', 'lose', 'block', 'incoming', 'transaction', 'accumulate', 'pool', 'unscheduled', 'merge', 'block', 'creation', 'commence', 'block', 'save', 'merge', 'block', 'nerk', 'rebuild', 'continue', 'operation', 'block', 'eliminate', 'double', 'spend', 'motivation', 'transaction', 'involve', 'address', 'exceed', 'balance', 'deem', 'valid', 'nerk', 'maximum', 'vote', 'recipient', 'nerk', 'vote', 'inform', 'nerk', 'split', 'theory', 'recipient', 'initiate', 'double', 'spend', 'nerk', 'transaction', 'cancel', 'recipient', 'wait', 'nerks', 'merge', 'standard', 'transaction', 'process', 'normal', 'flaw', 'roll', 'transaction', 'purpose', 'achieve', 'double', 'spend', 'oppose', 'scheme', 'long', 'blockchain', 'win', 'transaction', 'subject', 'rollback', 'yellow', 'paper', 'balance', 'model', 'basis', 'financial', 'asset', 'management', 'method', 'impossible', 'work', 'asset', 'clear', 'understand', 'balance', 'doubleentry', 'bookkeeping', 'apply', 'classic', 'accounting', 'tripleentry', 'bookkeeping', 'favor', 'decentralize', 'accounting', 'applicable', 'blockchain', 'platform', 'platform', 'track', 'user', 'balance', 'popular', 'balance', 'model', 'unspent', 'transaction', 'output', 'model', 'model', 'direct', 'graph', 'asset', 'user', 'database', 'current', 'nerk', 'state', 'model', 'advantage', 'disadvantage', 'issue', 'model', 'refer', 'article', 'prepared', 'hashex', 'consultancy', 'model', 'model', 'high', 'degree', 'privacy', 'address', 'coin', 'owner', 'store', 'account', 'state', 'easily', 'scale', 'sharding', 'efficient', 'usage', 'repository', 'hard', 'work', 'smart', 'contract', 'state', 'intuitively', 'clear', 'approach', 'multithreading', 'computation', 'client', 'analyse', 'state', 'easily', 'complete', 'transparency', 'asset', 'movement', 'high', 'degree', 'fungibility', 'harder', 'track', 'asset', 'transaction', 'nonce', 'prevent', 'state', 'machine', 'store', 'nonce', 'unused', 'address', 'delete', 'inconvenient', 'track', 'internal', 'transaction', 'public', 'blockchain', 'pro', 'balance', 'model', 'yellow', 'paper', 'blockchain', 'model', 'consensus', 'smart', 'contract', 'dpos', 'tron', 'dpos', 'qtum', 'aal', 'lft', 'key', 'advantage', 'model', 'uniqueness', 'coin', 'model', 'provide', 'simpler', 'smart', 'contract', 'implementation', 'aspect', 'modern', 'reasonable', 'choose', 'model', 'confirm', 'solution', 'apply', 'popular', 'product', 'model', 'popular', 'blockchains', 'note', 'hybrid', 'balance', 'model', 'pure', 'account', 'model', 'initial', 'stage', 'decide', 'account', 'model', 'speed', 'implementation', 'resolve', 'issue', 'data', 'growth', 'associate', 'nonce', 'account', 'storage', 'start', 'nonce', 'fork', 'block', 'unused', 'extremely', 'account', 'automatically', 'erase', 'node', 'memory', 'hybrid', 'scheme', 'balance', 'contract', 'feature', 'lot', 'transaction', 'standard', 'tree', 'model', 'time', 'considerable', 'disc', 'space', 'tree', 'introduce', 'optimize', 'proof', 'model', 'reduce', 'resource', 'require', 'data', 'storage', 'context', 'graph', 'dependency', 'proof', 'size', 'byte', 'tree', 'size', 'type', 'tree', 'descartes', 'tree', 'skip', 'list', 'avl', 'proof', 'size', 'modification', 'tree', 'size', 'block', 'processing', 'time', 'block', 'total', 'popular', 'blockchain', 'model', 'comparison', 'public', 'additional', 'model', 'improve', 'authenticate', 'dynamic', 'dictionary', 'application', 'yellow', 'paper', 'tree', 'size', 'avl', 'proof', 'size', 'tree', 'size', 'dependency', 'ifi', 'tree', 'size', 'avl', 'treeetherium', 'tree', 'proof', 'size', 'modification', 'tree', 'size', 'dependency', 'yellow', 'block', 'processing', 'time', 'block', 'blockchain', 'dependency', 'avl', 'verifierfull', 'verifier', 'block', 'yellow', 'paper', 'transaction', 'transaction', 'structure', 'describes', 'change', 'blockchain', 'state', 'transaction', 'follow', 'perform', 'cryptocurrency', 'transfer', 'operation', 'address', 'transaction', 'transmit', 'binary', 'form', 'confirm', 'signature', 'public', 'key', 'transaction', 'form', 'request', 'provide', 'graphic', 'representation', 'transaction', 'provide', 'data', 'structure', 'inside', 'transaction', 'field', 'description', 'recipient', 'address', 'asset', 'fee', 'fee', 'blockchain', 'secure', 'number', 'data', 'blockchain', 'record', 'pubkey', 'public', 'key', 'sign', 'signature', 'transaction', 'structure', 'graphic', 'representation', 'transaction', 'blocktype', 'blockts', 'blockheaders', 'txsize', 'txn', 'uint', 'size', 'varint', 'varint', 'fee', 'varint', 'nonce', 'varint', 'datasize', 'data', 'varint', 'signsize', 'sign', 'varint', 'pubksize', 'pubk', 'yellow', 'paper', 'protocol', 'feature', 'binary', 'protocol', 'support', 'financial', 'transaction', 'data', 'transaction', 'technical', 'transaction', 'technical', 'transaction', 'provide', 'opportunity', 'vote', 'delegation', 'cooperative', 'delegation', 'combination', 'forge', 'pool', 'voting', 'validation', 'control', 'child', 'address', 'specialuse', 'address', 'data', 'transaction', 'data', 'storage', 'execute', 'application', 'messenger', 'gamble', 'financial', 'transaction', 'transfer', 'address', 'type', 'transaction', 'store', 'chain', 'order', 'optimize', 'size', 'store', 'data', 'disallow', 'excessive', 'amplification', 'financial', 'chain', 'technical', 'data', 'main', 'address', 'case', 'advanced', 'feature', 'smart', 'contract', 'address', 'assign', 'exclusively', 'smart', 'contract', 'developer', 'address', 'smart', 'contract', 'administration', 'hypervisor', 'address', 'virtualization', 'frozen', 'address', 'child', 'address', 'withdrawal', 'parent', 'frozen', 'address', 'child', 'address', 'withdrawal', 'frozen', 'address', 'address', 'address', 'generation', 'public', 'key', 'step', 'byte', 'byte', 'byte', 'correspond', 'coordinate', 'byte', 'coordinate', 'perform', 'sha', 'hash', 'public', 'key', 'perform', 'remd', 'hash', 'result', 'previous', 'step', 'add', 'marker', 'byte', 'result', 'base', 'address', 'type', 'main', 'address', 'smart', 'contract', 'address', 'developer', 'address', 'hypervisor', 'address', 'frozen', 'address', 'xx', 'child', 'address', 'withdrawal', 'parent', 'frozen', 'address', 'child', 'address', 'withdrawal', 'frozen', 'address', 'xx', 'multisig', 'address', 'specialuse', 'address', 'yellow', 'paper', 'perform', 'sha', 'hash', 'result', 'sha', 'hash', 'result', 'byte', 'result', 'hash', 'add', 'byte', 'remd', 'hash', 'item', 'nature', 'multisigs', 'address', 'require', 'multiple', 'user', 'signature', 'perform', 'transaction', 'approach', 'situation', 'require', 'anonymity', 'nonanonymous', 'situation', 'freeze', 'perform', 'special', 'transaction', 'address', 'sends', 'transaction', 'timestamp', 'transfer', 'operation', 'address', 'disallowed', 'incoming', 'transfer', 'freeze', 'time', 'change', 'transaction', 'extend', 'shorten', 'transaction', 'timestamp', 'event', 'prioritize', 'address', 'security', 'coin', 'remain', 'unspent', 'timeframe', 'specialuse', 'child', 'address', 'transaction', 'frozen', 'address', 'common', 'parent', 'frozen', 'parent', 'address', 'address', 'online', 'wallet', 'require', 'offline', 'wallet', 'signature', 'operation', 'anonymous', 'approach', 'require', 'private', 'key', 'multisig', 'split', 'distribute', 'owner', 'shamir', 'secret', 'share', 'method', 'approach', 'multisig', 'smart', 'contract', 'require', 'transaction', 'sign', 'private', 'key', 'nature', 'address', 'frozen', 'address', 'child', 'address', 'anonymous', 'multisig', 'nonanonymous', 'multisig', 'yellow', 'paper', 'process', 'block', 'generation', 'validation', 'support', 'operation', 'entire', 'nerk', 'node', 'participates', 'forge', 'process', 'highperformance', 'alternative', 'mining', 'nerks', 'reward', 'reward', 'forge', 'grant', 'forge', 'pool', 'collect', 'fee', 'transaction', 'total', 'size', 'forge', 'pool', 'coin', 'unevenly', 'distribute', 'year', 'nerk', 'operation', 'reward', 'paid', 'hour', 'periodicity', 'recalculation', 'distribution', 'vary', 'base', 'technical', 'nerk', 'node', 'forge', 'obsolete', 'efficiency', 'deteriorate', 'number', 'limited', 'minimum', 'number', 'coin', 'require', 'specific', 'role', 'faster', 'nerk', 'node', 'high', 'capacity', 'nerk', 'node', 'essential', 'nerk', 'operation', 'reward', 'distribute', 'member', 'node', 'create', 'validate', 'block', 'address', 'holder', 'unwilling', 'upkeep', 'node', 'delegate', 'coin', 'trust', 'node', 'receive', 'forge', 'reward', 'delegation', 'technical', 'transaction', 'occurs', 'coin', 'frozen', 'delegation', 'period', 'transmit', 'address', 'delegate', 'node', 'delegation', 'cancel', 'delegation', 'cancel', 'hour', 'role', 'reassignment', 'operation', 'coin', 'delegate', 'cancellation', 'delegation', 'coin', 'delegate', 'compromise', 'node', 'detect', 'perform', 'malicious', 'activity', 'delegation', 'cancel', 'automatically', 'coin', 'frozen', 'day', 'exclude', 'possibility', 'transfer', 'redelegation', 'coin', 'remain', 'ownership', 'holder', 'unavailable', 'day', 'chapter', 'delegation', 'yellow', 'paper', 'holder', 'coin', 'coin', 'delegate', 'address', 'holder', 'coin', 'coin', 'delegate', 'nerk', 'address', 'pool', 'stimulation', 'pool', 'issue', 'hour', 'year', 'commission', 'transaction', 'storage', 'data', 'commission', 'receive', 'nerk', 'hour', 'coin', 'holder', 'reward', 'pool', 'commission', 'holder', 'coin', 'coin', 'coin', 'holder', 'reward', 'calculate', 'accord', 'follow', 'formula', 'coin', 'holder', 'reward', 'reward', 'distribution', 'reward', 'share', 'reward', 'type', 'coin', 'holder', 'reward', 'reward', 'holder', 'node', 'reward', 'reward', 'reward', 'active', 'holder', 'reward', 'distribution', 'member', 'nerk', 'financial', 'stimulation', 'aim', 'add', 'node', 'maximum', 'throughput', 'capacity', 'uniformly', 'role', 'latency', 'geographical', 'region', 'maintain', 'maximum', 'performance', 'beneficial', 'limited', 'number', 'highperformance', 'broad', 'bandwidth', 'computer', 'large', 'number', 'computer', 'low', 'performance', 'level', 'computer', 'peer', 'node', 'protect', 'nerk', 'core', 'achieve', 'abundance', 'node', 'pool', 'assume', 'role', 'automatic', 'decentralize', 'change', 'node', 'role', 'saturate', 'nerk', 'highcapacity', 'node', 'high', 'transaction', 'nerk', 'capable', 'processing', 'unit', 'time', 'node', 'reward', 'yellow', 'paper', 'nerk', 'require', 'computer', 'match', 'role', 'node', 'assessment', 'large', 'chosen', 'role', 'account', 'calculation', 'stimulates', 'add', 'node', 'role', 'nerk', 'deficit', 'balance', 'operation', 'nerk', 'node', 'reward', 'calculation', 'role', 'real', 'number', 'node', 'suitable', 'role', 'node', 'reward', 'calculate', 'base', 'number', 'coin', 'delegate', 'account', 'nerk', 'main', 'advantage', 'fast', 'node', 'gather', 'delegate', 'vote', 'increase', 'share', 'receive', 'commission', 'low', 'perform', 'node', 'limitation', 'delegate', 'coin', 'calculate', 'node', 'rat', 'speed', 'slowest', 'node', 'fast', 'accord', 'test', 'coefficient', 'calculation', 'rule', 'stimulates', 'add', 'node', 'fast', 'channel', 'cpu', 'signature', 'verification', 'performance', 'coefficient', 'coefficient', 'speed', 'rating', 'calculation', 'yellow', 'paper', 'stimulates', 'add', 'node', 'region', 'node', 'region', 'costly', 'operation', 'geolocation', 'coefficient', 'effective', 'coefficient', 'effective', 'delegate', 'coin', 'node', 'delegate', 'node', 'reward', 'pool', 'commission', 'node', 'latency', 'cluster', 'latency', 'cluster', 'node', 'count', 'latency', 'cluster', 'effective', 'delegate', 'coin', 'node', 'effective', 'delegate', 'coin', 'role', 'effective', 'delegate', 'coin', 'coin', 'stake', 'node', 'nerk', 'multiplies', 'delegate', 'coin', 'node', 'role', 'delegate', 'require', 'overabundance', 'node', 'role', 'region', 'require', 'stake', 'high', 'role', 'stake', 'reward', 'limit', 'node', 'node', 'node', 'node', 'require', 'stake', 'reward', 'limit', 'role', 'require', 'stake', 'reward', 'limit', 'role', 'yellow', 'paper', 'activation', 'node', 'undergoes', 'primary', 'assessment', 'role', 'fit', 'accord', 'technical', 'characteristic', 'reach', 'adequate', 'technical', 'property', 'node', 'assign', 'role', 'nerk', 'receive', 'reward', 'high', 'role', 'vice', 'versa', 'node', 'underperform', 'compare', 'fast', 'nerk', 'node', 'reward', 'limit', 'role', 'reward', 'distribute', 'random', 'active', 'member', 'number', 'active', 'node', 'reward', 'slot', 'allocate', 'score', 'member', 'active', 'client', 'online', 'hour', 'hour', 'reward', 'fourth', 'reward', 'role', 'sample', 'configexample', 'specification', 'purchase', 'lease', 'xeon', 'gold', 'cpu', 'hdd', 'silver', 'hdd', 'hhd', 'ram', 'hdd', 'digital', 'ocean', 'droplet', 'linode', 'recommend', 'hardware', 'cost', 'hardware', 'characteristic', 'maintain', 'claimed', 'nerk', 'performance', 'estimate', 'cost', 'purchase', 'lease', 'sufficient', 'number', 'node', 'characteristic', 'superior', 'recommend', 'nerk', 'automatically', 'reassign', 'underperform', 'node', 'role', 'recommend', 'hardware', 'yellow', 'paper', 'strategy', 'nerk', 'node', 'control', 'team', 'deem', 'centralize', 'technology', 'number', 'public', 'test', 'troubleshoot', 'realtime', 'change', 'team', 'plan', 'support', 'nerk', 'fully', 'decentralize', 'capable', 'selfdevelopment', 'phase', 'test', 'compnt', 'time', 'virtually', 'risk', 'nerk', 'step', 'propose', 'compnt', 'test', 'developer', 'nerk', 'public', 'test', 'update', 'testnet', 'update', 'mainnet', 'step', 'include', 'developer', 'nerk', 'launch', 'load', 'test', 'verification', 'processing', 'correctness', 'billion', 'transaction', 'public', 'testnet', 'launch', 'public', 'mainnet', 'launch', 'anchor', 'popular', 'blockchains', 'mainnet', 'launch', 'multiple', 'backup', 'archive', 'data', 'require', 'increase', 'security', 'member', 'order', 'avoid', 'change', 'critical', 'vulnerability', 'detect', 'mitigation', 'misuse', 'authority', 'team', 'plan', 'anchor', 'checksum', 'hash', 'public', 'blockchains', 'block', 'hash', 'calculation', 'forge', 'reward', 'record', 'blockchains', 'member', 'check', 'validity', 'entire', 'chain', 'static', 'control', 'point', 'public', 'blockchains', 'launch', 'peer', 'node', 'forge', 'incoming', 'transaction', 'process', 'nerk', 'public', 'decentralize', 'node', 'transaction', 'blockchain', 'stage', 'mechanism', 'forge', 'reward', 'role', 'test', 'node', 'launch', 'stage', 'nerk', 'reach', 'goal', 'public', 'decentralize', 'storage', 'transaction', 'block', 'public', 'repository', 'torrent', 'verification', 'core', 'performance', 'correctness', 'client', 'start', 'receive', 'data', 'decentralize', 'node', 'switch', 'automate', 'role', 'assignment', 'team', 'node', 'user', 'node', 'remain', 'static', 'role', 'switch', 'automate', 'role', 'assignment', 'user', 'node', 'role', 'stage', 'verifies', 'correctness', 'nerk', 'map', 'design', 'machine', 'learn', 'automate', 'nerk', 'rebuild', 'start', 'security', 'test', 'select', 'vendor', 'attack', 'consensus', 'nerk', 'failure', 'yellow', 'paper', 'software', 'update', 'start', 'bounty', 'campaign', 'focus', 'debug', 'security', 'issue', 'stage', 'main', 'architectural', 'vulnerability', 'nerk', 'attack', 'eliminate', 'public', 'bounty', 'engage', 'public', 'eliminate', 'rare', 'type', 'attack', 'core', 'slave', 'core', 'verification', 'node', 'software', 'update', 'ensure', 'completely', 'autonomous', 'distribution', 'role', 'nerk', 'phase', 'provide', 'continuous', 'operation', 'nerk', 'implement', 'risk', 'control', 'term', 'attack', 'nerk', 'yellow', 'paper', 'risk', 'risk', 'assessment', 'hashex', 'base', 'ferma', 'standard', 'risk', 'negative', 'outcome', 'project', 'study', 'dimensional', 'assessment', 'method', 'risk', 'description', 'risk', 'assessment', 'base', 'risk', 'probability', 'consequence', 'threat', 'organization', 'exposure', 'risk', 'type', 'operational', 'probability', 'medium', 'decentralize', 'nerks', 'continuously', 'experience', 'attack', 'type', 'attack', 'long', 'costly', 'attacker', 'estimate', 'day', 'staticrole', 'consequence', 'threat', 'low', 'risk', 'nerk', 'automatically', 'start', 'rebuild', 'node', 'unavailable', 'risk', 'type', 'operational', 'probability', 'low', 'remote', 'ddos', 'type', 'previous', 'risk', 'attack', 'require', 'large', 'computational', 'resource', 'attacker', 'costly', 'operation', 'comparison', 'previous', 'risk', 'consequence', 'threat', 'low', 'risk', 'high', 'nerk', 'load', 'transaction', 'fee', 'start', 'grow', 'nonlinearly', 'attack', 'impractical', 'maintain', 'nerk', 'load', 'attack', 'cost', 'load', 'transaction', 'cost', 'price', 'attack', 'cost', 'attack', 'increase', 'transaction', 'price', 'nerk', 'short', 'span', 'time', 'node', 'availability', 'ddos', 'attack', 'node', 'nerk', 'bandwidth', 'ddos', 'attack', 'multiple', 'transaction', 'generation', 'risk', 'type', 'operational', 'probability', 'medium', 'attacker', 'modify', 'local', 'time', 'disrupt', 'node', 'synchronization', 'consequence', 'threat', 'low', 'risk', 'key', 'time', 'parameter', 'measure', 'tick', 'node', 'reference', 'server', 'local', 'time', 'attack', 'change', 'local', 'time', 'yellow', 'paper', 'risk', 'type', 'operational', 'probability', 'high', 'probable', 'time', 'blockchain', 'size', 'lead', 'impossibility', 'store', 'blockchain', 'regular', 'hardware', 'equipment', 'moment', 'write', 'size', 'exceeds', 'size', 'close', 'industry', 'growth', 'rate', 'size', 'exceed', 'result', 'utter', 'impossibility', 'store', 'personal', 'computer', 'consequence', 'threat', 'high', 'risk', 'feature', 'storage', 'archive', 'data', 'distribute', 'repository', 'negative', 'sideeffects', 'main', 'nerk', 'performance', 'expense', 'block', 'accord', 'calculation', 'continuous', 'peak', 'load', 'nerk', 'storage', 'archive', 'data', 'financially', 'efficient', 'year', 'scenario', 'propose', 'implement', 'cheap', 'archive', 'repository', 'deploy', 'purge', 'mechanism', 'year', 'data', 'decision', 'voting', 'face', 'challenge', 'storage', 'historical', 'data', 'perform', 'fork', 'approve', 'general', 'voting', 'create', 'block', 'order', 'reduce', 'cost', 'historical', 'data', 'storage', 'risk', 'type', 'strategic', 'probability', 'low', 'remote', 'consequence', 'threat', 'high', 'risk', 'consensus', 'subsystem', 'solve', 'problem', 'simultaneously', 'layer', 'require', 'control', 'attack', 'extremely', 'hard', 'synchronize', 'nerk', 'node', 'signal', 'compromise', 'loses', 'support', 'compromise', 'node', 'emergence', 'nerk', 'singlehandedly', 'client', 'start', 'retroactively', 'reject', 'block', 'trust', 'compromise', 'torrent', 'effectively', 'splitting', 'nerk', 'client', 'nerk', 'valuable', 'possess', 'control', 'control', 'dead', 'nerk', 'client', 'remain', 'coin', 'holder', 'nerk', 'unlimited', 'growth', 'blockchain', 'size', 'majority', 'single', 'possession', 'attack', 'risk', 'type', 'strategic', 'probability', 'high', 'probable', 'initial', 'stage', 'numerous', 'critical', 'node', 'control', 'developer', 'nerk', 'require', 'level', 'vulnerable', 'malevolent', 'change', 'consequence', 'threat', 'high', 'risk', 'anchor', 'popular', 'blockchains', 'regular', 'basis', 'launch', 'forge', 'peer', 'node', 'torrent', 'node', 'ensure', 'chain', 'log', 'store', 'public', 'decentralize', 'repository', 'illegitimate', 'alteration', 'easily', 'noticeable', 'developer', 'authority', 'misuse', 'launch', 'yellow', 'paper', 'risk', 'depict', 'risk', 'map', 'strategic', 'risk', 'tolerance', 'require', 'detailed', 'study', 'result', 'ineluctable', 'catastrophic', 'consequence', 'project', 'risk', 'map', 'high', 'low', 'medium', 'high', 'medium', 'low', 'risk', 'probability', 'risk', 'tolerance', 'yellow', 'paper', 'conclusion', 'project', 'start', 'early', 'team', 'conduct', 'technology', 'study', 'solution', 'project', 'goal', 'follow', 'result', 'achieve', 'optimal', 'synchronization', 'structure', 'geographically', 'distribute', 'nerk', 'design', 'capacity', 'megabyte', 'financial', 'transaction', 'include', 'validation', 'sender', 'signature', 'check', 'balance', 'availability', 'transaction', 'decentralize', 'storage', 'archive', 'data', 'stateblock', 'mechanism', 'place', 'consensus', 'implementation', 'type', 'test', 'multiple', 'verification', 'node', 'vote', 'block', 'correctness', 'generate', 'irreversible', 'transaction', 'faster', 'minimize', 'probable', 'blockchain', 'fork', 'rejection', 'branch', 'optimal', 'balance', 'model', 'benefit', 'blockchain', 'nerk', 'structure', 'chosen', 'reduce', 'size', 'store', 'transmit', 'data', 'comparison', 'average', 'performance', 'characteristic', 'blockchain', 'platform', 'add', 'capability', 'nonlinear', 'data', 'validation', 'inside', 'blockchain', 'result', 'tenfold', 'speed', 'increase', 'blockchain', 'validation', 'resolve', 'nerk', 'merge', 'split', 'access', 'restriction', 'group', 'member', 'blockage', 'seamless', 'votebased', 'software', 'update', 'mechanism', 'developed', 'avoid', 'nerk', 'hard', 'fork', 'complete', 'productiongrade', 'release', 'version', 'platform', 'prepared', 'fast', 'transaction', 'minimum', 'cost', 'reduce', 'infrastructure', 'cost', 'increase', 'capacity', 'enables', 'colossal', 'opportunity', 'blockchain', 'technology', 'realtime', 'application', 'internet', 'thing', 'paradigm', 'application', 'team', 'yellow', 'paper', 'data', 'storage', 'transaction', 'perform', 'nerk', 'data', 'store', 'project', 'focus', 'broad', 'bandwidth', 'face', 'challenge', 'data', 'storage', 'financial', 'expense', 'storage', 'transaction', 'size', 'data', 'compress', 'binary', 'form', 'costefficient', 'drive', 'terabyte', 'capacity', 'cost', 'product', 'terabyte', 'drive', 'year', 'drive', 'redundancy', 'overhead', 'cost', 'maintain', 'storage', 'include', 'replacement', 'damage', 'drive', 'year', 'data', 'storage', 'peak', 'load', 'duplication', 'cost', 'unit', 'storage', 'decentralize', 'order', 'secure', 'seed', 'data', 'nerk', 'storage', 'capacity', 'require', 'redundancy', 'cost', 'expect', 'rise', 'time', 'unit', 'price', 'ensure', 'adequate', 'number', 'node', 'backup', 'cost', 'data', 'storage', 'drive', 'peak', 'load', 'provide', 'redundancy', 'equal', 'overhead', 'total', 'storage', 'cost', 'peak', 'load', 'reserve', 'transaction', 'volume', 'estimate', 'peak', 'load', 'total', 'cover', 'data', 'storage', 'expense', 'transaction', 'year', 'transaction', 'year', 'history', 'record', 'cost', 'storage', 'transaction', 'year', 'estimate', 'average', 'peak', 'load', 'nerk', 'reach', 'high', 'cost', 'historical', 'data', 'storage', 'subject', 'fork', 'confirm', 'general', 'vote', 'create', 'block', 'reduce', 'data', 'storage', 'expense', 'hour', 'hour', 'month', 'year', 'minute', 'hour', 'hour', 'year', 'data', 'size', 'transaction', 'volume', 'transaction', 'estimate', 'peak', 'load', 'project', 'goal', 'technical', 'feature', 'test', 'methodology', 'test', 'building', 'nerk', 'test', 'bulk', 'transaction', 'verification', 'latency', 'test', 'nerk', 'failure', 'test', 'blockage', 'nerk', 'recovery', 'test', 'result', 'nerk', 'description', 'data', 'synchronization', 'subsystem', 'nerk', 'structure', 'nerk', 'topology', 'nerk', 'map', 'multiple', 'proof', 'voting', 'cryptography', 'block', 'structure', 'balance', 'model', 'transaction', 'protocol', 'feature', 'specialuse', 'address', 'nature', 'address', 'frozen', 'address', 'child', 'address', 'delegation', 'reward', 'distribution', 'strategy', 'risk', 'conclusion', 'data', 'storage']\n"
     ]
    }
   ],
   "source": [
    "# tokenizing the entire corpus by word\n",
    "def sent_to_words(sentences):\n",
    "    for sent in sentences:\n",
    "        sent = re.sub('\\S*@\\S*\\s?', '', sent)  # remove emails\n",
    "        sent = re.sub('\\s+', ' ', sent)  # remove newline chars\n",
    "        sent = re.sub(\"\\'\", \"\", sent)  # remove single quotes\n",
    "        sent = gensim.utils.simple_preprocess(str(sent), deacc=True) \n",
    "        yield(sent)  \n",
    "\n",
    "# Convert to list\n",
    "data = data_df.whitepapers.values.tolist()\n",
    "data_words = list(sent_to_words(data))\n",
    "print(data_words[0])"
   ]
  },
  {
   "cell_type": "code",
   "execution_count": 12,
   "metadata": {},
   "outputs": [],
   "source": [
    "# Build the bigram and trigram models\n",
    "bigram = gensim.models.Phrases(data_words, min_count=5, threshold=100) # higher threshold fewer phrases.\n",
    "trigram = gensim.models.Phrases(bigram[data_words], threshold=100)  \n",
    "bigram_mod = gensim.models.phrases.Phraser(bigram)\n",
    "trigram_mod = gensim.models.phrases.Phraser(trigram)\n",
    "\n",
    "# !python3 -m spacy download en  # run in terminal once\n",
    "def process_words(texts, stop_words=stop_words, allowed_postags=['NOUN', 'ADJ', 'VERB', 'ADV']):\n",
    "    \"\"\"Remove Stopwords, Form Bigrams, Trigrams and Lemmatization\"\"\"\n",
    "    texts = [[word for word in simple_preprocess(str(doc)) if word not in stop_words] for doc in texts]\n",
    "    texts = [bigram_mod[doc] for doc in texts]\n",
    "    texts = [trigram_mod[bigram_mod[doc]] for doc in texts]\n",
    "    texts_out = []\n",
    "    #nlp = spacy.load('en', disable=['parser', 'ner'])\n",
    "    nlp = spacy.load('en_core_web_sm', disable=['parser', 'ner'])\n",
    "    for sent in texts:\n",
    "        doc = nlp(\" \".join(sent)) \n",
    "        texts_out.append([token.lemma_ for token in doc if token.pos_ in allowed_postags])\n",
    "    # remove stopwords once more after lemmatization\n",
    "    texts_out = [[word for word in simple_preprocess(str(doc)) if word not in stop_words] for doc in texts_out]    \n",
    "    return texts_out\n",
    "\n",
    "data_ready = process_words(data_words)  # processed Text Data!"
   ]
  },
  {
   "cell_type": "markdown",
   "metadata": {},
   "source": [
    "## 3 - Methods Application\n",
    "\n",
    "### Topic Modeling on Blockchain Whitepapers"
   ]
  },
  {
   "cell_type": "markdown",
   "metadata": {},
   "source": [
    "At the document level, a useful ways to understand the text is by analysing its topics. Topic Modelling is the process of learning, recognising and extracting the topics across a collection of documents. This notebook tries to uncover topics from blockchain whitepapers that is relevant to Schungrat in-terms of investment dimensions.\n",
    "\n",
    "The notebook explores some of the methods of Topic Modelling such as ***Non-negative Matrix Factorization*** & ***Latent Dirichlet Allocation*** to see which fits better. Rather than being conceptual or mathematical, this notebook offers an applied approach with comments for the codes.\n",
    "\n",
    "\n",
    "Since the goal of this notebook is Topic Modelling, the text must be tokenized which means broken down to small pieces which here is words. We use scikit-learn's CountVectorizer technique where every row represents a different document and every column will represent a different word. \n",
    "\n",
    "At this moment, stop words are also removed thanks to CountVectorizer. Stop words are common words that seldom adds meaning or value to the text. \n"
   ]
  },
  {
   "cell_type": "code",
   "execution_count": 130,
   "metadata": {},
   "outputs": [],
   "source": [
    "#Creating corpus and dictionary for gensim\n",
    "id2word = corpora.Dictionary(data_ready)\n",
    "corpus_lda = [id2word.doc2bow(text) for text in data_ready]"
   ]
  },
  {
   "cell_type": "code",
   "execution_count": 29,
   "metadata": {},
   "outputs": [
    {
     "name": "stdout",
     "output_type": "stream",
     "text": [
      "absence\n"
     ]
    }
   ],
   "source": [
    "print(id2word[1])"
   ]
  },
  {
   "cell_type": "code",
   "execution_count": 144,
   "metadata": {},
   "outputs": [],
   "source": [
    "#lda with countvectorizer\n",
    "lda_gensim = gensim.models.ldamodel.LdaModel(corpus=corpus_lda,\n",
    "                                           id2word=id2word,\n",
    "                                           num_topics=6, \n",
    "                                           random_state=21,\n",
    "                                           update_every=1,\n",
    "                                           chunksize=100,\n",
    "                                           passes=20,\n",
    "                                           alpha='auto',\n",
    "                                           iterations=100,\n",
    "                                           per_word_topics=True)\n"
   ]
  },
  {
   "cell_type": "code",
   "execution_count": 71,
   "metadata": {},
   "outputs": [],
   "source": [
    "#creating a Dataframe of topics and words in it\n",
    "def get_lda_topics(model, num_topics):\n",
    "    word_dict = {};\n",
    "    for i in range(num_topics):\n",
    "        words = model.show_topic(i, topn = 10);\n",
    "        word_dict['Topic # ' + '{:02d}'.format(i+1)] = [i[0] for i in words];\n",
    "    return pd.DataFrame(word_dict);"
   ]
  },
  {
   "cell_type": "code",
   "execution_count": 73,
   "metadata": {},
   "outputs": [
    {
     "data": {
      "text/html": [
       "<div>\n",
       "<style scoped>\n",
       "    .dataframe tbody tr th:only-of-type {\n",
       "        vertical-align: middle;\n",
       "    }\n",
       "\n",
       "    .dataframe tbody tr th {\n",
       "        vertical-align: top;\n",
       "    }\n",
       "\n",
       "    .dataframe thead th {\n",
       "        text-align: right;\n",
       "    }\n",
       "</style>\n",
       "<table border=\"1\" class=\"dataframe\">\n",
       "  <thead>\n",
       "    <tr style=\"text-align: right;\">\n",
       "      <th></th>\n",
       "      <th>Topic # 01</th>\n",
       "      <th>Topic # 02</th>\n",
       "      <th>Topic # 03</th>\n",
       "      <th>Topic # 04</th>\n",
       "      <th>Topic # 05</th>\n",
       "      <th>Topic # 06</th>\n",
       "    </tr>\n",
       "  </thead>\n",
       "  <tbody>\n",
       "    <tr>\n",
       "      <th>0</th>\n",
       "      <td>token</td>\n",
       "      <td>user</td>\n",
       "      <td>blockchain</td>\n",
       "      <td>datum</td>\n",
       "      <td>transaction</td>\n",
       "      <td>node</td>\n",
       "    </tr>\n",
       "    <tr>\n",
       "      <th>1</th>\n",
       "      <td>user</td>\n",
       "      <td>unit</td>\n",
       "      <td>nerk</td>\n",
       "      <td>service</td>\n",
       "      <td>node</td>\n",
       "      <td>key</td>\n",
       "    </tr>\n",
       "    <tr>\n",
       "      <th>2</th>\n",
       "      <td>platform</td>\n",
       "      <td>asset</td>\n",
       "      <td>node</td>\n",
       "      <td>application</td>\n",
       "      <td>block</td>\n",
       "      <td>transaction</td>\n",
       "    </tr>\n",
       "    <tr>\n",
       "      <th>3</th>\n",
       "      <td>blockchain</td>\n",
       "      <td>token</td>\n",
       "      <td>token</td>\n",
       "      <td>oracle</td>\n",
       "      <td>nerk</td>\n",
       "      <td>block</td>\n",
       "    </tr>\n",
       "    <tr>\n",
       "      <th>4</th>\n",
       "      <td>nerk</td>\n",
       "      <td>blockchain</td>\n",
       "      <td>transaction</td>\n",
       "      <td>technology</td>\n",
       "      <td>account</td>\n",
       "      <td>bit</td>\n",
       "    </tr>\n",
       "    <tr>\n",
       "      <th>5</th>\n",
       "      <td>market</td>\n",
       "      <td>address</td>\n",
       "      <td>state</td>\n",
       "      <td>compute</td>\n",
       "      <td>time</td>\n",
       "      <td>hash</td>\n",
       "    </tr>\n",
       "    <tr>\n",
       "      <th>6</th>\n",
       "      <td>provide</td>\n",
       "      <td>chain</td>\n",
       "      <td>user</td>\n",
       "      <td>smart_contract</td>\n",
       "      <td>blockchain</td>\n",
       "      <td>note</td>\n",
       "    </tr>\n",
       "    <tr>\n",
       "      <th>7</th>\n",
       "      <td>service</td>\n",
       "      <td>transaction</td>\n",
       "      <td>protocol</td>\n",
       "      <td>provider</td>\n",
       "      <td>protocol</td>\n",
       "      <td>set</td>\n",
       "    </tr>\n",
       "    <tr>\n",
       "      <th>8</th>\n",
       "      <td>asset</td>\n",
       "      <td>datum</td>\n",
       "      <td>chain</td>\n",
       "      <td>development</td>\n",
       "      <td>consensus</td>\n",
       "      <td>input</td>\n",
       "    </tr>\n",
       "    <tr>\n",
       "      <th>9</th>\n",
       "      <td>transaction</td>\n",
       "      <td>review</td>\n",
       "      <td>order</td>\n",
       "      <td>trust</td>\n",
       "      <td>chain</td>\n",
       "      <td>proof</td>\n",
       "    </tr>\n",
       "  </tbody>\n",
       "</table>\n",
       "</div>"
      ],
      "text/plain": [
       "    Topic # 01   Topic # 02   Topic # 03      Topic # 04   Topic # 05  \\\n",
       "0        token         user   blockchain           datum  transaction   \n",
       "1         user         unit         nerk         service         node   \n",
       "2     platform        asset         node     application        block   \n",
       "3   blockchain        token        token          oracle         nerk   \n",
       "4         nerk   blockchain  transaction      technology      account   \n",
       "5       market      address        state         compute         time   \n",
       "6      provide        chain         user  smart_contract   blockchain   \n",
       "7      service  transaction     protocol        provider     protocol   \n",
       "8        asset        datum        chain     development    consensus   \n",
       "9  transaction       review        order           trust        chain   \n",
       "\n",
       "    Topic # 06  \n",
       "0         node  \n",
       "1          key  \n",
       "2  transaction  \n",
       "3        block  \n",
       "4          bit  \n",
       "5         hash  \n",
       "6         note  \n",
       "7          set  \n",
       "8        input  \n",
       "9        proof  "
      ]
     },
     "execution_count": 73,
     "metadata": {},
     "output_type": "execute_result"
    }
   ],
   "source": [
    "get_lda_topics(lda_gensim, 6)"
   ]
  },
  {
   "cell_type": "code",
   "execution_count": 175,
   "metadata": {},
   "outputs": [
    {
     "name": "stdout",
     "output_type": "stream",
     "text": [
      "\n",
      "Perplexity:  -7.550260320990744\n",
      "\n",
      "Coherence Score:  0.38675269508721805\n"
     ]
    }
   ],
   "source": [
    "# Compute Perplexity\n",
    "print('\\nPerplexity: ', lda_gensim.log_perplexity(corpus_lda))  # a measure of how good the model is. lower the better.\n",
    "\n",
    "# Compute Coherence Score\n",
    "coherence_model_lda = CoherenceModel(model=lda_gensim, texts=data_ready, dictionary=id2word, coherence='c_v')\n",
    "coherence_lda = coherence_model_lda.get_coherence()\n",
    "print('\\nCoherence Score: ', coherence_lda)"
   ]
  },
  {
   "cell_type": "markdown",
   "metadata": {},
   "source": [
    "### Word Count and Importance of Topic keyword"
   ]
  },
  {
   "cell_type": "code",
   "execution_count": 119,
   "metadata": {},
   "outputs": [
    {
     "data": {
      "image/png": "[encoded data removed]",
      "text/plain": [
       "<Figure size 800x500 with 8 Axes>"
      ]
     },
     "metadata": {
      "needs_background": "light"
     },
     "output_type": "display_data"
    }
   ],
   "source": [
    "# Topics of the model\n",
    "topics = lda_gensim.show_topics(formatted=False)\n",
    "\n",
    "data_flat = [w for w_list in corpus for w in w_list]\n",
    "counter = Counter(data_flat)\n",
    "\n",
    "out = []\n",
    "for i, topic in topics:\n",
    "    for word, weight in topic:\n",
    "        out.append([word, i , weight, counter[word]])\n",
    "\n",
    "df = pd.DataFrame(out, columns=['word', 'topic_id', 'importance', 'word_count'])        \n",
    "\n",
    "# Plot Word Count and Weights of Topic Keywords\n",
    "fig, axes = plt.subplots(2, 2, figsize=(16,10), sharey=True, dpi=50)\n",
    "cols = [color for name, color in mcolors.TABLEAU_COLORS.items()]\n",
    "for i, ax in enumerate(axes.flatten()):\n",
    "    ax.bar(x='word', height=\"word_count\", data=df.loc[df.topic_id==i, :], color=cols[i], width=0.5, alpha=0.3, label='Word Count')\n",
    "    ax_twin = ax.twinx()\n",
    "    ax_twin.bar(x='word', height=\"importance\", data=df.loc[df.topic_id==i, :], color=cols[i], width=0.2, label='Weights')\n",
    "    ax.set_ylabel('Word Count', color=cols[i])\n",
    "    ax_twin.set_ylim(0, 0.030); ax.set_ylim(0, 3500)\n",
    "    ax.set_title('Topic: ' + str(i), color=cols[i], fontsize=16)\n",
    "    ax.tick_params(axis='y', left=False)\n",
    "    ax.set_xticklabels(df.loc[df.topic_id==i, 'word'], rotation=30, horizontalalignment= 'right')\n",
    "    ax.legend(loc='upper left'); ax_twin.legend(loc='upper right')\n",
    "\n",
    "fig.tight_layout(w_pad=2)    \n",
    "fig.suptitle('Word Count and Importance of Topic Keywords', fontsize=22, y=1.05)    \n",
    "plt.show()"
   ]
  },
  {
   "cell_type": "markdown",
   "metadata": {},
   "source": [
    "### Dominant Topic and it's percentage contribution in the document"
   ]
  },
  {
   "cell_type": "code",
   "execution_count": 74,
   "metadata": {},
   "outputs": [
    {
     "data": {
      "text/html": [
       "<div>\n",
       "<style scoped>\n",
       "    .dataframe tbody tr th:only-of-type {\n",
       "        vertical-align: middle;\n",
       "    }\n",
       "\n",
       "    .dataframe tbody tr th {\n",
       "        vertical-align: top;\n",
       "    }\n",
       "\n",
       "    .dataframe thead th {\n",
       "        text-align: right;\n",
       "    }\n",
       "</style>\n",
       "<table border=\"1\" class=\"dataframe\">\n",
       "  <thead>\n",
       "    <tr style=\"text-align: right;\">\n",
       "      <th></th>\n",
       "      <th>Document_No</th>\n",
       "      <th>Dominant_Topic</th>\n",
       "      <th>Topic_Perc_Contrib</th>\n",
       "      <th>Keywords</th>\n",
       "      <th>Text</th>\n",
       "    </tr>\n",
       "  </thead>\n",
       "  <tbody>\n",
       "    <tr>\n",
       "      <th>0</th>\n",
       "      <td>0</td>\n",
       "      <td>4.0</td>\n",
       "      <td>0.9998</td>\n",
       "      <td>transaction, node, block, nerk, account, time,...</td>\n",
       "      <td>[yellow_paper, technical, documentation, versi...</td>\n",
       "    </tr>\n",
       "    <tr>\n",
       "      <th>1</th>\n",
       "      <td>1</td>\n",
       "      <td>2.0</td>\n",
       "      <td>0.9281</td>\n",
       "      <td>blockchain, nerk, node, token, transaction, st...</td>\n",
       "      <td>[open, protocol, decentralize, exchange, block...</td>\n",
       "    </tr>\n",
       "    <tr>\n",
       "      <th>2</th>\n",
       "      <td>2</td>\n",
       "      <td>0.0</td>\n",
       "      <td>0.9735</td>\n",
       "      <td>token, user, platform, blockchain, nerk, marke...</td>\n",
       "      <td>[concept, reference, purpose, project, summary...</td>\n",
       "    </tr>\n",
       "    <tr>\n",
       "      <th>3</th>\n",
       "      <td>3</td>\n",
       "      <td>0.0</td>\n",
       "      <td>0.3899</td>\n",
       "      <td>token, user, platform, blockchain, nerk, marke...</td>\n",
       "      <td>[white_paper, enable, decentralize, internet, ...</td>\n",
       "    </tr>\n",
       "    <tr>\n",
       "      <th>4</th>\n",
       "      <td>4</td>\n",
       "      <td>0.0</td>\n",
       "      <td>0.9472</td>\n",
       "      <td>token, user, platform, blockchain, nerk, marke...</td>\n",
       "      <td>[ultimate, currency, privacy, mission, content...</td>\n",
       "    </tr>\n",
       "    <tr>\n",
       "      <th>5</th>\n",
       "      <td>5</td>\n",
       "      <td>0.0</td>\n",
       "      <td>0.8637</td>\n",
       "      <td>token, user, platform, blockchain, nerk, marke...</td>\n",
       "      <td>[jeluridawpicov, content, history, testimonial...</td>\n",
       "    </tr>\n",
       "    <tr>\n",
       "      <th>6</th>\n",
       "      <td>6</td>\n",
       "      <td>2.0</td>\n",
       "      <td>0.9170</td>\n",
       "      <td>blockchain, nerk, node, token, transaction, st...</td>\n",
       "      <td>[ecosystem, empower, aim, technical, backgroun...</td>\n",
       "    </tr>\n",
       "    <tr>\n",
       "      <th>7</th>\n",
       "      <td>7</td>\n",
       "      <td>1.0</td>\n",
       "      <td>0.9789</td>\n",
       "      <td>user, unit, asset, token, blockchain, address,...</td>\n",
       "      <td>[basic, attention, oftware, digital, advertisi...</td>\n",
       "    </tr>\n",
       "    <tr>\n",
       "      <th>8</th>\n",
       "      <td>8</td>\n",
       "      <td>4.0</td>\n",
       "      <td>0.6736</td>\n",
       "      <td>transaction, node, block, nerk, account, time,...</td>\n",
       "      <td>[distribute, payment, base, credit, payment, g...</td>\n",
       "    </tr>\n",
       "    <tr>\n",
       "      <th>9</th>\n",
       "      <td>9</td>\n",
       "      <td>0.0</td>\n",
       "      <td>0.7929</td>\n",
       "      <td>token, user, platform, blockchain, nerk, marke...</td>\n",
       "      <td>[exchange, intro, problem, exchange, match, en...</td>\n",
       "    </tr>\n",
       "  </tbody>\n",
       "</table>\n",
       "</div>"
      ],
      "text/plain": [
       "   Document_No  Dominant_Topic  Topic_Perc_Contrib  \\\n",
       "0            0             4.0              0.9998   \n",
       "1            1             2.0              0.9281   \n",
       "2            2             0.0              0.9735   \n",
       "3            3             0.0              0.3899   \n",
       "4            4             0.0              0.9472   \n",
       "5            5             0.0              0.8637   \n",
       "6            6             2.0              0.9170   \n",
       "7            7             1.0              0.9789   \n",
       "8            8             4.0              0.6736   \n",
       "9            9             0.0              0.7929   \n",
       "\n",
       "                                            Keywords  \\\n",
       "0  transaction, node, block, nerk, account, time,...   \n",
       "1  blockchain, nerk, node, token, transaction, st...   \n",
       "2  token, user, platform, blockchain, nerk, marke...   \n",
       "3  token, user, platform, blockchain, nerk, marke...   \n",
       "4  token, user, platform, blockchain, nerk, marke...   \n",
       "5  token, user, platform, blockchain, nerk, marke...   \n",
       "6  blockchain, nerk, node, token, transaction, st...   \n",
       "7  user, unit, asset, token, blockchain, address,...   \n",
       "8  transaction, node, block, nerk, account, time,...   \n",
       "9  token, user, platform, blockchain, nerk, marke...   \n",
       "\n",
       "                                                Text  \n",
       "0  [yellow_paper, technical, documentation, versi...  \n",
       "1  [open, protocol, decentralize, exchange, block...  \n",
       "2  [concept, reference, purpose, project, summary...  \n",
       "3  [white_paper, enable, decentralize, internet, ...  \n",
       "4  [ultimate, currency, privacy, mission, content...  \n",
       "5  [jeluridawpicov, content, history, testimonial...  \n",
       "6  [ecosystem, empower, aim, technical, backgroun...  \n",
       "7  [basic, attention, oftware, digital, advertisi...  \n",
       "8  [distribute, payment, base, credit, payment, g...  \n",
       "9  [exchange, intro, problem, exchange, match, en...  "
      ]
     },
     "execution_count": 74,
     "metadata": {},
     "output_type": "execute_result"
    }
   ],
   "source": [
    "# Function that gets the Dominant Topic in a Document\n",
    "def format_topics_sentences(ldamodel=None, corpus=corpus_lda, texts=data):\n",
    "    # Init output\n",
    "    sent_topics_df = pd.DataFrame()\n",
    "\n",
    "    # Get main topic in each document\n",
    "    for i, row_list in enumerate(ldamodel[corpus]):\n",
    "        row = row_list[0] if ldamodel.per_word_topics else row_list            \n",
    "        # print(row)\n",
    "        row = sorted(row, key=lambda x: (x[1]), reverse=True)\n",
    "        # Get the Dominant topic, Perc Contribution and Keywords for each document\n",
    "        for j, (topic_num, prop_topic) in enumerate(row):\n",
    "            if j == 0:  # => dominant topic\n",
    "                wp = ldamodel.show_topic(topic_num)\n",
    "                topic_keywords = \", \".join([word for word, prop in wp])\n",
    "                sent_topics_df = sent_topics_df.append(pd.Series([int(topic_num), round(prop_topic,4), topic_keywords]), ignore_index=True)\n",
    "            else:\n",
    "                break\n",
    "    sent_topics_df.columns = ['Dominant_Topic', 'Perc_Contribution', 'Topic_Keywords']\n",
    "\n",
    "    # Add original text to the end of the output\n",
    "    contents = pd.Series(texts)\n",
    "    sent_topics_df = pd.concat([sent_topics_df, contents], axis=1)\n",
    "    return(sent_topics_df)\n",
    "\n",
    "\n",
    "df_topic_sents_keywords = format_topics_sentences(ldamodel=lda_gensim, corpus=corpus, texts=data_ready)\n",
    "\n",
    "# Format\n",
    "df_dominant_topic = df_topic_sents_keywords.reset_index()\n",
    "df_dominant_topic.columns = ['Document_No', 'Dominant_Topic', 'Topic_Perc_Contrib', 'Keywords', 'Text']\n",
    "df_dominant_topic.head(10)"
   ]
  },
  {
   "cell_type": "markdown",
   "metadata": {},
   "source": [
    "### Most Discussed Topics in the Document"
   ]
  },
  {
   "cell_type": "code",
   "execution_count": 75,
   "metadata": {},
   "outputs": [],
   "source": [
    "# Function that gets all the topics per document\n",
    "def topics_per_document(model, corpus, start=0, end=1):\n",
    "    corpus_sel = corpus[start:end]\n",
    "    dominant_topics = []\n",
    "    topic_percentages = []\n",
    "    for i, corp in enumerate(corpus_sel):\n",
    "        topic_percs, wordid_topics, wordid_phivalues = model[corp]\n",
    "        dominant_topic = sorted(topic_percs, key = lambda x: x[1], reverse=True)[0][0]\n",
    "        dominant_topics.append((i, dominant_topic))\n",
    "        topic_percentages.append(topic_percs)\n",
    "    return(dominant_topics, topic_percentages)\n",
    "\n",
    "dominant_topics, topic_percentages = topics_per_document(model=lda_gensim, corpus=corpus_lda, end=-1)            \n",
    "\n",
    "# Distribution of Dominant Topics in Each Document\n",
    "df = pd.DataFrame(dominant_topics, columns=['Document_Id', 'Dominant_Topic'])\n",
    "dominant_topic_in_each_doc = df.groupby('Dominant_Topic').size()\n",
    "df_dominant_topic_in_each_doc = dominant_topic_in_each_doc.to_frame(name='count').reset_index()\n",
    "\n",
    "# Total Topic Distribution by actual weight\n",
    "topic_weightage_by_doc = pd.DataFrame([dict(t) for t in topic_percentages])\n",
    "df_topic_weightage_by_doc = topic_weightage_by_doc.sum().to_frame(name='count').reset_index()\n",
    "\n",
    "# Top 3 Keywords for each Topic\n",
    "topic_top3words = [(i, topic) for i, topics in lda_gensim.show_topics(formatted=False) \n",
    "                                 for j, (topic, wt) in enumerate(topics) if j < 3]\n",
    "\n",
    "df_top3words_stacked = pd.DataFrame(topic_top3words, columns=['topic_id', 'words'])\n",
    "df_top3words = df_top3words_stacked.groupby('topic_id').agg(', \\n'.join)\n",
    "df_top3words.reset_index(level=0,inplace=True)"
   ]
  },
  {
   "cell_type": "code",
   "execution_count": 78,
   "metadata": {},
   "outputs": [
    {
     "data": {
      "image/png": "[encoded data removed]",
      "text/plain": [
       "<Figure size 2250x900 with 2 Axes>"
      ]
     },
     "metadata": {
      "needs_background": "light"
     },
     "output_type": "display_data"
    }
   ],
   "source": [
    "# Plot\n",
    "fig, (ax1, ax2) = plt.subplots(1, 2, figsize=(15, 6), dpi=150, sharey=True)\n",
    "\n",
    "# Topic Distribution by Dominant Topics\n",
    "ax1.bar(x='Dominant_Topic', height='count', data=df_dominant_topic_in_each_doc, width=.5, color='firebrick')\n",
    "ax1.set_xticks(range(df_dominant_topic_in_each_doc.Dominant_Topic.unique().__len__()))\n",
    "tick_formatter = FuncFormatter(lambda x, pos: 'Topic ' + str(x)+ '\\n' + df_top3words.loc[df_top3words.topic_id==x, 'words'].values[0])\n",
    "ax1.xaxis.set_major_formatter(tick_formatter)\n",
    "ax1.set_title('Number of Documents by Dominant Topic', fontdict=dict(size=10))\n",
    "ax1.set_ylabel('Number of Documents')\n",
    "ax1.set_ylim(0, 50)\n",
    "\n",
    "# Topic Distribution by Topic Weights\n",
    "ax2.bar(x='index', height='count', data=df_topic_weightage_by_doc, width=.5, color='steelblue')\n",
    "ax2.set_xticks(range(df_topic_weightage_by_doc.index.unique().__len__()))\n",
    "ax2.xaxis.set_major_formatter(tick_formatter)\n",
    "ax2.set_title('Number of Documents by Topic Weightage', fontdict=dict(size=10))\n",
    "\n",
    "plt.show()"
   ]
  },
  {
   "cell_type": "code",
   "execution_count": 135,
   "metadata": {},
   "outputs": [
    {
     "name": "stderr",
     "output_type": "stream",
     "text": [
      "C:\\Users\\sj\\AppData\\Local\\Continuum\\anaconda3\\lib\\site-packages\\smart_open\\smart_open_lib.py:398: UserWarning: This function is deprecated, use smart_open.open instead. See the migration notes for details: https://github.com/RaRe-Technologies/smart_open/blob/master/README.rst#migrating-to-the-new-open-function\n",
      "  'See the migration notes for details: %s' % _MIGRATION_NOTES_URL\n",
      "C:\\Users\\sj\\AppData\\Local\\Continuum\\anaconda3\\lib\\site-packages\\smart_open\\smart_open_lib.py:398: UserWarning: This function is deprecated, use smart_open.open instead. See the migration notes for details: https://github.com/RaRe-Technologies/smart_open/blob/master/README.rst#migrating-to-the-new-open-function\n",
      "  'See the migration notes for details: %s' % _MIGRATION_NOTES_URL\n",
      "C:\\Users\\sj\\AppData\\Local\\Continuum\\anaconda3\\lib\\site-packages\\smart_open\\smart_open_lib.py:398: UserWarning: This function is deprecated, use smart_open.open instead. See the migration notes for details: https://github.com/RaRe-Technologies/smart_open/blob/master/README.rst#migrating-to-the-new-open-function\n",
      "  'See the migration notes for details: %s' % _MIGRATION_NOTES_URL\n",
      "C:\\Users\\sj\\AppData\\Local\\Continuum\\anaconda3\\lib\\site-packages\\smart_open\\smart_open_lib.py:398: UserWarning: This function is deprecated, use smart_open.open instead. See the migration notes for details: https://github.com/RaRe-Technologies/smart_open/blob/master/README.rst#migrating-to-the-new-open-function\n",
      "  'See the migration notes for details: %s' % _MIGRATION_NOTES_URL\n"
     ]
    }
   ],
   "source": [
    "#saving the trained lda\n",
    "trained = datapath(\"trained_lda\")\n",
    "lda_gensim.save(trained)\n",
    "#loading the saved file\n",
    "trained_lda = gensim.models.ldamodel.LdaModel.load(trained)"
   ]
  },
  {
   "cell_type": "markdown",
   "metadata": {},
   "source": [
    "## 4 - Outcome "
   ]
  },
  {
   "cell_type": "markdown",
   "metadata": {},
   "source": [
    "### Input"
   ]
  },
  {
   "cell_type": "code",
   "execution_count": 136,
   "metadata": {},
   "outputs": [
    {
     "data": {
      "text/plain": [
       "dict_keys(['adcoin', 'budbo', 'kwattcoin', 'oceanprotocol'])"
      ]
     },
     "execution_count": 136,
     "metadata": {},
     "output_type": "execute_result"
    }
   ],
   "source": [
    "TEST_DIR = os.path.join(ROOT_DIR, \"test-white-papers\")\n",
    "testset = pdf2text.get_dataset(path=TEST_DIR)\n",
    "testset.keys()"
   ]
  },
  {
   "cell_type": "code",
   "execution_count": 131,
   "metadata": {},
   "outputs": [
    {
     "name": "stderr",
     "output_type": "stream",
     "text": [
      "[nltk_data] Downloading package punkt to\n",
      "[nltk_data]     C:\\Users\\sj\\AppData\\Roaming\\nltk_data...\n",
      "[nltk_data]   Package punkt is already up-to-date!\n",
      "[nltk_data] Downloading package stopwords to\n",
      "[nltk_data]     C:\\Users\\sj\\AppData\\Roaming\\nltk_data...\n",
      "[nltk_data]   Package stopwords is already up-to-date!\n",
      "[nltk_data] Downloading package averaged_perceptron_tagger to\n",
      "[nltk_data]     C:\\Users\\sj\\AppData\\Roaming\\nltk_data...\n",
      "[nltk_data]   Package averaged_perceptron_tagger is already up-to-\n",
      "[nltk_data]       date!\n",
      "[nltk_data] Downloading package wordnet to\n",
      "[nltk_data]     C:\\Users\\sj\\AppData\\Roaming\\nltk_data...\n",
      "[nltk_data]   Package wordnet is already up-to-date!\n",
      "[nltk_data] Error loading en_core_web_md: Package 'en_core_web_md' not\n",
      "[nltk_data]     found in index\n"
     ]
    },
    {
     "name": "stdout",
     "output_type": "stream",
     "text": [
      "Cleaning: adcoin\n",
      "Cleaning: budbo\n",
      "Cleaning: kwattcoin\n",
      "Cleaning: oceanprotocol\n",
      "Done!\n"
     ]
    }
   ],
   "source": [
    "#corpora segregated in terms of sentences \n",
    "corpora_test = corpus.makeCleanCorpus(testset, lemmatize=True, removePunct=True, removeNums=True, makeSentences=True, removeURL=True, removeChar= True, stops=['\\u200b'] )"
   ]
  },
  {
   "cell_type": "code",
   "execution_count": 137,
   "metadata": {},
   "outputs": [
    {
     "name": "stderr",
     "output_type": "stream",
     "text": [
      "[nltk_data] Downloading package punkt to\n",
      "[nltk_data]     C:\\Users\\sj\\AppData\\Roaming\\nltk_data...\n",
      "[nltk_data]   Package punkt is already up-to-date!\n",
      "[nltk_data] Downloading package stopwords to\n",
      "[nltk_data]     C:\\Users\\sj\\AppData\\Roaming\\nltk_data...\n",
      "[nltk_data]   Package stopwords is already up-to-date!\n",
      "[nltk_data] Downloading package averaged_perceptron_tagger to\n",
      "[nltk_data]     C:\\Users\\sj\\AppData\\Roaming\\nltk_data...\n",
      "[nltk_data]   Package averaged_perceptron_tagger is already up-to-\n",
      "[nltk_data]       date!\n",
      "[nltk_data] Downloading package wordnet to\n",
      "[nltk_data]     C:\\Users\\sj\\AppData\\Roaming\\nltk_data...\n",
      "[nltk_data]   Package wordnet is already up-to-date!\n",
      "[nltk_data] Error loading en_core_web_md: Package 'en_core_web_md' not\n",
      "[nltk_data]     found in index\n"
     ]
    },
    {
     "name": "stdout",
     "output_type": "stream",
     "text": [
      "Cleaning: adcoin\n",
      "Cleaning: budbo\n",
      "Cleaning: kwattcoin\n",
      "Cleaning: oceanprotocol\n",
      "Done!\n"
     ]
    }
   ],
   "source": [
    "#corpora segregated in terms of sentences \n",
    "corpora_test_whole = corpus.makeCleanCorpus(testset, lemmatize=True, removePunct=True, removeNums=True, makeSentences=False, removeURL=True, removeChar= True, stops=['\\u200b'] )"
   ]
  },
  {
   "cell_type": "code",
   "execution_count": 140,
   "metadata": {},
   "outputs": [
    {
     "data": {
      "text/html": [
       "<div>\n",
       "<style scoped>\n",
       "    .dataframe tbody tr th:only-of-type {\n",
       "        vertical-align: middle;\n",
       "    }\n",
       "\n",
       "    .dataframe tbody tr th {\n",
       "        vertical-align: top;\n",
       "    }\n",
       "\n",
       "    .dataframe thead th {\n",
       "        text-align: right;\n",
       "    }\n",
       "</style>\n",
       "<table border=\"1\" class=\"dataframe\">\n",
       "  <thead>\n",
       "    <tr style=\"text-align: right;\">\n",
       "      <th></th>\n",
       "      <th>whitepapers</th>\n",
       "    </tr>\n",
       "  </thead>\n",
       "  <tbody>\n",
       "    <tr>\n",
       "      <th>adcoin</th>\n",
       "      <td>version offer lot great opportunity technological advancement  adopt blockchain literally internet  dominant cryptocurrency lot problem internet p...</td>\n",
       "    </tr>\n",
       "    <tr>\n",
       "      <th>budbo</th>\n",
       "      <td>global cannabis comehensive solution cannabis indtry version web wwwio content forward statement                                       security la...</td>\n",
       "    </tr>\n",
       "    <tr>\n",
       "      <th>kwattcoin</th>\n",
       "      <td>newwhitepaper  disclaimer document document constitute prospectus sort solicitation investment  coin represent ownership share public private corp...</td>\n",
       "    </tr>\n",
       "    <tr>\n",
       "      <th>oceanprotocol</th>\n",
       "      <td>decentralize substrate service technical foundation ltd version apr paper  decentralize protocol nerk artificial intelligence dataservices  aim sp...</td>\n",
       "    </tr>\n",
       "  </tbody>\n",
       "</table>\n",
       "</div>"
      ],
      "text/plain": [
       "                                                                                                                                                         whitepapers\n",
       "adcoin         version offer lot great opportunity technological advancement  adopt blockchain literally internet  dominant cryptocurrency lot problem internet p...\n",
       "budbo          global cannabis comehensive solution cannabis indtry version web wwwio content forward statement                                       security la...\n",
       "kwattcoin      newwhitepaper  disclaimer document document constitute prospectus sort solicitation investment  coin represent ownership share public private corp...\n",
       "oceanprotocol  decentralize substrate service technical foundation ltd version apr paper  decentralize protocol nerk artificial intelligence dataservices  aim sp..."
      ]
     },
     "execution_count": 140,
     "metadata": {},
     "output_type": "execute_result"
    }
   ],
   "source": [
    "#Combining them and putting into pandas dataframe\n",
    "test_combined = {key:[combine_text(value)] for (key, value) in corpora_test.items()}\n",
    "pd.set_option('max_colwidth', 150)\n",
    "test_df = pd.DataFrame.from_dict(test_combined).transpose()\n",
    "test_df.columns = ['whitepapers']\n",
    "test_df = test_df.sort_index()\n",
    "test_df.head()"
   ]
  },
  {
   "cell_type": "code",
   "execution_count": 165,
   "metadata": {},
   "outputs": [],
   "source": [
    "#creating the list and tokenizing each word in the test corpus\n",
    "testdata = test_df.whitepapers.values.tolist()\n",
    "testdata_words = list(sent_to_words(testdata))"
   ]
  },
  {
   "cell_type": "code",
   "execution_count": null,
   "metadata": {},
   "outputs": [],
   "source": [
    "test_data_ready = process_words(testdata_words)"
   ]
  },
  {
   "cell_type": "code",
   "execution_count": null,
   "metadata": {},
   "outputs": [],
   "source": []
  },
  {
   "cell_type": "markdown",
   "metadata": {},
   "source": [
    "### Models/Methods"
   ]
  },
  {
   "cell_type": "code",
   "execution_count": null,
   "metadata": {},
   "outputs": [],
   "source": [
    "corpus_lda_test = [id2word.doc2bow(text) for text in test_data_ready]\n",
    "\n",
    "unseen_doc = other_corpus[0]\n",
    "vector = lda_gensim[unseen_doc]  # get topic probability distribution for a document"
   ]
  },
  {
   "cell_type": "code",
   "execution_count": 197,
   "metadata": {},
   "outputs": [
    {
     "data": {
      "text/html": [
       "<div>\n",
       "<style scoped>\n",
       "    .dataframe tbody tr th:only-of-type {\n",
       "        vertical-align: middle;\n",
       "    }\n",
       "\n",
       "    .dataframe tbody tr th {\n",
       "        vertical-align: top;\n",
       "    }\n",
       "\n",
       "    .dataframe thead th {\n",
       "        text-align: right;\n",
       "    }\n",
       "</style>\n",
       "<table border=\"1\" class=\"dataframe\">\n",
       "  <thead>\n",
       "    <tr style=\"text-align: right;\">\n",
       "      <th></th>\n",
       "      <th>Document_No</th>\n",
       "      <th>Dominant_Topic</th>\n",
       "      <th>Topic_Perc_Contrib</th>\n",
       "      <th>Keywords</th>\n",
       "      <th>Text</th>\n",
       "    </tr>\n",
       "  </thead>\n",
       "  <tbody>\n",
       "    <tr>\n",
       "      <th>0</th>\n",
       "      <td>0</td>\n",
       "      <td>3.0</td>\n",
       "      <td>1.0</td>\n",
       "      <td>advertising, payment, online, version, wallet, market, team, publisher, transaction, create</td>\n",
       "      <td>[version, offer, great, opportunity, adopt, blockchain, literally, internet, dominant, cryptocurrency, problem, internet, perform, payment, aim, i...</td>\n",
       "    </tr>\n",
       "    <tr>\n",
       "      <th>1</th>\n",
       "      <td>1</td>\n",
       "      <td>0.0</td>\n",
       "      <td>1.0</td>\n",
       "      <td>cannabis, token, business, platform, coin, global, blockchain, industry, inc, user</td>\n",
       "      <td>[global, cannabis, comehensive, solution, cannabis, indtry, version, web, wwwio, content, forward, statement, security, law, disclaimer, letter, k...</td>\n",
       "    </tr>\n",
       "    <tr>\n",
       "      <th>2</th>\n",
       "      <td>2</td>\n",
       "      <td>0.0</td>\n",
       "      <td>1.0</td>\n",
       "      <td>cannabis, token, business, platform, coin, global, blockchain, industry, inc, user</td>\n",
       "      <td>[newwhitepaper, disclaimer, document, document, sort, solicitation, investment, coin, represent, ownership, share, public, private, corporation, e...</td>\n",
       "    </tr>\n",
       "    <tr>\n",
       "      <th>3</th>\n",
       "      <td>3</td>\n",
       "      <td>1.0</td>\n",
       "      <td>1.0</td>\n",
       "      <td>datum, service, nerk, reward, access, token, data, stake, compute, publisher</td>\n",
       "      <td>[decentralize, substrate, service, technical, foundation, ltd, version, apr, paper, decentralize, protocol, nerk, dataservice, aim, spread, benefi...</td>\n",
       "    </tr>\n",
       "  </tbody>\n",
       "</table>\n",
       "</div>"
      ],
      "text/plain": [
       "   Document_No  Dominant_Topic  Topic_Perc_Contrib  \\\n",
       "0            0             3.0                 1.0   \n",
       "1            1             0.0                 1.0   \n",
       "2            2             0.0                 1.0   \n",
       "3            3             1.0                 1.0   \n",
       "\n",
       "                                                                                      Keywords  \\\n",
       "0  advertising, payment, online, version, wallet, market, team, publisher, transaction, create   \n",
       "1           cannabis, token, business, platform, coin, global, blockchain, industry, inc, user   \n",
       "2           cannabis, token, business, platform, coin, global, blockchain, industry, inc, user   \n",
       "3                 datum, service, nerk, reward, access, token, data, stake, compute, publisher   \n",
       "\n",
       "                                                                                                                                                    Text  \n",
       "0  [version, offer, great, opportunity, adopt, blockchain, literally, internet, dominant, cryptocurrency, problem, internet, perform, payment, aim, i...  \n",
       "1  [global, cannabis, comehensive, solution, cannabis, indtry, version, web, wwwio, content, forward, statement, security, law, disclaimer, letter, k...  \n",
       "2  [newwhitepaper, disclaimer, document, document, sort, solicitation, investment, coin, represent, ownership, share, public, private, corporation, e...  \n",
       "3  [decentralize, substrate, service, technical, foundation, ltd, version, apr, paper, decentralize, protocol, nerk, dataservice, aim, spread, benefi...  "
      ]
     },
     "execution_count": 197,
     "metadata": {},
     "output_type": "execute_result"
    }
   ],
   "source": [
    "df_topic_sents_keywords = format_topics_sentences(ldamodel=lda_gensim, corpus=corpus_lda_test, texts=test_data_ready)\n",
    "\n",
    "# Format\n",
    "df_dominant_topic = df_topic_sents_keywords.reset_index()\n",
    "df_dominant_topic.columns = ['Document_No', 'Dominant_Topic', 'Topic_Perc_Contrib', 'Keywords', 'Text']\n",
    "df_dominant_topic.head(10)"
   ]
  },
  {
   "cell_type": "markdown",
   "metadata": {},
   "source": [
    "### Output"
   ]
  },
  {
   "cell_type": "code",
   "execution_count": null,
   "metadata": {},
   "outputs": [],
   "source": []
  },
  {
   "cell_type": "code",
   "execution_count": null,
   "metadata": {},
   "outputs": [],
   "source": []
  },
  {
   "cell_type": "code",
   "execution_count": null,
   "metadata": {},
   "outputs": [],
   "source": []
  },
  {
   "cell_type": "markdown",
   "metadata": {},
   "source": [
    "## 5 - Inspiration"
   ]
  },
  {
   "cell_type": "markdown",
   "metadata": {},
   "source": [
    "- https://www.analyticsvidhya.com/blog/2016/08/beginners-guide-to-topic-modeling-in-python/ \n",
    "- https://towardsdatascience.com/topic-modeling-and-latent-dirichlet-allocation-in-python-9bf156893c24\n",
    "- https://github.com/susanli2016/NLP-with-Python/blob/master/LDA_news_headlines.ipynb\n",
    "- https://medium.com/mlreview/topic-modeling-with-scikit-learn-e80d33668730\n",
    "- https://medium.com/@lettier/how-does-lda-work-ill-explain-using-emoji-108abf40fa7d\n",
    "- https://medium.com/@tomar.ankur287/topic-modeling-using-lda-and-gibbs-sampling-explained-49d49b3d1045\n",
    "- https://www.kdnuggets.com/2018/08/topic-modeling-lsa-plsa-lda-lda2vec.html\n"
   ]
  }
 ],
 "metadata": {
  "kernelspec": {
   "display_name": "Python 3",
   "language": "python",
   "name": "python3"
  },
  "language_info": {
   "codemirror_mode": {
    "name": "ipython",
    "version": 3
   },
   "file_extension": ".py",
   "mimetype": "text/x-python",
   "name": "python",
   "nbconvert_exporter": "python",
   "pygments_lexer": "ipython3",
   "version": "3.6.7"
  }
 },
 "nbformat": 4,
 "nbformat_minor": 2
}
