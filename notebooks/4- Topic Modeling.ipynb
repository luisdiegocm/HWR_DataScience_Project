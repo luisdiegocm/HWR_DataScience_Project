{
 "cells": [
  {
   "cell_type": "markdown",
   "metadata": {},
   "source": [
    "# Topic Modeling\n"
   ]
  },
  {
   "cell_type": "markdown",
   "metadata": {},
   "source": [
    "## 1 - Library Imports"
   ]
  },
  {
   "cell_type": "code",
   "execution_count": 124,
   "metadata": {},
   "outputs": [],
   "source": [
    "# Import Os to get to the root directory\n",
    "import os\n",
    "import sys\n",
    "\n",
    "# Root directory of the project\n",
    "ROOT_DIR = os.path.abspath(\"../\")\n",
    "sys.path.append(ROOT_DIR)\n",
    "\n",
    "# Import own functions\n",
    "from libraries import corpus\n",
    "from libraries import pdf2text\n",
    "import spacy\n",
    "import en_core_web_sm\n",
    "nlp = spacy.load('en_core_web_sm', disable =['parser', 'ner'])\n",
    "import re, numpy as np, pandas as pd\n",
    "from pprint import pprint\n",
    "\n",
    "#importing gensim and related libraries\n",
    "import gensim\n",
    "import gensim, spacy, logging, warnings\n",
    "from gensim import corpora, models, similarities\n",
    "from gensim.utils import lemmatize, simple_preprocess\n",
    "from gensim.models import CoherenceModel\n",
    "\n",
    "#importing matplotlib for plotting\n",
    "import matplotlib.pyplot as plt\n",
    "%matplotlib notebook\n",
    "\n",
    "# importing nltk and related libraries\n",
    "import nltk as nltk\n",
    "from nltk.corpus import stopwords\n",
    "stop_words = stopwords.words('english')\n",
    "stop_words.extend(['from', 'subject', 're', 'edu', 'use', 'not', 'would', 'say', 'could', '_', 'be', 'know', 'good', 'go', 'get', 'do', 'done', 'try', 'many', 'some', 'nice', 'thank', 'think', 'see', 'rather', 'easy', 'easily', 'lot', 'lack', 'make', 'want', 'seem', 'run', 'need', 'even', 'right', 'line', 'even', 'also', 'may', 'take', 'come'])\n",
    "from nltk.stem.wordnet import WordNetLemmatizer\n",
    "import string\n",
    "\n",
    "# other imports\n",
    "import warnings\n",
    "import pandas as pd\n",
    "import pickle\n",
    "from importlib import reload\n",
    "warnings.filterwarnings(\"ignore\", category=DeprecationWarning)\n",
    "logging.basicConfig(format='%(asctime)s : %(levelname)s : %(message)s', level=logging.ERROR)"
   ]
  },
  {
   "cell_type": "markdown",
   "metadata": {},
   "source": [
    "## 2 - Data Preprocessing"
   ]
  },
  {
   "cell_type": "code",
   "execution_count": 125,
   "metadata": {},
   "outputs": [
    {
     "data": {
      "text/plain": [
       "<module 'libraries.corpus' from 'C:\\\\Users\\\\sj\\\\Documents\\\\GitHub\\\\datascience_project\\\\libraries\\\\corpus.py'>"
      ]
     },
     "execution_count": 125,
     "metadata": {},
     "output_type": "execute_result"
    }
   ],
   "source": [
    "#import dataset\n",
    "reload(corpus)"
   ]
  },
  {
   "cell_type": "code",
   "execution_count": 126,
   "metadata": {},
   "outputs": [],
   "source": [
    "#Retrieving the PDF files from white-paper folder and converting them to text\n",
    "dataset = pdf2text.get_dataset()"
   ]
  },
  {
   "cell_type": "code",
   "execution_count": 127,
   "metadata": {},
   "outputs": [
    {
     "data": {
      "text/plain": [
       "dict_keys(['#metahash', '0x', 'abbccoin', 'aion', 'apollocurrency', 'ardor', 'ark', 'basicattentiontoken', 'bhpcoin', 'binancecoin', 'bitcoin', 'bitcoingold', 'bitshares', 'bittorrent', 'bytecoin', 'bytom', 'celernetwork', 'chainlink', 'cosmocoin', 'cosmos', 'crypto', 'cryptonex', 'dai', 'dash', 'decentraland', 'dent', 'digixdao', 'dogecoin', 'elastos', 'enjincoin', 'eos', 'ethereum', 'ethereumclassic', 'factom', 'fantom', 'gnosis', 'golem', 'gxchain', 'holo', 'horizen', 'hypercash', 'hyperion', 'icon', 'iexecrlc', 'inocoin', 'iota', 'japancontenttoken', 'komodo', 'latoken', 'lina', 'loopring', 'maidsafecoin', 'maker', 'metal', 'metaverseetp', 'mixin', 'monero', 'nano', 'nebulas', 'nem', 'nexo', 'nkn', 'obyte', 'omisego', 'ontology', 'orbs', 'particl', 'paxosstandardtoken', 'powerledger', 'pundix', 'ravencoin', 'riftoken', 'siacoin', 'singularitynet', 'skycoin', 'solve', 'status', 'steem', 'stellar', 'stratis', 'synthetixnetworktoken', 'tenx', 'tether', 'tezos', 'theta', 'thetafuel', 'thundertoken', 'tron', 'truechain', 'usdcoin', 'utrust', 'vechain', 'waltonchain', 'wanchain', 'waves', 'wax', 'xrp', 'zcash', 'zilliqa'])"
      ]
     },
     "execution_count": 127,
     "metadata": {},
     "output_type": "execute_result"
    }
   ],
   "source": [
    "dataset.keys()"
   ]
  },
  {
   "cell_type": "code",
   "execution_count": 128,
   "metadata": {},
   "outputs": [
    {
     "name": "stderr",
     "output_type": "stream",
     "text": [
      "[nltk_data] Downloading package punkt to\n",
      "[nltk_data]     C:\\Users\\sj\\AppData\\Roaming\\nltk_data...\n",
      "[nltk_data]   Unzipping tokenizers\\punkt.zip.\n",
      "[nltk_data] Downloading package stopwords to\n",
      "[nltk_data]     C:\\Users\\sj\\AppData\\Roaming\\nltk_data...\n",
      "[nltk_data]   Unzipping corpora\\stopwords.zip.\n",
      "[nltk_data] Downloading package averaged_perceptron_tagger to\n",
      "[nltk_data]     C:\\Users\\sj\\AppData\\Roaming\\nltk_data...\n",
      "[nltk_data]   Package averaged_perceptron_tagger is already up-to-\n",
      "[nltk_data]       date!\n",
      "[nltk_data] Downloading package wordnet to\n",
      "[nltk_data]     C:\\Users\\sj\\AppData\\Roaming\\nltk_data...\n",
      "[nltk_data]   Package wordnet is already up-to-date!\n",
      "[nltk_data] Error loading en_core_web_md: Package 'en_core_web_md' not\n",
      "[nltk_data]     found in index\n"
     ]
    },
    {
     "name": "stdout",
     "output_type": "stream",
     "text": [
      "Cleaning: #metahash\n",
      "Cleaning: 0x\n",
      "Cleaning: abbccoin\n",
      "Cleaning: aion\n",
      "Cleaning: apollocurrency\n",
      "Cleaning: ardor\n",
      "Cleaning: ark\n"
     ]
    },
    {
     "ename": "KeyboardInterrupt",
     "evalue": "",
     "output_type": "error",
     "traceback": [
      "\u001b[1;31m---------------------------------------------------------------------------\u001b[0m",
      "\u001b[1;31mKeyboardInterrupt\u001b[0m                         Traceback (most recent call last)",
      "\u001b[1;32m<ipython-input-128-a99e9c55cc21>\u001b[0m in \u001b[0;36m<module>\u001b[1;34m\u001b[0m\n\u001b[0;32m      1\u001b[0m \u001b[1;31m#corpora segregated in terms of sentences\u001b[0m\u001b[1;33m\u001b[0m\u001b[1;33m\u001b[0m\u001b[1;33m\u001b[0m\u001b[0m\n\u001b[1;32m----> 2\u001b[1;33m \u001b[0mcorpora\u001b[0m \u001b[1;33m=\u001b[0m \u001b[0mcorpus\u001b[0m\u001b[1;33m.\u001b[0m\u001b[0mmakeCleanCorpus\u001b[0m\u001b[1;33m(\u001b[0m\u001b[0mdataset\u001b[0m\u001b[1;33m,\u001b[0m \u001b[0mlemmatize\u001b[0m\u001b[1;33m=\u001b[0m\u001b[1;32mTrue\u001b[0m\u001b[1;33m,\u001b[0m \u001b[0mremovePunct\u001b[0m\u001b[1;33m=\u001b[0m\u001b[1;32mTrue\u001b[0m\u001b[1;33m,\u001b[0m \u001b[0mremoveNums\u001b[0m\u001b[1;33m=\u001b[0m\u001b[1;32mTrue\u001b[0m\u001b[1;33m,\u001b[0m \u001b[0mmakeSentences\u001b[0m\u001b[1;33m=\u001b[0m\u001b[1;32mTrue\u001b[0m\u001b[1;33m,\u001b[0m \u001b[0mremoveURL\u001b[0m\u001b[1;33m=\u001b[0m\u001b[1;32mTrue\u001b[0m\u001b[1;33m,\u001b[0m \u001b[0mremoveChar\u001b[0m\u001b[1;33m=\u001b[0m \u001b[1;32mTrue\u001b[0m\u001b[1;33m,\u001b[0m \u001b[0mstops\u001b[0m\u001b[1;33m=\u001b[0m\u001b[1;33m[\u001b[0m\u001b[1;34m'\\u200b'\u001b[0m\u001b[1;33m]\u001b[0m \u001b[1;33m)\u001b[0m\u001b[1;33m\u001b[0m\u001b[1;33m\u001b[0m\u001b[0m\n\u001b[0m",
      "\u001b[1;32m~\\Documents\\GitHub\\datascience_project\\libraries\\corpus.py\u001b[0m in \u001b[0;36mmakeCleanCorpus\u001b[1;34m(dataset, removePunct, removeNums, lower, stops, removeStopw, lemmatize, removeURL, makeSentences, removeChar, removeEnt)\u001b[0m\n\u001b[0;32m    107\u001b[0m \u001b[1;33m\u001b[0m\u001b[0m\n\u001b[0;32m    108\u001b[0m         \u001b[1;32mif\u001b[0m \u001b[0mremoveEnt\u001b[0m\u001b[1;33m:\u001b[0m\u001b[1;33m\u001b[0m\u001b[1;33m\u001b[0m\u001b[0m\n\u001b[1;32m--> 109\u001b[1;33m             \u001b[0mdoc\u001b[0m \u001b[1;33m=\u001b[0m \u001b[0mnlp\u001b[0m\u001b[1;33m(\u001b[0m\u001b[0mtext\u001b[0m\u001b[1;33m)\u001b[0m\u001b[1;33m\u001b[0m\u001b[1;33m\u001b[0m\u001b[0m\n\u001b[0m\u001b[0;32m    110\u001b[0m             \u001b[1;32mfor\u001b[0m \u001b[0ment\u001b[0m \u001b[1;32min\u001b[0m \u001b[0mdoc\u001b[0m\u001b[1;33m.\u001b[0m\u001b[0ments\u001b[0m\u001b[1;33m:\u001b[0m\u001b[1;33m\u001b[0m\u001b[1;33m\u001b[0m\u001b[0m\n\u001b[0;32m    111\u001b[0m                 \u001b[1;32mif\u001b[0m\u001b[1;33m(\u001b[0m\u001b[0ment\u001b[0m\u001b[1;33m.\u001b[0m\u001b[0mlabel_\u001b[0m \u001b[1;32min\u001b[0m \u001b[1;33m(\u001b[0m\u001b[1;34m'LAW'\u001b[0m\u001b[1;33m,\u001b[0m\u001b[1;34m'ORG'\u001b[0m\u001b[1;33m,\u001b[0m\u001b[1;34m'GPE'\u001b[0m\u001b[1;33m,\u001b[0m\u001b[1;34m'PERSON'\u001b[0m\u001b[1;33m,\u001b[0m\u001b[1;34m'DATE'\u001b[0m\u001b[1;33m,\u001b[0m\u001b[1;34m'TIME'\u001b[0m\u001b[1;33m,\u001b[0m\u001b[1;34m'WORK_OF_ART'\u001b[0m\u001b[1;33m,\u001b[0m\u001b[1;34m'CARDINAL'\u001b[0m\u001b[1;33m,\u001b[0m\u001b[1;34m'QUANTITY'\u001b[0m\u001b[1;33m,\u001b[0m\u001b[1;34m'MONEY'\u001b[0m\u001b[1;33m,\u001b[0m\u001b[1;34m'NORP'\u001b[0m\u001b[1;33m,\u001b[0m\u001b[1;34m'PRODUCT'\u001b[0m\u001b[1;33m)\u001b[0m\u001b[1;33m)\u001b[0m\u001b[1;33m:\u001b[0m\u001b[1;33m\u001b[0m\u001b[1;33m\u001b[0m\u001b[0m\n",
      "\u001b[1;32m~\\AppData\\Local\\Continuum\\anaconda3\\lib\\site-packages\\spacy\\language.py\u001b[0m in \u001b[0;36m__call__\u001b[1;34m(self, text, disable, component_cfg)\u001b[0m\n\u001b[0;32m    388\u001b[0m             \u001b[1;32mif\u001b[0m \u001b[1;32mnot\u001b[0m \u001b[0mhasattr\u001b[0m\u001b[1;33m(\u001b[0m\u001b[0mproc\u001b[0m\u001b[1;33m,\u001b[0m \u001b[1;34m\"__call__\"\u001b[0m\u001b[1;33m)\u001b[0m\u001b[1;33m:\u001b[0m\u001b[1;33m\u001b[0m\u001b[1;33m\u001b[0m\u001b[0m\n\u001b[0;32m    389\u001b[0m                 \u001b[1;32mraise\u001b[0m \u001b[0mValueError\u001b[0m\u001b[1;33m(\u001b[0m\u001b[0mErrors\u001b[0m\u001b[1;33m.\u001b[0m\u001b[0mE003\u001b[0m\u001b[1;33m.\u001b[0m\u001b[0mformat\u001b[0m\u001b[1;33m(\u001b[0m\u001b[0mcomponent\u001b[0m\u001b[1;33m=\u001b[0m\u001b[0mtype\u001b[0m\u001b[1;33m(\u001b[0m\u001b[0mproc\u001b[0m\u001b[1;33m)\u001b[0m\u001b[1;33m,\u001b[0m \u001b[0mname\u001b[0m\u001b[1;33m=\u001b[0m\u001b[0mname\u001b[0m\u001b[1;33m)\u001b[0m\u001b[1;33m)\u001b[0m\u001b[1;33m\u001b[0m\u001b[1;33m\u001b[0m\u001b[0m\n\u001b[1;32m--> 390\u001b[1;33m             \u001b[0mdoc\u001b[0m \u001b[1;33m=\u001b[0m \u001b[0mproc\u001b[0m\u001b[1;33m(\u001b[0m\u001b[0mdoc\u001b[0m\u001b[1;33m,\u001b[0m \u001b[1;33m**\u001b[0m\u001b[0mcomponent_cfg\u001b[0m\u001b[1;33m.\u001b[0m\u001b[0mget\u001b[0m\u001b[1;33m(\u001b[0m\u001b[0mname\u001b[0m\u001b[1;33m,\u001b[0m \u001b[1;33m{\u001b[0m\u001b[1;33m}\u001b[0m\u001b[1;33m)\u001b[0m\u001b[1;33m)\u001b[0m\u001b[1;33m\u001b[0m\u001b[1;33m\u001b[0m\u001b[0m\n\u001b[0m\u001b[0;32m    391\u001b[0m             \u001b[1;32mif\u001b[0m \u001b[0mdoc\u001b[0m \u001b[1;32mis\u001b[0m \u001b[1;32mNone\u001b[0m\u001b[1;33m:\u001b[0m\u001b[1;33m\u001b[0m\u001b[1;33m\u001b[0m\u001b[0m\n\u001b[0;32m    392\u001b[0m                 \u001b[1;32mraise\u001b[0m \u001b[0mValueError\u001b[0m\u001b[1;33m(\u001b[0m\u001b[0mErrors\u001b[0m\u001b[1;33m.\u001b[0m\u001b[0mE005\u001b[0m\u001b[1;33m.\u001b[0m\u001b[0mformat\u001b[0m\u001b[1;33m(\u001b[0m\u001b[0mname\u001b[0m\u001b[1;33m=\u001b[0m\u001b[0mname\u001b[0m\u001b[1;33m)\u001b[0m\u001b[1;33m)\u001b[0m\u001b[1;33m\u001b[0m\u001b[1;33m\u001b[0m\u001b[0m\n",
      "\u001b[1;31mKeyboardInterrupt\u001b[0m: "
     ]
    }
   ],
   "source": [
    "#corpora segregated in terms of sentences \n",
    "corpora = corpus.makeCleanCorpus(dataset, lemmatize=True, removePunct=True, removeNums=True, makeSentences=True, removeURL=True, removeChar= True, stops=['\\u200b'] )"
   ]
  },
  {
   "cell_type": "code",
   "execution_count": null,
   "metadata": {},
   "outputs": [],
   "source": [
    "#Corpora not segregated with sentences\n",
    "corpora_whole = corpus.makeCleanCorpus(dataset, lemmatize=True, removePunct=True, removeNums=True, makeSentences= False, removeURL=True, removeChar= True, stops=['\\u200b'] )"
   ]
  },
  {
   "cell_type": "code",
   "execution_count": 139,
   "metadata": {},
   "outputs": [],
   "source": [
    "#Our dictionary at the moment is in key: blockchain firms, value: list of text of whitepapers\n",
    "#We change this to key: blockchain firms and value: string format\n",
    "def combine_text(list_of_text):\n",
    "    '''Takes a list of text and combines them into one large chunk of text.'''\n",
    "    combined_text = ' '.join(list_of_text)\n",
    "    return combined_text"
   ]
  },
  {
   "cell_type": "code",
   "execution_count": null,
   "metadata": {},
   "outputs": [],
   "source": [
    "#Combining then\n",
    "data_combined = {key:[combine_text(value)] for (key, value) in corpora.items()}"
   ]
  },
  {
   "cell_type": "code",
   "execution_count": null,
   "metadata": {},
   "outputs": [],
   "source": [
    "#Putting the text into pandas dataframe\n",
    "import pandas as pd\n",
    "pd.set_option('max_colwidth', 150)\n",
    "\n",
    "data_df = pd.DataFrame.from_dict(data_combined).transpose()\n",
    "data_df.columns = ['whitepapers']\n",
    "data_df = data_df.sort_index()"
   ]
  },
  {
   "cell_type": "code",
   "execution_count": 38,
   "metadata": {},
   "outputs": [
    {
     "data": {
      "text/html": [
       "<div>\n",
       "<style scoped>\n",
       "    .dataframe tbody tr th:only-of-type {\n",
       "        vertical-align: middle;\n",
       "    }\n",
       "\n",
       "    .dataframe tbody tr th {\n",
       "        vertical-align: top;\n",
       "    }\n",
       "\n",
       "    .dataframe thead th {\n",
       "        text-align: right;\n",
       "    }\n",
       "</style>\n",
       "<table border=\"1\" class=\"dataframe\">\n",
       "  <thead>\n",
       "    <tr style=\"text-align: right;\">\n",
       "      <th></th>\n",
       "      <th>whitepapers</th>\n",
       "    </tr>\n",
       "  </thead>\n",
       "  <tbody>\n",
       "    <tr>\n",
       "      <th>#metahash</th>\n",
       "      <td>yellow paper technical documentation version g...</td>\n",
       "    </tr>\n",
       "    <tr>\n",
       "      <th>0x</th>\n",
       "      <td>open protocol decentralize exchange blockchain...</td>\n",
       "    </tr>\n",
       "  </tbody>\n",
       "</table>\n",
       "</div>"
      ],
      "text/plain": [
       "                                                 whitepapers\n",
       "#metahash  yellow paper technical documentation version g...\n",
       "0x         open protocol decentralize exchange blockchain..."
      ]
     },
     "execution_count": 38,
     "metadata": {},
     "output_type": "execute_result"
    }
   ],
   "source": [
    "#Glancing into the dataframe; it is a dataframe with each row representing a document (blockchain whitepaper)\n",
    "data_df.head(2)"
   ]
  },
  {
   "cell_type": "code",
   "execution_count": 39,
   "metadata": {},
   "outputs": [],
   "source": [
    "#Pickling the data for future use. \n",
    "data_df.to_pickle('tmcorpus.pkl')"
   ]
  },
  {
   "cell_type": "code",
   "execution_count": 6,
   "metadata": {},
   "outputs": [],
   "source": [
    "with open('tmcorpus.pkl', 'rb') as f:\n",
    "    data_ready = pickle.load(f)"
   ]
  },
  {
   "cell_type": "code",
   "execution_count": 10,
   "metadata": {},
   "outputs": [
    {
     "name": "stdout",
     "output_type": "stream",
     "text": [
      "['yellow', 'paper', 'technical', 'documentation', 'version', 'gartenstrasse', 'yellow', 'paper', 'project', 'goal', 'technical', 'feature', 'test', 'methodology', 'test', 'building', 'nerk', 'test', 'bulk', 'transaction', 'verification', 'latency', 'test', 'nerk', 'failure', 'test', 'blockage', 'nerk', 'recovery', 'test', 'result', 'nerk', 'description', 'data', 'synchronization', 'subsystem', 'nerk', 'structure', 'nerk', 'topology', 'nerk', 'map', 'multiple', 'proof', 'voting', 'cryptography', 'block', 'structure', 'balance', 'model', 'transaction', 'protocol', 'feature', 'specialuse', 'address', 'nature', 'address', 'frozen', 'address', 'child', 'address', 'delegation', 'reward', 'distribution', 'strategy', 'risk', 'conclusion', 'data', 'storage', 'yellow', 'paper', 'decentralize', 'technology', 'boom', 'paradigm', 'address', 'key', 'issue', 'issue', 'trust', 'control', 'authority', 'scalability', 'reliability', 'thirdparty', 'involvement', 'platform', 'app', 'market', 'limited', 'major', 'factor', 'geographic', 'distribution', 'node', 'insufficient', 'connection', 'infrastructure', 'slow', 'data', 'synchronization', 'validation', 'vulnerability', 'distribute', 'nerks', 'attack', 'leaf', 'desire', 'term', 'security', 'trust', 'overcomes', 'obstacle', 'introduce', 'dynamic', 'node', 'role', 'implement', 'fragment', 'cryptographic', 'proof', 'simultaneously', 'decrease', 'volume', 'transmit', 'data', 'approach', 'optimizes', 'nerk', 'synchronization', 'solves', 'issue', 'data', 'transmission', 'archival', 'approach', 'lead', 'creation', 'multilayered', 'consensus', 'enhance', 'nerk', 'resilience', 'attack', 'utilize', 'proprietary', 'technology', 'team', 'create', 'fast', 'blockchain', 'protocol', 'load', 'test', 'result', 'throughput', 'transaction', 'method', 'result', 'document', 'nextgeneration', 'highperformance', 'lowfee', 'blockchain', 'high', 'confirmation', 'speed', 'low', 'data', 'processing', 'fee', 'enable', 'support', 'operating', 'decentralize', 'application', 'realtime', 'broad', 'bandwidth', 'transaction', 'yellow', 'paper', 'project', 'goal', 'shortterm', 'milests', 'midterm', 'milests', 'highspeed', 'multiblockchain', 'base', 'protocol', 'design', 'geodistributed', 'nerk', 'architecture', 'minimum', 'synchronization', 'time', 'maintain', 'maximum', 'data', 'transfer', 'capacity', 'select', 'consensus', 'model', 'minimum', 'transaction', 'confirmation', 'time', 'maintain', 'transaction', 'immutability', 'cryptographic', 'proof', 'asset', 'ownership', 'decrease', 'store', 'transmit', 'data', 'select', 'optimal', 'balance', 'model', 'mitigate', 'excessive', 'data', 'storage', 'issue', 'timeproven', 'blockchain', 'nerk', 'structure', 'nonlinear', 'validation', 'blockchain', 'data', 'avoid', 'hard', 'fork', 'deploy', 'major', 'software', 'update', 'solve', 'issue', 'blockchain', 'merges', 'nerk', 'split', 'decentralise', 'storage', 'virtual', 'app', 'host', 'metadns', 'distribute', 'service', 'multicurrency', 'wallet', 'browser', 'mobile', 'resource', 'share', 'cellular', 'satellite', 'communication', 'data', 'transmission', 'consensus', 'mobile', 'device', 'marketplace', 'digital', 'identification', 'biometric', 'data', 'iot', 'capability', 'compatibility', 'universal', 'reputation', 'yellow', 'paper', 'technical', 'feature', 'experimentally', 'proven', 'feature', 'include', 'exceptional', 'technical', 'characteristic', 'nerk', 'result', 'innovative', 'technology', 'data', 'synchronization', 'subsystem', 'complete', 'integral', 'data', 'update', 'multiconsensus', 'subsystem', 'generate', 'validate', 'block', 'parallel', 'synchronization', 'process', 'subsystem', 'follow', 'test', 'method', 'result', 'provide', 'transaction', 'capacity', 'transaction', 'nerk', 'synchronization', 'time', 'minimum', 'number', 'node', 'block', 'generation', 'time', 'storage', 'require', 'financial', 'transaction', 'yellow', 'paper', 'test', 'building', 'nerk', 'test', 'evaluate', 'process', 'nerk', 'building', 'prior', 'nerk', 'build', 'evaluate', 'effective', 'performance', 'node', 'speed', 'data', 'transmission', 'node', 'mainnet', 'test', 'randomly', 'conduct', 'node', 'background', 'follow', 'test', 'result', 'algorithm', 'active', 'node', 'compute', 'optimal', 'nerk', 'map', 'assign', 'follow', 'role', 'node', 'graphic', 'image', 'result', 'nerk', 'map', 'signal', 'travel', 'outer', 'layer', 'center', 'node', 'node', 'node', 'nerk', 'map', 'test', 'involve', 'node', 'continent', 'wide', 'range', 'node', 'parameter', 'test', 'lowperformance', 'vcpu', 'highperformance', 'vcpu', 'ram', 'test', 'conduct', 'month', 'time', 'billion', 'transaction', 'process', 'test', 'methodology', 'yellow', 'transaction', 'propagation', 'node', 'test', 'bulk', 'transaction', 'verification', 'latency', 'test', 'study', 'dependence', 'transaction', 'time', 'number', 'transaction', 'transaction', 'time', 'define', 'total', 'time', 'transaction', 'creation', 'complete', 'propagation', 'process', 'transaction', 'entire', 'nerk', 'transaction', 'propagation', 'path', 'nerk', 'number', 'transaction', 'varied', 'yellow', 'paper', 'blue', 'dot', 'denote', 'acquire', 'experimental', 'data', 'transaction', 'mark', 'record', 'threshold', 'nerk', 'bandwidth', 'transaction', 'process', 'node', 'queue', 'remain', 'pending', 'process', 'block', 'interpolation', 'polynomial', 'yellow', 'graph', 'linear', 'mark', 'transaction', 'prof', 'excellent', 'scalability', 'nerk', 'study', 'range', 'time', 'number', 'transaction', 'transaction', 'tps', 'yellow', 'partial', 'shutoff', 'nerk', 'test', 'nerk', 'failure', 'test', 'measure', 'nerk', 'performance', 'depend', 'number', 'lose', 'node', 'percentage', 'node', 'randomly', 'turn', 'illustrates', 'shutoff', 'scenario', 'result', 'low', 'node', 'active', 'nerk', 'fully', 'capable', 'function', 'claimed', 'performance', 'capacity', 'nerk', 'availability', 'transaction', 'verification', 'distribution', 'speed', 'result', 'achieve', 'simulation', 'failure', 'cluster', 'server', 'collocation', 'eg', 'data', 'center', 'failure', 'global', 'isp', 'issue', 'yellow', 'paper', 'test', 'blockage', 'nerk', 'recovery', 'test', 'simulated', 'continental', 'blockage', 'lead', 'nerk', 'split', 'subsequent', 'rebuild', 'follow', 'merge', 'purpose', 'test', 'speed', 'consensus', 'reorganization', 'split', 'synchronization', 'speed', 'nerk', 'recovery', 'scenario', 'rebuild', 'nerk', 'complete', 'structure', 'node', 'nerk', 'form', 'chain', 'transaction', 'block', 'merge', 'replacement', 'conflict', 'transaction', 'connection', 'nerks', 'restore', 'cutoff', 'node', 'reconnected', 'nerk', 'node', 'add', 'effective', 'performance', 'slows', 'transaction', 'period', 'data', 'synchronization', 'nerk', 'effectively', 'slows', 'time', 'duration', 'merge', 'test', 'result', 'throughput', 'handle', 'transaction', 'broad', 'range', 'environmental', 'bandwidth', 'load', 'transaction', 'outpace', 'claimed', 'performance', 'transaction', 'exceed', 'incoming', 'transaction', 'rate', 'claimed', 'performance', 'level', 'processing', 'speed', 'observe', 'slow', 'nerk', 'resilience', 'maintain', 'nerk', 'failure', 'level', 'performance', 'deterioration', 'event', 'continental', 'nerk', 'blockage', 'nerks', 'retain', 'local', 'functionality', 'automatically', 'rebuild', 'connectivity', 'restore', 'rebuild', 'nerks', 'function', 'slow', 'mode', 'yellow', 'paper', 'nerk', 'description', 'single', 'rank', 'peertopeer', 'nerk', 'member', 'nerk', 'software', 'automatically', 'role', 'assign', 'role', 'assign', 'algorithm', 'execute', 'node', 'role', 'provide', 'specific', 'service', 'synchronization', 'consensus', 'subsystem', 'operation', 'principle', 'comprehensible', 'subsystem', 'explain', 'individually', 'nerk', 'key', 'role', 'node', 'node', 'node', 'master', 'core', 'node', 'slave', 'core', 'node', 'node', 'yellow', 'paper', 'data', 'synchronization', 'subsystem', 'describes', 'nerk', 'perspective', 'data', 'synchronization', 'subsystem', 'nerk', 'design', 'role', 'assignment', 'nerk', 'member', 'data', 'synchronization', 'subsystem', 'maintain', 'role', 'assignment', 'base', 'node', 'physical', 'property', 'memory', 'cpu', 'performance', 'nerk', 'connection', 'quality', 'performance', 'sole', 'criterion', 'determines', 'node', 'role', 'characteristic', 'node', 'geographic', 'location', 'data', 'synchronization', 'subsystem', 'role', 'functionality', 'nerk', 'structure', 'role', 'function', 'userclient', 'option', 'hard', 'drive', 'archive', 'storage', 'forge', 'mode', 'live', 'node', 'incoming', 'connection', 'light', 'client', 'direct', 'connection', 'node', 'sufficient', 'processing', 'capacity', 'synchronization', 'task', 'ensures', 'fast', 'nerk', 'connectivity', 'client', 'protects', 'invalid', 'transaction', 'node', 'incoming', 'connection', 'maintains', 'longdistance', 'connection', 'maintains', 'direct', 'connection', 'node', 'sufficient', 'processing', 'capacity', 'synchronization', 'serf', 'nerk', 'communication', 'layer', 'node', 'incoming', 'connection', 'node', 'good', 'connection', 'node', 'region', 'sufficient', 'processing', 'capacity', 'fast', 'block', 'generation', 'control', 'synchronization', 'process', 'slave', 'core', 'node', 'duplicate', 'node', 'operation', 'automatically', 'replace', 'node', 'case', 'unavailability', 'failure', 'node', 'connection', 'role', 'sufficient', 'storage', 'capacity', 'blockchain', 'data', 'transmits', 'data', 'node', 'work', 'raw', 'data', 'archive', 'report', 'balance', 'carry', 'specific', 'task', 'support', 'application', 'function', 'data', 'synchronization', 'subsystem', 'role', 'function', 'yellow', 'nerk', 'diagram', 'nerk', 'member', 'role', 'static', 'member', 'change', 'role', 'base', 'criterion', 'list', 'aibased', 'behavioral', 'analysis', 'nerk', 'schematically', 'nerk', 'layer', 'main', 'chain', 'nerk', 'map', 'technical', 'client', 'yellow', 'paper', 'nerk', 'implement', 'node', 'confidence', 'factor', 'define', 'weight', 'factor', 'role', 'assignment', 'voting', 'influence', 'depends', 'duration', 'node', 'operation', 'nerk', 'node', 'performance', 'absence', 'nerk', 'failure', 'error', 'occur', 'node', 'multiple', 'proof', 'data', 'rout', 'crucial', 'task', 'optimize', 'synchronization', 'nerk', 'map', 'dynamically', 'update', 'member', 'generates', 'map', 'entire', 'nerk', 'update', 'continuously', 'speed', 'data', 'delivery', 'map', 'choose', 'optimal', 'operator', 'node', 'task', 'client', 'nerk', 'map', 'generate', 'node', 'sign', 'account', 'voting', 'process', 'chapter', 'multiple', 'proof', 'nerk', 'map', 'public', 'client', 'generates', 'nerk', 'map', 'interact', 'member', 'nerk', 'client', 'choose', 'operator', 'request', 'operator', 'high', 'level', 'connection', 'speed', 'specific', 'client', 'event', 'node', 'failure', 'automatic', 'voting', 'role', 'redistribution', 'place', 'base', 'nerk', 'map', 'node', 'achieve', 'optimal', 'nerk', 'map', 'query', 'node', 'performance', 'intranode', 'transfer', 'speed', 'data', 'randomly', 'node', 'test', 'mode', 'test', 'design', 'compromise', 'node', 'unable', 'spoof', 'nerk', 'provide', 'high', 'performance', 'speed', 'unable', 'understand', 'simulation', 'achieve', 'provide', 'test', 'final', 'stage', 'interaction', 'node', 'connection', 'nerk', 'list', 'node', 'address', 'receive', 'dns', 'nerk', 'map', 'finalize', 'carry', 'map', 'nerk', 'topology', 'yellow', 'paper', 'field', 'description', 'binary', 'node', 'binary', 'format', 'address', 'node', 'wallet', 'address', 'coin', 'coin', 'delegate', 'nodetype', 'bitmask', 'bitmask', 'current', 'node', 'role', 'master', 'slave', 'verif', 'proxy', 'torrentfull', 'torrenttx', 'torrentbalance', 'torrentbkp', 'node', 'counter', 'number', 'parent', 'node', 'type', 'varint', 'node', 'node', 'addr', 'node', 'node', 'addr', 'list', 'parent', 'node', 'correspond', 'number', 'node', 'parent', 'node', 'counter', 'sort', 'priority', 'require', 'follow', 'parameter', 'parent', 'node', 'node', 'node', 'wallet', 'address', 'coin', 'coin', 'delegate', 'object', 'data', 'structure', 'varint', 'proprietary', 'type', 'integer', 'variable', 'length', 'data', 'developed', 'nerk', 'map', 'state', 'define', 'block', 'separate', 'blockchain', 'block', 'describes', 'state', 'member', 'nerk', 'relevant', 'topology', 'performance', 'test', 'result', 'nerk', 'map', 'mhaddr', 'varint', 'parentcnt', 'xea', 'mhaddr', 'xda', 'xda', 'mhaddr', 'varint', 'datasize', 'protobuf', 'data', 'object', 'scheme', 'binary', 'address', 'node', 'counter', 'node', 'node', 'address', 'node', 'address', 'node', 'nodetype', 'bitmask', 'yellow', 'paper', 'follow', 'node', 'description', 'binary', 'list', 'report', 'test', 'result', 'node', 'sign', 'private', 'key', 'node', 'node', 'test', 'result', 'save', 'format', 'mhaddr', 'ping', 'tps', 'signsec', 'ram', 'rate', 'varint', 'signsize', 'sign', 'varint', 'pubksize', 'pubk', 'test', 'schema', 'role', 'node', 'node', 'slave', 'core', 'node', 'slave', 'core', 'node', 'node', 'node', 'node', 'node', 'node', 'receives', 'data', 'role', 'parent', 'node', 'compliance', 'type', 'parent', 'node', 'depends', 'current', 'node', 'role', 'nerk', 'member', 'accord', 'protobuf', 'method', 'data', 'pack', 'binary', 'code', 'propose', 'signature', 'public', 'key', 'block', 'check', 'validity', 'test', 'record', 'data', 'structure', 'test', 'field', 'description', 'mhaddr', 'node', 'binary', 'format', 'ping', 'ping', 'millisecond', 'tps', 'transaction', 'nerk', 'channel', 'bandwidth', 'signsec', 'signature', 'ram', 'ram', 'rate', 'node', 'yellow', 'paper', 'multiconsensus', 'subsystem', 'blockchain', 'critical', 'define', 'state', 'consensus', 'state', 'member', 'nerk', 'agree', 'propose', 'change', 'addition', 'exist', 'blockchain', 'record', 'nerk', 'role', 'exclusively', 'viewport', 'consensus', 'subsystem', 'context', 'exist', 'blockchain', 'technology', 'consensus', 'model', 'cryptographic', 'protection', 'blockchain', 'structure', 'content', 'transaction', 'protocol', 'capability', 'key', 'requirement', 'outline', 'write', 'algorithm', 'consensus', 'model', 'reach', 'consensus', 'high', 'speed', 'provide', 'improve', 'security', 'corruption', 'nerk', 'time', 'write', 'dpos', 'fast', 'consensus', 'model', 'test', 'popular', 'platform', 'dpos', 'proposes', 'member', 'nerk', 'hold', 'voting', 'power', 'equivalent', 'member', 'member', 'grant', 'trust', 'delegate', 'speed', 'voting', 'process', 'number', 'delegate', 'generally', 'small', 'practice', 'large', 'collect', 'limited', 'group', 'people', 'neutralize', 'nerk', 'team', 'improve', 'dpos', 'model', 'developed', 'algorithm', 'multiple', 'proof', 'consensus', 'model', 'model', 'multilayered', 'validation', 'provide', 'basis', 'protect', 'nerk', 'corruption', 'case', 'central', 'nerk', 'entity', 'generate', 'block', 'corrupt', 'rest', 'nerk', 'vote', 'rebuild', 'nerk', 'redistribute', 'role', 'neutralize', 'threat', 'blockcreating', 'core', 'manage', 'synchronization', 'static', 'vary', 'accord', 'dynamic', 'nerk', 'parameter', 'grant', 'final', 'validation', 'model', 'validation', 'block', 'distribution', 'process', 'parallel', 'decrease', 'consensus', 'time', 'innovative', 'method', 'validation', 'management', 'core', 'technology', 'yellow', 'paper', 'reach', 'consensus', 'key', 'definition', 'node', 'key', 'player', 'consensus', 'compile', 'transaction', 'block', 'follow', 'address', 'node', 'synchronization', 'process', 'block', 'generation', 'nerk', 'consensus', 'process', 'distribution', 'block', 'torrent', 'node', 'transaction', 'nerk', 'detailed', 'description', 'transaction', 'undergo', 'validation', 'process', 'symbol', 'denote', 'signature', 'validity', 'check', 'denote', 'transaction', 'validity', 'check', 'function', 'return', 'true', 'transaction', 'valid', 'define', 'method', 'element', 'transaction', 'transaction', 'define', 'transaction', 'fee', 'node', 'formation', 'block', 'verification', 'node', 'vary', 'represent', 'time', 'curverif', 'function', 'time', 'compute', 'curverift', 'represent', 'time', 'define', 'maxverif', 'minverif', 'define', 'access', 'specific', 'verification', 'node', 'nerk', 'icurverif', 'evidently', 'limited', 'node', 'time', 'block', 'creation', 'number', 'core', 'node', 'constant', 'denote', 'curcores', 'access', 'specific', 'core', 'node', 'nerk', 'denote', 'cri', 'icurcores', 'adr', 'address', 'define', 'pair', 'private', 'public', 'key', 'account', 'balance', 'method', 'access', 'property', 'address', 'declare', 'access', 'balance', 'address', 'denote', 'multiple', 'proof', 'node', 'receives', 'transaction', 'client', 'check', 'transaction', 'validity', 'sends', 'transaction', 'verification', 'node', 'blockchain', 'state', 'memory', 'require', 'compute', 'resource', 'node', 'check', 'validity', 'economic', 'feasibility', 'transaction', 'receive', 'peer', 'node', 'record', 'transaction', 'process', 'require', 'compute', 'resource', 'node', 'transaction', 'verification', 'node', 'queue', 'transaction', 'block', 'generation', 'generates', 'block', 'consistent', 'sharding', 'slave', 'core', 'node', 'provide', 'sign', 'block', 'substitute', 'core', 'node', 'case', 'core', 'node', 'failure', 'node', 'distributes', 'blockchain', 'role', 'function', 'consensus', 'subsystem', 'yellow', 'paper', 'synchronization', 'phase', 'form', 'rawblock', 'block', 'valid', 'transaction', 'accord', 'active', 'comprise', 'active', 'sends', 'random', 'number', 'verification', 'node', 'number', 'denote', 'cnxtverif', 'node', 'synchronize', 'rawblock', 'verification', 'node', 'form', 'difference', 'set', 'normal', 'operation', 'equation', 'false', 'verification', 'node', 'sends', 'wide', 'predefined', 'cnxtcores', 'core', 'node', 'accord', 'list', 'manner', 'active', 'additional', 'transaction', 'previous', 'block', 'icurverif', 'icurverif', 'icurverif', 'moment', 'define', 'multiple', 'core', 'node', 'synchronization', 'phase', 'temporary', 'attribute', 'role', 'active', 'describes', 'core', 'node', 'active', 'duration', 'creation', 'block', 'set', 'core', 'wellordered', 'verification', 'node', 'point', 'time', 'aware', 'active', 'core', 'current', 'core', 'identifier', 'curcore', 'curblock', 'mod', 'curcores', 'formula', 'simplify', 'number', 'core', 'order', 'reduce', 'complexity', 'calculate', 'stage', 'set', 'transfer', 'crcurcore', 'follow', 'role', 'active', 'simplicity', 'crcurcore', 'acr', 'valid', 'notation', 'result', 'operation', 'set', 'form', 'union', 'set', 'synchronization', 'phase', 'verification', 'node', 'process', 'calculates', 'multitude', 'transaction', 'arrive', 'verification', 'node', 'deem', 'valid', 'set', 'transaction', 'match', 'condition', 'verification', 'node', 'set', 'valid', 'transaction', 'set', 'transaction', 'set', 'inherits', 'property', 'transaction', 'include', 'hash', 'transaction', 'set', 'valid', 'transaction', 'hash', 'specific', 'verification', 'node', 'define', 'denotes', 'object', 'property', 'verification', 'node', 'yellow', 'paper', 'synchronization', 'phase', 'condition', 'fourth', 'synchronization', 'phase', 'achieve', 'core', 'node', 'form', 'posblock', 'signature', 'core', 'node', 'verify', 'block', 'block', 'torrent', 'node', 'involves', 'core', 'node', 'block', 'creation', 'proceeds', 'order', 'core', 'event', 'failure', 'core', 'node', 'slave', 'core', 'step', 'replacement', 'block', 'validate', 'checked', 'confirm', 'core', 'verification', 'node', 'core', 'commence', 'formation', 'block', 'current', 'validate', 'block', 'torrent', 'node', 'dissemination', 'client', 'node', 'confirm', 'block', 'valid', 'initiate', 'dissemination', 'block', 'user', 'torrent', 'node', 'block', 'invalid', 'torrent', 'node', 'raise', 'signal', 'alert', 'core', 'node', 'compromise', 'initiate', 'role', 'redistribution', 'process', 'synchronization', 'phase', 'transaction', 'notation', 'core', 'node', 'verification', 'node', 'simultaneously', 'send', 'rawblock', 'nonactive', 'core', 'node', 'core', 'node', 'receive', 'block', 'set', 'form', 'manner', 'analogous', 'set', 'set', 'hash', 'rawblock', 'transaction', 'receive', 'node', 'transaction', 'hash', 'compact', 'transaction', 'reduce', 'resource', 'cost', 'synchronization', 'operation', 'stage', 'hash', 'transaction', 'follow', 'attribute', 'require', 'consensus', 'reach', 'set', 'hash', 'active', 'equal', 'equivalent', 'set', 'intersection', 'transaction', 'hash', 'core', 'jcurcores', 'jcurcores', 'hjh', 'icurverif', 'icurverif', 'yellow', 'flowchart', 'process', 'reach', 'consensus', 'provide', 'description', 'time', 'interval', 'stage', 'process', 'designation', 'denote', 'frequent', 'occur', 'observation', 'data', 'set', 'transaction', 'flowchart', 'consensus', 'algorithm', 'visualization', 'verif', 'consensus', 'reach', 'diagram', 'yellow', 'paper', 'consensus', 'reach', 'stage', 'process', 'execution', 'time', 'request', 'service', 'data', 'torrent', 'node', 'mos', 'creates', 'transaction', 'sign', 'sends', 'mos', 'node', 'check', 'sufficiency', 'accuracy', 'data', 'signature', 'transaction', 'sends', 'verification', 'node', 'mos', 'node', 'check', 'data', 'accuracy', 'transaction', 'economic', 'feasibility', 'possess', 'core', 'node', 'active', 'create', 'block', 'verification', 'node', 'sends', 'transaction', 'mos', 'core', 'node', 'generates', 'block', 'incoming', 'transaction', 'verification', 'node', 'mos', 'process', 'occur', 'parallel', 'node', 'distribute', 'block', 'verification', 'node', 'node', 'mos', 'node', 'check', 'transaction', 'block', 'lose', 'transaction', 'verification', 'node', 'deliver', 'follow', 'node', 'participate', 'block', 'creation', 'include', 'transaction', 'block', 'discard', 'completely', 'discard', 'transaction', 'deliver', 'node', 'user', 'learn', 'reason', 'discard', 'status', 'block', 'verify', 'voting', 'core', 'seed', 'root', 'layer', 'torrent', 'node', 'speed', 'synchronization', 'node', 'verify', 'block', 'correct', 'sign', 'deliver', 'root', 'layer', 'torrent', 'node', 'verification', 'node', 'block', 'deliver', 'root', 'layer', 'torrent', 'node', 'verify', 'core', 'node', 'torrent', 'node', 'client', 'check', 'core', 'node', 'voting', 'result', 'add', 'vote', 'mos', 'yellow', 'paper', 'accord', 'test', 'result', 'test', 'transaction', 'verification', 'block', 'distribution', 'torrent', 'node', 'start', 'transaction', 'arrival', 'peer', 'node', 'average', 'maximum', 'generate', 'irreversible', 'block', 'global', 'nerk', 'node', 'process', 'execution', 'time', 'block', 'synchronize', 'torrent', 'node', 'tree', 'root', 'layer', 'torrent', 'node', 'nerk', 'map', 'event', 'torrent', 'node', 'validate', 'block', 'correct', 'vote', 'nerk', 'rebuild', 'vote', 'torrent', 'node', 'favor', 'nerk', 'rebuild', 'torrent', 'node', 'deliver', 'block', 'nerk', 'rebuild', 'complete', 'mos', 'request', 'status', 'transaction', 'torrent', 'node', 'case', 'torrent', 'node', 'block', 'incorrect', 'informs', 'client', 'event', 'torrent', 'node', 'reply', 'client', 'current', 'block', 'compromise', 'transaction', 'deem', 'irreversible', 'probability', 'nerk', 'reconfiguration', 'high', 'torrent', 'node', 'inform', 'client', 'nerk', 'function', 'compromise', 'core', 'node', 'probability', 'transaction', 'rollback', 'yellow', 'paper', 'voting', 'weight', 'vote', 'superposition', 'node', 'holder', 'coin', 'delegate', 'coin', 'effective', 'voting', 'employ', 'votebased', 'decision', 'mechanism', 'include', 'validation', 'block', 'change', 'nerk', 'topology', 'software', 'update', 'address', 'delegate', 'coin', 'address', 'delegation', 'process', 'constraint', 'total', 'coin', 'delegate', 'held', 'address', 'denotes', 'absolute', 'voting', 'power', 'address', 'node', 'obtains', 'factor', 'increase', 'unit', 'hour', 'reward', 'calculation', 'transaction', 'validate', 'correctly', 'decrease', 'case', 'nerk', 'degradation', 'case', 'incorrect', 'validation', 'transaction', 'detection', 'achieve', 'require', 'day', 'yellow', 'paper', 'cryptography', 'nerk', 'security', 'digital', 'signature', 'algorithm', 'elliptic', 'curve', 'digital', 'signature', 'algorithm', 'family', 'sha', 'main', 'hash', 'function', 'algorithm', 'attackresistant', 'repeatedly', 'proven', 'applicability', 'sphere', 'digital', 'security', 'result', 'test', 'undertaken', 'cryptographic', 'algorithm', 'validation', 'program', 'report', 'quantum', 'computer', 'advance', 'considers', 'postquantum', 'cryptography', 'algorithm', 'block', 'structure', 'achieve', 'optimal', 'volume', 'data', 'storage', 'archive', 'blockchain', 'multilevel', 'highspeed', 'validation', 'type', 'block', 'block', 'primary', 'block', 'initial', 'release', 'coin', 'distribution', 'block', 'snapshot', 'blockchain', 'state', 'block', 'generate', 'billion', 'transaction', 'require', 'vote', 'verification', 'node', 'block', 'verification', 'node', 'store', 'block', 'free', 'space', 'data', 'leave', 'data', 'data', 'storage', 'archive', 'block', 'generate', 'base', 'block', 'block', 'validate', 'number', 'node', 'validation', 'cycle', 'checked', 'validators', 'generation', 'block', 'yellow', 'paper', 'block', 'alternative', 'hard', 'fork', 'block', 'complete', 'nerk', 'snapshot', 'hard', 'fork', 'case', 'software', 'update', 'nerk', 'convert', 'software', 'operation', 'continue', 'accord', 'rule', 'block', 'activation', 'block', 'activates', 'change', 'rule', 'require', 'software', 'simultaneous', 'smooth', 'update', 'process', 'validators', 'vote', 'simultaneously', 'core', 'node', 'create', 'invalid', 'block', 'follow', 'validators', 'reject', 'reason', 'corruption', 'check', 'place', 'require', 'nerk', 'rebuilt', 'consensus', 'reach', 'time', 'transaction', 'buffer', 'verification', 'node', 'layer', 'processing', 'buffer', 'start', 'valid', 'block', 'corrupt', 'block', 'corrupt', 'block', 'block', 'discard', 'process', 'block', 'discard', 'procedure', 'nerk', 'split', 'merge', 'merge', 'block', 'nerk', 'split', 'merge', 'yellow', 'paper', 'extreme', 'condition', 'connection', 'failure', 'loss', 'connection', 'country', 'nerk', 'split', 'separate', 'nerks', 'case', 'nerk', 'retain', 'original', 'structure', 'node', 'merge', 'synchronization', 'lose', 'block', 'incoming', 'transaction', 'accumulate', 'pool', 'unscheduled', 'merge', 'block', 'creation', 'commence', 'block', 'save', 'merge', 'block', 'nerk', 'rebuild', 'continue', 'operation', 'block', 'eliminate', 'double', 'spend', 'motivation', 'transaction', 'involve', 'address', 'exceed', 'balance', 'deem', 'valid', 'nerk', 'maximum', 'vote', 'recipient', 'nerk', 'vote', 'inform', 'nerk', 'split', 'theory', 'recipient', 'initiate', 'double', 'spend', 'nerk', 'transaction', 'cancel', 'recipient', 'wait', 'nerks', 'merge', 'standard', 'transaction', 'process', 'normal', 'flaw', 'roll', 'transaction', 'purpose', 'achieve', 'double', 'spend', 'oppose', 'scheme', 'long', 'blockchain', 'win', 'transaction', 'subject', 'rollback', 'yellow', 'paper', 'balance', 'model', 'basis', 'financial', 'asset', 'management', 'method', 'impossible', 'work', 'asset', 'clear', 'understand', 'balance', 'doubleentry', 'bookkeeping', 'apply', 'classic', 'accounting', 'tripleentry', 'bookkeeping', 'favor', 'decentralize', 'accounting', 'applicable', 'blockchain', 'platform', 'platform', 'track', 'user', 'balance', 'popular', 'balance', 'model', 'unspent', 'transaction', 'output', 'model', 'model', 'direct', 'graph', 'asset', 'user', 'database', 'current', 'nerk', 'state', 'model', 'advantage', 'disadvantage', 'issue', 'model', 'refer', 'article', 'prepared', 'hashex', 'consultancy', 'model', 'model', 'high', 'degree', 'privacy', 'address', 'coin', 'owner', 'store', 'account', 'state', 'easily', 'scale', 'sharding', 'efficient', 'usage', 'repository', 'hard', 'work', 'smart', 'contract', 'state', 'intuitively', 'clear', 'approach', 'multithreading', 'computation', 'client', 'analyse', 'state', 'easily', 'complete', 'transparency', 'asset', 'movement', 'high', 'degree', 'fungibility', 'harder', 'track', 'asset', 'transaction', 'nonce', 'prevent', 'state', 'machine', 'store', 'nonce', 'unused', 'address', 'delete', 'inconvenient', 'track', 'internal', 'transaction', 'public', 'blockchain', 'pro', 'balance', 'model', 'yellow', 'paper', 'blockchain', 'model', 'consensus', 'smart', 'contract', 'dpos', 'tron', 'dpos', 'qtum', 'aal', 'lft', 'key', 'advantage', 'model', 'uniqueness', 'coin', 'model', 'provide', 'simpler', 'smart', 'contract', 'implementation', 'aspect', 'modern', 'reasonable', 'choose', 'model', 'confirm', 'solution', 'apply', 'popular', 'product', 'model', 'popular', 'blockchains', 'note', 'hybrid', 'balance', 'model', 'pure', 'account', 'model', 'initial', 'stage', 'decide', 'account', 'model', 'speed', 'implementation', 'resolve', 'issue', 'data', 'growth', 'associate', 'nonce', 'account', 'storage', 'start', 'nonce', 'fork', 'block', 'unused', 'extremely', 'account', 'automatically', 'erase', 'node', 'memory', 'hybrid', 'scheme', 'balance', 'contract', 'feature', 'lot', 'transaction', 'standard', 'tree', 'model', 'time', 'considerable', 'disc', 'space', 'tree', 'introduce', 'optimize', 'proof', 'model', 'reduce', 'resource', 'require', 'data', 'storage', 'context', 'graph', 'dependency', 'proof', 'size', 'byte', 'tree', 'size', 'type', 'tree', 'descartes', 'tree', 'skip', 'list', 'avl', 'proof', 'size', 'modification', 'tree', 'size', 'block', 'processing', 'time', 'block', 'total', 'popular', 'blockchain', 'model', 'comparison', 'public', 'additional', 'model', 'improve', 'authenticate', 'dynamic', 'dictionary', 'application', 'yellow', 'paper', 'tree', 'size', 'avl', 'proof', 'size', 'tree', 'size', 'dependency', 'ifi', 'tree', 'size', 'avl', 'treeetherium', 'tree', 'proof', 'size', 'modification', 'tree', 'size', 'dependency', 'yellow', 'block', 'processing', 'time', 'block', 'blockchain', 'dependency', 'avl', 'verifierfull', 'verifier', 'block', 'yellow', 'paper', 'transaction', 'transaction', 'structure', 'describes', 'change', 'blockchain', 'state', 'transaction', 'follow', 'perform', 'cryptocurrency', 'transfer', 'operation', 'address', 'transaction', 'transmit', 'binary', 'form', 'confirm', 'signature', 'public', 'key', 'transaction', 'form', 'request', 'provide', 'graphic', 'representation', 'transaction', 'provide', 'data', 'structure', 'inside', 'transaction', 'field', 'description', 'recipient', 'address', 'asset', 'fee', 'fee', 'blockchain', 'secure', 'number', 'data', 'blockchain', 'record', 'pubkey', 'public', 'key', 'sign', 'signature', 'transaction', 'structure', 'graphic', 'representation', 'transaction', 'blocktype', 'blockts', 'blockheaders', 'txsize', 'txn', 'uint', 'size', 'varint', 'varint', 'fee', 'varint', 'nonce', 'varint', 'datasize', 'data', 'varint', 'signsize', 'sign', 'varint', 'pubksize', 'pubk', 'yellow', 'paper', 'protocol', 'feature', 'binary', 'protocol', 'support', 'financial', 'transaction', 'data', 'transaction', 'technical', 'transaction', 'technical', 'transaction', 'provide', 'opportunity', 'vote', 'delegation', 'cooperative', 'delegation', 'combination', 'forge', 'pool', 'voting', 'validation', 'control', 'child', 'address', 'specialuse', 'address', 'data', 'transaction', 'data', 'storage', 'execute', 'application', 'messenger', 'gamble', 'financial', 'transaction', 'transfer', 'address', 'type', 'transaction', 'store', 'chain', 'order', 'optimize', 'size', 'store', 'data', 'disallow', 'excessive', 'amplification', 'financial', 'chain', 'technical', 'data', 'main', 'address', 'case', 'advanced', 'feature', 'smart', 'contract', 'address', 'assign', 'exclusively', 'smart', 'contract', 'developer', 'address', 'smart', 'contract', 'administration', 'hypervisor', 'address', 'virtualization', 'frozen', 'address', 'child', 'address', 'withdrawal', 'parent', 'frozen', 'address', 'child', 'address', 'withdrawal', 'frozen', 'address', 'address', 'address', 'generation', 'public', 'key', 'step', 'byte', 'byte', 'byte', 'correspond', 'coordinate', 'byte', 'coordinate', 'perform', 'sha', 'hash', 'public', 'key', 'perform', 'remd', 'hash', 'result', 'previous', 'step', 'add', 'marker', 'byte', 'result', 'base', 'address', 'type', 'main', 'address', 'smart', 'contract', 'address', 'developer', 'address', 'hypervisor', 'address', 'frozen', 'address', 'xx', 'child', 'address', 'withdrawal', 'parent', 'frozen', 'address', 'child', 'address', 'withdrawal', 'frozen', 'address', 'xx', 'multisig', 'address', 'specialuse', 'address', 'yellow', 'paper', 'perform', 'sha', 'hash', 'result', 'sha', 'hash', 'result', 'byte', 'result', 'hash', 'add', 'byte', 'remd', 'hash', 'item', 'nature', 'multisigs', 'address', 'require', 'multiple', 'user', 'signature', 'perform', 'transaction', 'approach', 'situation', 'require', 'anonymity', 'nonanonymous', 'situation', 'freeze', 'perform', 'special', 'transaction', 'address', 'sends', 'transaction', 'timestamp', 'transfer', 'operation', 'address', 'disallowed', 'incoming', 'transfer', 'freeze', 'time', 'change', 'transaction', 'extend', 'shorten', 'transaction', 'timestamp', 'event', 'prioritize', 'address', 'security', 'coin', 'remain', 'unspent', 'timeframe', 'specialuse', 'child', 'address', 'transaction', 'frozen', 'address', 'common', 'parent', 'frozen', 'parent', 'address', 'address', 'online', 'wallet', 'require', 'offline', 'wallet', 'signature', 'operation', 'anonymous', 'approach', 'require', 'private', 'key', 'multisig', 'split', 'distribute', 'owner', 'shamir', 'secret', 'share', 'method', 'approach', 'multisig', 'smart', 'contract', 'require', 'transaction', 'sign', 'private', 'key', 'nature', 'address', 'frozen', 'address', 'child', 'address', 'anonymous', 'multisig', 'nonanonymous', 'multisig', 'yellow', 'paper', 'process', 'block', 'generation', 'validation', 'support', 'operation', 'entire', 'nerk', 'node', 'participates', 'forge', 'process', 'highperformance', 'alternative', 'mining', 'nerks', 'reward', 'reward', 'forge', 'grant', 'forge', 'pool', 'collect', 'fee', 'transaction', 'total', 'size', 'forge', 'pool', 'coin', 'unevenly', 'distribute', 'year', 'nerk', 'operation', 'reward', 'paid', 'hour', 'periodicity', 'recalculation', 'distribution', 'vary', 'base', 'technical', 'nerk', 'node', 'forge', 'obsolete', 'efficiency', 'deteriorate', 'number', 'limited', 'minimum', 'number', 'coin', 'require', 'specific', 'role', 'faster', 'nerk', 'node', 'high', 'capacity', 'nerk', 'node', 'essential', 'nerk', 'operation', 'reward', 'distribute', 'member', 'node', 'create', 'validate', 'block', 'address', 'holder', 'unwilling', 'upkeep', 'node', 'delegate', 'coin', 'trust', 'node', 'receive', 'forge', 'reward', 'delegation', 'technical', 'transaction', 'occurs', 'coin', 'frozen', 'delegation', 'period', 'transmit', 'address', 'delegate', 'node', 'delegation', 'cancel', 'delegation', 'cancel', 'hour', 'role', 'reassignment', 'operation', 'coin', 'delegate', 'cancellation', 'delegation', 'coin', 'delegate', 'compromise', 'node', 'detect', 'perform', 'malicious', 'activity', 'delegation', 'cancel', 'automatically', 'coin', 'frozen', 'day', 'exclude', 'possibility', 'transfer', 'redelegation', 'coin', 'remain', 'ownership', 'holder', 'unavailable', 'day', 'chapter', 'delegation', 'yellow', 'paper', 'holder', 'coin', 'coin', 'delegate', 'address', 'holder', 'coin', 'coin', 'delegate', 'nerk', 'address', 'pool', 'stimulation', 'pool', 'issue', 'hour', 'year', 'commission', 'transaction', 'storage', 'data', 'commission', 'receive', 'nerk', 'hour', 'coin', 'holder', 'reward', 'pool', 'commission', 'holder', 'coin', 'coin', 'coin', 'holder', 'reward', 'calculate', 'accord', 'follow', 'formula', 'coin', 'holder', 'reward', 'reward', 'distribution', 'reward', 'share', 'reward', 'type', 'coin', 'holder', 'reward', 'reward', 'holder', 'node', 'reward', 'reward', 'reward', 'active', 'holder', 'reward', 'distribution', 'member', 'nerk', 'financial', 'stimulation', 'aim', 'add', 'node', 'maximum', 'throughput', 'capacity', 'uniformly', 'role', 'latency', 'geographical', 'region', 'maintain', 'maximum', 'performance', 'beneficial', 'limited', 'number', 'highperformance', 'broad', 'bandwidth', 'computer', 'large', 'number', 'computer', 'low', 'performance', 'level', 'computer', 'peer', 'node', 'protect', 'nerk', 'core', 'achieve', 'abundance', 'node', 'pool', 'assume', 'role', 'automatic', 'decentralize', 'change', 'node', 'role', 'saturate', 'nerk', 'highcapacity', 'node', 'high', 'transaction', 'nerk', 'capable', 'processing', 'unit', 'time', 'node', 'reward', 'yellow', 'paper', 'nerk', 'require', 'computer', 'match', 'role', 'node', 'assessment', 'large', 'chosen', 'role', 'account', 'calculation', 'stimulates', 'add', 'node', 'role', 'nerk', 'deficit', 'balance', 'operation', 'nerk', 'node', 'reward', 'calculation', 'role', 'real', 'number', 'node', 'suitable', 'role', 'node', 'reward', 'calculate', 'base', 'number', 'coin', 'delegate', 'account', 'nerk', 'main', 'advantage', 'fast', 'node', 'gather', 'delegate', 'vote', 'increase', 'share', 'receive', 'commission', 'low', 'perform', 'node', 'limitation', 'delegate', 'coin', 'calculate', 'node', 'rat', 'speed', 'slowest', 'node', 'fast', 'accord', 'test', 'coefficient', 'calculation', 'rule', 'stimulates', 'add', 'node', 'fast', 'channel', 'cpu', 'signature', 'verification', 'performance', 'coefficient', 'coefficient', 'speed', 'rating', 'calculation', 'yellow', 'paper', 'stimulates', 'add', 'node', 'region', 'node', 'region', 'costly', 'operation', 'geolocation', 'coefficient', 'effective', 'coefficient', 'effective', 'delegate', 'coin', 'node', 'delegate', 'node', 'reward', 'pool', 'commission', 'node', 'latency', 'cluster', 'latency', 'cluster', 'node', 'count', 'latency', 'cluster', 'effective', 'delegate', 'coin', 'node', 'effective', 'delegate', 'coin', 'role', 'effective', 'delegate', 'coin', 'coin', 'stake', 'node', 'nerk', 'multiplies', 'delegate', 'coin', 'node', 'role', 'delegate', 'require', 'overabundance', 'node', 'role', 'region', 'require', 'stake', 'high', 'role', 'stake', 'reward', 'limit', 'node', 'node', 'node', 'node', 'require', 'stake', 'reward', 'limit', 'role', 'require', 'stake', 'reward', 'limit', 'role', 'yellow', 'paper', 'activation', 'node', 'undergoes', 'primary', 'assessment', 'role', 'fit', 'accord', 'technical', 'characteristic', 'reach', 'adequate', 'technical', 'property', 'node', 'assign', 'role', 'nerk', 'receive', 'reward', 'high', 'role', 'vice', 'versa', 'node', 'underperform', 'compare', 'fast', 'nerk', 'node', 'reward', 'limit', 'role', 'reward', 'distribute', 'random', 'active', 'member', 'number', 'active', 'node', 'reward', 'slot', 'allocate', 'score', 'member', 'active', 'client', 'online', 'hour', 'hour', 'reward', 'fourth', 'reward', 'role', 'sample', 'configexample', 'specification', 'purchase', 'lease', 'xeon', 'gold', 'cpu', 'hdd', 'silver', 'hdd', 'hhd', 'ram', 'hdd', 'digital', 'ocean', 'droplet', 'linode', 'recommend', 'hardware', 'cost', 'hardware', 'characteristic', 'maintain', 'claimed', 'nerk', 'performance', 'estimate', 'cost', 'purchase', 'lease', 'sufficient', 'number', 'node', 'characteristic', 'superior', 'recommend', 'nerk', 'automatically', 'reassign', 'underperform', 'node', 'role', 'recommend', 'hardware', 'yellow', 'paper', 'strategy', 'nerk', 'node', 'control', 'team', 'deem', 'centralize', 'technology', 'number', 'public', 'test', 'troubleshoot', 'realtime', 'change', 'team', 'plan', 'support', 'nerk', 'fully', 'decentralize', 'capable', 'selfdevelopment', 'phase', 'test', 'compnt', 'time', 'virtually', 'risk', 'nerk', 'step', 'propose', 'compnt', 'test', 'developer', 'nerk', 'public', 'test', 'update', 'testnet', 'update', 'mainnet', 'step', 'include', 'developer', 'nerk', 'launch', 'load', 'test', 'verification', 'processing', 'correctness', 'billion', 'transaction', 'public', 'testnet', 'launch', 'public', 'mainnet', 'launch', 'anchor', 'popular', 'blockchains', 'mainnet', 'launch', 'multiple', 'backup', 'archive', 'data', 'require', 'increase', 'security', 'member', 'order', 'avoid', 'change', 'critical', 'vulnerability', 'detect', 'mitigation', 'misuse', 'authority', 'team', 'plan', 'anchor', 'checksum', 'hash', 'public', 'blockchains', 'block', 'hash', 'calculation', 'forge', 'reward', 'record', 'blockchains', 'member', 'check', 'validity', 'entire', 'chain', 'static', 'control', 'point', 'public', 'blockchains', 'launch', 'peer', 'node', 'forge', 'incoming', 'transaction', 'process', 'nerk', 'public', 'decentralize', 'node', 'transaction', 'blockchain', 'stage', 'mechanism', 'forge', 'reward', 'role', 'test', 'node', 'launch', 'stage', 'nerk', 'reach', 'goal', 'public', 'decentralize', 'storage', 'transaction', 'block', 'public', 'repository', 'torrent', 'verification', 'core', 'performance', 'correctness', 'client', 'start', 'receive', 'data', 'decentralize', 'node', 'switch', 'automate', 'role', 'assignment', 'team', 'node', 'user', 'node', 'remain', 'static', 'role', 'switch', 'automate', 'role', 'assignment', 'user', 'node', 'role', 'stage', 'verifies', 'correctness', 'nerk', 'map', 'design', 'machine', 'learn', 'automate', 'nerk', 'rebuild', 'start', 'security', 'test', 'select', 'vendor', 'attack', 'consensus', 'nerk', 'failure', 'yellow', 'paper', 'software', 'update', 'start', 'bounty', 'campaign', 'focus', 'debug', 'security', 'issue', 'stage', 'main', 'architectural', 'vulnerability', 'nerk', 'attack', 'eliminate', 'public', 'bounty', 'engage', 'public', 'eliminate', 'rare', 'type', 'attack', 'core', 'slave', 'core', 'verification', 'node', 'software', 'update', 'ensure', 'completely', 'autonomous', 'distribution', 'role', 'nerk', 'phase', 'provide', 'continuous', 'operation', 'nerk', 'implement', 'risk', 'control', 'term', 'attack', 'nerk', 'yellow', 'paper', 'risk', 'risk', 'assessment', 'hashex', 'base', 'ferma', 'standard', 'risk', 'negative', 'outcome', 'project', 'study', 'dimensional', 'assessment', 'method', 'risk', 'description', 'risk', 'assessment', 'base', 'risk', 'probability', 'consequence', 'threat', 'organization', 'exposure', 'risk', 'type', 'operational', 'probability', 'medium', 'decentralize', 'nerks', 'continuously', 'experience', 'attack', 'type', 'attack', 'long', 'costly', 'attacker', 'estimate', 'day', 'staticrole', 'consequence', 'threat', 'low', 'risk', 'nerk', 'automatically', 'start', 'rebuild', 'node', 'unavailable', 'risk', 'type', 'operational', 'probability', 'low', 'remote', 'ddos', 'type', 'previous', 'risk', 'attack', 'require', 'large', 'computational', 'resource', 'attacker', 'costly', 'operation', 'comparison', 'previous', 'risk', 'consequence', 'threat', 'low', 'risk', 'high', 'nerk', 'load', 'transaction', 'fee', 'start', 'grow', 'nonlinearly', 'attack', 'impractical', 'maintain', 'nerk', 'load', 'attack', 'cost', 'load', 'transaction', 'cost', 'price', 'attack', 'cost', 'attack', 'increase', 'transaction', 'price', 'nerk', 'short', 'span', 'time', 'node', 'availability', 'ddos', 'attack', 'node', 'nerk', 'bandwidth', 'ddos', 'attack', 'multiple', 'transaction', 'generation', 'risk', 'type', 'operational', 'probability', 'medium', 'attacker', 'modify', 'local', 'time', 'disrupt', 'node', 'synchronization', 'consequence', 'threat', 'low', 'risk', 'key', 'time', 'parameter', 'measure', 'tick', 'node', 'reference', 'server', 'local', 'time', 'attack', 'change', 'local', 'time', 'yellow', 'paper', 'risk', 'type', 'operational', 'probability', 'high', 'probable', 'time', 'blockchain', 'size', 'lead', 'impossibility', 'store', 'blockchain', 'regular', 'hardware', 'equipment', 'moment', 'write', 'size', 'exceeds', 'size', 'close', 'industry', 'growth', 'rate', 'size', 'exceed', 'result', 'utter', 'impossibility', 'store', 'personal', 'computer', 'consequence', 'threat', 'high', 'risk', 'feature', 'storage', 'archive', 'data', 'distribute', 'repository', 'negative', 'sideeffects', 'main', 'nerk', 'performance', 'expense', 'block', 'accord', 'calculation', 'continuous', 'peak', 'load', 'nerk', 'storage', 'archive', 'data', 'financially', 'efficient', 'year', 'scenario', 'propose', 'implement', 'cheap', 'archive', 'repository', 'deploy', 'purge', 'mechanism', 'year', 'data', 'decision', 'voting', 'face', 'challenge', 'storage', 'historical', 'data', 'perform', 'fork', 'approve', 'general', 'voting', 'create', 'block', 'order', 'reduce', 'cost', 'historical', 'data', 'storage', 'risk', 'type', 'strategic', 'probability', 'low', 'remote', 'consequence', 'threat', 'high', 'risk', 'consensus', 'subsystem', 'solve', 'problem', 'simultaneously', 'layer', 'require', 'control', 'attack', 'extremely', 'hard', 'synchronize', 'nerk', 'node', 'signal', 'compromise', 'loses', 'support', 'compromise', 'node', 'emergence', 'nerk', 'singlehandedly', 'client', 'start', 'retroactively', 'reject', 'block', 'trust', 'compromise', 'torrent', 'effectively', 'splitting', 'nerk', 'client', 'nerk', 'valuable', 'possess', 'control', 'control', 'dead', 'nerk', 'client', 'remain', 'coin', 'holder', 'nerk', 'unlimited', 'growth', 'blockchain', 'size', 'majority', 'single', 'possession', 'attack', 'risk', 'type', 'strategic', 'probability', 'high', 'probable', 'initial', 'stage', 'numerous', 'critical', 'node', 'control', 'developer', 'nerk', 'require', 'level', 'vulnerable', 'malevolent', 'change', 'consequence', 'threat', 'high', 'risk', 'anchor', 'popular', 'blockchains', 'regular', 'basis', 'launch', 'forge', 'peer', 'node', 'torrent', 'node', 'ensure', 'chain', 'log', 'store', 'public', 'decentralize', 'repository', 'illegitimate', 'alteration', 'easily', 'noticeable', 'developer', 'authority', 'misuse', 'launch', 'yellow', 'paper', 'risk', 'depict', 'risk', 'map', 'strategic', 'risk', 'tolerance', 'require', 'detailed', 'study', 'result', 'ineluctable', 'catastrophic', 'consequence', 'project', 'risk', 'map', 'high', 'low', 'medium', 'high', 'medium', 'low', 'risk', 'probability', 'risk', 'tolerance', 'yellow', 'paper', 'conclusion', 'project', 'start', 'early', 'team', 'conduct', 'technology', 'study', 'solution', 'project', 'goal', 'follow', 'result', 'achieve', 'optimal', 'synchronization', 'structure', 'geographically', 'distribute', 'nerk', 'design', 'capacity', 'megabyte', 'financial', 'transaction', 'include', 'validation', 'sender', 'signature', 'check', 'balance', 'availability', 'transaction', 'decentralize', 'storage', 'archive', 'data', 'stateblock', 'mechanism', 'place', 'consensus', 'implementation', 'type', 'test', 'multiple', 'verification', 'node', 'vote', 'block', 'correctness', 'generate', 'irreversible', 'transaction', 'faster', 'minimize', 'probable', 'blockchain', 'fork', 'rejection', 'branch', 'optimal', 'balance', 'model', 'benefit', 'blockchain', 'nerk', 'structure', 'chosen', 'reduce', 'size', 'store', 'transmit', 'data', 'comparison', 'average', 'performance', 'characteristic', 'blockchain', 'platform', 'add', 'capability', 'nonlinear', 'data', 'validation', 'inside', 'blockchain', 'result', 'tenfold', 'speed', 'increase', 'blockchain', 'validation', 'resolve', 'nerk', 'merge', 'split', 'access', 'restriction', 'group', 'member', 'blockage', 'seamless', 'votebased', 'software', 'update', 'mechanism', 'developed', 'avoid', 'nerk', 'hard', 'fork', 'complete', 'productiongrade', 'release', 'version', 'platform', 'prepared', 'fast', 'transaction', 'minimum', 'cost', 'reduce', 'infrastructure', 'cost', 'increase', 'capacity', 'enables', 'colossal', 'opportunity', 'blockchain', 'technology', 'realtime', 'application', 'internet', 'thing', 'paradigm', 'application', 'team', 'yellow', 'paper', 'data', 'storage', 'transaction', 'perform', 'nerk', 'data', 'store', 'project', 'focus', 'broad', 'bandwidth', 'face', 'challenge', 'data', 'storage', 'financial', 'expense', 'storage', 'transaction', 'size', 'data', 'compress', 'binary', 'form', 'costefficient', 'drive', 'terabyte', 'capacity', 'cost', 'product', 'terabyte', 'drive', 'year', 'drive', 'redundancy', 'overhead', 'cost', 'maintain', 'storage', 'include', 'replacement', 'damage', 'drive', 'year', 'data', 'storage', 'peak', 'load', 'duplication', 'cost', 'unit', 'storage', 'decentralize', 'order', 'secure', 'seed', 'data', 'nerk', 'storage', 'capacity', 'require', 'redundancy', 'cost', 'expect', 'rise', 'time', 'unit', 'price', 'ensure', 'adequate', 'number', 'node', 'backup', 'cost', 'data', 'storage', 'drive', 'peak', 'load', 'provide', 'redundancy', 'equal', 'overhead', 'total', 'storage', 'cost', 'peak', 'load', 'reserve', 'transaction', 'volume', 'estimate', 'peak', 'load', 'total', 'cover', 'data', 'storage', 'expense', 'transaction', 'year', 'transaction', 'year', 'history', 'record', 'cost', 'storage', 'transaction', 'year', 'estimate', 'average', 'peak', 'load', 'nerk', 'reach', 'high', 'cost', 'historical', 'data', 'storage', 'subject', 'fork', 'confirm', 'general', 'vote', 'create', 'block', 'reduce', 'data', 'storage', 'expense', 'hour', 'hour', 'month', 'year', 'minute', 'hour', 'hour', 'year', 'data', 'size', 'transaction', 'volume', 'transaction', 'estimate', 'peak', 'load', 'project', 'goal', 'technical', 'feature', 'test', 'methodology', 'test', 'building', 'nerk', 'test', 'bulk', 'transaction', 'verification', 'latency', 'test', 'nerk', 'failure', 'test', 'blockage', 'nerk', 'recovery', 'test', 'result', 'nerk', 'description', 'data', 'synchronization', 'subsystem', 'nerk', 'structure', 'nerk', 'topology', 'nerk', 'map', 'multiple', 'proof', 'voting', 'cryptography', 'block', 'structure', 'balance', 'model', 'transaction', 'protocol', 'feature', 'specialuse', 'address', 'nature', 'address', 'frozen', 'address', 'child', 'address', 'delegation', 'reward', 'distribution', 'strategy', 'risk', 'conclusion', 'data', 'storage']\n"
     ]
    }
   ],
   "source": [
    "# tokenizing the entire corpus by word\n",
    "def sent_to_words(sentences):\n",
    "    for sent in sentences:\n",
    "        sent = re.sub('\\S*@\\S*\\s?', '', sent)  # remove emails\n",
    "        sent = re.sub('\\s+', ' ', sent)  # remove newline chars\n",
    "        sent = re.sub(\"\\'\", \"\", sent)  # remove single quotes\n",
    "        sent = gensim.utils.simple_preprocess(str(sent), deacc=True) \n",
    "        yield(sent)  \n",
    "\n",
    "# Convert to list\n",
    "data = data_df.whitepapers.values.tolist()\n",
    "data_words = list(sent_to_words(data))\n",
    "print(data_words[0])"
   ]
  },
  {
   "cell_type": "code",
   "execution_count": 12,
   "metadata": {},
   "outputs": [],
   "source": [
    "# Build the bigram and trigram models\n",
    "bigram = gensim.models.Phrases(data_words, min_count=5, threshold=100) # higher threshold fewer phrases.\n",
    "trigram = gensim.models.Phrases(bigram[data_words], threshold=100)  \n",
    "bigram_mod = gensim.models.phrases.Phraser(bigram)\n",
    "trigram_mod = gensim.models.phrases.Phraser(trigram)\n",
    "\n",
    "# !python3 -m spacy download en  # run in terminal once\n",
    "def process_words(texts, stop_words=stop_words, allowed_postags=['NOUN', 'ADJ', 'VERB', 'ADV']):\n",
    "    \"\"\"Remove Stopwords, Form Bigrams, Trigrams and Lemmatization\"\"\"\n",
    "    texts = [[word for word in simple_preprocess(str(doc)) if word not in stop_words] for doc in texts]\n",
    "    texts = [bigram_mod[doc] for doc in texts]\n",
    "    texts = [trigram_mod[bigram_mod[doc]] for doc in texts]\n",
    "    texts_out = []\n",
    "    #nlp = spacy.load('en', disable=['parser', 'ner'])\n",
    "    nlp = spacy.load('en_core_web_sm', disable=['parser', 'ner'])\n",
    "    for sent in texts:\n",
    "        doc = nlp(\" \".join(sent)) \n",
    "        texts_out.append([token.lemma_ for token in doc if token.pos_ in allowed_postags])\n",
    "    # remove stopwords once more after lemmatization\n",
    "    texts_out = [[word for word in simple_preprocess(str(doc)) if word not in stop_words] for doc in texts_out]    \n",
    "    return texts_out\n",
    "\n",
    "data_ready = process_words(data_words)  # processed Text Data!"
   ]
  },
  {
   "cell_type": "markdown",
   "metadata": {},
   "source": [
    "## 3 - Topic Modeling on Blockchain Whitepapers"
   ]
  },
  {
   "cell_type": "markdown",
   "metadata": {},
   "source": [
    "At the document level, a useful ways to understand the text is by analysing its topics. Topic Modelling is the process of learning, recognising and extracting the topics across a collection of documents. This notebook tries to uncover topics from blockchain whitepapers that is relevant to Schungrat in-terms of investment dimensions.\n",
    "\n",
    "The notebook explores some of the methods of Topic Modelling such as ***Non-negative Matrix Factorization*** & ***Latent Dirichlet Allocation*** to see which fits better. Rather than being conceptual or mathematical, this notebook offers an applied approach with comments for the codes.\n",
    "\n",
    "\n",
    "Since the goal of this notebook is Topic Modelling, the text must be tokenized which means broken down to small pieces which here is words. We use scikit-learn's CountVectorizer technique where every row represents a different document and every column will represent a different word. \n",
    "\n",
    "At this moment, stop words are also removed thanks to CountVectorizer. Stop words are common words that seldom adds meaning or value to the text. \n"
   ]
  },
  {
   "cell_type": "code",
   "execution_count": 21,
   "metadata": {},
   "outputs": [],
   "source": [
    "#importing necessary modules for LDA with gensim\n",
    "\n",
    "from gensim import matutils, models\n",
    "import scipy.sparse\n",
    "import logging\n",
    "logging.basicConfig(format='%(asctime)s : %(levelname)s : %(message)s', level = logging.INFO)"
   ]
  },
  {
   "cell_type": "code",
   "execution_count": 130,
   "metadata": {},
   "outputs": [],
   "source": [
    "#Creating corpus and dictionary for gensim\n",
    "id2word = corpora.Dictionary(data_ready)\n",
    "corpus_lda = [id2word.doc2bow(text) for text in data_ready]\n"
   ]
  },
  {
   "cell_type": "code",
   "execution_count": 29,
   "metadata": {},
   "outputs": [
    {
     "name": "stdout",
     "output_type": "stream",
     "text": [
      "absence\n"
     ]
    }
   ],
   "source": [
    "print(id2word[1])"
   ]
  },
  {
   "cell_type": "code",
   "execution_count": 144,
   "metadata": {},
   "outputs": [],
   "source": [
    "#lda with countvectorizer\n",
    "lda_gensim = gensim.models.ldamodel.LdaModel(corpus=corpus_lda,\n",
    "                                           id2word=id2word,\n",
    "                                           num_topics=6, \n",
    "                                           random_state=21,\n",
    "                                           update_every=1,\n",
    "                                           chunksize=100,\n",
    "                                           passes=20,\n",
    "                                           alpha='auto',\n",
    "                                           iterations=100,\n",
    "                                           per_word_topics=True)\n"
   ]
  },
  {
   "cell_type": "code",
   "execution_count": 71,
   "metadata": {},
   "outputs": [],
   "source": [
    "#creating a Dataframe of topics and words in it\n",
    "def get_lda_topics(model, num_topics):\n",
    "    word_dict = {};\n",
    "    for i in range(num_topics):\n",
    "        words = model.show_topic(i, topn = 10);\n",
    "        word_dict['Topic # ' + '{:02d}'.format(i+1)] = [i[0] for i in words];\n",
    "    return pd.DataFrame(word_dict);"
   ]
  },
  {
   "cell_type": "code",
   "execution_count": 73,
   "metadata": {},
   "outputs": [
    {
     "data": {
      "text/html": [
       "<div>\n",
       "<style scoped>\n",
       "    .dataframe tbody tr th:only-of-type {\n",
       "        vertical-align: middle;\n",
       "    }\n",
       "\n",
       "    .dataframe tbody tr th {\n",
       "        vertical-align: top;\n",
       "    }\n",
       "\n",
       "    .dataframe thead th {\n",
       "        text-align: right;\n",
       "    }\n",
       "</style>\n",
       "<table border=\"1\" class=\"dataframe\">\n",
       "  <thead>\n",
       "    <tr style=\"text-align: right;\">\n",
       "      <th></th>\n",
       "      <th>Topic # 01</th>\n",
       "      <th>Topic # 02</th>\n",
       "      <th>Topic # 03</th>\n",
       "      <th>Topic # 04</th>\n",
       "      <th>Topic # 05</th>\n",
       "      <th>Topic # 06</th>\n",
       "    </tr>\n",
       "  </thead>\n",
       "  <tbody>\n",
       "    <tr>\n",
       "      <th>0</th>\n",
       "      <td>token</td>\n",
       "      <td>user</td>\n",
       "      <td>blockchain</td>\n",
       "      <td>datum</td>\n",
       "      <td>transaction</td>\n",
       "      <td>node</td>\n",
       "    </tr>\n",
       "    <tr>\n",
       "      <th>1</th>\n",
       "      <td>user</td>\n",
       "      <td>unit</td>\n",
       "      <td>nerk</td>\n",
       "      <td>service</td>\n",
       "      <td>node</td>\n",
       "      <td>key</td>\n",
       "    </tr>\n",
       "    <tr>\n",
       "      <th>2</th>\n",
       "      <td>platform</td>\n",
       "      <td>asset</td>\n",
       "      <td>node</td>\n",
       "      <td>application</td>\n",
       "      <td>block</td>\n",
       "      <td>transaction</td>\n",
       "    </tr>\n",
       "    <tr>\n",
       "      <th>3</th>\n",
       "      <td>blockchain</td>\n",
       "      <td>token</td>\n",
       "      <td>token</td>\n",
       "      <td>oracle</td>\n",
       "      <td>nerk</td>\n",
       "      <td>block</td>\n",
       "    </tr>\n",
       "    <tr>\n",
       "      <th>4</th>\n",
       "      <td>nerk</td>\n",
       "      <td>blockchain</td>\n",
       "      <td>transaction</td>\n",
       "      <td>technology</td>\n",
       "      <td>account</td>\n",
       "      <td>bit</td>\n",
       "    </tr>\n",
       "    <tr>\n",
       "      <th>5</th>\n",
       "      <td>market</td>\n",
       "      <td>address</td>\n",
       "      <td>state</td>\n",
       "      <td>compute</td>\n",
       "      <td>time</td>\n",
       "      <td>hash</td>\n",
       "    </tr>\n",
       "    <tr>\n",
       "      <th>6</th>\n",
       "      <td>provide</td>\n",
       "      <td>chain</td>\n",
       "      <td>user</td>\n",
       "      <td>smart_contract</td>\n",
       "      <td>blockchain</td>\n",
       "      <td>note</td>\n",
       "    </tr>\n",
       "    <tr>\n",
       "      <th>7</th>\n",
       "      <td>service</td>\n",
       "      <td>transaction</td>\n",
       "      <td>protocol</td>\n",
       "      <td>provider</td>\n",
       "      <td>protocol</td>\n",
       "      <td>set</td>\n",
       "    </tr>\n",
       "    <tr>\n",
       "      <th>8</th>\n",
       "      <td>asset</td>\n",
       "      <td>datum</td>\n",
       "      <td>chain</td>\n",
       "      <td>development</td>\n",
       "      <td>consensus</td>\n",
       "      <td>input</td>\n",
       "    </tr>\n",
       "    <tr>\n",
       "      <th>9</th>\n",
       "      <td>transaction</td>\n",
       "      <td>review</td>\n",
       "      <td>order</td>\n",
       "      <td>trust</td>\n",
       "      <td>chain</td>\n",
       "      <td>proof</td>\n",
       "    </tr>\n",
       "  </tbody>\n",
       "</table>\n",
       "</div>"
      ],
      "text/plain": [
       "    Topic # 01   Topic # 02   Topic # 03      Topic # 04   Topic # 05  \\\n",
       "0        token         user   blockchain           datum  transaction   \n",
       "1         user         unit         nerk         service         node   \n",
       "2     platform        asset         node     application        block   \n",
       "3   blockchain        token        token          oracle         nerk   \n",
       "4         nerk   blockchain  transaction      technology      account   \n",
       "5       market      address        state         compute         time   \n",
       "6      provide        chain         user  smart_contract   blockchain   \n",
       "7      service  transaction     protocol        provider     protocol   \n",
       "8        asset        datum        chain     development    consensus   \n",
       "9  transaction       review        order           trust        chain   \n",
       "\n",
       "    Topic # 06  \n",
       "0         node  \n",
       "1          key  \n",
       "2  transaction  \n",
       "3        block  \n",
       "4          bit  \n",
       "5         hash  \n",
       "6         note  \n",
       "7          set  \n",
       "8        input  \n",
       "9        proof  "
      ]
     },
     "execution_count": 73,
     "metadata": {},
     "output_type": "execute_result"
    }
   ],
   "source": [
    "get_lda_topics(lda_gensim, 6)"
   ]
  },
  {
   "cell_type": "code",
   "execution_count": 175,
   "metadata": {},
   "outputs": [
    {
     "name": "stdout",
     "output_type": "stream",
     "text": [
      "\n",
      "Perplexity:  -7.550260320990744\n",
      "\n",
      "Coherence Score:  0.38675269508721805\n"
     ]
    }
   ],
   "source": [
    "# Compute Perplexity\n",
    "print('\\nPerplexity: ', lda_gensim.log_perplexity(corpus_lda))  # a measure of how good the model is. lower the better.\n",
    "\n",
    "# Compute Coherence Score\n",
    "coherence_model_lda = CoherenceModel(model=lda_gensim, texts=data_ready, dictionary=id2word, coherence='c_v')\n",
    "coherence_lda = coherence_model_lda.get_coherence()\n",
    "print('\\nCoherence Score: ', coherence_lda)"
   ]
  },
  {
   "cell_type": "markdown",
   "metadata": {},
   "source": [
    "### Word Count and Importance of Topic keyword"
   ]
  },
  {
   "cell_type": "code",
   "execution_count": 119,
   "metadata": {},
   "outputs": [
    {
     "data": {
      "image/png": "[encoded data removed]",
      "text/plain": [
       "<Figure size 800x500 with 8 Axes>"
      ]
     },
     "metadata": {
      "needs_background": "light"
     },
     "output_type": "display_data"
    }
   ],
   "source": [
    "from matplotlib import pyplot as plt\n",
    "from wordcloud import WordCloud, STOPWORDS\n",
    "import matplotlib.colors as mcolors\n",
    "from collections import Counter\n",
    "topics = lda_gensim.show_topics(formatted=False)\n",
    "data_flat = [w for w_list in corpus for w in w_list]\n",
    "counter = Counter(data_flat)\n",
    "\n",
    "out = []\n",
    "for i, topic in topics:\n",
    "    for word, weight in topic:\n",
    "        out.append([word, i , weight, counter[word]])\n",
    "\n",
    "df = pd.DataFrame(out, columns=['word', 'topic_id', 'importance', 'word_count'])        \n",
    "\n",
    "# Plot Word Count and Weights of Topic Keywords\n",
    "fig, axes = plt.subplots(2, 2, figsize=(16,10), sharey=True, dpi=50)\n",
    "cols = [color for name, color in mcolors.TABLEAU_COLORS.items()]\n",
    "for i, ax in enumerate(axes.flatten()):\n",
    "    ax.bar(x='word', height=\"word_count\", data=df.loc[df.topic_id==i, :], color=cols[i], width=0.5, alpha=0.3, label='Word Count')\n",
    "    ax_twin = ax.twinx()\n",
    "    ax_twin.bar(x='word', height=\"importance\", data=df.loc[df.topic_id==i, :], color=cols[i], width=0.2, label='Weights')\n",
    "    ax.set_ylabel('Word Count', color=cols[i])\n",
    "    ax_twin.set_ylim(0, 0.030); ax.set_ylim(0, 3500)\n",
    "    ax.set_title('Topic: ' + str(i), color=cols[i], fontsize=16)\n",
    "    ax.tick_params(axis='y', left=False)\n",
    "    ax.set_xticklabels(df.loc[df.topic_id==i, 'word'], rotation=30, horizontalalignment= 'right')\n",
    "    ax.legend(loc='upper left'); ax_twin.legend(loc='upper right')\n",
    "\n",
    "fig.tight_layout(w_pad=2)    \n",
    "fig.suptitle('Word Count and Importance of Topic Keywords', fontsize=22, y=1.05)    \n",
    "plt.show()"
   ]
  },
  {
   "cell_type": "markdown",
   "metadata": {},
   "source": [
    "### Dominant Topic and it's percentage contribution in the document"
   ]
  },
  {
   "cell_type": "code",
   "execution_count": 74,
   "metadata": {},
   "outputs": [
    {
     "data": {
      "text/html": [
       "<div>\n",
       "<style scoped>\n",
       "    .dataframe tbody tr th:only-of-type {\n",
       "        vertical-align: middle;\n",
       "    }\n",
       "\n",
       "    .dataframe tbody tr th {\n",
       "        vertical-align: top;\n",
       "    }\n",
       "\n",
       "    .dataframe thead th {\n",
       "        text-align: right;\n",
       "    }\n",
       "</style>\n",
       "<table border=\"1\" class=\"dataframe\">\n",
       "  <thead>\n",
       "    <tr style=\"text-align: right;\">\n",
       "      <th></th>\n",
       "      <th>Document_No</th>\n",
       "      <th>Dominant_Topic</th>\n",
       "      <th>Topic_Perc_Contrib</th>\n",
       "      <th>Keywords</th>\n",
       "      <th>Text</th>\n",
       "    </tr>\n",
       "  </thead>\n",
       "  <tbody>\n",
       "    <tr>\n",
       "      <th>0</th>\n",
       "      <td>0</td>\n",
       "      <td>4.0</td>\n",
       "      <td>0.9998</td>\n",
       "      <td>transaction, node, block, nerk, account, time,...</td>\n",
       "      <td>[yellow_paper, technical, documentation, versi...</td>\n",
       "    </tr>\n",
       "    <tr>\n",
       "      <th>1</th>\n",
       "      <td>1</td>\n",
       "      <td>2.0</td>\n",
       "      <td>0.9281</td>\n",
       "      <td>blockchain, nerk, node, token, transaction, st...</td>\n",
       "      <td>[open, protocol, decentralize, exchange, block...</td>\n",
       "    </tr>\n",
       "    <tr>\n",
       "      <th>2</th>\n",
       "      <td>2</td>\n",
       "      <td>0.0</td>\n",
       "      <td>0.9735</td>\n",
       "      <td>token, user, platform, blockchain, nerk, marke...</td>\n",
       "      <td>[concept, reference, purpose, project, summary...</td>\n",
       "    </tr>\n",
       "    <tr>\n",
       "      <th>3</th>\n",
       "      <td>3</td>\n",
       "      <td>0.0</td>\n",
       "      <td>0.3899</td>\n",
       "      <td>token, user, platform, blockchain, nerk, marke...</td>\n",
       "      <td>[white_paper, enable, decentralize, internet, ...</td>\n",
       "    </tr>\n",
       "    <tr>\n",
       "      <th>4</th>\n",
       "      <td>4</td>\n",
       "      <td>0.0</td>\n",
       "      <td>0.9472</td>\n",
       "      <td>token, user, platform, blockchain, nerk, marke...</td>\n",
       "      <td>[ultimate, currency, privacy, mission, content...</td>\n",
       "    </tr>\n",
       "    <tr>\n",
       "      <th>5</th>\n",
       "      <td>5</td>\n",
       "      <td>0.0</td>\n",
       "      <td>0.8637</td>\n",
       "      <td>token, user, platform, blockchain, nerk, marke...</td>\n",
       "      <td>[jeluridawpicov, content, history, testimonial...</td>\n",
       "    </tr>\n",
       "    <tr>\n",
       "      <th>6</th>\n",
       "      <td>6</td>\n",
       "      <td>2.0</td>\n",
       "      <td>0.9170</td>\n",
       "      <td>blockchain, nerk, node, token, transaction, st...</td>\n",
       "      <td>[ecosystem, empower, aim, technical, backgroun...</td>\n",
       "    </tr>\n",
       "    <tr>\n",
       "      <th>7</th>\n",
       "      <td>7</td>\n",
       "      <td>1.0</td>\n",
       "      <td>0.9789</td>\n",
       "      <td>user, unit, asset, token, blockchain, address,...</td>\n",
       "      <td>[basic, attention, oftware, digital, advertisi...</td>\n",
       "    </tr>\n",
       "    <tr>\n",
       "      <th>8</th>\n",
       "      <td>8</td>\n",
       "      <td>4.0</td>\n",
       "      <td>0.6736</td>\n",
       "      <td>transaction, node, block, nerk, account, time,...</td>\n",
       "      <td>[distribute, payment, base, credit, payment, g...</td>\n",
       "    </tr>\n",
       "    <tr>\n",
       "      <th>9</th>\n",
       "      <td>9</td>\n",
       "      <td>0.0</td>\n",
       "      <td>0.7929</td>\n",
       "      <td>token, user, platform, blockchain, nerk, marke...</td>\n",
       "      <td>[exchange, intro, problem, exchange, match, en...</td>\n",
       "    </tr>\n",
       "  </tbody>\n",
       "</table>\n",
       "</div>"
      ],
      "text/plain": [
       "   Document_No  Dominant_Topic  Topic_Perc_Contrib  \\\n",
       "0            0             4.0              0.9998   \n",
       "1            1             2.0              0.9281   \n",
       "2            2             0.0              0.9735   \n",
       "3            3             0.0              0.3899   \n",
       "4            4             0.0              0.9472   \n",
       "5            5             0.0              0.8637   \n",
       "6            6             2.0              0.9170   \n",
       "7            7             1.0              0.9789   \n",
       "8            8             4.0              0.6736   \n",
       "9            9             0.0              0.7929   \n",
       "\n",
       "                                            Keywords  \\\n",
       "0  transaction, node, block, nerk, account, time,...   \n",
       "1  blockchain, nerk, node, token, transaction, st...   \n",
       "2  token, user, platform, blockchain, nerk, marke...   \n",
       "3  token, user, platform, blockchain, nerk, marke...   \n",
       "4  token, user, platform, blockchain, nerk, marke...   \n",
       "5  token, user, platform, blockchain, nerk, marke...   \n",
       "6  blockchain, nerk, node, token, transaction, st...   \n",
       "7  user, unit, asset, token, blockchain, address,...   \n",
       "8  transaction, node, block, nerk, account, time,...   \n",
       "9  token, user, platform, blockchain, nerk, marke...   \n",
       "\n",
       "                                                Text  \n",
       "0  [yellow_paper, technical, documentation, versi...  \n",
       "1  [open, protocol, decentralize, exchange, block...  \n",
       "2  [concept, reference, purpose, project, summary...  \n",
       "3  [white_paper, enable, decentralize, internet, ...  \n",
       "4  [ultimate, currency, privacy, mission, content...  \n",
       "5  [jeluridawpicov, content, history, testimonial...  \n",
       "6  [ecosystem, empower, aim, technical, backgroun...  \n",
       "7  [basic, attention, oftware, digital, advertisi...  \n",
       "8  [distribute, payment, base, credit, payment, g...  \n",
       "9  [exchange, intro, problem, exchange, match, en...  "
      ]
     },
     "execution_count": 74,
     "metadata": {},
     "output_type": "execute_result"
    }
   ],
   "source": [
    "def format_topics_sentences(ldamodel=None, corpus=corpus_lda, texts=data):\n",
    "    # Init output\n",
    "    sent_topics_df = pd.DataFrame()\n",
    "\n",
    "    # Get main topic in each document\n",
    "    for i, row_list in enumerate(ldamodel[corpus]):\n",
    "        row = row_list[0] if ldamodel.per_word_topics else row_list            \n",
    "        # print(row)\n",
    "        row = sorted(row, key=lambda x: (x[1]), reverse=True)\n",
    "        # Get the Dominant topic, Perc Contribution and Keywords for each document\n",
    "        for j, (topic_num, prop_topic) in enumerate(row):\n",
    "            if j == 0:  # => dominant topic\n",
    "                wp = ldamodel.show_topic(topic_num)\n",
    "                topic_keywords = \", \".join([word for word, prop in wp])\n",
    "                sent_topics_df = sent_topics_df.append(pd.Series([int(topic_num), round(prop_topic,4), topic_keywords]), ignore_index=True)\n",
    "            else:\n",
    "                break\n",
    "    sent_topics_df.columns = ['Dominant_Topic', 'Perc_Contribution', 'Topic_Keywords']\n",
    "\n",
    "    # Add original text to the end of the output\n",
    "    contents = pd.Series(texts)\n",
    "    sent_topics_df = pd.concat([sent_topics_df, contents], axis=1)\n",
    "    return(sent_topics_df)\n",
    "\n",
    "\n",
    "df_topic_sents_keywords = format_topics_sentences(ldamodel=lda_gensim, corpus=corpus, texts=data_ready)\n",
    "\n",
    "# Format\n",
    "df_dominant_topic = df_topic_sents_keywords.reset_index()\n",
    "df_dominant_topic.columns = ['Document_No', 'Dominant_Topic', 'Topic_Perc_Contrib', 'Keywords', 'Text']\n",
    "df_dominant_topic.head(10)"
   ]
  },
  {
   "cell_type": "markdown",
   "metadata": {},
   "source": [
    "### Most Discussed Topics in the Document"
   ]
  },
  {
   "cell_type": "code",
   "execution_count": 75,
   "metadata": {},
   "outputs": [],
   "source": [
    "# Helper Functions and dataframes\n",
    "def topics_per_document(model, corpus, start=0, end=1):\n",
    "    corpus_sel = corpus[start:end]\n",
    "    dominant_topics = []\n",
    "    topic_percentages = []\n",
    "    for i, corp in enumerate(corpus_sel):\n",
    "        topic_percs, wordid_topics, wordid_phivalues = model[corp]\n",
    "        dominant_topic = sorted(topic_percs, key = lambda x: x[1], reverse=True)[0][0]\n",
    "        dominant_topics.append((i, dominant_topic))\n",
    "        topic_percentages.append(topic_percs)\n",
    "    return(dominant_topics, topic_percentages)\n",
    "\n",
    "dominant_topics, topic_percentages = topics_per_document(model=lda_gensim, corpus=corpus_lda, end=-1)            \n",
    "\n",
    "# Distribution of Dominant Topics in Each Document\n",
    "df = pd.DataFrame(dominant_topics, columns=['Document_Id', 'Dominant_Topic'])\n",
    "dominant_topic_in_each_doc = df.groupby('Dominant_Topic').size()\n",
    "df_dominant_topic_in_each_doc = dominant_topic_in_each_doc.to_frame(name='count').reset_index()\n",
    "\n",
    "# Total Topic Distribution by actual weight\n",
    "topic_weightage_by_doc = pd.DataFrame([dict(t) for t in topic_percentages])\n",
    "df_topic_weightage_by_doc = topic_weightage_by_doc.sum().to_frame(name='count').reset_index()\n",
    "\n",
    "# Top 3 Keywords for each Topic\n",
    "topic_top3words = [(i, topic) for i, topics in lda_gensim.show_topics(formatted=False) \n",
    "                                 for j, (topic, wt) in enumerate(topics) if j < 3]\n",
    "\n",
    "df_top3words_stacked = pd.DataFrame(topic_top3words, columns=['topic_id', 'words'])\n",
    "df_top3words = df_top3words_stacked.groupby('topic_id').agg(', \\n'.join)\n",
    "df_top3words.reset_index(level=0,inplace=True)"
   ]
  },
  {
   "cell_type": "code",
   "execution_count": 78,
   "metadata": {},
   "outputs": [
    {
     "data": {
      "image/png": "[encoded data removed]",
      "text/plain": [
       "<Figure size 2250x900 with 2 Axes>"
      ]
     },
     "metadata": {
      "needs_background": "light"
     },
     "output_type": "display_data"
    }
   ],
   "source": [
    "from matplotlib.ticker import FuncFormatter\n",
    "\n",
    "# Plot\n",
    "fig, (ax1, ax2) = plt.subplots(1, 2, figsize=(15, 6), dpi=150, sharey=True)\n",
    "\n",
    "# Topic Distribution by Dominant Topics\n",
    "ax1.bar(x='Dominant_Topic', height='count', data=df_dominant_topic_in_each_doc, width=.5, color='firebrick')\n",
    "ax1.set_xticks(range(df_dominant_topic_in_each_doc.Dominant_Topic.unique().__len__()))\n",
    "tick_formatter = FuncFormatter(lambda x, pos: 'Topic ' + str(x)+ '\\n' + df_top3words.loc[df_top3words.topic_id==x, 'words'].values[0])\n",
    "ax1.xaxis.set_major_formatter(tick_formatter)\n",
    "ax1.set_title('Number of Documents by Dominant Topic', fontdict=dict(size=10))\n",
    "ax1.set_ylabel('Number of Documents')\n",
    "ax1.set_ylim(0, 50)\n",
    "\n",
    "# Topic Distribution by Topic Weights\n",
    "ax2.bar(x='index', height='count', data=df_topic_weightage_by_doc, width=.5, color='steelblue')\n",
    "ax2.set_xticks(range(df_topic_weightage_by_doc.index.unique().__len__()))\n",
    "ax2.xaxis.set_major_formatter(tick_formatter)\n",
    "ax2.set_title('Number of Documents by Topic Weightage', fontdict=dict(size=10))\n",
    "\n",
    "plt.show()"
   ]
  },
  {
   "cell_type": "code",
   "execution_count": 79,
   "metadata": {},
   "outputs": [
    {
     "name": "stderr",
     "output_type": "stream",
     "text": [
      "C:\\Users\\sj\\AppData\\Local\\Continuum\\anaconda3\\lib\\site-packages\\pyLDAvis\\_prepare.py:257: FutureWarning: Sorting because non-concatenation axis is not aligned. A future version\n",
      "of pandas will change to not sort by default.\n",
      "\n",
      "To accept the future behavior, pass 'sort=False'.\n",
      "\n",
      "To retain the current behavior and silence the warning, pass 'sort=True'.\n",
      "\n",
      "  return pd.concat([default_term_info] + list(topic_dfs))\n"
     ]
    },
    {
     "data": {
      "text/html": [
       "\n",
       "<link rel=\"stylesheet\" type=\"text/css\" href=\"https://cdn.rawgit.com/bmabey/pyLDAvis/files/ldavis.v1.0.0.css\">\n",
       "\n",
       "\n",
       "<div id=\"ldavis_el45205851260804038820828\"></div>\n",
       "<script type=\"text/javascript\">\n",
       "\n",
       "var ldavis_el45205851260804038820828_data = {\"mdsDat\": {\"x\": [0.0941627598134126, 0.03757639924856368, -0.0672280990152749, -0.2182275575844891, 0.05689561512726748, 0.09682088241052006], \"y\": [0.015103983380167068, 0.02490221578845354, 0.08973771511962504, -0.052990583395482974, 0.011465238931740791, -0.08821856982450337], \"topics\": [1, 2, 3, 4, 5, 6], \"cluster\": [1, 1, 1, 1, 1, 1], \"Freq\": [29.14288330078125, 25.579362869262695, 18.925321578979492, 9.594109535217285, 9.534323692321777, 7.224003791809082]}, \"tinfo\": {\"Category\": [\"Default\", \"Default\", \"Default\", \"Default\", \"Default\", \"Default\", \"Default\", \"Default\", \"Default\", \"Default\", \"Default\", \"Default\", \"Default\", \"Default\", \"Default\", \"Default\", \"Default\", \"Default\", \"Default\", \"Default\", \"Default\", \"Default\", \"Default\", \"Default\", \"Default\", \"Default\", \"Default\", \"Default\", \"Default\", \"Default\", \"Topic1\", \"Topic1\", \"Topic1\", \"Topic1\", \"Topic1\", \"Topic1\", \"Topic1\", \"Topic1\", \"Topic1\", \"Topic1\", \"Topic1\", \"Topic1\", \"Topic1\", \"Topic1\", \"Topic1\", \"Topic1\", \"Topic1\", \"Topic1\", \"Topic1\", \"Topic1\", \"Topic1\", \"Topic1\", \"Topic1\", \"Topic1\", \"Topic1\", \"Topic1\", \"Topic1\", \"Topic1\", \"Topic1\", \"Topic1\", \"Topic1\", \"Topic1\", \"Topic1\", \"Topic1\", \"Topic1\", \"Topic1\", \"Topic1\", \"Topic1\", \"Topic1\", \"Topic1\", \"Topic1\", \"Topic1\", \"Topic1\", \"Topic1\", \"Topic1\", \"Topic1\", \"Topic1\", \"Topic1\", \"Topic1\", \"Topic1\", \"Topic1\", \"Topic1\", \"Topic1\", \"Topic1\", \"Topic1\", \"Topic1\", \"Topic1\", \"Topic1\", \"Topic1\", \"Topic1\", \"Topic1\", \"Topic1\", \"Topic1\", \"Topic1\", \"Topic1\", \"Topic1\", \"Topic1\", \"Topic1\", \"Topic1\", \"Topic1\", \"Topic1\", \"Topic1\", \"Topic1\", \"Topic1\", \"Topic1\", \"Topic1\", \"Topic1\", \"Topic1\", \"Topic1\", \"Topic1\", \"Topic1\", \"Topic1\", \"Topic1\", \"Topic1\", \"Topic1\", \"Topic1\", \"Topic1\", \"Topic2\", \"Topic2\", \"Topic2\", \"Topic2\", \"Topic2\", \"Topic2\", \"Topic2\", \"Topic2\", \"Topic2\", \"Topic2\", \"Topic2\", \"Topic2\", \"Topic2\", \"Topic2\", \"Topic2\", \"Topic2\", \"Topic2\", \"Topic2\", \"Topic2\", \"Topic2\", \"Topic2\", \"Topic2\", \"Topic2\", \"Topic2\", \"Topic2\", \"Topic2\", \"Topic2\", \"Topic2\", \"Topic2\", \"Topic2\", \"Topic2\", \"Topic2\", \"Topic2\", \"Topic2\", \"Topic2\", \"Topic2\", \"Topic2\", \"Topic2\", \"Topic2\", \"Topic2\", \"Topic2\", \"Topic2\", \"Topic2\", \"Topic2\", \"Topic2\", \"Topic2\", \"Topic2\", \"Topic2\", \"Topic2\", \"Topic2\", \"Topic2\", \"Topic2\", \"Topic2\", \"Topic2\", \"Topic2\", \"Topic2\", \"Topic2\", \"Topic2\", \"Topic2\", \"Topic2\", \"Topic2\", \"Topic2\", \"Topic2\", \"Topic2\", \"Topic2\", \"Topic2\", \"Topic2\", \"Topic2\", \"Topic2\", \"Topic2\", \"Topic2\", \"Topic2\", \"Topic2\", \"Topic2\", \"Topic3\", \"Topic3\", \"Topic3\", \"Topic3\", \"Topic3\", \"Topic3\", \"Topic3\", \"Topic3\", \"Topic3\", \"Topic3\", \"Topic3\", \"Topic3\", \"Topic3\", \"Topic3\", \"Topic3\", \"Topic3\", \"Topic3\", \"Topic3\", \"Topic3\", \"Topic3\", \"Topic3\", \"Topic3\", \"Topic3\", \"Topic3\", \"Topic3\", \"Topic3\", \"Topic3\", \"Topic3\", \"Topic3\", \"Topic3\", \"Topic3\", \"Topic3\", \"Topic3\", \"Topic3\", \"Topic3\", \"Topic3\", \"Topic3\", \"Topic3\", \"Topic3\", \"Topic3\", \"Topic3\", \"Topic3\", \"Topic3\", \"Topic3\", \"Topic3\", \"Topic3\", \"Topic3\", \"Topic3\", \"Topic3\", \"Topic3\", \"Topic3\", \"Topic3\", \"Topic3\", \"Topic3\", \"Topic3\", \"Topic3\", \"Topic3\", \"Topic3\", \"Topic3\", \"Topic3\", \"Topic3\", \"Topic3\", \"Topic3\", \"Topic3\", \"Topic3\", \"Topic3\", \"Topic3\", \"Topic3\", \"Topic3\", \"Topic3\", \"Topic3\", \"Topic3\", \"Topic3\", \"Topic3\", \"Topic3\", \"Topic3\", \"Topic3\", \"Topic3\", \"Topic3\", \"Topic3\", \"Topic3\", \"Topic3\", \"Topic3\", \"Topic3\", \"Topic3\", \"Topic3\", \"Topic4\", \"Topic4\", \"Topic4\", \"Topic4\", \"Topic4\", \"Topic4\", \"Topic4\", \"Topic4\", \"Topic4\", \"Topic4\", \"Topic4\", \"Topic4\", \"Topic4\", \"Topic4\", \"Topic4\", \"Topic4\", \"Topic4\", \"Topic4\", \"Topic4\", \"Topic4\", \"Topic4\", \"Topic4\", \"Topic4\", \"Topic4\", \"Topic4\", \"Topic4\", \"Topic4\", \"Topic4\", \"Topic4\", \"Topic4\", \"Topic4\", \"Topic4\", \"Topic4\", \"Topic4\", \"Topic4\", \"Topic4\", \"Topic4\", \"Topic4\", \"Topic4\", \"Topic4\", \"Topic4\", \"Topic4\", \"Topic4\", \"Topic4\", \"Topic4\", \"Topic4\", \"Topic4\", \"Topic4\", \"Topic4\", \"Topic4\", \"Topic4\", \"Topic4\", \"Topic4\", \"Topic4\", \"Topic4\", \"Topic4\", \"Topic4\", \"Topic4\", \"Topic4\", \"Topic4\", \"Topic4\", \"Topic4\", \"Topic4\", \"Topic4\", \"Topic4\", \"Topic4\", \"Topic4\", \"Topic4\", \"Topic4\", \"Topic4\", \"Topic4\", \"Topic4\", \"Topic4\", \"Topic5\", \"Topic5\", \"Topic5\", \"Topic5\", \"Topic5\", \"Topic5\", \"Topic5\", \"Topic5\", \"Topic5\", \"Topic5\", \"Topic5\", \"Topic5\", \"Topic5\", \"Topic5\", \"Topic5\", \"Topic5\", \"Topic5\", \"Topic5\", \"Topic5\", \"Topic5\", \"Topic5\", \"Topic5\", \"Topic5\", \"Topic5\", \"Topic5\", \"Topic5\", \"Topic5\", \"Topic5\", \"Topic5\", \"Topic5\", \"Topic5\", \"Topic5\", \"Topic5\", \"Topic5\", \"Topic5\", \"Topic5\", \"Topic5\", \"Topic5\", \"Topic5\", \"Topic5\", \"Topic5\", \"Topic5\", \"Topic5\", \"Topic5\", \"Topic5\", \"Topic5\", \"Topic5\", \"Topic5\", \"Topic5\", \"Topic5\", \"Topic5\", \"Topic5\", \"Topic5\", \"Topic5\", \"Topic5\", \"Topic5\", \"Topic5\", \"Topic5\", \"Topic5\", \"Topic5\", \"Topic5\", \"Topic5\", \"Topic5\", \"Topic5\", \"Topic5\", \"Topic5\", \"Topic5\", \"Topic5\", \"Topic5\", \"Topic5\", \"Topic5\", \"Topic5\", \"Topic5\", \"Topic5\", \"Topic5\", \"Topic5\", \"Topic5\", \"Topic5\", \"Topic5\", \"Topic6\", \"Topic6\", \"Topic6\", \"Topic6\", \"Topic6\", \"Topic6\", \"Topic6\", \"Topic6\", \"Topic6\", \"Topic6\", \"Topic6\", \"Topic6\", \"Topic6\", \"Topic6\", \"Topic6\", \"Topic6\", \"Topic6\", \"Topic6\", \"Topic6\", \"Topic6\", \"Topic6\", \"Topic6\", \"Topic6\", \"Topic6\", \"Topic6\", \"Topic6\", \"Topic6\", \"Topic6\", \"Topic6\", \"Topic6\", \"Topic6\", \"Topic6\", \"Topic6\", \"Topic6\", \"Topic6\", \"Topic6\", \"Topic6\", \"Topic6\", \"Topic6\", \"Topic6\", \"Topic6\", \"Topic6\", \"Topic6\", \"Topic6\", \"Topic6\", \"Topic6\", \"Topic6\", \"Topic6\", \"Topic6\", \"Topic6\", \"Topic6\", \"Topic6\", \"Topic6\", \"Topic6\", \"Topic6\", \"Topic6\", \"Topic6\", \"Topic6\", \"Topic6\", \"Topic6\", \"Topic6\", \"Topic6\", \"Topic6\", \"Topic6\", \"Topic6\", \"Topic6\", \"Topic6\", \"Topic6\", \"Topic6\", \"Topic6\", \"Topic6\", \"Topic6\", \"Topic6\", \"Topic6\", \"Topic6\", \"Topic6\", \"Topic6\"], \"Freq\": [2777.0, 3724.0, 1803.0, 4137.0, 1462.0, 2744.0, 512.0, 1616.0, 1518.0, 1260.0, 1342.0, 957.0, 359.0, 872.0, 1155.0, 842.0, 421.0, 1141.0, 533.0, 968.0, 287.0, 492.0, 1125.0, 665.0, 1278.0, 423.0, 2888.0, 1645.0, 1643.0, 700.0, 213.88662719726562, 189.25384521484375, 148.75782775878906, 44.4092903137207, 48.240989685058594, 35.60698699951172, 37.5230598449707, 34.58345031738281, 38.33940505981445, 61.37863540649414, 29.695308685302734, 29.633045196533203, 25.758907318115234, 25.750619888305664, 50.53642654418945, 21.798206329345703, 20.833358764648438, 20.82960319519043, 66.14400482177734, 18.8635196685791, 38.662017822265625, 18.864112854003906, 17.879926681518555, 76.14684295654297, 16.894804000854492, 15.908590316772461, 15.908035278320312, 15.910393714904785, 15.90988540649414, 15.909578323364258, 145.61343383789062, 26.150177001953125, 17.75397300720215, 18.65506935119629, 35.60324478149414, 24.900279998779297, 149.19752502441406, 106.17088317871094, 286.94256591796875, 41.0410270690918, 285.9932861328125, 204.26055908203125, 213.40866088867188, 75.27595520019531, 729.5031127929688, 972.1820678710938, 187.74671936035156, 203.2238006591797, 375.59588623046875, 1425.45849609375, 121.90250396728516, 214.7910614013672, 356.67193603515625, 387.89898681640625, 183.44248962402344, 325.73736572265625, 134.1920623779297, 395.1966552734375, 338.1078796386719, 264.2725524902344, 253.39584350585938, 1081.231201171875, 252.95611572265625, 678.8216552734375, 626.57373046875, 680.06689453125, 334.0131530761719, 401.73626708984375, 538.4241943359375, 898.041748046875, 392.7502136230469, 289.4801940917969, 469.8855285644531, 835.9817504882812, 343.5682678222656, 322.51348876953125, 397.27203369140625, 320.92156982421875, 409.02447509765625, 406.3128356933594, 402.82763671875, 432.04669189453125, 354.39312744140625, 547.2966918945312, 403.0093078613281, 367.10089111328125, 334.6949157714844, 159.1067352294922, 111.21939849853516, 68.05149841308594, 59.49250411987305, 118.8643569946289, 48.9787483215332, 48.02100372314453, 46.10762405395508, 44.19136047363281, 35.57108688354492, 35.5308837890625, 31.74625587463379, 30.783666610717773, 30.785993576049805, 28.871761322021484, 28.86931800842285, 26.956541061401367, 24.081256866455078, 22.163066864013672, 21.213674545288086, 21.20988655090332, 20.254770278930664, 20.250782012939453, 17.377208709716797, 15.466455459594727, 14.505502700805664, 14.503600120544434, 13.554239273071289, 13.552602767944336, 13.55196762084961, 29.68412208557129, 27.264820098876953, 22.162303924560547, 46.677799224853516, 111.52902221679688, 383.7786560058594, 51.23630142211914, 91.46025085449219, 668.851806640625, 382.3880920410156, 73.57814025878906, 136.0992431640625, 292.1365051269531, 87.62120819091797, 83.40904998779297, 1268.4700927734375, 317.3811950683594, 527.29248046875, 553.5006103515625, 1247.1781005859375, 982.0994873046875, 171.4652862548828, 418.9151611328125, 573.3762817382812, 390.36322021484375, 478.1439208984375, 420.6265869140625, 1053.7247314453125, 579.9674682617188, 492.4615173339844, 520.64990234375, 529.3800659179688, 450.0052795410156, 949.4984130859375, 530.7657470703125, 401.92327880859375, 409.90850830078125, 624.3118896484375, 293.7887878417969, 360.92730712890625, 360.1263122558594, 375.01800537109375, 387.65667724609375, 336.0127258300781, 54.80412673950195, 47.88392639160156, 27.94511604309082, 22.026826858520508, 21.032499313354492, 50.67093276977539, 79.1521224975586, 18.056198120117188, 18.02427864074707, 16.067049026489258, 28.12657356262207, 14.046278953552246, 13.084364891052246, 13.08265209197998, 12.08944320678711, 12.088542938232422, 12.087920188903809, 11.095720291137695, 11.0947904586792, 11.091155052185059, 11.089505195617676, 11.0792236328125, 12.001992225646973, 11.074433326721191, 11.069742202758789, 11.06701946258545, 10.101228713989258, 10.100351333618164, 10.095197677612305, 10.085278511047363, 43.81874465942383, 23.828350067138672, 19.956918716430664, 26.09694480895996, 206.51821899414062, 206.07989501953125, 38.90657424926758, 119.94750213623047, 23.3424072265625, 64.96935272216797, 59.31633758544922, 1860.610107421875, 46.713294982910156, 26.005290985107422, 125.36356353759766, 127.03176879882812, 701.1670532226562, 132.69796752929688, 1870.8946533203125, 2029.2381591796875, 136.6470184326172, 171.2563934326172, 102.9625473022461, 263.8106689453125, 108.7537841796875, 459.9102783203125, 575.926513671875, 179.729248046875, 80.14212799072266, 99.17823028564453, 1135.3609619140625, 300.9092712402344, 600.6937255859375, 576.853515625, 407.4603271484375, 277.6425476074219, 480.99139404296875, 151.21774291992188, 214.5096893310547, 278.111083984375, 379.6523742675781, 198.2962188720703, 344.66571044921875, 579.81689453125, 278.5353088378906, 292.112548828125, 334.5030822753906, 295.6421203613281, 286.7355041503906, 348.3486633300781, 245.34304809570312, 235.59097290039062, 270.99810791015625, 235.2878875732422, 228.13880920410156, 233.26742553710938, 83.49239349365234, 79.91140747070312, 72.73158264160156, 51.22649002075195, 112.1989974975586, 49.44121170043945, 44.06584930419922, 41.37406921386719, 40.47837829589844, 39.579803466796875, 38.68505096435547, 35.1003303527832, 35.09770965576172, 59.63985061645508, 34.203216552734375, 32.40941619873047, 31.52553367614746, 30.616788864135742, 29.722013473510742, 28.82581901550293, 27.930150985717773, 27.929658889770508, 26.13670539855957, 26.136268615722656, 25.240175247192383, 24.354110717773438, 24.344467163085938, 26.043394088745117, 23.4476318359375, 22.5607967376709, 110.38357543945312, 103.25516510009766, 54.81364059448242, 157.62606811523438, 97.31282043457031, 36.89213943481445, 264.4277648925781, 63.7803955078125, 117.47032165527344, 117.97335815429688, 101.78298950195312, 91.54999542236328, 218.76126098632812, 541.3927001953125, 118.26899719238281, 238.00601196289062, 134.04783630371094, 190.0120849609375, 133.46835327148438, 128.12075805664062, 152.87258911132812, 108.22178649902344, 212.52865600585938, 260.31707763671875, 542.11376953125, 196.81504821777344, 158.5405731201172, 134.5362091064453, 138.3619842529297, 231.24362182617188, 379.2326354980469, 321.1782531738281, 189.72921752929688, 203.2460174560547, 158.177490234375, 186.54302978515625, 210.7648162841797, 150.98233032226562, 168.45591735839844, 143.13607788085938, 132.59210205078125, 128.85342407226562, 129.91233825683594, 70.914794921875, 41.90530014038086, 38.27372360229492, 36.45905303955078, 35.48748016357422, 23.74976348876953, 20.11874771118164, 20.117778778076172, 17.395315170288086, 17.387773513793945, 15.578734397888184, 16.34739112854004, 12.832235336303711, 11.942784309387207, 11.039712905883789, 11.039941787719727, 10.132469177246094, 16.00696563720703, 9.224907875061035, 9.22468090057373, 9.224324226379395, 9.21984577178955, 20.068971633911133, 8.316963195800781, 8.314728736877441, 7.409176826477051, 7.408403396606445, 7.40899658203125, 7.408276081085205, 7.408792972564697, 113.64273834228516, 20.08116340637207, 18.39680290222168, 41.882869720458984, 56.99020767211914, 362.3208312988281, 22.93653678894043, 190.84800720214844, 110.3472671508789, 31.980741500854492, 110.50626373291016, 139.5170440673828, 57.21726608276367, 59.21690368652344, 34.151756286621094, 42.32030487060547, 566.295654296875, 37.222206115722656, 73.05321502685547, 317.426025390625, 62.27200698852539, 49.69322967529297, 30.748167037963867, 172.29920959472656, 97.36659240722656, 212.92201232910156, 76.7464370727539, 115.75285339355469, 153.12266540527344, 190.5167236328125, 189.8828582763672, 104.82560729980469, 195.9104766845703, 168.45945739746094, 194.93800354003906, 166.7529754638672, 224.61233520507812, 222.62574768066406, 139.11920166015625, 160.69906616210938, 195.5300750732422, 145.49874877929688, 108.02457427978516, 123.3326416015625, 99.48237609863281, 105.23490142822266, 115.8149642944336, 122.10111999511719, 126.436279296875, 45.24735641479492, 19.989835739135742, 19.986572265625, 118.15216827392578, 18.182008743286133, 14.575092315673828, 11.86790943145752, 26.227216720581055, 10.968153953552246, 10.967703819274902, 10.967511177062988, 10.068205833435059, 10.066737174987793, 10.066231727600098, 10.065927505493164, 9.163877487182617, 20.845483779907227, 7.361403465270996, 7.358906269073486, 14.572999000549316, 6.459201335906982, 6.459110260009766, 6.459012031555176, 6.458608150482178, 6.458491325378418, 6.453282356262207, 11.13510513305664, 5.558155536651611, 5.557579517364502, 5.55733585357666, 202.69378662109375, 10.026750564575195, 12.70123291015625, 9.124659538269043, 79.16117095947266, 16.970996856689453, 47.27600860595703, 12.76028060913086, 40.12540054321289, 547.1814575195312, 168.0347137451172, 66.16935729980469, 26.013254165649414, 184.69039916992188, 27.12944984436035, 52.94361877441406, 61.90974807739258, 127.22119140625, 163.4152069091797, 132.6479949951172, 87.92642974853516, 114.33706665039062, 227.7789306640625, 102.6645736694336, 167.53285217285156, 242.98236083984375, 172.7499237060547, 194.7176055908203, 153.45216369628906, 147.30775451660156, 80.9221420288086, 114.33934783935547, 59.83379364013672, 80.96019744873047, 84.36293029785156, 142.8457489013672, 116.21350860595703, 97.13040161132812, 144.54486083984375, 103.92291259765625, 134.2167510986328, 93.19204711914062, 86.25826263427734, 93.7027359008789, 90.5523910522461, 91.95164489746094, 86.29006958007812], \"Term\": [\"block\", \"node\", \"datum\", \"transaction\", \"key\", \"user\", \"unit\", \"service\", \"asset\", \"technology\", \"application\", \"hash\", \"bit\", \"development\", \"account\", \"business\", \"provider\", \"market\", \"compute\", \"smart_contract\", \"oracle\", \"note\", \"address\", \"signature\", \"consensus\", \"input\", \"token\", \"protocol\", \"platform\", \"trust\", \"barterdex\", \"singularitynet\", \"child_chain\", \"presale\", \"daemon\", \"sentence\", \"gamer\", \"dialogue\", \"cognitive\", \"safecoin\", \"symbolic\", \"skin\", \"komodo\", \"buyandburn\", \"interchain\", \"linguistic\", \"dexfee\", \"impairment\", \"cosmetic\", \"atomicswap\", \"vault\", \"corpus\", \"unsupervised\", \"notary\", \"clusterer\", \"dip\", \"bobdeposit\", \"loan_limit\", \"widget\", \"grammar\", \"entrepreneur\", \"curation\", \"digix\", \"love\", \"inference\", \"robot\", \"card\", \"buyer\", \"purchase\", \"venture\", \"investment\", \"investor\", \"sale\", \"tax\", \"market\", \"platform\", \"agent\", \"legal\", \"cryptocurrency\", \"token\", \"dollar\", \"crypto\", \"team\", \"fund\", \"sell\", \"company\", \"person\", \"wallet\", \"coin\", \"customer\", \"trading\", \"user\", \"trade\", \"service\", \"asset\", \"provide\", \"price\", \"project\", \"create\", \"blockchain\", \"development\", \"feature\", \"exchange\", \"nerk\", \"community\", \"currency\", \"fee\", \"pay\", \"payment\", \"technology\", \"process\", \"time\", \"security\", \"transaction\", \"datum\", \"base\", \"include\", \"ochain\", \"nomin\", \"ticket\", \"automaton\", \"vertex\", \"havven_holder\", \"ringminer\", \"havven\", \"bridgechain\", \"ewallet\", \"loopchain\", \"andor_affiliate\", \"root_graph\", \"orderre\", \"lrx\", \"clearinghouse\", \"nomin_price\", \"width\", \"parcel\", \"dierent\", \"consumer_apps\", \"work_draft\", \"root_frame\", \"happenedbefore\", \"consumer_brand\", \"consistent_cut\", \"membrane\", \"tradeo\", \"tokenb\", \"margin_split\", \"republic\", \"federation\", \"position_paper\", \"order_book\", \"crosschain\", \"channel\", \"runtime\", \"lab\", \"state\", \"layer\", \"relay\", \"onchain\", \"infrastructure\", \"rout\", \"sidechain\", \"blockchain\", \"event\", \"decentralize\", \"order\", \"nerk\", \"token\", \"app\", \"smart_contract\", \"chain\", \"distribute\", \"exchange\", \"fee\", \"node\", \"protocol\", \"application\", \"asset\", \"service\", \"consensus\", \"transaction\", \"provide\", \"payment\", \"technology\", \"user\", \"design\", \"base\", \"create\", \"platform\", \"block\", \"time\", \"eosio_software\", \"slowchain\", \"harvest\", \"bitmap\", \"microblock\", \"tangle\", \"shard\", \"awarerank\", \"shell\", \"vested_balance\", \"byzantine\", \"parasite\", \"cosignatory\", \"fastpath\", \"seq\", \"varint\", \"multicast\", \"average_rank\", \"yell\", \"factoid\", \"ghot\", \"prev\", \"skip\", \"subtangle\", \"sha_dig\", \"load_regime\", \"outlink_matrix\", \"slow_mode\", \"infinite_loop\", \"random_walk\", \"yellow_paper\", \"gorithm\", \"constitution\", \"trc\", \"attacker\", \"hst\", \"heartbeat\", \"producer\", \"pki\", \"synchronization\", \"epoch\", \"block\", \"sha\", \"aggregator\", \"header\", \"probability\", \"account\", \"bandwidth\", \"node\", \"transaction\", \"entry\", \"fork\", \"approve\", \"attack\", \"weight\", \"hash\", \"consensus\", \"server\", \"nonce\", \"broadcast\", \"nerk\", \"signature\", \"time\", \"protocol\", \"number\", \"message\", \"chain\", \"valid\", \"storage\", \"contract\", \"process\", \"miner\", \"set\", \"blockchain\", \"algorithm\", \"require\", \"key\", \"state\", \"address\", \"datum\", \"receive\", \"public\", \"user\", \"create\", \"include\", \"provide\", \"ned\", \"mut\", \"shy\", \"rst\", \"intact\", \"nition\", \"otecommit\", \"roth\", \"pkd\", \"specication\", \"epk\", \"ignature\", \"zip\", \"note_commitment\", \"rcm\", \"ivk\", \"illbehave\", \"apk\", \"verication\", \"blaeb\", \"blaes\", \"ihah\", \"subgroup\", \"zkar\", \"hacompress\", \"vblocke\", \"ovk\", \"contactmixin\", \"normative_note\", \"befoul\", \"ne\", \"ballot\", \"specie\", \"encode\", \"ote\", \"ratify\", \"bit\", \"instantiate\", \"curve\", \"constraint\", \"quorum\", \"theorem\", \"input\", \"key\", \"commitment\", \"note\", \"guardian\", \"output\", \"description\", \"statement\", \"byte\", \"sequence\", \"proof\", \"hash\", \"node\", \"signature\", \"accept\", \"scheme\", \"check\", \"set\", \"transaction\", \"block\", \"function\", \"address\", \"point\", \"public\", \"protocol\", \"vote\", \"order\", \"change\", \"message\", \"consensus\", \"time\", \"subchain\", \"mkr\", \"ball\", \"witness_list\", \"snt\", \"plaorm\", \"transacon\", \"cdp\", \"nonserial\", \"clothing\", \"peth\", \"ure\", \"sticker\", \"decouple_mode\", \"applicaon\", \"definer\", \"attestor\", \"multicollateral\", \"payload_payload\", \"authentifier\", \"cdps\", \"oauth\", \"tether\", \"skiplist\", \"blocker\", \"subdefinition\", \"operaon\", \"nonserial_unit\", \"informaon\", \"shadow\", \"publisher\", \"eth\", \"keeper\", \"advertiser\", \"traceability\", \"unit\", \"warehouse\", \"review\", \"attention\", \"food\", \"witness\", \"parent\", \"advertising\", \"tag\", \"chip\", \"internet_the\", \"user\", \"logistic\", \"collateral\", \"asset\", \"stability\", \"debt\", \"denomination\", \"digital\", \"identity\", \"address\", \"bank\", \"product\", \"issue\", \"exchange\", \"technology\", \"supply\", \"chain\", \"base\", \"datum\", \"application\", \"token\", \"blockchain\", \"include\", \"time\", \"transaction\", \"platform\", \"pay\", \"payment\", \"store\", \"cost\", \"number\", \"service\", \"node\", \"telco\", \"tokenvet\", \"confidentiity\", \"dent\", \"parti_signature\", \"freeload\", \"worker_pool\", \"requestor\", \"extern\", \"req\", \"fog\", \"dent_wireless\", \"additionly\", \"functionity\", \"progencl\", \"decentrization\", \"roam\", \"outp\", \"devpp\", \"enclave\", \"decommitment\", \"sigska\", \"confidenti\", \"multicriteria\", \"iexec\", \"commercialize\", \"agricultural\", \"local_breakout\", \"credentis\", \"regation\", \"oracle\", \"decentrize\", \"subtask\", \"financi\", \"cloud\", \"panel\", \"package\", \"adapter\", \"crowdfunde\", \"datum\", \"provider\", \"enterprise\", \"healthcare\", \"compute\", \"equipment\", \"operator\", \"offchain\", \"data\", \"trust\", \"resource\", \"mobile\", \"management\", \"application\", \"software\", \"development\", \"service\", \"smart_contract\", \"technology\", \"business\", \"distribute\", \"source\", \"developer\", \"task\", \"industry\", \"infrastructure\", \"provide\", \"market\", \"community\", \"user\", \"security\", \"blockchain\", \"support\", \"team\", \"include\", \"base\", \"nerk\", \"token\"], \"Total\": [2777.0, 3724.0, 1803.0, 4137.0, 1462.0, 2744.0, 512.0, 1616.0, 1518.0, 1260.0, 1342.0, 957.0, 359.0, 872.0, 1155.0, 842.0, 421.0, 1141.0, 533.0, 968.0, 287.0, 492.0, 1125.0, 665.0, 1278.0, 423.0, 2888.0, 1645.0, 1643.0, 700.0, 214.72984313964844, 190.09791564941406, 150.5933074951172, 45.25786209106445, 49.18564224243164, 36.39725112915039, 38.35954666137695, 35.40749740600586, 39.32944869995117, 63.00355529785156, 30.4840087890625, 30.477346420288086, 26.542430877685547, 26.544572830200195, 52.14964294433594, 22.601314544677734, 21.615982055664062, 21.61832618713379, 68.72929382324219, 19.645437240600586, 40.2679443359375, 19.647851943969727, 18.662609100341797, 79.58119201660156, 17.677331924438477, 16.689697265625, 16.68955421447754, 16.69205665588379, 16.691709518432617, 16.692001342773438, 154.00791931152344, 27.499692916870117, 18.648029327392578, 19.621440887451172, 38.22018051147461, 26.47191619873047, 172.9027099609375, 123.46260070800781, 374.2322998046875, 46.01797103881836, 394.79620361328125, 271.9365234375, 286.49359130859375, 90.10152435302734, 1141.5504150390625, 1643.005126953125, 257.1130676269531, 285.86785888671875, 584.2767333984375, 2888.297607421875, 160.8870391845703, 317.16363525390625, 587.7073364257812, 658.5806884765625, 265.690185546875, 543.7926025390625, 183.23080444335938, 719.3761596679688, 595.1534423828125, 435.3066101074219, 413.49627685546875, 2744.240478515625, 422.9985046386719, 1616.12158203125, 1518.1710205078125, 1731.4195556640625, 639.7757568359375, 838.5018920898438, 1340.480712890625, 3110.48388671875, 872.2628784179688, 524.822509765625, 1220.134521484375, 3481.78759765625, 720.3568115234375, 653.8109741210938, 1026.7222900390625, 698.5175170898438, 1199.171142578125, 1260.70166015625, 1251.06005859375, 1729.572265625, 968.4098510742188, 4137.39599609375, 1803.20703125, 1211.972412109375, 1141.2811279296875, 159.91348266601562, 112.02599334716797, 68.90428924560547, 60.30892562866211, 120.58554077148438, 49.77307891845703, 48.81572341918945, 46.899967193603516, 44.98435974121094, 36.3648796081543, 36.366329193115234, 32.534610748291016, 31.57233238220215, 31.576499938964844, 29.661115646362305, 29.660964965820312, 27.745153427124023, 24.86834144592285, 22.953393936157227, 21.999420166015625, 21.999235153198242, 21.041284561157227, 21.037193298339844, 18.163911819458008, 16.2528076171875, 15.29068374633789, 15.291464805603027, 14.337467193603516, 14.337156295776367, 14.337285041809082, 31.59410285949707, 29.684040069580078, 23.94077491760254, 52.449520111083984, 136.7971649169922, 548.8243408203125, 60.35065460205078, 116.12625885009766, 1144.808837890625, 630.4273071289062, 93.58035278320312, 192.76910400390625, 482.2816162109375, 117.00109100341797, 110.5795669555664, 3110.48388671875, 569.5382690429688, 1089.9473876953125, 1180.217041015625, 3481.78759765625, 2888.297607421875, 297.6846008300781, 968.6328125, 1552.5184326171875, 924.791748046875, 1220.134521484375, 1026.7222900390625, 3724.9384765625, 1645.8375244140625, 1342.6173095703125, 1518.1710205078125, 1616.12158203125, 1278.0638427734375, 4137.39599609375, 1731.4195556640625, 1199.171142578125, 1260.70166015625, 2744.240478515625, 764.3397216796875, 1211.972412109375, 1340.480712890625, 1643.005126953125, 2777.471923828125, 1729.572265625, 55.62947082519531, 48.67075729370117, 28.772136688232422, 22.811723709106445, 21.815759658813477, 52.597312927246094, 82.31986999511719, 18.834522247314453, 18.82863426208496, 16.845388412475586, 29.728086471557617, 14.853271484375, 13.861736297607422, 13.861601829528809, 12.867116928100586, 12.8670654296875, 12.866992950439453, 11.872605323791504, 11.872529029846191, 11.870953559875488, 11.871068000793457, 11.864336013793945, 12.853002548217773, 11.870589256286621, 11.866694450378418, 11.869902610778809, 10.878026962280273, 10.877961158752441, 10.876496315002441, 10.876493453979492, 47.54599380493164, 25.7011775970459, 21.70876693725586, 28.699970245361328, 243.1837921142578, 244.41346740722656, 43.55846405029297, 140.9206085205078, 25.637975692749023, 76.0332260131836, 69.7283935546875, 2777.471923828125, 54.98780059814453, 29.509321212768555, 165.2132110595703, 172.83306884765625, 1155.579833984375, 184.6815643310547, 3724.9384765625, 4137.39599609375, 199.83670043945312, 262.2704772949219, 145.42935180664062, 467.70147705078125, 163.8389129638672, 957.6500244140625, 1278.0638427734375, 305.54010009765625, 113.74888610839844, 149.2584991455078, 3481.78759765625, 665.8959350585938, 1729.572265625, 1645.8375244140625, 1078.34912109375, 671.2451782226562, 1552.5184326171875, 280.8885498046875, 481.4967041015625, 723.3800048828125, 1251.06005859375, 453.1853332519531, 1213.5218505859375, 3110.48388671875, 863.7101440429688, 1042.4864501953125, 1462.157470703125, 1144.808837890625, 1125.2078857421875, 1803.20703125, 805.0866088867188, 922.6170043945312, 2744.240478515625, 1340.480712890625, 1141.2811279296875, 1731.4195556640625, 84.34503936767578, 80.75749206542969, 73.58165740966797, 52.05691146850586, 114.03013610839844, 50.26387405395508, 44.882747650146484, 42.19229507446289, 41.29533767700195, 40.398223876953125, 39.501651763916016, 35.914127349853516, 35.9140510559082, 61.05257034301758, 35.01731491088867, 33.22353744506836, 32.32640075683594, 31.429786682128906, 30.532140731811523, 29.636062622070312, 28.739194869995117, 28.73914337158203, 26.94548797607422, 26.94547462463379, 26.04857063293457, 25.15140151977539, 25.151708602905273, 26.93653678894043, 24.254871368408203, 23.357704162597656, 115.1071548461914, 107.68017578125, 60.472618103027344, 194.7489776611328, 116.4499282836914, 39.66054916381836, 359.60565185546875, 74.31915283203125, 152.28988647460938, 156.61766052246094, 145.64234924316406, 132.2794952392578, 423.9901428222656, 1462.157470703125, 191.23907470703125, 492.83349609375, 227.38397216796875, 388.31500244140625, 237.19309997558594, 233.9332733154297, 338.8177795410156, 204.81118774414062, 669.4803466796875, 957.6500244140625, 3724.9384765625, 665.8959350585938, 443.097412109375, 327.3194580078125, 359.8500061035156, 1213.5218505859375, 4137.39599609375, 2777.471923828125, 801.0517578125, 1125.2078857421875, 538.9356079101562, 922.6170043945312, 1645.8375244140625, 641.5507202148438, 1180.217041015625, 862.475341796875, 671.2451782226562, 1278.0638427734375, 1729.572265625, 71.76750183105469, 42.706485748291016, 39.074771881103516, 37.25857925415039, 36.34944152832031, 24.54507064819336, 20.912769317626953, 20.913082122802734, 18.189258575439453, 18.1898136138916, 16.372798919677734, 17.283254623413086, 13.6445951461792, 12.739096641540527, 11.832146644592285, 11.832818984985352, 10.924737930297852, 17.31881332397461, 10.016654014587402, 10.016667366027832, 10.016328811645508, 10.01478385925293, 21.885400772094727, 9.108586311340332, 9.10901165008545, 8.200493812561035, 8.199807167053223, 8.200501441955566, 8.199816703796387, 8.20042896270752, 134.88584899902344, 22.76755714416504, 20.98607063293457, 50.009857177734375, 69.90323638916016, 512.1395874023438, 27.303150177001953, 279.16015625, 160.28662109375, 40.074806213378906, 170.11126708984375, 228.0023651123047, 89.20274353027344, 98.51848602294922, 49.48197555541992, 68.37442779541016, 2744.240478515625, 57.79570770263672, 162.50119018554688, 1518.1710205078125, 132.10562133789062, 93.1114501953125, 44.727962493896484, 697.4029541015625, 296.549560546875, 1125.2078857421875, 205.51002502441406, 445.30120849609375, 733.1511840820312, 1220.134521484375, 1260.70166015625, 424.1040344238281, 1552.5184326171875, 1211.972412109375, 1803.20703125, 1342.6173095703125, 2888.297607421875, 3110.48388671875, 1141.2811279296875, 1729.572265625, 4137.39599609375, 1643.005126953125, 698.5175170898438, 1199.171142578125, 539.5589599609375, 687.1705322265625, 1078.34912109375, 1616.12158203125, 3724.9384765625, 46.054710388183594, 20.789464950561523, 20.78898811340332, 123.09053039550781, 18.98420524597168, 15.374808311462402, 12.668329238891602, 28.083656311035156, 11.765368461608887, 11.765336990356445, 11.765894889831543, 10.862635612487793, 10.863001823425293, 10.862985610961914, 10.8629789352417, 9.960619926452637, 22.661270141601562, 8.155877113342285, 8.155861854553223, 16.246883392333984, 7.253487586975098, 7.253506660461426, 7.253483772277832, 7.2539777755737305, 7.25402307510376, 7.252768516540527, 12.672725677490234, 6.350719928741455, 6.3511247634887695, 6.351120948791504, 287.3854064941406, 11.851064682006836, 15.557281494140625, 10.94870376586914, 145.7440185546875, 23.02301788330078, 79.6065673828125, 16.49220848083496, 67.62273406982422, 1803.20703125, 421.65594482421875, 131.79656982421875, 40.705291748046875, 533.655029296875, 44.520050048828125, 122.02120971679688, 155.559326171875, 453.00384521484375, 700.2481079101562, 521.7955932617188, 282.8295593261719, 433.0482177734375, 1342.6173095703125, 399.0908508300781, 872.2628784179688, 1616.12158203125, 968.6328125, 1260.70166015625, 842.6741943359375, 924.791748046875, 331.990478515625, 688.578125, 214.4073486328125, 431.30853271484375, 482.2816162109375, 1731.4195556640625, 1141.5504150390625, 720.3568115234375, 2744.240478515625, 968.4098510742188, 3110.48388671875, 814.0089111328125, 587.7073364257812, 1141.2811279296875, 1211.972412109375, 3481.78759765625, 2888.297607421875], \"loglift\": [30.0, 29.0, 28.0, 27.0, 26.0, 25.0, 24.0, 23.0, 22.0, 21.0, 20.0, 19.0, 18.0, 17.0, 16.0, 15.0, 14.0, 13.0, 12.0, 11.0, 10.0, 9.0, 8.0, 7.0, 6.0, 5.0, 4.0, 3.0, 2.0, 1.0, 1.2289999723434448, 1.2285000085830688, 1.2207000255584717, 1.2139999866485596, 1.2136000394821167, 1.2109999656677246, 1.2108999490737915, 1.2094000577926636, 1.2074999809265137, 1.2067999839782715, 1.2066999673843384, 1.2049000263214111, 1.2029999494552612, 1.2026000022888184, 1.2015000581741333, 1.1967999935150146, 1.1960999965667725, 1.1957999467849731, 1.194599986076355, 1.1922999620437622, 1.1922999620437622, 1.1922999620437622, 1.1900999546051025, 1.1887999773025513, 1.1877000331878662, 1.184999942779541, 1.184999942779541, 1.184999942779541, 1.184999942779541, 1.184999942779541, 1.176900029182434, 1.1826000213623047, 1.1837999820709229, 1.1825000047683716, 1.1619999408721924, 1.1718000173568726, 1.0855000019073486, 1.0821000337600708, 0.9674000144004822, 1.118499994277954, 0.9106000065803528, 0.9467999935150146, 0.9384999871253967, 1.0532000064849854, 0.7851999998092651, 0.7081999778747559, 0.9185000061988831, 0.891700029373169, 0.791100025177002, 0.5267999768257141, 0.9555000066757202, 0.8432000279426575, 0.7335000038146973, 0.7035999894142151, 0.862500011920929, 0.7204999923706055, 0.921500027179718, 0.6340000033378601, 0.6675000190734863, 0.7339000105857849, 0.7433000206947327, 0.30160000920295715, 0.7188000082969666, 0.36550000309944153, 0.3479999899864197, 0.2985000014305115, 0.5830000042915344, 0.49709999561309814, 0.3208000063896179, -0.009399999864399433, 0.4350000023841858, 0.6380000114440918, 0.27869999408721924, -0.19370000064373016, 0.4925999939441681, 0.5263000130653381, 0.28349998593330383, 0.4551999866962433, 0.15729999542236328, 0.1006999984383583, 0.09969999641180038, -0.15410000085830688, 0.22769999504089355, -0.789900004863739, -0.2653999924659729, 0.038600001484155655, 0.006300000008195639, 1.358299970626831, 1.3561999797821045, 1.3509000539779663, 1.3497999906539917, 1.3489999771118164, 1.3473000526428223, 1.347000002861023, 1.3463000059127808, 1.3456000089645386, 1.3413000106811523, 1.3401000499725342, 1.3388999700546265, 1.3380999565124512, 1.3380000591278076, 1.336400032043457, 1.336300015449524, 1.3344999551773071, 1.3312000036239624, 1.3282999992370605, 1.3270000219345093, 1.326799988746643, 1.3252999782562256, 1.3252999782562256, 1.319100022315979, 1.3137999773025513, 1.3107000589370728, 1.3105000257492065, 1.3071999549865723, 1.3071000576019287, 1.3071000576019287, 1.3009999990463257, 1.27839994430542, 1.2862000465393066, 1.2467999458312988, 1.1591999530792236, 1.0056999921798706, 1.1996999979019165, 1.1246000528335571, 0.8259999752044678, 0.8633999824523926, 1.1229000091552734, 1.0153000354766846, 0.8621000051498413, 1.0742000341415405, 1.0814000368118286, 0.46639999747276306, 0.7786999940872192, 0.6373000144958496, 0.6061999797821045, 0.3366999924182892, 0.2847000062465668, 0.8116999864578247, 0.5252000093460083, 0.36730000376701355, 0.5008999705314636, 0.42660000920295715, 0.47099998593330383, 0.1006999984383583, 0.3203999996185303, 0.36039999127388, 0.29319998621940613, 0.24729999899864197, 0.31949999928474426, -0.10849999636411667, 0.1809999942779541, 0.2703000009059906, 0.23989999294281006, -0.11720000207424164, 0.40720000863075256, 0.15209999680519104, 0.04910000041127205, -0.11389999836683273, -0.6057999730110168, -0.2750999927520752, 1.6497000455856323, 1.6483999490737915, 1.6354999542236328, 1.629699945449829, 1.628100037574768, 1.6274000406265259, 1.6253999471664429, 1.622499942779541, 1.621000051498413, 1.617400050163269, 1.6093000173568726, 1.6088000535964966, 1.6069999933242798, 1.6067999601364136, 1.6023000478744507, 1.6023000478744507, 1.6022000312805176, 1.597000002861023, 1.5968999862670898, 1.5966999530792236, 1.59660005569458, 1.5961999893188477, 1.5961999893188477, 1.5951999425888062, 1.5951000452041626, 1.594599962234497, 1.5906000137329102, 1.590499997138977, 1.5901000499725342, 1.5891000032424927, 1.5829999446868896, 1.5889999866485596, 1.5805000066757202, 1.569599986076355, 1.5011999607086182, 1.4940999746322632, 1.5516999959945679, 1.503499984741211, 1.5708999633789062, 1.5074000358581543, 1.5029000043869019, 1.2640000581741333, 1.5016000270843506, 1.5383000373840332, 1.388700008392334, 1.3567999601364136, 1.1650999784469604, 1.3341000080108643, 0.9760000109672546, 0.9523000121116638, 1.284600019454956, 1.2384999990463257, 1.3193000555038452, 1.0921000242233276, 1.2548999786376953, 0.9312000274658203, 0.8675000071525574, 1.1339999437332153, 1.3144999742507935, 1.2559000253677368, 0.5440999865531921, 0.8702999949455261, 0.6071000099182129, 0.6162999868392944, 0.6913999915122986, 0.7818999886512756, 0.492900013923645, 1.0454000234603882, 0.8561000227928162, 0.7088000178337097, 0.4722000062465668, 0.838100016117096, 0.4059999883174896, -0.015200000256299973, 0.5329999923706055, 0.39239999651908875, 0.18960000574588776, 0.3107999861240387, 0.29750001430511475, 0.020600000396370888, 0.4763999879360199, 0.2996000051498413, -0.6504999995231628, -0.07530000060796738, 0.05469999834895134, -0.33980000019073486, 2.333899974822998, 2.3334999084472656, 2.33240008354187, 2.327899932861328, 2.3278000354766846, 2.327500104904175, 2.325700044631958, 2.324399948120117, 2.3239998817443848, 2.3236000537872314, 2.3231000900268555, 2.3210999965667725, 2.321000099182129, 2.3206000328063965, 2.320499897003174, 2.319200038909912, 2.3189001083374023, 2.3178000450134277, 2.3171000480651855, 2.3162999153137207, 2.315500020980835, 2.3153998851776123, 2.313499927520752, 2.313499927520752, 2.3125, 2.311800003051758, 2.3113999366760254, 2.31030011177063, 2.3101999759674072, 2.309299945831299, 2.3020999431610107, 2.3020999431610107, 2.245800018310547, 2.132499933242798, 2.1644999980926514, 2.271699905395508, 2.036600112915039, 2.1910998821258545, 2.084399938583374, 2.060699939727783, 1.985700011253357, 1.9759999513626099, 1.6822999715805054, 1.3504999876022339, 1.8634999990463257, 1.6160999536514282, 1.815600037574768, 1.6292999982833862, 1.7690000534057617, 1.7419999837875366, 1.548200011253357, 1.7060999870300293, 1.1965999603271484, 1.0413999557495117, 0.41670000553131104, 1.1252000331878662, 1.3162000179290771, 1.4549000263214111, 1.388200044631958, 0.6862000226974487, -0.04569999873638153, 0.1867000013589859, 0.9036999940872192, 0.6327000260353088, 1.1181000471115112, 0.7455000281333923, 0.2888000011444092, 0.8973000049591064, 0.39719998836517334, 0.5479999780654907, 0.7221999764442444, 0.04960000142455101, -0.24469999969005585, 2.3382999897003174, 2.3313000202178955, 2.3296000957489014, 2.3285999298095703, 2.3262999057769775, 2.3173000812530518, 2.3115999698638916, 2.311500072479248, 2.3055999279022217, 2.3052000999450684, 2.300600051879883, 2.294600009918213, 2.2888998985290527, 2.2857000827789307, 2.2809998989105225, 2.280900001525879, 2.2750000953674316, 2.2715001106262207, 2.267899990081787, 2.267899990081787, 2.267899990081787, 2.2676000595092773, 2.2636001110076904, 2.259399890899658, 2.259000062942505, 2.248800039291382, 2.248800039291382, 2.248800039291382, 2.248800039291382, 2.248800039291382, 2.1789000034332275, 2.2246999740600586, 2.218600034713745, 2.1728999614715576, 2.1459999084472656, 2.004199981689453, 2.1760001182556152, 1.9700000286102295, 1.9768999814987183, 2.1247000694274902, 1.9189000129699707, 1.8590999841690063, 1.9062000513076782, 1.8411999940872192, 1.9795000553131104, 1.8704999685287476, 0.7720999717712402, 1.9103000164031982, 1.5507999658584595, 0.7853000164031982, 1.5981999635696411, 1.7223000526428223, 1.9754999876022339, 0.9520999789237976, 1.2365000247955322, 0.6855000257492065, 1.3653000593185425, 1.003000020980835, 0.7842000126838684, 0.4932999908924103, 0.45730000734329224, 0.9526000022888184, 0.28029999136924744, 0.37700000405311584, 0.12559999525547028, 0.26440000534057617, -0.2037999927997589, -0.28679999709129333, 0.24570000171661377, -0.025800000876188278, -0.7017999887466431, -0.0737999975681305, 0.4837000072002411, 0.07580000162124634, 0.659500002861023, 0.4738999903202057, 0.11909999698400497, -0.23270000517368317, -1.0327999591827393, 2.610100030899048, 2.5885000228881836, 2.588399887084961, 2.5868000984191895, 2.5845999717712402, 2.5743000507354736, 2.5625, 2.5594000816345215, 2.5576000213623047, 2.5576000213623047, 2.557499885559082, 2.551800012588501, 2.5515999794006348, 2.5515999794006348, 2.5515999794006348, 2.5443999767303467, 2.5441999435424805, 2.5253000259399414, 2.524899959564209, 2.5190000534057617, 2.5118000507354736, 2.5118000507354736, 2.5118000507354736, 2.5116000175476074, 2.5116000175476074, 2.510999917984009, 2.4983999729156494, 2.494499921798706, 2.49429988861084, 2.4941999912261963, 2.278599977493286, 2.460599899291992, 2.4249000549316406, 2.445499897003174, 2.017400026321411, 2.3227999210357666, 2.1066999435424805, 2.3712000846862793, 2.105799913406372, 1.4351999759674072, 1.7077000141143799, 1.9386999607086182, 2.180000066757202, 1.5666999816894531, 2.1324000358581543, 1.792799949645996, 1.7064000368118286, 1.357800006866455, 1.1726000308990479, 1.2582000494003296, 1.4594000577926636, 1.2961000204086304, 0.8537999987602234, 1.2699999809265137, 0.9778000116348267, 0.7329999804496765, 0.9036999940872192, 0.7598999738693237, 0.9246000051498413, 0.7907000184059143, 1.2160999774932861, 0.8323000073432922, 1.3515000343322754, 0.9549000263214111, 0.8844000101089478, 0.13279999792575836, 0.34299999475479126, 0.6241000294685364, -0.3158999979496002, 0.39579999446868896, -0.5152999758720398, 0.46050000190734863, 0.708899974822998, 0.12800000607967377, 0.03370000049471855, -1.0062999725341797, -0.8828999996185303], \"logprob\": [30.0, 29.0, 28.0, 27.0, 26.0, 25.0, 24.0, 23.0, 22.0, 21.0, 20.0, 19.0, 18.0, 17.0, 16.0, 15.0, 14.0, 13.0, 12.0, 11.0, 10.0, 9.0, 8.0, 7.0, 6.0, 5.0, 4.0, 3.0, 2.0, 1.0, -6.2144999504089355, -6.3368000984191895, -6.577600002288818, -7.786499977111816, -7.703700065612793, -8.007399559020996, -7.954999923706055, -8.036600112915039, -7.933499813079834, -7.462900161743164, -8.188899993896484, -8.190999984741211, -8.331100463867188, -8.331500053405762, -7.657199859619141, -8.498100280761719, -8.543399810791016, -8.543600082397461, -7.3881001472473145, -8.6427001953125, -7.925099849700928, -8.6427001953125, -8.696200370788574, -7.247300148010254, -8.752900123596191, -8.81309986114502, -8.81309986114502, -8.812999725341797, -8.812999725341797, -8.812999725341797, -6.598999977111816, -8.316100120544434, -8.703300476074219, -8.653800010681152, -8.007499694824219, -8.364999771118164, -6.574699878692627, -6.914899826049805, -5.920599937438965, -7.8653998374938965, -5.923999786376953, -6.260499954223633, -6.216700077056885, -7.258800029754639, -4.987599849700928, -4.700399875640869, -6.344799995422363, -6.265600204467773, -5.651400089263916, -4.317699909210205, -6.776700019836426, -6.210299968719482, -5.703100204467773, -5.619200229644775, -6.368000030517578, -5.793799877166748, -6.680699825286865, -5.600500106811523, -5.7565999031066895, -6.002900123596191, -6.045000076293945, -4.594099998474121, -6.0467000007629395, -5.059599876403809, -5.139699935913086, -5.057700157165527, -5.768700122833252, -5.584099769592285, -5.291299819946289, -4.779699802398682, -5.606800079345703, -5.911799907684326, -5.4274001121521, -4.85129976272583, -5.740499973297119, -5.803800106048584, -5.595300197601318, -5.808700084686279, -5.566199779510498, -5.572800159454346, -5.581399917602539, -5.51140022277832, -5.709499835968018, -5.274899959564209, -5.580999851226807, -5.674300193786621, -5.76669979095459, -6.379899978637695, -6.73799991607666, -7.2291998863220215, -7.363699913024902, -6.671500205993652, -7.55810022354126, -7.577899932861328, -7.618500232696533, -7.660999774932861, -7.877999782562256, -7.8790998458862305, -7.991700172424316, -8.022500038146973, -8.02239990234375, -8.086600303649902, -8.086700439453125, -8.15530014038086, -8.268099784851074, -8.351099967956543, -8.39490032196045, -8.395000457763672, -8.441100120544434, -8.441300392150879, -8.594300270080566, -8.710800170898438, -8.774999618530273, -8.775099754333496, -8.84280014038086, -8.842900276184082, -8.843000411987305, -8.058899879455566, -8.143899917602539, -8.351099967956543, -7.606200218200684, -6.735199928283691, -5.4994001388549805, -7.5131001472473145, -6.933599948883057, -4.943900108337402, -5.5030999183654785, -7.151199817657471, -6.536099910736084, -5.772299766540527, -6.976500034332275, -7.025700092315674, -4.303899765014648, -5.6894001960754395, -5.181700229644775, -5.133200168609619, -4.320899963378906, -4.559800148010254, -6.305099964141846, -5.411799907684326, -5.0980000495910645, -5.482399940490723, -5.279600143432617, -5.407800197601318, -4.4893999099731445, -5.08650016784668, -5.250100135803223, -5.194399833679199, -5.177800178527832, -5.340199947357178, -4.593599796295166, -5.17519998550415, -5.453199863433838, -5.433599948883057, -5.012899875640869, -5.766600131988525, -5.560800075531006, -5.563000202178955, -5.522500038146973, -5.4893999099731445, -5.632400035858154, -7.144499778747559, -7.279399871826172, -7.817999839782715, -8.055999755859375, -8.10219955444336, -7.222899913787842, -6.776800155639648, -8.25469970703125, -8.256500244140625, -8.371399879455566, -7.811500072479248, -8.505900382995605, -8.576800346374512, -8.576899528503418, -8.655900001525879, -8.656000137329102, -8.656000137329102, -8.741700172424316, -8.741700172424316, -8.74209976196289, -8.742199897766113, -8.7431001663208, -8.663100242614746, -8.743599891662598, -8.744000434875488, -8.744199752807617, -8.835599899291992, -8.835599899291992, -8.836199760437012, -8.8371000289917, -7.368199825286865, -7.97730016708374, -8.154600143432617, -7.88640022277832, -5.817800045013428, -5.820000171661377, -7.487100124359131, -6.361199855804443, -7.997900009155273, -6.974299907684326, -7.065299987792969, -3.6196000576019287, -7.304200172424316, -7.889900207519531, -6.316999912261963, -6.303800106048584, -4.5954999923706055, -6.2600998878479, -3.614000082015991, -3.5327999591827393, -6.230800151824951, -6.005099773406982, -6.513899803161621, -5.572999954223633, -6.459099769592285, -5.017199993133545, -4.792200088500977, -5.9567999839782715, -6.764400005340576, -6.551300048828125, -4.113500118255615, -5.441400051116943, -4.750100135803223, -4.790599822998047, -5.138299942016602, -5.521900177001953, -4.972400188446045, -6.129499912261963, -5.779900074005127, -5.520199775695801, -5.209000110626221, -5.858500003814697, -5.305600166320801, -4.7855000495910645, -5.518700122833252, -5.471099853515625, -5.335599899291992, -5.459099769592285, -5.489699840545654, -5.295000076293945, -5.645599842071533, -5.686100006103516, -5.54610013961792, -5.687399864196777, -5.718299865722656, -5.696000099182129, -6.044099807739258, -6.087900161743164, -6.18209981918335, -6.532599925994873, -5.748600006103516, -6.5680999755859375, -6.683199882507324, -6.746200084686279, -6.768099784851074, -6.790500164031982, -6.813399791717529, -6.910699844360352, -6.910699844360352, -6.380499839782715, -6.936500072479248, -6.9903998374938965, -7.018099784851074, -7.047299861907959, -7.077000141143799, -7.107600212097168, -7.139200210571289, -7.139200210571289, -7.20550012588501, -7.20550012588501, -7.2403998374938965, -7.276199817657471, -7.276599884033203, -7.209099769592285, -7.3140997886657715, -7.352700233459473, -5.764900207519531, -5.831699848175049, -6.464900016784668, -5.408599853515625, -5.890900135040283, -6.860899925231934, -4.891300201416016, -6.313399791717529, -5.702700138092041, -5.698400020599365, -5.8460001945495605, -5.952000141143799, -5.080900192260742, -4.174699783325195, -5.695899963378906, -4.996600151062012, -5.570700168609619, -5.221799850463867, -5.574999809265137, -5.615900039672852, -5.439300060272217, -5.7846999168396, -5.109799861907959, -4.9070000648498535, -4.173399925231934, -5.186600208282471, -5.402900218963623, -5.566999912261963, -5.539000034332275, -5.025400161743164, -4.530700206756592, -4.696899890899658, -5.223299980163574, -5.1545000076293945, -5.405099868774414, -5.240200042724609, -5.118100166320801, -5.451700210571289, -5.342199802398682, -5.505099773406982, -5.581600189208984, -5.610199928283691, -5.6020002365112305, -6.201099872589111, -6.727200031280518, -6.81790018081665, -6.866399765014648, -6.893400192260742, -7.295000076293945, -7.460999965667725, -7.460999965667725, -7.606400012969971, -7.606800079345703, -7.716700077056885, -7.668499946594238, -7.910699844360352, -7.982500076293945, -8.061100006103516, -8.061100006103516, -8.146900177001953, -7.689599990844727, -8.240699768066406, -8.240699768066406, -8.240799903869629, -8.241299629211426, -7.463399887084961, -8.344300270080566, -8.344599723815918, -8.45989990234375, -8.460000038146973, -8.45989990234375, -8.460000038146973, -8.45989990234375, -5.729599952697754, -7.462800025939941, -7.5503997802734375, -6.727700233459473, -6.4197001457214355, -4.570099830627441, -7.329899787902832, -5.211100101470947, -5.758999824523926, -6.997499942779541, -5.757500171661377, -5.524400234222412, -6.415800094604492, -6.381400108337402, -6.93179988861084, -6.717299938201904, -4.123499870300293, -6.845699787139893, -6.17140007019043, -4.702400207519531, -6.331099987030029, -6.556700229644775, -7.036799907684326, -5.313399791717529, -5.884099960327148, -5.1016998291015625, -6.122099876403809, -5.71120023727417, -5.431399822235107, -5.212900161743164, -5.21619987487793, -5.810299873352051, -5.184999942779541, -5.335899829864502, -5.189899921417236, -5.346099853515625, -5.0482001304626465, -5.05709981918335, -5.527299880981445, -5.3831000328063965, -5.1869001388549805, -5.482399940490723, -5.780300140380859, -5.64769983291626, -5.862599849700928, -5.806399822235107, -5.710599899291992, -5.657800197601318, -5.622900009155273, -6.373000144958496, -7.189899921417236, -7.190100193023682, -5.4131999015808105, -7.2846999168396, -7.505799770355225, -7.711299896240234, -6.918300151824951, -7.79010009765625, -7.790200233459473, -7.790200233459473, -7.875699996948242, -7.875899791717529, -7.875899791717529, -7.875999927520752, -7.969900131225586, -7.1479997634887695, -8.188899993896484, -8.189200401306152, -7.50600004196167, -8.319600105285645, -8.319600105285645, -8.319700241088867, -8.319700241088867, -8.319700241088867, -8.320500373840332, -7.775000095367432, -8.469900131225586, -8.470000267028809, -8.470000267028809, -4.8734002113342285, -7.879899978637695, -7.643400192260742, -7.974100112915039, -5.813600063323975, -7.353600025177002, -6.329100131988525, -7.638800144195557, -6.493100166320801, -3.8803000450134277, -5.060999870300293, -5.9928998947143555, -6.926499843597412, -4.966400146484375, -6.884500026702881, -6.21589994430542, -6.0594000816345215, -5.339200019836426, -5.088799953460693, -5.297399997711182, -5.708600044250488, -5.446000099182129, -4.756800174713135, -5.553699970245361, -5.063899993896484, -4.6921000480651855, -5.033299922943115, -4.913599967956543, -5.151700019836426, -5.192599773406982, -5.791600227355957, -5.446000099182129, -6.093599796295166, -5.791200160980225, -5.75, -5.223400115966797, -5.429699897766113, -5.609099864959717, -5.21150016784668, -5.541500091552734, -5.285699844360352, -5.6504998207092285, -5.727799892425537, -5.644999980926514, -5.679200172424316, -5.663899898529053, -5.727399826049805]}, \"token.table\": {\"Topic\": [1, 2, 3, 4, 5, 6, 1, 2, 3, 4, 5, 6, 1, 6, 6, 1, 2, 3, 4, 5, 6, 1, 2, 4, 5, 1, 2, 3, 4, 5, 6, 1, 2, 4, 5, 6, 3, 5, 5, 6, 1, 2, 3, 4, 5, 6, 2, 4, 1, 2, 3, 5, 6, 5, 1, 2, 3, 4, 5, 6, 1, 2, 3, 5, 6, 1, 2, 3, 5, 6, 1, 1, 2, 3, 4, 5, 6, 1, 2, 3, 4, 5, 1, 2, 3, 4, 5, 6, 5, 5, 2, 3, 3, 5, 4, 6, 1, 2, 3, 4, 5, 6, 1, 2, 3, 4, 5, 6, 1, 1, 2, 3, 4, 5, 6, 4, 1, 2, 3, 4, 5, 6, 3, 4, 4, 1, 2, 3, 4, 5, 6, 1, 2, 3, 4, 5, 6, 5, 1, 2, 1, 2, 3, 4, 5, 6, 1, 2, 3, 5, 6, 1, 1, 2, 3, 5, 6, 2, 3, 4, 5, 2, 3, 1, 2, 3, 5, 6, 5, 5, 1, 2, 3, 4, 5, 6, 1, 2, 3, 4, 5, 6, 1, 2, 3, 4, 5, 6, 1, 2, 3, 4, 5, 6, 1, 5, 1, 2, 3, 4, 5, 6, 2, 5, 1, 2, 3, 4, 5, 6, 1, 1, 1, 2, 3, 4, 5, 6, 1, 2, 3, 4, 5, 6, 1, 2, 3, 4, 6, 1, 2, 3, 4, 5, 6, 1, 2, 3, 4, 5, 6, 1, 2, 3, 4, 5, 6, 6, 6, 1, 2, 3, 4, 5, 6, 2, 3, 6, 1, 2, 3, 4, 5, 6, 2, 2, 4, 1, 2, 3, 4, 5, 6, 1, 3, 1, 4, 1, 2, 3, 4, 5, 6, 1, 2, 3, 4, 5, 6, 6, 1, 2, 3, 5, 6, 1, 2, 5, 6, 1, 2, 3, 4, 5, 6, 1, 2, 3, 4, 5, 6, 1, 2, 1, 2, 3, 4, 5, 6, 1, 2, 3, 4, 5, 1, 2, 3, 5, 6, 1, 1, 2, 3, 4, 5, 6, 1, 2, 3, 4, 5, 6, 1, 2, 3, 5, 1, 2, 3, 4, 5, 6, 6, 3, 6, 6, 5, 5, 3, 5, 1, 3, 6, 6, 1, 2, 3, 4, 5, 6, 1, 2, 3, 4, 5, 6, 1, 2, 3, 4, 5, 6, 1, 2, 3, 4, 5, 6, 6, 1, 1, 2, 1, 2, 3, 4, 5, 6, 1, 1, 1, 2, 3, 4, 5, 6, 1, 2, 5, 6, 4, 6, 1, 2, 3, 4, 5, 1, 2, 5, 6, 1, 2, 5, 6, 1, 2, 3, 4, 5, 6, 3, 4, 2, 3, 4, 1, 2, 3, 5, 6, 1, 4, 5, 1, 2, 3, 4, 5, 6, 2, 1, 2, 3, 4, 5, 6, 6, 3, 3, 1, 2, 3, 4, 5, 6, 1, 2, 3, 1, 2, 3, 4, 5, 6, 3, 6, 6, 1, 2, 5, 6, 1, 2, 3, 4, 5, 6, 6, 1, 2, 3, 4, 5, 6, 6, 1, 2, 3, 4, 5, 6, 1, 3, 2, 3, 6, 1, 1, 2, 3, 4, 4, 2, 3, 1, 2, 3, 4, 5, 6, 2, 2, 1, 2, 3, 4, 5, 1, 2, 5, 6, 1, 3, 6, 1, 2, 3, 4, 5, 6, 1, 2, 3, 4, 5, 6, 6, 4, 4, 4, 1, 1, 2, 3, 4, 5, 6, 1, 2, 3, 5, 6, 1, 2, 4, 3, 5, 1, 2, 3, 4, 5, 6, 1, 2, 3, 4, 5, 6, 2, 3, 4, 3, 4, 1, 3, 1, 2, 3, 5, 6, 1, 2, 3, 5, 6, 1, 2, 3, 4, 5, 6, 1, 2, 3, 4, 5, 6, 4, 1, 5, 6, 1, 2, 3, 4, 5, 6, 1, 1, 2, 4, 6, 1, 2, 3, 4, 5, 6, 1, 2, 3, 5, 6, 1, 3, 1, 6, 1, 2, 5, 6, 2, 1, 2, 1, 2, 3, 4, 5, 6, 2, 1, 2, 3, 4, 5, 6, 2, 1, 2, 3, 4, 5, 6, 3, 1, 2, 3, 4, 5, 6, 5, 1, 2, 3, 4, 5, 6, 3, 1, 5, 6, 4, 1, 2, 4, 4, 1, 2, 3, 4, 5, 6, 4, 1, 2, 3, 4, 5, 6, 2, 2, 1, 2, 3, 4, 5, 5, 4, 1, 2, 3, 4, 1, 2, 3, 4, 5, 6, 2, 4, 1, 2, 3, 4, 5, 6, 5, 2, 1, 2, 3, 4, 5, 6, 1, 2, 3, 4, 5, 6, 5, 1, 2, 3, 4, 5, 6, 1, 2, 3, 4, 5, 6, 1, 2, 3, 4, 5, 6, 1, 2, 6, 2, 2, 3, 4, 4, 3, 6, 1, 2, 3, 4, 5, 6, 4, 1, 2, 3, 5, 6, 1, 6, 3, 2, 1, 2, 3, 4, 5, 6, 6, 1, 2, 3, 4, 5, 6, 5, 1, 2, 3, 4, 5, 6, 1, 2, 3, 4, 5, 6, 5, 4, 3, 6, 5, 1, 2, 3, 4, 5, 6, 1, 2, 3, 4, 5, 6, 2, 3, 1, 3, 1, 2, 3, 4, 5, 6, 1, 2, 3, 4, 5, 6, 1, 2, 3, 4, 5, 6, 1, 2, 3, 5, 6, 1, 2, 3, 4, 5, 6, 6, 1, 2, 3, 4, 5, 6, 1, 2, 3, 4, 5, 6, 1, 2, 3, 4, 5, 6, 1, 2, 3, 4, 5, 6, 1, 2, 3, 4, 5, 6, 1, 2, 3, 4, 5, 6, 1, 2, 5, 1, 2, 3, 5, 6, 1, 2, 3, 4, 6, 3, 1, 3, 4, 4, 1, 2, 3, 4, 5, 6, 6, 2, 3, 4, 5, 6, 1, 2, 6, 1, 6, 1, 2, 3, 4, 5, 6, 1, 2, 3, 4, 5, 6, 1, 2, 3, 4, 5, 6, 2, 1, 6, 1, 5, 2, 2, 4, 1, 2, 3, 4, 5, 6, 4, 1, 2, 3, 4, 6, 1, 3, 1, 2, 3, 5, 6, 1, 2, 3, 4, 5, 6, 1, 2, 3, 4, 5, 6, 1, 2, 3, 5, 6, 1, 3, 1, 2, 3, 4, 5, 1, 2, 3, 5, 6, 1, 2, 3, 4, 5, 6, 1, 2, 3, 4, 5, 6, 2, 3, 5, 6, 3, 5, 2, 3, 6, 3, 4, 2, 3, 5, 6, 1, 2, 3, 4, 5, 6, 6, 1, 1, 3, 5, 3, 3, 1, 2, 3, 4, 5, 6, 5, 1, 2, 3, 4, 5, 6, 1, 2, 3, 4, 5, 6, 4, 1, 4, 5, 1, 2, 3, 5, 6, 1, 2, 3, 4, 5, 6, 1, 2, 3, 4, 5, 6, 5, 1, 2, 3, 4, 5, 6, 1, 2, 3, 4, 5, 6, 5, 5, 4, 3, 3, 6, 1, 2, 3, 4, 5, 6, 1, 2, 3, 4, 5, 6, 1, 2, 3, 6, 1, 2, 3, 4, 5, 6, 1, 3, 1, 2, 3, 4, 5, 6, 1, 2, 5, 1, 2, 3, 4, 5, 6, 1, 2, 3, 4, 5, 6, 6, 1, 5, 1, 2, 3, 4, 5, 2, 1, 2, 3, 4, 5, 6, 1, 2, 3, 4, 5, 6, 2, 6, 1, 4, 5, 6, 1, 2, 3, 5, 6, 2, 1, 2, 3, 5, 6, 5, 1, 2, 3, 4, 5, 6, 2, 3, 1, 2, 3, 4, 5, 6, 1, 2, 3, 4, 5, 6, 1, 5, 1, 2, 3, 4, 5, 6, 1, 2, 3, 4, 5, 3, 1, 5, 4, 1, 2, 3, 4, 5, 4, 2, 5, 3, 1, 2, 3, 4, 5, 6, 1, 2, 3, 4, 5, 6, 1, 5, 6, 1, 2, 3, 4, 5, 6, 1, 2, 1, 2, 3, 4, 5, 6, 5, 2, 6, 3, 2, 3, 4, 4], \"Freq\": [0.31144392490386963, 0.1376672387123108, 0.1399240791797638, 0.3588375747203827, 0.024825241416692734, 0.02933892048895359, 0.19038061797618866, 0.11595910042524338, 0.6066218614578247, 0.010384397581219673, 0.06663321703672409, 0.009519030340015888, 0.18190407752990723, 0.7882509827613831, 0.9205558896064758, 0.16619151830673218, 0.1946306973695755, 0.2550639808177948, 0.18041110038757324, 0.1892983466386795, 0.014219594188034534, 0.01999605819582939, 0.01999605819582939, 0.09998028725385666, 0.839834451675415, 0.19057710468769073, 0.13452501595020294, 0.011210417374968529, 0.011210417374968529, 0.6389937996864319, 0.011210417374968529, 0.7311958074569702, 0.21002432703971863, 0.0038893395103514194, 0.007778679020702839, 0.050561413168907166, 0.8810775279998779, 0.10166279226541519, 0.07890962064266205, 0.8680058717727661, 0.15746022760868073, 0.31492045521736145, 0.32302504777908325, 0.1285153329372406, 0.04746962711215019, 0.028944896534085274, 0.9835679531097412, 0.9863255023956299, 0.3056926727294922, 0.5744335055351257, 0.010077780112624168, 0.06046668067574501, 0.04367038235068321, 0.9296706914901733, 0.18992753326892853, 0.36644843220710754, 0.1415146291255951, 0.00819295272231102, 0.12438391894102097, 0.16981756687164307, 0.15127620100975037, 0.06188571825623512, 0.7082476615905762, 0.04125714674592018, 0.04125714674592018, 0.41299694776535034, 0.34317609667778015, 0.01580849476158619, 0.20880387723445892, 0.019101932644844055, 0.9671456813812256, 0.08766275644302368, 0.1902923285961151, 0.5644626021385193, 0.1090439110994339, 0.0299336239695549, 0.017104927450418472, 0.04523327946662903, 0.01644846424460411, 0.8512080311775208, 0.024672696366906166, 0.06579385697841644, 0.21212001144886017, 0.062388237565755844, 0.006238823756575584, 0.018716471269726753, 0.6862706542015076, 0.012477647513151169, 0.9153537750244141, 0.8985024094581604, 0.9782963395118713, 0.9265026450157166, 0.9556918740272522, 0.9724944829940796, 0.9565363526344299, 0.03714704141020775, 0.06497670710086823, 0.16244177520275116, 0.7201585173606873, 0.016244176775217056, 0.02165890298783779, 0.010829451493918896, 0.22869931161403656, 0.34061598777770996, 0.01946377009153366, 0.004865942522883415, 0.3746775984764099, 0.034061599522829056, 0.9966011047363281, 0.3028121590614319, 0.29786157608032227, 0.1138639748096466, 0.07178381085395813, 0.13861702382564545, 0.07508421689271927, 0.9846858382225037, 0.008342471905052662, 0.008342471905052662, 0.24193167686462402, 0.7341375350952148, 0.005561647936701775, 0.0027808239683508873, 0.9644163846969604, 0.9785375595092773, 0.9742792248725891, 0.032763607800006866, 0.13969537615776062, 0.6700337529182434, 0.1155727282166481, 0.03780416399240494, 0.003960436210036278, 0.28870105743408203, 0.4076535999774933, 0.18646615743637085, 0.0022504536900669336, 0.07169302552938461, 0.04308011382818222, 0.8782511353492737, 0.9586834907531738, 0.9781177043914795, 0.006699786055833101, 0.22779272496700287, 0.6632788181304932, 0.013399572111666203, 0.026799144223332405, 0.060298074036836624, 0.3726232647895813, 0.34176909923553467, 0.007120189722627401, 0.09612255543470383, 0.1815648376941681, 0.9794846177101135, 0.8585596084594727, 0.06479694694280624, 0.03239847347140312, 0.01619923673570156, 0.024298856034874916, 0.06493166089057922, 0.306949645280838, 0.45157015323638916, 0.17413489520549774, 0.03363822400569916, 0.9418702125549316, 0.8617563247680664, 0.023134397342801094, 0.023134397342801094, 0.02891799621284008, 0.05783599242568016, 0.9563391804695129, 0.8985328078269958, 0.13461998105049133, 0.36907774209976196, 0.30981919169425964, 0.04573214799165726, 0.12624648213386536, 0.01417052373290062, 0.2655148506164551, 0.2550797462463379, 0.17855583131313324, 0.16580183804035187, 0.091596819460392, 0.04289977625012398, 0.16580897569656372, 0.6996774077415466, 0.054662298411130905, 0.00911038275808096, 0.04008568450808525, 0.030975302681326866, 0.10837849229574203, 0.1055995523929596, 0.31401973962783813, 0.3834931254386902, 0.047241903841495514, 0.04168403521180153, 0.9894198179244995, 0.00664040120318532, 0.020209379494190216, 0.08083751797676086, 0.06062813848257065, 0.020209379494190216, 0.6871188879013062, 0.1212562769651413, 0.9777160286903381, 0.9345890283584595, 0.10292017459869385, 0.2607311010360718, 0.04802941530942917, 0.01372268982231617, 0.03430672362446785, 0.5420462489128113, 0.9616835713386536, 0.96619713306427, 0.5679207444190979, 0.02856406196951866, 0.27219870686531067, 0.025203583762049675, 0.10249457508325577, 0.003360477974638343, 0.13538362085819244, 0.19076783955097198, 0.09846081584692001, 0.12307602167129517, 0.4492274820804596, 0.8272703289985657, 0.10981019586324692, 0.14641359448432922, 0.05229056999087334, 0.6170287132263184, 0.07320679724216461, 0.47754111886024475, 0.3373328149318695, 0.008329205214977264, 0.006941004656255245, 0.036093223839998245, 0.13465549051761627, 0.5994932651519775, 0.21147768199443817, 0.012872554361820221, 0.007355745416134596, 0.08091320097446442, 0.08826894313097, 0.05434222146868706, 0.23798145353794098, 0.22111663222312927, 0.12742313742637634, 0.014990957453846931, 0.3466658890247345, 0.8271887302398682, 0.962047815322876, 0.04146897792816162, 0.3520950973033905, 0.4506817162036896, 0.10093392431735992, 0.036774374544620514, 0.018778404220938683, 0.9809895157814026, 0.9212867617607117, 0.0460643395781517, 0.025539904832839966, 0.12131454050540924, 0.04469483345746994, 0.7534271478652954, 0.03830985724925995, 0.012769952416419983, 0.9545786380767822, 0.9229174852371216, 0.965231716632843, 0.17971190810203552, 0.27509745955467224, 0.38430699706077576, 0.002764798467978835, 0.04700157418847084, 0.11059194058179855, 0.9670268297195435, 0.9378334283828735, 0.9602892398834229, 0.02909967303276062, 0.24157030880451202, 0.22556264698505402, 0.1819053590297699, 0.08294884115457535, 0.15280050039291382, 0.11641942709684372, 0.4013485610485077, 0.26856037974357605, 0.17531023919582367, 0.050728071480989456, 0.06191808730363846, 0.041776057332754135, 0.9447145462036133, 0.051170650869607925, 0.8187304139137268, 0.05848074331879616, 0.021930279210209846, 0.051170650869607925, 0.1626671850681305, 0.22181889414787292, 0.029575852677226067, 0.5915170311927795, 0.677883505821228, 0.21124741435050964, 0.04098830372095108, 0.0441412515938282, 0.009458839893341064, 0.015764733776450157, 0.6435306668281555, 0.1489020437002182, 0.11124865710735321, 0.0034230356104671955, 0.08386436849832535, 0.0102691063657403, 0.945465087890625, 0.03636404126882553, 0.4940265715122223, 0.208011195063591, 0.13765446841716766, 0.01835392788052559, 0.13000699877738953, 0.010706458240747452, 0.019699271768331528, 0.07223066687583923, 0.09849636256694794, 0.7682716250419617, 0.03283211961388588, 0.6064690947532654, 0.0781058669090271, 0.004594462923705578, 0.14472557604312897, 0.1654006540775299, 0.975894570350647, 0.20088130235671997, 0.15893904864788055, 0.22737114131450653, 0.013244920410215855, 0.11920428276062012, 0.28035083413124084, 0.22349070012569427, 0.16248828172683716, 0.19298948347568512, 0.009427647106349468, 0.10814066231250763, 0.3033484220504761, 0.3973732590675354, 0.05369908735156059, 0.010739817284047604, 0.5369908809661865, 0.26606789231300354, 0.4835095703601837, 0.1045922040939331, 0.014679607935249805, 0.0642232820391655, 0.06605823338031769, 0.9035581946372986, 0.084380604326725, 0.8438060283660889, 0.8271883130073547, 0.9419820308685303, 0.9296178817749023, 0.29064592719078064, 0.6930787563323975, 0.02437230572104454, 0.008124101907014847, 0.9586440324783325, 0.920586884021759, 0.08853545784950256, 0.1349111795425415, 0.1517750769853592, 0.5607245564460754, 0.029511820524930954, 0.029511820524930954, 0.2564304769039154, 0.3846457302570343, 0.13475683331489563, 0.045791156589984894, 0.11644037067890167, 0.0614909827709198, 0.44148948788642883, 0.3180466890335083, 0.04066350311040878, 0.023236287757754326, 0.01307041198015213, 0.1655585616827011, 0.4505522549152374, 0.22355645895004272, 0.021782424300909042, 0.0011464434210211039, 0.11120500415563583, 0.1926024854183197, 0.8582783937454224, 0.9715033769607544, 0.9884912371635437, 0.9545705914497375, 0.3240594267845154, 0.30541884899139404, 0.0559217594563961, 0.010037238709628582, 0.24662929773330688, 0.05735564976930618, 0.9652494192123413, 0.9586752653121948, 0.23789139091968536, 0.421716570854187, 0.11894569545984268, 0.024870464578270912, 0.03784635663032532, 0.1589547097682953, 0.758296012878418, 0.18025068938732147, 0.04350878670811653, 0.01864662393927574, 0.06155026704072952, 0.9232540130615234, 0.020539261400699615, 0.03594370558857918, 0.10783112049102783, 0.8113008141517639, 0.030808890238404274, 0.14416156709194183, 0.2655607759952545, 0.09104941040277481, 0.5007717609405518, 0.9480031728744507, 0.006493172608315945, 0.006493172608315945, 0.0324658639729023, 0.08006536960601807, 0.16013073921203613, 0.6855597496032715, 0.05504494532942772, 0.005004085600376129, 0.015012257732450962, 0.9886845946311951, 0.9873005151748657, 0.05736543983221054, 0.8461402654647827, 0.08604816347360611, 0.269541472196579, 0.022461790591478348, 0.044923581182956696, 0.06738536804914474, 0.6064683198928833, 0.043922148644924164, 0.043922148644924164, 0.8784429430961609, 0.2159644216299057, 0.5565912127494812, 0.1404646635055542, 0.00526742497459054, 0.05794167146086693, 0.022825507447123528, 0.9899661540985107, 0.38520342111587524, 0.39176008105278015, 0.027865780517458916, 0.007376235909759998, 0.15654011070728302, 0.031963687390089035, 0.9349473714828491, 0.9266315698623657, 0.9378425478935242, 0.5506623387336731, 0.190540611743927, 0.0971757099032402, 0.032391902059316635, 0.051445964723825455, 0.07812164723873138, 0.03368813544511795, 0.9095796942710876, 0.03368813544511795, 0.3866673707962036, 0.41004273295402527, 0.11785075813531876, 0.00973973236978054, 0.06817812472581863, 0.0077917855232954025, 0.09133501350879669, 0.822015106678009, 0.9349055290222168, 0.024953333660960197, 0.024953333660960197, 0.7985066771507263, 0.12476667016744614, 0.049567148089408875, 0.2363971769809723, 0.6519986391067505, 0.045754291117191315, 0.0076257153414189816, 0.0076257153414189816, 0.9756219387054443, 0.1223391592502594, 0.32956671714782715, 0.189750537276268, 0.2371881753206253, 0.07365316897630692, 0.047437634319067, 0.9205572605133057, 0.5891457200050354, 0.1837284415960312, 0.09869709610939026, 0.01670258492231369, 0.07440242171287537, 0.03796042129397392, 0.9906269311904907, 0.9266226291656494, 0.03890872374176979, 0.9338093400001526, 0.03890872374176979, 0.9585429430007935, 0.004397847224026918, 0.18031173944473267, 0.21989236772060394, 0.5893115401268005, 0.9597455859184265, 0.9359217286109924, 0.9731637239456177, 0.06056492403149605, 0.09711272269487381, 0.4803425073623657, 0.2714979350566864, 0.07518403977155685, 0.01566334255039692, 0.9808109402656555, 0.9844679236412048, 0.012105569243431091, 0.024211138486862183, 0.7565981149673462, 0.1876363307237625, 0.018158353865146637, 0.22110147774219513, 0.0982673242688179, 0.024566831067204475, 0.6387376189231873, 0.06887295097112656, 0.8953483700752258, 0.02295765094459057, 0.012274282984435558, 0.032731421291828156, 0.8428340554237366, 0.04500570148229599, 0.008182855322957039, 0.05727998539805412, 0.12814046442508698, 0.33383965492248535, 0.10453564673662186, 0.04720964655280113, 0.3270954191684723, 0.053953882306814194, 0.82712721824646, 0.9745468497276306, 0.9742809534072876, 0.9899029731750488, 0.9713980555534363, 0.29352977871894836, 0.24183349311351776, 0.19977548718452454, 0.061334580183029175, 0.12179295718669891, 0.08236358314752579, 0.3547344505786896, 0.26431193947792053, 0.02086673304438591, 0.17157091200351715, 0.1878006011247635, 0.9419108033180237, 0.026164188981056213, 0.026164188981056213, 0.9194137454032898, 0.8536776304244995, 0.14514341950416565, 0.6054553985595703, 0.024881727993488312, 0.012440863996744156, 0.03732259199023247, 0.17417210340499878, 0.11556872725486755, 0.05896363407373428, 0.2051934450864792, 0.5165214538574219, 0.09434181451797485, 0.011792726814746857, 0.08073288947343826, 0.053821925073862076, 0.8611508011817932, 0.008769611828029156, 0.9821965098381042, 0.9779549241065979, 0.019175587221980095, 0.20475491881370544, 0.014625350944697857, 0.029250701889395714, 0.614264726638794, 0.131628155708313, 0.724424421787262, 0.13677942752838135, 0.02786247618496418, 0.08612038195133209, 0.022796571254730225, 0.7501750588417053, 0.12502917647361755, 0.0036773288156837225, 0.0036773288156837225, 0.06251458823680878, 0.05883726105093956, 0.22641988098621368, 0.3328099250793457, 0.1650409996509552, 0.01909565180540085, 0.20868819952011108, 0.04773912951350212, 0.9631725549697876, 0.04765065386891365, 0.8577117919921875, 0.04765065386891365, 0.12310575693845749, 0.1757676601409912, 0.22911348938941956, 0.3700011968612671, 0.04445485770702362, 0.05676543340086937, 0.9795636534690857, 0.17222633957862854, 0.783629834651947, 0.008611316792666912, 0.02583394944667816, 0.08406995981931686, 0.605938196182251, 0.15703634917736053, 0.03489696606993675, 0.039655644446611404, 0.07613883167505264, 0.710118293762207, 0.1434229165315628, 0.00349811976775527, 0.07346051186323166, 0.06646427512168884, 0.9733946919441223, 0.9267135858535767, 0.9585397839546204, 0.9447747468948364, 0.1211162582039833, 0.034604646265506744, 0.6401859521865845, 0.1903255581855774, 0.9899266958236694, 0.9683284759521484, 0.977711021900177, 0.29788830876350403, 0.21706590056419373, 0.03001975268125534, 0.002309211762621999, 0.18935535848140717, 0.2632501423358917, 0.9764750003814697, 0.6394811868667603, 0.16906830668449402, 0.009636017493903637, 0.0017520032124593854, 0.07884014397859573, 0.10161618888378143, 0.9809393882751465, 0.08938612043857574, 0.1653643101453781, 0.41415566205978394, 0.1981392204761505, 0.11918149143457413, 0.013407917693257332, 0.9626068472862244, 0.3045111894607544, 0.1765282154083252, 0.4369073510169983, 0.055165067315101624, 0.008826411329209805, 0.015446219593286514, 0.9834572076797485, 0.30053436756134033, 0.24749888479709625, 0.03182128444314003, 0.003535698400810361, 0.10607095062732697, 0.3111414611339569, 0.9326188564300537, 0.057740677148103714, 0.9238508343696594, 0.8271324038505554, 0.9906201362609863, 0.017375115305185318, 0.017375115305185318, 0.9556313157081604, 0.9840531349182129, 0.24010655283927917, 0.35814934968948364, 0.3259819746017456, 0.02355112135410309, 0.025561582297086716, 0.02642320841550827, 0.9748552441596985, 0.020403021946549416, 0.28295770287513733, 0.5022901892662048, 0.14550575613975525, 0.033826060593128204, 0.014765344560146332, 0.9908414483070374, 0.9731429219245911, 0.10549553483724594, 0.10549553483724594, 0.7033035755157471, 0.0791216567158699, 0.9346175193786621, 0.8536063432693481, 0.9482631087303162, 0.9549995064735413, 0.012565783224999905, 0.012565783224999905, 0.012565783224999905, 0.13391946256160736, 0.16841387748718262, 0.16029754281044006, 0.4829217195510864, 0.05072707310318947, 0.0020290829706937075, 0.016379326581954956, 0.9827595949172974, 0.20494289696216583, 0.207724928855896, 0.37742879986763, 0.07882419228553772, 0.10757184028625488, 0.023183586075901985, 0.8986713886260986, 0.9942876696586609, 0.07071257382631302, 0.26999345421791077, 0.17356722056865692, 0.07714098691940308, 0.012856830842792988, 0.3985617756843567, 0.02075021341443062, 0.705507218837738, 0.031125320121645927, 0.03631287440657616, 0.01037510670721531, 0.19712702929973602, 0.8536785840988159, 0.057367075234651566, 0.27864009141921997, 0.11473415046930313, 0.04097648337483406, 0.08195296674966812, 0.43435072898864746, 0.01739823818206787, 0.05915401130914688, 0.03131683170795441, 0.09395048767328262, 0.09395048767328262, 0.7063685059547424, 0.14149940013885498, 0.4694051742553711, 0.16183464229106903, 0.14234669506549835, 0.04490699619054794, 0.03897588327527046, 0.03813190385699272, 0.8960996866226196, 0.07626380771398544, 0.9817427396774292, 0.042936909943819046, 0.12022334337234497, 0.8329760432243347, 0.9803321361541748, 0.9192843437194824, 0.8582767844200134, 0.04377888888120651, 0.03347797691822052, 0.24722197651863098, 0.48929348587989807, 0.15193849802017212, 0.03605320304632187, 0.9542095065116882, 0.1130559965968132, 0.1507413387298584, 0.0753706693649292, 0.06280888617038727, 0.5904035568237305, 0.2171739637851715, 0.7383914589881897, 0.9425532817840576, 0.9584639072418213, 0.11403390765190125, 0.021929597482085228, 0.21491004526615143, 0.03070143610239029, 0.6140286922454834, 0.004385919310152531, 0.9481566548347473, 0.45954465866088867, 0.23191973567008972, 0.1002122312784195, 0.028632067143917084, 0.15461315214633942, 0.025768859311938286, 0.8985036015510559, 0.34106892347335815, 0.3352315425872803, 0.09673348069190979, 0.08422484248876572, 0.10257084667682648, 0.04002764821052551, 0.7313180565834045, 0.20193110406398773, 0.010915195569396019, 0.010915195569396019, 0.021830391138792038, 0.021830391138792038, 0.9772306084632874, 0.9686323404312134, 0.8971067070960999, 0.07800927758216858, 0.9777930974960327, 0.5915988683700562, 0.22824031114578247, 0.041996218264102936, 0.0012172816786915064, 0.08825291693210602, 0.0480826236307621, 0.15400727093219757, 0.19668397307395935, 0.18555092811584473, 0.2931704521179199, 0.13174115121364594, 0.037110183387994766, 0.9189343452453613, 0.04176974296569824, 0.9722067713737488, 0.9271484017372131, 0.5220578908920288, 0.2469615340232849, 0.03126095235347748, 0.0015630476409569383, 0.1563047617673874, 0.042202286422252655, 0.07521709054708481, 0.03471557796001434, 0.7348130941390991, 0.1215045228600502, 0.01735778898000717, 0.011571859940886497, 0.3221268355846405, 0.2413952797651291, 0.3037424087524414, 0.013588475994765759, 0.08073153346776962, 0.03916678577661514, 0.04967335984110832, 0.014192388392984867, 0.8515433073043823, 0.04967335984110832, 0.028384776785969734, 0.4176948070526123, 0.1706710010766983, 0.013474025763571262, 0.015719696879386902, 0.2604978382587433, 0.123511902987957, 0.9205577969551086, 0.47942647337913513, 0.28980255126953125, 0.017889047041535378, 0.005963015835732222, 0.11806771159172058, 0.08944523334503174, 0.085140660405159, 0.20314262807369232, 0.2897769808769226, 0.31815722584724426, 0.09260914474725723, 0.011949566192924976, 0.1160503402352333, 0.3524041771888733, 0.3505813777446747, 0.12820219993591309, 0.015797428786754608, 0.037063196301460266, 0.392741322517395, 0.3066847622394562, 0.13457165658473969, 0.024835113435983658, 0.058911196887493134, 0.08259119093418121, 0.14229610562324524, 0.388942688703537, 0.0023716017603874207, 0.007114805281162262, 0.06166164577007294, 0.39842909574508667, 0.19618107378482819, 0.22327791154384613, 0.25579410791397095, 0.20268431305885315, 0.0704517662525177, 0.052025921642780304, 0.09637778997421265, 0.05930940806865692, 0.8451590538024902, 0.7669033408164978, 0.10154120624065399, 0.034737780690193176, 0.07749197632074356, 0.01603282243013382, 0.013732269406318665, 0.048062942922115326, 0.2334485799074173, 0.7003457546234131, 0.006866134703159332, 0.9194139838218689, 0.025213971734046936, 0.025213971734046936, 0.9329169988632202, 0.9709482192993164, 0.30183088779449463, 0.1937679797410965, 0.30431509017944336, 0.043473582714796066, 0.1055787056684494, 0.04968409612774849, 0.944715142250061, 0.7907642722129822, 0.10686003416776657, 0.021372007206082344, 0.03205801174044609, 0.053430017083883286, 0.03165147453546524, 0.9495443105697632, 0.9349498748779297, 0.035607900470495224, 0.925805389881134, 0.27914032340049744, 0.22925958037376404, 0.2800995707511902, 0.0901690348982811, 0.0729026272892952, 0.0479622557759285, 0.12840276956558228, 0.3679601848125458, 0.19739530980587006, 0.011498755775392056, 0.04024564474821091, 0.2548890709877014, 0.10388302057981491, 0.10746519267559052, 0.01791086606681347, 0.025075212121009827, 0.6841950416564941, 0.060896944254636765, 0.9832897186279297, 0.04412815347313881, 0.9266912341117859, 0.9443970918655396, 0.037775881588459015, 0.9506971836090088, 0.9818723201751709, 0.9717413783073425, 0.11111007630825043, 0.7521297335624695, 0.07692235708236694, 0.017093857750296593, 0.008546928875148296, 0.042734645307064056, 0.9796969890594482, 0.06627931445837021, 0.8450612425804138, 0.04970948398113251, 0.016569828614592552, 0.016569828614592552, 0.9681993126869202, 0.01587212085723877, 0.7434720993041992, 0.07679054886102676, 0.0034904794301837683, 0.07679054886102676, 0.1012239083647728, 0.07332286238670349, 0.2260788232088089, 0.16803155839443207, 0.41244110465049744, 0.03971655294299126, 0.08248822391033173, 0.36554771661758423, 0.21478509902954102, 0.14353427290916443, 0.1166861355304718, 0.051631033420562744, 0.10739254951477051, 0.6887721419334412, 0.17689776420593262, 0.007527564652264118, 0.06774807721376419, 0.052692949771881104, 0.9890856742858887, 0.9326098561286926, 0.014647637493908405, 0.2441272884607315, 0.20506691932678223, 0.5273149609565735, 0.009765091352164745, 0.14728017151355743, 0.15055306255817413, 0.5891206860542297, 0.026183143258094788, 0.08836810290813446, 0.42014166712760925, 0.32732686400413513, 0.02413184754550457, 0.002475061221048236, 0.07548937201499939, 0.15035997331142426, 0.1746981292963028, 0.24227005243301392, 0.2842964828014374, 0.19035503268241882, 0.051915012300014496, 0.056035250425338745, 0.03637170419096947, 0.8547350168228149, 0.018185852095484734, 0.07274340838193893, 0.9269641041755676, 0.8536138534545898, 0.024295471608638763, 0.9596710801124573, 0.012147735804319382, 0.955990731716156, 0.9920950531959534, 0.7505907416343689, 0.10851914435625076, 0.009043262340128422, 0.12660567462444305, 0.019522570073604584, 0.1411632001399994, 0.45202258229255676, 0.2958420217037201, 0.040546875447034836, 0.05105902999639511, 0.827186107635498, 0.994224488735199, 0.9843376874923706, 0.9336339831352234, 0.8782921433448792, 0.9192898869514465, 0.9862184524536133, 0.19305561482906342, 0.4325684607028961, 0.11769165843725204, 0.0010323829483240843, 0.07846110314130783, 0.17860224843025208, 0.9628758430480957, 0.3307517468929291, 0.2555809020996094, 0.08268793672323227, 0.025056950747966766, 0.047608207911252975, 0.25808659195899963, 0.3433833420276642, 0.2228979617357254, 0.10542470961809158, 0.030121345072984695, 0.05723055824637413, 0.24398289620876312, 0.9901425242424011, 0.0661456361413002, 0.9095025658607483, 0.01653640903532505, 0.15896371006965637, 0.33306682109832764, 0.02270910143852234, 0.46932142972946167, 0.02270910143852234, 0.08210977911949158, 0.5843770503997803, 0.258558452129364, 0.04891646280884743, 0.014849640429019928, 0.012229115702211857, 0.23510977625846863, 0.15816475450992584, 0.025648338720202446, 0.5471645593643188, 0.008549446240067482, 0.025648338720202446, 0.9527581930160522, 0.0913817286491394, 0.2679145932197571, 0.44652435183525085, 0.010384286753833294, 0.07892058044672012, 0.10384286940097809, 0.2705913782119751, 0.18718992173671722, 0.27615147829055786, 0.03521394729614258, 0.18348319828510284, 0.04633414000272751, 0.9893057346343994, 0.8536071181297302, 0.9649111032485962, 0.9266600012779236, 0.12855716049671173, 0.8356215953826904, 0.36076053977012634, 0.1909908801317215, 0.1131797805428505, 0.007073736283928156, 0.24758076667785645, 0.08252692222595215, 0.3488905429840088, 0.331691712141037, 0.11179238557815552, 0.04422555863857269, 0.05036799982190132, 0.11424936354160309, 0.9841225147247314, 0.11836930364370346, 0.8548893928527832, 0.013152144849300385, 0.19285720586776733, 0.020300759002566338, 0.0913534164428711, 0.05075189471244812, 0.5988723635673523, 0.040601518005132675, 0.01901237852871418, 0.9696312546730042, 0.41043367981910706, 0.09794440120458603, 0.1865607649087906, 0.009328038431704044, 0.01865607686340809, 0.2798411548137665, 0.8323943614959717, 0.14428168535232544, 0.011098591610789299, 0.6074451804161072, 0.13952523469924927, 0.025522908195853233, 0.001701527158729732, 0.07997177541255951, 0.14633134007453918, 0.32204288244247437, 0.32521572709083557, 0.04441970959305763, 0.0031728362664580345, 0.15070971846580505, 0.15467576682567596, 0.9770987629890442, 0.0456925593316555, 0.9138512015342712, 0.030239002779126167, 0.18899376690387726, 0.015119501389563084, 0.6954970359802246, 0.06803775578737259, 0.9868761301040649, 0.24977274239063263, 0.19426769018173218, 0.3474847674369812, 0.0751630887389183, 0.0930866003036499, 0.04047243297100067, 0.4933702051639557, 0.3399926722049713, 0.05227993056178093, 0.006232044659554958, 0.07790055871009827, 0.02977532520890236, 0.9764837622642517, 0.9620257019996643, 0.02861097827553749, 0.12874940037727356, 0.8154128789901733, 0.02861097827553749, 0.5981108546257019, 0.27659672498703003, 0.011820373125374317, 0.06146593764424324, 0.05200963839888573, 0.9764625430107117, 0.6118555665016174, 0.2684425711631775, 0.007255204487591982, 0.07980725169181824, 0.031439218670129776, 0.956353485584259, 0.13220876455307007, 0.2293713241815567, 0.4904050827026367, 0.09160351008176804, 0.04737279191613197, 0.008942822925746441, 0.06968647986650467, 0.9059242606163025, 0.14851878583431244, 0.31845855712890625, 0.17850816249847412, 0.035701632499694824, 0.0856839194893837, 0.23277464509010315, 0.08200889080762863, 0.11129777878522873, 0.08591407537460327, 0.0019525926327332854, 0.7068385481834412, 0.009762963280081749, 0.9644953608512878, 0.9257515668869019, 0.39391592144966125, 0.22738532721996307, 0.09875227510929108, 0.02077077515423298, 0.2062501460313797, 0.05283793434500694, 0.04628170281648636, 0.11036405712366104, 0.5375797748565674, 0.27413007616996765, 0.028481047600507736, 0.9326136112213135, 0.9685122966766357, 0.024833649396896362, 0.9542211890220642, 0.8909562826156616, 0.021730640903115273, 0.021730640903115273, 0.021730640903115273, 0.021730640903115273, 0.9825711250305176, 0.9868513345718384, 0.008292867802083492, 0.9498148560523987, 0.2416020929813385, 0.14340253174304962, 0.31018590927124023, 0.23536720871925354, 0.04676169529557228, 0.02338084764778614, 0.54908686876297, 0.31555119156837463, 0.02085139974951744, 0.013900932855904102, 0.08618578314781189, 0.015291026793420315, 0.03662580996751785, 0.8423936367034912, 0.10987742990255356, 0.12817467749118805, 0.1403817981481552, 0.6652876138687134, 0.024414224550127983, 0.0366213358938694, 0.006103556137531996, 0.9585596919059753, 0.9650824666023254, 0.08817758411169052, 0.017635516822338104, 0.18811216950416565, 0.052906546741724014, 0.6525141000747681, 0.0058785052970051765, 0.9662204384803772, 0.9505122900009155, 0.9472441077232361, 0.9265086054801941, 0.0630967989563942, 0.9254196882247925, 0.9745489358901978, 0.9649115800857544], \"Term\": [\"accept\", \"accept\", \"accept\", \"accept\", \"accept\", \"accept\", \"account\", \"account\", \"account\", \"account\", \"account\", \"account\", \"adapter\", \"adapter\", \"additionly\", \"address\", \"address\", \"address\", \"address\", \"address\", \"address\", \"advertiser\", \"advertiser\", \"advertiser\", \"advertiser\", \"advertising\", \"advertising\", \"advertising\", \"advertising\", \"advertising\", \"advertising\", \"agent\", \"agent\", \"agent\", \"agent\", \"agent\", \"aggregator\", \"aggregator\", \"agricultural\", \"agricultural\", \"algorithm\", \"algorithm\", \"algorithm\", \"algorithm\", \"algorithm\", \"algorithm\", \"andor_affiliate\", \"apk\", \"app\", \"app\", \"app\", \"app\", \"app\", \"applicaon\", \"application\", \"application\", \"application\", \"application\", \"application\", \"application\", \"approve\", \"approve\", \"approve\", \"approve\", \"approve\", \"asset\", \"asset\", \"asset\", \"asset\", \"asset\", \"atomicswap\", \"attack\", \"attack\", \"attack\", \"attack\", \"attack\", \"attack\", \"attacker\", \"attacker\", \"attacker\", \"attacker\", \"attacker\", \"attention\", \"attention\", \"attention\", \"attention\", \"attention\", \"attention\", \"attestor\", \"authentifier\", \"automaton\", \"average_rank\", \"awarerank\", \"ball\", \"ballot\", \"ballot\", \"bandwidth\", \"bandwidth\", \"bandwidth\", \"bandwidth\", \"bandwidth\", \"bandwidth\", \"bank\", \"bank\", \"bank\", \"bank\", \"bank\", \"bank\", \"barterdex\", \"base\", \"base\", \"base\", \"base\", \"base\", \"base\", \"befoul\", \"bit\", \"bit\", \"bit\", \"bit\", \"bit\", \"bit\", \"bitmap\", \"blaeb\", \"blaes\", \"block\", \"block\", \"block\", \"block\", \"block\", \"block\", \"blockchain\", \"blockchain\", \"blockchain\", \"blockchain\", \"blockchain\", \"blockchain\", \"blocker\", \"bobdeposit\", \"bridgechain\", \"broadcast\", \"broadcast\", \"broadcast\", \"broadcast\", \"broadcast\", \"broadcast\", \"business\", \"business\", \"business\", \"business\", \"business\", \"buyandburn\", \"buyer\", \"buyer\", \"buyer\", \"buyer\", \"buyer\", \"byte\", \"byte\", \"byte\", \"byte\", \"byzantine\", \"byzantine\", \"card\", \"card\", \"card\", \"card\", \"card\", \"cdp\", \"cdps\", \"chain\", \"chain\", \"chain\", \"chain\", \"chain\", \"chain\", \"change\", \"change\", \"change\", \"change\", \"change\", \"change\", \"channel\", \"channel\", \"channel\", \"channel\", \"channel\", \"channel\", \"check\", \"check\", \"check\", \"check\", \"check\", \"check\", \"child_chain\", \"child_chain\", \"chip\", \"chip\", \"chip\", \"chip\", \"chip\", \"chip\", \"clearinghouse\", \"clothing\", \"cloud\", \"cloud\", \"cloud\", \"cloud\", \"cloud\", \"cloud\", \"clusterer\", \"cognitive\", \"coin\", \"coin\", \"coin\", \"coin\", \"coin\", \"coin\", \"collateral\", \"collateral\", \"collateral\", \"collateral\", \"collateral\", \"commercialize\", \"commitment\", \"commitment\", \"commitment\", \"commitment\", \"commitment\", \"community\", \"community\", \"community\", \"community\", \"community\", \"community\", \"company\", \"company\", \"company\", \"company\", \"company\", \"company\", \"compute\", \"compute\", \"compute\", \"compute\", \"compute\", \"compute\", \"confidenti\", \"confidentiity\", \"consensus\", \"consensus\", \"consensus\", \"consensus\", \"consensus\", \"consensus\", \"consistent_cut\", \"constitution\", \"constitution\", \"constraint\", \"constraint\", \"constraint\", \"constraint\", \"constraint\", \"constraint\", \"consumer_apps\", \"consumer_brand\", \"contactmixin\", \"contract\", \"contract\", \"contract\", \"contract\", \"contract\", \"contract\", \"corpus\", \"cosignatory\", \"cosmetic\", \"cosmetic\", \"cost\", \"cost\", \"cost\", \"cost\", \"cost\", \"cost\", \"create\", \"create\", \"create\", \"create\", \"create\", \"create\", \"credentis\", \"crosschain\", \"crosschain\", \"crosschain\", \"crosschain\", \"crosschain\", \"crowdfunde\", \"crowdfunde\", \"crowdfunde\", \"crowdfunde\", \"crypto\", \"crypto\", \"crypto\", \"crypto\", \"crypto\", \"crypto\", \"cryptocurrency\", \"cryptocurrency\", \"cryptocurrency\", \"cryptocurrency\", \"cryptocurrency\", \"cryptocurrency\", \"curation\", \"curation\", \"currency\", \"currency\", \"currency\", \"currency\", \"currency\", \"currency\", \"curve\", \"curve\", \"curve\", \"curve\", \"curve\", \"customer\", \"customer\", \"customer\", \"customer\", \"customer\", \"daemon\", \"data\", \"data\", \"data\", \"data\", \"data\", \"data\", \"datum\", \"datum\", \"datum\", \"datum\", \"datum\", \"datum\", \"debt\", \"debt\", \"debt\", \"debt\", \"decentralize\", \"decentralize\", \"decentralize\", \"decentralize\", \"decentralize\", \"decentralize\", \"decentrization\", \"decentrize\", \"decentrize\", \"decommitment\", \"decouple_mode\", \"definer\", \"denomination\", \"denomination\", \"dent\", \"dent\", \"dent\", \"dent_wireless\", \"description\", \"description\", \"description\", \"description\", \"description\", \"description\", \"design\", \"design\", \"design\", \"design\", \"design\", \"design\", \"developer\", \"developer\", \"developer\", \"developer\", \"developer\", \"developer\", \"development\", \"development\", \"development\", \"development\", \"development\", \"development\", \"devpp\", \"dexfee\", \"dialogue\", \"dierent\", \"digital\", \"digital\", \"digital\", \"digital\", \"digital\", \"digital\", \"digix\", \"dip\", \"distribute\", \"distribute\", \"distribute\", \"distribute\", \"distribute\", \"distribute\", \"dollar\", \"dollar\", \"dollar\", \"dollar\", \"enclave\", \"enclave\", \"encode\", \"encode\", \"encode\", \"encode\", \"encode\", \"enterprise\", \"enterprise\", \"enterprise\", \"enterprise\", \"entrepreneur\", \"entrepreneur\", \"entrepreneur\", \"entrepreneur\", \"entry\", \"entry\", \"entry\", \"entry\", \"entry\", \"entry\", \"eosio_software\", \"epk\", \"epoch\", \"epoch\", \"epoch\", \"equipment\", \"equipment\", \"equipment\", \"equipment\", \"equipment\", \"eth\", \"eth\", \"eth\", \"event\", \"event\", \"event\", \"event\", \"event\", \"event\", \"ewallet\", \"exchange\", \"exchange\", \"exchange\", \"exchange\", \"exchange\", \"exchange\", \"extern\", \"factoid\", \"fastpath\", \"feature\", \"feature\", \"feature\", \"feature\", \"feature\", \"feature\", \"federation\", \"federation\", \"federation\", \"fee\", \"fee\", \"fee\", \"fee\", \"fee\", \"fee\", \"financi\", \"financi\", \"fog\", \"food\", \"food\", \"food\", \"food\", \"fork\", \"fork\", \"fork\", \"fork\", \"fork\", \"fork\", \"freeload\", \"function\", \"function\", \"function\", \"function\", \"function\", \"function\", \"functionity\", \"fund\", \"fund\", \"fund\", \"fund\", \"fund\", \"fund\", \"gamer\", \"ghot\", \"gorithm\", \"gorithm\", \"gorithm\", \"grammar\", \"guardian\", \"guardian\", \"guardian\", \"guardian\", \"hacompress\", \"happenedbefore\", \"harvest\", \"hash\", \"hash\", \"hash\", \"hash\", \"hash\", \"hash\", \"havven\", \"havven_holder\", \"header\", \"header\", \"header\", \"header\", \"header\", \"healthcare\", \"healthcare\", \"healthcare\", \"healthcare\", \"heartbeat\", \"heartbeat\", \"heartbeat\", \"hst\", \"hst\", \"hst\", \"hst\", \"hst\", \"hst\", \"identity\", \"identity\", \"identity\", \"identity\", \"identity\", \"identity\", \"iexec\", \"ignature\", \"ihah\", \"illbehave\", \"impairment\", \"include\", \"include\", \"include\", \"include\", \"include\", \"include\", \"industry\", \"industry\", \"industry\", \"industry\", \"industry\", \"inference\", \"inference\", \"inference\", \"infinite_loop\", \"informaon\", \"infrastructure\", \"infrastructure\", \"infrastructure\", \"infrastructure\", \"infrastructure\", \"infrastructure\", \"input\", \"input\", \"input\", \"input\", \"input\", \"input\", \"instantiate\", \"instantiate\", \"instantiate\", \"intact\", \"intact\", \"interchain\", \"interchain\", \"internet_the\", \"internet_the\", \"internet_the\", \"internet_the\", \"internet_the\", \"investment\", \"investment\", \"investment\", \"investment\", \"investment\", \"investor\", \"investor\", \"investor\", \"investor\", \"investor\", \"investor\", \"issue\", \"issue\", \"issue\", \"issue\", \"issue\", \"issue\", \"ivk\", \"keeper\", \"keeper\", \"keeper\", \"key\", \"key\", \"key\", \"key\", \"key\", \"key\", \"komodo\", \"lab\", \"lab\", \"lab\", \"lab\", \"layer\", \"layer\", \"layer\", \"layer\", \"layer\", \"layer\", \"legal\", \"legal\", \"legal\", \"legal\", \"legal\", \"linguistic\", \"load_regime\", \"loan_limit\", \"local_breakout\", \"logistic\", \"logistic\", \"logistic\", \"logistic\", \"loopchain\", \"love\", \"lrx\", \"management\", \"management\", \"management\", \"management\", \"management\", \"management\", \"margin_split\", \"market\", \"market\", \"market\", \"market\", \"market\", \"market\", \"membrane\", \"message\", \"message\", \"message\", \"message\", \"message\", \"message\", \"microblock\", \"miner\", \"miner\", \"miner\", \"miner\", \"miner\", \"miner\", \"mkr\", \"mobile\", \"mobile\", \"mobile\", \"mobile\", \"mobile\", \"mobile\", \"multicast\", \"multicollateral\", \"multicollateral\", \"multicriteria\", \"mut\", \"ne\", \"ne\", \"ne\", \"ned\", \"nerk\", \"nerk\", \"nerk\", \"nerk\", \"nerk\", \"nerk\", \"nition\", \"node\", \"node\", \"node\", \"node\", \"node\", \"node\", \"nomin\", \"nomin_price\", \"nonce\", \"nonce\", \"nonce\", \"nonce\", \"nonserial\", \"nonserial_unit\", \"normative_note\", \"notary\", \"notary\", \"notary\", \"notary\", \"note\", \"note\", \"note\", \"note\", \"note\", \"note\", \"note_commitment\", \"note_commitment\", \"number\", \"number\", \"number\", \"number\", \"number\", \"number\", \"oauth\", \"ochain\", \"offchain\", \"offchain\", \"offchain\", \"offchain\", \"offchain\", \"offchain\", \"onchain\", \"onchain\", \"onchain\", \"onchain\", \"onchain\", \"onchain\", \"operaon\", \"operator\", \"operator\", \"operator\", \"operator\", \"operator\", \"operator\", \"oracle\", \"oracle\", \"oracle\", \"oracle\", \"oracle\", \"oracle\", \"order\", \"order\", \"order\", \"order\", \"order\", \"order\", \"order_book\", \"order_book\", \"order_book\", \"orderre\", \"ote\", \"ote\", \"ote\", \"otecommit\", \"outlink_matrix\", \"outp\", \"output\", \"output\", \"output\", \"output\", \"output\", \"output\", \"ovk\", \"package\", \"package\", \"package\", \"package\", \"package\", \"panel\", \"panel\", \"parasite\", \"parcel\", \"parent\", \"parent\", \"parent\", \"parent\", \"parent\", \"parent\", \"parti_signature\", \"pay\", \"pay\", \"pay\", \"pay\", \"pay\", \"pay\", \"payload_payload\", \"payment\", \"payment\", \"payment\", \"payment\", \"payment\", \"payment\", \"person\", \"person\", \"person\", \"person\", \"person\", \"person\", \"peth\", \"pkd\", \"pki\", \"pki\", \"plaorm\", \"platform\", \"platform\", \"platform\", \"platform\", \"platform\", \"platform\", \"point\", \"point\", \"point\", \"point\", \"point\", \"point\", \"position_paper\", \"position_paper\", \"presale\", \"prev\", \"price\", \"price\", \"price\", \"price\", \"price\", \"price\", \"probability\", \"probability\", \"probability\", \"probability\", \"probability\", \"probability\", \"process\", \"process\", \"process\", \"process\", \"process\", \"process\", \"producer\", \"producer\", \"producer\", \"producer\", \"producer\", \"product\", \"product\", \"product\", \"product\", \"product\", \"product\", \"progencl\", \"project\", \"project\", \"project\", \"project\", \"project\", \"project\", \"proof\", \"proof\", \"proof\", \"proof\", \"proof\", \"proof\", \"protocol\", \"protocol\", \"protocol\", \"protocol\", \"protocol\", \"protocol\", \"provide\", \"provide\", \"provide\", \"provide\", \"provide\", \"provide\", \"provider\", \"provider\", \"provider\", \"provider\", \"provider\", \"provider\", \"public\", \"public\", \"public\", \"public\", \"public\", \"public\", \"publisher\", \"publisher\", \"publisher\", \"purchase\", \"purchase\", \"purchase\", \"purchase\", \"purchase\", \"quorum\", \"quorum\", \"quorum\", \"quorum\", \"quorum\", \"random_walk\", \"ratify\", \"ratify\", \"ratify\", \"rcm\", \"receive\", \"receive\", \"receive\", \"receive\", \"receive\", \"receive\", \"regation\", \"relay\", \"relay\", \"relay\", \"relay\", \"relay\", \"republic\", \"republic\", \"req\", \"requestor\", \"requestor\", \"require\", \"require\", \"require\", \"require\", \"require\", \"require\", \"resource\", \"resource\", \"resource\", \"resource\", \"resource\", \"resource\", \"review\", \"review\", \"review\", \"review\", \"review\", \"review\", \"ringminer\", \"roam\", \"roam\", \"robot\", \"robot\", \"root_frame\", \"root_graph\", \"roth\", \"rout\", \"rout\", \"rout\", \"rout\", \"rout\", \"rout\", \"rst\", \"runtime\", \"runtime\", \"runtime\", \"runtime\", \"runtime\", \"safecoin\", \"safecoin\", \"sale\", \"sale\", \"sale\", \"sale\", \"sale\", \"scheme\", \"scheme\", \"scheme\", \"scheme\", \"scheme\", \"scheme\", \"security\", \"security\", \"security\", \"security\", \"security\", \"security\", \"sell\", \"sell\", \"sell\", \"sell\", \"sell\", \"sentence\", \"seq\", \"sequence\", \"sequence\", \"sequence\", \"sequence\", \"sequence\", \"server\", \"server\", \"server\", \"server\", \"server\", \"service\", \"service\", \"service\", \"service\", \"service\", \"service\", \"set\", \"set\", \"set\", \"set\", \"set\", \"set\", \"sha\", \"sha\", \"sha\", \"sha\", \"sha_dig\", \"shadow\", \"shard\", \"shard\", \"shard\", \"shell\", \"shy\", \"sidechain\", \"sidechain\", \"sidechain\", \"sidechain\", \"signature\", \"signature\", \"signature\", \"signature\", \"signature\", \"signature\", \"sigska\", \"singularitynet\", \"skin\", \"skip\", \"skiplist\", \"slow_mode\", \"slowchain\", \"smart_contract\", \"smart_contract\", \"smart_contract\", \"smart_contract\", \"smart_contract\", \"smart_contract\", \"snt\", \"software\", \"software\", \"software\", \"software\", \"software\", \"software\", \"source\", \"source\", \"source\", \"source\", \"source\", \"source\", \"specication\", \"specie\", \"specie\", \"specie\", \"stability\", \"stability\", \"stability\", \"stability\", \"stability\", \"state\", \"state\", \"state\", \"state\", \"state\", \"state\", \"statement\", \"statement\", \"statement\", \"statement\", \"statement\", \"statement\", \"sticker\", \"storage\", \"storage\", \"storage\", \"storage\", \"storage\", \"storage\", \"store\", \"store\", \"store\", \"store\", \"store\", \"store\", \"subchain\", \"subdefinition\", \"subgroup\", \"subtangle\", \"subtask\", \"subtask\", \"supply\", \"supply\", \"supply\", \"supply\", \"supply\", \"supply\", \"support\", \"support\", \"support\", \"support\", \"support\", \"support\", \"symbolic\", \"synchronization\", \"synchronization\", \"synchronization\", \"tag\", \"tag\", \"tag\", \"tag\", \"tag\", \"tag\", \"tangle\", \"tangle\", \"task\", \"task\", \"task\", \"task\", \"task\", \"task\", \"tax\", \"tax\", \"tax\", \"team\", \"team\", \"team\", \"team\", \"team\", \"team\", \"technology\", \"technology\", \"technology\", \"technology\", \"technology\", \"technology\", \"telco\", \"tether\", \"tether\", \"theorem\", \"theorem\", \"theorem\", \"theorem\", \"theorem\", \"ticket\", \"time\", \"time\", \"time\", \"time\", \"time\", \"time\", \"token\", \"token\", \"token\", \"token\", \"token\", \"token\", \"tokenb\", \"tokenvet\", \"traceability\", \"traceability\", \"traceability\", \"traceability\", \"trade\", \"trade\", \"trade\", \"trade\", \"trade\", \"tradeo\", \"trading\", \"trading\", \"trading\", \"trading\", \"trading\", \"transacon\", \"transaction\", \"transaction\", \"transaction\", \"transaction\", \"transaction\", \"transaction\", \"trc\", \"trc\", \"trust\", \"trust\", \"trust\", \"trust\", \"trust\", \"trust\", \"unit\", \"unit\", \"unit\", \"unit\", \"unit\", \"unit\", \"unsupervised\", \"ure\", \"user\", \"user\", \"user\", \"user\", \"user\", \"user\", \"valid\", \"valid\", \"valid\", \"valid\", \"valid\", \"varint\", \"vault\", \"vault\", \"vblocke\", \"venture\", \"venture\", \"venture\", \"venture\", \"venture\", \"verication\", \"vertex\", \"vertex\", \"vested_balance\", \"vote\", \"vote\", \"vote\", \"vote\", \"vote\", \"vote\", \"wallet\", \"wallet\", \"wallet\", \"wallet\", \"wallet\", \"wallet\", \"warehouse\", \"warehouse\", \"warehouse\", \"weight\", \"weight\", \"weight\", \"weight\", \"weight\", \"weight\", \"widget\", \"width\", \"witness\", \"witness\", \"witness\", \"witness\", \"witness\", \"witness\", \"witness_list\", \"work_draft\", \"worker_pool\", \"yell\", \"yellow_paper\", \"yellow_paper\", \"zip\", \"zkar\"]}, \"R\": 30, \"lambda.step\": 0.01, \"plot.opts\": {\"xlab\": \"PC1\", \"ylab\": \"PC2\"}, \"topic.order\": [1, 3, 5, 6, 2, 4]};\n",
       "\n",
       "function LDAvis_load_lib(url, callback){\n",
       "  var s = document.createElement('script');\n",
       "  s.src = url;\n",
       "  s.async = true;\n",
       "  s.onreadystatechange = s.onload = callback;\n",
       "  s.onerror = function(){console.warn(\"failed to load library \" + url);};\n",
       "  document.getElementsByTagName(\"head\")[0].appendChild(s);\n",
       "}\n",
       "\n",
       "if(typeof(LDAvis) !== \"undefined\"){\n",
       "   // already loaded: just create the visualization\n",
       "   !function(LDAvis){\n",
       "       new LDAvis(\"#\" + \"ldavis_el45205851260804038820828\", ldavis_el45205851260804038820828_data);\n",
       "   }(LDAvis);\n",
       "}else if(typeof define === \"function\" && define.amd){\n",
       "   // require.js is available: use it to load d3/LDAvis\n",
       "   require.config({paths: {d3: \"https://cdnjs.cloudflare.com/ajax/libs/d3/3.5.5/d3.min\"}});\n",
       "   require([\"d3\"], function(d3){\n",
       "      window.d3 = d3;\n",
       "      LDAvis_load_lib(\"https://cdn.rawgit.com/bmabey/pyLDAvis/files/ldavis.v1.0.0.js\", function(){\n",
       "        new LDAvis(\"#\" + \"ldavis_el45205851260804038820828\", ldavis_el45205851260804038820828_data);\n",
       "      });\n",
       "    });\n",
       "}else{\n",
       "    // require.js not available: dynamically load d3 & LDAvis\n",
       "    LDAvis_load_lib(\"https://cdnjs.cloudflare.com/ajax/libs/d3/3.5.5/d3.min.js\", function(){\n",
       "         LDAvis_load_lib(\"https://cdn.rawgit.com/bmabey/pyLDAvis/files/ldavis.v1.0.0.js\", function(){\n",
       "                 new LDAvis(\"#\" + \"ldavis_el45205851260804038820828\", ldavis_el45205851260804038820828_data);\n",
       "            })\n",
       "         });\n",
       "}\n",
       "</script>"
      ],
      "text/plain": [
       "PreparedData(topic_coordinates=              x         y  topics  cluster       Freq\n",
       "topic                                                \n",
       "0      0.094163  0.015104       1        1  29.142883\n",
       "2      0.037576  0.024902       2        1  25.579363\n",
       "4     -0.067228  0.089738       3        1  18.925322\n",
       "5     -0.218228 -0.052991       4        1   9.594110\n",
       "1      0.056896  0.011465       5        1   9.534324\n",
       "3      0.096821 -0.088219       6        1   7.224004, topic_info=     Category         Freq            Term        Total  loglift  logprob\n",
       "91    Default  2777.000000           block  2777.000000  30.0000  30.0000\n",
       "595   Default  3724.000000            node  3724.000000  29.0000  29.0000\n",
       "239   Default  1803.000000           datum  1803.000000  28.0000  28.0000\n",
       "946   Default  4137.000000     transaction  4137.000000  27.0000  27.0000\n",
       "493   Default  1462.000000             key  1462.000000  26.0000  26.0000\n",
       "986   Default  2744.000000            user  2744.000000  25.0000  25.0000\n",
       "976   Default   512.000000            unit   512.000000  24.0000  24.0000\n",
       "832   Default  1616.000000         service  1616.000000  23.0000  23.0000\n",
       "59    Default  1518.000000           asset  1518.000000  22.0000  22.0000\n",
       "919   Default  1260.000000      technology  1260.000000  21.0000  21.0000\n",
       "45    Default  1342.000000     application  1342.000000  20.0000  20.0000\n",
       "423   Default   957.000000            hash   957.000000  19.0000  19.0000\n",
       "1083  Default   359.000000             bit   359.000000  18.0000  18.0000\n",
       "1132  Default   872.000000     development   872.000000  17.0000  17.0000\n",
       "6     Default  1155.000000         account  1155.000000  16.0000  16.0000\n",
       "1475  Default   842.000000        business   842.000000  15.0000  15.0000\n",
       "3016  Default   421.000000        provider   421.000000  14.0000  14.0000\n",
       "539   Default  1141.000000          market  1141.000000  13.0000  13.0000\n",
       "171   Default   533.000000         compute   533.000000  12.0000  12.0000\n",
       "867   Default   968.000000  smart_contract   968.000000  11.0000  11.0000\n",
       "2186  Default   287.000000          oracle   287.000000  10.0000  10.0000\n",
       "604   Default   492.000000            note   492.000000   9.0000   9.0000\n",
       "21    Default  1125.000000         address  1125.000000   8.0000   8.0000\n",
       "845   Default   665.000000       signature   665.000000   7.0000   7.0000\n",
       "183   Default  1278.000000       consensus  1278.000000   6.0000   6.0000\n",
       "2097  Default   423.000000           input   423.000000   5.0000   5.0000\n",
       "1385  Default  2888.000000           token  2888.000000   4.0000   4.0000\n",
       "716   Default  1645.000000        protocol  1645.000000   3.0000   3.0000\n",
       "670   Default  1643.000000        platform  1643.000000   2.0000   2.0000\n",
       "958   Default   700.000000           trust   700.000000   1.0000   1.0000\n",
       "...       ...          ...             ...          ...      ...      ...\n",
       "236    Topic6   127.221191            data   453.003845   1.3578  -5.3392\n",
       "958    Topic6   163.415207           trust   700.248108   1.1726  -5.0888\n",
       "792    Topic6   132.647995        resource   521.795593   1.2582  -5.2974\n",
       "568    Topic6    87.926430          mobile   282.829559   1.4594  -5.7086\n",
       "534    Topic6   114.337067      management   433.048218   1.2961  -5.4460\n",
       "45     Topic6   227.778931     application  1342.617310   0.8538  -4.7568\n",
       "870    Topic6   102.664574        software   399.090851   1.2700  -5.5537\n",
       "1132   Topic6   167.532852     development   872.262878   0.9778  -5.0639\n",
       "832    Topic6   242.982361         service  1616.121582   0.7330  -4.6921\n",
       "867    Topic6   172.749924  smart_contract   968.632812   0.9037  -5.0333\n",
       "919    Topic6   194.717606      technology  1260.701660   0.7599  -4.9136\n",
       "1475   Topic6   153.452164        business   842.674194   0.9246  -5.1517\n",
       "296    Topic6   147.307755      distribute   924.791748   0.7907  -5.1926\n",
       "1357   Topic6    80.922142          source   331.990479   1.2161  -5.7916\n",
       "282    Topic6   114.339348       developer   688.578125   0.8323  -5.4460\n",
       "916    Topic6    59.833794            task   214.407349   1.3515  -6.0936\n",
       "462    Topic6    80.960197        industry   431.308533   0.9549  -5.7912\n",
       "466    Topic6    84.362930  infrastructure   482.281616   0.8844  -5.7500\n",
       "718    Topic6   142.845749         provide  1731.419556   0.1328  -5.2234\n",
       "539    Topic6   116.213509          market  1141.550415   0.3430  -5.4297\n",
       "1103   Topic6    97.130402       community   720.356812   0.6241  -5.6091\n",
       "986    Topic6   144.544861            user  2744.240479  -0.3159  -5.2115\n",
       "823    Topic6   103.922913        security   968.409851   0.3958  -5.5415\n",
       "93     Topic6   134.216751      blockchain  3110.483887  -0.5153  -5.2857\n",
       "911    Topic6    93.192047         support   814.008911   0.4605  -5.6505\n",
       "917    Topic6    86.258263            team   587.707336   0.7089  -5.7278\n",
       "456    Topic6    93.702736         include  1141.281128   0.1280  -5.6450\n",
       "83     Topic6    90.552391            base  1211.972412   0.0337  -5.6792\n",
       "592    Topic6    91.951645            nerk  3481.787598  -1.0063  -5.6639\n",
       "1385   Topic6    86.290070           token  2888.297607  -0.8829  -5.7274\n",
       "\n",
       "[506 rows x 6 columns], token_table=       Topic      Freq          Term\n",
       "term                                \n",
       "1039       1  0.311444        accept\n",
       "1039       2  0.137667        accept\n",
       "1039       3  0.139924        accept\n",
       "1039       4  0.358838        accept\n",
       "1039       5  0.024825        accept\n",
       "1039       6  0.029339        accept\n",
       "6          1  0.190381       account\n",
       "6          2  0.115959       account\n",
       "6          3  0.606622       account\n",
       "6          4  0.010384       account\n",
       "6          5  0.066633       account\n",
       "6          6  0.009519       account\n",
       "5829       1  0.181904       adapter\n",
       "5829       6  0.788251       adapter\n",
       "5830       6  0.920556    additionly\n",
       "21         1  0.166192       address\n",
       "21         2  0.194631       address\n",
       "21         3  0.255064       address\n",
       "21         4  0.180411       address\n",
       "21         5  0.189298       address\n",
       "21         6  0.014220       address\n",
       "3751       1  0.019996    advertiser\n",
       "3751       2  0.019996    advertiser\n",
       "3751       4  0.099980    advertiser\n",
       "3751       5  0.839834    advertiser\n",
       "3752       1  0.190577   advertising\n",
       "3752       2  0.134525   advertising\n",
       "3752       3  0.011210   advertising\n",
       "3752       4  0.011210   advertising\n",
       "3752       5  0.638994   advertising\n",
       "...      ...       ...           ...\n",
       "1021       2  0.315551        wallet\n",
       "1021       3  0.020851        wallet\n",
       "1021       4  0.013901        wallet\n",
       "1021       5  0.086186        wallet\n",
       "1021       6  0.015291        wallet\n",
       "4479       1  0.036626     warehouse\n",
       "4479       5  0.842394     warehouse\n",
       "4479       6  0.109877     warehouse\n",
       "1022       1  0.128175        weight\n",
       "1022       2  0.140382        weight\n",
       "1022       3  0.665288        weight\n",
       "1022       4  0.024414        weight\n",
       "1022       5  0.036621        weight\n",
       "1022       6  0.006104        weight\n",
       "7850       1  0.958560        widget\n",
       "8710       2  0.965082         width\n",
       "1828       1  0.088178       witness\n",
       "1828       2  0.017636       witness\n",
       "1828       3  0.188112       witness\n",
       "1828       4  0.052907       witness\n",
       "1828       5  0.652514       witness\n",
       "1828       6  0.005879       witness\n",
       "12473      5  0.966220  witness_list\n",
       "4840       2  0.950512    work_draft\n",
       "10276      6  0.947244   worker_pool\n",
       "14968      3  0.926509          yell\n",
       "1035       2  0.063097  yellow_paper\n",
       "1035       3  0.925420  yellow_paper\n",
       "16865      4  0.974549           zip\n",
       "16871      4  0.964912          zkar\n",
       "\n",
       "[1276 rows x 3 columns], R=30, lambda_step=0.01, plot_opts={'xlab': 'PC1', 'ylab': 'PC2'}, topic_order=[1, 3, 5, 6, 2, 4])"
      ]
     },
     "execution_count": 79,
     "metadata": {},
     "output_type": "execute_result"
    }
   ],
   "source": [
    "import pyLDAvis.gensim\n",
    "pyLDAvis.enable_notebook()\n",
    "vis = pyLDAvis.gensim.prepare(lda_gensim, corpus_lda, dictionary=lda_gensim.id2word)\n",
    "vis"
   ]
  },
  {
   "cell_type": "code",
   "execution_count": 135,
   "metadata": {},
   "outputs": [
    {
     "name": "stderr",
     "output_type": "stream",
     "text": [
      "C:\\Users\\sj\\AppData\\Local\\Continuum\\anaconda3\\lib\\site-packages\\smart_open\\smart_open_lib.py:398: UserWarning: This function is deprecated, use smart_open.open instead. See the migration notes for details: https://github.com/RaRe-Technologies/smart_open/blob/master/README.rst#migrating-to-the-new-open-function\n",
      "  'See the migration notes for details: %s' % _MIGRATION_NOTES_URL\n",
      "C:\\Users\\sj\\AppData\\Local\\Continuum\\anaconda3\\lib\\site-packages\\smart_open\\smart_open_lib.py:398: UserWarning: This function is deprecated, use smart_open.open instead. See the migration notes for details: https://github.com/RaRe-Technologies/smart_open/blob/master/README.rst#migrating-to-the-new-open-function\n",
      "  'See the migration notes for details: %s' % _MIGRATION_NOTES_URL\n",
      "C:\\Users\\sj\\AppData\\Local\\Continuum\\anaconda3\\lib\\site-packages\\smart_open\\smart_open_lib.py:398: UserWarning: This function is deprecated, use smart_open.open instead. See the migration notes for details: https://github.com/RaRe-Technologies/smart_open/blob/master/README.rst#migrating-to-the-new-open-function\n",
      "  'See the migration notes for details: %s' % _MIGRATION_NOTES_URL\n",
      "C:\\Users\\sj\\AppData\\Local\\Continuum\\anaconda3\\lib\\site-packages\\smart_open\\smart_open_lib.py:398: UserWarning: This function is deprecated, use smart_open.open instead. See the migration notes for details: https://github.com/RaRe-Technologies/smart_open/blob/master/README.rst#migrating-to-the-new-open-function\n",
      "  'See the migration notes for details: %s' % _MIGRATION_NOTES_URL\n"
     ]
    }
   ],
   "source": [
    "#saving the trained lda\n",
    "from gensim.test.utils import datapath\n",
    "trained = datapath(\"trained_lda\")\n",
    "lda_gensim.save(trained)\n",
    "#loading the saved file\n",
    "trained_lda = gensim.models.ldamodel.LdaModel.load(trained)"
   ]
  },
  {
   "cell_type": "markdown",
   "metadata": {},
   "source": [
    "## 5 - Testing in unseen Document "
   ]
  },
  {
   "cell_type": "code",
   "execution_count": 136,
   "metadata": {},
   "outputs": [
    {
     "data": {
      "text/plain": [
       "dict_keys(['adcoin', 'budbo', 'kwattcoin', 'oceanprotocol'])"
      ]
     },
     "execution_count": 136,
     "metadata": {},
     "output_type": "execute_result"
    }
   ],
   "source": [
    "TEST_DIR = os.path.join(ROOT_DIR, \"test-white-papers\")\n",
    "testset = pdf2text.get_dataset(path=TEST_DIR)\n",
    "testset.keys()"
   ]
  },
  {
   "cell_type": "code",
   "execution_count": 131,
   "metadata": {},
   "outputs": [
    {
     "name": "stderr",
     "output_type": "stream",
     "text": [
      "[nltk_data] Downloading package punkt to\n",
      "[nltk_data]     C:\\Users\\sj\\AppData\\Roaming\\nltk_data...\n",
      "[nltk_data]   Package punkt is already up-to-date!\n",
      "[nltk_data] Downloading package stopwords to\n",
      "[nltk_data]     C:\\Users\\sj\\AppData\\Roaming\\nltk_data...\n",
      "[nltk_data]   Package stopwords is already up-to-date!\n",
      "[nltk_data] Downloading package averaged_perceptron_tagger to\n",
      "[nltk_data]     C:\\Users\\sj\\AppData\\Roaming\\nltk_data...\n",
      "[nltk_data]   Package averaged_perceptron_tagger is already up-to-\n",
      "[nltk_data]       date!\n",
      "[nltk_data] Downloading package wordnet to\n",
      "[nltk_data]     C:\\Users\\sj\\AppData\\Roaming\\nltk_data...\n",
      "[nltk_data]   Package wordnet is already up-to-date!\n",
      "[nltk_data] Error loading en_core_web_md: Package 'en_core_web_md' not\n",
      "[nltk_data]     found in index\n"
     ]
    },
    {
     "name": "stdout",
     "output_type": "stream",
     "text": [
      "Cleaning: adcoin\n",
      "Cleaning: budbo\n",
      "Cleaning: kwattcoin\n",
      "Cleaning: oceanprotocol\n",
      "Done!\n"
     ]
    }
   ],
   "source": [
    "#corpora segregated in terms of sentences \n",
    "corpora_test = corpus.makeCleanCorpus(testset, lemmatize=True, removePunct=True, removeNums=True, makeSentences=True, removeURL=True, removeChar= True, stops=['\\u200b'] )"
   ]
  },
  {
   "cell_type": "code",
   "execution_count": 137,
   "metadata": {},
   "outputs": [
    {
     "name": "stderr",
     "output_type": "stream",
     "text": [
      "[nltk_data] Downloading package punkt to\n",
      "[nltk_data]     C:\\Users\\sj\\AppData\\Roaming\\nltk_data...\n",
      "[nltk_data]   Package punkt is already up-to-date!\n",
      "[nltk_data] Downloading package stopwords to\n",
      "[nltk_data]     C:\\Users\\sj\\AppData\\Roaming\\nltk_data...\n",
      "[nltk_data]   Package stopwords is already up-to-date!\n",
      "[nltk_data] Downloading package averaged_perceptron_tagger to\n",
      "[nltk_data]     C:\\Users\\sj\\AppData\\Roaming\\nltk_data...\n",
      "[nltk_data]   Package averaged_perceptron_tagger is already up-to-\n",
      "[nltk_data]       date!\n",
      "[nltk_data] Downloading package wordnet to\n",
      "[nltk_data]     C:\\Users\\sj\\AppData\\Roaming\\nltk_data...\n",
      "[nltk_data]   Package wordnet is already up-to-date!\n",
      "[nltk_data] Error loading en_core_web_md: Package 'en_core_web_md' not\n",
      "[nltk_data]     found in index\n"
     ]
    },
    {
     "name": "stdout",
     "output_type": "stream",
     "text": [
      "Cleaning: adcoin\n",
      "Cleaning: budbo\n",
      "Cleaning: kwattcoin\n",
      "Cleaning: oceanprotocol\n",
      "Done!\n"
     ]
    }
   ],
   "source": [
    "#corpora segregated in terms of sentences \n",
    "corpora_test_whole = corpus.makeCleanCorpus(testset, lemmatize=True, removePunct=True, removeNums=True, makeSentences=False, removeURL=True, removeChar= True, stops=['\\u200b'] )"
   ]
  },
  {
   "cell_type": "code",
   "execution_count": 140,
   "metadata": {},
   "outputs": [
    {
     "data": {
      "text/html": [
       "<div>\n",
       "<style scoped>\n",
       "    .dataframe tbody tr th:only-of-type {\n",
       "        vertical-align: middle;\n",
       "    }\n",
       "\n",
       "    .dataframe tbody tr th {\n",
       "        vertical-align: top;\n",
       "    }\n",
       "\n",
       "    .dataframe thead th {\n",
       "        text-align: right;\n",
       "    }\n",
       "</style>\n",
       "<table border=\"1\" class=\"dataframe\">\n",
       "  <thead>\n",
       "    <tr style=\"text-align: right;\">\n",
       "      <th></th>\n",
       "      <th>whitepapers</th>\n",
       "    </tr>\n",
       "  </thead>\n",
       "  <tbody>\n",
       "    <tr>\n",
       "      <th>adcoin</th>\n",
       "      <td>version offer lot great opportunity technological advancement  adopt blockchain literally internet  dominant cryptocurrency lot problem internet p...</td>\n",
       "    </tr>\n",
       "    <tr>\n",
       "      <th>budbo</th>\n",
       "      <td>global cannabis comehensive solution cannabis indtry version web wwwio content forward statement                                       security la...</td>\n",
       "    </tr>\n",
       "    <tr>\n",
       "      <th>kwattcoin</th>\n",
       "      <td>newwhitepaper  disclaimer document document constitute prospectus sort solicitation investment  coin represent ownership share public private corp...</td>\n",
       "    </tr>\n",
       "    <tr>\n",
       "      <th>oceanprotocol</th>\n",
       "      <td>decentralize substrate service technical foundation ltd version apr paper  decentralize protocol nerk artificial intelligence dataservices  aim sp...</td>\n",
       "    </tr>\n",
       "  </tbody>\n",
       "</table>\n",
       "</div>"
      ],
      "text/plain": [
       "                                                                                                                                                         whitepapers\n",
       "adcoin         version offer lot great opportunity technological advancement  adopt blockchain literally internet  dominant cryptocurrency lot problem internet p...\n",
       "budbo          global cannabis comehensive solution cannabis indtry version web wwwio content forward statement                                       security la...\n",
       "kwattcoin      newwhitepaper  disclaimer document document constitute prospectus sort solicitation investment  coin represent ownership share public private corp...\n",
       "oceanprotocol  decentralize substrate service technical foundation ltd version apr paper  decentralize protocol nerk artificial intelligence dataservices  aim sp..."
      ]
     },
     "execution_count": 140,
     "metadata": {},
     "output_type": "execute_result"
    }
   ],
   "source": [
    "#Combining them and putting into pandas dataframe\n",
    "test_combined = {key:[combine_text(value)] for (key, value) in corpora_test.items()}\n",
    "pd.set_option('max_colwidth', 150)\n",
    "test_df = pd.DataFrame.from_dict(test_combined).transpose()\n",
    "test_df.columns = ['whitepapers']\n",
    "test_df = test_df.sort_index()\n",
    "test_df.head()"
   ]
  },
  {
   "cell_type": "code",
   "execution_count": 165,
   "metadata": {},
   "outputs": [],
   "source": [
    "#creating the list and tokenizing each word in the test corpus\n",
    "testdata = test_df.whitepapers.values.tolist()\n",
    "testdata_words = list(sent_to_words(testdata))"
   ]
  },
  {
   "cell_type": "code",
   "execution_count": 166,
   "metadata": {},
   "outputs": [],
   "source": [
    "test_data_ready = process_words(testdata_words)"
   ]
  },
  {
   "cell_type": "code",
   "execution_count": 167,
   "metadata": {},
   "outputs": [],
   "source": [
    "#Creating corpus and dictionary for gensim\n",
    "id2word_test = corpora.Dictionary(test_data_ready)\n",
    "corpus_lda_test = [id2word_test.doc2bow(text) for text in test_data_ready]\n",
    "unseen_doc = corpus_lda_test[0]\n"
   ]
  },
  {
   "cell_type": "code",
   "execution_count": 168,
   "metadata": {},
   "outputs": [],
   "source": [
    "#get topic probability distribution for a document\n",
    "vector = trained_lda[unseen_doc]\n",
    "x = trained_lda.update(corpus_lda_test)\n",
    "vector2 = trained_lda[unseen_doc]"
   ]
  },
  {
   "cell_type": "code",
   "execution_count": 194,
   "metadata": {},
   "outputs": [],
   "source": [
    "#lda with countvectorizer\n",
    "lda_test = gensim.models.ldamodel.LdaModel(corpus= corpus_lda_test,\n",
    "                                           id2word=id2word_test,\n",
    "                                           num_topics=4, \n",
    "                                           random_state=42,\n",
    "                                           update_every=1,\n",
    "                                           chunksize=100,\n",
    "                                           passes=40,\n",
    "                                           alpha='auto',\n",
    "                                           iterations=100,\n",
    "                                           per_word_topics=True)"
   ]
  },
  {
   "cell_type": "code",
   "execution_count": 195,
   "metadata": {},
   "outputs": [
    {
     "data": {
      "text/html": [
       "<div>\n",
       "<style scoped>\n",
       "    .dataframe tbody tr th:only-of-type {\n",
       "        vertical-align: middle;\n",
       "    }\n",
       "\n",
       "    .dataframe tbody tr th {\n",
       "        vertical-align: top;\n",
       "    }\n",
       "\n",
       "    .dataframe thead th {\n",
       "        text-align: right;\n",
       "    }\n",
       "</style>\n",
       "<table border=\"1\" class=\"dataframe\">\n",
       "  <thead>\n",
       "    <tr style=\"text-align: right;\">\n",
       "      <th></th>\n",
       "      <th>Topic # 01</th>\n",
       "      <th>Topic # 02</th>\n",
       "      <th>Topic # 03</th>\n",
       "      <th>Topic # 04</th>\n",
       "    </tr>\n",
       "  </thead>\n",
       "  <tbody>\n",
       "    <tr>\n",
       "      <th>0</th>\n",
       "      <td>cannabis</td>\n",
       "      <td>datum</td>\n",
       "      <td>service</td>\n",
       "      <td>advertising</td>\n",
       "    </tr>\n",
       "    <tr>\n",
       "      <th>1</th>\n",
       "      <td>token</td>\n",
       "      <td>service</td>\n",
       "      <td>datum</td>\n",
       "      <td>payment</td>\n",
       "    </tr>\n",
       "    <tr>\n",
       "      <th>2</th>\n",
       "      <td>business</td>\n",
       "      <td>nerk</td>\n",
       "      <td>nerk</td>\n",
       "      <td>online</td>\n",
       "    </tr>\n",
       "    <tr>\n",
       "      <th>3</th>\n",
       "      <td>platform</td>\n",
       "      <td>reward</td>\n",
       "      <td>reward</td>\n",
       "      <td>version</td>\n",
       "    </tr>\n",
       "    <tr>\n",
       "      <th>4</th>\n",
       "      <td>coin</td>\n",
       "      <td>access</td>\n",
       "      <td>token</td>\n",
       "      <td>wallet</td>\n",
       "    </tr>\n",
       "    <tr>\n",
       "      <th>5</th>\n",
       "      <td>global</td>\n",
       "      <td>token</td>\n",
       "      <td>access</td>\n",
       "      <td>market</td>\n",
       "    </tr>\n",
       "    <tr>\n",
       "      <th>6</th>\n",
       "      <td>blockchain</td>\n",
       "      <td>data</td>\n",
       "      <td>coin</td>\n",
       "      <td>team</td>\n",
       "    </tr>\n",
       "    <tr>\n",
       "      <th>7</th>\n",
       "      <td>industry</td>\n",
       "      <td>stake</td>\n",
       "      <td>market</td>\n",
       "      <td>publisher</td>\n",
       "    </tr>\n",
       "    <tr>\n",
       "      <th>8</th>\n",
       "      <td>inc</td>\n",
       "      <td>compute</td>\n",
       "      <td>user</td>\n",
       "      <td>transaction</td>\n",
       "    </tr>\n",
       "    <tr>\n",
       "      <th>9</th>\n",
       "      <td>user</td>\n",
       "      <td>publisher</td>\n",
       "      <td>feb</td>\n",
       "      <td>create</td>\n",
       "    </tr>\n",
       "  </tbody>\n",
       "</table>\n",
       "</div>"
      ],
      "text/plain": [
       "   Topic # 01 Topic # 02 Topic # 03   Topic # 04\n",
       "0    cannabis      datum    service  advertising\n",
       "1       token    service      datum      payment\n",
       "2    business       nerk       nerk       online\n",
       "3    platform     reward     reward      version\n",
       "4        coin     access      token       wallet\n",
       "5      global      token     access       market\n",
       "6  blockchain       data       coin         team\n",
       "7    industry      stake     market    publisher\n",
       "8         inc    compute       user  transaction\n",
       "9        user  publisher        feb       create"
      ]
     },
     "execution_count": 195,
     "metadata": {},
     "output_type": "execute_result"
    }
   ],
   "source": [
    "get_lda_topics(lda_test, 4)"
   ]
  },
  {
   "cell_type": "code",
   "execution_count": 196,
   "metadata": {},
   "outputs": [
    {
     "name": "stdout",
     "output_type": "stream",
     "text": [
      "\n",
      "Perplexity:  -7.045573738328915\n",
      "\n",
      "Coherence Score:  0.4333900928916227\n"
     ]
    }
   ],
   "source": [
    "# Compute Perplexity\n",
    "print('\\nPerplexity: ', lda_test.log_perplexity(corpus_lda_test))  # a measure of how good the model is. lower the better.\n",
    "\n",
    "# Compute Coherence Score\n",
    "coherence_model_lda = CoherenceModel(model=lda_test, texts=test_data_ready, dictionary=id2word_test, coherence='c_v')\n",
    "coherence_lda = coherence_model_lda.get_coherence()\n",
    "print('\\nCoherence Score: ', coherence_lda)"
   ]
  },
  {
   "cell_type": "markdown",
   "metadata": {},
   "source": [
    "### Dominant Topic and its Contribution"
   ]
  },
  {
   "cell_type": "code",
   "execution_count": 197,
   "metadata": {},
   "outputs": [
    {
     "data": {
      "text/html": [
       "<div>\n",
       "<style scoped>\n",
       "    .dataframe tbody tr th:only-of-type {\n",
       "        vertical-align: middle;\n",
       "    }\n",
       "\n",
       "    .dataframe tbody tr th {\n",
       "        vertical-align: top;\n",
       "    }\n",
       "\n",
       "    .dataframe thead th {\n",
       "        text-align: right;\n",
       "    }\n",
       "</style>\n",
       "<table border=\"1\" class=\"dataframe\">\n",
       "  <thead>\n",
       "    <tr style=\"text-align: right;\">\n",
       "      <th></th>\n",
       "      <th>Document_No</th>\n",
       "      <th>Dominant_Topic</th>\n",
       "      <th>Topic_Perc_Contrib</th>\n",
       "      <th>Keywords</th>\n",
       "      <th>Text</th>\n",
       "    </tr>\n",
       "  </thead>\n",
       "  <tbody>\n",
       "    <tr>\n",
       "      <th>0</th>\n",
       "      <td>0</td>\n",
       "      <td>3.0</td>\n",
       "      <td>1.0</td>\n",
       "      <td>advertising, payment, online, version, wallet, market, team, publisher, transaction, create</td>\n",
       "      <td>[version, offer, great, opportunity, adopt, blockchain, literally, internet, dominant, cryptocurrency, problem, internet, perform, payment, aim, i...</td>\n",
       "    </tr>\n",
       "    <tr>\n",
       "      <th>1</th>\n",
       "      <td>1</td>\n",
       "      <td>0.0</td>\n",
       "      <td>1.0</td>\n",
       "      <td>cannabis, token, business, platform, coin, global, blockchain, industry, inc, user</td>\n",
       "      <td>[global, cannabis, comehensive, solution, cannabis, indtry, version, web, wwwio, content, forward, statement, security, law, disclaimer, letter, k...</td>\n",
       "    </tr>\n",
       "    <tr>\n",
       "      <th>2</th>\n",
       "      <td>2</td>\n",
       "      <td>0.0</td>\n",
       "      <td>1.0</td>\n",
       "      <td>cannabis, token, business, platform, coin, global, blockchain, industry, inc, user</td>\n",
       "      <td>[newwhitepaper, disclaimer, document, document, sort, solicitation, investment, coin, represent, ownership, share, public, private, corporation, e...</td>\n",
       "    </tr>\n",
       "    <tr>\n",
       "      <th>3</th>\n",
       "      <td>3</td>\n",
       "      <td>1.0</td>\n",
       "      <td>1.0</td>\n",
       "      <td>datum, service, nerk, reward, access, token, data, stake, compute, publisher</td>\n",
       "      <td>[decentralize, substrate, service, technical, foundation, ltd, version, apr, paper, decentralize, protocol, nerk, dataservice, aim, spread, benefi...</td>\n",
       "    </tr>\n",
       "  </tbody>\n",
       "</table>\n",
       "</div>"
      ],
      "text/plain": [
       "   Document_No  Dominant_Topic  Topic_Perc_Contrib  \\\n",
       "0            0             3.0                 1.0   \n",
       "1            1             0.0                 1.0   \n",
       "2            2             0.0                 1.0   \n",
       "3            3             1.0                 1.0   \n",
       "\n",
       "                                                                                      Keywords  \\\n",
       "0  advertising, payment, online, version, wallet, market, team, publisher, transaction, create   \n",
       "1           cannabis, token, business, platform, coin, global, blockchain, industry, inc, user   \n",
       "2           cannabis, token, business, platform, coin, global, blockchain, industry, inc, user   \n",
       "3                 datum, service, nerk, reward, access, token, data, stake, compute, publisher   \n",
       "\n",
       "                                                                                                                                                    Text  \n",
       "0  [version, offer, great, opportunity, adopt, blockchain, literally, internet, dominant, cryptocurrency, problem, internet, perform, payment, aim, i...  \n",
       "1  [global, cannabis, comehensive, solution, cannabis, indtry, version, web, wwwio, content, forward, statement, security, law, disclaimer, letter, k...  \n",
       "2  [newwhitepaper, disclaimer, document, document, sort, solicitation, investment, coin, represent, ownership, share, public, private, corporation, e...  \n",
       "3  [decentralize, substrate, service, technical, foundation, ltd, version, apr, paper, decentralize, protocol, nerk, dataservice, aim, spread, benefi...  "
      ]
     },
     "execution_count": 197,
     "metadata": {},
     "output_type": "execute_result"
    }
   ],
   "source": [
    "df_topic_sents_keywords = format_topics_sentences(ldamodel=lda_test, corpus=corpus_lda_test, texts=test_data_ready)\n",
    "\n",
    "# Format\n",
    "df_dominant_topic = df_topic_sents_keywords.reset_index()\n",
    "df_dominant_topic.columns = ['Document_No', 'Dominant_Topic', 'Topic_Perc_Contrib', 'Keywords', 'Text']\n",
    "df_dominant_topic.head(10)"
   ]
  },
  {
   "cell_type": "code",
   "execution_count": 198,
   "metadata": {},
   "outputs": [
    {
     "name": "stderr",
     "output_type": "stream",
     "text": [
      "C:\\Users\\sj\\AppData\\Local\\Continuum\\anaconda3\\lib\\site-packages\\pyLDAvis\\_prepare.py:257: FutureWarning: Sorting because non-concatenation axis is not aligned. A future version\n",
      "of pandas will change to not sort by default.\n",
      "\n",
      "To accept the future behavior, pass 'sort=False'.\n",
      "\n",
      "To retain the current behavior and silence the warning, pass 'sort=True'.\n",
      "\n",
      "  return pd.concat([default_term_info] + list(topic_dfs))\n"
     ]
    },
    {
     "data": {
      "text/html": [
       "\n",
       "<link rel=\"stylesheet\" type=\"text/css\" href=\"https://cdn.rawgit.com/bmabey/pyLDAvis/files/ldavis.v1.0.0.css\">\n",
       "\n",
       "\n",
       "<div id=\"ldavis_el452021216525284598885906\"></div>\n",
       "<script type=\"text/javascript\">\n",
       "\n",
       "var ldavis_el452021216525284598885906_data = {\"mdsDat\": {\"x\": [0.1763500761722826, -0.08588942252688883, -0.07026350351841834, -0.020197150126975524], \"y\": [0.016781613069752874, 0.1250449258190369, -0.09819180935762072, -0.04363472953116903], \"topics\": [1, 2, 3, 4], \"cluster\": [1, 1, 1, 1], \"Freq\": [48.12723159790039, 44.57965850830078, 7.2930498123168945, 6.324585410766304e-05]}, \"tinfo\": {\"Category\": [\"Default\", \"Default\", \"Default\", \"Default\", \"Default\", \"Default\", \"Default\", \"Default\", \"Default\", \"Default\", \"Default\", \"Default\", \"Default\", \"Default\", \"Default\", \"Default\", \"Default\", \"Default\", \"Default\", \"Default\", \"Default\", \"Default\", \"Default\", \"Default\", \"Default\", \"Default\", \"Default\", \"Default\", \"Default\", \"Default\", \"Topic1\", \"Topic1\", \"Topic1\", \"Topic1\", \"Topic1\", \"Topic1\", \"Topic1\", \"Topic1\", \"Topic1\", \"Topic1\", \"Topic1\", \"Topic1\", \"Topic1\", \"Topic1\", \"Topic1\", \"Topic1\", \"Topic1\", \"Topic1\", \"Topic1\", \"Topic1\", \"Topic1\", \"Topic1\", \"Topic1\", \"Topic1\", \"Topic1\", \"Topic1\", \"Topic1\", \"Topic1\", \"Topic1\", \"Topic1\", \"Topic1\", \"Topic1\", \"Topic1\", \"Topic1\", \"Topic1\", \"Topic1\", \"Topic1\", \"Topic1\", \"Topic1\", \"Topic1\", \"Topic1\", \"Topic1\", \"Topic1\", \"Topic1\", \"Topic1\", \"Topic1\", \"Topic1\", \"Topic1\", \"Topic1\", \"Topic1\", \"Topic1\", \"Topic1\", \"Topic1\", \"Topic1\", \"Topic1\", \"Topic1\", \"Topic1\", \"Topic2\", \"Topic2\", \"Topic2\", \"Topic2\", \"Topic2\", \"Topic2\", \"Topic2\", \"Topic2\", \"Topic2\", \"Topic2\", \"Topic2\", \"Topic2\", \"Topic2\", \"Topic2\", \"Topic2\", \"Topic2\", \"Topic2\", \"Topic2\", \"Topic2\", \"Topic2\", \"Topic2\", \"Topic2\", \"Topic2\", \"Topic2\", \"Topic2\", \"Topic2\", \"Topic2\", \"Topic2\", \"Topic2\", \"Topic2\", \"Topic2\", \"Topic2\", \"Topic2\", \"Topic2\", \"Topic2\", \"Topic2\", \"Topic2\", \"Topic2\", \"Topic2\", \"Topic2\", \"Topic2\", \"Topic2\", \"Topic2\", \"Topic2\", \"Topic2\", \"Topic2\", \"Topic2\", \"Topic2\", \"Topic2\", \"Topic2\", \"Topic2\", \"Topic2\", \"Topic2\", \"Topic2\", \"Topic2\", \"Topic2\", \"Topic2\", \"Topic3\", \"Topic3\", \"Topic3\", \"Topic3\", \"Topic3\", \"Topic3\", \"Topic3\", \"Topic3\", \"Topic3\", \"Topic3\", \"Topic3\", \"Topic3\", \"Topic3\", \"Topic3\", \"Topic3\", \"Topic3\", \"Topic3\", \"Topic3\", \"Topic3\", \"Topic3\", \"Topic3\", \"Topic3\", \"Topic3\", \"Topic3\", \"Topic3\", \"Topic3\", \"Topic3\", \"Topic3\", \"Topic3\", \"Topic3\", \"Topic3\", \"Topic3\", \"Topic3\", \"Topic3\", \"Topic3\", \"Topic3\", \"Topic3\", \"Topic3\", \"Topic3\", \"Topic3\", \"Topic3\", \"Topic3\", \"Topic3\", \"Topic3\", \"Topic3\", \"Topic3\", \"Topic3\", \"Topic3\", \"Topic3\", \"Topic3\", \"Topic3\", \"Topic3\", \"Topic3\", \"Topic3\", \"Topic3\", \"Topic3\", \"Topic3\", \"Topic3\", \"Topic3\", \"Topic3\", \"Topic3\", \"Topic3\", \"Topic3\", \"Topic3\", \"Topic3\", \"Topic3\", \"Topic3\", \"Topic4\", \"Topic4\", \"Topic4\", \"Topic4\", \"Topic4\", \"Topic4\", \"Topic4\", \"Topic4\", \"Topic4\", \"Topic4\", \"Topic4\", \"Topic4\", \"Topic4\", \"Topic4\", \"Topic4\", \"Topic4\", \"Topic4\", \"Topic4\", \"Topic4\", \"Topic4\", \"Topic4\", \"Topic4\", \"Topic4\", \"Topic4\", \"Topic4\", \"Topic4\", \"Topic4\", \"Topic4\", \"Topic4\", \"Topic4\", \"Topic4\", \"Topic4\", \"Topic4\", \"Topic4\", \"Topic4\", \"Topic4\", \"Topic4\", \"Topic4\", \"Topic4\", \"Topic4\", \"Topic4\", \"Topic4\", \"Topic4\", \"Topic4\", \"Topic4\", \"Topic4\", \"Topic4\", \"Topic4\", \"Topic4\", \"Topic4\", \"Topic4\", \"Topic4\", \"Topic4\", \"Topic4\", \"Topic4\", \"Topic4\", \"Topic4\", \"Topic4\", \"Topic4\", \"Topic4\", \"Topic4\", \"Topic4\", \"Topic4\", \"Topic4\", \"Topic4\", \"Topic4\", \"Topic4\", \"Topic4\", \"Topic4\", \"Topic4\", \"Topic4\", \"Topic4\", \"Topic4\", \"Topic4\", \"Topic4\", \"Topic4\", \"Topic4\", \"Topic4\", \"Topic4\", \"Topic4\", \"Topic4\", \"Topic4\", \"Topic4\", \"Topic4\", \"Topic4\", \"Topic4\", \"Topic4\", \"Topic4\", \"Topic4\", \"Topic4\", \"Topic4\", \"Topic4\", \"Topic4\", \"Topic4\", \"Topic4\", \"Topic4\", \"Topic4\", \"Topic4\", \"Topic4\", \"Topic4\", \"Topic4\", \"Topic4\", \"Topic4\", \"Topic4\", \"Topic4\", \"Topic4\", \"Topic4\", \"Topic4\", \"Topic4\", \"Topic4\", \"Topic4\", \"Topic4\", \"Topic4\", \"Topic4\", \"Topic4\", \"Topic4\", \"Topic4\", \"Topic4\", \"Topic4\", \"Topic4\", \"Topic4\", \"Topic4\", \"Topic4\", \"Topic4\", \"Topic4\", \"Topic4\", \"Topic4\", \"Topic4\", \"Topic4\", \"Topic4\", \"Topic4\", \"Topic4\", \"Topic4\", \"Topic4\", \"Topic4\", \"Topic4\", \"Topic4\"], \"Freq\": [131.0, 39.0, 54.0, 130.0, 218.0, 65.0, 77.0, 106.0, 131.0, 208.0, 80.0, 99.0, 65.0, 216.0, 59.0, 71.0, 80.0, 67.0, 47.0, 53.0, 96.0, 48.0, 24.0, 26.0, 52.0, 32.0, 45.0, 56.0, 45.0, 27.0, 65.42728424072266, 45.224876403808594, 36.96023178100586, 36.04195785522461, 35.1236457824707, 29.613893508911133, 27.777339935302734, 26.859012603759766, 24.104150772094727, 24.104124069213867, 20.430973052978516, 19.5126953125, 18.59439468383789, 18.594379425048828, 17.67609405517578, 16.7578125, 16.7578067779541, 15.83952808380127, 15.83952522277832, 14.921225547790527, 14.921223640441895, 14.002936363220215, 45.224891662597656, 13.084656715393066, 12.166365623474121, 69.10038757324219, 37.878509521484375, 11.248059272766113, 11.248062133789062, 11.248055458068848, 125.1161880493164, 41.55171585083008, 34.205326080322266, 26.85902976989746, 26.859033584594727, 193.98822021484375, 54.407752990722656, 118.68814086914062, 174.70401000976562, 69.10047912597656, 177.45887756347656, 24.10414695739746, 50.734596252441406, 55.32603454589844, 40.63343048095703, 25.94073486328125, 41.55167770385742, 31.450490951538086, 38.796852111816406, 86.54820251464844, 37.878536224365234, 42.47010040283203, 46.14334487915039, 34.205421447753906, 36.96028137207031, 41.55181884765625, 34.20539855957031, 131.6067352294922, 76.86515808105469, 58.618064880371094, 53.143924713134766, 47.66978073120117, 41.28317642211914, 33.072044372558594, 28.51025390625, 51.31916046142578, 19.38665008544922, 18.474321365356445, 17.56194496154785, 16.64959716796875, 15.737252235412598, 14.8248929977417, 13.91252613067627, 13.912510871887207, 65.91695404052734, 13.000171661376953, 13.000167846679688, 13.000152587890625, 11.175463676452637, 11.175446510314941, 10.263093948364258, 10.263093948364258, 10.26308822631836, 10.263087272644043, 10.263086318969727, 10.263072967529297, 9.350736618041992, 76.8652114868164, 31.24726104736328, 75.95285034179688, 52.231563568115234, 88.72589111328125, 30.334976196289062, 27.597875595092773, 44.020355224609375, 28.51026153564453, 21.21140480041504, 23.036109924316406, 20.299047470092773, 66.8293228149414, 18.47431755065918, 95.11263275146484, 53.14400863647461, 56.793426513671875, 26.685537338256836, 33.07211685180664, 32.159706115722656, 28.510272979736328, 46.757476806640625, 27.5978946685791, 37.633907318115234, 38.54647445678711, 28.510284423828125, 27.5982608795166, 37.293094635009766, 3.933727502822876, 3.3043055534362793, 2.0454578399658203, 2.0454578399658203, 2.0454578399658203, 2.045457363128662, 2.045457601547241, 2.045457601547241, 2.0454578399658203, 1.4160300493240356, 1.4160300493240356, 1.4160300493240356, 1.4160302877426147, 1.4160300493240356, 1.4160298109054565, 1.416029930114746, 1.4160298109054565, 1.4160298109054565, 1.4160298109054565, 1.416029930114746, 1.416029930114746, 1.416029930114746, 1.4160298109054565, 1.4160295724868774, 15.26333236694336, 5.192578315734863, 16.52217674255371, 5.821999549865723, 3.933729410171509, 14.004487037658691, 8.339699745178223, 22.816448211669922, 10.857386589050293, 5.822007656097412, 7.710287094116211, 2.674889087677002, 2.6748857498168945, 2.6748850345611572, 2.6748850345611572, 8.969120025634766, 2.0454585552215576, 2.0454599857330322, 2.045459508895874, 2.045459508895874, 4.5631585121154785, 9.598554611206055, 8.969146728515625, 5.192593097686768, 13.375105857849121, 10.228049278259277, 7.08087158203125, 3.933742046356201, 8.339737892150879, 3.9337377548217773, 3.933734893798828, 3.9337387084960938, 4.563167572021484, 7.0808868408203125, 5.192605972290039, 5.822228908538818, 5.192625999450684, 3.933777093887329, 3.9337611198425293, 3.9337573051452637, 3.9337520599365234, 3.9337503910064697, 3.6816591091337614e-06, 3.6816591091337614e-06, 3.681658881760086e-06, 3.681658881760086e-06, 3.681658881760086e-06, 3.6816591091337614e-06, 3.681658881760086e-06, 3.6816591091337614e-06, 3.6816591091337614e-06, 3.6816591091337614e-06, 3.681658881760086e-06, 3.681658881760086e-06, 3.681658881760086e-06, 3.681658881760086e-06, 3.681658881760086e-06, 3.681658881760086e-06, 3.681658881760086e-06, 3.681658881760086e-06, 3.681658881760086e-06, 3.6816591091337614e-06, 3.6816591091337614e-06, 3.681658881760086e-06, 3.681658881760086e-06, 3.681658881760086e-06, 3.681658881760086e-06, 3.681658881760086e-06, 3.681658881760086e-06, 3.681658881760086e-06, 3.6816591091337614e-06, 3.6816591091337614e-06, 3.6816591091337614e-06, 3.681658881760086e-06, 3.681658881760086e-06, 3.681658881760086e-06, 3.681658881760086e-06, 3.6816591091337614e-06, 3.6816591091337614e-06, 3.6816591091337614e-06, 3.681658881760086e-06, 3.6816591091337614e-06, 3.6816591091337614e-06, 3.681658881760086e-06, 3.681658881760086e-06, 3.681658881760086e-06, 3.6816591091337614e-06, 3.681658881760086e-06, 3.6816591091337614e-06, 3.6816591091337614e-06, 3.6816591091337614e-06, 3.681658881760086e-06, 3.681658881760086e-06, 3.681658881760086e-06, 3.6816591091337614e-06, 3.6816591091337614e-06, 3.681658881760086e-06, 3.681658881760086e-06, 3.681658881760086e-06, 3.681658881760086e-06, 3.681658881760086e-06, 3.681658881760086e-06, 3.681658881760086e-06, 3.681658881760086e-06, 3.6816591091337614e-06, 3.6816591091337614e-06, 3.681658881760086e-06, 3.6816591091337614e-06, 3.681658881760086e-06, 3.681658881760086e-06, 3.6816591091337614e-06, 3.681658881760086e-06, 3.681658881760086e-06, 3.6816591091337614e-06, 3.681658881760086e-06, 3.6816591091337614e-06, 3.6816591091337614e-06, 3.6816591091337614e-06, 3.6816591091337614e-06, 3.6816591091337614e-06, 3.681658881760086e-06, 3.681658881760086e-06, 3.681658881760086e-06, 3.681658881760086e-06, 3.6816591091337614e-06, 3.6816591091337614e-06, 3.6816591091337614e-06, 3.681658881760086e-06, 3.681658881760086e-06, 3.681658881760086e-06, 3.681658881760086e-06, 3.681658881760086e-06, 3.681658881760086e-06, 3.681658881760086e-06, 3.681658881760086e-06, 3.681658881760086e-06, 3.681658881760086e-06, 3.681658881760086e-06, 3.681658881760086e-06, 3.681658881760086e-06, 3.6816591091337614e-06, 3.6816591091337614e-06, 3.681658881760086e-06, 3.681658881760086e-06, 3.681658881760086e-06, 3.6816591091337614e-06, 3.681658881760086e-06, 3.681658881760086e-06, 3.681658881760086e-06, 3.685613137349719e-06, 3.68510063708527e-06, 3.6843257475993596e-06, 3.684246848933981e-06, 3.683673867271864e-06, 3.683445129354368e-06, 3.6829487726208754e-06, 3.682940814542235e-06, 3.6829246710112784e-06, 3.682900342028006e-06, 3.6828041629632935e-06, 3.6827975691267056e-06, 3.682796659632004e-06, 3.682730039145099e-06, 3.6827129861194408e-06, 3.6826529594691237e-06, 3.6826329505856847e-06, 3.682617261802079e-06, 3.6826158975600265e-06, 3.682593160192482e-06, 3.6825831557507627e-06, 3.6825726965616923e-06, 3.6825106235482963e-06, 3.6824721973971464e-06, 3.682463329823804e-06, 3.682455144371488e-06, 3.682453098008409e-06, 3.682433998619672e-06, 3.682426950035733e-06, 3.6824260405410314e-06], \"Term\": [\"cannabis\", \"advertising\", \"payment\", \"reward\", \"datum\", \"publisher\", \"coin\", \"market\", \"access\", \"nerk\", \"platform\", \"business\", \"compute\", \"service\", \"inc\", \"stake\", \"global\", \"industry\", \"transaction\", \"wwwio\", \"blockchain\", \"dispensary\", \"online\", \"wallet\", \"sale\", \"cryptocurrency\", \"create\", \"product\", \"onchain\", \"team\", \"compute\", \"onchain\", \"metadata\", \"dataset\", \"curation\", \"datasetservice\", \"concern\", \"keeper\", \"drop\", \"node\", \"dataservice\", \"homepage\", \"clan\", \"permissionless\", \"architecture\", \"scientist\", \"curve\", \"eum\", \"onpremise\", \"file\", \"execution\", \"template\", \"actor\", \"computation\", \"interval\", \"stake\", \"marketplace\", \"cluster\", \"download\", \"science\", \"reward\", \"figure\", \"incentivize\", \"agreement\", \"incentive\", \"datum\", \"asset\", \"access\", \"nerk\", \"data\", \"service\", \"execute\", \"feb\", \"publisher\", \"proof\", \"common\", \"decentralize\", \"provider\", \"store\", \"token\", \"condition\", \"include\", \"market\", \"control\", \"provide\", \"user\", \"price\", \"cannabis\", \"coin\", \"inc\", \"wwwio\", \"dispensary\", \"energy\", \"federal\", \"marijuana\", \"sale\", \"revenue\", \"trading\", \"plant\", \"assurance\", \"adversely\", \"grower\", \"affect\", \"distribution\", \"industry\", \"crowdsale\", \"growth\", \"electricity\", \"compliance\", \"illegal\", \"estimate\", \"activity\", \"facility\", \"enforcement\", \"plan\", \"capacity\", \"match\", \"platform\", \"mining\", \"global\", \"product\", \"business\", \"law\", \"risk\", \"future\", \"operation\", \"experience\", \"track\", \"andor\", \"blockchain\", \"anticipate\", \"token\", \"web\", \"user\", \"result\", \"technology\", \"transaction\", \"event\", \"market\", \"company\", \"include\", \"service\", \"time\", \"nerk\", \"advertising\", \"fiat_currency\", \"gateway\", \"banner\", \"frustration\", \"advertise\", \"standal\", \"therefor\", \"email\", \"advertiser\", \"niche\", \"reinvest\", \"mtize\", \"dominant\", \"apipayment\", \"getadcoin\", \"payout\", \"van\", \"wait\", \"segwit\", \"regulator\", \"moderator\", \"magna\", \"category\", \"forecast\", \"version\", \"plugin\", \"online\", \"image\", \"perform\", \"wallet\", \"fee\", \"payment\", \"team\", \"integration\", \"pay\", \"extremely\", \"click\", \"contact\", \"convert\", \"cryptocurrency\", \"internet\", \"personal\", \"separate\", \"micro\", \"marketing\", \"transaction\", \"create\", \"big\", \"market\", \"publisher\", \"company\", \"content\", \"blockchain\", \"feature\", \"focus\", \"great\", \"increase\", \"web\", \"work\", \"nerk\", \"business\", \"address\", \"exchange\", \"people\", \"cost\", \"offer\", \"geek\", \"qrcode\", \"silent\", \"firmly\", \"calculation\", \"popup\", \"remark\", \"serial\", \"sleep\", \"paymentmethod\", \"facebook\", \"slow\", \"cheap\", \"smile\", \"speak\", \"specialism\", \"payto\", \"password\", \"speculate\", \"frequentlyused\", \"optimism\", \"batch\", \"billing\", \"optimistic\", \"overseas\", \"blogger\", \"pack\", \"winwin\", \"bot\", \"fraud_detection\", \"mille\", \"exotic\", \"brain\", \"wide_range\", \"wave\", \"brainstorm\", \"literally\", \"volume\", \"volatile\", \"breathe\", \"broadcast\", \"english\", \"wide_variety\", \"language\", \"talk\", \"explain\", \"maxim\", \"jeroen\", \"irrelevant\", \"variable\", \"trivial\", \"twitter\", \"hardfork\", \"countless\", \"custom\", \"dark\", \"debate\", \"detail\", \"detailed\", \"dijk\", \"guru\", \"hassle\", \"translate\", \"topic\", \"text\", \"banktransfer\", \"gravity\", \"goto\", \"targette\", \"genius\", \"awesome\", \"suspend\", \"surprise\", \"stabilize\", \"sponsorship\", \"headache\", \"holiday\", \"humantohuman\", \"ijzendoorn\", \"getcom\", \"influencer\", \"inhouse\", \"downloadable\", \"money\", \"eliminate\", \"conflict\", \"commission\", \"guy\", \"unlimited\", \"fork\", \"vlogger\", \"magazine\", \"valid\", \"userfriendly\", \"mtising\", \"philosophy\", \"periodic\", \"native\", \"necktoneck\", \"nerker\", \"normal\", \"mother\", \"primary\", \"mtizing\", \"winter\", \"multinational\", \"individuality\", \"service\", \"datum\", \"nerk\", \"reward\", \"token\", \"access\", \"coin\", \"market\", \"user\", \"feb\", \"stake\", \"publisher\", \"decentralize\", \"data\", \"include\", \"provide\", \"energy\", \"business\", \"blockchain\", \"design\", \"mining\", \"price\", \"compute\", \"onchain\", \"web\", \"key\", \"condition\", \"asset\", \"time\", \"supply\"], \"Total\": [131.0, 39.0, 54.0, 130.0, 218.0, 65.0, 77.0, 106.0, 131.0, 208.0, 80.0, 99.0, 65.0, 216.0, 59.0, 71.0, 80.0, 67.0, 47.0, 53.0, 96.0, 48.0, 24.0, 26.0, 52.0, 32.0, 45.0, 56.0, 45.0, 27.0, 65.81293487548828, 45.610450744628906, 37.345794677734375, 36.42750930786133, 35.509212493896484, 29.999446868896484, 28.162864685058594, 27.244558334350586, 24.48967742919922, 24.489669799804688, 20.816495895385742, 19.898204803466797, 18.97990608215332, 18.979904174804688, 18.06160545349121, 17.1433162689209, 17.1433162689209, 16.22502899169922, 16.22503089904785, 15.306726455688477, 15.30672550201416, 14.388434410095215, 46.52166748046875, 13.47014045715332, 12.551846504211426, 71.30977630615234, 39.17530822753906, 11.633543014526367, 11.633544921875, 11.63354206085205, 130.97523498535156, 43.195960998535156, 35.50212478637695, 28.155776977539062, 28.155784606933594, 218.44088745117188, 58.44186782836914, 131.8460693359375, 208.12451171875, 78.6087646484375, 216.79222106933594, 25.40088653564453, 59.33049392700195, 65.78225708007812, 46.49219512939453, 27.86672019958496, 49.23518753051758, 35.484500885009766, 51.73495864868164, 181.81829833984375, 50.12384796142578, 80.89065551757812, 106.27592468261719, 51.012481689453125, 65.0619888305664, 99.76136779785156, 63.56596374511719, 131.99403381347656, 77.25233459472656, 59.00518798828125, 53.5310173034668, 48.056861877441406, 41.67028045654297, 33.45909118652344, 28.897281646728516, 52.33552932739258, 19.773658752441406, 18.861312866210938, 17.94893455505371, 17.03658676147461, 16.124229431152344, 15.21186637878418, 14.299501419067383, 14.2995023727417, 67.85034942626953, 13.387141227722168, 13.387140274047852, 13.387125968933105, 11.562417984008789, 11.562417984008789, 10.650053977966309, 10.650055885314941, 10.650054931640625, 10.650053977966309, 10.650053977966309, 10.650042533874512, 9.737690925598145, 80.39935302734375, 32.55137634277344, 80.35250854492188, 56.682674407958984, 99.65702056884766, 33.475826263427734, 30.79007339477539, 52.43368148803711, 32.569400787353516, 23.48650360107422, 25.8878231048584, 22.521509170532227, 96.51852416992188, 20.6967830657959, 181.81829833984375, 85.24746704101562, 99.76136779785156, 34.758270263671875, 48.202308654785156, 47.49663162231445, 38.99750900268555, 106.27592468261719, 40.41714096069336, 80.89065551757812, 216.79222106933594, 55.28945541381836, 208.12451171875, 39.57445526123047, 4.3914008140563965, 3.761976957321167, 2.503127336502075, 2.5031275749206543, 2.5031275749206543, 2.5031275749206543, 2.5031278133392334, 2.5031278133392334, 2.5031278133392334, 1.8736990690231323, 1.8736990690231323, 1.8736990690231323, 1.8736990690231323, 1.8736990690231323, 1.8736993074417114, 1.8736991882324219, 1.8736993074417114, 1.8736993074417114, 1.8736993074417114, 1.8736991882324219, 1.8736993074417114, 1.8736991882324219, 1.8736995458602905, 1.8736993074417114, 20.292564392089844, 7.478516101837158, 24.28247833251953, 9.033482551574707, 6.215092182159424, 26.326610565185547, 15.187618255615234, 54.44071578979492, 27.747356414794922, 13.600263595581055, 23.741369247436523, 4.960822105407715, 4.960824489593506, 4.960824966430664, 4.968029975891113, 32.23487091064453, 3.414342164993286, 3.4201838970184326, 3.4201841354370117, 3.420184850692749, 13.235818862915039, 47.49663162231445, 45.09592056274414, 17.568265914916992, 106.27592468261719, 65.78225708007812, 40.41714096069336, 12.642129898071289, 96.51852416992188, 13.53674030303955, 14.43112850189209, 14.466910362243652, 23.30167579650879, 85.24746704101562, 44.07426834106445, 208.12451171875, 99.65702056884766, 35.593624114990234, 30.00082778930664, 31.867088317871094, 25.433080673217773, 26.315752029418945, 1.244257926940918, 1.244257926940918, 1.2442580461502075, 1.2442580461502075, 1.2442580461502075, 1.2442580461502075, 1.2442580461502075, 1.244258165359497, 1.244258165359497, 1.2442580461502075, 1.2442580461502075, 1.2442580461502075, 1.2442580461502075, 1.2442580461502075, 1.2442580461502075, 1.2442580461502075, 1.2442580461502075, 1.2442580461502075, 1.2442580461502075, 1.2442580461502075, 1.2442580461502075, 1.2442580461502075, 1.2442580461502075, 1.2442580461502075, 1.2442580461502075, 1.2442580461502075, 1.2442580461502075, 1.2442580461502075, 1.2442580461502075, 1.2442580461502075, 1.2442580461502075, 1.2442580461502075, 1.2442580461502075, 1.2442580461502075, 1.2442580461502075, 1.2442580461502075, 1.2442580461502075, 1.2442580461502075, 1.2442580461502075, 1.2442580461502075, 1.2442580461502075, 1.2442580461502075, 1.2442580461502075, 1.2442580461502075, 1.2442580461502075, 1.2442580461502075, 1.2442580461502075, 1.2442580461502075, 1.2442580461502075, 1.2442580461502075, 1.2442580461502075, 1.2442580461502075, 1.244258165359497, 1.2442580461502075, 1.2442580461502075, 1.2442580461502075, 1.2442580461502075, 1.2442580461502075, 1.2442580461502075, 1.2442580461502075, 1.2442580461502075, 1.2442580461502075, 1.2442580461502075, 1.2442580461502075, 1.2442580461502075, 1.2442580461502075, 1.2442580461502075, 1.2442580461502075, 1.2442580461502075, 1.2442580461502075, 1.2442580461502075, 1.2442580461502075, 1.2442580461502075, 1.244258165359497, 1.2442580461502075, 1.2442580461502075, 1.2442580461502075, 1.244258165359497, 1.2442580461502075, 1.2442580461502075, 1.2442580461502075, 1.2442580461502075, 1.244258165359497, 1.2442580461502075, 1.2442580461502075, 1.2442580461502075, 1.2442580461502075, 1.244258165359497, 1.2442580461502075, 1.2442580461502075, 1.244258165359497, 1.2442580461502075, 1.2442580461502075, 1.2442580461502075, 1.2442580461502075, 1.244258165359497, 1.244258165359497, 1.2442580461502075, 1.244258165359497, 1.2442580461502075, 1.2442580461502075, 1.2442580461502075, 1.244258165359497, 1.2442580461502075, 1.244258165359497, 1.2442580461502075, 1.244258165359497, 216.79222106933594, 218.44088745117188, 208.12451171875, 130.97523498535156, 181.81829833984375, 131.8460693359375, 77.25233459472656, 106.27592468261719, 99.76136779785156, 59.33049392700195, 71.30977630615234, 65.78225708007812, 49.23518753051758, 78.6087646484375, 80.89065551757812, 65.0619888305664, 41.67028045654297, 99.65702056884766, 96.51852416992188, 42.783409118652344, 32.55137634277344, 63.56596374511719, 65.81293487548828, 45.610450744628906, 85.24746704101562, 47.35115432739258, 50.12384796142578, 58.44186782836914, 55.28945541381836, 42.753753662109375], \"loglift\": [30.0, 29.0, 28.0, 27.0, 26.0, 25.0, 24.0, 23.0, 22.0, 21.0, 20.0, 19.0, 18.0, 17.0, 16.0, 15.0, 14.0, 13.0, 12.0, 11.0, 10.0, 9.0, 8.0, 7.0, 6.0, 5.0, 4.0, 3.0, 2.0, 1.0, 0.7253999710083008, 0.7228000164031982, 0.7208999991416931, 0.7207000255584717, 0.7203999757766724, 0.7184000015258789, 0.7174999713897705, 0.7171000242233276, 0.715499997138977, 0.715499997138977, 0.7125999927520752, 0.7117999792098999, 0.7107999920845032, 0.7107999920845032, 0.7096999883651733, 0.7085999846458435, 0.7085999846458435, 0.7073000073432922, 0.7073000073432922, 0.7057999968528748, 0.7057999968528748, 0.704200029373169, 0.7031000256538391, 0.7023000121116638, 0.7001000046730042, 0.6998000144958496, 0.697700023651123, 0.6976000070571899, 0.6976000070571899, 0.6976000070571899, 0.6855999827384949, 0.6924999952316284, 0.694100022315979, 0.6841999888420105, 0.6841999888420105, 0.6126000285148621, 0.6597999930381775, 0.6262000203132629, 0.5562999844551086, 0.602400004863739, 0.5310999751091003, 0.6789000034332275, 0.5748000144958496, 0.5582000017166138, 0.5965999960899353, 0.6596999764442444, 0.5616999864578247, 0.6105999946594238, 0.44350001215934753, -0.010999999940395355, 0.451200008392334, 0.08699999749660492, -0.10300000011920929, 0.33160001039505005, 0.16580000519752502, -0.1445000022649765, 0.11159999668598175, 0.8050000071525574, 0.8029000163078308, 0.8012999892234802, 0.800599992275238, 0.7997999787330627, 0.7986000180244446, 0.7962999939918518, 0.7943999767303467, 0.7882999777793884, 0.788100004196167, 0.7871999740600586, 0.7860999703407288, 0.7849000096321106, 0.7835999727249146, 0.7821000218391418, 0.7804999947547913, 0.7804999947547913, 0.7789999842643738, 0.7785999774932861, 0.7785999774932861, 0.7785999774932861, 0.7738999724388123, 0.7738999724388123, 0.7709000110626221, 0.7709000110626221, 0.7709000110626221, 0.7709000110626221, 0.7709000110626221, 0.7709000110626221, 0.767300009727478, 0.7628999948501587, 0.7670000195503235, 0.7516000270843506, 0.7261000275611877, 0.6916999816894531, 0.7093999981880188, 0.6984000205993652, 0.6330000162124634, 0.6747999787330627, 0.7059999704360962, 0.6912000179290771, 0.7039999961853027, 0.44029998779296875, 0.6942999958992004, 0.1598999947309494, 0.3352999985218048, 0.24449999630451202, 0.5436000227928162, 0.4311999976634979, 0.4178999960422516, 0.49470001459121704, -0.013199999928474426, 0.42640000581741333, 0.04270000010728836, -0.9192000031471252, 0.14560000598430634, -1.212499976158142, 2.5589001178741455, 2.50819993019104, 2.4885001182556152, 2.416300058364868, 2.416300058364868, 2.416300058364868, 2.416300058364868, 2.416300058364868, 2.416300058364868, 2.416300058364868, 2.338200092315674, 2.338200092315674, 2.338200092315674, 2.338200092315674, 2.338200092315674, 2.338200092315674, 2.338200092315674, 2.338200092315674, 2.338200092315674, 2.338200092315674, 2.338200092315674, 2.338200092315674, 2.338200092315674, 2.338200092315674, 2.338200092315674, 2.333400011062622, 2.2534000873565674, 2.2332000732421875, 2.178999900817871, 2.160900115966797, 1.9869999885559082, 2.0188000202178955, 1.7486000061035156, 1.6799999475479126, 1.7697999477386475, 1.4936000108718872, 2.0006000995635986, 2.0006000995635986, 2.0006000995635986, 1.9990999698638916, 1.3389999866485596, 2.1059000492095947, 2.1041998863220215, 2.1041998863220215, 2.1041998863220215, 1.5533000230789185, 1.0191999673843384, 1.0032000541687012, 1.399399995803833, 0.5455999970436096, 0.7570000290870667, 0.8763999938964844, 1.4507999420166016, 0.16949999332427979, 1.3824000358581543, 1.3184000253677368, 1.315999984741211, 0.9876999855041504, 0.13009999692440033, 0.4796000123023987, -0.9581999778747559, -0.3361999988555908, 0.4156999886035919, 0.5866000056266785, 0.5263000130653381, 0.751800000667572, 0.7177000045776367, 1.5429999828338623, 1.5429999828338623, 1.5429999828338623, 1.5429999828338623, 1.5429999828338623, 1.5429999828338623, 1.5429999828338623, 1.5429999828338623, 1.5429999828338623, 1.5429999828338623, 1.5429999828338623, 1.5429999828338623, 1.5429999828338623, 1.5429999828338623, 1.5429999828338623, 1.5429999828338623, 1.5429999828338623, 1.5429999828338623, 1.5429999828338623, 1.5429999828338623, 1.5429999828338623, 1.5429999828338623, 1.5429999828338623, 1.5429999828338623, 1.5429999828338623, 1.5429999828338623, 1.5429999828338623, 1.5429999828338623, 1.5429999828338623, 1.5429999828338623, 1.5429999828338623, 1.5429999828338623, 1.5429999828338623, 1.5429999828338623, 1.5429999828338623, 1.5429999828338623, 1.5429999828338623, 1.5429999828338623, 1.5429999828338623, 1.5429999828338623, 1.5429999828338623, 1.5429999828338623, 1.5429999828338623, 1.5429999828338623, 1.5429999828338623, 1.5429999828338623, 1.5429999828338623, 1.5429999828338623, 1.5429999828338623, 1.5429999828338623, 1.5429999828338623, 1.5429999828338623, 1.5429999828338623, 1.5429999828338623, 1.5429999828338623, 1.5429999828338623, 1.5429999828338623, 1.5429999828338623, 1.5429999828338623, 1.5429999828338623, 1.5429999828338623, 1.5429999828338623, 1.5429999828338623, 1.5429999828338623, 1.5429999828338623, 1.5429999828338623, 1.5429999828338623, 1.5429999828338623, 1.5429999828338623, 1.5429999828338623, 1.5429999828338623, 1.5429999828338623, 1.5429999828338623, 1.5429999828338623, 1.5429999828338623, 1.5429999828338623, 1.5429999828338623, 1.5429999828338623, 1.5429999828338623, 1.5429999828338623, 1.5429999828338623, 1.5429999828338623, 1.5429999828338623, 1.5429999828338623, 1.5429999828338623, 1.5429999828338623, 1.5429999828338623, 1.5429999828338623, 1.5429999828338623, 1.5429999828338623, 1.5429999828338623, 1.5429999828338623, 1.5429999828338623, 1.5429999828338623, 1.5429999828338623, 1.5429999828338623, 1.5429999828338623, 1.5429999828338623, 1.5429999828338623, 1.5429999828338623, 1.5429999828338623, 1.5429999828338623, 1.5429999828338623, 1.5429999828338623, 1.5429999828338623, 1.5429999828338623, 1.5429999828338623, -3.6164000034332275, -3.6240999698638916, -3.575900077819824, -3.112799882888794, -3.440999984741211, -3.1196000576019287, -2.585200071334839, -2.9042000770568848, -2.84089994430542, -2.3213000297546387, -2.505199909210205, -2.424499988555908, -2.1347999572753906, -2.6026999950408936, -2.6312999725341797, -2.413599967956543, -1.968000054359436, -2.8399999141693115, -2.808000087738037, -1.9944000244140625, -1.7210999727249146, -2.3903000354766846, -2.425100088119507, -2.0583999156951904, -2.683799982070923, -2.095900058746338, -2.1528000831604004, -2.306299924850464, -2.2509000301361084, -1.9937000274658203], \"logprob\": [30.0, 29.0, 28.0, 27.0, 26.0, 25.0, 24.0, 23.0, 22.0, 21.0, 20.0, 19.0, 18.0, 17.0, 16.0, 15.0, 14.0, 13.0, 12.0, 11.0, 10.0, 9.0, 8.0, 7.0, 6.0, 5.0, 4.0, 3.0, 2.0, 1.0, -4.838500022888184, -5.207799911499023, -5.409599781036377, -5.434700012207031, -5.4604997634887695, -5.631199836730957, -5.695199966430664, -5.728799819946289, -5.836999893188477, -5.836999893188477, -6.002399921417236, -6.048399925231934, -6.09660005569458, -6.09660005569458, -6.147200107574463, -6.2006001472473145, -6.2006001472473145, -6.256899833679199, -6.256899833679199, -6.3165998458862305, -6.3165998458862305, -6.380199909210205, -5.207799911499023, -6.447999954223633, -6.520699977874756, -4.783899784088135, -5.385000228881836, -6.5991997718811035, -6.5991997718811035, -6.5991997718811035, -4.190199851989746, -5.292500019073486, -5.486999988555908, -5.728799819946289, -5.728799819946289, -3.7516000270843506, -5.022900104522705, -4.2428998947143555, -3.856300115585327, -4.783899784088135, -3.8406999111175537, -5.836999893188477, -5.092800140380859, -5.006199836730957, -5.314799785614014, -5.763599872589111, -5.292500019073486, -5.571000099182129, -5.361100196838379, -4.558700084686279, -5.385000228881836, -5.270599842071533, -5.187699794769287, -5.486999988555908, -5.409599781036377, -5.292500019073486, -5.486999988555908, -4.063000202178955, -4.600800037384033, -4.871799945831299, -4.969799995422363, -5.07859992980957, -5.222400188446045, -5.444200038909912, -5.592599868774414, -5.004799842834473, -5.978300094604492, -6.026500225067139, -6.077099800109863, -6.130499839782715, -6.186800003051758, -6.246500015258789, -6.310100078582764, -6.310100078582764, -4.754499912261963, -6.377900123596191, -6.377900123596191, -6.377900123596191, -6.529099941253662, -6.529099941253662, -6.614299774169922, -6.614299774169922, -6.614299774169922, -6.614299774169922, -6.614299774169922, -6.614299774169922, -6.707399845123291, -4.600800037384033, -5.500899791717529, -4.61269998550415, -4.987199783325195, -4.457300186157227, -5.530600070953369, -5.625100135803223, -5.158199787139893, -5.592599868774414, -5.888299942016602, -5.805799961090088, -5.932300090789795, -4.740699768066406, -6.026500225067139, -4.387800216674805, -4.969799995422363, -4.90339994430542, -5.658699989318848, -5.444200038909912, -5.472099781036377, -5.592599868774414, -5.097899913787842, -5.625100135803223, -5.314899921417236, -5.290999889373779, -5.592599868774414, -5.625100135803223, -3.513700008392334, -5.762899875640869, -5.937300205230713, -6.416900157928467, -6.416900157928467, -6.416900157928467, -6.416900157928467, -6.416900157928467, -6.416900157928467, -6.416900157928467, -6.784599781036377, -6.784599781036377, -6.784599781036377, -6.784599781036377, -6.784599781036377, -6.784599781036377, -6.784599781036377, -6.784599781036377, -6.784599781036377, -6.784599781036377, -6.784599781036377, -6.784599781036377, -6.784599781036377, -6.784599781036377, -6.784599781036377, -4.4070000648498535, -5.485300064086914, -4.3277997970581055, -5.3709001541137695, -5.762899875640869, -4.493100166320801, -5.011499881744385, -4.005000114440918, -4.747600078582764, -5.3709001541137695, -5.089900016784668, -6.148600101470947, -6.148600101470947, -6.148600101470947, -6.148600101470947, -4.938700199127197, -6.416900157928467, -6.416900157928467, -6.416900157928467, -6.416900157928467, -5.614500045776367, -4.8709001541137695, -4.938700199127197, -5.485300064086914, -4.539100170135498, -4.807400226593018, -5.175099849700928, -5.762899875640869, -5.011499881744385, -5.762899875640869, -5.762899875640869, -5.762899875640869, -5.614500045776367, -5.175099849700928, -5.485300064086914, -5.370800018310547, -5.485300064086914, -5.762899875640869, -5.762899875640869, -5.762899875640869, -5.762899875640869, -5.762899875640869, -7.989200115203857, -7.989200115203857, -7.989200115203857, -7.989200115203857, -7.989200115203857, -7.989200115203857, -7.989200115203857, -7.989200115203857, -7.989200115203857, -7.989200115203857, -7.989200115203857, -7.989200115203857, -7.989200115203857, -7.989200115203857, -7.989200115203857, -7.989200115203857, -7.989200115203857, -7.989200115203857, -7.989200115203857, -7.989200115203857, -7.989200115203857, -7.989200115203857, -7.989200115203857, -7.989200115203857, -7.989200115203857, -7.989200115203857, -7.989200115203857, -7.989200115203857, -7.989200115203857, -7.989200115203857, -7.989200115203857, -7.989200115203857, -7.989200115203857, -7.989200115203857, -7.989200115203857, -7.989200115203857, -7.989200115203857, -7.989200115203857, -7.989200115203857, -7.989200115203857, -7.989200115203857, -7.989200115203857, -7.989200115203857, -7.989200115203857, -7.989200115203857, -7.989200115203857, -7.989200115203857, -7.989200115203857, -7.989200115203857, -7.989200115203857, -7.989200115203857, -7.989200115203857, -7.989200115203857, -7.989200115203857, -7.989200115203857, -7.989200115203857, -7.989200115203857, -7.989200115203857, -7.989200115203857, -7.989200115203857, -7.989200115203857, -7.989200115203857, -7.989200115203857, -7.989200115203857, -7.989200115203857, -7.989200115203857, -7.989200115203857, -7.989200115203857, -7.989200115203857, -7.989200115203857, -7.989200115203857, -7.989200115203857, -7.989200115203857, -7.989200115203857, -7.989200115203857, -7.989200115203857, -7.989200115203857, -7.989200115203857, -7.989200115203857, -7.989200115203857, -7.989200115203857, -7.989200115203857, -7.989200115203857, -7.989200115203857, -7.989200115203857, -7.989200115203857, -7.989200115203857, -7.989200115203857, -7.989200115203857, -7.989200115203857, -7.989200115203857, -7.989200115203857, -7.989200115203857, -7.989200115203857, -7.989200115203857, -7.989200115203857, -7.989200115203857, -7.989200115203857, -7.989200115203857, -7.989200115203857, -7.989200115203857, -7.989200115203857, -7.989200115203857, -7.989200115203857, -7.989200115203857, -7.989200115203857, -7.989200115203857, -7.9882001876831055, -7.98829984664917, -7.988500118255615, -7.988500118255615, -7.988699913024902, -7.988800048828125, -7.988900184631348, -7.988900184631348, -7.988900184631348, -7.988900184631348, -7.988900184631348, -7.988900184631348, -7.988900184631348, -7.988900184631348, -7.988999843597412, -7.988999843597412, -7.988999843597412, -7.988999843597412, -7.988999843597412, -7.988999843597412, -7.988999843597412, -7.988999843597412, -7.988999843597412, -7.988999843597412, -7.988999843597412, -7.988999843597412, -7.988999843597412, -7.988999843597412, -7.988999843597412, -7.988999843597412]}, \"token.table\": {\"Topic\": [1, 2, 2, 1, 2, 1, 2, 3, 2, 3, 3, 2, 3, 2, 1, 2, 1, 2, 1, 2, 3, 1, 1, 2, 2, 3, 3, 3, 3, 1, 2, 3, 3, 1, 2, 3, 3, 3, 3, 3, 3, 3, 1, 2, 3, 3, 2, 2, 3, 3, 1, 1, 2, 3, 1, 2, 3, 1, 2, 3, 1, 2, 3, 2, 1, 1, 1, 1, 2, 3, 1, 2, 3, 1, 2, 3, 1, 2, 1, 3, 1, 2, 3, 3, 1, 2, 3, 2, 2, 3, 1, 1, 3, 3, 1, 2, 1, 1, 1, 1, 2, 3, 3, 1, 2, 1, 2, 3, 3, 3, 2, 2, 3, 1, 3, 1, 2, 3, 3, 2, 2, 3, 2, 1, 1, 2, 1, 2, 3, 1, 2, 1, 3, 2, 3, 3, 1, 2, 3, 3, 2, 1, 2, 3, 1, 2, 2, 1, 2, 3, 3, 1, 3, 1, 3, 1, 2, 3, 3, 3, 3, 3, 3, 1, 2, 3, 3, 3, 3, 3, 3, 1, 2, 3, 3, 3, 1, 2, 3, 2, 2, 3, 3, 3, 3, 3, 3, 1, 3, 3, 2, 1, 3, 2, 1, 2, 1, 2, 1, 2, 3, 1, 2, 3, 3, 1, 2, 3, 3, 3, 1, 2, 3, 2, 3, 1, 3, 3, 1, 1, 2, 3, 1, 2, 3, 3, 3, 2, 1, 2, 3, 1, 2, 3, 1, 2, 2, 3, 1, 1, 3, 3, 1, 2, 3, 3, 3, 3, 3, 3, 3, 3, 3, 1, 2, 3, 3, 3, 1, 3, 1, 2, 3, 1, 1, 2, 3, 1, 1, 2, 3, 3, 3, 3, 3, 1, 2, 3, 1, 2, 3, 3, 3, 3, 1, 2, 3, 2, 3, 3, 1, 1, 3, 3, 2, 2, 2, 3, 1, 2, 3, 3, 1, 2, 3, 3, 1, 2, 3, 1, 2, 1, 2, 3, 1, 2, 1, 3, 3, 3, 3, 3, 1, 2, 3, 2, 1, 2, 1, 2, 3, 2, 3, 1, 1, 3, 1, 3, 3, 1, 2, 3, 3, 3, 3, 3, 3, 3, 3, 3, 3, 1, 2, 3, 1, 2, 3, 1, 2, 3, 3, 3, 3, 1, 2, 3, 1, 2, 3, 1, 3, 3, 1, 2, 3, 1, 2, 3, 1, 2, 3, 2, 1, 2, 3, 3, 3, 3, 3, 1, 2, 3, 3, 3, 3, 3, 1, 2, 3, 3, 3, 3, 3, 1, 2, 3, 3, 1, 2, 3, 3, 3, 3, 3, 1, 2, 3, 2], \"Freq\": [0.9025676846504211, 0.09859982877969742, 0.9389622211456299, 0.9672912359237671, 0.021495360881090164, 0.8147526383399963, 0.08428476005792618, 0.11237967759370804, 0.992295503616333, 0.7990004420280457, 0.7990003228187561, 0.05053764954209328, 0.9349465370178223, 0.9790551066398621, 0.9589506387710571, 0.03551669046282768, 0.08880399912595749, 0.8880399465560913, 0.09663337469100952, 0.8697003722190857, 0.533703625202179, 0.9965891242027283, 0.9239951372146606, 0.06844408065080643, 0.9978524446487427, 0.8036918044090271, 0.8036918044090271, 0.7990005016326904, 0.8036918044090271, 0.5122873187065125, 0.17076244950294495, 0.2846040725708008, 0.8036918044090271, 0.2175748199224472, 0.6941672563552856, 0.08288564532995224, 0.8036918044090271, 0.8036918044090271, 0.8036918044090271, 0.8036918044090271, 0.8036918044090271, 0.8036918044090271, 0.060206495225429535, 0.8930630087852478, 0.05017207935452461, 0.8036918044090271, 1.0000451803207397, 0.9389634132385254, 0.5337035059928894, 0.8036918044090271, 1.0010586977005005, 0.20157939195632935, 0.20157939195632935, 0.604738175868988, 0.9455416798591614, 0.9967336058616638, 0.8036918044090271, 0.9330125451087952, 0.035885099321603775, 0.035885099321603775, 0.14845186471939087, 0.6927753686904907, 0.17319384217262268, 0.9513580799102783, 0.9650976061820984, 0.9876477718353271, 0.994217038154602, 0.7581221461296082, 0.2394070029258728, 0.8036918044090271, 0.20157937705516815, 0.20157937705516815, 0.6047381162643433, 0.5537041425704956, 0.1582011878490448, 0.3164023756980896, 0.6665035486221313, 0.3332517743110657, 0.4025740623474121, 0.6038610935211182, 0.35386982560157776, 0.471826434135437, 0.1572754830121994, 0.8036918044090271, 0.31044936180114746, 0.48784899711608887, 0.19957458972930908, 0.9710811376571655, 0.7135130167007446, 0.2792007327079773, 0.9856597185134888, 0.9916400909423828, 0.8036918044090271, 0.8036918044090271, 0.8777647018432617, 0.1144910529255867, 0.9607765078544617, 0.9882640838623047, 1.0000184774398804, 0.8881121277809143, 0.10529164224863052, 0.004577897489070892, 0.8036918044090271, 0.8530484437942505, 0.16248542070388794, 0.724579930305481, 0.25710901618003845, 0.8036918044090271, 0.8036918044090271, 0.8036918044090271, 0.9988167881965637, 0.9790550470352173, 0.533703625202179, 0.9455415606498718, 0.8036917448043823, 0.9800047278404236, 0.9710822105407715, 0.8036918044090271, 0.7990003228187561, 0.9839146733283997, 0.9389623999595642, 0.8036918044090271, 0.9389623999595642, 0.9861307740211487, 0.2564266324043274, 0.7436372637748718, 0.333324134349823, 0.5333186388015747, 0.13332965970039368, 0.944848895072937, 0.039368703961372375, 0.9799613952636719, 0.8036918044090271, 0.894130527973175, 0.08515528589487076, 0.8036918044090271, 0.2015794962644577, 0.2015794962644577, 0.6047384738922119, 0.8036918044090271, 0.9389622807502747, 0.29549211263656616, 0.44323816895484924, 0.29549211263656616, 0.8595917224884033, 0.13483791053295135, 0.9862790107727051, 0.06584310531616211, 0.39505866169929504, 0.5267448425292969, 0.9108710885047913, 0.9723131060600281, 0.023150311782956123, 0.9799613356590271, 0.8036918044090271, 0.06929464638233185, 0.6236518621444702, 0.2771785855293274, 0.5337035655975342, 0.8036918044090271, 0.8036918044090271, 0.8036918044090271, 0.7990004420280457, 0.1144302636384964, 0.8391552567481995, 0.0572151318192482, 0.7974530458450317, 0.8036918640136719, 0.8036918044090271, 0.5337035655975342, 0.8036918044090271, 0.037335485219955444, 0.9458323121070862, 0.012445162050426006, 0.8036918044090271, 0.8036918044090271, 0.48386281728744507, 0.27649304270744324, 0.27649304270744324, 0.986072301864624, 0.9710811972618103, 0.8036918044090271, 0.8036917448043823, 0.8036917448043823, 0.8036918044090271, 0.8036918044090271, 0.8036918044090271, 1.0051157474517822, 0.8036917448043823, 0.8036918044090271, 0.9513580799102783, 0.3320978283882141, 0.6641956567764282, 0.9999120831489563, 0.9589503407478333, 0.03551667928695679, 0.9576891660690308, 0.028167327865958214, 0.5192194581031799, 0.4697699546813965, 0.01236236747354269, 0.25749221444129944, 0.5578997731208801, 0.2145768404006958, 0.8036917448043823, 0.01473831757903099, 0.972728967666626, 0.01473831757903099, 0.8036918044090271, 0.8036918044090271, 0.2941119372844696, 0.2941119372844696, 0.4411679208278656, 0.29288217425346375, 0.5857643485069275, 0.9560346603393555, 0.8036918044090271, 0.8036918044090271, 0.991023600101471, 0.6758018732070923, 0.316782146692276, 0.8036918044090271, 0.08961690962314606, 0.8961690664291382, 0.8036918044090271, 0.8036918044090271, 0.533703625202179, 1.0035545825958252, 0.43283557891845703, 0.4422450363636017, 0.12232309579849243, 0.0755525603890419, 0.6044204831123352, 0.3777627944946289, 0.9699987769126892, 0.02552628330886364, 0.9242437481880188, 0.8036918044090271, 0.9907407164573669, 0.2923818528652191, 0.5847637057304382, 0.8036918044090271, 0.0307206679135561, 0.9523406624794006, 0.5337035655975342, 0.8036918044090271, 0.8036918044090271, 0.8036918044090271, 0.533703625202179, 0.8036918044090271, 0.8036918044090271, 0.8036918044090271, 0.8036917448043823, 0.8408428430557251, 0.13453485071659088, 0.028828896582126617, 0.8036918044090271, 0.533703625202179, 0.9800050258636475, 0.8036918044090271, 0.1900002658367157, 0.6840009689331055, 0.15200021862983704, 0.9866160154342651, 0.041181959211826324, 0.2882736921310425, 0.7000932693481445, 0.9861306548118591, 0.12281466275453568, 0.8904063105583191, 0.8036918044090271, 0.8036918044090271, 0.8036918044090271, 0.8036918044090271, 0.8036918044090271, 0.42120569944381714, 0.25272342562675476, 0.33696454763412476, 0.4224779009819031, 0.14694884419441223, 0.4224779009819031, 0.8036918044090271, 0.533703625202179, 0.8036918044090271, 0.5334657430648804, 0.34518373012542725, 0.12552134692668915, 0.32179731130599976, 0.6435946226119995, 0.8036917448043823, 1.00105881690979, 0.2923819422721863, 0.5847638845443726, 0.8036917448043823, 0.9389623999595642, 1.002845048904419, 0.9577191472053528, 0.037313733249902725, 0.13371635973453522, 0.13371635973453522, 0.6685818433761597, 0.8036918044090271, 0.5348774194717407, 0.42475560307502747, 0.04719506949186325, 0.8036917448043823, 0.017642075195908546, 0.9173879027366638, 0.05292622372508049, 0.8818684220314026, 0.12905392050743103, 0.5686884522438049, 0.41498884558677673, 0.015369957312941551, 0.873620867729187, 0.11272527277469635, 0.8360916972160339, 0.15201666951179504, 0.8036918640136719, 0.533703625202179, 0.533703625202179, 0.8036918044090271, 0.20139092206954956, 0.7767935395240784, 0.02877013199031353, 0.9608742594718933, 0.9543789029121399, 0.04581018537282944, 0.03247800096869469, 0.90938401222229, 0.06495600193738937, 0.9744814038276672, 0.019107477739453316, 0.9455417990684509, 0.9916400909423828, 0.5337035655975342, 0.2923819124698639, 0.5847638249397278, 0.8036917448043823, 0.8164499402046204, 0.17989575862884521, 0.004612711723893881, 0.8036918044090271, 0.8036917448043823, 0.8036918044090271, 0.8036918044090271, 0.8036918044090271, 0.8036918044090271, 0.8036918044090271, 0.8036918044090271, 0.8036917448043823, 0.9676092863082886, 0.02804664522409439, 0.7990004420280457, 0.753842294216156, 0.19329290091991425, 0.057987868785858154, 0.6315234899520874, 0.374236136674881, 0.8036918044090271, 0.8036918044090271, 0.8036918044090271, 0.8036918044090271, 0.07207893580198288, 0.5405920147895813, 0.39643415808677673, 0.2696966230869293, 0.6846145391464233, 0.0414917878806591, 0.9730036854743958, 0.8036918044090271, 0.7990003228187561, 0.4340791404247284, 0.5245122909545898, 0.05425989255309105, 0.4784996807575226, 0.522499680519104, 0.8036918044090271, 0.07725639641284943, 0.8884485960006714, 0.03862819820642471, 0.9543344378471375, 0.12632474303245544, 0.6737319827079773, 0.2105412483215332, 0.8036918044090271, 0.8036918044090271, 0.8036918044090271, 0.8036918044090271, 0.42100465297698975, 0.5713634490966797, 0.010023919865489006, 0.8036918044090271, 0.8036918044090271, 0.5337035655975342, 0.8036918044090271, 0.09855826944112778, 0.14783740043640137, 0.7391870021820068, 0.8036917448043823, 0.8036918044090271, 0.8036918044090271, 0.5337035655975342, 0.03798438236117363, 0.41782820224761963, 0.5317813158035278, 0.8036918044090271, 0.29326385259628296, 0.6217193603515625, 0.08211387693881989, 0.8036918044090271, 0.8036918044090271, 0.8036917448043823, 0.8036918044090271, 0.385712593793869, 0.49915745854377747, 0.11344487965106964, 0.9900801777839661], \"Term\": [\"access\", \"access\", \"activity\", \"actor\", \"actor\", \"address\", \"address\", \"address\", \"adversely\", \"advertise\", \"advertiser\", \"advertising\", \"advertising\", \"affect\", \"agreement\", \"agreement\", \"andor\", \"andor\", \"anticipate\", \"anticipate\", \"apipayment\", \"architecture\", \"asset\", \"asset\", \"assurance\", \"awesome\", \"banktransfer\", \"banner\", \"batch\", \"big\", \"big\", \"big\", \"billing\", \"blockchain\", \"blockchain\", \"blockchain\", \"blogger\", \"bot\", \"brain\", \"brainstorm\", \"breathe\", \"broadcast\", \"business\", \"business\", \"business\", \"calculation\", \"cannabis\", \"capacity\", \"category\", \"cheap\", \"clan\", \"click\", \"click\", \"click\", \"cluster\", \"coin\", \"commission\", \"common\", \"common\", \"common\", \"company\", \"company\", \"company\", \"compliance\", \"computation\", \"compute\", \"concern\", \"condition\", \"condition\", \"conflict\", \"contact\", \"contact\", \"contact\", \"content\", \"content\", \"content\", \"control\", \"control\", \"convert\", \"convert\", \"cost\", \"cost\", \"cost\", \"countless\", \"create\", \"create\", \"create\", \"crowdsale\", \"cryptocurrency\", \"cryptocurrency\", \"curation\", \"curve\", \"custom\", \"dark\", \"data\", \"data\", \"dataservice\", \"dataset\", \"datasetservice\", \"datum\", \"datum\", \"datum\", \"debate\", \"decentralize\", \"decentralize\", \"design\", \"design\", \"detail\", \"detailed\", \"dijk\", \"dispensary\", \"distribution\", \"dominant\", \"download\", \"downloadable\", \"drop\", \"electricity\", \"eliminate\", \"email\", \"energy\", \"enforcement\", \"english\", \"estimate\", \"eum\", \"event\", \"event\", \"exchange\", \"exchange\", \"exchange\", \"execute\", \"execute\", \"execution\", \"exotic\", \"experience\", \"experience\", \"explain\", \"extremely\", \"extremely\", \"extremely\", \"facebook\", \"facility\", \"feature\", \"feature\", \"feature\", \"feb\", \"feb\", \"federal\", \"fee\", \"fee\", \"fee\", \"fiat_currency\", \"figure\", \"figure\", \"file\", \"firmly\", \"focus\", \"focus\", \"focus\", \"forecast\", \"fork\", \"fraud_detection\", \"frequentlyused\", \"frustration\", \"future\", \"future\", \"future\", \"gateway\", \"geek\", \"genius\", \"getadcoin\", \"getcom\", \"global\", \"global\", \"global\", \"goto\", \"gravity\", \"great\", \"great\", \"great\", \"grower\", \"growth\", \"guru\", \"guy\", \"hardfork\", \"hassle\", \"headache\", \"holiday\", \"homepage\", \"humantohuman\", \"ijzendoorn\", \"illegal\", \"image\", \"image\", \"inc\", \"incentive\", \"incentive\", \"incentivize\", \"incentivize\", \"include\", \"include\", \"include\", \"increase\", \"increase\", \"increase\", \"individuality\", \"industry\", \"industry\", \"industry\", \"influencer\", \"inhouse\", \"integration\", \"integration\", \"integration\", \"internet\", \"internet\", \"interval\", \"irrelevant\", \"jeroen\", \"keeper\", \"key\", \"key\", \"language\", \"law\", \"law\", \"literally\", \"magazine\", \"magna\", \"marijuana\", \"market\", \"market\", \"market\", \"marketing\", \"marketing\", \"marketing\", \"marketplace\", \"marketplace\", \"match\", \"maxim\", \"metadata\", \"micro\", \"micro\", \"mille\", \"mining\", \"mining\", \"moderator\", \"money\", \"mother\", \"mtising\", \"mtize\", \"mtizing\", \"multinational\", \"native\", \"necktoneck\", \"nerk\", \"nerk\", \"nerk\", \"nerker\", \"niche\", \"node\", \"normal\", \"offer\", \"offer\", \"offer\", \"onchain\", \"online\", \"online\", \"online\", \"onpremise\", \"operation\", \"operation\", \"optimism\", \"optimistic\", \"overseas\", \"pack\", \"password\", \"pay\", \"pay\", \"pay\", \"payment\", \"payment\", \"payment\", \"paymentmethod\", \"payout\", \"payto\", \"people\", \"people\", \"people\", \"perform\", \"perform\", \"periodic\", \"permissionless\", \"personal\", \"personal\", \"philosophy\", \"plan\", \"plant\", \"platform\", \"platform\", \"plugin\", \"plugin\", \"plugin\", \"popup\", \"price\", \"price\", \"price\", \"primary\", \"product\", \"product\", \"product\", \"proof\", \"proof\", \"provide\", \"provide\", \"provide\", \"provider\", \"provider\", \"publisher\", \"publisher\", \"qrcode\", \"regulator\", \"reinvest\", \"remark\", \"result\", \"result\", \"result\", \"revenue\", \"reward\", \"reward\", \"risk\", \"risk\", \"risk\", \"sale\", \"sale\", \"science\", \"scientist\", \"segwit\", \"separate\", \"separate\", \"serial\", \"service\", \"service\", \"service\", \"silent\", \"sleep\", \"slow\", \"smile\", \"speak\", \"specialism\", \"speculate\", \"sponsorship\", \"stabilize\", \"stake\", \"stake\", \"standal\", \"store\", \"store\", \"store\", \"supply\", \"supply\", \"surprise\", \"suspend\", \"talk\", \"targette\", \"team\", \"team\", \"team\", \"technology\", \"technology\", \"technology\", \"template\", \"text\", \"therefor\", \"time\", \"time\", \"time\", \"token\", \"token\", \"topic\", \"track\", \"track\", \"track\", \"trading\", \"transaction\", \"transaction\", \"transaction\", \"translate\", \"trivial\", \"twitter\", \"unlimited\", \"user\", \"user\", \"user\", \"userfriendly\", \"valid\", \"van\", \"variable\", \"version\", \"version\", \"version\", \"vlogger\", \"volatile\", \"volume\", \"wait\", \"wallet\", \"wallet\", \"wallet\", \"wave\", \"web\", \"web\", \"web\", \"wide_range\", \"wide_variety\", \"winter\", \"winwin\", \"work\", \"work\", \"work\", \"wwwio\"]}, \"R\": 30, \"lambda.step\": 0.01, \"plot.opts\": {\"xlab\": \"PC1\", \"ylab\": \"PC2\"}, \"topic.order\": [2, 1, 4, 3]};\n",
       "\n",
       "function LDAvis_load_lib(url, callback){\n",
       "  var s = document.createElement('script');\n",
       "  s.src = url;\n",
       "  s.async = true;\n",
       "  s.onreadystatechange = s.onload = callback;\n",
       "  s.onerror = function(){console.warn(\"failed to load library \" + url);};\n",
       "  document.getElementsByTagName(\"head\")[0].appendChild(s);\n",
       "}\n",
       "\n",
       "if(typeof(LDAvis) !== \"undefined\"){\n",
       "   // already loaded: just create the visualization\n",
       "   !function(LDAvis){\n",
       "       new LDAvis(\"#\" + \"ldavis_el452021216525284598885906\", ldavis_el452021216525284598885906_data);\n",
       "   }(LDAvis);\n",
       "}else if(typeof define === \"function\" && define.amd){\n",
       "   // require.js is available: use it to load d3/LDAvis\n",
       "   require.config({paths: {d3: \"https://cdnjs.cloudflare.com/ajax/libs/d3/3.5.5/d3.min\"}});\n",
       "   require([\"d3\"], function(d3){\n",
       "      window.d3 = d3;\n",
       "      LDAvis_load_lib(\"https://cdn.rawgit.com/bmabey/pyLDAvis/files/ldavis.v1.0.0.js\", function(){\n",
       "        new LDAvis(\"#\" + \"ldavis_el452021216525284598885906\", ldavis_el452021216525284598885906_data);\n",
       "      });\n",
       "    });\n",
       "}else{\n",
       "    // require.js not available: dynamically load d3 & LDAvis\n",
       "    LDAvis_load_lib(\"https://cdnjs.cloudflare.com/ajax/libs/d3/3.5.5/d3.min.js\", function(){\n",
       "         LDAvis_load_lib(\"https://cdn.rawgit.com/bmabey/pyLDAvis/files/ldavis.v1.0.0.js\", function(){\n",
       "                 new LDAvis(\"#\" + \"ldavis_el452021216525284598885906\", ldavis_el452021216525284598885906_data);\n",
       "            })\n",
       "         });\n",
       "}\n",
       "</script>"
      ],
      "text/plain": [
       "PreparedData(topic_coordinates=              x         y  topics  cluster       Freq\n",
       "topic                                                \n",
       "1      0.176350  0.016782       1        1  48.127232\n",
       "0     -0.085889  0.125045       2        1  44.579659\n",
       "3     -0.070264 -0.098192       3        1   7.293050\n",
       "2     -0.020197 -0.043635       4        1   0.000063, topic_info=     Category        Freq            Term       Total  loglift  logprob\n",
       "674   Default  131.000000        cannabis  131.000000  30.0000  30.0000\n",
       "17    Default   39.000000     advertising   39.000000  29.0000  29.0000\n",
       "333   Default   54.000000         payment   54.000000  28.0000  28.0000\n",
       "1536  Default  130.000000          reward  130.000000  27.0000  27.0000\n",
       "123   Default  218.000000           datum  218.000000  26.0000  26.0000\n",
       "376   Default   65.000000       publisher   65.000000  25.0000  25.0000\n",
       "720   Default   77.000000            coin   77.000000  24.0000  24.0000\n",
       "282   Default  106.000000          market  106.000000  23.0000  23.0000\n",
       "530   Default  131.000000          access  131.000000  22.0000  22.0000\n",
       "306   Default  208.000000            nerk  208.000000  21.0000  21.0000\n",
       "347   Default   80.000000        platform   80.000000  20.0000  20.0000\n",
       "64    Default   99.000000        business   99.000000  19.0000  19.0000\n",
       "2165  Default   65.000000         compute   65.000000  18.0000  18.0000\n",
       "431   Default  216.000000         service  216.000000  17.0000  17.0000\n",
       "1100  Default   59.000000             inc   59.000000  16.0000  16.0000\n",
       "1611  Default   71.000000           stake   71.000000  15.0000  15.0000\n",
       "210   Default   80.000000          global   80.000000  14.0000  14.0000\n",
       "246   Default   67.000000        industry   67.000000  13.0000  13.0000\n",
       "487   Default   47.000000     transaction   47.000000  12.0000  12.0000\n",
       "1812  Default   53.000000           wwwio   53.000000  11.0000  11.0000\n",
       "53    Default   96.000000      blockchain   96.000000  10.0000  10.0000\n",
       "871   Default   48.000000      dispensary   48.000000   9.0000   9.0000\n",
       "316   Default   24.000000          online   24.000000   8.0000   8.0000\n",
       "513   Default   26.000000          wallet   26.000000   7.0000   7.0000\n",
       "414   Default   52.000000            sale   52.000000   6.0000   6.0000\n",
       "115   Default   32.000000  cryptocurrency   32.000000   5.0000   5.0000\n",
       "111   Default   45.000000          create   45.000000   4.0000   4.0000\n",
       "368   Default   56.000000         product   56.000000   3.0000   3.0000\n",
       "2573  Default   45.000000         onchain   45.000000   2.0000   2.0000\n",
       "476   Default   27.000000            team   27.000000   1.0000   1.0000\n",
       "...       ...         ...             ...         ...      ...      ...\n",
       "431    Topic4    0.000004         service  216.792221  -3.6164  -7.9882\n",
       "123    Topic4    0.000004           datum  218.440887  -3.6241  -7.9883\n",
       "306    Topic4    0.000004            nerk  208.124512  -3.5759  -7.9885\n",
       "1536   Topic4    0.000004          reward  130.975235  -3.1128  -7.9885\n",
       "1697   Topic4    0.000004           token  181.818298  -3.4410  -7.9887\n",
       "530    Topic4    0.000004          access  131.846069  -3.1196  -7.9888\n",
       "720    Topic4    0.000004            coin   77.252335  -2.5852  -7.9889\n",
       "282    Topic4    0.000004          market  106.275925  -2.9042  -7.9889\n",
       "500    Topic4    0.000004            user   99.761368  -2.8409  -7.9889\n",
       "991    Topic4    0.000004             feb   59.330494  -2.3213  -7.9889\n",
       "1611   Topic4    0.000004           stake   71.309776  -2.5052  -7.9889\n",
       "376    Topic4    0.000004       publisher   65.782257  -2.4245  -7.9889\n",
       "828    Topic4    0.000004    decentralize   49.235188  -2.1348  -7.9889\n",
       "819    Topic4    0.000004            data   78.608765  -2.6027  -7.9889\n",
       "241    Topic4    0.000004         include   80.890656  -2.6313  -7.9890\n",
       "374    Topic4    0.000004         provide   65.061989  -2.4136  -7.9890\n",
       "923    Topic4    0.000004          energy   41.670280  -1.9680  -7.9890\n",
       "64     Topic4    0.000004        business   99.657021  -2.8400  -7.9890\n",
       "53     Topic4    0.000004      blockchain   96.518524  -2.8080  -7.9890\n",
       "851    Topic4    0.000004          design   42.783409  -1.9944  -7.9890\n",
       "1943   Topic4    0.000004          mining   32.551376  -1.7211  -7.9890\n",
       "361    Topic4    0.000004           price   63.565964  -2.3903  -7.9890\n",
       "2165   Topic4    0.000004         compute   65.812935  -2.4251  -7.9890\n",
       "2573   Topic4    0.000004         onchain   45.610451  -2.0584  -7.9890\n",
       "516    Topic4    0.000004             web   85.247467  -2.6838  -7.9890\n",
       "1171   Topic4    0.000004             key   47.351154  -2.0959  -7.9890\n",
       "751    Topic4    0.000004       condition   50.123848  -2.1528  -7.9890\n",
       "611    Topic4    0.000004           asset   58.441868  -2.3063  -7.9890\n",
       "481    Topic4    0.000004            time   55.289455  -2.2509  -7.9890\n",
       "1656   Topic4    0.000004          supply   42.753754  -1.9937  -7.9890\n",
       "\n",
       "[348 rows x 6 columns], token_table=      Topic      Freq          Term\n",
       "term                               \n",
       "530       1  0.902568        access\n",
       "530       2  0.098600        access\n",
       "546       2  0.938962      activity\n",
       "1815      1  0.967291         actor\n",
       "1815      2  0.021495         actor\n",
       "8         1  0.814753       address\n",
       "8         2  0.084285       address\n",
       "8         3  0.112380       address\n",
       "561       2  0.992296     adversely\n",
       "14        3  0.799000     advertise\n",
       "16        3  0.799000    advertiser\n",
       "17        2  0.050538   advertising\n",
       "17        3  0.934947   advertising\n",
       "564       2  0.979055        affect\n",
       "568       1  0.958951     agreement\n",
       "568       2  0.035517     agreement\n",
       "583       1  0.088804         andor\n",
       "583       2  0.888040         andor\n",
       "587       1  0.096633    anticipate\n",
       "587       2  0.869700    anticipate\n",
       "26        3  0.533704    apipayment\n",
       "2063      1  0.996589  architecture\n",
       "611       1  0.923995         asset\n",
       "611       2  0.068444         asset\n",
       "615       2  0.997852     assurance\n",
       "41        3  0.803692       awesome\n",
       "45        3  0.803692  banktransfer\n",
       "46        3  0.799001        banner\n",
       "48        3  0.803692         batch\n",
       "50        1  0.512287           big\n",
       "...     ...       ...           ...\n",
       "497       3  0.803692     unlimited\n",
       "500       1  0.421005          user\n",
       "500       2  0.571363          user\n",
       "500       3  0.010024          user\n",
       "501       3  0.803692  userfriendly\n",
       "502       3  0.803692         valid\n",
       "503       3  0.533704           van\n",
       "504       3  0.803692      variable\n",
       "506       1  0.098558       version\n",
       "506       2  0.147837       version\n",
       "506       3  0.739187       version\n",
       "509       3  0.803692       vlogger\n",
       "510       3  0.803692      volatile\n",
       "511       3  0.803692        volume\n",
       "512       3  0.533704          wait\n",
       "513       1  0.037984        wallet\n",
       "513       2  0.417828        wallet\n",
       "513       3  0.531781        wallet\n",
       "515       3  0.803692          wave\n",
       "516       1  0.293264           web\n",
       "516       2  0.621719           web\n",
       "516       3  0.082114           web\n",
       "519       3  0.803692    wide_range\n",
       "520       3  0.803692  wide_variety\n",
       "521       3  0.803692        winter\n",
       "522       3  0.803692        winwin\n",
       "523       1  0.385713          work\n",
       "523       2  0.499157          work\n",
       "523       3  0.113445          work\n",
       "1812      2  0.990080         wwwio\n",
       "\n",
       "[418 rows x 3 columns], R=30, lambda_step=0.01, plot_opts={'xlab': 'PC1', 'ylab': 'PC2'}, topic_order=[2, 1, 4, 3])"
      ]
     },
     "execution_count": 198,
     "metadata": {},
     "output_type": "execute_result"
    }
   ],
   "source": [
    "import pyLDAvis.gensim\n",
    "pyLDAvis.enable_notebook()\n",
    "vis = pyLDAvis.gensim.prepare(lda_test, corpus_lda_test, dictionary=lda_test.id2word)\n",
    "vis"
   ]
  },
  {
   "cell_type": "markdown",
   "metadata": {},
   "source": [
    "### References:\n",
    "\n",
    "https://www.analyticsvidhya.com/blog/2016/08/beginners-guide-to-topic-modeling-in-python/ \n",
    "\n",
    "https://towardsdatascience.com/topic-modeling-and-latent-dirichlet-allocation-in-python-9bf156893c24\n",
    "\n",
    "https://github.com/susanli2016/NLP-with-Python/blob/master/LDA_news_headlines.ipynb\n",
    "\n",
    "https://medium.com/mlreview/topic-modeling-with-scikit-learn-e80d33668730\n",
    "\n",
    "https://medium.com/@lettier/how-does-lda-work-ill-explain-using-emoji-108abf40fa7d\n",
    "\n",
    "https://medium.com/@tomar.ankur287/topic-modeling-using-lda-and-gibbs-sampling-explained-49d49b3d1045\n",
    "\n",
    "https://www.kdnuggets.com/2018/08/topic-modeling-lsa-plsa-lda-lda2vec.html\n",
    "\n"
   ]
  },
  {
   "cell_type": "code",
   "execution_count": null,
   "metadata": {},
   "outputs": [],
   "source": []
  }
 ],
 "metadata": {
  "kernelspec": {
   "display_name": "Python 3",
   "language": "python",
   "name": "python3"
  },
  "language_info": {
   "codemirror_mode": {
    "name": "ipython",
    "version": 3
   },
   "file_extension": ".py",
   "mimetype": "text/x-python",
   "name": "python",
   "nbconvert_exporter": "python",
   "pygments_lexer": "ipython3",
   "version": "3.7.3"
  }
 },
 "nbformat": 4,
 "nbformat_minor": 2
}
