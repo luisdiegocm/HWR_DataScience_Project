{
 "cells": [
  {
   "cell_type": "markdown",
   "metadata": {},
   "source": [
    "# Topic Modeling\n"
   ]
  },
  {
   "cell_type": "markdown",
   "metadata": {},
   "source": [
    "## 1 - Library Imports"
   ]
  },
  {
   "cell_type": "code",
   "execution_count": 1,
   "metadata": {},
   "outputs": [],
   "source": [
    "%reset -f\n",
    "\n",
    "# Import Os to get to the root directory\n",
    "import os\n",
    "import sys\n",
    "\n",
    "# Root directory of the project\n",
    "ROOT_DIR = os.path.abspath(\"../\")\n",
    "sys.path.append(ROOT_DIR)\n",
    "\n",
    "TEST_DIR = os.path.join(ROOT_DIR, \"test-white-papers\")\n",
    "MODEL_DIR = os.path.join(ROOT_DIR, \"model\")\n",
    "\n",
    "# Import own functions\n",
    "from libraries import corpus\n",
    "from libraries import pdf2text\n",
    "\n",
    "##########################\n",
    "# Import other libraries\n",
    "##########################\n",
    "\n",
    "# Data Manipulation\n",
    "import re, numpy as np, pandas as pd\n",
    "\n",
    "# Gensim Library for Topic Modeling\n",
    "import gensim\n",
    "from gensim import matutils, models\n",
    "import gensim, spacy, logging, warnings\n",
    "from gensim import corpora, models, similarities\n",
    "from gensim.utils import lemmatize, simple_preprocess\n",
    "from gensim.models import CoherenceModel\n",
    "from gensim.test.utils import datapath\n",
    "\n",
    "# Data Visualizations\n",
    "import matplotlib.pyplot as plt\n",
    "%matplotlib notebook\n",
    "from wordcloud import WordCloud, STOPWORDS\n",
    "import matplotlib.colors as mcolors\n",
    "from matplotlib.ticker import FuncFormatter\n",
    "\n",
    "# Natural Language Processing libraries\n",
    "import nltk as nltk\n",
    "from nltk.corpus import stopwords\n",
    "stop_words = stopwords.words('english')\n",
    "stop_words.extend(['from', 'subject', 're', 'edu', 'use', 'not', 'would', 'say', 'could', '_', 'be', 'know', 'good', 'go', 'get', 'do', 'done', 'try', 'many', 'some', 'nice', 'thank', 'think', 'see', 'rather', 'easy', 'easily', 'lot', 'lack', 'make', 'want', 'seem', 'run', 'need', 'even', 'right', 'line', 'even', 'also', 'may', 'take', 'come'])\n",
    "from nltk.stem.wordnet import WordNetLemmatizer\n",
    "import string\n",
    "\n",
    "import en_core_web_sm\n",
    "nlp = spacy.load('en_core_web_sm', disable =['parser', 'ner'])\n",
    "from pprint import pprint\n",
    "\n",
    "import scipy.sparse\n",
    "from collections import Counter\n",
    "\n",
    "# other imports\n",
    "import pickle\n",
    "from importlib import reload\n",
    "warnings.filterwarnings(\"ignore\", category=DeprecationWarning)\n",
    "logging.basicConfig(format='%(asctime)s : %(levelname)s : %(message)s', level=logging.ERROR)"
   ]
  },
  {
   "cell_type": "markdown",
   "metadata": {},
   "source": [
    "## 2 - Data Preprocessing"
   ]
  },
  {
   "cell_type": "code",
   "execution_count": 2,
   "metadata": {},
   "outputs": [],
   "source": [
    "# Retrieving the PDF files from white-paper folder and converting them to text\n",
    "dataset = pdf2text.get_dataset()"
   ]
  },
  {
   "cell_type": "code",
   "execution_count": 3,
   "metadata": {},
   "outputs": [
    {
     "data": {
      "text/plain": [
       "dict_keys(['#metahash', '0x', 'abbccoin', 'aion', 'apollocurrency', 'ardor', 'ark', 'basicattentiontoken', 'bhpcoin', 'binancecoin', 'bitcoin', 'bitcoingold', 'bitshares', 'bittorrent', 'bytecoin', 'bytom', 'celernetwork', 'chainlink', 'cosmocoin', 'cosmos', 'crypto', 'cryptonex', 'dai', 'dash', 'decentraland', 'dent', 'digixdao', 'dogecoin', 'elastos', 'enjincoin', 'eos', 'ethereum', 'ethereumclassic', 'factom', 'fantom', 'gnosis', 'golem', 'gxchain', 'holo', 'horizen', 'hypercash', 'hyperion', 'icon', 'iexecrlc', 'inocoin', 'iota', 'japancontenttoken', 'komodo', 'latoken', 'lina', 'loopring', 'maidsafecoin', 'maker', 'metal', 'metaverseetp', 'mixin', 'monero', 'nano', 'nebulas', 'nem', 'nexo', 'nkn', 'obyte', 'omisego', 'ontology', 'orbs', 'particl', 'paxosstandardtoken', 'powerledger', 'pundix', 'ravencoin', 'riftoken', 'siacoin', 'singularitynet', 'skycoin', 'solve', 'status', 'steem', 'stellar', 'stratis', 'synthetixnetworktoken', 'tenx', 'tether', 'tezos', 'theta', 'thetafuel', 'thundertoken', 'tron', 'truechain', 'usdcoin', 'utrust', 'vechain', 'waltonchain', 'wanchain', 'waves', 'wax', 'xrp', 'zcash', 'zilliqa'])"
      ]
     },
     "execution_count": 3,
     "metadata": {},
     "output_type": "execute_result"
    }
   ],
   "source": [
    "dataset.keys()"
   ]
  },
  {
   "cell_type": "code",
   "execution_count": 4,
   "metadata": {},
   "outputs": [
    {
     "name": "stderr",
     "output_type": "stream",
     "text": [
      "[nltk_data] Downloading package punkt to\n",
      "[nltk_data]     C:\\Users\\luisd\\AppData\\Roaming\\nltk_data...\n",
      "[nltk_data]   Package punkt is already up-to-date!\n",
      "[nltk_data] Downloading package stopwords to\n",
      "[nltk_data]     C:\\Users\\luisd\\AppData\\Roaming\\nltk_data...\n",
      "[nltk_data]   Package stopwords is already up-to-date!"
     ]
    },
    {
     "name": "stdout",
     "output_type": "stream",
     "text": [
      "Cleaning: #metahash\n"
     ]
    },
    {
     "name": "stderr",
     "output_type": "stream",
     "text": [
      "\n",
      "[nltk_data] Downloading package averaged_perceptron_tagger to\n",
      "[nltk_data]     C:\\Users\\luisd\\AppData\\Roaming\\nltk_data...\n",
      "[nltk_data]   Package averaged_perceptron_tagger is already up-to-\n",
      "[nltk_data]       date!\n",
      "[nltk_data] Downloading package wordnet to\n",
      "[nltk_data]     C:\\Users\\luisd\\AppData\\Roaming\\nltk_data...\n",
      "[nltk_data]   Package wordnet is already up-to-date!\n",
      "[nltk_data] Error loading en_core_web_md: Package 'en_core_web_md' not\n",
      "[nltk_data]     found in index\n"
     ]
    },
    {
     "name": "stdout",
     "output_type": "stream",
     "text": [
      "Cleaning: 0x\n",
      "Cleaning: abbccoin\n",
      "Cleaning: aion\n",
      "Cleaning: apollocurrency\n",
      "Cleaning: ardor\n",
      "Cleaning: ark\n",
      "Cleaning: basicattentiontoken\n",
      "Cleaning: bhpcoin\n",
      "Cleaning: binancecoin\n",
      "Cleaning: bitcoin\n",
      "Cleaning: bitcoingold\n",
      "Cleaning: bitshares\n",
      "Cleaning: bittorrent\n",
      "Cleaning: bytecoin\n",
      "Cleaning: bytom\n",
      "Cleaning: celernetwork\n",
      "Cleaning: chainlink\n",
      "Cleaning: cosmocoin\n",
      "Cleaning: cosmos\n",
      "Cleaning: crypto\n",
      "Cleaning: cryptonex\n",
      "Cleaning: dai\n",
      "Cleaning: dash\n",
      "Cleaning: decentraland\n",
      "Cleaning: dent\n",
      "Cleaning: digixdao\n",
      "Cleaning: dogecoin\n",
      "Cleaning: elastos\n",
      "Cleaning: enjincoin\n",
      "Cleaning: eos\n",
      "Cleaning: ethereum\n",
      "Cleaning: ethereumclassic\n",
      "Cleaning: factom\n",
      "Cleaning: fantom\n",
      "Cleaning: gnosis\n",
      "Cleaning: golem\n",
      "Cleaning: gxchain\n",
      "Cleaning: holo\n",
      "Cleaning: horizen\n",
      "Cleaning: hypercash\n",
      "Cleaning: hyperion\n",
      "Cleaning: icon\n",
      "Cleaning: iexecrlc\n",
      "Cleaning: inocoin\n",
      "Cleaning: iota\n",
      "Cleaning: japancontenttoken\n",
      "Cleaning: komodo\n",
      "Cleaning: latoken\n",
      "Cleaning: lina\n",
      "Cleaning: loopring\n",
      "Cleaning: maidsafecoin\n",
      "Cleaning: maker\n",
      "Cleaning: metal\n",
      "Cleaning: metaverseetp\n",
      "Cleaning: mixin\n",
      "Cleaning: monero\n",
      "Cleaning: nano\n",
      "Cleaning: nebulas\n",
      "Cleaning: nem\n",
      "Cleaning: nexo\n",
      "Cleaning: nkn\n",
      "Cleaning: obyte\n",
      "Cleaning: omisego\n",
      "Cleaning: ontology\n",
      "Cleaning: orbs\n",
      "Cleaning: particl\n",
      "Cleaning: paxosstandardtoken\n",
      "Cleaning: powerledger\n",
      "Cleaning: pundix\n",
      "Cleaning: ravencoin\n",
      "Cleaning: riftoken\n",
      "Cleaning: siacoin\n",
      "Cleaning: singularitynet\n",
      "Cleaning: skycoin\n",
      "Cleaning: solve\n",
      "Cleaning: status\n",
      "Cleaning: steem\n",
      "Cleaning: stellar\n",
      "Cleaning: stratis\n",
      "Cleaning: synthetixnetworktoken\n",
      "Cleaning: tenx\n",
      "Cleaning: tether\n",
      "Cleaning: tezos\n",
      "Cleaning: theta\n",
      "Cleaning: thetafuel\n",
      "Cleaning: thundertoken\n",
      "Cleaning: tron\n",
      "Cleaning: truechain\n",
      "Cleaning: usdcoin\n",
      "Cleaning: utrust\n",
      "Cleaning: vechain\n",
      "Cleaning: waltonchain\n",
      "Cleaning: wanchain\n",
      "Cleaning: waves\n",
      "Cleaning: wax\n",
      "Cleaning: xrp\n",
      "Cleaning: zcash\n",
      "Cleaning: zilliqa\n",
      "Done!\n"
     ]
    }
   ],
   "source": [
    "# Define if you want your corpus to be whole or divided in sentences\n",
    "makeSentences = False\n",
    "# Creates a dictionary with each White Paper and its text pre-processed\n",
    "corpora_whole = corpus.makeCleanCorpus(dataset, lemmatize=False, removePunct=True, removeNums=True\n",
    "                                 ,makeSentences=makeSentences, removeURL=True, removeChar=True, removeEnt=False)"
   ]
  },
  {
   "cell_type": "code",
   "execution_count": 5,
   "metadata": {},
   "outputs": [
    {
     "name": "stdout",
     "output_type": "stream",
     "text": [
      "Cleaning: #metahash\n"
     ]
    },
    {
     "name": "stderr",
     "output_type": "stream",
     "text": [
      "[nltk_data] Downloading package punkt to\n",
      "[nltk_data]     C:\\Users\\luisd\\AppData\\Roaming\\nltk_data...\n",
      "[nltk_data]   Package punkt is already up-to-date!\n",
      "[nltk_data] Downloading package stopwords to\n",
      "[nltk_data]     C:\\Users\\luisd\\AppData\\Roaming\\nltk_data...\n",
      "[nltk_data]   Package stopwords is already up-to-date!\n",
      "[nltk_data] Downloading package averaged_perceptron_tagger to\n",
      "[nltk_data]     C:\\Users\\luisd\\AppData\\Roaming\\nltk_data...\n",
      "[nltk_data]   Package averaged_perceptron_tagger is already up-to-\n",
      "[nltk_data]       date!\n",
      "[nltk_data] Downloading package wordnet to\n",
      "[nltk_data]     C:\\Users\\luisd\\AppData\\Roaming\\nltk_data...\n",
      "[nltk_data]   Package wordnet is already up-to-date!\n",
      "[nltk_data] Error loading en_core_web_md: Package 'en_core_web_md' not\n",
      "[nltk_data]     found in index\n"
     ]
    },
    {
     "name": "stdout",
     "output_type": "stream",
     "text": [
      "Cleaning: 0x\n",
      "Cleaning: abbccoin\n",
      "Cleaning: aion\n",
      "Cleaning: apollocurrency\n",
      "Cleaning: ardor\n",
      "Cleaning: ark\n",
      "Cleaning: basicattentiontoken\n",
      "Cleaning: bhpcoin\n",
      "Cleaning: binancecoin\n",
      "Cleaning: bitcoin\n",
      "Cleaning: bitcoingold\n",
      "Cleaning: bitshares\n",
      "Cleaning: bittorrent\n",
      "Cleaning: bytecoin\n",
      "Cleaning: bytom\n",
      "Cleaning: celernetwork\n",
      "Cleaning: chainlink\n",
      "Cleaning: cosmocoin\n",
      "Cleaning: cosmos\n",
      "Cleaning: crypto\n",
      "Cleaning: cryptonex\n",
      "Cleaning: dai\n",
      "Cleaning: dash\n",
      "Cleaning: decentraland\n",
      "Cleaning: dent\n",
      "Cleaning: digixdao\n",
      "Cleaning: dogecoin\n",
      "Cleaning: elastos\n",
      "Cleaning: enjincoin\n",
      "Cleaning: eos\n",
      "Cleaning: ethereum\n",
      "Cleaning: ethereumclassic\n",
      "Cleaning: factom\n",
      "Cleaning: fantom\n",
      "Cleaning: gnosis\n",
      "Cleaning: golem\n",
      "Cleaning: gxchain\n",
      "Cleaning: holo\n",
      "Cleaning: horizen\n",
      "Cleaning: hypercash\n",
      "Cleaning: hyperion\n",
      "Cleaning: icon\n",
      "Cleaning: iexecrlc\n",
      "Cleaning: inocoin\n",
      "Cleaning: iota\n",
      "Cleaning: japancontenttoken\n",
      "Cleaning: komodo\n",
      "Cleaning: latoken\n",
      "Cleaning: lina\n",
      "Cleaning: loopring\n",
      "Cleaning: maidsafecoin\n",
      "Cleaning: maker\n",
      "Cleaning: metal\n",
      "Cleaning: metaverseetp\n",
      "Cleaning: mixin\n",
      "Cleaning: monero\n",
      "Cleaning: nano\n",
      "Cleaning: nebulas\n",
      "Cleaning: nem\n",
      "Cleaning: nexo\n",
      "Cleaning: nkn\n",
      "Cleaning: obyte\n",
      "Cleaning: omisego\n",
      "Cleaning: ontology\n",
      "Cleaning: orbs\n",
      "Cleaning: particl\n",
      "Cleaning: paxosstandardtoken\n",
      "Cleaning: powerledger\n",
      "Cleaning: pundix\n",
      "Cleaning: ravencoin\n",
      "Cleaning: riftoken\n",
      "Cleaning: siacoin\n",
      "Cleaning: singularitynet\n",
      "Cleaning: skycoin\n",
      "Cleaning: solve\n",
      "Cleaning: status\n",
      "Cleaning: steem\n",
      "Cleaning: stellar\n",
      "Cleaning: stratis\n",
      "Cleaning: synthetixnetworktoken\n",
      "Cleaning: tenx\n",
      "Cleaning: tether\n",
      "Cleaning: tezos\n",
      "Cleaning: theta\n",
      "Cleaning: thetafuel\n",
      "Cleaning: thundertoken\n",
      "Cleaning: tron\n",
      "Cleaning: truechain\n",
      "Cleaning: usdcoin\n",
      "Cleaning: utrust\n",
      "Cleaning: vechain\n",
      "Cleaning: waltonchain\n",
      "Cleaning: wanchain\n",
      "Cleaning: waves\n",
      "Cleaning: wax\n",
      "Cleaning: xrp\n",
      "Cleaning: zcash\n",
      "Cleaning: zilliqa\n",
      "Done!\n"
     ]
    }
   ],
   "source": [
    "# Define if you want your corpus to be whole or divided in sentences\n",
    "makeSentences = True\n",
    "# Creates a dictionary with each White Paper and its text pre-processed\n",
    "corpora_sent = corpus.makeCleanCorpus(dataset, lemmatize=False, removePunct=True, removeNums=True\n",
    "                                 ,makeSentences=makeSentences, removeURL=True, removeChar=True, removeEnt=False)"
   ]
  },
  {
   "cell_type": "code",
   "execution_count": 6,
   "metadata": {},
   "outputs": [],
   "source": [
    "#Our dictionary at the moment is in key: blockchain firms, value: list of text of whitepapers\n",
    "#We change this to key: blockchain firms and value: string format\n",
    "def combine_text(list_of_text):\n",
    "    '''Takes a list of text and combines them into one large chunk of text.'''\n",
    "    combined_text = ' '.join(list_of_text)\n",
    "    return combined_text"
   ]
  },
  {
   "cell_type": "code",
   "execution_count": 7,
   "metadata": {},
   "outputs": [],
   "source": [
    "#Combining then\n",
    "data_combined = {key:[combine_text(value)] for (key, value) in corpora_sent.items()}"
   ]
  },
  {
   "cell_type": "code",
   "execution_count": 8,
   "metadata": {},
   "outputs": [],
   "source": [
    "#Putting the text into pandas dataframe\n",
    "import pandas as pd\n",
    "pd.set_option('max_colwidth', 150)\n",
    "\n",
    "data_df = pd.DataFrame.from_dict(data_combined).transpose()\n",
    "data_df.columns = ['whitepapers']\n",
    "data_df = data_df.sort_index()"
   ]
  },
  {
   "cell_type": "code",
   "execution_count": 9,
   "metadata": {},
   "outputs": [
    {
     "data": {
      "text/html": [
       "<div>\n",
       "<style scoped>\n",
       "    .dataframe tbody tr th:only-of-type {\n",
       "        vertical-align: middle;\n",
       "    }\n",
       "\n",
       "    .dataframe tbody tr th {\n",
       "        vertical-align: top;\n",
       "    }\n",
       "\n",
       "    .dataframe thead th {\n",
       "        text-align: right;\n",
       "    }\n",
       "</style>\n",
       "<table border=\"1\" class=\"dataframe\">\n",
       "  <thead>\n",
       "    <tr style=\"text-align: right;\">\n",
       "      <th></th>\n",
       "      <th>whitepapers</th>\n",
       "    </tr>\n",
       "  </thead>\n",
       "  <tbody>\n",
       "    <tr>\n",
       "      <th>#metahash</th>\n",
       "      <td>yellow paper technical documentation version  metahash gartenstrasse zug switzerland yellow paper project goals metahash technical features testin...</td>\n",
       "    </tr>\n",
       "    <tr>\n",
       "      <th>0x</th>\n",
       "      <td>open protocol decentralized exchange ethereum blockchain warren amir bandeali xprojectcom february protocol facilitates low friction peertopeer ex...</td>\n",
       "    </tr>\n",
       "  </tbody>\n",
       "</table>\n",
       "</div>"
      ],
      "text/plain": [
       "                                                                                                                                                     whitepapers\n",
       "#metahash  yellow paper technical documentation version  metahash gartenstrasse zug switzerland yellow paper project goals metahash technical features testin...\n",
       "0x         open protocol decentralized exchange ethereum blockchain warren amir bandeali xprojectcom february protocol facilitates low friction peertopeer ex..."
      ]
     },
     "execution_count": 9,
     "metadata": {},
     "output_type": "execute_result"
    }
   ],
   "source": [
    "#Glancing into the dataframe; it is a dataframe with each row representing a document (blockchain whitepaper)\n",
    "data_df.head(2)"
   ]
  },
  {
   "cell_type": "code",
   "execution_count": 10,
   "metadata": {},
   "outputs": [],
   "source": [
    "#Pickling the data for future use. \n",
    "# data_df.to_pickle('tmcorpus.pkl')"
   ]
  },
  {
   "cell_type": "code",
   "execution_count": 11,
   "metadata": {},
   "outputs": [],
   "source": [
    "with open('tmcorpus.pkl', 'rb') as f:\n",
    "    data_ready = pickle.load(f)"
   ]
  },
  {
   "cell_type": "code",
   "execution_count": 12,
   "metadata": {},
   "outputs": [
    {
     "name": "stdout",
     "output_type": "stream",
     "text": [
      "['yellow', 'paper', 'technical', 'documentation', 'version', 'metahash', 'gartenstrasse', 'zug', 'switzerland', 'yellow', 'paper', 'project', 'goals', 'metahash', 'technical', 'features', 'testing', 'methodology', 'test', 'building', 'network', 'test', 'bulk', 'transactions', 'verification', 'latency', 'test', 'network', 'failure', 'test', 'continental', 'blockage', 'network', 'recovery', 'testing', 'network', 'description', 'metasync', 'data', 'synchronization', 'subsystem', 'network', 'structure', 'trust', 'network', 'topology', 'network', 'map', 'metapos', 'multiconsensus', 'subsystem', 'metahash', 'multiple', 'proof', 'stake', 'multipos', 'trust', 'voting', 'cryptography', 'block', 'structure', 'balance', 'model', 'transactions', 'protocol', 'features', 'specialuse', 'addresses', 'multisignature', 'address', 'frozen', 'address', 'child', 'address', 'forging', 'mhc', 'delegation', 'reward', 'distribution', 'strategy', 'risks', 'conclusion', 'data', 'storage', 'yellow', 'paper', 'year', 'decentralized', 'technology', 'boom', 'paradigm', 'addresses', 'key', 'issues', 'issues', 'trust', 'controlling', 'authorities', 'systems', 'scalability', 'reliability', 'thirdparty', 'involvement', 'platform', 'app', 'market', 'limited', 'major', 'factors', 'geographic', 'distribution', 'nodes', 'insufficient', 'connection', 'infrastructure', 'slow', 'data', 'synchronization', 'validation', 'vulnerability', 'distributed', 'networks', 'attack', 'leaves', 'desired', 'terms', 'security', 'trust', 'metahash', 'overcomes', 'obstacles', 'introducing', 'dynamic', 'node', 'roles', 'implementing', 'fragmented', 'cryptographic', 'proof', 'simultaneously', 'decreasing', 'volume', 'transmitted', 'data', 'approach', 'optimizes', 'network', 'synchronization', 'solves', 'issues', 'data', 'transmission', 'archival', 'approach', 'lead', 'creation', 'metapos', 'multilayered', 'consensus', 'enhancing', 'network', 'resilience', 'attack', 'utilizing', 'proprietary', 'metasync', 'metapos', 'technologies', 'metahash', 'team', 'created', 'tracechain', 'fastest', 'blockchain', 'protocol', 'today', 'load', 'test', 'throughput', 'transactions', 'second', 'methods', 'document', 'metahash', 'nextgeneration', 'highperformance', 'lowfee', 'blockchain', 'high', 'confirmation', 'speed', 'low', 'data', 'processing', 'fees', 'enable', 'support', 'operating', 'decentralized', 'applications', 'realtime', 'broad', 'bandwidth', 'transactions', 'yellow', 'paper', 'project', 'goals', 'shortterm', 'milestones', 'midterm', 'milestones', 'highspeed', 'multiblockchain', 'based', 'tracechain', 'protocol', 'design', 'geodistributed', 'network', 'architecture', 'minimum', 'synchronization', 'time', 'maintaining', 'maximum', 'data', 'transfer', 'capacity', 'select', 'consensus', 'model', 'allowing', 'minimum', 'transaction', 'confirmation', 'time', 'maintaining', 'transaction', 'immutability', 'cryptographic', 'proof', 'asset', 'ownership', 'decreasing', 'stored', 'transmitted', 'data', 'select', 'optimal', 'balance', 'model', 'mitigate', 'excessive', 'data', 'storage', 'issues', 'timeproven', 'blockchain', 'network', 'structure', 'nonlinear', 'validation', 'blockchain', 'data', 'avoid', 'hard', 'forks', 'deploying', 'major', 'software', 'updates', 'solve', 'issue', 'blockchain', 'merges', 'network', 'split', 'decentralised', 'storage', 'metaapps', 'virtual', 'app', 'hosting', 'metadns', 'distributed', 'service', 'metagate', 'multicurrency', 'wallet', 'dapp', 'browser', 'mobile', 'resource', 'sharing', 'cellular', 'satellite', 'communications', 'data', 'transmission', 'consensus', 'mobile', 'devices', 'dapp', 'marketplace', 'digital', 'identification', 'biometric', 'data', 'iot', 'capabilities', 'compatibility', 'universal', 'reputation', 'yellow', 'paper', 'metahash', 'technical', 'features', 'experimentally', 'proven', 'features', 'metahash', 'include', 'exceptional', 'technical', 'characteristics', 'metahash', 'network', 'result', 'innovative', 'technologies', 'metasync', 'metapos', 'metasync', 'data', 'synchronization', 'subsystem', 'complete', 'integral', 'data', 'updating', 'seconds', 'metapos', 'multiconsensus', 'subsystem', 'generating', 'validating', 'blocks', 'parallel', 'synchronization', 'process', 'subsystem', 'sections', 'test', 'methods', 'provided', 'below', 'transaction', 'capacity', 'transactions', 'network', 'synchronization', 'time', 'seconds', 'minimum', 'number', 'nodes', 'block', 'generation', 'time', 'storage', 'required', 'financial', 'transactions', 'yellow', 'paper', 'test', 'building', 'network', 'test', 'evaluated', 'process', 'network', 'building', 'prior', 'network', 'build', 'tracechain', 'evaluated', 'effective', 'performance', 'node', 'speed', 'data', 'transmission', 'nodes', 'mainnet', 'tests', 'randomly', 'conducted', 'node', 'background', 'test', 'tracechain', 'algorithm', 'active', 'nodes', 'computed', 'optimal', 'network', 'map', 'assigned', 'roles', 'node', 'peer', 'verification', 'core', 'torrent', 'fig', 'graphic', 'image', 'network', 'map', 'signal', 'travels', 'outer', 'layer', 'center', 'peer', 'node', 'verification', 'node', 'core', 'node', 'fig', 'network', 'map', 'tests', 'involved', 'nodes', 'continents', 'wide', 'range', 'node', 'parameters', 'tested', 'lowperformance', 'vcpu', 'ram', 'highperformance', 'vcpu', 'ram', 'tests', 'conducted', 'months', 'time', 'billion', 'transactions', 'processed', 'testing', 'methodology', 'yellow', 'paper', 'fig', 'transactions', 'propagation', 'core', 'torrent', 'nodes', 'test', 'bulk', 'transactions', 'verification', 'latency', 'test', 'studied', 'dependence', 'transaction', 'time', 'number', 'transactions', 'transaction', 'time', 'defined', 'total', 'time', 'transaction', 'creation', 'complete', 'propagation', 'processed', 'transaction', 'entire', 'network', 'transaction', 'propagation', 'path', 'network', 'fig', 'number', 'transactions', 'varied', 'second', 'yellow', 'paper', 'blue', 'dots', 'fig', 'denote', 'acquired', 'experimental', 'data', 'transactions', 'marks', 'recorded', 'threshold', 'network', 'bandwidth', 'second', 'transactions', 'processed', 'core', 'nodes', 'queued', 'remain', 'pending', 'processed', 'block', 'interpolation', 'polynomial', 'yellow', 'graph', 'appears', 'linear', 'mark', 'transactions', 'proves', 'excellent', 'scalability', 'metahash', 'network', 'studied', 'range', 'fig', 'verification', 'time', 'number', 'transactions', 'transactions', 'tps', 'yellow', 'paper', 'fig', 'partial', 'shutoff', 'network', 'test', 'network', 'failure', 'test', 'measured', 'network', 'performance', 'depending', 'number', 'lost', 'nodes', 'percentage', 'nodes', 'randomly', 'turned', 'fig', 'illustrates', 'shutoff', 'scenario', 'low', 'nodes', 'active', 'network', 'fully', 'capable', 'functioning', 'keeping', 'claimed', 'performance', 'capacity', 'network', 'availability', 'transaction', 'verification', 'distribution', 'speed', 'achieved', 'simulation', 'failure', 'cluster', 'server', 'collocations', 'eg', 'data', 'center', 'failure', 'global', 'isp', 'issues', 'yellow', 'paper', 'test', 'continental', 'blockage', 'network', 'recovery', 'test', 'simulated', 'continental', 'blockage', 'lead', 'network', 'split', 'subsequent', 'rebuild', 'merge', 'two', 'purpose', 'test', 'speed', 'consensus', 'reorganization', 'split', 'synchronization', 'speed', 'network', 'recovery', 'scenario', 'rebuilding', 'network', 'complete', 'structure', 'fewer', 'nodes', 'network', 'forms', 'chain', 'transaction', 'blocks', 'merged', 'replacement', 'conflicting', 'transactions', 'connection', 'networks', 'restored', 'cutoff', 'nodes', 'reconnected', 'network', 'core', 'torrent', 'nodes', 'effective', 'performance', 'slows', 'transactions', 'period', 'data', 'synchronization', 'network', 'effectively', 'slows', 'times', 'duration', 'merge', 'testing', 'metahash', 'throughput', 'handling', 'transactions', 'broad', 'range', 'environmental', 'bandwidth', 'loads', 'transactions', 'outpacing', 'claimed', 'performance', 'transactions', 'second', 'exceeding', 'incoming', 'transactions', 'rate', 'claimed', 'performance', 'level', 'processing', 'speed', 'observed', 'slow', 'down', 'network', 'resilience', 'maintained', 'network', 'failure', 'levels', 'performance', 'deterioration', 'event', 'continental', 'network', 'blockage', 'networks', 'retain', 'local', 'functionality', 'automatically', 'rebuild', 'connectivity', 'restored', 'rebuilding', 'networks', 'function', 'slower', 'mode', 'yellow', 'paper', 'network', 'description', 'metahash', 'single', 'rank', 'peertopeer', 'network', 'member', 'network', 'runs', 'software', 'automatically', 'role', 'assigned', 'roles', 'assigned', 'tracechain', 'algorithm', 'executed', 'nodes', 'sections', 'below', 'role', 'specific', 'services', 'synchronization', 'consensus', 'subsystems', 'metahash', 'operation', 'principles', 'comprehensible', 'subsystems', 'explained', 'individually', 'below', 'metahash', 'network', 'key', 'roles', 'metagate', 'peer', 'node', 'verification', 'node', 'core', 'node', 'master', 'core', 'node', 'slave', 'core', 'node', 'torrent', 'node', 'yellow', 'paper', 'metasync', 'data', 'synchronization', 'subsystem', 'describes', 'metahash', 'network', 'perspective', 'metasync', 'data', 'synchronization', 'subsystem', 'network', 'design', 'only', 'role', 'assignment', 'network', 'members', 'data', 'synchronization', 'subsystem', 'maintained', 'tracechain', 'role', 'assignment', 'based', 'nodes', 'physical', 'properties', 'memory', 'cpu', 'performance', 'network', 'connection', 'quality', 'performance', 'sole', 'criterion', 'determines', 'node', 'role', 'characteristic', 'nodes', 'geographic', 'location', 'data', 'synchronization', 'subsystem', 'roles', 'functionality', 'tab', 'network', 'structure', 'role', 'functions', 'metagate', 'light', 'userclient', 'option', 'hard', 'drive', 'archive', 'storage', 'forging', 'mode', 'live', 'peer', 'node', 'accepts', 'incoming', 'connections', 'metagate', 'light', 'clients', 'direct', 'connection', 'verification', 'nodes', 'sufficient', 'processing', 'capacity', 'synchronization', 'tasks', 'ensures', 'fast', 'network', 'connectivity', 'clients', 'protects', 'invalid', 'transactions', 'verification', 'node', 'accepts', 'incoming', 'connections', 'peers', 'maintains', 'longdistance', 'connections', 'maintains', 'direct', 'connection', 'core', 'nodes', 'sufficient', 'processing', 'capacity', 'synchronization', 'serves', 'network', 'communication', 'layer', 'cores', 'core', 'node', 'accepts', 'incoming', 'connections', 'verification', 'nodes', 'good', 'connection', 'core', 'nodes', 'regions', 'sufficient', 'processing', 'capacity', 'fast', 'block', 'generation', 'controls', 'synchronization', 'processes', 'slave', 'core', 'node', 'duplicates', 'core', 'node', 'operation', 'automatically', 'replace', 'core', 'node', 'case', 'unavailability', 'failure', 'torrent', 'node', 'accepts', 'connections', 'roles', 'sufficient', 'storage', 'capacity', 'blockchain', 'data', 'transmits', 'data', 'metagate', 'nodes', 'work', 'raw', 'data', 'archive', 'report', 'balances', 'carry', 'specific', 'tasks', 'support', 'application', 'functioning', 'tab', 'data', 'synchronization', 'subsystem', 'roles', 'functions', 'yellow', 'paper', 'fig', 'network', 'diagram', 'network', 'members', 'role', 'static', 'members', 'change', 'roles', 'based', 'criteria', 'listed', 'tracechain', 'aibased', 'behavioral', 'analysis', 'network', 'schematically', 'fig', 'verifications', 'network', 'layer', 'cores', 'main', 'chain', 'network', 'map', 'datachain', 'technical', 'datachain', 'metagate', 'clients', 'peer', 'nodes', 'layer', 'torrent', 'nodes', 'layer', 'yellow', 'paper', 'metahash', 'network', 'implements', 'nodes', 'confidence', 'factor', 'defined', 'trust', 'trust', 'weighting', 'factor', 'role', 'assignment', 'voting', 'influence', 'depends', 'duration', 'nodes', 'operation', 'network', 'nodes', 'performance', 'absence', 'network', 'failures', 'errors', 'occurred', 'node', 'trust', 'metahash', 'multiple', 'proof', 'stake', 'section', 'data', 'routing', 'crucial', 'task', 'optimizing', 'synchronization', 'tracechain', 'network', 'map', 'dynamically', 'updated', 'member', 'generates', 'map', 'entire', 'network', 'updates', 'continuously', 'speed', 'data', 'delivery', 'map', 'choosing', 'optimal', 'operator', 'nodes', 'tasks', 'clients', 'network', 'maps', 'generated', 'nodes', 'signed', 'account', 'trust', 'stake', 'voting', 'process', 'chapter', 'metahash', 'multiple', 'proof', 'stake', 'network', 'map', 'datachain', 'public', 'use', 'client', 'generates', 'network', 'map', 'interacting', 'members', 'network', 'client', 'choose', 'operator', 'request', 'operator', 'highest', 'level', 'trust', 'connection', 'speed', 'specific', 'client', 'event', 'node', 'failure', 'automatic', 'voting', 'roles', 'redistribution', 'takes', 'place', 'based', 'network', 'maps', 'nodes', 'trust', 'achieve', 'optimal', 'network', 'map', 'tracechain', 'queries', 'node', 'performance', 'intranode', 'transfer', 'speed', 'data', 'tracechain', 'randomly', 'puts', 'nodes', 'testing', 'mode', 'information', 'tests', 'designed', 'compromised', 'node', 'unable', 'spoof', 'network', 'providing', 'higher', 'performance', 'speed', 'values', 'unable', 'understand', 'simulation', 'achieved', 'providing', 'running', 'tests', 'final', 'stages', 'interaction', 'node', 'connection', 'network', 'tracechain', 'list', 'node', 'addresses', 'received', 'dns', 'network', 'map', 'finalized', 'calls', 'carried', 'map', 'trust', 'network', 'topology', 'yellow', 'paper', 'field', 'description', 'binary', 'node', 'binary', 'format', 'address', 'nodes', 'wallet', 'address', 'coins', 'coins', 'delegated', 'nodetype', 'bitmask', 'bitmask', 'current', 'nodes', 'role', 'master', 'slave', 'verif', 'proxy', 'torrentfull', 'torrenttx', 'torrentbalance', 'torrentbkp', 'parent', 'nodes', 'counter', 'number', 'parent', 'nodes', 'type', 'varint', 'parent', 'node', 'parent', 'node', 'addr', 'parent', 'node', 'parent', 'node', 'addr', 'etc', 'list', 'parent', 'nodes', 'number', 'nodes', 'parent', 'nodes', 'counter', 'sorted', 'priority', 'required', 'parameters', 'parent', 'node', 'node', 'nodes', 'wallet', 'address', 'coins', 'coins', 'delegated', 'tab', 'object', 'data', 'structure', 'varint', 'proprietary', 'type', 'integer', 'variable', 'length', 'data', 'developed', 'metahash', 'network', 'map', 'state', 'defined', 'block', 'separate', 'blockchain', 'block', 'describes', 'state', 'members', 'network', 'relevant', 'topology', 'performance', 'test', 'trust', 'network', 'map', 'mhaddr', 'varint', 'parentcnt', 'xea', 'mhaddr', 'xda', 'mharrd', 'xda', 'mhaddr', 'varint', 'datasize', 'protobuf', 'data', 'fig', 'object', 'scheme', 'binary', 'address', 'parent', 'nodes', 'counter', 'parent', 'node', 'parent', 'node', 'address', 'parent', 'node', 'address', 'parent', 'node', 'nodetype', 'bitmask', 'yellow', 'paper', 'node', 'description', 'binary', 'list', 'reports', 'test', 'nodes', 'signed', 'private', 'key', 'node', 'node', 'tested', 'saved', 'format', 'fig', 'tab', 'mhaddr', 'ping', 'tps', 'mbs', 'signsec', 'ram', 'rate', 'varint', 'signsize', 'sign', 'varint', 'pubksize', 'pubk', 'fig', 'tests', 'schema', 'role', 'parent', 'nodes', 'core', 'node', 'slave', 'core', 'nodes', 'slave', 'core', 'node', 'torrent', 'nodes', 'verification', 'node', 'nodes', 'verification', 'node', 'torrent', 'node', 'nodes', 'torrent', 'node', 'receives', 'data', 'tab', 'roles', 'parent', 'nodes', 'compliance', 'type', 'parent', 'node', 'depends', 'current', 'node', 'role', 'network', 'member', 'tab', 'protobuf', 'method', 'data', 'packing', 'binary', 'code', 'proposed', 'google', 'signature', 'public', 'key', 'blocks', 'checking', 'validity', 'test', 'record', 'tab', 'data', 'structure', 'tests', 'field', 'description', 'mhaddr', 'node', 'binary', 'format', 'ping', 'ping', 'milliseconds', 'tps', 'transactions', 'mbs', 'network', 'channel', 'bandwidth', 'signsec', 'signatures', 'ram', 'ram', 'rate', 'nodes', 'trust', 'yellow', 'paper', 'metapos', 'multiconsensus', 'subsystem', 'blockchain', 'critical', 'define', 'state', 'consensus', 'state', 'members', 'network', 'agree', 'proposed', 'change', 'addition', 'existing', 'blockchain', 'records', 'network', 'roles', 'metahash', 'exclusively', 'viewport', 'metapos', 'consensus', 'subsystem', 'context', 'existing', 'blockchain', 'technologies', 'details', 'multipos', 'consensus', 'model', 'cryptographic', 'protection', 'blockchain', 'structure', 'content', 'transactions', 'tracechain', 'protocol', 'capabilities', 'key', 'requirements', 'outlined', 'writing', 'algorithm', 'consensus', 'model', 'reaching', 'consensus', 'highest', 'speed', 'providing', 'improved', 'security', 'corruption', 'network', 'time', 'writing', 'delegated', 'proof', 'stake', 'dpos', 'fastest', 'consensus', 'model', 'tested', 'popular', 'platforms', 'dpos', 'proposes', 'member', 'network', 'holds', 'voting', 'power', 'stake', 'equivalent', 'owned', 'member', 'member', 'grant', 'stake', 'trusted', 'delegate', 'speeds', 'voting', 'process', 'number', 'delegates', 'generally', 'small', 'practice', 'appears', 'large', 'amounts', 'stakes', 'collected', 'limited', 'group', 'people', 'neutralizing', 'network', 'metahash', 'team', 'improved', 'dpos', 'model', 'developed', 'algorithm', 'multiple', 'proof', 'stake', 'multipos', 'consensus', 'model', 'model', 'multilayered', 'validation', 'basis', 'protecting', 'network', 'corruption', 'cases', 'central', 'network', 'entities', 'generate', 'blocks', 'corrupted', 'rest', 'network', 'vote', 'rebuild', 'network', 'redistribute', 'roles', 'neutralizing', 'threat', 'blockcreating', 'cores', 'managing', 'synchronization', 'static', 'vary', 'dynamic', 'network', 'parameters', 'granted', 'final', 'validation', 'rights', 'model', 'validation', 'block', 'distribution', 'processes', 'parallel', 'decreasing', 'consensus', 'time', 'innovative', 'method', 'validation', 'rights', 'management', 'core', 'metapos', 'technology', 'yellow', 'paper', 'reaching', 'consensus', 'key', 'definitions', 'core', 'nodes', 'key', 'players', 'consensus', 'compile', 'transactions', 'blocks', 'addresses', 'node', 'synchronization', 'processes', 'block', 'generation', 'network', 'consensus', 'process', 'distribution', 'blocks', 'torrent', 'nodes', 'transaction', 'network', 'detailed', 'description', 'transactions', 'undergo', 'validation', 'process', 'symbol', 'denote', 'signature', 'validity', 'check', 'denote', 'transaction', 'validity', 'check', 'function', 'returns', 'true', 'transaction', 'valid', 'false', 'otherwise', 'define', 'methods', 'elements', 'transaction', 'transaction', 'defined', 'trvalue', 'transaction', 'fee', 'trfee', 'verification', 'node', 'formation', 'block', 'verification', 'nodes', 'vary', 'represented', 'time', 'curverif', 'function', 'time', 'computed', 'curverift', 'represents', 'time', 'define', 'maxverif', 'minverif', 'define', 'access', 'specific', 'verification', 'node', 'network', 'vri', 'icurverif', 'evidently', 'limited', 'core', 'node', 'time', 'blocks', 'creation', 'number', 'core', 'nodes', 'fixed', 'constant', 'denoted', 'curcores', 'access', 'specific', 'core', 'node', 'network', 'denoted', 'cri', 'icurcores', 'adr', 'address', 'system', 'defined', 'pair', 'private', 'public', 'keys', 'account', 'balance', 'methods', 'access', 'properties', 'address', 'declared', 'access', 'balance', 'address', 'denoted', 'adrbalance', 'metahash', 'multiple', 'proof', 'stake', 'multipos', 'peer', 'node', 'receives', 'transactions', 'clients', 'checks', 'transaction', 'validity', 'sends', 'transactions', 'verification', 'nodes', 'blockchain', 'state', 'memory', 'require', 'computing', 'resources', 'verification', 'node', 'checks', 'validity', 'economic', 'feasibility', 'transactions', 'received', 'peer', 'nodes', 'records', 'transactions', 'processed', 'requires', 'computing', 'resources', 'core', 'node', 'accepts', 'transactions', 'verification', 'nodes', 'queues', 'transactions', 'block', 'generation', 'generates', 'blocks', 'consistent', 'sharding', 'slave', 'core', 'node', 'signed', 'blocks', 'substitute', 'core', 'node', 'case', 'core', 'node', 'failure', 'torrent', 'node', 'distributes', 'blockchain', 'information', 'roles', 'functions', 'metapos', 'consensus', 'subsystem', 'yellow', 'paper', 'synchronization', 'phase', 'forming', 'rawblock', 'block', 'valid', 'transactions', 'active', 'core', 'comprised', 'active', 'core', 'sends', 'random', 'number', 'verification', 'nodes', 'number', 'denoted', 'cnxtverif', 'verification', 'nodes', 'synchronize', 'rawblock', 'verification', 'node', 'forms', 'difference', 'sets', 'normal', 'operation', 'equation', 'false', 'verification', 'node', 'sends', 'wide', 'predefined', 'cnxtcores', 'core', 'nodes', 'list', 'manner', 'active', 'cores', 'additional', 'transactions', 'indices', 'previous', 'blocks', 'icurverif', 'icurverif', 'icurverif', 'synchronization', 'phase', 'moment', 'defined', 'multiple', 'core', 'nodes', 'synchronization', 'phase', 'temporary', 'attribute', 'role', 'active', 'core', 'describes', 'core', 'node', 'active', 'duration', 'creation', 'block', 'set', 'cores', 'wellordered', 'verification', 'node', 'point', 'time', 'aware', 'active', 'core', 'current', 'core', 'identifier', 'curcore', 'curblock', 'mod', 'curcores', 'formula', 'simplified', 'fixing', 'number', 'cores', 'order', 'reduce', 'complexity', 'calculating', 'index', 'stage', 'sets', 'transferred', 'crcurcore', 'role', 'active', 'core', 'simplicity', 'crcurcore', 'acr', 'valid', 'notation', 'result', 'operation', 'set', 'formed', 'union', 'sets', 'synchronization', 'phase', 'verification', 'node', 'processes', 'calculates', 'multitude', 'transactions', 'arrived', 'verification', 'node', 'deemed', 'valid', 'set', 'transactions', 'match', 'condition', 'adrbalance', 'trvalue', 'trfee', 'verification', 'node', 'vri', 'set', 'valid', 'transactions', 'set', 'transactions', 'set', 'inherits', 'properties', 'transaction', 'including', 'hash', 'transactions', 'set', 'valid', 'transaction', 'hashes', 'specific', 'verification', 'node', 'defined', 'denotes', 'objects', 'properties', 'verification', 'node', 'index', 'yellow', 'paper', 'synchronization', 'phase', 'condition', 'fourth', 'synchronization', 'phase', 'achieved', 'core', 'nodes', 'form', 'posblock', 'signatures', 'core', 'nodes', 'verified', 'block', 'block', 'torrent', 'nodes', 'involves', 'core', 'nodes', 'block', 'creation', 'proceeds', 'order', 'core', 'next', 'event', 'failure', 'core', 'node', 'slave', 'core', 'steps', 'replacement', 'block', 'validated', 'checked', 'confirmed', 'cores', 'verification', 'nodes', 'core', 'commence', 'formation', 'block', 'current', 'validated', 'block', 'torrent', 'nodes', 'dissemination', 'clients', 'torrent', 'nodes', 'confirm', 'block', 'valid', 'initiate', 'dissemination', 'block', 'users', 'torrent', 'nodes', 'block', 'invalid', 'torrent', 'nodes', 'raise', 'signal', 'alerting', 'core', 'nodes', 'compromised', 'initiating', 'role', 'redistribution', 'process', 'synchronization', 'phase', 'transaction', 'notation', 'core', 'node', 'verification', 'nodes', 'simultaneously', 'send', 'rawblock', 'nonactive', 'core', 'nodes', 'core', 'nodes', 'received', 'block', 'set', 'formed', 'manner', 'analogous', 'set', 'set', 'hash', 'rawblock', 'transactions', 'received', 'node', 'transaction', 'hashes', 'compact', 'transactions', 'reducing', 'resource', 'cost', 'synchronization', 'operation', 'stage', 'hashes', 'transactions', 'attribute', 'required', 'consensus', 'reached', 'set', 'hashes', 'active', 'core', 'equal', 'equivalent', 'set', 'intersections', 'transaction', 'hashes', 'cores', 'jcurcores', 'jcurcores', 'hjh', 'icurverif', 'icurverif', 'yellow', 'paper', 'fig', 'flowchart', 'describing', 'process', 'reaching', 'consensus', 'tab', 'descriptions', 'time', 'intervals', 'stage', 'process', 'designation', 'denoting', 'frequent', 'occurring', 'observation', 'data', 'set', 'transaction', 'flowchart', 'consensus', 'algorithm', 'visualization', 'metagate', 'core', 'core', 'core', 'core', 'core', 'core', 'core', 'torrenttorrent', 'torrenttorrent', 'peer', 'verif', 'core', 'peer', 'peer', 'fig', 'consensus', 'reaching', 'diagram', 'yellow', 'paper', 'tab', 'consensus', 'reaching', 'stages', 'process', 'execution', 'time', 'metagate', 'requests', 'service', 'data', 'torrent', 'nodes', 'mos', 'metagate', 'creates', 'transaction', 'signs', 'sends', 'peer', 'nodes', 'mos', 'peer', 'node', 'checks', 'sufficiency', 'accuracy', 'data', 'signature', 'transaction', 'sends', 'verification', 'nodes', 'mos', 'verification', 'node', 'checks', 'data', 'accuracy', 'transactions', 'economic', 'feasibility', 'possessing', 'core', 'node', 'active', 'creating', 'block', 'verification', 'node', 'sends', 'transaction', 'latter', 'mos', 'core', 'node', 'generates', 'block', 'incoming', 'transactions', 'nearest', 'verification', 'nodes', 'mos', 'processes', 'occurring', 'parallel', 'verification', 'nodes', 'distribute', 'block', 'verification', 'nodes', 'nearest', 'core', 'nodes', 'mos', 'verification', 'nodes', 'check', 'transactions', 'block', 'lost', 'transactions', 'verification', 'nodes', 'deliver', 'core', 'nodes', 'participating', 'blocks', 'creation', 'include', 'transaction', 'block', 'discard', 'completely', 'discarded', 'transactions', 'delivered', 'torrent', 'nodes', 'user', 'learn', 'reasons', 'discarding', 'status', 'block', 'verified', 'voting', 'cores', 'seeded', 'root', 'layer', 'torrent', 'nodes', 'speed', 'synchronization', 'core', 'nodes', 'verify', 'block', 'correct', 'sign', 'deliver', 'root', 'layer', 'torrent', 'nodes', 'verification', 'nodes', 'block', 'delivered', 'root', 'layer', 'torrent', 'node', 'verified', 'core', 'nodes', 'torrent', 'node', 'client', 'check', 'core', 'nodes', 'voting', 'result', 'add', 'vote', 'mos', 'yellow', 'paper', 'test', 'testing', 'transaction', 'verification', 'block', 'distribution', 'torrent', 'nodes', 'starting', 'transaction', 'arrival', 'peer', 'node', 'takes', 'average', 'maximum', 'takes', 'generate', 'irreversible', 'block', 'global', 'network', 'nodes', 'process', 'execution', 'time', 'block', 'synchronized', 'torrent', 'node', 'tree', 'root', 'layer', 'torrent', 'nodes', 'network', 'map', 'event', 'torrent', 'node', 'validate', 'block', 'correct', 'votes', 'network', 'rebuilding', 'vote', 'torrent', 'nodes', 'favor', 'network', 'rebuilding', 'torrent', 'nodes', 'delivering', 'blocks', 'network', 'rebuilding', 'complete', 'mos', 'metagate', 'requests', 'status', 'transaction', 'torrent', 'nodes', 'case', 'torrent', 'node', 'believes', 'block', 'incorrect', 'informs', 'client', 'thereof', 'event', 'torrent', 'nodes', 'replied', 'client', 'current', 'block', 'compromised', 'transaction', 'deemed', 'irreversible', 'probability', 'networks', 'reconfiguration', 'high', 'torrent', 'nodes', 'inform', 'client', 'network', 'functions', 'compromised', 'core', 'nodes', 'probability', 'transaction', 'rollback', 'zero', 'yellow', 'paper', 'voting', 'weighted', 'votes', 'superposition', 'nodes', 'stake', 'trust', 'stake', 'holder', 'coins', 'delegated', 'coins', 'effective', 'stake', 'stake', 'trust', 'voting', 'employs', 'votebased', 'decision', 'mechanism', 'includes', 'validation', 'blocks', 'network', 'topology', 'software', 'updates', 'address', 'delegate', 'coins', 'address', 'delegation', 'process', 'constraints', 'forging', 'section', 'total', 'coins', 'delegated', 'held', 'address', 'called', 'stake', 'denotes', 'absolute', 'voting', 'power', 'address', 'trust', 'node', 'obtains', 'trust', 'factor', 'trust', 'increased', 'units', 'hours', 'reward', 'calculation', 'transactions', 'validated', 'correctly', 'decreased', 'case', 'network', 'degradation', 'case', 'incorrect', 'validation', 'transaction', 'detection', 'achieving', 'trust', 'requires', 'days', 'yellow', 'paper', 'cryptography', 'network', 'security', 'digital', 'signature', 'algorithms', 'ecdsa', 'elliptic', 'curve', 'digital', 'signature', 'algorithm', 'family', 'used', 'sha', 'main', 'hash', 'function', 'algorithms', 'considered', 'attackresistant', 'repeatedly', 'proven', 'applicability', 'sphere', 'digital', 'security', 'testing', 'undertaken', 'computer', 'security', 'resource', 'center', 'presented', 'cryptographic', 'algorithm', 'validation', 'program', 'report', 'quantum', 'computers', 'advance', 'metahash', 'considers', 'postquantum', 'cryptography', 'algorithms', 'tba', 'block', 'structure', 'achieve', 'optimal', 'volume', 'data', 'storage', 'archiving', 'blockchain', 'multilevel', 'highspeed', 'validation', 'metahash', 'types', 'blocks', 'genesis', 'block', 'primary', 'block', 'initial', 'release', 'coins', 'distribution', 'state', 'block', 'snapshot', 'blockchain', 'state', 'state', 'block', 'generated', 'billion', 'transactions', 'requires', 'vote', 'verification', 'nodes', 'state', 'blocks', 'verification', 'nodes', 'store', 'older', 'blocks', 'freeing', 'space', 'data', 'leaving', 'data', 'data', 'storage', 'archive', 'micro', 'block', 'generated', 'based', 'genesis', 'state', 'blocks', 'micro', 'blocks', 'validated', 'number', 'nodes', 'validation', 'cycle', 'checked', 'validators', 'generation', 'state', 'block', 'genesis', 'fig', 'yellow', 'paper', 'state', 'blocks', 'alternative', 'hard', 'fork', 'state', 'block', 'complete', 'network', 'snapshot', 'hard', 'fork', 'cases', 'software', 'updates', 'network', 'converts', 'software', 'operations', 'continue', 'rules', 'state', 'block', 'sent', 'activation', 'state', 'block', 'activates', 'rules', 'required', 'software', 'allowing', 'simultaneous', 'smooth', 'update', 'process', 'tracechain', 'validators', 'vote', 'simultaneously', 'one', 'core', 'nodes', 'create', 'invalid', 'block', 'validators', 'reject', 'reason', 'corruption', 'check', 'takes', 'place', 'required', 'network', 'rebuilt', 'consensus', 'reached', 'time', 'transaction', 'buffered', 'verification', 'node', 'layer', 'processing', 'buffer', 'starts', 'valid', 'block', 'available', 'corrupt', 'block', 'corrupt', 'block', 'genesis', 'fig', 'block', 'discarding', 'process', 'blocks', 'discarding', 'procedure', 'network', 'split', 'merge', 'merge', 'state', 'block', 'genesis', 'fig', 'network', 'split', 'merge', 'yellow', 'paper', 'extreme', 'conditions', 'connection', 'failure', 'loss', 'connection', 'country', 'network', 'split', 'separate', 'networks', 'case', 'network', 'retain', 'original', 'structure', 'fewer', 'nodes', 'merge', 'synchronization', 'lost', 'blocks', 'incoming', 'transactions', 'accumulated', 'pool', 'unscheduled', 'merge', 'state', 'block', 'creation', 'commence', 'micro', 'blocks', 'saved', 'merged', 'state', 'block', 'network', 'rebuild', 'continuing', 'operations', 'state', 'block', 'eliminate', 'double', 'spend', 'motivation', 'transactions', 'involve', 'address', 'exceed', 'balance', 'deemed', 'valid', 'network', 'maximum', 'votes', 'recipients', 'network', 'fewer', 'votes', 'informed', 'network', 'split', 'theory', 'recipient', 'initiate', 'double', 'spend', 'network', 'transaction', 'cancelled', 'recipient', 'wait', 'networks', 'merge', 'standard', 'transactions', 'processed', 'normal', 'flaws', 'rolling', 'transactions', 'purpose', 'achieve', 'double', 'spend', 'opposed', 'scheme', 'longest', 'blockchain', 'wins', 'transactions', 'subject', 'rollback', 'yellow', 'paper', 'balance', 'model', 'basis', 'financial', 'asset', 'management', 'method', 'impossible', 'work', 'assets', 'clear', 'understanding', 'balance', 'doubleentry', 'bookkeeping', 'applied', 'classic', 'accounting', 'tripleentry', 'bookkeeping', 'favored', 'decentralized', 'systems', 'accounting', 'applicable', 'blockchain', 'platforms', 'platforms', 'tracking', 'user', 'balance', 'popular', 'balance', 'models', 'unspent', 'transaction', 'output', 'utxo', 'account', 'model', 'model', 'directed', 'graph', 'assets', 'moving', 'users', 'database', 'current', 'network', 'state', 'models', 'advantages', 'disadvantages', 'tab', 'details', 'issues', 'models', 'refer', 'article', 'prepared', 'hashex', 'consultancy', 'tba', 'utxo', 'model', 'account', 'model', 'higher', 'degree', 'privacy', 'addresses', 'coin', 'owner', 'store', 'accounts', 'state', 'easily', 'scaled', 'sharding', 'efficient', 'usage', 'repository', 'hard', 'work', 'smart', 'contract', 'states', 'intuitively', 'clear', 'approach', 'multithreading', 'computations', 'light', 'clients', 'analyse', 'states', 'easily', 'complete', 'transparency', 'assets', 'movement', 'high', 'degree', 'fungibility', 'harder', 'track', 'assets', 'transaction', 'nonce', 'prevent', 'state', 'machine', 'storing', 'nonce', 'unused', 'addresses', 'deleted', 'inconvenient', 'tracking', 'internal', 'transactions', 'public', 'blockchain', 'tab', 'pros', 'cons', 'utxo', 'account', 'balance', 'models', 'yellow', 'paper', 'blockchain', 'model', 'consensus', 'smart', 'contracts', 'bitcoin', 'utxo', 'pow', 'ethereum', 'account', 'powpos', 'eos', 'account', 'dpos', 'tron', 'utxoaccount', 'dpos', 'qtum', 'utxoaal', 'pos', 'icon', 'account', 'lft', 'bft', 'key', 'advantage', 'model', 'uniqueness', 'coin', 'model', 'simpler', 'smart', 'contracts', 'implementation', 'aspects', 'modern', 'reasonable', 'choose', 'model', 'other', 'confirmed', 'solutions', 'applied', 'popular', 'products', 'tab', 'presents', 'models', 'popular', 'blockchains', 'systems', 'hybrid', 'balance', 'model', 'ethereum', 'eos', 'pure', 'account', 'model', 'initial', 'stage', 'decided', 'account', 'model', 'speed', 'implementation', 'resolved', 'issue', 'data', 'growth', 'nonce', 'accounts', 'storage', 'starting', 'nonce', 'fork', 'state', 'block', 'unused', 'extremely', 'accounts', 'automatically', 'erased', 'node', 'memory', 'hybrid', 'scheme', 'considered', 'utxo', 'balances', 'accounts', 'contracts', 'tracechain', 'features', 'lot', 'transactions', 'standard', 'merkle', 'tree', 'utxo', 'model', 'time', 'considerable', 'disc', 'space', 'avl', 'tree', 'introduced', 'optimize', 'proof', 'model', 'reduce', 'resources', 'required', 'data', 'storage', 'context', 'fig', 'graphs', 'dependency', 'proof', 'size', 'bytes', 'tree', 'size', 'types', 'trees', 'descartes', 'tree', 'treap', 'skip', 'list', 'avl', 'proof', 'size', 'modification', 'tree', 'size', 'ethereum', 'avl', 'block', 'processing', 'time', 'blocks', 'total', 'tab', 'popular', 'blockchain', 'model', 'comparison', 'public', 'additional', 'model', 'improving', 'authenticated', 'dynamic', 'dictionaries', 'applications', 'yellow', 'paper', 'tree', 'size', 'avl', 'tree', 'skiplist', 'treap', 'fig', 'proof', 'size', 'tree', 'size', 'dependency', 'ifi', 'tree', 'size', 'avl', 'treeetherium', 'tree', 'fig', 'proof', 'size', 'modification', 'tree', 'size', 'dependency', 'yellow', 'paper', 'fig', 'block', 'processing', 'time', 'blocks', 'blockchain', 'dependency', 'avl', 'verifierfull', 'verifier', 'block', 'blockchain', 'yellow', 'paper', 'transactions', 'transaction', 'structure', 'describes', 'change', 'blockchain', 'state', 'transaction', 'perform', 'cryptocurrency', 'transfer', 'operation', 'addresses', 'transactions', 'transmitted', 'binary', 'form', 'confirmed', 'signature', 'public', 'key', 'transactions', 'presented', 'form', 'post', 'request', 'fig', 'graphic', 'representation', 'transaction', 'tab', 'data', 'structure', 'inside', 'transaction', 'tba', 'field', 'description', 'recipient', 'address', 'assets', 'fee', 'fee', 'blockchain', 'secure', 'number', 'data', 'blockchain', 'records', 'pubkey', 'public', 'key', 'sign', 'signature', 'tab', 'transaction', 'structure', 'fig', 'graphic', 'representation', 'transaction', 'blocktype', 'blockts', 'blockheaders', 'txsize', 'txn', 'uint', 'toaddrsize', 'toaddr', 'varint', 'varint', 'fee', 'varint', 'nonce', 'varint', 'datasize', 'data', 'varint', 'signsize', 'sign', 'varint', 'pubksize', 'pubk', 'yellow', 'paper', 'protocol', 'features', 'tracechain', 'binary', 'protocol', 'supporting', 'financial', 'transactions', 'data', 'transactions', 'technical', 'transactions', 'technical', 'transactions', 'provide', 'opportunity', 'vote', 'delegation', 'cooperative', 'delegation', 'combination', 'forging', 'pools', 'voting', 'validation', 'control', 'child', 'addresses', 'specialuse', 'addresses', 'data', 'transactions', 'data', 'storage', 'execute', 'applications', 'messenger', 'gambling', 'other', 'financial', 'transactions', 'transfer', 'money', 'addresses', 'types', 'transactions', 'stored', 'chains', 'order', 'optimize', 'size', 'stored', 'data', 'disallow', 'excessive', 'amplification', 'financial', 'chain', 'technical', 'data', 'main', 'address', 'cases', 'advanced', 'features', 'smart', 'contract', 'address', 'assigned', 'exclusively', 'smart', 'contracts', 'developer', 'address', 'smart', 'contract', 'administration', 'hypervisor', 'address', 'virtualization', 'frozen', 'address', 'child', 'address', 'withdrawal', 'parent', 'frozen', 'address', 'child', 'address', 'withdrawal', 'frozen', 'address', 'multisig', 'address', 'address', 'generation', 'public', 'key', 'steps', 'byte', 'public', 'key', 'byte', 'bytes', 'correspond', 'coordinate', 'bytes', 'coordinate', 'perform', 'sha', 'hashing', 'public', 'key', 'perform', 'ripemd', 'hashing', 'result', 'previous', 'step', 'add', 'marker', 'byte', 'result', 'based', 'address', 'type', 'main', 'address', 'smart', 'contract', 'address', 'developer', 'address', 'hypervisor', 'address', 'frozen', 'address', 'xx', 'child', 'address', 'withdrawal', 'parent', 'frozen', 'address', 'child', 'address', 'withdrawal', 'frozen', 'address', 'xx', 'multisig', 'address', 'specialuse', 'addresses', 'yellow', 'paper', 'perform', 'sha', 'hash', 'result', 'sha', 'hash', 'result', 'bytes', 'hash', 'add', 'bytes', 'ripemd', 'hash', 'item', 'multisignatures', 'multisigs', 'addresses', 'requiring', 'multiple', 'users', 'signatures', 'perform', 'transaction', 'approaches', 'metahash', 'situations', 'requiring', 'anonymity', 'nonanonymous', 'situations', 'freeze', 'performed', 'special', 'transaction', 'address', 'sends', 'itself', 'transaction', 'timestamp', 'transfer', 'operations', 'address', 'disallowed', 'incoming', 'transfers', 'allowed', 'however', 'freeze', 'time', 'changed', 'transaction', 'extending', 'shortening', 'transactions', 'timestamp', 'events', 'prioritized', 'others', 'addresses', 'security', 'coins', 'remain', 'unspent', 'timeframe', 'specialuse', 'child', 'address', 'transactions', 'frozen', 'address', 'common', 'parent', 'frozen', 'parent', 'address', 'addresses', 'needed', 'online', 'wallets', 'requiring', 'offline', 'wallet', 'signatures', 'operations', 'anonymous', 'approach', 'required', 'private', 'key', 'multisig', 'split', 'parts', 'distributed', 'owners', 'fiatshamir', 'secret', 'sharing', 'method', 'approach', 'multisig', 'smart', 'contract', 'requires', 'transaction', 'signed', 'private', 'keys', 'multisignature', 'address', 'frozen', 'address', 'child', 'address', 'anonymous', 'multisig', 'nonanonymous', 'multisig', 'yellow', 'paper', 'forging', 'forging', 'process', 'block', 'generation', 'validation', 'supports', 'operation', 'entire', 'metahash', 'network', 'node', 'participates', 'forging', 'process', 'highperformance', 'alternative', 'mining', 'pow', 'networks', 'forging', 'rewarded', 'reward', 'forging', 'granted', 'forging', 'pool', 'collecting', 'fees', 'transactions', 'total', 'size', 'forging', 'pool', 'metahashcoins', 'mhc', 'unevenly', 'distributed', 'years', 'network', 'operation', 'rewards', 'paid', 'hours', 'periodicity', 'recalculation', 'distribution', 'vary', 'based', 'technical', 'network', 'pow', 'nodes', 'mhc', 'forging', 'obsolete', 'efficiency', 'deteriorate', 'number', 'limited', 'minimum', 'number', 'coins', 'required', 'specific', 'role', 'faster', 'network', 'nodes', 'higher', 'capacity', 'network', 'have', 'nodes', 'essential', 'network', 'operation', 'rewards', 'distributed', 'members', 'core', 'torrent', 'nodes', 'creating', 'validating', 'blocks', 'address', 'holders', 'unwilling', 'upkeep', 'node', 'delegate', 'coins', 'trusted', 'nodes', 'receive', 'forging', 'rewards', 'delegation', 'technical', 'transaction', 'occurs', 'coins', 'frozen', 'delegation', 'period', 'transmitted', 'address', 'delegated', 'node', 'delegation', 'canceled', 'delegation', 'canceled', 'hours', 'role', 'reassignment', 'operation', 'coins', 'delegated', 'cancellation', 'delegation', 'coins', 'delegated', 'compromised', 'node', 'detected', 'performing', 'malicious', 'activity', 'delegation', 'canceled', 'automatically', 'coins', 'frozen', 'days', 'exclude', 'possibility', 'transfers', 'redelegation', 'coins', 'remain', 'ownership', 'holder', 'unavailable', 'days', 'chapter', 'financial', 'model', 'mhc', 'delegation', 'yellow', 'paper', 'holder', 'coins', 'stake', 'coins', 'delegated', 'address', 'holder', 'coins', 'stake', 'coins', 'delegated', 'network', 'addresses', 'forgingpool', 'forging', 'stimulation', 'pool', 'issued', 'hours', 'years', 'commissions', 'transactions', 'storage', 'data', 'commissions', 'received', 'network', 'hours', 'coin', 'holder', 'reward', 'forgingpool', 'commissions', 'holder', 'coins', 'stake', 'coins', 'stake', 'coin', 'holder', 'reward', 'calculated', 'formula', 'coin', 'holder', 'reward', 'reward', 'distribution', 'reward', 'share', 'reward', 'type', 'coin', 'holder', 'reward', 'reward', 'holders', 'mhc', 'node', 'reward', 'metagate', 'reward', 'reward', 'active', 'metagate', 'holders', 'tab', 'reward', 'distribution', 'members', 'network', 'financial', 'stimulation', 'aimed', 'adding', 'nodes', 'maximum', 'throughput', 'capacity', 'uniformly', 'roles', 'latency', 'zones', 'geographical', 'regions', 'maintain', 'maximum', 'performance', 'beneficial', 'limited', 'number', 'highperformance', 'broad', 'bandwidth', 'computers', 'large', 'number', 'computers', 'lower', 'performance', 'level', 'computers', 'peer', 'nodes', 'protect', 'network', 'core', 'achieved', 'abundance', 'nodes', 'pool', 'assume', 'role', 'automatic', 'decentralized', 'change', 'node', 'roles', 'saturated', 'network', 'highcapacity', 'nodes', 'higher', 'transactions', 'network', 'capable', 'processing', 'unit', 'time', 'node', 'reward', 'yellow', 'paper', 'network', 'requires', 'computers', 'matching', 'role', 'node', 'assessment', 'largest', 'chosen', 'roles', 'crole', 'account', 'calculation', 'crole', 'stimulates', 'adding', 'nodes', 'roles', 'network', 'deficit', 'balanced', 'operation', 'network', 'node', 'reward', 'calculation', 'role', 'crole', 'crole', 'real', 'number', 'nodes', 'suitable', 'role', 'node', 'rewards', 'calculated', 'based', 'number', 'coins', 'delegated', 'account', 'network', 'main', 'advantage', 'fastest', 'nodes', 'gather', 'delegate', 'votes', 'increase', 'share', 'received', 'commissions', 'lower', 'performing', 'nodes', 'limitations', 'delegated', 'coins', 'calculate', 'cperf', 'nodes', 'rated', 'speed', 'slowest', 'nodes', 'fastest', 'tests', 'coefficient', 'calculation', 'rules', 'presented', 'tab', 'cperf', 'stimulates', 'adding', 'nodes', 'fastest', 'channels', 'cpu', 'signature', 'verification', 'performance', 'coefficient', 'cperf', 'coefficient', 'speed', 'rating', 'tab', 'cperf', 'calculation', 'yellow', 'paper', 'cgeo', 'stimulates', 'adding', 'nodes', 'regions', 'fewer', 'nodes', 'regions', 'costly', 'operation', 'geolocation', 'coefficient', 'cgeo', 'effective', 'coefficient', 'cgeo', 'role', 'cperf', 'cgeo', 'effective', 'delegated', 'coins', 'node', 'trust', 'delegated', 'mhc', 'node', 'reward', 'forging', 'pool', 'commissions', 'nodes', 'latency', 'cluster', 'latency', 'clusters', 'nodes', 'count', 'latency', 'clusters', 'effective', 'delegated', 'coins', 'node', 'effective', 'delegated', 'coins', 'nodes', 'stakes', 'roles', 'effective', 'delegated', 'coins', 'edmhc', 'metahash', 'coins', 'stake', 'nodes', 'network', 'multiplies', 'delegated', 'coins', 'node', 'role', 'owning', 'delegated', 'mhc', 'required', 'value', 'overabundance', 'nodes', 'role', 'region', 'required', 'mhc', 'stake', 'higher', 'specified', 'role', 'edmhc', 'stake', 'mhc', 'reward', 'limit', 'core', 'node', 'verification', 'node', 'torrent', 'node', 'peer', 'node', 'metagate', 'tab', 'required', 'edmhc', 'stake', 'reward', 'limits', 'role', 'required', 'stake', 'edmhc', 'reward', 'limits', 'role', 'tab', 'yellow', 'paper', 'activation', 'node', 'undergoes', 'primary', 'assessment', 'role', 'fit', 'technical', 'characteristics', 'mhc', 'reached', 'adequate', 'technical', 'properties', 'node', 'assigned', 'role', 'network', 'receiving', 'rewards', 'highest', 'role', 'vice', 'versa', 'node', 'underperforming', 'compared', 'fastest', 'network', 'nodes', 'rewards', 'limits', 'roles', 'metagate', 'reward', 'distributed', 'random', 'active', 'members', 'number', 'active', 'metagate', 'nodes', 'reward', 'slots', 'allocated', 'scoring', 'member', 'metagate', 'considered', 'active', 'client', 'online', 'hours', 'hours', 'reward', 'fourth', 'metagate', 'reward', 'role', 'sample', 'configexample', 'specification', 'purchase', 'lease', 'core', 'intel', 'xeon', 'gold', 'cpu', 'ram', 'hdd', 'torrent', 'intel', 'xeon', 'silver', 'ram', 'hdd', 'verification', 'intel', 'xeon', 'ram', 'hhd', 'peer', 'intel', 'core', 'ram', 'hdd', 'digital', 'ocean', 'droplet', 'linode', 'tab', 'recommended', 'hardware', 'cost', 'tab', 'hardware', 'characteristics', 'allowing', 'maintain', 'claimed', 'network', 'performance', 'estimated', 'cost', 'purchase', 'lease', 'sufficient', 'number', 'nodes', 'characteristics', 'superior', 'recommended', 'network', 'automatically', 'reassign', 'underperforming', 'nodes', 'roles', 'verification', 'peer', 'torrent', 'recommended', 'hardware', 'yellow', 'paper', 'strategy', 'network', 'nodes', 'controlled', 'metahash', 'team', 'deemed', 'centralized', 'technology', 'number', 'public', 'tests', 'troubleshooting', 'realtime', 'changes', 'metahash', 'team', 'plans', 'support', 'network', 'fully', 'decentralized', 'capable', 'selfdevelopment', 'phased', 'testing', 'component', 'time', 'virtually', 'risk', 'network', 'steps', 'proposed', 'component', 'testing', 'developers', 'network', 'public', 'testing', 'updates', 'testnet', 'update', 'moved', 'mainnet', 'steps', 'include', 'developers', 'network', 'launch', 'load', 'tests', 'verification', 'processing', 'correctness', 'billion', 'transactions', 'public', 'testnet', 'launch', 'public', 'mainnet', 'launch', 'anchoring', 'popular', 'blockchains', 'mainnet', 'launched', 'multiple', 'backups', 'archiving', 'data', 'required', 'increased', 'security', 'members', 'order', 'avoid', 'critical', 'vulnerability', 'detected', 'mitigation', 'misuse', 'authority', 'team', 'planned', 'anchoring', 'tracechain', 'checksum', 'hashes', 'public', 'blockchains', 'blocks', 'hash', 'calculation', 'forging', 'reward', 'recorded', 'ethereum', 'bitcoin', 'blockchains', 'member', 'check', 'validity', 'entire', 'chain', 'static', 'control', 'points', 'public', 'blockchains', 'launch', 'peer', 'node', 'forging', 'incoming', 'transactions', 'processed', 'network', 'public', 'decentralized', 'nodes', 'transactions', 'blockchain', 'means', 'stage', 'mechanism', 'forging', 'rewarding', 'role', 'tested', 'torrent', 'node', 'launch', 'stage', 'network', 'reaches', 'goal', 'public', 'decentralized', 'storage', 'transactions', 'blocks', 'public', 'repository', 'torrent', 'verification', 'cores', 'performance', 'correctness', 'clients', 'start', 'receiving', 'data', 'decentralized', 'nodes', 'switching', 'automated', 'role', 'assignment', 'tracechain', 'metahash', 'team', 'nodes', 'user', 'nodes', 'remain', 'static', 'roles', 'switching', 'automated', 'role', 'assignment', 'tracechain', 'user', 'nodes', 'peer', 'torrent', 'roles', 'stage', 'verifies', 'correctness', 'network', 'map', 'design', 'machine', 'learning', 'automated', 'network', 'rebuilding', 'start', 'security', 'testing', 'selected', 'vendors', 'attacks', 'consensus', 'network', 'failures', 'yellow', 'paper', 'software', 'update', 'start', 'bounty', 'campaign', 'focused', 'debugging', 'security', 'issues', 'stage', 'main', 'architectural', 'vulnerabilities', 'network', 'attacks', 'eliminated', 'public', 'bounty', 'helps', 'engage', 'public', 'eliminate', 'rare', 'types', 'attacks', 'cores', 'slave', 'cores', 'verification', 'nodes', 'software', 'update', 'ensuring', 'completely', 'autonomous', 'distribution', 'roles', 'network', 'phased', 'helps', 'provide', 'continuous', 'operation', 'network', 'implemented', 'risk', 'control', 'terms', 'attacks', 'network', 'yellow', 'paper', 'risks', 'risk', 'assessment', 'hashex', 'based', 'ferma', 'standard', 'risks', 'negative', 'outcomes', 'project', 'studied', 'assessment', 'method', 'risk', 'description', 'risk', 'assessment', 'based', 'risk', 'probability', 'consequences', 'threats', 'organizations', 'exposure', 'risk', 'type', 'operational', 'probability', 'medium', 'possible', 'decentralized', 'networks', 'continuously', 'experience', 'attacks', 'type', 'attack', 'long', 'costly', 'attacker', 'estimated', 'day', 'staticrole', 'system', 'consequences', 'threats', 'low', 'risk', 'network', 'automatically', 'starts', 'rebuilding', 'node', 'unavailable', 'risk', 'type', 'operational', 'probability', 'low', 'remote', 'ddos', 'type', 'previous', 'risk', 'attack', 'requires', 'larger', 'computational', 'resources', 'attacker', 'costly', 'operation', 'comparison', 'previous', 'risk', 'consequences', 'threats', 'low', 'risk', 'high', 'network', 'load', 'transaction', 'fees', 'start', 'growing', 'nonlinearly', 'attack', 'impractical', 'maintain', 'network', 'load', 'attack', 'cost', 'second', 'load', 'transaction', 'cost', 'ico', 'price', 'attack', 'cost', 'second', 'attack', 'increase', 'transaction', 'price', 'network', 'short', 'span', 'time', 'node', 'availability', 'ddos', 'attack', 'nodes', 'network', 'bandwidth', 'ddos', 'attack', 'multiple', 'transaction', 'generations', 'risk', 'type', 'operational', 'probability', 'medium', 'possible', 'attacker', 'modify', 'local', 'time', 'disrupt', 'node', 'synchronization', 'consequences', 'threats', 'low', 'risk', 'key', 'time', 'parameters', 'measured', 'ticks', 'nodes', 'reference', 'server', 'local', 'time', 'attack', 'change', 'local', 'time', 'yellow', 'paper', 'risk', 'type', 'operational', 'probability', 'high', 'probable', 'time', 'blockchain', 'size', 'lead', 'impossibility', 'store', 'blockchain', 'regular', 'hardware', 'equipment', 'moment', 'writing', 'size', 'ethereum', 'exceeds', 'size', 'bitcoin', 'close', 'industry', 'growth', 'rate', 'years', 'ethereum', 'size', 'exceed', 'utter', 'impossibility', 'store', 'personal', 'computers', 'consequences', 'threats', 'high', 'risk', 'metahash', 'features', 'storage', 'archived', 'data', 'distributed', 'repository', 'negative', 'sideeffects', 'main', 'network', 'performance', 'expense', 'state', 'blocks', 'metahash', 'calculations', 'continuous', 'peak', 'load', 'network', 'storage', 'archived', 'data', 'financially', 'efficient', 'years', 'scenario', 'proposed', 'implement', 'cheap', 'archive', 'repository', 'deploy', 'purging', 'mechanism', 'year', 'data', 'decision', 'voting', 'metahash', 'face', 'challenges', 'storage', 'historical', 'data', 'perform', 'fork', 'approved', 'general', 'voting', 'create', 'genesis', 'block', 'order', 'reduce', 'costs', 'historical', 'data', 'storage', 'risk', 'type', 'strategic', 'probability', 'low', 'remote', 'consequences', 'threats', 'high', 'risk', 'metapos', 'consensus', 'subsystem', 'solving', 'bft', 'problem', 'stake', 'simultaneously', 'layers', 'requires', 'control', 'stake', 'attack', 'extremely', 'hard', 'synchronize', 'network', 'node', 'signals', 'its', 'compromised', 'loses', 'trust', 'supported', 'compromised', 'nodes', 'emergence', 'network', 'singlehandedly', 'owned', 'stake', 'metagate', 'clients', 'start', 'retroactively', 'reject', 'blocks', 'trusting', 'compromised', 'torrents', 'effectively', 'splitting', 'network', 'twos', 'clients', 'network', 'valuable', 'possessing', 'control', 'stake', 'control', 'dead', 'network', 'clients', 'remaining', 'coin', 'holders', 'network', 'unlimited', 'growth', 'blockchain', 'size', 'stake', 'majority', 'single', 'possession', 'attack', 'risk', 'type', 'strategic', 'probability', 'high', 'probable', 'initial', 'stage', 'numerous', 'critical', 'nodes', 'control', 'developers', 'network', 'required', 'level', 'vulnerable', 'malevolent', 'changes', 'consequences', 'threats', 'high', 'risk', 'anchoring', 'metahash', 'popular', 'blockchains', 'bitcoin', 'ethereum', 'regular', 'basis', 'launch', 'forging', 'peer', 'nodes', 'torrent', 'nodes', 'ensure', 'chain', 'logs', 'stored', 'public', 'decentralized', 'repository', 'illegitimate', 'alteration', 'easily', 'noticeable', 'developers', 'authority', 'misuse', 'launch', 'yellow', 'paper', 'risks', 'depicted', 'risk', 'map', 'fig', 'strategic', 'risks', 'tolerance', 'require', 'detailed', 'study', 'result', 'ineluctable', 'catastrophic', 'consequences', 'project', 'whole', 'fig', 'risk', 'map', 'high', 'low', 'medium', 'high', 'medium', 'low', 'risk', 'probability', 'risk', 'tolerance', 'yellow', 'paper', 'conclusion', 'project', 'start', 'early', 'metahash', 'team', 'conducted', 'technologies', 'studied', 'solutions', 'project', 'goals', 'achieved', 'optimal', 'synchronization', 'structure', 'geographically', 'distributed', 'network', 'designed', 'capacity', 'megabytes', 'financial', 'transactions', 'seconds', 'includes', 'validation', 'sender', 'signature', 'check', 'balance', 'availability', 'transaction', 'decentralized', 'storage', 'archived', 'data', 'stateblock', 'mechanism', 'place', 'consensus', 'implementations', 'type', 'multipos', 'tested', 'multiple', 'verification', 'nodes', 'vote', 'block', 'correctness', 'generating', 'one', 'irreversible', 'transaction', 'faster', 'minimize', 'probable', 'blockchain', 'fork', 'rejection', 'branches', 'optimal', 'balance', 'model', 'benefits', 'blockchain', 'network', 'structure', 'chosen', 'reducing', 'size', 'stored', 'transmitted', 'data', 'comparison', 'average', 'performance', 'characteristics', 'blockchain', 'platforms', 'adding', 'capability', 'nonlinear', 'data', 'validation', 'inside', 'blockchain', 'tenfold', 'speed', 'increase', 'blockchain', 'validation', 'resolved', 'network', 'merge', 'split', 'caused', 'access', 'restriction', 'group', 'members', 'blockage', 'seamless', 'votebased', 'software', 'update', 'mechanism', 'developed', 'allowing', 'avoid', 'network', 'hard', 'forks', 'complete', 'productiongrade', 'release', 'version', 'platform', 'prepared', 'allowing', 'fast', 'transactions', 'minimum', 'cost', 'reducing', 'infrastructure', 'costs', 'increasing', 'capacity', 'enables', 'colossal', 'opportunities', 'blockchain', 'technology', 'realtime', 'applications', 'internet', 'things', 'paradigms', 'applications', 'others', 'metahash', 'team', 'yellow', 'paper', 'data', 'storage', 'transactions', 'performed', 'network', 'data', 'stored', 'project', 'focused', 'broad', 'bandwidth', 'faces', 'challenge', 'data', 'storage', 'financial', 'expenses', 'storage', 'metahash', 'transactions', 'size', 'data', 'compressed', 'binary', 'form', 'tab', 'costefficient', 'drives', 'terabyte', 'capacity', 'cost', 'products', 'terabyte', 'drives', 'year', 'drives', 'redundancy', 'overhead', 'costs', 'maintain', 'storage', 'including', 'replacement', 'damaged', 'drives', 'year', 'data', 'storage', 'peak', 'load', 'duplication', 'cost', 'unit', 'annually', 'storage', 'decentralized', 'order', 'secure', 'seed', 'data', 'network', 'storage', 'capacity', 'required', 'allowing', 'redundancy', 'costs', 'expected', 'rise', 'times', 'unit', 'price', 'ensure', 'adequate', 'number', 'nodes', 'backups', 'cost', 'data', 'storage', 'drives', 'peak', 'load', 'providing', 'redundancy', 'equal', 'overheads', 'total', 'storage', 'cost', 'peak', 'load', 'reserve', 'annually', 'transaction', 'volume', 'estimated', 'peak', 'load', 'tab', 'total', 'cover', 'data', 'storage', 'expenses', 'transactions', 'year', 'transactions', 'year', 'history', 'records', 'cost', 'storage', 'transaction', 'years', 'estimated', 'average', 'peak', 'load', 'network', 'reaches', 'high', 'costs', 'historical', 'data', 'storage', 'subjected', 'forking', 'confirmed', 'general', 'vote', 'creating', 'genesis', 'block', 'reduce', 'data', 'storage', 'expenses', 'hour', 'hours', 'month', 'year', 'minute', 'hour', 'hours', 'year', 'tab', 'data', 'size', 'transactions', 'tab', 'volume', 'transactions', 'estimated', 'peak', 'load', 'project', 'goals', 'metahash', 'technical', 'features', 'testing', 'methodology', 'test', 'building', 'network', 'test', 'bulk', 'transactions', 'verification', 'latency', 'test', 'network', 'failure', 'test', 'continental', 'blockage', 'network', 'recovery', 'testing', 'network', 'description', 'metasync', 'data', 'synchronization', 'subsystem', 'network', 'structure', 'trust', 'network', 'topology', 'network', 'map', 'metapos', 'multiconsensus', 'subsystem', 'metahash', 'multiple', 'proof', 'stake', 'multipos', 'trust', 'voting', 'cryptography', 'block', 'structure', 'balance', 'model', 'transactions', 'protocol', 'features', 'specialuse', 'addresses', 'multisignature', 'address', 'frozen', 'address', 'child', 'address', 'forging', 'mhc', 'delegation', 'reward', 'distribution', 'strategy', 'risks', 'conclusion', 'data', 'storage']"
     ]
    },
    {
     "name": "stdout",
     "output_type": "stream",
     "text": [
      "\n"
     ]
    }
   ],
   "source": [
    "# tokenizing the entire corpus by word\n",
    "def sent_to_words(sentences):\n",
    "    for sent in sentences:\n",
    "        sent = re.sub('\\S*@\\S*\\s?', '', sent)  # remove emails\n",
    "        sent = re.sub('\\s+', ' ', sent)  # remove newline chars\n",
    "        sent = re.sub(\"\\'\", \"\", sent)  # remove single quotes\n",
    "        sent = gensim.utils.simple_preprocess(str(sent), deacc=True) \n",
    "        yield(sent)  \n",
    "\n",
    "# Convert to list\n",
    "data = data_df.whitepapers.values.tolist()\n",
    "data_words = list(sent_to_words(data))"
   ]
  },
  {
   "cell_type": "code",
   "execution_count": 13,
   "metadata": {},
   "outputs": [],
   "source": [
    "# Build the bigram and trigram models\n",
    "bigram = gensim.models.Phrases(data_words, min_count=5, threshold=100) # higher threshold fewer phrases.\n",
    "trigram = gensim.models.Phrases(bigram[data_words], threshold=100)  \n",
    "bigram_mod = gensim.models.phrases.Phraser(bigram)\n",
    "trigram_mod = gensim.models.phrases.Phraser(trigram)\n",
    "\n",
    "# !python3 -m spacy download en  # run in terminal once\n",
    "def process_words(texts, stop_words=stop_words, allowed_postags=['NOUN', 'ADJ', 'VERB', 'ADV']):\n",
    "    \"\"\"Remove Stopwords, Form Bigrams, Trigrams and Lemmatization\"\"\"\n",
    "    texts = [[word for word in simple_preprocess(str(doc)) if word not in stop_words] for doc in texts]\n",
    "    texts = [bigram_mod[doc] for doc in texts]\n",
    "    texts = [trigram_mod[bigram_mod[doc]] for doc in texts]\n",
    "    texts_out = []\n",
    "    #nlp = spacy.load('en', disable=['parser', 'ner'])\n",
    "    nlp = spacy.load('en_core_web_sm', disable=['parser', 'ner'])\n",
    "    for sent in texts:\n",
    "        doc = nlp(\" \".join(sent)) \n",
    "        texts_out.append([token.lemma_ for token in doc if token.pos_ in allowed_postags])\n",
    "    # remove stopwords once more after lemmatization\n",
    "    texts_out = [[word for word in simple_preprocess(str(doc)) if word not in stop_words] for doc in texts_out]    \n",
    "    return texts_out\n",
    "\n",
    "data_ready = process_words(data_words)  # processed Text Data!"
   ]
  },
  {
   "cell_type": "markdown",
   "metadata": {},
   "source": [
    "## 3 - Methods Application\n",
    "\n",
    "### Topic Modeling on Blockchain Whitepapers"
   ]
  },
  {
   "cell_type": "markdown",
   "metadata": {},
   "source": [
    "At the document level, a useful ways to understand the text is by analysing its topics. Topic Modelling is the process of learning, recognising and extracting the topics across a collection of documents. This notebook tries to uncover topics from blockchain whitepapers that is relevant to Schungrat in-terms of investment dimensions.\n",
    "\n",
    "The notebook explores some of the methods of Topic Modelling such as ***Non-negative Matrix Factorization*** & ***Latent Dirichlet Allocation*** to see which fits better. Rather than being conceptual or mathematical, this notebook offers an applied approach with comments for the codes.\n",
    "\n",
    "\n",
    "Since the goal of this notebook is Topic Modelling, the text must be tokenized which means broken down to small pieces which here is words. We use scikit-learn's CountVectorizer technique where every row represents a different document and every column will represent a different word. \n",
    "\n",
    "At this moment, stop words are also removed thanks to CountVectorizer. Stop words are common words that seldom adds meaning or value to the text. \n"
   ]
  },
  {
   "cell_type": "code",
   "execution_count": 14,
   "metadata": {},
   "outputs": [],
   "source": [
    "#Creating corpus and dictionary for gensim\n",
    "id2word = corpora.Dictionary(data_ready)\n",
    "corpus_lda = [id2word.doc2bow(text) for text in data_ready]"
   ]
  },
  {
   "cell_type": "code",
   "execution_count": 15,
   "metadata": {},
   "outputs": [],
   "source": [
    "#lda with countvectorizer\n",
    "lda_gensim = gensim.models.ldamodel.LdaModel(corpus=corpus_lda,\n",
    "                                           id2word=id2word,\n",
    "                                           num_topics=6, \n",
    "                                           random_state=21,\n",
    "                                           update_every=1,\n",
    "                                           chunksize=100,\n",
    "                                           passes=20,\n",
    "                                           alpha='auto',\n",
    "                                           iterations=100,\n",
    "                                           per_word_topics=True)\n"
   ]
  },
  {
   "cell_type": "code",
   "execution_count": 16,
   "metadata": {},
   "outputs": [],
   "source": [
    "#creating a Dataframe of topics and words in it\n",
    "def get_lda_topics(model, num_topics):\n",
    "    word_dict = {};\n",
    "    for i in range(num_topics):\n",
    "        words = model.show_topic(i, topn = 10);\n",
    "        word_dict['Topic # ' + '{:02d}'.format(i+1)] = [i[0] for i in words];\n",
    "    return pd.DataFrame(word_dict);"
   ]
  },
  {
   "cell_type": "code",
   "execution_count": 17,
   "metadata": {},
   "outputs": [
    {
     "data": {
      "text/html": [
       "<div>\n",
       "<style scoped>\n",
       "    .dataframe tbody tr th:only-of-type {\n",
       "        vertical-align: middle;\n",
       "    }\n",
       "\n",
       "    .dataframe tbody tr th {\n",
       "        vertical-align: top;\n",
       "    }\n",
       "\n",
       "    .dataframe thead th {\n",
       "        text-align: right;\n",
       "    }\n",
       "</style>\n",
       "<table border=\"1\" class=\"dataframe\">\n",
       "  <thead>\n",
       "    <tr style=\"text-align: right;\">\n",
       "      <th></th>\n",
       "      <th>Topic # 01</th>\n",
       "      <th>Topic # 02</th>\n",
       "      <th>Topic # 03</th>\n",
       "      <th>Topic # 04</th>\n",
       "      <th>Topic # 05</th>\n",
       "      <th>Topic # 06</th>\n",
       "    </tr>\n",
       "  </thead>\n",
       "  <tbody>\n",
       "    <tr>\n",
       "      <th>0</th>\n",
       "      <td>key</td>\n",
       "      <td>token</td>\n",
       "      <td>blockchain</td>\n",
       "      <td>blockchain</td>\n",
       "      <td>transaction</td>\n",
       "      <td>node</td>\n",
       "    </tr>\n",
       "    <tr>\n",
       "      <th>1</th>\n",
       "      <td>note</td>\n",
       "      <td>platform</td>\n",
       "      <td>user</td>\n",
       "      <td>user</td>\n",
       "      <td>node</td>\n",
       "      <td>unit</td>\n",
       "    </tr>\n",
       "    <tr>\n",
       "      <th>2</th>\n",
       "      <td>saple</td>\n",
       "      <td>network</td>\n",
       "      <td>transaction</td>\n",
       "      <td>network</td>\n",
       "      <td>block</td>\n",
       "      <td>set</td>\n",
       "    </tr>\n",
       "    <tr>\n",
       "      <th>3</th>\n",
       "      <td>transaction</td>\n",
       "      <td>user</td>\n",
       "      <td>network</td>\n",
       "      <td>chain</td>\n",
       "      <td>network</td>\n",
       "      <td>service</td>\n",
       "    </tr>\n",
       "    <tr>\n",
       "      <th>4</th>\n",
       "      <td>dene</td>\n",
       "      <td>blockchain</td>\n",
       "      <td>token</td>\n",
       "      <td>bitcoin</td>\n",
       "      <td>blockchain</td>\n",
       "      <td>block</td>\n",
       "    </tr>\n",
       "    <tr>\n",
       "      <th>5</th>\n",
       "      <td>block</td>\n",
       "      <td>market</td>\n",
       "      <td>bitcoin</td>\n",
       "      <td>technology</td>\n",
       "      <td>account</td>\n",
       "      <td>event</td>\n",
       "    </tr>\n",
       "    <tr>\n",
       "      <th>6</th>\n",
       "      <td>bit</td>\n",
       "      <td>payment</td>\n",
       "      <td>datum</td>\n",
       "      <td>datum</td>\n",
       "      <td>consensus</td>\n",
       "      <td>datum</td>\n",
       "    </tr>\n",
       "    <tr>\n",
       "      <th>7</th>\n",
       "      <td>input</td>\n",
       "      <td>fee</td>\n",
       "      <td>asset</td>\n",
       "      <td>asset</td>\n",
       "      <td>protocol</td>\n",
       "      <td>network</td>\n",
       "    </tr>\n",
       "    <tr>\n",
       "      <th>8</th>\n",
       "      <td>hash</td>\n",
       "      <td>asset</td>\n",
       "      <td>key</td>\n",
       "      <td>transaction</td>\n",
       "      <td>time</td>\n",
       "      <td>layer</td>\n",
       "    </tr>\n",
       "    <tr>\n",
       "      <th>9</th>\n",
       "      <td>sprout</td>\n",
       "      <td>transaction</td>\n",
       "      <td>distribute</td>\n",
       "      <td>node</td>\n",
       "      <td>datum</td>\n",
       "      <td>address</td>\n",
       "    </tr>\n",
       "  </tbody>\n",
       "</table>\n",
       "</div>"
      ],
      "text/plain": [
       "    Topic # 01   Topic # 02   Topic # 03   Topic # 04   Topic # 05 Topic # 06\n",
       "0          key        token   blockchain   blockchain  transaction       node\n",
       "1         note     platform         user         user         node       unit\n",
       "2        saple      network  transaction      network        block        set\n",
       "3  transaction         user      network        chain      network    service\n",
       "4         dene   blockchain        token      bitcoin   blockchain      block\n",
       "5        block       market      bitcoin   technology      account      event\n",
       "6          bit      payment        datum        datum    consensus      datum\n",
       "7        input          fee        asset        asset     protocol    network\n",
       "8         hash        asset          key  transaction         time      layer\n",
       "9       sprout  transaction   distribute         node        datum    address"
      ]
     },
     "execution_count": 17,
     "metadata": {},
     "output_type": "execute_result"
    }
   ],
   "source": [
    "get_lda_topics(lda_gensim, 6)"
   ]
  },
  {
   "cell_type": "code",
   "execution_count": 19,
   "metadata": {},
   "outputs": [
    {
     "name": "stdout",
     "output_type": "stream",
     "text": [
      "\n",
      "Perplexity:  -7.768409392643083\n"
     ]
    }
   ],
   "source": [
    "# Compute Perplexity\n",
    "print('\\nPerplexity: ', lda_gensim.log_perplexity(corpus_lda))  # a measure of how good the model is. lower the better.\n",
    "\n",
    "# Compute Coherence Score\n",
    "#coherence_model_lda = CoherenceModel(model=lda_gensim, texts=data_ready, dictionary=id2word, coherence='c_v')\n",
    "#coherence_lda = coherence_model_lda.get_coherence()\n",
    "#print('\\nCoherence Score: ', coherence_lda)"
   ]
  },
  {
   "cell_type": "markdown",
   "metadata": {},
   "source": [
    "### Word Count and Importance of Topic keyword"
   ]
  },
  {
   "cell_type": "code",
   "execution_count": 21,
   "metadata": {},
   "outputs": [
    {
     "data": {
      "image/png": "[encoded data removed]",
      "text/plain": [
       "<Figure size 800x500 with 8 Axes>"
      ]
     },
     "metadata": {
      "needs_background": "light"
     },
     "output_type": "display_data"
    }
   ],
   "source": [
    "# Topics of the model\n",
    "topics = lda_gensim.show_topics(formatted=False)\n",
    "\n",
    "data_flat = [w for w_list in data_ready for w in w_list]\n",
    "counter = Counter(data_flat)\n",
    "\n",
    "out = []\n",
    "for i, topic in topics:\n",
    "    for word, weight in topic:\n",
    "        out.append([word, i , weight, counter[word]])\n",
    "\n",
    "df = pd.DataFrame(out, columns=['word', 'topic_id', 'importance', 'word_count'])        \n",
    "\n",
    "# Plot Word Count and Weights of Topic Keywords\n",
    "fig, axes = plt.subplots(2, 2, figsize=(16,10), sharey=True, dpi=50)\n",
    "cols = [color for name, color in mcolors.TABLEAU_COLORS.items()]\n",
    "for i, ax in enumerate(axes.flatten()):\n",
    "    ax.bar(x='word', height=\"word_count\", data=df.loc[df.topic_id==i, :], color=cols[i], width=0.5, alpha=0.3, label='Word Count')\n",
    "    ax_twin = ax.twinx()\n",
    "    ax_twin.bar(x='word', height=\"importance\", data=df.loc[df.topic_id==i, :], color=cols[i], width=0.2, label='Weights')\n",
    "    ax.set_ylabel('Word Count', color=cols[i])\n",
    "    ax_twin.set_ylim(0, 0.030); ax.set_ylim(0, 3500)\n",
    "    ax.set_title('Topic: ' + str(i), color=cols[i], fontsize=16)\n",
    "    ax.tick_params(axis='y', left=False)\n",
    "    ax.set_xticklabels(df.loc[df.topic_id==i, 'word'], rotation=30, horizontalalignment= 'right')\n",
    "    ax.legend(loc='upper left'); ax_twin.legend(loc='upper right')\n",
    "\n",
    "fig.tight_layout(w_pad=2)    \n",
    "fig.suptitle('Word Count and Importance of Topic Keywords', fontsize=22, y=1.05)    \n",
    "plt.show()"
   ]
  },
  {
   "cell_type": "markdown",
   "metadata": {},
   "source": [
    "### Dominant Topic and it's percentage contribution in the document"
   ]
  },
  {
   "cell_type": "code",
   "execution_count": 25,
   "metadata": {},
   "outputs": [
    {
     "data": {
      "text/html": [
       "<div>\n",
       "<style scoped>\n",
       "    .dataframe tbody tr th:only-of-type {\n",
       "        vertical-align: middle;\n",
       "    }\n",
       "\n",
       "    .dataframe tbody tr th {\n",
       "        vertical-align: top;\n",
       "    }\n",
       "\n",
       "    .dataframe thead th {\n",
       "        text-align: right;\n",
       "    }\n",
       "</style>\n",
       "<table border=\"1\" class=\"dataframe\">\n",
       "  <thead>\n",
       "    <tr style=\"text-align: right;\">\n",
       "      <th></th>\n",
       "      <th>Document_No</th>\n",
       "      <th>Dominant_Topic</th>\n",
       "      <th>Topic_Perc_Contrib</th>\n",
       "      <th>Keywords</th>\n",
       "      <th>Text</th>\n",
       "    </tr>\n",
       "  </thead>\n",
       "  <tbody>\n",
       "    <tr>\n",
       "      <th>0</th>\n",
       "      <td>0</td>\n",
       "      <td>4.0</td>\n",
       "      <td>1.0000</td>\n",
       "      <td>transaction, node, block, network, blockchain, account, consensus, protocol, time, datum</td>\n",
       "      <td>[yellow_paper, technical, documentation, version, metahash, gartenstrasse, zug, switzerland, yellow_paper, project, goal, metahash, technical, fea...</td>\n",
       "    </tr>\n",
       "    <tr>\n",
       "      <th>1</th>\n",
       "      <td>1</td>\n",
       "      <td>1.0</td>\n",
       "      <td>0.7222</td>\n",
       "      <td>token, platform, network, user, blockchain, market, payment, fee, asset, transaction</td>\n",
       "      <td>[open, protocol, decentralize, exchange, ethereum, blockchain, warren, amir, xprojectcom, february, protocol, facilitate, low, friction, peertopee...</td>\n",
       "    </tr>\n",
       "    <tr>\n",
       "      <th>2</th>\n",
       "      <td>2</td>\n",
       "      <td>1.0</td>\n",
       "      <td>0.7920</td>\n",
       "      <td>token, platform, network, user, blockchain, market, payment, fee, asset, transaction</td>\n",
       "      <td>[concept, reference, purpose, project, summary, iii, abbcs, ecosystem, abbc_coin, scope, create, content, safety, wallet, advantage, business, tec...</td>\n",
       "    </tr>\n",
       "    <tr>\n",
       "      <th>3</th>\n",
       "      <td>3</td>\n",
       "      <td>2.0</td>\n",
       "      <td>0.7511</td>\n",
       "      <td>blockchain, user, transaction, network, token, bitcoin, datum, asset, key, distribute</td>\n",
       "      <td>[white_paper, july, internet, matthew, speak, mattaionnetwork, nuco, engineering, team, aionnucoio, release, july, mainstream, adoption, blockchai...</td>\n",
       "    </tr>\n",
       "    <tr>\n",
       "      <th>4</th>\n",
       "      <td>4</td>\n",
       "      <td>4.0</td>\n",
       "      <td>0.4043</td>\n",
       "      <td>transaction, node, block, network, blockchain, account, consensus, protocol, time, datum</td>\n",
       "      <td>[ultimate, currency, apollo, privacy, mission, content, apollo, offer, absolute, freedom, total, control, alternative, decentralized, framework, c...</td>\n",
       "    </tr>\n",
       "    <tr>\n",
       "      <th>5</th>\n",
       "      <td>5</td>\n",
       "      <td>2.0</td>\n",
       "      <td>1.0000</td>\n",
       "      <td>blockchain, user, transaction, network, token, bitcoin, datum, asset, key, distribute</td>\n",
       "      <td>[jeluridawpicov, content, history, iii, business_talk, vii, testimonial, viii, ardor, evolve, timeteste, nxt, blockchain, testnet, launch, unique,...</td>\n",
       "    </tr>\n",
       "    <tr>\n",
       "      <th>6</th>\n",
       "      <td>6</td>\n",
       "      <td>1.0</td>\n",
       "      <td>0.9471</td>\n",
       "      <td>token, platform, network, user, blockchain, market, payment, fee, asset, transaction</td>\n",
       "      <td>[version, april, ark, empower, aim, technical, background, leverage, blockchain, technology, identify, problem, blockchain, industry, illustrate, ...</td>\n",
       "    </tr>\n",
       "    <tr>\n",
       "      <th>7</th>\n",
       "      <td>7</td>\n",
       "      <td>2.0</td>\n",
       "      <td>0.9968</td>\n",
       "      <td>blockchain, user, transaction, network, token, bitcoin, datum, asset, key, distribute</td>\n",
       "      <td>[basic, attention, token, bat, blockchain, base, digital, advertising, brave, software, march, digital, advertising, break, marketplace, online, a...</td>\n",
       "    </tr>\n",
       "    <tr>\n",
       "      <th>8</th>\n",
       "      <td>8</td>\n",
       "      <td>4.0</td>\n",
       "      <td>0.4440</td>\n",
       "      <td>transaction, node, block, network, blockchain, account, consensus, protocol, time, datum</td>\n",
       "      <td>[distribute, payment, base, bitcoin, hash, power, credit, bhp, payment, versionv, github, outline, summary, bhp, payment, architecture, key, techn...</td>\n",
       "    </tr>\n",
       "    <tr>\n",
       "      <th>9</th>\n",
       "      <td>9</td>\n",
       "      <td>3.0</td>\n",
       "      <td>0.9231</td>\n",
       "      <td>blockchain, user, network, chain, bitcoin, technology, datum, asset, transaction, node</td>\n",
       "      <td>[binance, exchange, intro, problem, binance, exchange, matching_engine, feature, rollout, coin, device, coverage, multilingual, support, preview, ...</td>\n",
       "    </tr>\n",
       "  </tbody>\n",
       "</table>\n",
       "</div>"
      ],
      "text/plain": [
       "   Document_No  Dominant_Topic  Topic_Perc_Contrib  \\\n",
       "0            0             4.0              1.0000   \n",
       "1            1             1.0              0.7222   \n",
       "2            2             1.0              0.7920   \n",
       "3            3             2.0              0.7511   \n",
       "4            4             4.0              0.4043   \n",
       "5            5             2.0              1.0000   \n",
       "6            6             1.0              0.9471   \n",
       "7            7             2.0              0.9968   \n",
       "8            8             4.0              0.4440   \n",
       "9            9             3.0              0.9231   \n",
       "\n",
       "                                                                                   Keywords  \\\n",
       "0  transaction, node, block, network, blockchain, account, consensus, protocol, time, datum   \n",
       "1      token, platform, network, user, blockchain, market, payment, fee, asset, transaction   \n",
       "2      token, platform, network, user, blockchain, market, payment, fee, asset, transaction   \n",
       "3     blockchain, user, transaction, network, token, bitcoin, datum, asset, key, distribute   \n",
       "4  transaction, node, block, network, blockchain, account, consensus, protocol, time, datum   \n",
       "5     blockchain, user, transaction, network, token, bitcoin, datum, asset, key, distribute   \n",
       "6      token, platform, network, user, blockchain, market, payment, fee, asset, transaction   \n",
       "7     blockchain, user, transaction, network, token, bitcoin, datum, asset, key, distribute   \n",
       "8  transaction, node, block, network, blockchain, account, consensus, protocol, time, datum   \n",
       "9    blockchain, user, network, chain, bitcoin, technology, datum, asset, transaction, node   \n",
       "\n",
       "                                                                                                                                                    Text  \n",
       "0  [yellow_paper, technical, documentation, version, metahash, gartenstrasse, zug, switzerland, yellow_paper, project, goal, metahash, technical, fea...  \n",
       "1  [open, protocol, decentralize, exchange, ethereum, blockchain, warren, amir, xprojectcom, february, protocol, facilitate, low, friction, peertopee...  \n",
       "2  [concept, reference, purpose, project, summary, iii, abbcs, ecosystem, abbc_coin, scope, create, content, safety, wallet, advantage, business, tec...  \n",
       "3  [white_paper, july, internet, matthew, speak, mattaionnetwork, nuco, engineering, team, aionnucoio, release, july, mainstream, adoption, blockchai...  \n",
       "4  [ultimate, currency, apollo, privacy, mission, content, apollo, offer, absolute, freedom, total, control, alternative, decentralized, framework, c...  \n",
       "5  [jeluridawpicov, content, history, iii, business_talk, vii, testimonial, viii, ardor, evolve, timeteste, nxt, blockchain, testnet, launch, unique,...  \n",
       "6  [version, april, ark, empower, aim, technical, background, leverage, blockchain, technology, identify, problem, blockchain, industry, illustrate, ...  \n",
       "7  [basic, attention, token, bat, blockchain, base, digital, advertising, brave, software, march, digital, advertising, break, marketplace, online, a...  \n",
       "8  [distribute, payment, base, bitcoin, hash, power, credit, bhp, payment, versionv, github, outline, summary, bhp, payment, architecture, key, techn...  \n",
       "9  [binance, exchange, intro, problem, binance, exchange, matching_engine, feature, rollout, coin, device, coverage, multilingual, support, preview, ...  "
      ]
     },
     "execution_count": 25,
     "metadata": {},
     "output_type": "execute_result"
    }
   ],
   "source": [
    "# Function that gets the Dominant Topic in a Document\n",
    "def format_topics_sentences(ldamodel=None, corpus=corpus_lda, texts=data):\n",
    "    # Init output\n",
    "    sent_topics_df = pd.DataFrame()\n",
    "\n",
    "    # Get main topic in each document\n",
    "    for i, row_list in enumerate(ldamodel[corpus]):\n",
    "        row = row_list[0] if ldamodel.per_word_topics else row_list            \n",
    "        # print(row)\n",
    "        row = sorted(row, key=lambda x: (x[1]), reverse=True)\n",
    "        # Get the Dominant topic, Perc Contribution and Keywords for each document\n",
    "        for j, (topic_num, prop_topic) in enumerate(row):\n",
    "            if j == 0:  # => dominant topic\n",
    "                wp = ldamodel.show_topic(topic_num)\n",
    "                topic_keywords = \", \".join([word for word, prop in wp])\n",
    "                sent_topics_df = sent_topics_df.append(pd.Series([int(topic_num), round(prop_topic,4), topic_keywords]), ignore_index=True)\n",
    "            else:\n",
    "                break\n",
    "    sent_topics_df.columns = ['Dominant_Topic', 'Perc_Contribution', 'Topic_Keywords']\n",
    "\n",
    "    # Add original text to the end of the output\n",
    "    contents = pd.Series(texts)\n",
    "    sent_topics_df = pd.concat([sent_topics_df, contents], axis=1)\n",
    "    return(sent_topics_df)\n",
    "\n",
    "\n",
    "df_topic_sents_keywords = format_topics_sentences(ldamodel=lda_gensim, corpus=corpus_lda, texts=data_ready)\n",
    "\n",
    "# Format\n",
    "df_dominant_topic = df_topic_sents_keywords.reset_index()\n",
    "df_dominant_topic.columns = ['Document_No', 'Dominant_Topic', 'Topic_Perc_Contrib', 'Keywords', 'Text']\n",
    "df_dominant_topic.head(10)"
   ]
  },
  {
   "cell_type": "markdown",
   "metadata": {},
   "source": [
    "### Most Discussed Topics in the Document"
   ]
  },
  {
   "cell_type": "code",
   "execution_count": 93,
   "metadata": {},
   "outputs": [],
   "source": [
    "# Function that gets all the topics per document\n",
    "def topics_per_document(model, corpus, start=0, end=1, doc=None, df=None):\n",
    "    if doc == None:\n",
    "        corpus_sel = corpus[start:end]\n",
    "    else:\n",
    "        index = df.reset_index().loc[df.index == doc].index[0]\n",
    "        corpus_sel = [corpus[index]]\n",
    "    dominant_topics = []\n",
    "    topic_percentages = []\n",
    "    for i, corp in enumerate(corpus_sel):\n",
    "        topic_percs, wordid_topics, wordid_phivalues = model[corp]\n",
    "        dominant_topic = sorted(topic_percs, key = lambda x: x[1], reverse=True)[0][0]\n",
    "        dominant_topics.append((i, dominant_topic))\n",
    "        topic_percentages.append(topic_percs)\n",
    "    return(dominant_topics, topic_percentages)\n",
    "\n"
   ]
  },
  {
   "cell_type": "code",
   "execution_count": 106,
   "metadata": {},
   "outputs": [],
   "source": [
    "dominant_topics, topic_percentages = topics_per_document(model=lda_gensim, corpus=corpus_lda, end=-1)            \n",
    "\n",
    "# Distribution of Dominant Topics in Each Document\n",
    "df = pd.DataFrame(dominant_topics, columns=['Document_Id', 'Dominant_Topic'])\n",
    "dominant_topic_in_each_doc = df.groupby('Dominant_Topic').size()\n",
    "df_dominant_topic_in_each_doc = dominant_topic_in_each_doc.to_frame(name='count').reset_index()\n",
    "\n",
    "# Total Topic Distribution by actual weight\n",
    "topic_weightage_by_doc = pd.DataFrame([dict(t) for t in topic_percentages])\n",
    "df_topic_weightage_by_doc = topic_weightage_by_doc.sum().to_frame(name='count').reset_index()\n",
    "\n",
    "# Top 3 Keywords for each Topic\n",
    "topic_top3words = [(i, topic) for i, topics in lda_gensim.show_topics(formatted=False) \n",
    "                                 for j, (topic, wt) in enumerate(topics) if j < 3]\n",
    "\n",
    "df_top3words_stacked = pd.DataFrame(topic_top3words, columns=['topic_id', 'words'])\n",
    "df_top3words = df_top3words_stacked.groupby('topic_id').agg(', \\n'.join)\n",
    "df_top3words.reset_index(level=0,inplace=True)"
   ]
  },
  {
   "cell_type": "code",
   "execution_count": 107,
   "metadata": {},
   "outputs": [
    {
     "data": {
      "image/png": "[encoded data removed]",
      "text/plain": [
       "<Figure size 2250x900 with 2 Axes>"
      ]
     },
     "metadata": {
      "needs_background": "light"
     },
     "output_type": "display_data"
    }
   ],
   "source": [
    "# Plot\n",
    "fig, (ax1, ax2) = plt.subplots(1, 2, figsize=(15, 6), dpi=150, sharey=True)\n",
    "\n",
    "# Topic Distribution by Dominant Topics\n",
    "ax1.bar(x='Dominant_Topic', height='count', data=df_dominant_topic_in_each_doc, width=.5, color='firebrick')\n",
    "ax1.set_xticks(range(df_dominant_topic_in_each_doc.Dominant_Topic.unique().__len__()))\n",
    "tick_formatter = FuncFormatter(lambda x, pos: 'Topic ' + str(x)+ '\\n' + df_top3words.loc[df_top3words.topic_id==x, 'words'].values[0])\n",
    "ax1.xaxis.set_major_formatter(tick_formatter)\n",
    "ax1.set_title('Number of Documents by Dominant Topic', fontdict=dict(size=10))\n",
    "ax1.set_ylabel('Number of Documents')\n",
    "ax1.set_ylim(0, 50)\n",
    "\n",
    "# Topic Distribution by Topic Weights\n",
    "ax2.bar(x='index', height='count', data=df_topic_weightage_by_doc, width=.5, color='steelblue')\n",
    "ax2.set_xticks(range(df_topic_weightage_by_doc.index.unique().__len__()))\n",
    "ax2.xaxis.set_major_formatter(tick_formatter)\n",
    "ax2.set_title('Number of Documents by Topic Weightage', fontdict=dict(size=10))\n",
    "\n",
    "plt.show()"
   ]
  },
  {
   "cell_type": "code",
   "execution_count": 35,
   "metadata": {},
   "outputs": [],
   "source": [
    "#saving the trained lda\n",
    "trained = datapath(\"model_lda_topicmodeling\")\n",
    "lda_gensim.save(trained)\n",
    "#loading the saved file\n",
    "trained_lda = gensim.models.ldamodel.LdaModel.load(trained)"
   ]
  },
  {
   "cell_type": "markdown",
   "metadata": {},
   "source": [
    "## 4 - Outcome "
   ]
  },
  {
   "cell_type": "markdown",
   "metadata": {},
   "source": [
    "### Input"
   ]
  },
  {
   "cell_type": "code",
   "execution_count": 28,
   "metadata": {},
   "outputs": [
    {
     "data": {
      "text/plain": [
       "dict_keys(['adcoin', 'budbo', 'kwattcoin', 'oceanprotocol'])"
      ]
     },
     "execution_count": 28,
     "metadata": {},
     "output_type": "execute_result"
    }
   ],
   "source": [
    "TEST_DIR = os.path.join(ROOT_DIR, \"test-white-papers\")\n",
    "testset = pdf2text.get_dataset(path=TEST_DIR)\n",
    "testset.keys()"
   ]
  },
  {
   "cell_type": "code",
   "execution_count": 30,
   "metadata": {},
   "outputs": [
    {
     "name": "stdout",
     "output_type": "stream",
     "text": [
      "Cleaning: adcoin\n"
     ]
    },
    {
     "name": "stderr",
     "output_type": "stream",
     "text": [
      "[nltk_data] Downloading package punkt to\n",
      "[nltk_data]     C:\\Users\\luisd\\AppData\\Roaming\\nltk_data...\n",
      "[nltk_data]   Package punkt is already up-to-date!\n",
      "[nltk_data] Downloading package stopwords to\n",
      "[nltk_data]     C:\\Users\\luisd\\AppData\\Roaming\\nltk_data...\n",
      "[nltk_data]   Package stopwords is already up-to-date!\n",
      "[nltk_data] Downloading package averaged_perceptron_tagger to\n",
      "[nltk_data]     C:\\Users\\luisd\\AppData\\Roaming\\nltk_data...\n",
      "[nltk_data]   Package averaged_perceptron_tagger is already up-to-\n",
      "[nltk_data]       date!\n",
      "[nltk_data] Downloading package wordnet to\n",
      "[nltk_data]     C:\\Users\\luisd\\AppData\\Roaming\\nltk_data...\n",
      "[nltk_data]   Package wordnet is already up-to-date!\n",
      "[nltk_data] Error loading en_core_web_md: Package 'en_core_web_md' not\n",
      "[nltk_data]     found in index\n"
     ]
    },
    {
     "name": "stdout",
     "output_type": "stream",
     "text": [
      "Cleaning: budbo\n",
      "Cleaning: kwattcoin\n",
      "Cleaning: oceanprotocol\n",
      "Done!\n"
     ]
    }
   ],
   "source": [
    "# Define if you want your corpus to be whole or divided in sentences\n",
    "makeSentences = False\n",
    "# Creates a dictionary with each White Paper and its text pre-processed\n",
    "corpora_test = corpus.makeCleanCorpus(testset, lemmatize=True, removePunct=True, removeNums=True\n",
    "                                 ,makeSentences=makeSentences, removeURL=True, removeChar=True, removeEnt=False)"
   ]
  },
  {
   "cell_type": "code",
   "execution_count": 36,
   "metadata": {},
   "outputs": [
    {
     "name": "stdout",
     "output_type": "stream",
     "text": [
      "Cleaning: adcoin\n"
     ]
    },
    {
     "name": "stderr",
     "output_type": "stream",
     "text": [
      "[nltk_data] Downloading package punkt to\n",
      "[nltk_data]     C:\\Users\\luisd\\AppData\\Roaming\\nltk_data...\n",
      "[nltk_data]   Package punkt is already up-to-date!\n",
      "[nltk_data] Downloading package stopwords to\n",
      "[nltk_data]     C:\\Users\\luisd\\AppData\\Roaming\\nltk_data...\n",
      "[nltk_data]   Package stopwords is already up-to-date!\n",
      "[nltk_data] Downloading package averaged_perceptron_tagger to\n",
      "[nltk_data]     C:\\Users\\luisd\\AppData\\Roaming\\nltk_data...\n",
      "[nltk_data]   Package averaged_perceptron_tagger is already up-to-\n",
      "[nltk_data]       date!\n",
      "[nltk_data] Downloading package wordnet to\n",
      "[nltk_data]     C:\\Users\\luisd\\AppData\\Roaming\\nltk_data...\n",
      "[nltk_data]   Package wordnet is already up-to-date!\n",
      "[nltk_data] Error loading en_core_web_md: Package 'en_core_web_md' not\n",
      "[nltk_data]     found in index\n"
     ]
    },
    {
     "name": "stdout",
     "output_type": "stream",
     "text": [
      "Cleaning: budbo\n",
      "Cleaning: kwattcoin\n",
      "Cleaning: oceanprotocol\n",
      "Done!\n"
     ]
    }
   ],
   "source": [
    "# Define if you want your corpus to be whole or divided in sentences\n",
    "makeSentences = True\n",
    "# Creates a dictionary with each White Paper and its text pre-processed\n",
    "corpora_test_sent = corpus.makeCleanCorpus(testset, lemmatize=True, removePunct=True, removeNums=True\n",
    "                                 ,makeSentences=makeSentences, removeURL=True, removeChar=True, removeEnt=False)"
   ]
  },
  {
   "cell_type": "code",
   "execution_count": 38,
   "metadata": {},
   "outputs": [
    {
     "data": {
      "text/html": [
       "<div>\n",
       "<style scoped>\n",
       "    .dataframe tbody tr th:only-of-type {\n",
       "        vertical-align: middle;\n",
       "    }\n",
       "\n",
       "    .dataframe tbody tr th {\n",
       "        vertical-align: top;\n",
       "    }\n",
       "\n",
       "    .dataframe thead th {\n",
       "        text-align: right;\n",
       "    }\n",
       "</style>\n",
       "<table border=\"1\" class=\"dataframe\">\n",
       "  <thead>\n",
       "    <tr style=\"text-align: right;\">\n",
       "      <th></th>\n",
       "      <th>whitepapers</th>\n",
       "    </tr>\n",
       "  </thead>\n",
       "  <tbody>\n",
       "    <tr>\n",
       "      <th>adcoin</th>\n",
       "      <td>adcoin adcoin version  blockchain offer lot great opportunity technological advancement  adopt blockchain bitcoin literally internet money  bitcoi...</td>\n",
       "    </tr>\n",
       "    <tr>\n",
       "      <th>budbo</th>\n",
       "      <td>budbo global cannabis blockchain comprehensive blockchain solution cannabis industry version  web wwwbudboio content forward statement            ...</td>\n",
       "    </tr>\n",
       "    <tr>\n",
       "      <th>kwattcoin</th>\n",
       "      <td>newwhitepaper  disclaimer document document constitute prospectus sort solicitation investment  kwatt coin represent ownership share public privat...</td>\n",
       "    </tr>\n",
       "    <tr>\n",
       "      <th>oceanprotocol</th>\n",
       "      <td>ocean protocol decentralize substrate data service technical ocean protocol foundation bigchaindb gmbh newton circus dex pte  ltd version apr pape...</td>\n",
       "    </tr>\n",
       "  </tbody>\n",
       "</table>\n",
       "</div>"
      ],
      "text/plain": [
       "                                                                                                                                                         whitepapers\n",
       "adcoin         adcoin adcoin version  blockchain offer lot great opportunity technological advancement  adopt blockchain bitcoin literally internet money  bitcoi...\n",
       "budbo          budbo global cannabis blockchain comprehensive blockchain solution cannabis industry version  web wwwbudboio content forward statement            ...\n",
       "kwattcoin      newwhitepaper  disclaimer document document constitute prospectus sort solicitation investment  kwatt coin represent ownership share public privat...\n",
       "oceanprotocol  ocean protocol decentralize substrate data service technical ocean protocol foundation bigchaindb gmbh newton circus dex pte  ltd version apr pape..."
      ]
     },
     "execution_count": 38,
     "metadata": {},
     "output_type": "execute_result"
    }
   ],
   "source": [
    "#Combining them and putting into pandas dataframe\n",
    "test_combined = {key:[combine_text(value)] for (key, value) in corpora_test_sent.items()}\n",
    "pd.set_option('max_colwidth', 150)\n",
    "test_df = pd.DataFrame.from_dict(test_combined).transpose()\n",
    "test_df.columns = ['whitepapers']\n",
    "test_df = test_df.sort_index()\n",
    "test_df.head()"
   ]
  },
  {
   "cell_type": "code",
   "execution_count": 71,
   "metadata": {},
   "outputs": [
    {
     "data": {
      "text/plain": [
       "'budbo global cannabis blockchain comprehensive blockchain solution cannabis industry version  web wwwbudboio content forward statement                                       security law disclaimer                                         founder letter                                               key definition                                                                                                     budbo platform ecosystem                                        project background                                            mission                                                    unique model                                                 case                                                   budbo business model                                          token sale                                                   budbo token description                                         token diagram                                               transparency community control                                   budbo token                                        budbo platform mobile app                                      market context                                               government regulation                                         project roadmap                                               team                                                      advisor                                                   partner                                                   risk factor                                                  budbo global cannabis blockchain web wwwbudboio white paper forwardlooking statement meaning us federal security law involve substantial risk uncertainty  forwardlooking statement involve unknown risk uncertainty factor actual result performance achievement materially future result performance achievement express imply forwardlooking statement control budbo token international ltd budbo inc risk uncertainty include limited factor caption risk factors  case identify forwardlooking statement term anticipates estimate expect intend plan potential predicts project expression intend identify forwardlooking statement  risk uncertainty include limited timing consummate propose token sale risk propose sale budbo token occur result current token sale regulatory limitation iii risk criminalization cannabis sale cannabis product applicable governmental jurisdiction include us risk regulatory approval require propose sale subject condition anticipate diversion management time transactionrelated issue ability budbo inc management implement business plan vii general market factor federal state regulation legislation  forwardlooking statement reflect current view respect future event base assumption subject risk uncertainty  forward statement budbo global cannabis blockchain web wwwbudboio uncertainty place undue reliance forwardlooking statement  forwardlooking statement represent estimate assumption white paper  read white paper completely understand actual future result materially expect  qualify forwardlooking statement cautionary statement  assume obligation update forwardlooking statement publicly update reason actual result differ materially anticipate forwardlooking statement future  forward statement cont  budbo global cannabis blockchain web wwwbudboio security law disclaimer security amend defines security note stock treasury stock security feature securitybased swap bond debenture evidence indebtedness certificate participation profit share agreement collateraltrust certificate preorganization certificate subscription transferable share investment contract voting trust certificate certificate deposit security fractional undivided oil gas mineral straddle option privilege security certificate deposit group security include base straddle option privilege enter national security exchange relate foreign currency general instrument commonly security certificate participation temporary interim certificate receipt guarantee warrant subscribe purchase forego budbo token represent confer ownership stake share security equivalent receive future revenue share profit intellectual property form participation relate budbo token international ltd budbo inc respective corporate affiliate include governance budbo token international ltd budbo inc budbo token intend digital currency security commodity expectation profit kind financial instrument  recognition fact united state government provide limited guidance pass law respect sale digital token united state base individual participate purchase budbo token  addition foreign investor aware law prohibit resident participate initial coin offering icos token sale canada south korea china singapore  budbo global cannabis blockchain web wwwbudboio budbo journey path touch life connect great number people  reading journey  time consideration  budbo simple idea connect patient user high quality locally cannabis product  simple mission realize create extraordinary platform dispensary manufacturer grower accurate data patient user preference  synergy born  notice direct correlation number patient application diversity local product offering  short patient explore product flower application target network grower manufacturer dispensary receive budbo dashboard  spoton forecasting decision product trend product buy stock shelf strain grow cultivate concentrate edible manufacture distribute budbo bridge gap patient dispensary manufacturer grower  business good accommodate grow cannabis network expand product offering include realtime gps track cannabis shipment  current network consists roughly user patient dispensary product manufacturer grow operation  grow worldwide network challenge steady climb  elevate offering utilize immutable ledger blockchain tokenization platform  imagine entire cannabis industry decentralize autonomous organization  patient identification medication regimen encrypt safely store ledger blockchain  smart contract enables safe transfer good verifiable proof pick lade proof delivery  medical test cannabis potency verify immutable product lab dispensary  community large govern group activist patient physician developer artist enthusiast work common goal improve cannabis industry contribute vote time engineering knowledge decentralize application network budbo  future  reality  contribution time treasure effort  sincerely jacob luke patterson founder budbo  founder letter ready secret success  henry ford stumble big idea  invest time energy sweat equity bring life  budbo global cannabis blockchain web wwwbudboio dispensariesretailers dispensary refers retail store cannabis cannabis product sell  customer customer recreational user medical patient cannabis  manufacturer manufacturer refers company cannabisrelated good product  diverse group include bakery produce cannabisinfused brownie edible company produce highly potent thc concentrate wax  growerscultivators company person grows cannabis  couriertransport person ship delivers cannabis  lab test cannabis flower product test thc cbd content percentage  supplier bottle service label nutrient supplier auxiliary cannabis company deal directly cannabis plant product industry nutrient light grower bottle dispensary  seed sale seed sale refers compliance track cannabis plant lifecycle  seed vegetation state weight harvest finally sale product  key definition budbo global cannabis blockchain web wwwbudboio legalization cannabis gain traction cannabis industry fragment economic ecosystem remains shroud black market practice  budbo firstofitskind fully integrate blockchainbased solution transparent standardize regulate interaction cannabis user dispensary courier  budbo bestinclass platform actively mobile user supplier dispensary  budbo consists mobile phone app cloudbased backend business intelligence platform  platform design match cannabis user pick close match cannabis strain product direct nearby dispensary carry product  platform provide delivery track service aim ensure visibility compliance cannabis delivery process  budbo vehicle tracked day  blockchain technology offer gloablize channel simultaneously hold immutable ledger leverage cryptotokens built smart contract  budbo token transaction instant average transaction confirmation time minute  transaction secure stateof theart cryptography blockchain integrity protect cpu efficient asic resistant proof work  unique model numerous operational process gap cannabis business  adoption blockchain cryptocurrency technology logical step development growth budbo platform  enables create structure solves issue surround supply chain management cannabis industry  round product offering provide secure payment method reward program combine cannabis product pursuit track platform crypto blockchain model  blockchain model easily accommodate stage cannabis pursuit sale logistics process address follow record store product life cycle event verify patient identification transaction assurance equipment order inventory management seed sale track client management delivery track verification platform analytics budbo global cannabis blockchain web wwwbudboio budbo platform ecosystem budbo blockchain backbone immutable verifiable data security layer api activity utilize budbo tokenbubo api access key  budbo global cannabis blockchain web wwwbudboio growth cannabis industry unparalleled year application marijuana explore institute  brought industry legal light create component order strengthen burgeon business  stand separation cannabis producer grower lab craftsman dispensary  budbo inc propel cannabis industry forward building global blockchain base immutable ledger implement utility token consumer retailer grower manufacturer entire global cannabis network  budbo bestinclass mobile app store industry data blockchain provide retailer realtime analytics consumer preference  delivery tracked realtime gps true data compliant documentation instantly store blockchain immutable ledger  provide unprecedented solution secure storage historical record  budbo international utility token enable integration budbo blockchain party api single point data driven cannabis environment flourish  budbo function cloudbased platform brings relevant party cannabis industry order increase standardization transparency efficiency channel  budbo offer unified solution cannabis business user transact safely securely compliance federal state regulation  project background budbo global cannabis blockchain web wwwbudboio unique challenge face cannabis industry solution  fact enormous longestablished market remains historically illegal difficult access business  rapid growth expansion sector lucrative dispensary transporter increasingly legalize channel  consumer spent billion cannabis number quadruple global scale  medical progression industry transition large legal economy budbo major factor facilitate historical change  budbo aim address fragmentation marginalization cannabis industry creation unified platform enables unified cannabis seed sale supply chain management process global platform  base effort budbo blockchain token  budbo token bubo fund effort token sale strategic effort remain decentralize traditional form  goal cannabis focus platform meet user supplier dispensary courier built blockchain cryptotechnology  aim onestop platform integrate accelerate facilitate generation transparency social interaction rapidly grow increasingly legalize cannabis industry  mission budbo global cannabis blockchain web wwwbudboio budbo unique tinder model proven highly effective drive alignment business operating model  combination bestinclass mobile app business intelligence tool empowers user connect interact  adopt social component popular network tinder budbo facilitates communication people streamlines shopping process robust algorithm aid user match process strain match  incorporation blockchain cryptocurrency model enable budbo platform level development properly fulfil proposition capture portion create drive user adoption engagement maintain stable function accessible mobile application evolve business tool functionality meet change user supplier demand budbo blockchain ecosystem store transactional record blockchain life cycle product include relevant data process  user discover strain  dispensary gain invaluable data local user preference benefit key analytics strain grow product stock order increase sale grow revenue  data exchange apis access budbo token  global cannabis data exchange environment budbo provide built blockchain smart contract data store immutable ledger  establishes budbo inc single source true unmanipulated data global cannabis network  establish grow base recur user budbo delivers critical business intelligence dispensary lead proactive decisionmaking  integrate blockchain cryptocurrency model budbo exist structure solve issue surround supply chain management cannabis industry  budbo token sale create cannabis blockchain network utilizes utility token monetary exchange create enormous long term token  unique model budbo global cannabis blockchain web wwwbudboio budbo budbo platform global cannabis industry built blockchain technology smart contract  combine retailer lab manufacturer cultivator logistics decentralize open honest network cannabis industry transparent accountable global scale  budbo core functionality provide distribute ledger cannabis industry create true industry backbone storage apis level ancillary service harness power security blockchain  technology perspective rapidly evolve marijuana industry unique opportunity legalize sale cannabis massive scale  fastgrowing sector economy challenge dealt partly state legalize sale marijuana cannabisrelated business face business restriction inefficiency  true legal protection consumer outreach supply chain management  strong effective push federal government establish regulate encourage open fair market sale cannabis cannabisrelated product  legal cannabis sale united state percent  billion expect grow percent year  billion accord arcview market  legal cannabis sale united state project hit  billion  industry struggle patchwork law regulation lack standardization legal trade cannabis  true global scale country legalize standarzie cannabis consumer  blockchain technology solution problem  smart contract built blockchain transcend border unite interested party cannabis industry  budbo application backend platform industry safe responsible organize standardization tokenization  ideal time advantage growth potential cannabis industry  budbo creates structure technology solves issue surround management cannabis supply chain provide government compliance solution  case budbo global cannabis blockchain web wwwbudboio budbo blockchain budbo blockchain backbone immutable verifiable data security layer api activity utilize budbo tokenbubo api access key  budbo global cannabis blockchain web wwwbudboio frontend budbo app budbo app ofakind mobile application user discover explore locate strain concentrate edible  budbo app capacity connect dispensary grower entity cannabis network blockchaincrypto ecosystem  backend budbo platform budbo operates onestop service marijuana dispensary endusers cannabis industry level consumer convenience business intelligence  budbo mobile app built maintain rapidly grow base user product dispensary  budbo structure culture design fastmoving responsive consumer demand  continue maintain high standard current platform planning future growth  planning include building internal migrate cloud service blockchain infrastructure automate process  critical continue budbo rapid growth  budbo unique tinder model capture offering advertisement potential supplier dispensary  budbo strain match feature require user input desire  dispensary product  user swipe left click link  adoption blockchain model budbo application deliver work modular code sandbox environment minimize development time infrastructure investment  application agile design approach industryleading ethereum blockchain technology  budbo blockchain application cloud compatible today hybrid cloud environment  dispensary experiment additional infrastructure expense market faster global community marijuana user  blockchain technology emerge business industry government instantaneously verify transactionsstreamlining business process save money reduce potential fraud  core blockchain data structure create digital transaction ledger rest single provider share distribute network computer  result open transparent publicly verifiable platform fundamentally change user dispensary courier interact exchange asset enforce budbo business model budbo global cannabis blockchain web wwwbudboio contract share data channel  budbo application blockchain creates limitless possibility growth social interaction range product match direct organic advertising instant payment efficient supply chain inventory management  budbo application business tool design communitybased platform task function goal priority define redefine realtime community great freedom flexibility user supplier dispensary courier  backbone budbo platform mechanism user select match prefer choice product dispensary sell  incentive drive consumer supplier budbo platform fact encourage interaction party create channel  achieve remove burdensome signup process exist platform match power user control simple streamline interface  budbo major advantage platform simply utilize blockchain technology  platform completely usercentric user remain heart  support cannabis community transaction transparency share  create complete technology solution benefit dispensary grower merchant courier consumer blockchain  budbo token sale user base grow globally create global cannabis data exchange network  budbo token api token ace grid data flow budbo ecosystem  budbo global cannabis blockchain web wwwbudboio total issue token token issue token token sale contribution tier  tier jan feb utc  tier feb feb utc  tier feb feb utc  tier feb feb utc  tier feb mar utc reserve bubo pre sale  usd nov jan utc bubo employee founder marketing partnership contractor bubo community reserve bubo dispensary reserve bubo bounty hard cap hard cap token include presale token sale budbo global cannabis blockchain web wwwbudboio definition budbo token digital utility power incentivize budbo ecosystem platform  budbo token provide access platform  transaction time budbo token transaction instant average transaction confirmation time minute  transaction secure stateof theart cryptography blockchain integrity protect cpu efficient asic resistant proof work  unique model gap cannabis business entire global cannabis market  token budbo token ticker bubo permit applicable law base ethereum budbo token description budbo global cannabis blockchain web wwwbudboio token diagram budbo global cannabis blockchain web wwwbudboio budbo engage nationally recognize accounting firm annual thirdparty review  work transparency community control transparency community control founder team member budbo token prohibit liquidate token rate position calendar year  prevent dump stable token price  minimal threshold require complete token crowdsale  token offering series cap level  token crowdsale reach minimum cap token fund receive token crowdsale return original initiate wallet automatically  assume minimum threshold exceed maximum cap token include presale met unsold token place reserve  fund receive reach maximum cap token automatically return sender wallet  thirdparty recognize escrow agent ensure token deposit token crowdsale secure token crowdsale finalize token generate  token crowdsale design reduce number large buyer whale dump token  token crowdsale favor small investor commit cannabis plan participate community  budbo comprehensive blockchain solution cannabis industry web wwwbudboio initial token crowdsale place january march  access website conduct presale eligible purchaser beggining november  registration register token crowdsale notify opening event  advantage notification prior registration  whitelist whitelist event crowdsale  accepted currency crowdsale accept bitcoin ethereum bitcoin cash potcoin litecoin ripple  opening budbo token account initial token crowdsale opening coin account budbo easy free  budbo unified platform peertopeer technology operate central authority  network collectively carry issue budbo token  work anytime business transact  distribution token distribute automatically budbo smart contract token sale ethereum  budbo token budbo global cannabis blockchain web wwwbudboio exchange trading budbo token trading future applicable law permit trading assurance trading place  security budbo built ethereum decentralize platform application programmed chance fraud censorship thirdparty interference  transaction secure stateofthe art cryptography blockchain integrity protect cpuefficient asicresistant proof stake  unique model speed transaction cannabisrelated business  popularity budbo vast user base place listing dispensary product  concurrently cryptocurrencies meeting point innovative technology traditional retail budbo token accelerate process adoption data exchange  awareness budbo newer platform establish profile  blockchain technology maintain reputation asset retains face economic uncertainty exhibit multiple benefit growth business adopt  budbo global cannabis blockchain web wwwbudboio summary budbo platform mobile app budbo advantage digital verifiable nature blockchain solve fragmentation cannabis market marginalization business consumer  blockchain smart contract ideal record facilitate exchange good service private data  cannabis data transaction blockchain smart contract increase speed service save dispensary grower reduce paperwork  globally budbo smart contract serve number business cannabis industry  blockchain smart contract instantly accurately register record follow event blockchainbased smart contract provide accountability technology  blockchain provide immutable ledger offer permanent verification transaction build trust store product lifecycle event forever easytoretrieve multiple apps simultaneously interact piece offer anonymous patient identification facilitates peertopeer transaction national level enables social interaction user fun immersive environment combination decentralize encryption anonymity immutability scalability transforms budbo ultimate online ecosystem facilitation interaction user dispensary grower courier cannabis sector  utlizing budbo token api key data exchange demand  budbo global cannabis blockchain web wwwbudboio budbo blockchain focus solve problem unique cannabis industry  achieves building strength wellestablished offer application create cryptocurrency display valuable analytics  function programmed chance fraud censorship thirdparty interference  budbo provide groundbreaking blockchaincrypto base ecosystem powerful modular toolset build interaction channel cannabis sector  budbo functionality budbo complete technology solution benefit cannabis dispensary grower courier user  functionality seedtosale track normalize cash intensive marketplace power revenue merchant enable consumer enjoy speedy convenient safe private pay  budbo unique work model benefit party legal cannabis trade  principal feature budbo business model suppliesequipment order grower purchasing management module receive realtime update regard purchasing trend inventory balance  inventory management budbo inventory control module efficient management stage product lifecycle  module enables grower dispensary manage inventory level maintain tight control inventory replenishment minimize excess stock ensure timely order fulfilment  seed sale track seed sale track module enables business track manage inventoryfrom plant grow processing product shipping ultimately transaction dispensary  logistics budbo integrates logistics department offer realtime insight status order delivery  geofencing verification gps track provide peace mind consumer retailer  point sale budbo consists mobile application integration product banking portal online plugin business  budbo facilitates mobile payment service include android apps consumer  client management store access manage patient customer database user strain preference budbo comprehensive blockchain solution cannabis industry web wwwbudboio time data geolocation user proximity dispensary  analytics dispensary access realtime update target user preference product purchase improve product offering increase sale  smart feature grow forecasting meet dispensary demand ahead time  user interaction user interact fun immersive environment budbo platform  share review play game message connect place  retail location forecasting startup open dispensary compare location access customer metric town neighborhood hold great potential  business model real time patient consumer analytics flower product stock shelf  increase sale budbo connect budbo connect built business intelligence proactive decisionmaking  goal dispensary sell product  budbo connect dispensary usergenerated data laid simple elegant interface  expect increase foot traffic improve analytics exceptional customer service cement strong longstanding relationship dispensary partner  daily user interaction drive core analytical engine budbo connect backend dashboard dispensary  key analytics ultimately provide final solution dispensary owner prospector strain grow product stock order increase sale grow revenue  budbotrax budbotrax built establish order peace ofmind realtime visibility transport cannabis product cannabis ecosystem  blockchain immutable ledger provide historical record multiple include government compliance  budbo global cannabis blockchain web wwwbudboio realtime gps track high cannabis product shipment  shipment document scan store cloud  adjustable geofences automate alert  driver button report emergency authority  realtime verifiable pickup delivery confirmation  confidence product time  building strong relationship dispensary provide avenue offer budbotrax gps track service  analytical data report grower broader cannabis network  budbotrax mobilepowered gps logistics tool built monitor entire cannabis supply chain grower enduser  dispensary vested party control insight cannabis movement budbo connect dashboard  product tracked transport gps free driver app budbo tech ecosystem  budbo global cannabis blockchain web wwwbudboio seedtosale umbrella term cannabis industry refer software service business track manage inventoryfrom plant grow processing product shipping finally transaction dispensary  seedto sale cannabis business track asset sale touch consumer manage complex hurdle statebystate legal regulation compliance  recreational marijuana sector black market retail market demand cannabis lucrative consumer cannabis month  occasional user time month  regular user time month  heavy user national survey drug health statistic federal substance abuse mental health service administration estimate  american cannabis year  consume cannabis month  purpose assume people smoke month regular user rest occasional user  smoking month  people marijuana month  report estimate  people marijuana time month  draw usage difference estimate frequently people buy marijuana  estimate number fulltime marijuana dealer regular heavy smoker  assume people pot month friend  step data study perform rand corp focus reasonable frequency user buy product professional marijuana dealer include dispensary  people buying cannabis month  people buying month  professional marijuana transaction month united state  assume standard marijuana dispensary open hour day day transaction hour sale month dispensary  market context budbo global cannabis blockchain web wwwbudboio  marijuana transaction month transaction dealer dispensary satisfy demand  surprisingly reasonable  number family physician  couple big player seedtosale space  weed tech startup flowhub compete pharmaceutical incumbent include biotrackthc freeway statebystate government compliance contract  kind financial tech giant involve host agrisoft seedtosale platform azure  blockchain startup focus business work regulatory restriction budbo center consumerbusiness relationship cannabis industry  budbo user control blockchainbased transaction history link local dispensary seedto sale budbo middleman facilitates connection  enterpriselevel solution utilize blockchaincrypto ecosystem budbo integrates accelerates generation dispensary grower thrive rapidly grow increasingly legalize cannabis industry  budbo token transaction instant secure stateof theart cryptography  budbo global cannabis blockchain web wwwbudboio marijuana status schedule drug state marijuana operation federally regulate illegal enterprise  obstacle legal marijuana manage mainstream stateby state basis transform american view cannabis  federal regulation legality transport sale distribution cannabis creates major obstacle company establish manage grow business  lack fast reliable payment method contributes multitude issue business face difficult attract retain customer  adoption blockchain technology soundest solution solve fragmentation cannabis market marginalization business consumer  integrate smart contract blockchain work model budbo target basis digital transaction exchange good service private data  host economic legal regulatory technological hurdle scale widespread adoption blockchain technology cannabis market mover incredible stride  budbo blockchain government agency solution economic legal regulatory technological hurdle long face  government regulation budbo global cannabis blockchain web wwwbudboio nov launch budbo google play apple app store dec complex news publishes article video budbo dec total frat publishes article budbo feb budbo super bowl bash houston project roadmap budbo global cannabis blockchain web wwwbudboio march laneaxis combination april budbo ranked app herbco april party weedtv cannabis delivery tracked budbo trax june token sale september mjac conference angeles november token sale presale january token sale february development march blockchain implementation launch budbo app budbo global cannabis blockchain web wwwbudboio budbo owes success diverse team talent  member posse vision depth knowledge cannabis industry blockchain cryptocurrency finance accounting marketing  presently team consists team budbo global cannabis blockchain web wwwbudboio team cont  budbo global cannabis blockchain web wwwbudboio advisory board budbo global cannabis blockchain web wwwbudboio advisory board cont  budbo global cannabis blockchain web wwwbudboio rick burnett ceo rick extensive knowledge mobile technology logistics natural fit lead budbo team  rick spent year develop mobilebased platform provide realtime track freight movement  basis budbo trax feature  luke patterson president cofounder datadriven entrepreneur blockchain specialist luke wealth experience replete year architect mobile app developer  work startup fortune company alike luke work feature wire techcrunch complex business insider  jacob patterson cto cofounder jacob relies vast experience developer ensure budbo remains leader cannabis technology innovation include evolution blockchain ecosystem  jacob held senior developer role fortune company include us bancorp medium giant comcast  gary heitz coo cofounder season sale executive deep experience technology digital medium gary generate dollar revenue token salenic company dell google  ascend executive leadership position company gary structure complex sale initiative negotiate fortune client routinely exceed sale goal wide margin  google gary entrust lead sale executive company doubleclick demand medium platform google doubleclick bid manager network  budbo global cannabis blockchain web wwwbudboio nick heldreth cmo cofounder born marketer entrepreneur nick cofounded budbo recognize tremendous market opportunity exists cannabis space  nick decade sale marketing customer service experience financial service entertainment transportation digital marketing real estate  venture include acquisition real estate company transportation company transform highly profitable enterprise  divyashish jindal blockchain engineer love build innovative sustainable solution problem build living  evolution core constantly thrive create version people  ihor pidruchny blockchain engineer design decentralize blockchain base open source platform logistics industry  prateek dimri business analyst year blockchain space assist planning monitoring strategy product conceptualization market predictive analysis  blake krohn engineering year experience work software engineer diverse range industry company worldwide  addition position mcafee inc team lead startup blake role cto industryleading retailer enable understand practice comprehensive knowledge leadership skill effective resultsoriented engineering budbo  budbo global cannabis blockchain web wwwbudboio mason burnett blockchain mason marketing visionary idea elevate private company institution high education  tenacious focus win mason immerse cannabis industry budbo ahead competition  andrew rivera director communication andrew awardwinning news journalist corporate experience public relation marketing  technically editorially savvy thrives opportunity create imaginative write visuals slice clutter  david levy canada operation season developer david entrance technology universe design development auto info online auto trader profile site  david expertise span number industry include design advanced elevator control system chase cameron account executive building authority brand multiple industry globe  leland price account executive budbo global cannabis blockchain web wwwbudboio alex williams account executive alex williams alex career transportation logistics work forwardthinking global insurance brokerage  alex specialized risk management client minimize risk databacked insight innovative solution  tom reid account executive tom experienced transportation professional decade freight brokerage operation sale experience  previous role nation large logistics firm focus building relationship enterprise client industry  tom specialty identify discover opportunity cost saving strategic partnership process  budbo global cannabis blockchain web wwwbudboio randal crowder cofounder texo venture randall deployed year specific focus techenabled health service company leverage blockchain technology  randall cofounder manage partner texo ventures mary hang ceo icoholder icoholder tracker ceo examazon software engineer year experience blockchain industry total year experience  developed ico tracker scrap consult ico  expert field blockchain manage team crypto expert  amarpreet singh blockchain ico advisor technologydigital enthusiast season professional year experience tech industry operation consult innovation  certify cloud aws specialist  versatility flexibility  excellent analytic strategic leadership skill team player  seul lee sale marketing atarad time marketer ben attract sale lead multidisciplinary agency specialize blockchain development  ben ledger agency specializes technologydriven marketing strategic project planning social medium community building apply practice cryptocurrency space number startup icos  advisor budbo global cannabis blockchain web wwwbudboio justin schmidt founder translunar crypto justin schmidt launch translunar crypto venture year base austin cayman island  translunar strategic partnership venture blockchain equity investor  mr schmidt early employee homeaway ipo sell expedia sidecar acquire google groupon ipo realpage ipo carvana ipo  translunar early investor blockchain ico include filecoin wax mobius gameflip sense pryze transitnet kudos blockstack prop pin protocol current origin surf air  jonathan millet ceo newsbtc medium group jonathan millet ceo newsbtc medium group lead medium news agency concurrency blockchain space  jonathan spends time small medium large company ground rise short time period  justin jovanovic coo investfeed justin chief operating officer investfeed lead cryptocurrency social network power crypto specific investor enthusiast transition beta january  justin successful icos include investfeed passion progressive decentralization blockchain innovation  justin lengthy career traditional equity supervise risk management proprietary trading group addition create operating disruptive software event ticket business  amy berliner founderceo aegis biotech founderceo aegis biotech amy applies decade senior executive experience benefit company development team  budbo global cannabis blockchain web wwwbudboio duffy ceo low spark inc duffy owner ceo low spark inc low spark large distribution supply chain cannabis cannabis infuse product colorado  lowspark average unit vast network contact cannabis industry  tarun jaswani partner interfacemax tarun jaswani partner interfacemax digital asset fund focus blockchain project create real application  techpreneur experience virttual reality game adtech  benjamin finch strategic advisor time marketer ben attract sale lead multidisciplinary agency specialize blockchain development  ben ledger agency specializes technologydriven marketing strategic project planning social medium community building apply practice cryptocurrency space number startup icos  larre johnson strategic communication advisor larre year advertising marketing strategic communication veteran  campaign brand build disruptive enterprise multib business  senior writer apple larre virtually creative effectiveness award industry bestows  john david carrasco ceo cannliv john david carrasco president ceo cannliv john david global  cannliv location houston denver south america colombia  chair cannabis caucus texas democratic party election cycle result leadership role activist cannabis space  budbo global cannabis blockchain web wwwbudboio tyarre allen executive vice president cannliv tyarre allen executive vice president cannliv wellness operation director cannliv colorado  tyarre experience startup role vice president administration operation lead building develop organization direct sale industry  tyarre stranger cultivate thing vision unity work hard work smart diligently work situation  michael hodges cofounder advfn michael hodges year experience computer software development publishing work multiuser internet project year  cofounded online plc process change online blockchain plc advfn plc list london stock exchange aim  chairman online plc advfn plc michael noel ceo blockchain consultant blockchain technology morph change challenge work area  add fact technology origin decade core technology unique combination blockchain barely tenyearold infant point  david ashley cto ilf llc year experience work develop business intelligence ecommerce  work interactive life form ilf senior transition contractor improve internal service administrative department wide  budbo global cannabis blockchain web wwwbudboio willie kennon president pineapple enterprise willie president pineapple enterprise cannabis base holding company acre premium farm land southern oregon  pineapple enterprise produce flower year  jack finkelstein senior technology advisor qualify year broad sale sale management product design merchandising experience  jack number company bring exist product market building medical compliance packaging company  roy gouveia strategic advisor entrepeneur turn ecopreneur  roy background restaurant turn renewable energy business south africa biofuel fertilizer containerize hydroponic farm  antonio russo cofounder district antonio russo cannabis industry  nonprofit family financial assistance education inregards benefit cannabis  antonio founder district retail wholesale cultivation manufacturing ecosystem  focus clean natural sustainable product low carbon footprint  lead branding outfit continue surround inspire people cannabis space create special  david fowler ceo digital shyft david fowler career entrepreneur year clevel veteran cofounder southwest cannabis conference expo pro athlete pro cannabis ceofounder digital shyft digital creative marketing agency cannabis industry  budbo global cannabis blockchain web wwwbudboio richard levy senior technology advisor richard provide expertise aspect product management development host support  richard year experience software space lead large small team develop enterprise cloud base platform support application banking corporate legal insurance governance risk compliance grc industry  budbo global cannabis blockchain web wwwbudboio form extensive network partnership collaboration large player cannabis industry  budbo app boast unique user  work supplier cannabis sector support business model goal establish unified platform secure safe fast transaction frictionless interaction party compliance federal state regulation  partner budbo global cannabis blockchain web wwwbudboio  budbo token sale risk factor risk factor carefully evaluate follow risk factor term decide participate budbo token generation event refer token sale budbo token generation event  budbo entity create issue budbo token budbo token international ltd company knowledge belief risk factor material inform judgment participate budbo token generation event set  follow consideration uncertainty material risk develops actual event business financial position andor result operation company maintenance level usage budbo app platform budbo token materially adversely  case trading price budbo token case list cryptocurrency exchange decline consideration uncertainty material risk lose budbo token  prior market budbo token budbo token generation event result active liquid market budbo token  prior budbo token generation event public market budbo token  budbo token trading future appicable law permit trading assurance approval trading  approval grant cryptocurrency exchange assurance active liquid trading market budbo token develop developed sustain budbo token trading cryptocurrency exchange  assurance market price budbo token decline original purchase price purchase price  purchase price indicative market price budbo token approve trading cryptocurrency exchange  budbo token currency issue central bank national supranational quasi national organization budbo global cannabis blockchain web wwwbudboio hard asset credit  company responsible pursue circulation trading budbo token market  trading budbo token depend consensus relevant market participant  oblige purchase budbo token holder budbo token include purchaser guarantee liquidity market price budbo token extent time  budbo token resold purchaser citizen permanent resident china singapore jurisdiction purchase budbo token violation applicable law include limited law regulate control substance cannabis  company ensure demand market budbo token purchase price indicative market price budbo token trading cryptocurrency exchange  future sale issuance budbo token materially adversely affect market price budbo token  future sale issuance budbo token increase supply budbo token market result downward price pressure budbo token  sale distribution number budbo token budbo token generation event include limited sale budbo token undertaken completion initial crowdsale issuance budbo token person purchaser purpose community initiative business development academic education market expansion issuance budbo token reward user budbo platform perception sale issuance occur adversely affect trading price budbo token  negative publicity materially adversely affect price budbo token negative publicity involve company budbo inc budbo token project operating entity organize law state delaware usa budbo platform budbo token key personnel company budbo inc regulation cannabis worldwide andor regulation cryptocurrencies worldwide materially adversely affect market perception market price budbo token justified  pay anticipate reward future  assurance sufficient engagement budbo platform receive reward anticipate distribute active user budbo platform  event substantial engagement interaction user budbo platform assurance personally receive reward  ability company pay reward depend future result operation future budbo global cannabis blockchain web wwwbudboio business financial condition company andor budbo inc assurance future result operation future business financial condition company budbo inc assurance success budbo platform future business  demand budbo token hinge heavily performance budbo platform continuous active engagement user success contemplate business  assurance budbo platform gain traction launch achieve commercial success  assurance business contemplate budbo inc launch generate sufficient customer traction  contemplate business include limited create immutable ledger legal cannabis industry data budbo application intelligence tool offer payment legal cannabis industry service supply budbo token organize unite global cannabis legalization effort budbo platform bring standardization licensing transaction supply chain inventory management delivery track verification budbo application business intelligence platform  budbo inc perform market study test demand budbo platform positive result budbo platform fully developed finalize subject change update adjustment prior launch  change result unexpected unforeseen project appeal user failure meet user preconceive expectation base beta version impact success  company effort provide realistic estimate assurance cryptocurrencies raise budbo token generation event sufficient development budbo platform andor proper structure licensing anticipate budbo token future anticipate business  forego reason development budbo platform launch anticipate budbo token future business complete assurance launch  distribute budbo token hold worth  fund raise token generation event expose risk theft  company effort ensure fund receive budbo token generation event securely held escrow wallet multisignature address access private key held reputable trust party  receipt fund company budbo inc effort ensure fund receive company securely held implementation security measure  notwithstanding security measure assurance theft cryptocurrencies result hack sophisticated budbo global cannabis blockchain web wwwbudboio cyberattacks distribute denial service error vulnerability defect budbo token generation event website smart contract escrow wallet budbo token generation event relies ethereum blockchain  event include flaw program source code lead exploitation abuse  event budbo token generation event complete company budbo inc receive cryptocurrencies raise budbo inc fund development budbo platform andor launch future business include limited structure licensing budbo token future business  case launch budbo platform structure licensing budbo token future business temporarily permanently curtail  distribute budbo token hold worth  risk relate escrow wallet private key escrow wallet compromise cryptocurrencies disburse  escrow wallet design secure  holder private key escrow wallet reasonable effort safeguard respective key event key escrow wallet reason whatsoever lose destroyed compromise fund held escrow wallet retrieve disburse permanently unrecoverable  event budbo token generation event successful company receive fund raise budbo inc fund development budbo platform structure licensing budbo token future business  distribute budbo token hold worth  risk relate budbo inc budbo platform developed operate maintain budbo inc event circumstance adversely affect budbo inc successor operating entity collectively refer budbo inc correspond adverse budbo global cannabis blockchain web wwwbudboio budbo platform future business include limited structure launch budbo token future business  adverse correspondingly impact utility liquidity trading price budbo token  budbo inc materially adversely fails effectively manage operation business develops evolves direct impact ability maintain budbo platform launch future business financial technology cryptocurrency industry legal cannabis market budbo inc competes grown rapidly year continue evolve response technological advance change business model shift regulation factor  result constantly change environment budbo inc face operational difficulty adjust change sustainability budbo inc depend ability manage operation ensure hire qualify competent employee provide proper training personnel  business evolves budbo inc expand adapt operational infrastructure  budbo inc business relies blockchainbased software cryptocurrency wallet token storage mechanism blockchain technology smart contract technology efficient real estate management  tool skillsets represent complex costly rapidly change technical infrastructure  order demonstrate continued ability effectively manage technical support infrastructure budbo platform budbo inc continue upgrade improve data operational procedure control  upgrade improvement require dedication resource complex increasingly rely host computer service party budbo inc control  budbo inc unable adapt organization timely efficient costeffective manner accommodate change circumstance business financial condition result operation adversely  party budbo inc relies subject security breach suffer disruption impact service budbo inc integrity availability internal compromise loss confidential proprietary economic loss  loss financial labor resource adverse budbo inc business financial condition operation direct adverse budbo inc ability maintain budbo platform andor structure license anticipate budbo token future business  adverse affect budbo inc business technology adversely impact utility liquidity trading price budbo token  early stage company  budbo inc limited operating history receive budbo global cannabis blockchain web wwwbudboio limited revenue  purchasing budbo token good idea founder execute competition sell people budbo token succeed  thing faith impossible happen  dependent additional capital resource continuation plan principal operation subject risk uncertainty include fail secure funding operationalize plan operation fail profitably operate business  insurance sufficient  carry insurance adequate regard nature cover risk cost coverage  fully insured risk risk insurable  limited intellectual property protection lose competitive advantage adversely affect business  proprietary intellectual property protect patent patent application precaution party intellectual property authorization  conduct formal evaluation confirm technology product infringe intellectual property party  result technology product infringe intellectual property party  infringement occur development manufacturing sale distribution technology product disrupt  potential competitor position majority market  compete company cannabis industry  company personnel talent economic resource manufacturing relationship develop competitive product  manufacturer wellrecognized brand establish distribution retail relationship enable market sell competitive product  advantage scale distribution network difficult overcome  result product force market large establish player  budbo inc experience failure unplanned interruption network service hardware software defect security breach adversely affect budbo inc infrastructure network budbo platform  budbo inc anticipate occurrence hack cyberattacks distribute denial service error vulnerability defect budbo platform smart contract company budbo inc budbo platform relies ethereum blockchain  event include flaw program source budbo global cannabis blockchain web wwwbudboio code lead exploitation abuse  budbo inc detect hack cyberattacks distribute denial service error vulnerability defect timely manner sufficient resource efficiently cope multiple service incident happen simultaneously rapid succession  budbo inc network service include budbo platform structure license launch budbo token future business disrupt numerous event include natural disaster equipment breakdown network connectivity downtime power loss intentional disruption service disruption software virus attack unauthorized user budbo inc control  budbo inc step malicious attack appliance infrastructure critical maintenance budbo platform assurance cyberattacks distribute denial service attempt future budbo inc enhance security measure effective  budbo inc prone attack infrastructure intend steal technology financial data user action damage budbo inc andor holder budbo token  breach budbo inc security measure disruption result compromise usability stability security budbo platform adversely affect utility liquidity andor trading price budbo token  dependent location data center facility party  budbo inc current infrastructure network establish server house location facility party server rent data center facility party  budbo inc unable renew data facility lease commercially reasonable term budbo inc require transfer server data center facility incur cost service interruption connection relocation  facility vulnerable damage interruption natural disaster arson terrorist attack power loss telecommunication failure  additionally thirdparty provider facility suffer breach security result thirdparty action employee error malfeasance party unauthorized access data server  inc provider facility unable anticipate technique implement adequate preventive measure  general global market economic condition adverse impact budbo token operating performance result operation cash flow  budbo inc continue general global economic market condition  challenge economic condition worldwide time time contribute continue contribute slowdown technology industry large  weakness economy negative budbo inc business operation financial condition include decrease revenue budbo global cannabis blockchain web wwwbudboio operating cash flow inability attract future equity andor debt financing commercially reasonable term  additionally downcycle economic environment budbo inc experience negative slowdown usage budbo platform delay cancel structure licensing launch anticipate budbo token future business  supplier budbo inc relies server bandwidth location service negatively impact economic condition turn negative impact budbo inc operation expense  assurance current economic condition worsen economic condition prolong recur recession adverse impact budbo inc business financial condition result operation budbo platform andor ability structure license launch budbo token future business  circumstance correspondingly negatively impact utility liquidity andor trading price budbo token  company budbo inc budbo token newly implement regulation cryptocurrency trading generally unregulated worldwide numerous regulatory authority jurisdiction outspoken implementation regulatory regime govern cryptocurrency cryptocurrency market  experience liberalization cannabis regulation state level cannabis remains illegal federal level  company budbo token newly implement regulation relate cryptocurrencies cryptocurrency market andor legal cannabis industry include measure comply regulation deal query notice request enforcement action regulatory authority substantial cost require substantial modification budbo platform andor anticipate budbo token future business  impact appeal budbo platform anticipate budbo token future business user result decrease usage budbo platform budbo token  cost financial comply newly implement regulation exceed threshold maintain budbo platform structure licensing launch budbo token future business longer commercially viable company budbo inc opt discontinue budbo platform anticipate budbo token future business andor budbo token  difficult predict government regulatory authority implement change law regulation affect distribute ledger technology application include budbo platform anticipate budbo token future business budbo token  budbo global cannabis blockchain web wwwbudboio company budbo inc cease operation jurisdiction illegal operate jurisdiction commercially unviable undesirable regulatory approval operate jurisdiction  scenario forego utility liquidity andor trading price budbo token adversely budbo token cease trade  cryptographic token budbo token dynamic technology  addition risk include discussion risk factor risk associate purchase hold budbo token include company budbo inc anticipate  risk unanticipated variation combination risk discuss  risk relate us federal law affect legal cannabis industry  activity involve marijuana remain illegal federal law  activity include limited distribution marijuana minor transport marijuana state legal state iii drug drive adverse public health consequence grow marijuana public land marijuana possession federal property criminal activity violence associate sale marijuana  extent company andor budbo inc prevent user budbo token violation us federal law subject company andor budbo token inc civil andor criminal liability utility liquidity andor trading price budbo token adversely budbo token cease trade  trump administration strictly enforce federal law criminalize cannabis  cannabis categorize schedule control substance dea us department justice illegal grow posse consume federal law  jurisdiction medical cannabis legalize state level remains violation federal law  us supreme court rule united state oakland cannabis buyer coop  gonzales raich federal government regulate criminalize cannabis medical purpose  budbo global cannabis blockchain web wwwbudboio federal law criminalize cannabis preempt state law legalize medicinal adultretail purpose  strict enforcement federal law regard cannabis result budbo inability proceed business plan  previous obama administration effectively state efficient resource direct federal law enforcement agency prosecute lawfully abide statedesignated law distribution medical cannabis  furtherance august department justice provide guidance us federal prosecutor respect enforcement law regard cannabis publication memorandum author attorney general james cole cole memo  cole memo state enforcement focus priority prevent distribution cannabis minor revenue sale cannabis criminal enterprise gang cartel transfer cannabis state legal state illegal cannabis activity pretext traffic illegal drug illegal activity violence firearm cannabis growth distribution drug drive adverse public health consequence cannabis growth cannabis federal land cannabis possession federal property  january us attorney general jeff session rescind cole memo restore rule law  rescission essentially shift federal policy handsoff approach adopt obama administration federal prosecutor us decide individually prioritize resource crack pot possession distribution cultivation drug state legal  trump administration pursue enforcement federal cannabis law  budbo tech cannabis company activity involve enumerate cole memo light rescission memo current attorney general federal prosecutor discretion interpretation priority assurance federal prosecutor agree budbo position  budbo provide assurance action compliance cole memo state federal law regulation  addition guarantee current administration change policy regard strict enforcement federal law list priority  additionally administration follow change policy decide enforce federal law strong  change federal government enforcement current federal law financial damage budbo  budbo global cannabis blockchain web wwwbudboio budbo business activity business activity user compliant applicable state law illegal federal law violate federal control substance  budbo user close law enforcement authority materially adversely affect budbo business  july state district columbia pass law degree medical cannabis state district columbia legalize adultuse cannabis  us federal law federal control substance possession cultivation marketing transfer cannabis illegal  federal case state law enforcement authority frequently close dispensary investigate andor close physician office provide medicinal cannabis recommendation  extent budbo dispensary user close negatively affect budbo operation revenue extent prevents discourages business enter cannabis industry budbo potential user base contract lead material negative affect budbo business operation  cannabis industry face strong opposition  large wellfunded business strong economic opposition cannabis industry  budbo pharmaceutical industry cede control product generate revenue  medical cannabis adversely impact exist market medicine sell mainstream pharmaceutical company active ingredient cannabis  medical marijuana industry face material threat pharmaceutical industry marijuana displace drug encroach pharmaceutical industry product  pharmaceutical industry fund strong experienced lobby eclipse funding medical cannabis movement  inroad pharmaceutical industry halt impede cannabis industry detrimental impact budbo business operation  additionally budbo dependent continued market acceptance proliferation consumer cannabis medical marijuana recreational marijuana  budbo marijuana accepted stigma associate marijuana diminish result consumer demand continue grow  budbo market opportunity marijuana space continue grow budbo predict future growth rate size market  negative outlook marijuana industry adversely affect budbo business operation  budbo global cannabis blockchain web wwwbudboio budbo user client difficulty access service bank difficult operate  cannabis illegal federal law compelling argument bank accept deposit fund business involve cannabis  financial crime enforcement network fincen provide guidance financial institution provide service marijuanarelated business consistent bank secrecy bsa obligation decision open close refuse account andor relationship discretion banking institution  business involve cannabis industry trouble bank accept business  inability open bank account difficult budbo user client operate budbo global cannabis blockchain web wwwbudboio'"
      ]
     },
     "execution_count": 71,
     "metadata": {},
     "output_type": "execute_result"
    }
   ],
   "source": []
  },
  {
   "cell_type": "code",
   "execution_count": 39,
   "metadata": {},
   "outputs": [],
   "source": [
    "#creating the list and tokenizing each word in the test corpus\n",
    "testdata = test_df.whitepapers.values.tolist()\n",
    "testdata_words = list(sent_to_words(testdata))"
   ]
  },
  {
   "cell_type": "code",
   "execution_count": 40,
   "metadata": {},
   "outputs": [],
   "source": [
    "test_data_ready = process_words(testdata_words)"
   ]
  },
  {
   "cell_type": "markdown",
   "metadata": {},
   "source": [
    "### Models/Methods"
   ]
  },
  {
   "cell_type": "code",
   "execution_count": 43,
   "metadata": {},
   "outputs": [],
   "source": [
    "# Apply the Topic Model into unseen documents\n",
    "corpus_lda_test = [id2word.doc2bow(text) for text in test_data_ready]\n",
    "\n",
    "unseen_doc = corpus_lda_test[0]\n",
    "# get topic probability distribution for a document\n",
    "vector = lda_gensim[unseen_doc] "
   ]
  },
  {
   "cell_type": "code",
   "execution_count": 44,
   "metadata": {},
   "outputs": [
    {
     "data": {
      "text/html": [
       "<div>\n",
       "<style scoped>\n",
       "    .dataframe tbody tr th:only-of-type {\n",
       "        vertical-align: middle;\n",
       "    }\n",
       "\n",
       "    .dataframe tbody tr th {\n",
       "        vertical-align: top;\n",
       "    }\n",
       "\n",
       "    .dataframe thead th {\n",
       "        text-align: right;\n",
       "    }\n",
       "</style>\n",
       "<table border=\"1\" class=\"dataframe\">\n",
       "  <thead>\n",
       "    <tr style=\"text-align: right;\">\n",
       "      <th></th>\n",
       "      <th>Document_No</th>\n",
       "      <th>Dominant_Topic</th>\n",
       "      <th>Topic_Perc_Contrib</th>\n",
       "      <th>Keywords</th>\n",
       "      <th>Text</th>\n",
       "    </tr>\n",
       "  </thead>\n",
       "  <tbody>\n",
       "    <tr>\n",
       "      <th>0</th>\n",
       "      <td>0</td>\n",
       "      <td>1.0</td>\n",
       "      <td>0.5741</td>\n",
       "      <td>token, platform, network, user, blockchain, market, payment, fee, asset, transaction</td>\n",
       "      <td>[adcoin, adcoin, version, blockchain, offer, great, opportunity, technological, advancement, adopt, blockchain, bitcoin, literally, internet, mone...</td>\n",
       "    </tr>\n",
       "    <tr>\n",
       "      <th>1</th>\n",
       "      <td>1</td>\n",
       "      <td>1.0</td>\n",
       "      <td>0.6999</td>\n",
       "      <td>token, platform, network, user, blockchain, market, payment, fee, asset, transaction</td>\n",
       "      <td>[budbo, global, cannabis, blockchain, comprehensive, blockchain, solution, cannabis, industry, version, web, wwwbudboio, content, forward, stateme...</td>\n",
       "    </tr>\n",
       "    <tr>\n",
       "      <th>2</th>\n",
       "      <td>2</td>\n",
       "      <td>1.0</td>\n",
       "      <td>0.5658</td>\n",
       "      <td>token, platform, network, user, blockchain, market, payment, fee, asset, transaction</td>\n",
       "      <td>[newwhitepaper, disclaimer, document, document, sort, kwatt, coin, represent, ownership, share, public, private, corporation, entity, jurisdiction...</td>\n",
       "    </tr>\n",
       "    <tr>\n",
       "      <th>3</th>\n",
       "      <td>3</td>\n",
       "      <td>1.0</td>\n",
       "      <td>0.3875</td>\n",
       "      <td>token, platform, network, user, blockchain, market, payment, fee, asset, transaction</td>\n",
       "      <td>[ocean, protocol, decentralize, substrate, data, service, technical, ocean, protocol, foundation, bigchaindb, gmbh, newton, circus, dex, pte, ltd,...</td>\n",
       "    </tr>\n",
       "  </tbody>\n",
       "</table>\n",
       "</div>"
      ],
      "text/plain": [
       "   Document_No  Dominant_Topic  Topic_Perc_Contrib  \\\n",
       "0            0             1.0              0.5741   \n",
       "1            1             1.0              0.6999   \n",
       "2            2             1.0              0.5658   \n",
       "3            3             1.0              0.3875   \n",
       "\n",
       "                                                                               Keywords  \\\n",
       "0  token, platform, network, user, blockchain, market, payment, fee, asset, transaction   \n",
       "1  token, platform, network, user, blockchain, market, payment, fee, asset, transaction   \n",
       "2  token, platform, network, user, blockchain, market, payment, fee, asset, transaction   \n",
       "3  token, platform, network, user, blockchain, market, payment, fee, asset, transaction   \n",
       "\n",
       "                                                                                                                                                    Text  \n",
       "0  [adcoin, adcoin, version, blockchain, offer, great, opportunity, technological, advancement, adopt, blockchain, bitcoin, literally, internet, mone...  \n",
       "1  [budbo, global, cannabis, blockchain, comprehensive, blockchain, solution, cannabis, industry, version, web, wwwbudboio, content, forward, stateme...  \n",
       "2  [newwhitepaper, disclaimer, document, document, sort, kwatt, coin, represent, ownership, share, public, private, corporation, entity, jurisdiction...  \n",
       "3  [ocean, protocol, decentralize, substrate, data, service, technical, ocean, protocol, foundation, bigchaindb, gmbh, newton, circus, dex, pte, ltd,...  "
      ]
     },
     "execution_count": 44,
     "metadata": {},
     "output_type": "execute_result"
    }
   ],
   "source": [
    "# Format the topics from the unseen data into the LDA Model\n",
    "df_topic_sents_keywords = format_topics_sentences(ldamodel=lda_gensim, corpus=corpus_lda_test, texts=test_data_ready)\n",
    "\n",
    "# Format\n",
    "df_dominant_topic = df_topic_sents_keywords.reset_index()\n",
    "df_dominant_topic.columns = ['Document_No', 'Dominant_Topic', 'Topic_Perc_Contrib', 'Keywords', 'Text']\n",
    "df_dominant_topic.head(10)"
   ]
  },
  {
   "cell_type": "markdown",
   "metadata": {},
   "source": [
    "### Output"
   ]
  },
  {
   "cell_type": "code",
   "execution_count": 112,
   "metadata": {},
   "outputs": [],
   "source": [
    "# Use the function to get the percentages of topics in the document\n",
    "_, topic_percentages = topics_per_document(model=lda_gensim, corpus=corpus_lda_test,doc=\"budbo\",df=test_df)            \n",
    "\n",
    "# Total Topic Distribution by actual weight\n",
    "topic_weightage_by_doc = pd.DataFrame([dict(t) for t in topic_percentages])\n",
    "df_topic_weightage_by_doc = topic_weightage_by_doc.sum().to_frame(name='count').reset_index()\n",
    "\n",
    "# Top 3 Keywords for each Topic\n",
    "topic_top3words = [(i, topic) for i, topics in lda_gensim.show_topics(formatted=False) \n",
    "                                 for j, (topic, wt) in enumerate(topics) if j < 3]\n",
    "\n",
    "df_top3words_stacked = pd.DataFrame(topic_top3words, columns=['topic_id', 'words'])\n",
    "df_top3words = df_top3words_stacked.groupby('topic_id').agg(', \\n'.join)\n",
    "df_top3words.reset_index(level=0,inplace=True)"
   ]
  },
  {
   "cell_type": "code",
   "execution_count": 113,
   "metadata": {},
   "outputs": [
    {
     "data": {
      "image/png": "[encoded data removed]",
      "text/plain": [
       "<Figure size 2250x900 with 1 Axes>"
      ]
     },
     "metadata": {
      "needs_background": "light"
     },
     "output_type": "display_data"
    }
   ],
   "source": [
    "# Plot\n",
    "fig, ax = plt.subplots(1, 1, figsize=(15, 6), dpi=150, sharey=True)\n",
    "\n",
    "# Topic Distribution by Topic Weights\n",
    "ax.bar(x='index', height='count', data=df_topic_weightage_by_doc, width=.5, color='steelblue')\n",
    "ax.set_xticks(range(6))\n",
    "tick_formatter = FuncFormatter(lambda x, pos: 'Topic ' + str(x)+ '\\n' + df_top3words.loc[df_top3words.topic_id==x, 'words'].values[0])\n",
    "ax.xaxis.set_major_formatter(tick_formatter)\n",
    "ax.set_title('Number of Documents by Topic Weightage', fontdict=dict(size=10))\n",
    "\n",
    "plt.show()"
   ]
  },
  {
   "cell_type": "markdown",
   "metadata": {},
   "source": [
    "## 5 - Inspiration"
   ]
  },
  {
   "cell_type": "markdown",
   "metadata": {},
   "source": [
    "- https://www.analyticsvidhya.com/blog/2016/08/beginners-guide-to-topic-modeling-in-python/ \n",
    "- https://towardsdatascience.com/topic-modeling-and-latent-dirichlet-allocation-in-python-9bf156893c24\n",
    "- https://github.com/susanli2016/NLP-with-Python/blob/master/LDA_news_headlines.ipynb\n",
    "- https://medium.com/mlreview/topic-modeling-with-scikit-learn-e80d33668730\n",
    "- https://medium.com/@lettier/how-does-lda-work-ill-explain-using-emoji-108abf40fa7d\n",
    "- https://medium.com/@tomar.ankur287/topic-modeling-using-lda-and-gibbs-sampling-explained-49d49b3d1045\n",
    "- https://www.kdnuggets.com/2018/08/topic-modeling-lsa-plsa-lda-lda2vec.html\n"
   ]
  }
 ],
 "metadata": {
  "kernelspec": {
   "display_name": "Python 3",
   "language": "python",
   "name": "python3"
  }
 },
 "nbformat": 4,
 "nbformat_minor": 2
}
