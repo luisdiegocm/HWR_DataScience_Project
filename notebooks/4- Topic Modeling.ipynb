{
 "cells": [
  {
   "cell_type": "markdown",
   "metadata": {},
   "source": [
    "# Topic Modeling\n"
   ]
  },
  {
   "cell_type": "markdown",
   "metadata": {},
   "source": [
    "## 1 - Library Imports"
   ]
  },
  {
   "cell_type": "code",
   "execution_count": 1,
   "metadata": {},
   "outputs": [],
   "source": [
    "%reset -f\n",
    "\n",
    "# Import Os to get to the root directory\n",
    "import os\n",
    "import sys\n",
    "\n",
    "# Root directory of the project\n",
    "ROOT_DIR = os.path.abspath(\"../\")\n",
    "sys.path.append(ROOT_DIR)\n",
    "\n",
    "TEST_DIR = os.path.join(ROOT_DIR, \"test-white-papers\")\n",
    "MODEL_DIR = os.path.join(ROOT_DIR, \"model\")\n",
    "\n",
    "# Import own functions\n",
    "from libraries import corpus\n",
    "from libraries import pdf2text\n",
    "\n",
    "##########################\n",
    "# Import other libraries\n",
    "##########################\n",
    "\n",
    "# Data Manipulation\n",
    "import re, numpy as np, pandas as pd\n",
    "\n",
    "# Gensim Library for Topic Modeling\n",
    "import gensim\n",
    "from gensim import matutils, models\n",
    "import gensim, spacy, logging, warnings\n",
    "from gensim import corpora, models, similarities\n",
    "from gensim.utils import lemmatize, simple_preprocess\n",
    "from gensim.models import CoherenceModel\n",
    "from gensim.test.utils import datapath\n",
    "\n",
    "# Data Visualizations\n",
    "import matplotlib.pyplot as plt\n",
    "%matplotlib notebook\n",
    "from wordcloud import WordCloud, STOPWORDS\n",
    "import matplotlib.colors as mcolors\n",
    "from matplotlib.ticker import FuncFormatter\n",
    "\n",
    "# Natural Language Processing libraries\n",
    "import nltk as nltk\n",
    "from nltk.corpus import stopwords\n",
    "stop_words = stopwords.words('english')\n",
    "stop_words.extend(['from', 'subject', 're', 'edu', 'use', 'not', 'would', 'say', 'could', '_', 'be', 'know', 'good', 'go', 'get', 'do', 'done', 'try', 'many', 'some', 'nice', 'thank', 'think', 'see', 'rather', 'easy', 'easily', 'lot', 'lack', 'make', 'want', 'seem', 'run', 'need', 'even', 'right', 'line', 'even', 'also', 'may', 'take', 'come'])\n",
    "from nltk.stem.wordnet import WordNetLemmatizer\n",
    "import string\n",
    "\n",
    "import en_core_web_sm\n",
    "nlp = spacy.load('en_core_web_sm', disable =['parser', 'ner'])\n",
    "from pprint import pprint\n",
    "\n",
    "import scipy.sparse\n",
    "from collections import Counter\n",
    "\n",
    "# other imports\n",
    "import pickle\n",
    "from importlib import reload\n",
    "warnings.filterwarnings(\"ignore\", category=DeprecationWarning)\n",
    "logging.basicConfig(format='%(asctime)s : %(levelname)s : %(message)s', level=logging.ERROR)"
   ]
  },
  {
   "cell_type": "markdown",
   "metadata": {},
   "source": [
    "## 2 - Data Preprocessing"
   ]
  },
  {
   "cell_type": "code",
   "execution_count": 2,
   "metadata": {},
   "outputs": [],
   "source": [
    "# Retrieving the PDF files from white-paper folder and converting them to text\n",
    "dataset = pdf2text.get_dataset()"
   ]
  },
  {
   "cell_type": "code",
   "execution_count": 3,
   "metadata": {},
   "outputs": [
    {
     "data": {
      "text/plain": [
       "dict_keys(['#metahash', '0x', 'abbccoin', 'aion', 'apollocurrency', 'ardor', 'ark', 'basicattentiontoken', 'bhpcoin', 'binancecoin', 'bitcoin', 'bitcoingold', 'bitshares', 'bittorrent', 'bytecoin', 'bytom', 'celernetwork', 'chainlink', 'cosmocoin', 'cosmos', 'crypto', 'cryptonex', 'dai', 'dash', 'decentraland', 'dent', 'digixdao', 'dogecoin', 'elastos', 'enjincoin', 'eos', 'ethereum', 'ethereumclassic', 'factom', 'fantom', 'gnosis', 'golem', 'gxchain', 'holo', 'horizen', 'hypercash', 'hyperion', 'icon', 'iexecrlc', 'inocoin', 'iota', 'japancontenttoken', 'komodo', 'latoken', 'lina', 'loopring', 'maidsafecoin', 'maker', 'metal', 'metaverseetp', 'mixin', 'monero', 'nano', 'nebulas', 'nem', 'nexo', 'nkn', 'obyte', 'omisego', 'ontology', 'orbs', 'particl', 'paxosstandardtoken', 'powerledger', 'pundix', 'ravencoin', 'riftoken', 'siacoin', 'singularitynet', 'skycoin', 'solve', 'status', 'steem', 'stellar', 'stratis', 'synthetixnetworktoken', 'tenx', 'tether', 'tezos', 'theta', 'thetafuel', 'thundertoken', 'tron', 'truechain', 'usdcoin', 'utrust', 'vechain', 'waltonchain', 'wanchain', 'waves', 'wax', 'xrp', 'zcash', 'zilliqa'])"
      ]
     },
     "execution_count": 3,
     "metadata": {},
     "output_type": "execute_result"
    }
   ],
   "source": [
    "dataset.keys()"
   ]
  },
  {
   "cell_type": "code",
   "execution_count": 6,
   "metadata": {},
   "outputs": [
    {
     "name": "stdout",
     "output_type": "stream",
     "text": [
      "Cleaning: #metahash\n"
     ]
    },
    {
     "name": "stderr",
     "output_type": "stream",
     "text": [
      "[nltk_data] Downloading package punkt to\n",
      "[nltk_data]     C:\\Users\\luisd\\AppData\\Roaming\\nltk_data...\n",
      "[nltk_data]   Package punkt is already up-to-date!\n",
      "[nltk_data] Downloading package stopwords to\n",
      "[nltk_data]     C:\\Users\\luisd\\AppData\\Roaming\\nltk_data...\n",
      "[nltk_data]   Package stopwords is already up-to-date!\n",
      "[nltk_data] Downloading package averaged_perceptron_tagger to\n",
      "[nltk_data]     C:\\Users\\luisd\\AppData\\Roaming\\nltk_data...\n",
      "[nltk_data]   Package averaged_perceptron_tagger is already up-to-\n",
      "[nltk_data]       date!\n",
      "[nltk_data] Downloading package wordnet to\n",
      "[nltk_data]     C:\\Users\\luisd\\AppData\\Roaming\\nltk_data...\n",
      "[nltk_data]   Package wordnet is already up-to-date!\n",
      "[nltk_data] Error loading en_core_web_md: Package 'en_core_web_md' not\n",
      "[nltk_data]     found in index\n"
     ]
    },
    {
     "name": "stdout",
     "output_type": "stream",
     "text": [
      "Cleaning: 0x\n",
      "Cleaning: abbccoin\n",
      "Cleaning: aion\n",
      "Cleaning: apollocurrency\n",
      "Cleaning: ardor\n",
      "Cleaning: ark\n",
      "Cleaning: basicattentiontoken\n",
      "Cleaning: bhpcoin\n",
      "Cleaning: binancecoin\n",
      "Cleaning: bitcoin\n",
      "Cleaning: bitcoingold\n",
      "Cleaning: bitshares\n",
      "Cleaning: bittorrent\n",
      "Cleaning: bytecoin\n",
      "Cleaning: bytom\n",
      "Cleaning: celernetwork\n",
      "Cleaning: chainlink\n",
      "Cleaning: cosmocoin\n",
      "Cleaning: cosmos\n",
      "Cleaning: crypto\n",
      "Cleaning: cryptonex\n",
      "Cleaning: dai\n",
      "Cleaning: dash\n",
      "Cleaning: decentraland\n",
      "Cleaning: dent\n",
      "Cleaning: digixdao\n",
      "Cleaning: dogecoin\n",
      "Cleaning: elastos\n",
      "Cleaning: enjincoin\n",
      "Cleaning: eos\n",
      "Cleaning: ethereum\n",
      "Cleaning: ethereumclassic\n",
      "Cleaning: factom\n",
      "Cleaning: fantom\n",
      "Cleaning: gnosis\n",
      "Cleaning: golem\n",
      "Cleaning: gxchain\n",
      "Cleaning: holo\n",
      "Cleaning: horizen\n",
      "Cleaning: hypercash\n",
      "Cleaning: hyperion\n",
      "Cleaning: icon\n",
      "Cleaning: iexecrlc\n",
      "Cleaning: inocoin\n",
      "Cleaning: iota\n",
      "Cleaning: japancontenttoken\n",
      "Cleaning: komodo\n",
      "Cleaning: latoken\n",
      "Cleaning: lina\n",
      "Cleaning: loopring\n",
      "Cleaning: maidsafecoin\n",
      "Cleaning: maker\n",
      "Cleaning: metal\n",
      "Cleaning: metaverseetp\n",
      "Cleaning: mixin\n",
      "Cleaning: monero\n",
      "Cleaning: nano\n",
      "Cleaning: nebulas\n",
      "Cleaning: nem\n",
      "Cleaning: nexo\n",
      "Cleaning: nkn\n",
      "Cleaning: obyte\n",
      "Cleaning: omisego\n",
      "Cleaning: ontology\n",
      "Cleaning: orbs\n",
      "Cleaning: particl\n",
      "Cleaning: paxosstandardtoken\n",
      "Cleaning: powerledger\n",
      "Cleaning: pundix\n",
      "Cleaning: ravencoin\n",
      "Cleaning: riftoken\n",
      "Cleaning: siacoin\n",
      "Cleaning: singularitynet\n",
      "Cleaning: skycoin\n",
      "Cleaning: solve\n",
      "Cleaning: status\n",
      "Cleaning: steem\n",
      "Cleaning: stellar\n",
      "Cleaning: stratis\n",
      "Cleaning: synthetixnetworktoken\n",
      "Cleaning: tenx\n",
      "Cleaning: tether\n",
      "Cleaning: tezos\n",
      "Cleaning: theta\n",
      "Cleaning: thetafuel\n",
      "Cleaning: thundertoken\n",
      "Cleaning: tron\n",
      "Cleaning: truechain\n",
      "Cleaning: usdcoin\n",
      "Cleaning: utrust\n",
      "Cleaning: vechain\n",
      "Cleaning: waltonchain\n",
      "Cleaning: wanchain\n",
      "Cleaning: waves\n",
      "Cleaning: wax\n",
      "Cleaning: xrp\n",
      "Cleaning: zcash\n",
      "Cleaning: zilliqa\n",
      "Done!\n"
     ]
    }
   ],
   "source": [
    "# Define if you want your corpus to be whole or divided in sentences\n",
    "makeSentences = False\n",
    "# Creates a dictionary with each White Paper and its text pre-processed\n",
    "corpora_whole = corpus.makeCleanCorpus(dataset, lemmatize=False, removePunct=True, removeNums=True\n",
    "                                 ,makeSentences=makeSentences, removeURL=True, removeChar=True, removeEnt=False)"
   ]
  },
  {
   "cell_type": "code",
   "execution_count": 18,
   "metadata": {},
   "outputs": [
    {
     "name": "stdout",
     "output_type": "stream",
     "text": [
      "Cleaning: #metahash\n"
     ]
    },
    {
     "name": "stderr",
     "output_type": "stream",
     "text": [
      "[nltk_data] Downloading package punkt to\n",
      "[nltk_data]     C:\\Users\\luisd\\AppData\\Roaming\\nltk_data...\n",
      "[nltk_data]   Package punkt is already up-to-date!\n",
      "[nltk_data] Downloading package stopwords to\n",
      "[nltk_data]     C:\\Users\\luisd\\AppData\\Roaming\\nltk_data...\n",
      "[nltk_data]   Package stopwords is already up-to-date!\n",
      "[nltk_data] Downloading package averaged_perceptron_tagger to\n",
      "[nltk_data]     C:\\Users\\luisd\\AppData\\Roaming\\nltk_data...\n",
      "[nltk_data]   Package averaged_perceptron_tagger is already up-to-\n",
      "[nltk_data]       date!\n",
      "[nltk_data] Downloading package wordnet to\n",
      "[nltk_data]     C:\\Users\\luisd\\AppData\\Roaming\\nltk_data...\n",
      "[nltk_data]   Package wordnet is already up-to-date!\n",
      "[nltk_data] Error loading en_core_web_md: Package 'en_core_web_md' not\n",
      "[nltk_data]     found in index\n"
     ]
    },
    {
     "name": "stdout",
     "output_type": "stream",
     "text": [
      "Cleaning: 0x\n",
      "Cleaning: abbccoin\n",
      "Cleaning: aion\n",
      "Cleaning: apollocurrency\n",
      "Cleaning: ardor\n",
      "Cleaning: ark\n",
      "Cleaning: basicattentiontoken\n",
      "Cleaning: bhpcoin\n",
      "Cleaning: binancecoin\n",
      "Cleaning: bitcoin\n",
      "Cleaning: bitcoingold\n",
      "Cleaning: bitshares\n",
      "Cleaning: bittorrent\n",
      "Cleaning: bytecoin\n",
      "Cleaning: bytom\n",
      "Cleaning: celernetwork\n",
      "Cleaning: chainlink\n",
      "Cleaning: cosmocoin\n",
      "Cleaning: cosmos\n",
      "Cleaning: crypto\n",
      "Cleaning: cryptonex\n",
      "Cleaning: dai\n",
      "Cleaning: dash\n",
      "Cleaning: decentraland\n",
      "Cleaning: dent\n",
      "Cleaning: digixdao\n",
      "Cleaning: dogecoin\n",
      "Cleaning: elastos\n",
      "Cleaning: enjincoin\n",
      "Cleaning: eos\n",
      "Cleaning: ethereum\n",
      "Cleaning: ethereumclassic\n",
      "Cleaning: factom\n",
      "Cleaning: fantom\n",
      "Cleaning: gnosis\n",
      "Cleaning: golem\n",
      "Cleaning: gxchain\n",
      "Cleaning: holo\n",
      "Cleaning: horizen\n",
      "Cleaning: hypercash\n",
      "Cleaning: hyperion\n",
      "Cleaning: icon\n",
      "Cleaning: iexecrlc\n",
      "Cleaning: inocoin\n",
      "Cleaning: iota\n",
      "Cleaning: japancontenttoken\n",
      "Cleaning: komodo\n",
      "Cleaning: latoken\n",
      "Cleaning: lina\n",
      "Cleaning: loopring\n",
      "Cleaning: maidsafecoin\n",
      "Cleaning: maker\n",
      "Cleaning: metal\n",
      "Cleaning: metaverseetp\n",
      "Cleaning: mixin\n",
      "Cleaning: monero\n",
      "Cleaning: nano\n",
      "Cleaning: nebulas\n",
      "Cleaning: nem\n",
      "Cleaning: nexo\n",
      "Cleaning: nkn\n",
      "Cleaning: obyte\n",
      "Cleaning: omisego\n",
      "Cleaning: ontology\n",
      "Cleaning: orbs\n",
      "Cleaning: particl\n",
      "Cleaning: paxosstandardtoken\n",
      "Cleaning: powerledger\n",
      "Cleaning: pundix\n",
      "Cleaning: ravencoin\n",
      "Cleaning: riftoken\n",
      "Cleaning: siacoin\n",
      "Cleaning: singularitynet\n",
      "Cleaning: skycoin\n",
      "Cleaning: solve\n",
      "Cleaning: status\n",
      "Cleaning: steem\n",
      "Cleaning: stellar\n",
      "Cleaning: stratis\n",
      "Cleaning: synthetixnetworktoken\n",
      "Cleaning: tenx\n",
      "Cleaning: tether\n",
      "Cleaning: tezos\n",
      "Cleaning: theta\n",
      "Cleaning: thetafuel\n",
      "Cleaning: thundertoken\n",
      "Cleaning: tron\n",
      "Cleaning: truechain\n",
      "Cleaning: usdcoin\n",
      "Cleaning: utrust\n",
      "Cleaning: vechain\n",
      "Cleaning: waltonchain\n",
      "Cleaning: wanchain\n",
      "Cleaning: waves\n",
      "Cleaning: wax\n",
      "Cleaning: xrp\n",
      "Cleaning: zcash\n",
      "Cleaning: zilliqa\n",
      "Done!\n"
     ]
    }
   ],
   "source": [
    "# Define if you want your corpus to be whole or divided in sentences\n",
    "makeSentences = True\n",
    "# Creates a dictionary with each White Paper and its text pre-processed\n",
    "corpora_sent = corpus.makeCleanCorpus(dataset, lemmatize=False, removePunct=True, removeNums=True\n",
    "                                 ,makeSentences=makeSentences, removeURL=True, removeChar=True, removeEnt=False)"
   ]
  },
  {
   "cell_type": "code",
   "execution_count": 9,
   "metadata": {},
   "outputs": [],
   "source": [
    "#Our dictionary at the moment is in key: blockchain firms, value: list of text of whitepapers\n",
    "#We change this to key: blockchain firms and value: string format\n",
    "def combine_text(list_of_text):\n",
    "    '''Takes a list of text and combines them into one large chunk of text.'''\n",
    "    combined_text = ' '.join(list_of_text)\n",
    "    return combined_text"
   ]
  },
  {
   "cell_type": "code",
   "execution_count": 19,
   "metadata": {},
   "outputs": [],
   "source": [
    "#Combining then\n",
    "data_combined = {key:[combine_text(value)] for (key, value) in corpora_sent.items()}"
   ]
  },
  {
   "cell_type": "code",
   "execution_count": 20,
   "metadata": {},
   "outputs": [],
   "source": [
    "#Putting the text into pandas dataframe\n",
    "import pandas as pd\n",
    "pd.set_option('max_colwidth', 150)\n",
    "\n",
    "data_df = pd.DataFrame.from_dict(data_combined).transpose()\n",
    "data_df.columns = ['whitepapers']\n",
    "data_df = data_df.sort_index()"
   ]
  },
  {
   "cell_type": "code",
   "execution_count": 21,
   "metadata": {},
   "outputs": [
    {
     "data": {
      "text/html": [
       "<div>\n",
       "<style scoped>\n",
       "    .dataframe tbody tr th:only-of-type {\n",
       "        vertical-align: middle;\n",
       "    }\n",
       "\n",
       "    .dataframe tbody tr th {\n",
       "        vertical-align: top;\n",
       "    }\n",
       "\n",
       "    .dataframe thead th {\n",
       "        text-align: right;\n",
       "    }\n",
       "</style>\n",
       "<table border=\"1\" class=\"dataframe\">\n",
       "  <thead>\n",
       "    <tr style=\"text-align: right;\">\n",
       "      <th></th>\n",
       "      <th>whitepapers</th>\n",
       "    </tr>\n",
       "  </thead>\n",
       "  <tbody>\n",
       "    <tr>\n",
       "      <th>#metahash</th>\n",
       "      <td>yellow paper technical documentation version  metahash gartenstrasse zug switzerland yellow paper project goals metahash technical features testin...</td>\n",
       "    </tr>\n",
       "    <tr>\n",
       "      <th>0x</th>\n",
       "      <td>open protocol decentralized exchange ethereum blockchain warren amir bandeali xprojectcom february protocol facilitates low friction peertopeer ex...</td>\n",
       "    </tr>\n",
       "  </tbody>\n",
       "</table>\n",
       "</div>"
      ],
      "text/plain": [
       "                                                                                                                                                     whitepapers\n",
       "#metahash  yellow paper technical documentation version  metahash gartenstrasse zug switzerland yellow paper project goals metahash technical features testin...\n",
       "0x         open protocol decentralized exchange ethereum blockchain warren amir bandeali xprojectcom february protocol facilitates low friction peertopeer ex..."
      ]
     },
     "execution_count": 21,
     "metadata": {},
     "output_type": "execute_result"
    }
   ],
   "source": [
    "#Glancing into the dataframe; it is a dataframe with each row representing a document (blockchain whitepaper)\n",
    "data_df.head(2)"
   ]
  },
  {
   "cell_type": "code",
   "execution_count": 13,
   "metadata": {},
   "outputs": [],
   "source": [
    "#Pickling the data for future use. \n",
    "# data_df.to_pickle('tmcorpus.pkl')"
   ]
  },
  {
   "cell_type": "code",
   "execution_count": 22,
   "metadata": {},
   "outputs": [],
   "source": [
    "with open('tmcorpus.pkl', 'rb') as f:\n",
    "    data_ready = pickle.load(f)"
   ]
  },
  {
   "cell_type": "code",
   "execution_count": 23,
   "metadata": {},
   "outputs": [
    {
     "name": "stdout",
     "output_type": "stream",
     "text": [
      "['yellow', 'paper', 'technical', 'documentation', 'version', 'metahash', 'gartenstrasse', 'zug', 'switzerland', 'yellow', 'paper', 'project', 'goals', 'metahash', 'technical', 'features', 'testing', 'methodology', 'test', 'building', 'network', 'test', 'bulk', 'transactions', 'verification', 'latency', 'test', 'network', 'failure', 'test', 'continental', 'blockage', 'network', 'recovery', 'testing', 'network', 'description', 'metasync', 'data', 'synchronization', 'subsystem', 'network', 'structure', 'trust', 'network', 'topology', 'network', 'map', 'metapos', 'multiconsensus', 'subsystem', 'metahash', 'multiple', 'proof', 'stake', 'multipos', 'trust', 'voting', 'cryptography', 'block', 'structure', 'balance', 'model', 'transactions', 'protocol', 'features', 'specialuse', 'addresses', 'multisignature', 'address', 'frozen', 'address', 'child', 'address', 'forging', 'mhc', 'delegation', 'reward', 'distribution', 'strategy', 'risks', 'conclusion', 'data', 'storage', 'yellow', 'paper', 'year', 'decentralized', 'technology', 'boom', 'paradigm', 'addresses', 'key', 'issues', 'issues', 'trust', 'controlling', 'authorities', 'systems', 'scalability', 'reliability', 'thirdparty', 'involvement', 'platform', 'app', 'market', 'limited', 'major', 'factors', 'geographic', 'distribution', 'nodes', 'insufficient', 'connection', 'infrastructure', 'slow', 'data', 'synchronization', 'validation', 'vulnerability', 'distributed', 'networks', 'attack', 'leaves', 'desired', 'terms', 'security', 'trust', 'metahash', 'overcomes', 'obstacles', 'introducing', 'dynamic', 'node', 'roles', 'implementing', 'fragmented', 'cryptographic', 'proof', 'simultaneously', 'decreasing', 'volume', 'transmitted', 'data', 'approach', 'optimizes', 'network', 'synchronization', 'solves', 'issues', 'data', 'transmission', 'archival', 'approach', 'lead', 'creation', 'metapos', 'multilayered', 'consensus', 'enhancing', 'network', 'resilience', 'attack', 'utilizing', 'proprietary', 'metasync', 'metapos', 'technologies', 'metahash', 'team', 'created', 'tracechain', 'fastest', 'blockchain', 'protocol', 'today', 'load', 'test', 'throughput', 'transactions', 'second', 'methods', 'document', 'metahash', 'nextgeneration', 'highperformance', 'lowfee', 'blockchain', 'high', 'confirmation', 'speed', 'low', 'data', 'processing', 'fees', 'enable', 'support', 'operating', 'decentralized', 'applications', 'realtime', 'broad', 'bandwidth', 'transactions', 'yellow', 'paper', 'project', 'goals', 'shortterm', 'milestones', 'midterm', 'milestones', 'highspeed', 'multiblockchain', 'based', 'tracechain', 'protocol', 'design', 'geodistributed', 'network', 'architecture', 'minimum', 'synchronization', 'time', 'maintaining', 'maximum', 'data', 'transfer', 'capacity', 'select', 'consensus', 'model', 'allowing', 'minimum', 'transaction', 'confirmation', 'time', 'maintaining', 'transaction', 'immutability', 'cryptographic', 'proof', 'asset', 'ownership', 'decreasing', 'stored', 'transmitted', 'data', 'select', 'optimal', 'balance', 'model', 'mitigate', 'excessive', 'data', 'storage', 'issues', 'timeproven', 'blockchain', 'network', 'structure', 'nonlinear', 'validation', 'blockchain', 'data', 'avoid', 'hard', 'forks', 'deploying', 'major', 'software', 'updates', 'solve', 'issue', 'blockchain', 'merges', 'network', 'split', 'decentralised', 'storage', 'metaapps', 'virtual', 'app', 'hosting', 'metadns', 'distributed', 'service', 'metagate', 'multicurrency', 'wallet', 'dapp', 'browser', 'mobile', 'resource', 'sharing', 'cellular', 'satellite', 'communications', 'data', 'transmission', 'consensus', 'mobile', 'devices', 'dapp', 'marketplace', 'digital', 'identification', 'biometric', 'data', 'iot', 'capabilities', 'compatibility', 'universal', 'reputation', 'yellow', 'paper', 'metahash', 'technical', 'features', 'experimentally', 'proven', 'features', 'metahash', 'include', 'exceptional', 'technical', 'characteristics', 'metahash', 'network', 'result', 'innovative', 'technologies', 'metasync', 'metapos', 'metasync', 'data', 'synchronization', 'subsystem', 'complete', 'integral', 'data', 'updating', 'seconds', 'metapos', 'multiconsensus', 'subsystem', 'generating', 'validating', 'blocks', 'parallel', 'synchronization', 'process', 'subsystem', 'sections', 'test', 'methods', 'provided', 'below', 'transaction', 'capacity', 'transactions', 'network', 'synchronization', 'time', 'seconds', 'minimum', 'number', 'nodes', 'block', 'generation', 'time', 'storage', 'required', 'financial', 'transactions', 'yellow', 'paper', 'test', 'building', 'network', 'test', 'evaluated', 'process', 'network', 'building', 'prior', 'network', 'build', 'tracechain', 'evaluated', 'effective', 'performance', 'node', 'speed', 'data', 'transmission', 'nodes', 'mainnet', 'tests', 'randomly', 'conducted', 'node', 'background', 'test', 'tracechain', 'algorithm', 'active', 'nodes', 'computed', 'optimal', 'network', 'map', 'assigned', 'roles', 'node', 'peer', 'verification', 'core', 'torrent', 'fig', 'graphic', 'image', 'network', 'map', 'signal', 'travels', 'outer', 'layer', 'center', 'peer', 'node', 'verification', 'node', 'core', 'node', 'fig', 'network', 'map', 'tests', 'involved', 'nodes', 'continents', 'wide', 'range', 'node', 'parameters', 'tested', 'lowperformance', 'vcpu', 'ram', 'highperformance', 'vcpu', 'ram', 'tests', 'conducted', 'months', 'time', 'billion', 'transactions', 'processed', 'testing', 'methodology', 'yellow', 'paper', 'fig', 'transactions', 'propagation', 'core', 'torrent', 'nodes', 'test', 'bulk', 'transactions', 'verification', 'latency', 'test', 'studied', 'dependence', 'transaction', 'time', 'number', 'transactions', 'transaction', 'time', 'defined', 'total', 'time', 'transaction', 'creation', 'complete', 'propagation', 'processed', 'transaction', 'entire', 'network', 'transaction', 'propagation', 'path', 'network', 'fig', 'number', 'transactions', 'varied', 'second', 'yellow', 'paper', 'blue', 'dots', 'fig', 'denote', 'acquired', 'experimental', 'data', 'transactions', 'marks', 'recorded', 'threshold', 'network', 'bandwidth', 'second', 'transactions', 'processed', 'core', 'nodes', 'queued', 'remain', 'pending', 'processed', 'block', 'interpolation', 'polynomial', 'yellow', 'graph', 'appears', 'linear', 'mark', 'transactions', 'proves', 'excellent', 'scalability', 'metahash', 'network', 'studied', 'range', 'fig', 'verification', 'time', 'number', 'transactions', 'transactions', 'tps', 'yellow', 'paper', 'fig', 'partial', 'shutoff', 'network', 'test', 'network', 'failure', 'test', 'measured', 'network', 'performance', 'depending', 'number', 'lost', 'nodes', 'percentage', 'nodes', 'randomly', 'turned', 'fig', 'illustrates', 'shutoff', 'scenario', 'low', 'nodes', 'active', 'network', 'fully', 'capable', 'functioning', 'keeping', 'claimed', 'performance', 'capacity', 'network', 'availability', 'transaction', 'verification', 'distribution', 'speed', 'achieved', 'simulation', 'failure', 'cluster', 'server', 'collocations', 'eg', 'data', 'center', 'failure', 'global', 'isp', 'issues', 'yellow', 'paper', 'test', 'continental', 'blockage', 'network', 'recovery', 'test', 'simulated', 'continental', 'blockage', 'lead', 'network', 'split', 'subsequent', 'rebuild', 'merge', 'two', 'purpose', 'test', 'speed', 'consensus', 'reorganization', 'split', 'synchronization', 'speed', 'network', 'recovery', 'scenario', 'rebuilding', 'network', 'complete', 'structure', 'fewer', 'nodes', 'network', 'forms', 'chain', 'transaction', 'blocks', 'merged', 'replacement', 'conflicting', 'transactions', 'connection', 'networks', 'restored', 'cutoff', 'nodes', 'reconnected', 'network', 'core', 'torrent', 'nodes', 'effective', 'performance', 'slows', 'transactions', 'period', 'data', 'synchronization', 'network', 'effectively', 'slows', 'times', 'duration', 'merge', 'testing', 'metahash', 'throughput', 'handling', 'transactions', 'broad', 'range', 'environmental', 'bandwidth', 'loads', 'transactions', 'outpacing', 'claimed', 'performance', 'transactions', 'second', 'exceeding', 'incoming', 'transactions', 'rate', 'claimed', 'performance', 'level', 'processing', 'speed', 'observed', 'slow', 'down', 'network', 'resilience', 'maintained', 'network', 'failure', 'levels', 'performance', 'deterioration', 'event', 'continental', 'network', 'blockage', 'networks', 'retain', 'local', 'functionality', 'automatically', 'rebuild', 'connectivity', 'restored', 'rebuilding', 'networks', 'function', 'slower', 'mode', 'yellow', 'paper', 'network', 'description', 'metahash', 'single', 'rank', 'peertopeer', 'network', 'member', 'network', 'runs', 'software', 'automatically', 'role', 'assigned', 'roles', 'assigned', 'tracechain', 'algorithm', 'executed', 'nodes', 'sections', 'below', 'role', 'specific', 'services', 'synchronization', 'consensus', 'subsystems', 'metahash', 'operation', 'principles', 'comprehensible', 'subsystems', 'explained', 'individually', 'below', 'metahash', 'network', 'key', 'roles', 'metagate', 'peer', 'node', 'verification', 'node', 'core', 'node', 'master', 'core', 'node', 'slave', 'core', 'node', 'torrent', 'node', 'yellow', 'paper', 'metasync', 'data', 'synchronization', 'subsystem', 'describes', 'metahash', 'network', 'perspective', 'metasync', 'data', 'synchronization', 'subsystem', 'network', 'design', 'only', 'role', 'assignment', 'network', 'members', 'data', 'synchronization', 'subsystem', 'maintained', 'tracechain', 'role', 'assignment', 'based', 'nodes', 'physical', 'properties', 'memory', 'cpu', 'performance', 'network', 'connection', 'quality', 'performance', 'sole', 'criterion', 'determines', 'node', 'role', 'characteristic', 'nodes', 'geographic', 'location', 'data', 'synchronization', 'subsystem', 'roles', 'functionality', 'tab', 'network', 'structure', 'role', 'functions', 'metagate', 'light', 'userclient', 'option', 'hard', 'drive', 'archive', 'storage', 'forging', 'mode', 'live', 'peer', 'node', 'accepts', 'incoming', 'connections', 'metagate', 'light', 'clients', 'direct', 'connection', 'verification', 'nodes', 'sufficient', 'processing', 'capacity', 'synchronization', 'tasks', 'ensures', 'fast', 'network', 'connectivity', 'clients', 'protects', 'invalid', 'transactions', 'verification', 'node', 'accepts', 'incoming', 'connections', 'peers', 'maintains', 'longdistance', 'connections', 'maintains', 'direct', 'connection', 'core', 'nodes', 'sufficient', 'processing', 'capacity', 'synchronization', 'serves', 'network', 'communication', 'layer', 'cores', 'core', 'node', 'accepts', 'incoming', 'connections', 'verification', 'nodes', 'good', 'connection', 'core', 'nodes', 'regions', 'sufficient', 'processing', 'capacity', 'fast', 'block', 'generation', 'controls', 'synchronization', 'processes', 'slave', 'core', 'node', 'duplicates', 'core', 'node', 'operation', 'automatically', 'replace', 'core', 'node', 'case', 'unavailability', 'failure', 'torrent', 'node', 'accepts', 'connections', 'roles', 'sufficient', 'storage', 'capacity', 'blockchain', 'data', 'transmits', 'data', 'metagate', 'nodes', 'work', 'raw', 'data', 'archive', 'report', 'balances', 'carry', 'specific', 'tasks', 'support', 'application', 'functioning', 'tab', 'data', 'synchronization', 'subsystem', 'roles', 'functions', 'yellow', 'paper', 'fig', 'network', 'diagram', 'network', 'members', 'role', 'static', 'members', 'change', 'roles', 'based', 'criteria', 'listed', 'tracechain', 'aibased', 'behavioral', 'analysis', 'network', 'schematically', 'fig', 'verifications', 'network', 'layer', 'cores', 'main', 'chain', 'network', 'map', 'datachain', 'technical', 'datachain', 'metagate', 'clients', 'peer', 'nodes', 'layer', 'torrent', 'nodes', 'layer', 'yellow', 'paper', 'metahash', 'network', 'implements', 'nodes', 'confidence', 'factor', 'defined', 'trust', 'trust', 'weighting', 'factor', 'role', 'assignment', 'voting', 'influence', 'depends', 'duration', 'nodes', 'operation', 'network', 'nodes', 'performance', 'absence', 'network', 'failures', 'errors', 'occurred', 'node', 'trust', 'metahash', 'multiple', 'proof', 'stake', 'section', 'data', 'routing', 'crucial', 'task', 'optimizing', 'synchronization', 'tracechain', 'network', 'map', 'dynamically', 'updated', 'member', 'generates', 'map', 'entire', 'network', 'updates', 'continuously', 'speed', 'data', 'delivery', 'map', 'choosing', 'optimal', 'operator', 'nodes', 'tasks', 'clients', 'network', 'maps', 'generated', 'nodes', 'signed', 'account', 'trust', 'stake', 'voting', 'process', 'chapter', 'metahash', 'multiple', 'proof', 'stake', 'network', 'map', 'datachain', 'public', 'use', 'client', 'generates', 'network', 'map', 'interacting', 'members', 'network', 'client', 'choose', 'operator', 'request', 'operator', 'highest', 'level', 'trust', 'connection', 'speed', 'specific', 'client', 'event', 'node', 'failure', 'automatic', 'voting', 'roles', 'redistribution', 'takes', 'place', 'based', 'network', 'maps', 'nodes', 'trust', 'achieve', 'optimal', 'network', 'map', 'tracechain', 'queries', 'node', 'performance', 'intranode', 'transfer', 'speed', 'data', 'tracechain', 'randomly', 'puts', 'nodes', 'testing', 'mode', 'information', 'tests', 'designed', 'compromised', 'node', 'unable', 'spoof', 'network', 'providing', 'higher', 'performance', 'speed', 'values', 'unable', 'understand', 'simulation', 'achieved', 'providing', 'running', 'tests', 'final', 'stages', 'interaction', 'node', 'connection', 'network', 'tracechain', 'list', 'node', 'addresses', 'received', 'dns', 'network', 'map', 'finalized', 'calls', 'carried', 'map', 'trust', 'network', 'topology', 'yellow', 'paper', 'field', 'description', 'binary', 'node', 'binary', 'format', 'address', 'nodes', 'wallet', 'address', 'coins', 'coins', 'delegated', 'nodetype', 'bitmask', 'bitmask', 'current', 'nodes', 'role', 'master', 'slave', 'verif', 'proxy', 'torrentfull', 'torrenttx', 'torrentbalance', 'torrentbkp', 'parent', 'nodes', 'counter', 'number', 'parent', 'nodes', 'type', 'varint', 'parent', 'node', 'parent', 'node', 'addr', 'parent', 'node', 'parent', 'node', 'addr', 'etc', 'list', 'parent', 'nodes', 'number', 'nodes', 'parent', 'nodes', 'counter', 'sorted', 'priority', 'required', 'parameters', 'parent', 'node', 'node', 'nodes', 'wallet', 'address', 'coins', 'coins', 'delegated', 'tab', 'object', 'data', 'structure', 'varint', 'proprietary', 'type', 'integer', 'variable', 'length', 'data', 'developed', 'metahash', 'network', 'map', 'state', 'defined', 'block', 'separate', 'blockchain', 'block', 'describes', 'state', 'members', 'network', 'relevant', 'topology', 'performance', 'test', 'trust', 'network', 'map', 'mhaddr', 'varint', 'parentcnt', 'xea', 'mhaddr', 'xda', 'mharrd', 'xda', 'mhaddr', 'varint', 'datasize', 'protobuf', 'data', 'fig', 'object', 'scheme', 'binary', 'address', 'parent', 'nodes', 'counter', 'parent', 'node', 'parent', 'node', 'address', 'parent', 'node', 'address', 'parent', 'node', 'nodetype', 'bitmask', 'yellow', 'paper', 'node', 'description', 'binary', 'list', 'reports', 'test', 'nodes', 'signed', 'private', 'key', 'node', 'node', 'tested', 'saved', 'format', 'fig', 'tab', 'mhaddr', 'ping', 'tps', 'mbs', 'signsec', 'ram', 'rate', 'varint', 'signsize', 'sign', 'varint', 'pubksize', 'pubk', 'fig', 'tests', 'schema', 'role', 'parent', 'nodes', 'core', 'node', 'slave', 'core', 'nodes', 'slave', 'core', 'node', 'torrent', 'nodes', 'verification', 'node', 'nodes', 'verification', 'node', 'torrent', 'node', 'nodes', 'torrent', 'node', 'receives', 'data', 'tab', 'roles', 'parent', 'nodes', 'compliance', 'type', 'parent', 'node', 'depends', 'current', 'node', 'role', 'network', 'member', 'tab', 'protobuf', 'method', 'data', 'packing', 'binary', 'code', 'proposed', 'google', 'signature', 'public', 'key', 'blocks', 'checking', 'validity', 'test', 'record', 'tab', 'data', 'structure', 'tests', 'field', 'description', 'mhaddr', 'node', 'binary', 'format', 'ping', 'ping', 'milliseconds', 'tps', 'transactions', 'mbs', 'network', 'channel', 'bandwidth', 'signsec', 'signatures', 'ram', 'ram', 'rate', 'nodes', 'trust', 'yellow', 'paper', 'metapos', 'multiconsensus', 'subsystem', 'blockchain', 'critical', 'define', 'state', 'consensus', 'state', 'members', 'network', 'agree', 'proposed', 'change', 'addition', 'existing', 'blockchain', 'records', 'network', 'roles', 'metahash', 'exclusively', 'viewport', 'metapos', 'consensus', 'subsystem', 'context', 'existing', 'blockchain', 'technologies', 'details', 'multipos', 'consensus', 'model', 'cryptographic', 'protection', 'blockchain', 'structure', 'content', 'transactions', 'tracechain', 'protocol', 'capabilities', 'key', 'requirements', 'outlined', 'writing', 'algorithm', 'consensus', 'model', 'reaching', 'consensus', 'highest', 'speed', 'providing', 'improved', 'security', 'corruption', 'network', 'time', 'writing', 'delegated', 'proof', 'stake', 'dpos', 'fastest', 'consensus', 'model', 'tested', 'popular', 'platforms', 'dpos', 'proposes', 'member', 'network', 'holds', 'voting', 'power', 'stake', 'equivalent', 'owned', 'member', 'member', 'grant', 'stake', 'trusted', 'delegate', 'speeds', 'voting', 'process', 'number', 'delegates', 'generally', 'small', 'practice', 'appears', 'large', 'amounts', 'stakes', 'collected', 'limited', 'group', 'people', 'neutralizing', 'network', 'metahash', 'team', 'improved', 'dpos', 'model', 'developed', 'algorithm', 'multiple', 'proof', 'stake', 'multipos', 'consensus', 'model', 'model', 'multilayered', 'validation', 'basis', 'protecting', 'network', 'corruption', 'cases', 'central', 'network', 'entities', 'generate', 'blocks', 'corrupted', 'rest', 'network', 'vote', 'rebuild', 'network', 'redistribute', 'roles', 'neutralizing', 'threat', 'blockcreating', 'cores', 'managing', 'synchronization', 'static', 'vary', 'dynamic', 'network', 'parameters', 'granted', 'final', 'validation', 'rights', 'model', 'validation', 'block', 'distribution', 'processes', 'parallel', 'decreasing', 'consensus', 'time', 'innovative', 'method', 'validation', 'rights', 'management', 'core', 'metapos', 'technology', 'yellow', 'paper', 'reaching', 'consensus', 'key', 'definitions', 'core', 'nodes', 'key', 'players', 'consensus', 'compile', 'transactions', 'blocks', 'addresses', 'node', 'synchronization', 'processes', 'block', 'generation', 'network', 'consensus', 'process', 'distribution', 'blocks', 'torrent', 'nodes', 'transaction', 'network', 'detailed', 'description', 'transactions', 'undergo', 'validation', 'process', 'symbol', 'denote', 'signature', 'validity', 'check', 'denote', 'transaction', 'validity', 'check', 'function', 'returns', 'true', 'transaction', 'valid', 'false', 'otherwise', 'define', 'methods', 'elements', 'transaction', 'transaction', 'defined', 'trvalue', 'transaction', 'fee', 'trfee', 'verification', 'node', 'formation', 'block', 'verification', 'nodes', 'vary', 'represented', 'time', 'curverif', 'function', 'time', 'computed', 'curverift', 'represents', 'time', 'define', 'maxverif', 'minverif', 'define', 'access', 'specific', 'verification', 'node', 'network', 'vri', 'icurverif', 'evidently', 'limited', 'core', 'node', 'time', 'blocks', 'creation', 'number', 'core', 'nodes', 'fixed', 'constant', 'denoted', 'curcores', 'access', 'specific', 'core', 'node', 'network', 'denoted', 'cri', 'icurcores', 'adr', 'address', 'system', 'defined', 'pair', 'private', 'public', 'keys', 'account', 'balance', 'methods', 'access', 'properties', 'address', 'declared', 'access', 'balance', 'address', 'denoted', 'adrbalance', 'metahash', 'multiple', 'proof', 'stake', 'multipos', 'peer', 'node', 'receives', 'transactions', 'clients', 'checks', 'transaction', 'validity', 'sends', 'transactions', 'verification', 'nodes', 'blockchain', 'state', 'memory', 'require', 'computing', 'resources', 'verification', 'node', 'checks', 'validity', 'economic', 'feasibility', 'transactions', 'received', 'peer', 'nodes', 'records', 'transactions', 'processed', 'requires', 'computing', 'resources', 'core', 'node', 'accepts', 'transactions', 'verification', 'nodes', 'queues', 'transactions', 'block', 'generation', 'generates', 'blocks', 'consistent', 'sharding', 'slave', 'core', 'node', 'signed', 'blocks', 'substitute', 'core', 'node', 'case', 'core', 'node', 'failure', 'torrent', 'node', 'distributes', 'blockchain', 'information', 'roles', 'functions', 'metapos', 'consensus', 'subsystem', 'yellow', 'paper', 'synchronization', 'phase', 'forming', 'rawblock', 'block', 'valid', 'transactions', 'active', 'core', 'comprised', 'active', 'core', 'sends', 'random', 'number', 'verification', 'nodes', 'number', 'denoted', 'cnxtverif', 'verification', 'nodes', 'synchronize', 'rawblock', 'verification', 'node', 'forms', 'difference', 'sets', 'normal', 'operation', 'equation', 'false', 'verification', 'node', 'sends', 'wide', 'predefined', 'cnxtcores', 'core', 'nodes', 'list', 'manner', 'active', 'cores', 'additional', 'transactions', 'indices', 'previous', 'blocks', 'icurverif', 'icurverif', 'icurverif', 'synchronization', 'phase', 'moment', 'defined', 'multiple', 'core', 'nodes', 'synchronization', 'phase', 'temporary', 'attribute', 'role', 'active', 'core', 'describes', 'core', 'node', 'active', 'duration', 'creation', 'block', 'set', 'cores', 'wellordered', 'verification', 'node', 'point', 'time', 'aware', 'active', 'core', 'current', 'core', 'identifier', 'curcore', 'curblock', 'mod', 'curcores', 'formula', 'simplified', 'fixing', 'number', 'cores', 'order', 'reduce', 'complexity', 'calculating', 'index', 'stage', 'sets', 'transferred', 'crcurcore', 'role', 'active', 'core', 'simplicity', 'crcurcore', 'acr', 'valid', 'notation', 'result', 'operation', 'set', 'formed', 'union', 'sets', 'synchronization', 'phase', 'verification', 'node', 'processes', 'calculates', 'multitude', 'transactions', 'arrived', 'verification', 'node', 'deemed', 'valid', 'set', 'transactions', 'match', 'condition', 'adrbalance', 'trvalue', 'trfee', 'verification', 'node', 'vri', 'set', 'valid', 'transactions', 'set', 'transactions', 'set', 'inherits', 'properties', 'transaction', 'including', 'hash', 'transactions', 'set', 'valid', 'transaction', 'hashes', 'specific', 'verification', 'node', 'defined', 'denotes', 'objects', 'properties', 'verification', 'node', 'index', 'yellow', 'paper', 'synchronization', 'phase', 'condition', 'fourth', 'synchronization', 'phase', 'achieved', 'core', 'nodes', 'form', 'posblock', 'signatures', 'core', 'nodes', 'verified', 'block', 'block', 'torrent', 'nodes', 'involves', 'core', 'nodes', 'block', 'creation', 'proceeds', 'order', 'core', 'next', 'event', 'failure', 'core', 'node', 'slave', 'core', 'steps', 'replacement', 'block', 'validated', 'checked', 'confirmed', 'cores', 'verification', 'nodes', 'core', 'commence', 'formation', 'block', 'current', 'validated', 'block', 'torrent', 'nodes', 'dissemination', 'clients', 'torrent', 'nodes', 'confirm', 'block', 'valid', 'initiate', 'dissemination', 'block', 'users', 'torrent', 'nodes', 'block', 'invalid', 'torrent', 'nodes', 'raise', 'signal', 'alerting', 'core', 'nodes', 'compromised', 'initiating', 'role', 'redistribution', 'process', 'synchronization', 'phase', 'transaction', 'notation', 'core', 'node', 'verification', 'nodes', 'simultaneously', 'send', 'rawblock', 'nonactive', 'core', 'nodes', 'core', 'nodes', 'received', 'block', 'set', 'formed', 'manner', 'analogous', 'set', 'set', 'hash', 'rawblock', 'transactions', 'received', 'node', 'transaction', 'hashes', 'compact', 'transactions', 'reducing', 'resource', 'cost', 'synchronization', 'operation', 'stage', 'hashes', 'transactions', 'attribute', 'required', 'consensus', 'reached', 'set', 'hashes', 'active', 'core', 'equal', 'equivalent', 'set', 'intersections', 'transaction', 'hashes', 'cores', 'jcurcores', 'jcurcores', 'hjh', 'icurverif', 'icurverif', 'yellow', 'paper', 'fig', 'flowchart', 'describing', 'process', 'reaching', 'consensus', 'tab', 'descriptions', 'time', 'intervals', 'stage', 'process', 'designation', 'denoting', 'frequent', 'occurring', 'observation', 'data', 'set', 'transaction', 'flowchart', 'consensus', 'algorithm', 'visualization', 'metagate', 'core', 'core', 'core', 'core', 'core', 'core', 'core', 'torrenttorrent', 'torrenttorrent', 'peer', 'verif', 'core', 'peer', 'peer', 'fig', 'consensus', 'reaching', 'diagram', 'yellow', 'paper', 'tab', 'consensus', 'reaching', 'stages', 'process', 'execution', 'time', 'metagate', 'requests', 'service', 'data', 'torrent', 'nodes', 'mos', 'metagate', 'creates', 'transaction', 'signs', 'sends', 'peer', 'nodes', 'mos', 'peer', 'node', 'checks', 'sufficiency', 'accuracy', 'data', 'signature', 'transaction', 'sends', 'verification', 'nodes', 'mos', 'verification', 'node', 'checks', 'data', 'accuracy', 'transactions', 'economic', 'feasibility', 'possessing', 'core', 'node', 'active', 'creating', 'block', 'verification', 'node', 'sends', 'transaction', 'latter', 'mos', 'core', 'node', 'generates', 'block', 'incoming', 'transactions', 'nearest', 'verification', 'nodes', 'mos', 'processes', 'occurring', 'parallel', 'verification', 'nodes', 'distribute', 'block', 'verification', 'nodes', 'nearest', 'core', 'nodes', 'mos', 'verification', 'nodes', 'check', 'transactions', 'block', 'lost', 'transactions', 'verification', 'nodes', 'deliver', 'core', 'nodes', 'participating', 'blocks', 'creation', 'include', 'transaction', 'block', 'discard', 'completely', 'discarded', 'transactions', 'delivered', 'torrent', 'nodes', 'user', 'learn', 'reasons', 'discarding', 'status', 'block', 'verified', 'voting', 'cores', 'seeded', 'root', 'layer', 'torrent', 'nodes', 'speed', 'synchronization', 'core', 'nodes', 'verify', 'block', 'correct', 'sign', 'deliver', 'root', 'layer', 'torrent', 'nodes', 'verification', 'nodes', 'block', 'delivered', 'root', 'layer', 'torrent', 'node', 'verified', 'core', 'nodes', 'torrent', 'node', 'client', 'check', 'core', 'nodes', 'voting', 'result', 'add', 'vote', 'mos', 'yellow', 'paper', 'test', 'testing', 'transaction', 'verification', 'block', 'distribution', 'torrent', 'nodes', 'starting', 'transaction', 'arrival', 'peer', 'node', 'takes', 'average', 'maximum', 'takes', 'generate', 'irreversible', 'block', 'global', 'network', 'nodes', 'process', 'execution', 'time', 'block', 'synchronized', 'torrent', 'node', 'tree', 'root', 'layer', 'torrent', 'nodes', 'network', 'map', 'event', 'torrent', 'node', 'validate', 'block', 'correct', 'votes', 'network', 'rebuilding', 'vote', 'torrent', 'nodes', 'favor', 'network', 'rebuilding', 'torrent', 'nodes', 'delivering', 'blocks', 'network', 'rebuilding', 'complete', 'mos', 'metagate', 'requests', 'status', 'transaction', 'torrent', 'nodes', 'case', 'torrent', 'node', 'believes', 'block', 'incorrect', 'informs', 'client', 'thereof', 'event', 'torrent', 'nodes', 'replied', 'client', 'current', 'block', 'compromised', 'transaction', 'deemed', 'irreversible', 'probability', 'networks', 'reconfiguration', 'high', 'torrent', 'nodes', 'inform', 'client', 'network', 'functions', 'compromised', 'core', 'nodes', 'probability', 'transaction', 'rollback', 'zero', 'yellow', 'paper', 'voting', 'weighted', 'votes', 'superposition', 'nodes', 'stake', 'trust', 'stake', 'holder', 'coins', 'delegated', 'coins', 'effective', 'stake', 'stake', 'trust', 'voting', 'employs', 'votebased', 'decision', 'mechanism', 'includes', 'validation', 'blocks', 'network', 'topology', 'software', 'updates', 'address', 'delegate', 'coins', 'address', 'delegation', 'process', 'constraints', 'forging', 'section', 'total', 'coins', 'delegated', 'held', 'address', 'called', 'stake', 'denotes', 'absolute', 'voting', 'power', 'address', 'trust', 'node', 'obtains', 'trust', 'factor', 'trust', 'increased', 'units', 'hours', 'reward', 'calculation', 'transactions', 'validated', 'correctly', 'decreased', 'case', 'network', 'degradation', 'case', 'incorrect', 'validation', 'transaction', 'detection', 'achieving', 'trust', 'requires', 'days', 'yellow', 'paper', 'cryptography', 'network', 'security', 'digital', 'signature', 'algorithms', 'ecdsa', 'elliptic', 'curve', 'digital', 'signature', 'algorithm', 'family', 'used', 'sha', 'main', 'hash', 'function', 'algorithms', 'considered', 'attackresistant', 'repeatedly', 'proven', 'applicability', 'sphere', 'digital', 'security', 'testing', 'undertaken', 'computer', 'security', 'resource', 'center', 'presented', 'cryptographic', 'algorithm', 'validation', 'program', 'report', 'quantum', 'computers', 'advance', 'metahash', 'considers', 'postquantum', 'cryptography', 'algorithms', 'tba', 'block', 'structure', 'achieve', 'optimal', 'volume', 'data', 'storage', 'archiving', 'blockchain', 'multilevel', 'highspeed', 'validation', 'metahash', 'types', 'blocks', 'genesis', 'block', 'primary', 'block', 'initial', 'release', 'coins', 'distribution', 'state', 'block', 'snapshot', 'blockchain', 'state', 'state', 'block', 'generated', 'billion', 'transactions', 'requires', 'vote', 'verification', 'nodes', 'state', 'blocks', 'verification', 'nodes', 'store', 'older', 'blocks', 'freeing', 'space', 'data', 'leaving', 'data', 'data', 'storage', 'archive', 'micro', 'block', 'generated', 'based', 'genesis', 'state', 'blocks', 'micro', 'blocks', 'validated', 'number', 'nodes', 'validation', 'cycle', 'checked', 'validators', 'generation', 'state', 'block', 'genesis', 'fig', 'yellow', 'paper', 'state', 'blocks', 'alternative', 'hard', 'fork', 'state', 'block', 'complete', 'network', 'snapshot', 'hard', 'fork', 'cases', 'software', 'updates', 'network', 'converts', 'software', 'operations', 'continue', 'rules', 'state', 'block', 'sent', 'activation', 'state', 'block', 'activates', 'rules', 'required', 'software', 'allowing', 'simultaneous', 'smooth', 'update', 'process', 'tracechain', 'validators', 'vote', 'simultaneously', 'one', 'core', 'nodes', 'create', 'invalid', 'block', 'validators', 'reject', 'reason', 'corruption', 'check', 'takes', 'place', 'required', 'network', 'rebuilt', 'consensus', 'reached', 'time', 'transaction', 'buffered', 'verification', 'node', 'layer', 'processing', 'buffer', 'starts', 'valid', 'block', 'available', 'corrupt', 'block', 'corrupt', 'block', 'genesis', 'fig', 'block', 'discarding', 'process', 'blocks', 'discarding', 'procedure', 'network', 'split', 'merge', 'merge', 'state', 'block', 'genesis', 'fig', 'network', 'split', 'merge', 'yellow', 'paper', 'extreme', 'conditions', 'connection', 'failure', 'loss', 'connection', 'country', 'network', 'split', 'separate', 'networks', 'case', 'network', 'retain', 'original', 'structure', 'fewer', 'nodes', 'merge', 'synchronization', 'lost', 'blocks', 'incoming', 'transactions', 'accumulated', 'pool', 'unscheduled', 'merge', 'state', 'block', 'creation', 'commence', 'micro', 'blocks', 'saved', 'merged', 'state', 'block', 'network', 'rebuild', 'continuing', 'operations', 'state', 'block', 'eliminate', 'double', 'spend', 'motivation', 'transactions', 'involve', 'address', 'exceed', 'balance', 'deemed', 'valid', 'network', 'maximum', 'votes', 'recipients', 'network', 'fewer', 'votes', 'informed', 'network', 'split', 'theory', 'recipient', 'initiate', 'double', 'spend', 'network', 'transaction', 'cancelled', 'recipient', 'wait', 'networks', 'merge', 'standard', 'transactions', 'processed', 'normal', 'flaws', 'rolling', 'transactions', 'purpose', 'achieve', 'double', 'spend', 'opposed', 'scheme', 'longest', 'blockchain', 'wins', 'transactions', 'subject', 'rollback', 'yellow', 'paper', 'balance', 'model', 'basis', 'financial', 'asset', 'management', 'method', 'impossible', 'work', 'assets', 'clear', 'understanding', 'balance', 'doubleentry', 'bookkeeping', 'applied', 'classic', 'accounting', 'tripleentry', 'bookkeeping', 'favored', 'decentralized', 'systems', 'accounting', 'applicable', 'blockchain', 'platforms', 'platforms', 'tracking', 'user', 'balance', 'popular', 'balance', 'models', 'unspent', 'transaction', 'output', 'utxo', 'account', 'model', 'model', 'directed', 'graph', 'assets', 'moving', 'users', 'database', 'current', 'network', 'state', 'models', 'advantages', 'disadvantages', 'tab', 'details', 'issues', 'models', 'refer', 'article', 'prepared', 'hashex', 'consultancy', 'tba', 'utxo', 'model', 'account', 'model', 'higher', 'degree', 'privacy', 'addresses', 'coin', 'owner', 'store', 'accounts', 'state', 'easily', 'scaled', 'sharding', 'efficient', 'usage', 'repository', 'hard', 'work', 'smart', 'contract', 'states', 'intuitively', 'clear', 'approach', 'multithreading', 'computations', 'light', 'clients', 'analyse', 'states', 'easily', 'complete', 'transparency', 'assets', 'movement', 'high', 'degree', 'fungibility', 'harder', 'track', 'assets', 'transaction', 'nonce', 'prevent', 'state', 'machine', 'storing', 'nonce', 'unused', 'addresses', 'deleted', 'inconvenient', 'tracking', 'internal', 'transactions', 'public', 'blockchain', 'tab', 'pros', 'cons', 'utxo', 'account', 'balance', 'models', 'yellow', 'paper', 'blockchain', 'model', 'consensus', 'smart', 'contracts', 'bitcoin', 'utxo', 'pow', 'ethereum', 'account', 'powpos', 'eos', 'account', 'dpos', 'tron', 'utxoaccount', 'dpos', 'qtum', 'utxoaal', 'pos', 'icon', 'account', 'lft', 'bft', 'key', 'advantage', 'model', 'uniqueness', 'coin', 'model', 'simpler', 'smart', 'contracts', 'implementation', 'aspects', 'modern', 'reasonable', 'choose', 'model', 'other', 'confirmed', 'solutions', 'applied', 'popular', 'products', 'tab', 'presents', 'models', 'popular', 'blockchains', 'systems', 'hybrid', 'balance', 'model', 'ethereum', 'eos', 'pure', 'account', 'model', 'initial', 'stage', 'decided', 'account', 'model', 'speed', 'implementation', 'resolved', 'issue', 'data', 'growth', 'nonce', 'accounts', 'storage', 'starting', 'nonce', 'fork', 'state', 'block', 'unused', 'extremely', 'accounts', 'automatically', 'erased', 'node', 'memory', 'hybrid', 'scheme', 'considered', 'utxo', 'balances', 'accounts', 'contracts', 'tracechain', 'features', 'lot', 'transactions', 'standard', 'merkle', 'tree', 'utxo', 'model', 'time', 'considerable', 'disc', 'space', 'avl', 'tree', 'introduced', 'optimize', 'proof', 'model', 'reduce', 'resources', 'required', 'data', 'storage', 'context', 'fig', 'graphs', 'dependency', 'proof', 'size', 'bytes', 'tree', 'size', 'types', 'trees', 'descartes', 'tree', 'treap', 'skip', 'list', 'avl', 'proof', 'size', 'modification', 'tree', 'size', 'ethereum', 'avl', 'block', 'processing', 'time', 'blocks', 'total', 'tab', 'popular', 'blockchain', 'model', 'comparison', 'public', 'additional', 'model', 'improving', 'authenticated', 'dynamic', 'dictionaries', 'applications', 'yellow', 'paper', 'tree', 'size', 'avl', 'tree', 'skiplist', 'treap', 'fig', 'proof', 'size', 'tree', 'size', 'dependency', 'ifi', 'tree', 'size', 'avl', 'treeetherium', 'tree', 'fig', 'proof', 'size', 'modification', 'tree', 'size', 'dependency', 'yellow', 'paper', 'fig', 'block', 'processing', 'time', 'blocks', 'blockchain', 'dependency', 'avl', 'verifierfull', 'verifier', 'block', 'blockchain', 'yellow', 'paper', 'transactions', 'transaction', 'structure', 'describes', 'change', 'blockchain', 'state', 'transaction', 'perform', 'cryptocurrency', 'transfer', 'operation', 'addresses', 'transactions', 'transmitted', 'binary', 'form', 'confirmed', 'signature', 'public', 'key', 'transactions', 'presented', 'form', 'post', 'request', 'fig', 'graphic', 'representation', 'transaction', 'tab', 'data', 'structure', 'inside', 'transaction', 'tba', 'field', 'description', 'recipient', 'address', 'assets', 'fee', 'fee', 'blockchain', 'secure', 'number', 'data', 'blockchain', 'records', 'pubkey', 'public', 'key', 'sign', 'signature', 'tab', 'transaction', 'structure', 'fig', 'graphic', 'representation', 'transaction', 'blocktype', 'blockts', 'blockheaders', 'txsize', 'txn', 'uint', 'toaddrsize', 'toaddr', 'varint', 'varint', 'fee', 'varint', 'nonce', 'varint', 'datasize', 'data', 'varint', 'signsize', 'sign', 'varint', 'pubksize', 'pubk', 'yellow', 'paper', 'protocol', 'features', 'tracechain', 'binary', 'protocol', 'supporting', 'financial', 'transactions', 'data', 'transactions', 'technical', 'transactions', 'technical', 'transactions', 'provide', 'opportunity', 'vote', 'delegation', 'cooperative', 'delegation', 'combination', 'forging', 'pools', 'voting', 'validation', 'control', 'child', 'addresses', 'specialuse', 'addresses', 'data', 'transactions', 'data', 'storage', 'execute', 'applications', 'messenger', 'gambling', 'other', 'financial', 'transactions', 'transfer', 'money', 'addresses', 'types', 'transactions', 'stored', 'chains', 'order', 'optimize', 'size', 'stored', 'data', 'disallow', 'excessive', 'amplification', 'financial', 'chain', 'technical', 'data', 'main', 'address', 'cases', 'advanced', 'features', 'smart', 'contract', 'address', 'assigned', 'exclusively', 'smart', 'contracts', 'developer', 'address', 'smart', 'contract', 'administration', 'hypervisor', 'address', 'virtualization', 'frozen', 'address', 'child', 'address', 'withdrawal', 'parent', 'frozen', 'address', 'child', 'address', 'withdrawal', 'frozen', 'address', 'multisig', 'address', 'address', 'generation', 'public', 'key', 'steps', 'byte', 'public', 'key', 'byte', 'bytes', 'correspond', 'coordinate', 'bytes', 'coordinate', 'perform', 'sha', 'hashing', 'public', 'key', 'perform', 'ripemd', 'hashing', 'result', 'previous', 'step', 'add', 'marker', 'byte', 'result', 'based', 'address', 'type', 'main', 'address', 'smart', 'contract', 'address', 'developer', 'address', 'hypervisor', 'address', 'frozen', 'address', 'xx', 'child', 'address', 'withdrawal', 'parent', 'frozen', 'address', 'child', 'address', 'withdrawal', 'frozen', 'address', 'xx', 'multisig', 'address', 'specialuse', 'addresses', 'yellow', 'paper', 'perform', 'sha', 'hash', 'result', 'sha', 'hash', 'result', 'bytes', 'hash', 'add', 'bytes', 'ripemd', 'hash', 'item', 'multisignatures', 'multisigs', 'addresses', 'requiring', 'multiple', 'users', 'signatures', 'perform', 'transaction', 'approaches', 'metahash', 'situations', 'requiring', 'anonymity', 'nonanonymous', 'situations', 'freeze', 'performed', 'special', 'transaction', 'address', 'sends', 'itself', 'transaction', 'timestamp', 'transfer', 'operations', 'address', 'disallowed', 'incoming', 'transfers', 'allowed', 'however', 'freeze', 'time', 'changed', 'transaction', 'extending', 'shortening', 'transactions', 'timestamp', 'events', 'prioritized', 'others', 'addresses', 'security', 'coins', 'remain', 'unspent', 'timeframe', 'specialuse', 'child', 'address', 'transactions', 'frozen', 'address', 'common', 'parent', 'frozen', 'parent', 'address', 'addresses', 'needed', 'online', 'wallets', 'requiring', 'offline', 'wallet', 'signatures', 'operations', 'anonymous', 'approach', 'required', 'private', 'key', 'multisig', 'split', 'parts', 'distributed', 'owners', 'fiatshamir', 'secret', 'sharing', 'method', 'approach', 'multisig', 'smart', 'contract', 'requires', 'transaction', 'signed', 'private', 'keys', 'multisignature', 'address', 'frozen', 'address', 'child', 'address', 'anonymous', 'multisig', 'nonanonymous', 'multisig', 'yellow', 'paper', 'forging', 'forging', 'process', 'block', 'generation', 'validation', 'supports', 'operation', 'entire', 'metahash', 'network', 'node', 'participates', 'forging', 'process', 'highperformance', 'alternative', 'mining', 'pow', 'networks', 'forging', 'rewarded', 'reward', 'forging', 'granted', 'forging', 'pool', 'collecting', 'fees', 'transactions', 'total', 'size', 'forging', 'pool', 'metahashcoins', 'mhc', 'unevenly', 'distributed', 'years', 'network', 'operation', 'rewards', 'paid', 'hours', 'periodicity', 'recalculation', 'distribution', 'vary', 'based', 'technical', 'network', 'pow', 'nodes', 'mhc', 'forging', 'obsolete', 'efficiency', 'deteriorate', 'number', 'limited', 'minimum', 'number', 'coins', 'required', 'specific', 'role', 'faster', 'network', 'nodes', 'higher', 'capacity', 'network', 'have', 'nodes', 'essential', 'network', 'operation', 'rewards', 'distributed', 'members', 'core', 'torrent', 'nodes', 'creating', 'validating', 'blocks', 'address', 'holders', 'unwilling', 'upkeep', 'node', 'delegate', 'coins', 'trusted', 'nodes', 'receive', 'forging', 'rewards', 'delegation', 'technical', 'transaction', 'occurs', 'coins', 'frozen', 'delegation', 'period', 'transmitted', 'address', 'delegated', 'node', 'delegation', 'canceled', 'delegation', 'canceled', 'hours', 'role', 'reassignment', 'operation', 'coins', 'delegated', 'cancellation', 'delegation', 'coins', 'delegated', 'compromised', 'node', 'detected', 'performing', 'malicious', 'activity', 'delegation', 'canceled', 'automatically', 'coins', 'frozen', 'days', 'exclude', 'possibility', 'transfers', 'redelegation', 'coins', 'remain', 'ownership', 'holder', 'unavailable', 'days', 'chapter', 'financial', 'model', 'mhc', 'delegation', 'yellow', 'paper', 'holder', 'coins', 'stake', 'coins', 'delegated', 'address', 'holder', 'coins', 'stake', 'coins', 'delegated', 'network', 'addresses', 'forgingpool', 'forging', 'stimulation', 'pool', 'issued', 'hours', 'years', 'commissions', 'transactions', 'storage', 'data', 'commissions', 'received', 'network', 'hours', 'coin', 'holder', 'reward', 'forgingpool', 'commissions', 'holder', 'coins', 'stake', 'coins', 'stake', 'coin', 'holder', 'reward', 'calculated', 'formula', 'coin', 'holder', 'reward', 'reward', 'distribution', 'reward', 'share', 'reward', 'type', 'coin', 'holder', 'reward', 'reward', 'holders', 'mhc', 'node', 'reward', 'metagate', 'reward', 'reward', 'active', 'metagate', 'holders', 'tab', 'reward', 'distribution', 'members', 'network', 'financial', 'stimulation', 'aimed', 'adding', 'nodes', 'maximum', 'throughput', 'capacity', 'uniformly', 'roles', 'latency', 'zones', 'geographical', 'regions', 'maintain', 'maximum', 'performance', 'beneficial', 'limited', 'number', 'highperformance', 'broad', 'bandwidth', 'computers', 'large', 'number', 'computers', 'lower', 'performance', 'level', 'computers', 'peer', 'nodes', 'protect', 'network', 'core', 'achieved', 'abundance', 'nodes', 'pool', 'assume', 'role', 'automatic', 'decentralized', 'change', 'node', 'roles', 'saturated', 'network', 'highcapacity', 'nodes', 'higher', 'transactions', 'network', 'capable', 'processing', 'unit', 'time', 'node', 'reward', 'yellow', 'paper', 'network', 'requires', 'computers', 'matching', 'role', 'node', 'assessment', 'largest', 'chosen', 'roles', 'crole', 'account', 'calculation', 'crole', 'stimulates', 'adding', 'nodes', 'roles', 'network', 'deficit', 'balanced', 'operation', 'network', 'node', 'reward', 'calculation', 'role', 'crole', 'crole', 'real', 'number', 'nodes', 'suitable', 'role', 'node', 'rewards', 'calculated', 'based', 'number', 'coins', 'delegated', 'account', 'network', 'main', 'advantage', 'fastest', 'nodes', 'gather', 'delegate', 'votes', 'increase', 'share', 'received', 'commissions', 'lower', 'performing', 'nodes', 'limitations', 'delegated', 'coins', 'calculate', 'cperf', 'nodes', 'rated', 'speed', 'slowest', 'nodes', 'fastest', 'tests', 'coefficient', 'calculation', 'rules', 'presented', 'tab', 'cperf', 'stimulates', 'adding', 'nodes', 'fastest', 'channels', 'cpu', 'signature', 'verification', 'performance', 'coefficient', 'cperf', 'coefficient', 'speed', 'rating', 'tab', 'cperf', 'calculation', 'yellow', 'paper', 'cgeo', 'stimulates', 'adding', 'nodes', 'regions', 'fewer', 'nodes', 'regions', 'costly', 'operation', 'geolocation', 'coefficient', 'cgeo', 'effective', 'coefficient', 'cgeo', 'role', 'cperf', 'cgeo', 'effective', 'delegated', 'coins', 'node', 'trust', 'delegated', 'mhc', 'node', 'reward', 'forging', 'pool', 'commissions', 'nodes', 'latency', 'cluster', 'latency', 'clusters', 'nodes', 'count', 'latency', 'clusters', 'effective', 'delegated', 'coins', 'node', 'effective', 'delegated', 'coins', 'nodes', 'stakes', 'roles', 'effective', 'delegated', 'coins', 'edmhc', 'metahash', 'coins', 'stake', 'nodes', 'network', 'multiplies', 'delegated', 'coins', 'node', 'role', 'owning', 'delegated', 'mhc', 'required', 'value', 'overabundance', 'nodes', 'role', 'region', 'required', 'mhc', 'stake', 'higher', 'specified', 'role', 'edmhc', 'stake', 'mhc', 'reward', 'limit', 'core', 'node', 'verification', 'node', 'torrent', 'node', 'peer', 'node', 'metagate', 'tab', 'required', 'edmhc', 'stake', 'reward', 'limits', 'role', 'required', 'stake', 'edmhc', 'reward', 'limits', 'role', 'tab', 'yellow', 'paper', 'activation', 'node', 'undergoes', 'primary', 'assessment', 'role', 'fit', 'technical', 'characteristics', 'mhc', 'reached', 'adequate', 'technical', 'properties', 'node', 'assigned', 'role', 'network', 'receiving', 'rewards', 'highest', 'role', 'vice', 'versa', 'node', 'underperforming', 'compared', 'fastest', 'network', 'nodes', 'rewards', 'limits', 'roles', 'metagate', 'reward', 'distributed', 'random', 'active', 'members', 'number', 'active', 'metagate', 'nodes', 'reward', 'slots', 'allocated', 'scoring', 'member', 'metagate', 'considered', 'active', 'client', 'online', 'hours', 'hours', 'reward', 'fourth', 'metagate', 'reward', 'role', 'sample', 'configexample', 'specification', 'purchase', 'lease', 'core', 'intel', 'xeon', 'gold', 'cpu', 'ram', 'hdd', 'torrent', 'intel', 'xeon', 'silver', 'ram', 'hdd', 'verification', 'intel', 'xeon', 'ram', 'hhd', 'peer', 'intel', 'core', 'ram', 'hdd', 'digital', 'ocean', 'droplet', 'linode', 'tab', 'recommended', 'hardware', 'cost', 'tab', 'hardware', 'characteristics', 'allowing', 'maintain', 'claimed', 'network', 'performance', 'estimated', 'cost', 'purchase', 'lease', 'sufficient', 'number', 'nodes', 'characteristics', 'superior', 'recommended', 'network', 'automatically', 'reassign', 'underperforming', 'nodes', 'roles', 'verification', 'peer', 'torrent', 'recommended', 'hardware', 'yellow', 'paper', 'strategy', 'network', 'nodes', 'controlled', 'metahash', 'team', 'deemed', 'centralized', 'technology', 'number', 'public', 'tests', 'troubleshooting', 'realtime', 'changes', 'metahash', 'team', 'plans', 'support', 'network', 'fully', 'decentralized', 'capable', 'selfdevelopment', 'phased', 'testing', 'component', 'time', 'virtually', 'risk', 'network', 'steps', 'proposed', 'component', 'testing', 'developers', 'network', 'public', 'testing', 'updates', 'testnet', 'update', 'moved', 'mainnet', 'steps', 'include', 'developers', 'network', 'launch', 'load', 'tests', 'verification', 'processing', 'correctness', 'billion', 'transactions', 'public', 'testnet', 'launch', 'public', 'mainnet', 'launch', 'anchoring', 'popular', 'blockchains', 'mainnet', 'launched', 'multiple', 'backups', 'archiving', 'data', 'required', 'increased', 'security', 'members', 'order', 'avoid', 'critical', 'vulnerability', 'detected', 'mitigation', 'misuse', 'authority', 'team', 'planned', 'anchoring', 'tracechain', 'checksum', 'hashes', 'public', 'blockchains', 'blocks', 'hash', 'calculation', 'forging', 'reward', 'recorded', 'ethereum', 'bitcoin', 'blockchains', 'member', 'check', 'validity', 'entire', 'chain', 'static', 'control', 'points', 'public', 'blockchains', 'launch', 'peer', 'node', 'forging', 'incoming', 'transactions', 'processed', 'network', 'public', 'decentralized', 'nodes', 'transactions', 'blockchain', 'means', 'stage', 'mechanism', 'forging', 'rewarding', 'role', 'tested', 'torrent', 'node', 'launch', 'stage', 'network', 'reaches', 'goal', 'public', 'decentralized', 'storage', 'transactions', 'blocks', 'public', 'repository', 'torrent', 'verification', 'cores', 'performance', 'correctness', 'clients', 'start', 'receiving', 'data', 'decentralized', 'nodes', 'switching', 'automated', 'role', 'assignment', 'tracechain', 'metahash', 'team', 'nodes', 'user', 'nodes', 'remain', 'static', 'roles', 'switching', 'automated', 'role', 'assignment', 'tracechain', 'user', 'nodes', 'peer', 'torrent', 'roles', 'stage', 'verifies', 'correctness', 'network', 'map', 'design', 'machine', 'learning', 'automated', 'network', 'rebuilding', 'start', 'security', 'testing', 'selected', 'vendors', 'attacks', 'consensus', 'network', 'failures', 'yellow', 'paper', 'software', 'update', 'start', 'bounty', 'campaign', 'focused', 'debugging', 'security', 'issues', 'stage', 'main', 'architectural', 'vulnerabilities', 'network', 'attacks', 'eliminated', 'public', 'bounty', 'helps', 'engage', 'public', 'eliminate', 'rare', 'types', 'attacks', 'cores', 'slave', 'cores', 'verification', 'nodes', 'software', 'update', 'ensuring', 'completely', 'autonomous', 'distribution', 'roles', 'network', 'phased', 'helps', 'provide', 'continuous', 'operation', 'network', 'implemented', 'risk', 'control', 'terms', 'attacks', 'network', 'yellow', 'paper', 'risks', 'risk', 'assessment', 'hashex', 'based', 'ferma', 'standard', 'risks', 'negative', 'outcomes', 'project', 'studied', 'assessment', 'method', 'risk', 'description', 'risk', 'assessment', 'based', 'risk', 'probability', 'consequences', 'threats', 'organizations', 'exposure', 'risk', 'type', 'operational', 'probability', 'medium', 'possible', 'decentralized', 'networks', 'continuously', 'experience', 'attacks', 'type', 'attack', 'long', 'costly', 'attacker', 'estimated', 'day', 'staticrole', 'system', 'consequences', 'threats', 'low', 'risk', 'network', 'automatically', 'starts', 'rebuilding', 'node', 'unavailable', 'risk', 'type', 'operational', 'probability', 'low', 'remote', 'ddos', 'type', 'previous', 'risk', 'attack', 'requires', 'larger', 'computational', 'resources', 'attacker', 'costly', 'operation', 'comparison', 'previous', 'risk', 'consequences', 'threats', 'low', 'risk', 'high', 'network', 'load', 'transaction', 'fees', 'start', 'growing', 'nonlinearly', 'attack', 'impractical', 'maintain', 'network', 'load', 'attack', 'cost', 'second', 'load', 'transaction', 'cost', 'ico', 'price', 'attack', 'cost', 'second', 'attack', 'increase', 'transaction', 'price', 'network', 'short', 'span', 'time', 'node', 'availability', 'ddos', 'attack', 'nodes', 'network', 'bandwidth', 'ddos', 'attack', 'multiple', 'transaction', 'generations', 'risk', 'type', 'operational', 'probability', 'medium', 'possible', 'attacker', 'modify', 'local', 'time', 'disrupt', 'node', 'synchronization', 'consequences', 'threats', 'low', 'risk', 'key', 'time', 'parameters', 'measured', 'ticks', 'nodes', 'reference', 'server', 'local', 'time', 'attack', 'change', 'local', 'time', 'yellow', 'paper', 'risk', 'type', 'operational', 'probability', 'high', 'probable', 'time', 'blockchain', 'size', 'lead', 'impossibility', 'store', 'blockchain', 'regular', 'hardware', 'equipment', 'moment', 'writing', 'size', 'ethereum', 'exceeds', 'size', 'bitcoin', 'close', 'industry', 'growth', 'rate', 'years', 'ethereum', 'size', 'exceed', 'utter', 'impossibility', 'store', 'personal', 'computers', 'consequences', 'threats', 'high', 'risk', 'metahash', 'features', 'storage', 'archived', 'data', 'distributed', 'repository', 'negative', 'sideeffects', 'main', 'network', 'performance', 'expense', 'state', 'blocks', 'metahash', 'calculations', 'continuous', 'peak', 'load', 'network', 'storage', 'archived', 'data', 'financially', 'efficient', 'years', 'scenario', 'proposed', 'implement', 'cheap', 'archive', 'repository', 'deploy', 'purging', 'mechanism', 'year', 'data', 'decision', 'voting', 'metahash', 'face', 'challenges', 'storage', 'historical', 'data', 'perform', 'fork', 'approved', 'general', 'voting', 'create', 'genesis', 'block', 'order', 'reduce', 'costs', 'historical', 'data', 'storage', 'risk', 'type', 'strategic', 'probability', 'low', 'remote', 'consequences', 'threats', 'high', 'risk', 'metapos', 'consensus', 'subsystem', 'solving', 'bft', 'problem', 'stake', 'simultaneously', 'layers', 'requires', 'control', 'stake', 'attack', 'extremely', 'hard', 'synchronize', 'network', 'node', 'signals', 'its', 'compromised', 'loses', 'trust', 'supported', 'compromised', 'nodes', 'emergence', 'network', 'singlehandedly', 'owned', 'stake', 'metagate', 'clients', 'start', 'retroactively', 'reject', 'blocks', 'trusting', 'compromised', 'torrents', 'effectively', 'splitting', 'network', 'twos', 'clients', 'network', 'valuable', 'possessing', 'control', 'stake', 'control', 'dead', 'network', 'clients', 'remaining', 'coin', 'holders', 'network', 'unlimited', 'growth', 'blockchain', 'size', 'stake', 'majority', 'single', 'possession', 'attack', 'risk', 'type', 'strategic', 'probability', 'high', 'probable', 'initial', 'stage', 'numerous', 'critical', 'nodes', 'control', 'developers', 'network', 'required', 'level', 'vulnerable', 'malevolent', 'changes', 'consequences', 'threats', 'high', 'risk', 'anchoring', 'metahash', 'popular', 'blockchains', 'bitcoin', 'ethereum', 'regular', 'basis', 'launch', 'forging', 'peer', 'nodes', 'torrent', 'nodes', 'ensure', 'chain', 'logs', 'stored', 'public', 'decentralized', 'repository', 'illegitimate', 'alteration', 'easily', 'noticeable', 'developers', 'authority', 'misuse', 'launch', 'yellow', 'paper', 'risks', 'depicted', 'risk', 'map', 'fig', 'strategic', 'risks', 'tolerance', 'require', 'detailed', 'study', 'result', 'ineluctable', 'catastrophic', 'consequences', 'project', 'whole', 'fig', 'risk', 'map', 'high', 'low', 'medium', 'high', 'medium', 'low', 'risk', 'probability', 'risk', 'tolerance', 'yellow', 'paper', 'conclusion', 'project', 'start', 'early', 'metahash', 'team', 'conducted', 'technologies', 'studied', 'solutions', 'project', 'goals', 'achieved', 'optimal', 'synchronization', 'structure', 'geographically', 'distributed', 'network', 'designed', 'capacity', 'megabytes', 'financial', 'transactions', 'seconds', 'includes', 'validation', 'sender', 'signature', 'check', 'balance', 'availability', 'transaction', 'decentralized', 'storage', 'archived', 'data', 'stateblock', 'mechanism', 'place', 'consensus', 'implementations', 'type', 'multipos', 'tested', 'multiple', 'verification', 'nodes', 'vote', 'block', 'correctness', 'generating', 'one', 'irreversible', 'transaction', 'faster', 'minimize', 'probable', 'blockchain', 'fork', 'rejection', 'branches', 'optimal', 'balance', 'model', 'benefits', 'blockchain', 'network', 'structure', 'chosen', 'reducing', 'size', 'stored', 'transmitted', 'data', 'comparison', 'average', 'performance', 'characteristics', 'blockchain', 'platforms', 'adding', 'capability', 'nonlinear', 'data', 'validation', 'inside', 'blockchain', 'tenfold', 'speed', 'increase', 'blockchain', 'validation', 'resolved', 'network', 'merge', 'split', 'caused', 'access', 'restriction', 'group', 'members', 'blockage', 'seamless', 'votebased', 'software', 'update', 'mechanism', 'developed', 'allowing', 'avoid', 'network', 'hard', 'forks', 'complete', 'productiongrade', 'release', 'version', 'platform', 'prepared', 'allowing', 'fast', 'transactions', 'minimum', 'cost', 'reducing', 'infrastructure', 'costs', 'increasing', 'capacity', 'enables', 'colossal', 'opportunities', 'blockchain', 'technology', 'realtime', 'applications', 'internet', 'things', 'paradigms', 'applications', 'others', 'metahash', 'team', 'yellow', 'paper', 'data', 'storage', 'transactions', 'performed', 'network', 'data', 'stored', 'project', 'focused', 'broad', 'bandwidth', 'faces', 'challenge', 'data', 'storage', 'financial', 'expenses', 'storage', 'metahash', 'transactions', 'size', 'data', 'compressed', 'binary', 'form', 'tab', 'costefficient', 'drives', 'terabyte', 'capacity', 'cost', 'products', 'terabyte', 'drives', 'year', 'drives', 'redundancy', 'overhead', 'costs', 'maintain', 'storage', 'including', 'replacement', 'damaged', 'drives', 'year', 'data', 'storage', 'peak', 'load', 'duplication', 'cost', 'unit', 'annually', 'storage', 'decentralized', 'order', 'secure', 'seed', 'data', 'network', 'storage', 'capacity', 'required', 'allowing', 'redundancy', 'costs', 'expected', 'rise', 'times', 'unit', 'price', 'ensure', 'adequate', 'number', 'nodes', 'backups', 'cost', 'data', 'storage', 'drives', 'peak', 'load', 'providing', 'redundancy', 'equal', 'overheads', 'total', 'storage', 'cost', 'peak', 'load', 'reserve', 'annually', 'transaction', 'volume', 'estimated', 'peak', 'load', 'tab', 'total', 'cover', 'data', 'storage', 'expenses', 'transactions', 'year', 'transactions', 'year', 'history', 'records', 'cost', 'storage', 'transaction', 'years', 'estimated', 'average', 'peak', 'load', 'network', 'reaches', 'high', 'costs', 'historical', 'data', 'storage', 'subjected', 'forking', 'confirmed', 'general', 'vote', 'creating', 'genesis', 'block', 'reduce', 'data', 'storage', 'expenses', 'hour', 'hours', 'month', 'year', 'minute', 'hour', 'hours', 'year', 'tab', 'data', 'size', 'transactions', 'tab', 'volume', 'transactions', 'estimated', 'peak', 'load', 'project', 'goals', 'metahash', 'technical', 'features', 'testing', 'methodology', 'test', 'building', 'network', 'test', 'bulk', 'transactions', 'verification', 'latency', 'test', 'network', 'failure', 'test', 'continental', 'blockage', 'network', 'recovery', 'testing', 'network', 'description', 'metasync', 'data', 'synchronization', 'subsystem', 'network', 'structure', 'trust', 'network', 'topology', 'network', 'map', 'metapos', 'multiconsensus', 'subsystem', 'metahash', 'multiple', 'proof', 'stake', 'multipos', 'trust', 'voting', 'cryptography', 'block', 'structure', 'balance', 'model', 'transactions', 'protocol', 'features', 'specialuse', 'addresses', 'multisignature', 'address', 'frozen', 'address', 'child', 'address', 'forging', 'mhc', 'delegation', 'reward', 'distribution', 'strategy', 'risks', 'conclusion', 'data', 'storage']"
     ]
    },
    {
     "name": "stdout",
     "output_type": "stream",
     "text": [
      "\n"
     ]
    }
   ],
   "source": [
    "# tokenizing the entire corpus by word\n",
    "def sent_to_words(sentences):\n",
    "    for sent in sentences:\n",
    "        sent = re.sub('\\S*@\\S*\\s?', '', sent)  # remove emails\n",
    "        sent = re.sub('\\s+', ' ', sent)  # remove newline chars\n",
    "        sent = re.sub(\"\\'\", \"\", sent)  # remove single quotes\n",
    "        sent = gensim.utils.simple_preprocess(str(sent), deacc=True) \n",
    "        yield(sent)  \n",
    "\n",
    "# Convert to list\n",
    "data = data_df.whitepapers.values.tolist()\n",
    "data_words = list(sent_to_words(data))\n",
    "print(data_words[0])"
   ]
  },
  {
   "cell_type": "code",
   "execution_count": null,
   "metadata": {},
   "outputs": [],
   "source": [
    "# Build the bigram and trigram models\n",
    "bigram = gensim.models.Phrases(data_words, min_count=5, threshold=100) # higher threshold fewer phrases.\n",
    "trigram = gensim.models.Phrases(bigram[data_words], threshold=100)  \n",
    "bigram_mod = gensim.models.phrases.Phraser(bigram)\n",
    "trigram_mod = gensim.models.phrases.Phraser(trigram)\n",
    "\n",
    "# !python3 -m spacy download en  # run in terminal once\n",
    "def process_words(texts, stop_words=stop_words, allowed_postags=['NOUN', 'ADJ', 'VERB', 'ADV']):\n",
    "    \"\"\"Remove Stopwords, Form Bigrams, Trigrams and Lemmatization\"\"\"\n",
    "    texts = [[word for word in simple_preprocess(str(doc)) if word not in stop_words] for doc in texts]\n",
    "    texts = [bigram_mod[doc] for doc in texts]\n",
    "    texts = [trigram_mod[bigram_mod[doc]] for doc in texts]\n",
    "    texts_out = []\n",
    "    #nlp = spacy.load('en', disable=['parser', 'ner'])\n",
    "    nlp = spacy.load('en_core_web_sm', disable=['parser', 'ner'])\n",
    "    for sent in texts:\n",
    "        doc = nlp(\" \".join(sent)) \n",
    "        texts_out.append([token.lemma_ for token in doc if token.pos_ in allowed_postags])\n",
    "    # remove stopwords once more after lemmatization\n",
    "    texts_out = [[word for word in simple_preprocess(str(doc)) if word not in stop_words] for doc in texts_out]    \n",
    "    return texts_out\n",
    "\n",
    "data_ready = process_words(data_words)  # processed Text Data!"
   ]
  },
  {
   "cell_type": "markdown",
   "metadata": {},
   "source": [
    "## 3 - Methods Application\n",
    "\n",
    "### Topic Modeling on Blockchain Whitepapers"
   ]
  },
  {
   "cell_type": "markdown",
   "metadata": {},
   "source": [
    "At the document level, a useful ways to understand the text is by analysing its topics. Topic Modelling is the process of learning, recognising and extracting the topics across a collection of documents. This notebook tries to uncover topics from blockchain whitepapers that is relevant to Schungrat in-terms of investment dimensions.\n",
    "\n",
    "The notebook explores some of the methods of Topic Modelling such as ***Non-negative Matrix Factorization*** & ***Latent Dirichlet Allocation*** to see which fits better. Rather than being conceptual or mathematical, this notebook offers an applied approach with comments for the codes.\n",
    "\n",
    "\n",
    "Since the goal of this notebook is Topic Modelling, the text must be tokenized which means broken down to small pieces which here is words. We use scikit-learn's CountVectorizer technique where every row represents a different document and every column will represent a different word. \n",
    "\n",
    "At this moment, stop words are also removed thanks to CountVectorizer. Stop words are common words that seldom adds meaning or value to the text. \n"
   ]
  },
  {
   "cell_type": "code",
   "execution_count": null,
   "metadata": {},
   "outputs": [],
   "source": [
    "#Creating corpus and dictionary for gensim\n",
    "id2word = corpora.Dictionary(data_ready)\n",
    "corpus_lda = [id2word.doc2bow(text) for text in data_ready]"
   ]
  },
  {
   "cell_type": "code",
   "execution_count": null,
   "metadata": {},
   "outputs": [],
   "source": [
    "print(id2word[1])"
   ]
  },
  {
   "cell_type": "code",
   "execution_count": null,
   "metadata": {},
   "outputs": [],
   "source": [
    "#lda with countvectorizer\n",
    "lda_gensim = gensim.models.ldamodel.LdaModel(corpus=corpus_lda,\n",
    "                                           id2word=id2word,\n",
    "                                           num_topics=6, \n",
    "                                           random_state=21,\n",
    "                                           update_every=1,\n",
    "                                           chunksize=100,\n",
    "                                           passes=20,\n",
    "                                           alpha='auto',\n",
    "                                           iterations=100,\n",
    "                                           per_word_topics=True)\n"
   ]
  },
  {
   "cell_type": "code",
   "execution_count": null,
   "metadata": {},
   "outputs": [],
   "source": [
    "#creating a Dataframe of topics and words in it\n",
    "def get_lda_topics(model, num_topics):\n",
    "    word_dict = {};\n",
    "    for i in range(num_topics):\n",
    "        words = model.show_topic(i, topn = 10);\n",
    "        word_dict['Topic # ' + '{:02d}'.format(i+1)] = [i[0] for i in words];\n",
    "    return pd.DataFrame(word_dict);"
   ]
  },
  {
   "cell_type": "code",
   "execution_count": null,
   "metadata": {},
   "outputs": [],
   "source": [
    "get_lda_topics(lda_gensim, 6)"
   ]
  },
  {
   "cell_type": "code",
   "execution_count": null,
   "metadata": {},
   "outputs": [],
   "source": [
    "# Compute Perplexity\n",
    "print('\\nPerplexity: ', lda_gensim.log_perplexity(corpus_lda))  # a measure of how good the model is. lower the better.\n",
    "\n",
    "# Compute Coherence Score\n",
    "coherence_model_lda = CoherenceModel(model=lda_gensim, texts=data_ready, dictionary=id2word, coherence='c_v')\n",
    "coherence_lda = coherence_model_lda.get_coherence()\n",
    "print('\\nCoherence Score: ', coherence_lda)"
   ]
  },
  {
   "cell_type": "markdown",
   "metadata": {},
   "source": [
    "### Word Count and Importance of Topic keyword"
   ]
  },
  {
   "cell_type": "code",
   "execution_count": null,
   "metadata": {},
   "outputs": [],
   "source": [
    "# Topics of the model\n",
    "topics = lda_gensim.show_topics(formatted=False)\n",
    "\n",
    "data_flat = [w for w_list in corpus for w in w_list]\n",
    "counter = Counter(data_flat)\n",
    "\n",
    "out = []\n",
    "for i, topic in topics:\n",
    "    for word, weight in topic:\n",
    "        out.append([word, i , weight, counter[word]])\n",
    "\n",
    "df = pd.DataFrame(out, columns=['word', 'topic_id', 'importance', 'word_count'])        \n",
    "\n",
    "# Plot Word Count and Weights of Topic Keywords\n",
    "fig, axes = plt.subplots(2, 2, figsize=(16,10), sharey=True, dpi=50)\n",
    "cols = [color for name, color in mcolors.TABLEAU_COLORS.items()]\n",
    "for i, ax in enumerate(axes.flatten()):\n",
    "    ax.bar(x='word', height=\"word_count\", data=df.loc[df.topic_id==i, :], color=cols[i], width=0.5, alpha=0.3, label='Word Count')\n",
    "    ax_twin = ax.twinx()\n",
    "    ax_twin.bar(x='word', height=\"importance\", data=df.loc[df.topic_id==i, :], color=cols[i], width=0.2, label='Weights')\n",
    "    ax.set_ylabel('Word Count', color=cols[i])\n",
    "    ax_twin.set_ylim(0, 0.030); ax.set_ylim(0, 3500)\n",
    "    ax.set_title('Topic: ' + str(i), color=cols[i], fontsize=16)\n",
    "    ax.tick_params(axis='y', left=False)\n",
    "    ax.set_xticklabels(df.loc[df.topic_id==i, 'word'], rotation=30, horizontalalignment= 'right')\n",
    "    ax.legend(loc='upper left'); ax_twin.legend(loc='upper right')\n",
    "\n",
    "fig.tight_layout(w_pad=2)    \n",
    "fig.suptitle('Word Count and Importance of Topic Keywords', fontsize=22, y=1.05)    \n",
    "plt.show()"
   ]
  },
  {
   "cell_type": "markdown",
   "metadata": {},
   "source": [
    "### Dominant Topic and it's percentage contribution in the document"
   ]
  },
  {
   "cell_type": "code",
   "execution_count": null,
   "metadata": {},
   "outputs": [],
   "source": [
    "# Function that gets the Dominant Topic in a Document\n",
    "def format_topics_sentences(ldamodel=None, corpus=corpus_lda, texts=data):\n",
    "    # Init output\n",
    "    sent_topics_df = pd.DataFrame()\n",
    "\n",
    "    # Get main topic in each document\n",
    "    for i, row_list in enumerate(ldamodel[corpus]):\n",
    "        row = row_list[0] if ldamodel.per_word_topics else row_list            \n",
    "        # print(row)\n",
    "        row = sorted(row, key=lambda x: (x[1]), reverse=True)\n",
    "        # Get the Dominant topic, Perc Contribution and Keywords for each document\n",
    "        for j, (topic_num, prop_topic) in enumerate(row):\n",
    "            if j == 0:  # => dominant topic\n",
    "                wp = ldamodel.show_topic(topic_num)\n",
    "                topic_keywords = \", \".join([word for word, prop in wp])\n",
    "                sent_topics_df = sent_topics_df.append(pd.Series([int(topic_num), round(prop_topic,4), topic_keywords]), ignore_index=True)\n",
    "            else:\n",
    "                break\n",
    "    sent_topics_df.columns = ['Dominant_Topic', 'Perc_Contribution', 'Topic_Keywords']\n",
    "\n",
    "    # Add original text to the end of the output\n",
    "    contents = pd.Series(texts)\n",
    "    sent_topics_df = pd.concat([sent_topics_df, contents], axis=1)\n",
    "    return(sent_topics_df)\n",
    "\n",
    "\n",
    "df_topic_sents_keywords = format_topics_sentences(ldamodel=lda_gensim, corpus=corpus, texts=data_ready)\n",
    "\n",
    "# Format\n",
    "df_dominant_topic = df_topic_sents_keywords.reset_index()\n",
    "df_dominant_topic.columns = ['Document_No', 'Dominant_Topic', 'Topic_Perc_Contrib', 'Keywords', 'Text']\n",
    "df_dominant_topic.head(10)"
   ]
  },
  {
   "cell_type": "markdown",
   "metadata": {},
   "source": [
    "### Most Discussed Topics in the Document"
   ]
  },
  {
   "cell_type": "code",
   "execution_count": null,
   "metadata": {},
   "outputs": [],
   "source": [
    "# Function that gets all the topics per document\n",
    "def topics_per_document(model, corpus, start=0, end=1):\n",
    "    corpus_sel = corpus[start:end]\n",
    "    dominant_topics = []\n",
    "    topic_percentages = []\n",
    "    for i, corp in enumerate(corpus_sel):\n",
    "        topic_percs, wordid_topics, wordid_phivalues = model[corp]\n",
    "        dominant_topic = sorted(topic_percs, key = lambda x: x[1], reverse=True)[0][0]\n",
    "        dominant_topics.append((i, dominant_topic))\n",
    "        topic_percentages.append(topic_percs)\n",
    "    return(dominant_topics, topic_percentages)\n",
    "\n",
    "dominant_topics, topic_percentages = topics_per_document(model=lda_gensim, corpus=corpus_lda, end=-1)            \n",
    "\n",
    "# Distribution of Dominant Topics in Each Document\n",
    "df = pd.DataFrame(dominant_topics, columns=['Document_Id', 'Dominant_Topic'])\n",
    "dominant_topic_in_each_doc = df.groupby('Dominant_Topic').size()\n",
    "df_dominant_topic_in_each_doc = dominant_topic_in_each_doc.to_frame(name='count').reset_index()\n",
    "\n",
    "# Total Topic Distribution by actual weight\n",
    "topic_weightage_by_doc = pd.DataFrame([dict(t) for t in topic_percentages])\n",
    "df_topic_weightage_by_doc = topic_weightage_by_doc.sum().to_frame(name='count').reset_index()\n",
    "\n",
    "# Top 3 Keywords for each Topic\n",
    "topic_top3words = [(i, topic) for i, topics in lda_gensim.show_topics(formatted=False) \n",
    "                                 for j, (topic, wt) in enumerate(topics) if j < 3]\n",
    "\n",
    "df_top3words_stacked = pd.DataFrame(topic_top3words, columns=['topic_id', 'words'])\n",
    "df_top3words = df_top3words_stacked.groupby('topic_id').agg(', \\n'.join)\n",
    "df_top3words.reset_index(level=0,inplace=True)"
   ]
  },
  {
   "cell_type": "code",
   "execution_count": null,
   "metadata": {},
   "outputs": [],
   "source": [
    "# Plot\n",
    "fig, (ax1, ax2) = plt.subplots(1, 2, figsize=(15, 6), dpi=150, sharey=True)\n",
    "\n",
    "# Topic Distribution by Dominant Topics\n",
    "ax1.bar(x='Dominant_Topic', height='count', data=df_dominant_topic_in_each_doc, width=.5, color='firebrick')\n",
    "ax1.set_xticks(range(df_dominant_topic_in_each_doc.Dominant_Topic.unique().__len__()))\n",
    "tick_formatter = FuncFormatter(lambda x, pos: 'Topic ' + str(x)+ '\\n' + df_top3words.loc[df_top3words.topic_id==x, 'words'].values[0])\n",
    "ax1.xaxis.set_major_formatter(tick_formatter)\n",
    "ax1.set_title('Number of Documents by Dominant Topic', fontdict=dict(size=10))\n",
    "ax1.set_ylabel('Number of Documents')\n",
    "ax1.set_ylim(0, 50)\n",
    "\n",
    "# Topic Distribution by Topic Weights\n",
    "ax2.bar(x='index', height='count', data=df_topic_weightage_by_doc, width=.5, color='steelblue')\n",
    "ax2.set_xticks(range(df_topic_weightage_by_doc.index.unique().__len__()))\n",
    "ax2.xaxis.set_major_formatter(tick_formatter)\n",
    "ax2.set_title('Number of Documents by Topic Weightage', fontdict=dict(size=10))\n",
    "\n",
    "plt.show()"
   ]
  },
  {
   "cell_type": "code",
   "execution_count": null,
   "metadata": {},
   "outputs": [],
   "source": [
    "#saving the trained lda\n",
    "trained = datapath(\"trained_lda\")\n",
    "lda_gensim.save(trained)\n",
    "#loading the saved file\n",
    "trained_lda = gensim.models.ldamodel.LdaModel.load(trained)"
   ]
  },
  {
   "cell_type": "markdown",
   "metadata": {},
   "source": [
    "## 4 - Outcome "
   ]
  },
  {
   "cell_type": "markdown",
   "metadata": {},
   "source": [
    "### Input"
   ]
  },
  {
   "cell_type": "code",
   "execution_count": null,
   "metadata": {},
   "outputs": [],
   "source": [
    "TEST_DIR = os.path.join(ROOT_DIR, \"test-white-papers\")\n",
    "testset = pdf2text.get_dataset(path=TEST_DIR)\n",
    "testset.keys()"
   ]
  },
  {
   "cell_type": "code",
   "execution_count": null,
   "metadata": {},
   "outputs": [],
   "source": [
    "#corpora segregated in terms of sentences \n",
    "corpora_test = corpus.makeCleanCorpus(testset, lemmatize=True, removePunct=True, removeNums=True, makeSentences=True, removeURL=True, removeChar= True, stops=['\\u200b'] )"
   ]
  },
  {
   "cell_type": "code",
   "execution_count": null,
   "metadata": {},
   "outputs": [],
   "source": [
    "#corpora segregated in terms of sentences \n",
    "corpora_test_whole = corpus.makeCleanCorpus(testset, lemmatize=True, removePunct=True, removeNums=True, makeSentences=False, removeURL=True, removeChar= True, stops=['\\u200b'] )"
   ]
  },
  {
   "cell_type": "code",
   "execution_count": null,
   "metadata": {},
   "outputs": [],
   "source": [
    "#Combining them and putting into pandas dataframe\n",
    "test_combined = {key:[combine_text(value)] for (key, value) in corpora_test.items()}\n",
    "pd.set_option('max_colwidth', 150)\n",
    "test_df = pd.DataFrame.from_dict(test_combined).transpose()\n",
    "test_df.columns = ['whitepapers']\n",
    "test_df = test_df.sort_index()\n",
    "test_df.head()"
   ]
  },
  {
   "cell_type": "code",
   "execution_count": null,
   "metadata": {},
   "outputs": [],
   "source": [
    "#creating the list and tokenizing each word in the test corpus\n",
    "testdata = test_df.whitepapers.values.tolist()\n",
    "testdata_words = list(sent_to_words(testdata))"
   ]
  },
  {
   "cell_type": "code",
   "execution_count": null,
   "metadata": {},
   "outputs": [],
   "source": [
    "test_data_ready = process_words(testdata_words)"
   ]
  },
  {
   "cell_type": "code",
   "execution_count": null,
   "metadata": {},
   "outputs": [],
   "source": []
  },
  {
   "cell_type": "markdown",
   "metadata": {},
   "source": [
    "### Models/Methods"
   ]
  },
  {
   "cell_type": "code",
   "execution_count": null,
   "metadata": {},
   "outputs": [],
   "source": [
    "corpus_lda_test = [id2word.doc2bow(text) for text in test_data_ready]\n",
    "\n",
    "unseen_doc = other_corpus[0]\n",
    "vector = lda_gensim[unseen_doc]  # get topic probability distribution for a document"
   ]
  },
  {
   "cell_type": "code",
   "execution_count": null,
   "metadata": {},
   "outputs": [],
   "source": [
    "df_topic_sents_keywords = format_topics_sentences(ldamodel=lda_gensim, corpus=corpus_lda_test, texts=test_data_ready)\n",
    "\n",
    "# Format\n",
    "df_dominant_topic = df_topic_sents_keywords.reset_index()\n",
    "df_dominant_topic.columns = ['Document_No', 'Dominant_Topic', 'Topic_Perc_Contrib', 'Keywords', 'Text']\n",
    "df_dominant_topic.head(10)"
   ]
  },
  {
   "cell_type": "markdown",
   "metadata": {},
   "source": [
    "### Output"
   ]
  },
  {
   "cell_type": "code",
   "execution_count": null,
   "metadata": {},
   "outputs": [],
   "source": []
  },
  {
   "cell_type": "code",
   "execution_count": null,
   "metadata": {},
   "outputs": [],
   "source": []
  },
  {
   "cell_type": "code",
   "execution_count": null,
   "metadata": {},
   "outputs": [],
   "source": []
  },
  {
   "cell_type": "markdown",
   "metadata": {},
   "source": [
    "## 5 - Inspiration"
   ]
  },
  {
   "cell_type": "markdown",
   "metadata": {},
   "source": [
    "- https://www.analyticsvidhya.com/blog/2016/08/beginners-guide-to-topic-modeling-in-python/ \n",
    "- https://towardsdatascience.com/topic-modeling-and-latent-dirichlet-allocation-in-python-9bf156893c24\n",
    "- https://github.com/susanli2016/NLP-with-Python/blob/master/LDA_news_headlines.ipynb\n",
    "- https://medium.com/mlreview/topic-modeling-with-scikit-learn-e80d33668730\n",
    "- https://medium.com/@lettier/how-does-lda-work-ill-explain-using-emoji-108abf40fa7d\n",
    "- https://medium.com/@tomar.ankur287/topic-modeling-using-lda-and-gibbs-sampling-explained-49d49b3d1045\n",
    "- https://www.kdnuggets.com/2018/08/topic-modeling-lsa-plsa-lda-lda2vec.html\n"
   ]
  }
 ],
 "metadata": {
  "kernelspec": {
   "display_name": "Python 3",
   "language": "python",
   "name": "python3"
  },
  "language_info": {
   "codemirror_mode": {
    "name": "ipython",
    "version": 3
   },
   "file_extension": ".py",
   "mimetype": "text/x-python",
   "name": "python",
   "nbconvert_exporter": "python",
   "pygments_lexer": "ipython3",
   "version": "3.7.1"
  }
 },
 "nbformat": 4,
 "nbformat_minor": 2
}
