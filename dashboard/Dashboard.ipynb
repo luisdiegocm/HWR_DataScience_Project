{
 "cells": [
  {
   "cell_type": "markdown",
   "metadata": {},
   "source": [
    "# Dashboard"
   ]
  },
  {
   "cell_type": "markdown",
   "metadata": {},
   "source": [
    "## 1 - Libaries Import"
   ]
  },
  {
   "cell_type": "code",
   "execution_count": 270,
   "metadata": {},
   "outputs": [],
   "source": [
    "%reset -f\n",
    "\n",
    "# Import Os to get to the root directory\n",
    "import os\n",
    "import sys\n",
    "\n",
    "# Root directory of the project\n",
    "ROOT_DIR = os.path.abspath(\"../\")\n",
    "sys.path.append(ROOT_DIR)\n",
    "\n",
    "TEST_DIR = os.path.join(ROOT_DIR, \"test-white-papers\")\n",
    "MODEL_DIR = os.path.join(ROOT_DIR, \"model\")\n",
    "\n",
    "# First, we define the path where our Train dataset is located\n",
    "TRAIN_DIR = os.path.join(ROOT_DIR, \"dataset\")\n",
    "TRAIN_CSV = os.path.join(TRAIN_DIR, \"train.csv\")\n",
    "        \n",
    "# Import own functions\n",
    "from libraries import corpus\n",
    "from libraries import pdf2text\n",
    "\n",
    "##########################\n",
    "# Import other libraries\n",
    "##########################\n",
    "\n",
    "# Data Processing\n",
    "import numpy as np\n",
    "import pandas as pd\n",
    "import re\n",
    "import io\n",
    "import json\n",
    "\n",
    "import warnings\n",
    "warnings.filterwarnings(\"ignore\")"
   ]
  },
  {
   "cell_type": "code",
   "execution_count": 281,
   "metadata": {},
   "outputs": [],
   "source": [
    "# Natural Language Processing libraries\n",
    "import nltk\n",
    "from nltk import bigrams, ngrams\n",
    "from nltk.tokenize import word_tokenize,sent_tokenize\n",
    "from nltk.stem.snowball import SnowballStemmer\n",
    "\n",
    "# Visualizations\n",
    "import matplotlib.pyplot as plt\n",
    "from wordcloud import WordCloud, STOPWORDS, ImageColorGenerator\n",
    "from matplotlib.ticker import FuncFormatter\n",
    "\n",
    "# Machine Learning Libraries\n",
    "from sklearn.cluster import AffinityPropagation,KMeans\n",
    "from sklearn.pipeline import Pipeline\n",
    "from sklearn.linear_model import SGDClassifier, LogisticRegression\n",
    "from sklearn.feature_extraction.text import CountVectorizer, TfidfVectorizer, TfidfTransformer\n",
    "from sklearn.model_selection import train_test_split\n",
    "from sklearn.decomposition import PCA\n",
    "\n",
    "# Neural Network Libraries\n",
    "from keras.models import load_model\n",
    "from keras.preprocessing import text\n",
    "\n",
    "# Word Vectors and Topic Modeling Library\n",
    "import gensim\n",
    "from gensim.models import word2vec\n",
    "from gensim.models import Word2Vec\n",
    "from gensim.utils import lemmatize, simple_preprocess\n",
    "from gensim.models.ldamodel import LdaModel\n",
    "from gensim import corpora\n",
    "\n",
    "# Natural Language Processing Library\n",
    "import spacy\n",
    "\n",
    "# Others\n",
    "from collections import Counter\n",
    "stop_words = stopwords.words('english')\n",
    "stop_words.extend(['from', 'subject', 're', 'edu', 'use', 'not', 'would', 'say', 'could', '_', 'be', 'know', 'good', 'go', 'get', 'do', 'done', 'try', 'many', 'some', 'nice', 'thank', 'think', 'see', 'rather', 'easy', 'easily', 'lot', 'lack', 'make', 'want', 'seem', 'run', 'need', 'even', 'right', 'line', 'even', 'also', 'may', 'take', 'come'])"
   ]
  },
  {
   "cell_type": "markdown",
   "metadata": {},
   "source": [
    "# 2 - Methods Application"
   ]
  },
  {
   "cell_type": "code",
   "execution_count": 9,
   "metadata": {},
   "outputs": [],
   "source": [
    "class Data:\n",
    "    def __init__(self):\n",
    "        # Retrieving the PDF files from white-paper folder and converting them to text\n",
    "        self.dataset = pdf2text.get_dataset()\n",
    "        \n",
    "        # Define if you want your corpus to be whole or divided in sentences\n",
    "        makeSentences = True\n",
    "        # Creates a dictionary with each White Paper and its text pre-processed\n",
    "        self.corpora_sent = corpus.makeCleanCorpus(self.dataset, lemmatize=True, removePunct=True, removeNums=True\n",
    "                            ,makeSentences=makeSentences, removeURL=True, removeChar=True, removeEnt=True)\n",
    "        \n",
    "        # Define if you want your corpus to be whole or divided in sentences\n",
    "        makeSentences = False\n",
    "        # Creates a dictionary with each White Paper and its text pre-processed\n",
    "        self.corpora_whole = corpus.makeCleanCorpus(self.dataset, lemmatize=True, removePunct=True, removeNums=True\n",
    "                            ,makeSentences=makeSentences, removeURL=True, removeChar=True, removeEnt=True)\n",
    "    \n",
    "        # Retrieve the NEW White Papers to Test\n",
    "        self.testset = pdf2text.get_dataset(path=TEST_DIR)\n",
    "        \n",
    "        # Define if you want your corpus to be whole or divided in sentences\n",
    "        makeSentences = True\n",
    "        # Creates a dictionary with each White Paper and its text pre-processed\n",
    "        self.corpora_test_sent = corpus.makeCleanCorpus(self.testset, lemmatize=True, removePunct=True, removeNums=True\n",
    "                                ,makeSentences=makeSentences, removeURL=True, removeChar=True, removeEnt=True)\n",
    "        \n",
    "        # Define if you want your corpus to be whole or divided in sentences\n",
    "        makeSentences = False\n",
    "        \n",
    "        # Creates a dictionary with each White Paper and its text pre-processed\n",
    "        self.corpora_test_whole = corpus.makeCleanCorpus(self.testset, lemmatize=True, removePunct=True, removeNums=True\n",
    "                                 ,makeSentences=makeSentences, removeURL=True, removeChar=True, removeEnt=True)"
   ]
  },
  {
   "cell_type": "code",
   "execution_count": 307,
   "metadata": {},
   "outputs": [],
   "source": [
    "class InformationRetrieval():\n",
    "    \n",
    "    def __init__(self, data):\n",
    "        self.data = data\n",
    "        \n",
    "    # Define function\n",
    "    def prepare_data(self, corpus, protocol):\n",
    "        \"\"\"\n",
    "        Function that receives a name of a protocol and return the tokens.\n",
    "        Input:\n",
    "            Name of protocol\n",
    "        Output:\n",
    "            Tokens\n",
    "        \"\"\"\n",
    "        assert protocol in corpus.keys()\n",
    "\n",
    "        # Start tokenizing the dataset\n",
    "        tokenizer = nltk.tokenize.RegexpTokenizer('\\s+', gaps=True)\n",
    "\n",
    "        tokens = tokenizer.tokenize(corpus[protocol])\n",
    "\n",
    "        return tokens\n",
    "    \n",
    "    \n",
    "    def visualize_ngrams(self,tokens, n = 2):\n",
    "    \n",
    "        assert n > 1\n",
    "\n",
    "        if n == 2:\n",
    "            bigrams_tokens = bigrams(tokens)\n",
    "            fdist_bigrams = FreqDist(list(bigrams_tokens))\n",
    "            plt = fdist_bigrams.plot(30,cumulative=False,title=\"Most common N-Grams\")\n",
    "            return plt\n",
    "        if n == 3:\n",
    "            trigrams_tokens = ngrams(tokens, 3)\n",
    "            fdist_trigrams = FreqDist(list(trigrams_tokens))\n",
    "            plt = fdist_trigrams.plot(30,cumulative=False,title=\"Most common N-Grams\")\n",
    "            return plt\n",
    "        if n > 3:\n",
    "            grams_tokens = ngrams(tokens, n)\n",
    "            fdist_grams = FreqDist(list(grams_tokens))\n",
    "            plt = fdist_grams.plot(30,cumulative=False,title=\"Most common N-Grams\")\n",
    "            return plt\n",
    "            \n",
    "    \n",
    "    def visualize_word_cloud(self,corpus,protocol):\n",
    "        text = corpus[protocol]\n",
    "        wordcloud = WordCloud(background_color=\"white\",\n",
    "                              stopwords = set(STOPWORDS)\n",
    "                              ).generate(text)\n",
    "        plt.imshow(wordcloud)\n",
    "        plt.axis(\"off\")\n",
    "        plt.title(\"Word Cloud\")\n",
    "        \n",
    "        return plt"
   ]
  },
  {
   "cell_type": "code",
   "execution_count": 306,
   "metadata": {},
   "outputs": [],
   "source": [
    "class DocumentClustering():\n",
    "    \n",
    "    def __init__(self, data):\n",
    "        self.data = data\n",
    "        \n",
    "    def prepare_data(self):\n",
    "        # Function that converts a dictionary into a Pandas Dataframe\n",
    "        # The indexes are the name of the files\n",
    "        self.df = corpus.dictionaryToPandas(self.data.corpora_whole)\n",
    "\n",
    "        # Instantiate TfidfVectorizer object with stopwords and tokenizer\n",
    "        # parameters for efficient processing of text\n",
    "        tfidf_vectorizer = TfidfVectorizer(max_features=20000,\n",
    "                                                stop_words='english', lowercase = True,\n",
    "                                                 use_idf=True, tokenizer=self.tokenize_and_stem,\n",
    "                                                 ngram_range=(1,3))\n",
    "\n",
    "        # Fit and transform the tfidf_vectorizer with the \"text\" of each paper\n",
    "        # to create a vector representation of the plot summaries\n",
    "        tfidf_matrix = tfidf_vectorizer.fit_transform(self.data.corpora_whole.values())\n",
    "\n",
    "        self.matrix = pd.DataFrame(tfidf_matrix.toarray(), columns=tfidf_vectorizer.get_feature_names(),index=self.data.corpora_whole.keys())\n",
    "\n",
    "    # Define a function to perform both stemming and tokenization\n",
    "    def tokenize_and_stem(self,text):\n",
    "\n",
    "        # Tokenize by sentence, then by word\n",
    "        tokens = [word for text in nltk.sent_tokenize(text) for word in nltk.word_tokenize(text)]\n",
    "\n",
    "        # Filter out raw tokens to remove noise\n",
    "        filtered_tokens = [token for token in tokens if re.search('[a-zA-Z]', token)]\n",
    "\n",
    "        return filtered_tokens\n",
    "    \n",
    "    # Defining Function\n",
    "    def clustering_on_wordvecs(self,word_vectors, num_clusters):\n",
    "        \"\"\"\n",
    "        Function that receives a word vectors and a number of clusters, and return the centers and the clusters\n",
    "\n",
    "        \"\"\"\n",
    "        \n",
    "        # Initalize a k-means object and use it to extract centroids\n",
    "        kmeans_clustering = KMeans(n_clusters = num_clusters, init='k-means++');\n",
    "        \n",
    "        idx = kmeans_clustering.fit_predict(word_vectors);\n",
    "\n",
    "        return kmeans_clustering.cluster_centers_, idx;\n",
    "\n",
    "    #Average out vectors in a document\n",
    "    def average_word_vectors(self,words, model, vocabulary, num_features):\n",
    "        \"\"\"\n",
    "        Function that receives a words, a model, a vocabulary and number of features and return averages\n",
    "\n",
    "        \"\"\"\n",
    "        feature_vector = np.zeros((num_features,),dtype=\"float64\")\n",
    "        nwords = 0.\n",
    "\n",
    "        for word in words:\n",
    "            if word in vocabulary: \n",
    "                nwords = nwords + 1.\n",
    "                feature_vector = np.add(feature_vector, model[word])\n",
    "\n",
    "        if nwords:\n",
    "            feature_vector = np.divide(feature_vector, nwords)\n",
    "\n",
    "        return feature_vector\n",
    "\n",
    "    #Process a single document \n",
    "    def averaged_word_vectorizer(self,corpus, model, num_features):\n",
    "        vocabulary = set(model.wv.index2word)\n",
    "        features = [self.average_word_vectors(tokenized_sentence, model, vocabulary, num_features)\n",
    "                        for tokenized_sentence in corpus]\n",
    "        \n",
    "        return np.array(features)\n",
    "\n",
    "    \n",
    "    def clean_text(self,all_documents):\n",
    "        rslt = []\n",
    "        tokenizer = nltk.data.load('tokenizers/punkt/english.pickle');\n",
    "        for pos in range(len(all_documents)):\n",
    "            doc_rslt = []\n",
    "            # Get the comment\n",
    "            doc = all_documents[pos];\n",
    "\n",
    "            # Normalize tabs and remove newlines\n",
    "            no_tabs = str(doc).replace('\\t', ' ').replace('\\n', '');\n",
    "\n",
    "            # Remove all characters except A-Z and a dot.\n",
    "            alphas_only = re.sub(\"[^a-zA-Z\\.]\", \" \", no_tabs);\n",
    "\n",
    "            # Normalize spaces to 1\n",
    "            multi_spaces = re.sub(\" +\", \" \", alphas_only);\n",
    "\n",
    "            # Strip trailing and leading spaces\n",
    "            no_spaces = multi_spaces.strip();\n",
    "\n",
    "            # Normalize all charachters to lowercase\n",
    "            clean_text = no_spaces.lower();\n",
    "\n",
    "            # Get sentences from the tokenizer, remove the dot in each.\n",
    "            sentences = tokenizer.tokenize(clean_text);\n",
    "            sentences = [re.sub(\"[\\.]\", \"\", sentence) for sentence in sentences];\n",
    "\n",
    "            # If the text has more than one space (removing single word comments) and one character, write it to the file.\n",
    "            if len(clean_text) > 0 and clean_text.count(' ') > 0:\n",
    "                for sentence in sentences:\n",
    "                    for word in sentence.split(\" \"):\n",
    "                        doc_rslt.append(word)\n",
    "\n",
    "            rslt.append(doc_rslt)\n",
    "\n",
    "        return rslt\n",
    "\n",
    "    def get_word2vec_model(self):\n",
    "        \n",
    "        # Load the model\n",
    "        self.model = word2vec.Word2Vec.load(\"model_word2vec_clustering.model\")\n",
    "\n",
    "    def get_ap_model(self):\n",
    "        \n",
    "        #COnverting into list of words\n",
    "        cleaned_text = self.clean_text(list(self.data.corpora_whole.values()))\n",
    "\n",
    "        w2v_feature_array = self.averaged_word_vectorizer(corpus=cleaned_text, model=self.model,\n",
    "                                                     num_features=100)\n",
    "        # Create an\n",
    "        self.ap = AffinityPropagation()\n",
    "\n",
    "        self.ap.fit(w2v_feature_array)\n",
    "\n",
    "        ap_centers = self.ap.cluster_centers_\n",
    "\n",
    "        cluster_labels = self.ap.labels_\n",
    "        cluster_labels = pd.DataFrame(cluster_labels, columns=['ClusterLabel'])\n",
    "\n",
    "        self.df = self.df.reset_index()\n",
    "        rslt_df = pd.concat([self.df, cluster_labels], axis=1)\n",
    "\n",
    "        clus_val = rslt_df.ClusterLabel.value_counts()\n",
    "\n",
    "        # Create a Dataframe with the predicted clusters\n",
    "        self.reference = rslt_df[[\"index\",\"ClusterLabel\"]]\n",
    "\n",
    "        self.reference.columns = [\"protocol\",\"ap_cluster\"]\n",
    "\n",
    "\n",
    "    def visualize_ap_clusters(self,protocol):\n",
    "        # Application of Affinity Propagation Cluster to a specific white paper\n",
    "        cleaned_text = self.clean_text(list([self.data.corpora_test_whole[protocol]]))\n",
    "\n",
    "        w2v_feature_array = self.averaged_word_vectorizer(corpus=cleaned_text, model=self.model,\n",
    "                                                     num_features=100)\n",
    "\n",
    "        predict = self.ap.predict(w2v_feature_array)\n",
    "\n",
    "        # List of other protocols in the same cluster\n",
    "        similars = self.reference[self.reference.ap_cluster == predict[0]].protocol\n",
    "        \n",
    "        stats = corpus.get_datastats()\n",
    "\n",
    "        result = pd.merge(similars.to_frame(),stats, left_on=\"protocol\",right_on=\"name\",how=\"inner\")\n",
    "\n",
    "        result = result.sort_values(by=\"rank\")\n",
    "\n",
    "        plt.plot(result.protocol, result[\"rank\"])\n",
    "        plt.title(\"Similar Protocol + Ranks\")\n",
    "        plt.xticks(rotation=90)\n",
    "        plt.xlabel(\"Protocols in Cluster\")\n",
    "        plt.ylabel(\"Rank\")\n",
    "        \n",
    "        return plt\n"
   ]
  },
  {
   "cell_type": "code",
   "execution_count": 336,
   "metadata": {},
   "outputs": [],
   "source": [
    "class TextExtraction():\n",
    "    \n",
    "    def __init__(self, data):\n",
    "        self.data = data\n",
    "        \n",
    "    def prepare_data(self):\n",
    "        \n",
    "        # Prepare the array with the tokens\n",
    "        self.tokens = []\n",
    "\n",
    "        # Iterate through all the papers and get all the different words within the papers\n",
    "        for k in self.data.corpora_whole.keys():\n",
    "            self.tokens.append(word_tokenize(self.data.corpora_whole[k]))\n",
    "    \n",
    "    def get_word2vec_model(self):\n",
    "        \n",
    "        self.model = Word2Vec.load(\"model_word2vec_textextraction.model\")\n",
    "    \n",
    "    # Define Function\n",
    "    def visualize_ent(self,protocol):\n",
    "        \"\"\"\n",
    "        Function that receives the name of a paper, and retrieves a plot with the most common entities found\n",
    "        Input:\n",
    "            Name of a white paper in the corpus\n",
    "        Output:\n",
    "            Plot\n",
    "        \"\"\"\n",
    "\n",
    "        assert protocol in self.data.testset.keys()\n",
    "\n",
    "        # Load the NLP object with pre-trained data\n",
    "        nlp = spacy.load('en_core_web_md')\n",
    "\n",
    "        # Create an object of the paper chosen\n",
    "        doc1 = nlp(self.data.testset[protocol])\n",
    "\n",
    "        # Get all the entities gather from the documents\n",
    "        items1 = [x.label_ for x in doc1.ents]\n",
    "\n",
    "        # Get the most common entities found in the paper\n",
    "        i1 = Counter(items1).most_common(10)\n",
    "\n",
    "        # Pepare the arrays for the plot\n",
    "        x1 = []\n",
    "        y1 = []\n",
    "\n",
    "        # Iterate through the entities and add them into the array\n",
    "        for i in range(len(i1)):\n",
    "            x1.append(i1[i][0])\n",
    "            y1.append(i1[i][1])\n",
    "\n",
    "        # Create the visualization\n",
    "        plt.plot(x1, y1)\n",
    "        plt.title(\"Type of Entities in Protocol\")\n",
    "        plt.xticks(rotation=90)\n",
    "        plt.xlabel(\"Entity Types\")\n",
    "        plt.ylabel(\"Quantity\")\n",
    "        \n",
    "        return plt\n",
    "    \n",
    "    # Define the function\n",
    "    def visualize_wordvec(self,topic, protocol):\n",
    "        \"\"\"\n",
    "        Function that receives a word and the name of a paper, and returns a visualization with similar words\n",
    "        Input:\n",
    "            Specific topic\n",
    "            Name of the protocol\n",
    "            Corpora with all the texts\n",
    "            Word2Vec Model with all the Vectors\n",
    "        Output:\n",
    "            Plots\n",
    "        \"\"\"\n",
    "        assert protocol in self.data.corpora_test_whole.keys()\n",
    "\n",
    "        # Create an empty Word2Vec object where we will put the weights for the specific protocol, based on the whole corpus\n",
    "        model_test = Word2Vec()\n",
    "\n",
    "        # Prepare the array with the tokens\n",
    "        tokens = []\n",
    "\n",
    "        # Tokenize white paper\n",
    "        tokens.append(word_tokenize(self.data.corpora_test_whole[protocol]))\n",
    "\n",
    "        # Iterate through all the words in the specific white paper, and add the weights into the new model\n",
    "        for word in tokens[0]:\n",
    "            if word in self.model.wv.vocab:\n",
    "                model_test.wv[word] = self.model.wv[word]\n",
    "\n",
    "        # Get most similar word, based on the whole corpus\n",
    "        l = model_test.wv.most_similar([topic])\n",
    "\n",
    "        # Prepare the arrays for the visualizations\n",
    "        x = []\n",
    "        y = []\n",
    "\n",
    "        # Iterate through the similar words\n",
    "        for i in range(len(l)):\n",
    "            x.append(l[i][0])\n",
    "            y.append(l[i][1])\n",
    "\n",
    "        # Prepare Visualization \n",
    "        plt.plot(x, y)\n",
    "        plt.xticks(rotation=90)\n",
    "        plt.title(\"Words similarity within White Paper\")\n",
    "        plt.xlabel(\"Words\")\n",
    "        plt.ylabel(\"% Similarity\")\n",
    "        \n",
    "        return plt\n",
    "        \n",
    "    def visualize_pca(self,protocol):\n",
    "        assert protocol in self.data.corpora_test_whole.keys()\n",
    "\n",
    "\n",
    "        # Prepare the array with the tokens\n",
    "        tokens = []\n",
    "\n",
    "        # Iterate through all the papers and get all the different words within the papers\n",
    "        for k in self.data.corpora_test_whole.keys():\n",
    "            tokens.append(word_tokenize(self.data.corpora_test_whole[k]))\n",
    "\n",
    "        # Iterate through the the protocols to get the position of the protocol\n",
    "        n = 0    \n",
    "        for i in enumerate(self.data.corpora_test_whole.items()):\n",
    "            if i[1][0] == protocol:\n",
    "                n = i[0]\n",
    "            else: continue\n",
    "                \n",
    "                \n",
    "        # Model with only words in the exact protocol\n",
    "        model2 = Word2Vec(tokens[n], size =100, window=5, min_count=1, workers=2)\n",
    "\n",
    "        # Get the similar words within the exact protocol\n",
    "        X = model2[model2.wv.vocab]\n",
    "        pca = PCA(n_components=2)\n",
    "        result = pca.fit_transform(X)\n",
    "\n",
    "        # Prepare Visualization\n",
    "        plt.scatter(result[:,0], result[:,1], s=100)\n",
    "        words = list(model2.wv.vocab)\n",
    "\n",
    "        for i, word in enumerate(tokens[n][:]):\n",
    "            try:\n",
    "                plt.annotate(word, xy=(result[i,0], result[i,1]), size = 10)\n",
    "            except:\n",
    "                pass\n",
    "        \n",
    "        plt.title(\"PCA on Words of White Paper\")\n",
    "        plt.xlabel(\"PCA1\")\n",
    "        plt.ylabel(\"PCA2\")\n",
    "        return plt"
   ]
  },
  {
   "cell_type": "code",
   "execution_count": 303,
   "metadata": {},
   "outputs": [],
   "source": [
    "class TopicModeling():\n",
    "    def __init__(self, data):\n",
    "        self.data = data\n",
    "    \n",
    "    def prepare_data(self):        \n",
    "        #Combining them and putting into pandas dataframe\n",
    "        combined = {key:[self.combine_text(value)] for (key, value) in self.data.corpora_sent.items()}\n",
    "        test_combined = {key:[self.combine_text(value)] for (key, value) in self.data.corpora_test_sent.items()}\n",
    "        \n",
    "        self.test_df = pd.DataFrame.from_dict(test_combined).transpose()\n",
    "        self.test_df.columns = ['whitepapers']\n",
    "        self.test_df = self.test_df.sort_index()\n",
    "        self.test_df.head()\n",
    "        \n",
    "        self.df = pd.DataFrame.from_dict(combined).transpose()\n",
    "        self.df.columns = ['whitepapers']\n",
    "        self.df = self.df.sort_index()\n",
    "        self.df.head()\n",
    "        \n",
    "        #creating the list and tokenizing each word in the test corpus\n",
    "        testdata = self.test_df.whitepapers.values.tolist()\n",
    "        testdata_words = list(self.sent_to_words(testdata))\n",
    "\n",
    "        self.test_data_ready = self.process_words(testdata_words)\n",
    "        \n",
    "        #creating the list and tokenizing each word in the test corpus\n",
    "        data = self.df.whitepapers.values.tolist()\n",
    "        data_words = list(self.sent_to_words(data))\n",
    "\n",
    "        data_ready = self.process_words(data_words)\n",
    "\n",
    "        id2word = corpora.Dictionary(data_ready)\n",
    "\n",
    "        # Apply the Topic Model into unseen documents\n",
    "        self.corpus_lda_test = [id2word.doc2bow(text) for text in self.test_data_ready]\n",
    "\n",
    "    def combine_text(self,list_of_text):\n",
    "        '''Takes a list of text and combines them into one large chunk of text.'''\n",
    "        combined_text = ' '.join(list_of_text)\n",
    "        return combined_text\n",
    "    \n",
    "    # tokenizing the entire corpus by word\n",
    "    def sent_to_words(self, sentences):\n",
    "        for sent in sentences:\n",
    "            sent = re.sub('\\S*@\\S*\\s?', '', sent)  # remove emails\n",
    "            sent = re.sub('\\s+', ' ', sent)  # remove newline chars\n",
    "            sent = re.sub(\"\\'\", \"\", sent)  # remove single quotes\n",
    "            sent = gensim.utils.simple_preprocess(str(sent), deacc=True) \n",
    "            yield(sent)  \n",
    "    \n",
    "    # Function that gets the Dominant Topic in a Document\n",
    "    def format_topics_sentences(self):\n",
    "        \n",
    "        # Init output\n",
    "        sent_topics_df = pd.DataFrame()\n",
    "\n",
    "        # Get main topic in each document\n",
    "        for i, row_list in enumerate(self.model[self.corpus_lda_test]):\n",
    "            row = row_list[0] if self.model.per_word_topics else row_list            \n",
    "            # print(row)\n",
    "            row = sorted(row, key=lambda x: (x[1]), reverse=True)\n",
    "            # Get the Dominant topic, Perc Contribution and Keywords for each document\n",
    "            for j, (topic_num, prop_topic) in enumerate(row):\n",
    "                if j == 0:  # => dominant topic\n",
    "                    wp = self.model.show_topic(topic_num)\n",
    "                    topic_keywords = \", \".join([word for word, prop in wp])\n",
    "                    sent_topics_df = sent_topics_df.append(pd.Series([int(topic_num), round(prop_topic,4), topic_keywords]), ignore_index=True)\n",
    "                else:\n",
    "                    break\n",
    "        \n",
    "        sent_topics_df.columns = ['Dominant_Topic', 'Perc_Contribution', 'Topic_Keywords']\n",
    "\n",
    "        # Add original text to the end of the output\n",
    "        contents = pd.Series(self.test_data_ready)\n",
    "        sent_topics_df = pd.concat([sent_topics_df, contents], axis=1)\n",
    "        \n",
    "        return(sent_topics_df)\n",
    "\n",
    "    def process_words(self, texts, stop_words=stop_words, allowed_postags=['NOUN', 'ADJ', 'VERB', 'ADV']):\n",
    "        # Build the bigram and trigram models\n",
    "        bigram = gensim.models.Phrases(texts, min_count=5, threshold=100) # higher threshold fewer phrases.\n",
    "        trigram = gensim.models.Phrases(bigram[texts], threshold=100)  \n",
    "        bigram_mod = gensim.models.phrases.Phraser(bigram)\n",
    "        trigram_mod = gensim.models.phrases.Phraser(trigram)\n",
    "\n",
    "        \"\"\"Remove Stopwords, Form Bigrams, Trigrams and Lemmatization\"\"\"\n",
    "        texts = [[word for word in simple_preprocess(str(doc)) if word not in stop_words] for doc in texts]\n",
    "        texts = [bigram_mod[doc] for doc in texts]\n",
    "        texts = [trigram_mod[bigram_mod[doc]] for doc in texts]\n",
    "        texts_out = []\n",
    "        #nlp = spacy.load('en', disable=['parser', 'ner'])\n",
    "        nlp = spacy.load('en_core_web_md', disable=['parser', 'ner'])\n",
    "        for sent in texts:\n",
    "            doc = nlp(\" \".join(sent)) \n",
    "            texts_out.append([token.lemma_ for token in doc if token.pos_ in allowed_postags])\n",
    "        # remove stopwords once more after lemmatization\n",
    "        texts_out = [[word for word in simple_preprocess(str(doc)) if word not in stop_words] for doc in texts_out]    \n",
    "        return texts_out\n",
    "\n",
    "    # Function that gets all the topics per document\n",
    "    def topics_per_document(self, protocol):\n",
    "        \n",
    "        index = self.test_df.reset_index().loc[self.test_df.index == protocol].index[0]\n",
    "        corpus_sel = [self.corpus_lda_test[index]]\n",
    "        \n",
    "        dominant_topics = []\n",
    "        topic_percentages = []\n",
    "        \n",
    "        for i, corp in enumerate(corpus_sel):\n",
    "            topic_percs, wordid_topics, wordid_phivalues = self.model[corp]\n",
    "            dominant_topic = sorted(topic_percs, key = lambda x: x[1], reverse=True)[0][0]\n",
    "            dominant_topics.append((i, dominant_topic))\n",
    "            topic_percentages.append(topic_percs)\n",
    "        \n",
    "        return(dominant_topics, topic_percentages)\n",
    "\n",
    "\n",
    "    def get_lda_model(self):\n",
    "        \n",
    "        self.model = LdaModel.load(\"model_lda_topicmodeling.model\")\n",
    "        \n",
    "    def visualize_topics(self,protocol):\n",
    "        \n",
    "        unseen_doc = self.corpus_lda_test[0]\n",
    "        # get topic probability distribution for a document\n",
    "        vector = self.model[unseen_doc] \n",
    "\n",
    "        # Format the topics from the unseen data into the LDA Model\n",
    "        df_topic_sents_keywords = self.format_topics_sentences()\n",
    "\n",
    "        # Format\n",
    "        df_dominant_topic = df_topic_sents_keywords.reset_index()\n",
    "        df_dominant_topic.columns = ['Document_No', 'Dominant_Topic', 'Topic_Perc_Contrib', 'Keywords', 'Text']\n",
    "\n",
    "        # Use the function to get the percentages of topics in the document\n",
    "        _, topic_percentages = self.topics_per_document(protocol=protocol)            \n",
    "\n",
    "        # Total Topic Distribution by actual weight\n",
    "        topic_weightage_by_doc = pd.DataFrame([dict(t) for t in topic_percentages])\n",
    "        df_topic_weightage_by_doc = topic_weightage_by_doc.sum().to_frame(name='count').reset_index()\n",
    "\n",
    "        # Top 3 Keywords for each Topic\n",
    "        topic_top3words = [(i, topic) for i, topics in self.model.show_topics(formatted=False) \n",
    "                                         for j, (topic, wt) in enumerate(topics) if j < 3]\n",
    "\n",
    "        df_top3words_stacked = pd.DataFrame(topic_top3words, columns=['topic_id', 'words'])\n",
    "        df_top3words = df_top3words_stacked.groupby('topic_id').agg(', \\n'.join)\n",
    "        df_top3words.reset_index(level=0,inplace=True)\n",
    "\n",
    "        # Plot\n",
    "        fig, ax = plt.subplots(1, 1)\n",
    "\n",
    "        # Topic Distribution by Topic Weights\n",
    "        ax.bar(x='index', height='count', data=df_topic_weightage_by_doc)\n",
    "        ax.set_xticks(range(6))\n",
    "        tick_formatter = FuncFormatter(lambda x, pos: 'Topic ' + str(x)+ '\\n' + df_top3words.loc[df_top3words.topic_id==x, 'words'].values[0])\n",
    "        ax.xaxis.set_major_formatter(tick_formatter)\n",
    "        ax.set_title('Number of Documents by Topic Weightage')\n",
    "\n",
    "        return plt\n",
    "    "
   ]
  },
  {
   "cell_type": "code",
   "execution_count": 302,
   "metadata": {},
   "outputs": [],
   "source": [
    "class TextClassification():\n",
    "    \n",
    "    def __init__(self, data):\n",
    "        self.data = data\n",
    "        \n",
    "    def prepare_data(self):\n",
    "        self.df_train_1 = pd.DataFrame(columns=[\"Text\",\"Protocol\"])\n",
    "\n",
    "        self.df_test_1 = pd.DataFrame.from_dict(self.data.corpora_test_whole,orient=\"index\").reset_index()\n",
    "\n",
    "        self.df_test_1.columns = [\"Protocol\", \"Text\"]\n",
    "        \n",
    "        # Define a Data Frame to put all the corpora_sent into a Pandas dataframe\n",
    "        self.df_test_2 = pd.DataFrame(columns=[\"Text\",\"Protocol\"])\n",
    "        \n",
    "        # Iterate over each white paper, and on each sentence, and add it to the Dataframe\n",
    "        i=0\n",
    "        for k, v in enumerate(self.data.corpora_test_sent):\n",
    "            for sent in self.data.corpora_test_sent[v]:\n",
    "                self.df_test_2.loc[i, \"Text\"] = sent\n",
    "                self.df_test_2.loc[i, \"Protocol\"] = v\n",
    "                i += 1\n",
    "    \n",
    "    def get_tokenizer(self):\n",
    "        # Get the Tokenizer object\n",
    "        with open('model_tokenizer_classification.json') as f:\n",
    "            data = json.load(f)\n",
    "            self.tokenize = text.tokenizer_from_json(data)\n",
    "        \n",
    "    def get_log_model(self):\n",
    "        # Read the csv and load it on a DataFrame\n",
    "        df = pd.read_csv(TRAIN_CSV, sep=';', encoding=\"utf-8-sig\")\n",
    "        \n",
    "        # Lower all the words\n",
    "        df.Label = df.Label.apply(lambda x : x.lower())\n",
    "\n",
    "        # Define the labels and also the Train dataset\n",
    "        labels = df.groupby(by='Label').count().sort_values(by='Label').reset_index()['Label']\n",
    "\n",
    "        X_train = df[\"Text\"]\n",
    "        y_train = df[\"Label\"]\n",
    "\n",
    "        # We need to add another category, in case there is no topic mentioned on the sentence\n",
    "        X_train[len(X_train)+1] = \"\"\n",
    "        y_train[len(y_train)+1] = \"none\"\n",
    "\n",
    "        # We train a really simple Logistic Regression\n",
    "        self.logreg = Pipeline([('vect', CountVectorizer()),\n",
    "                        ('tfidf', TfidfTransformer()),\n",
    "                        ('clf', LogisticRegression(n_jobs=1, C=1e5)),\n",
    "                       ])\n",
    "        \n",
    "        self.logreg.fit(X_train, y_train)\n",
    "        \n",
    "    def get_nn_model(self):\n",
    "        \n",
    "        # We load our Neural Network from previous model weights\n",
    "        self.model = load_model(\"model_neuralnetwork_classification.h5\")\n",
    "        \n",
    "    def visualize_log(self,protocol):\n",
    "        # First, we define our test dataframe\n",
    "        X_test = self.df_test_2[\"Text\"]\n",
    "\n",
    "        # Then, for the second model, we predict it\n",
    "        predict_logreg = self.logreg.predict(X_test)\n",
    "\n",
    "        # Add into the Dataframe\n",
    "        self.df_test_2[\"Model_2\"] = predict_logreg\n",
    "\n",
    "        protocol_test = self.df_test_2[self.df_test_2.Protocol == protocol].groupby(by=\"Model_2\").count().sort_values(by=\"Text\", ascending=False)\n",
    "        protocol_test['percentage'] = protocol_test['Text']/protocol_test['Text'].sum()\n",
    "\n",
    "        protocol_test = protocol_test.drop(\"none\", axis=0).reset_index()\n",
    "\n",
    "        # PLOT\n",
    "        plt.bar(protocol_test.Model_2, protocol_test.percentage)\n",
    "        plt.title(\"Dimension Distributions\") \n",
    "        plt.xlabel(\"Investor Dimensions\")\n",
    "        plt.ylabel(\"% Appearance\")\n",
    "        \n",
    "        return plt\n",
    "\n",
    "\n",
    "    def visualize_nn(self,protocol):      \n",
    "        # First, we define our test dataframe\n",
    "        X_test = self.df_test_1[\"Text\"]\n",
    "\n",
    "        # For the first model, we need to tokenize the text\n",
    "        X_test = self.tokenize.texts_to_matrix(X_test)\n",
    "        \n",
    "        # Predict\n",
    "        predict_nn = self.model.predict(X_test)\n",
    "\n",
    "        # Add into the DataFrame\n",
    "        self.df_test_1[\"Model_1\"] = predict_nn.tolist()\n",
    "        \n",
    "        # Generate the Labels, with the name of each White Paper\n",
    "        labels = list(self.data.corpora_sent.keys())\n",
    "        \n",
    "        pd.options.display.float_format = '{}'.format\n",
    "        \n",
    "        for index, row in self.df_test_1.iterrows():\n",
    "            if row[\"Protocol\"] == protocol:\n",
    "                frame = pd.DataFrame()\n",
    "                frame[\"weights\"] = row[\"Model_1\"]\n",
    "                frame[\"label\"] = labels\n",
    "                frame = frame.sort_values(by=\"weights\", ascending=False)\n",
    "                frame = frame.head(5)\n",
    "                \n",
    "                # PLOT\n",
    "                plt.bar(frame.label, frame.weights)\n",
    "                plt.title(row[\"Protocol\"]) \n",
    "                plt.xlabel(\"Train Protocols\")\n",
    "                plt.ylabel(\"% Likelihood\")\n",
    "        \n",
    "        return plt\n"
   ]
  },
  {
   "cell_type": "markdown",
   "metadata": {},
   "source": [
    "# 3 - Visualization"
   ]
  },
  {
   "cell_type": "code",
   "execution_count": 10,
   "metadata": {},
   "outputs": [
    {
     "name": "stderr",
     "output_type": "stream",
     "text": [
      "[nltk_data] Downloading package punkt to /Users/ldiego/nltk_data...\n",
      "[nltk_data]   Package punkt is already up-to-date!\n",
      "[nltk_data] Downloading package stopwords to\n",
      "[nltk_data]     /Users/ldiego/nltk_data...\n",
      "[nltk_data]   Package stopwords is already up-to-date!\n",
      "[nltk_data] Downloading package averaged_perceptron_tagger to\n",
      "[nltk_data]     /Users/ldiego/nltk_data...\n",
      "[nltk_data]   Package averaged_perceptron_tagger is already up-to-\n",
      "[nltk_data]       date!\n",
      "[nltk_data] Downloading package wordnet to /Users/ldiego/nltk_data...\n",
      "[nltk_data]   Package wordnet is already up-to-date!\n",
      "[nltk_data] Error loading en_core_web_md: Package 'en_core_web_md' not\n",
      "[nltk_data]     found in index\n"
     ]
    },
    {
     "name": "stdout",
     "output_type": "stream",
     "text": [
      "Cleaning: utrust\n",
      "Cleaning: ark\n",
      "Cleaning: bitcoin\n",
      "Cleaning: icon\n",
      "Cleaning: basicattentiontoken\n",
      "Cleaning: dash\n",
      "Cleaning: bytecoin\n",
      "Cleaning: horizen\n",
      "Cleaning: abbccoin\n",
      "Cleaning: komodo\n",
      "Cleaning: hyperion\n",
      "Cleaning: tezos\n",
      "Cleaning: nexo\n",
      "Cleaning: dai\n",
      "Cleaning: tron\n",
      "Cleaning: fantom\n",
      "Cleaning: digixdao\n",
      "Cleaning: cryptonex\n",
      "Cleaning: maker\n",
      "Cleaning: bytom\n",
      "Cleaning: metal\n",
      "Cleaning: dogecoin\n",
      "Cleaning: pundix\n",
      "Cleaning: japancontenttoken\n",
      "Cleaning: cosmos\n",
      "Cleaning: latoken\n",
      "Cleaning: nem\n",
      "Cleaning: maidsafecoin\n",
      "Cleaning: decentraland\n",
      "Cleaning: mixin\n",
      "Cleaning: stellar\n",
      "Cleaning: elastos\n",
      "Cleaning: gxchain\n",
      "Cleaning: nebulas\n",
      "Cleaning: solve\n",
      "Cleaning: eos\n",
      "Cleaning: theta\n",
      "Cleaning: stratis\n",
      "Cleaning: tether\n",
      "Cleaning: iexecrlc\n",
      "Cleaning: orbs\n",
      "Cleaning: dent\n",
      "Cleaning: ethereum\n",
      "Cleaning: vechain\n",
      "Cleaning: hypercash\n",
      "Cleaning: bitcoingold\n",
      "Cleaning: status\n",
      "Cleaning: ravencoin\n",
      "Cleaning: thetafuel\n",
      "Cleaning: zilliqa\n",
      "Cleaning: celernetwork\n",
      "Cleaning: omisego\n",
      "Cleaning: singularitynet\n",
      "Cleaning: usdcoin\n",
      "Cleaning: holo\n",
      "Cleaning: synthetixnetworktoken\n",
      "Cleaning: bitshares\n",
      "Cleaning: 0x\n",
      "Cleaning: nkn\n",
      "Cleaning: riftoken\n",
      "Cleaning: waves\n",
      "Cleaning: #metahash\n",
      "Cleaning: powerledger\n",
      "Cleaning: siacoin\n",
      "Cleaning: wanchain\n",
      "Cleaning: enjincoin\n",
      "Cleaning: loopring\n",
      "Cleaning: factom\n",
      "Cleaning: crypto\n",
      "Cleaning: ontology\n",
      "Cleaning: particl\n",
      "Cleaning: metaverseetp\n",
      "Cleaning: zcash\n",
      "Cleaning: aion\n",
      "Cleaning: skycoin\n",
      "Cleaning: iota\n",
      "Cleaning: binancecoin\n",
      "Cleaning: chainlink\n",
      "Cleaning: wax\n",
      "Cleaning: bhpcoin\n",
      "Cleaning: bittorrent\n",
      "Cleaning: paxosstandardtoken\n",
      "Cleaning: thundertoken\n",
      "Cleaning: inocoin\n",
      "Cleaning: apollocurrency\n",
      "Cleaning: cosmocoin\n",
      "Cleaning: tenx\n",
      "Cleaning: nano\n",
      "Cleaning: truechain\n",
      "Cleaning: ardor\n",
      "Cleaning: xrp\n",
      "Cleaning: ethereumclassic\n",
      "Cleaning: gnosis\n",
      "Cleaning: waltonchain\n",
      "Cleaning: monero\n",
      "Cleaning: golem\n",
      "Cleaning: steem\n",
      "Cleaning: lina\n",
      "Cleaning: obyte\n",
      "Done!\n"
     ]
    },
    {
     "name": "stderr",
     "output_type": "stream",
     "text": [
      "[nltk_data] Downloading package punkt to /Users/ldiego/nltk_data...\n",
      "[nltk_data]   Package punkt is already up-to-date!\n",
      "[nltk_data] Downloading package stopwords to\n",
      "[nltk_data]     /Users/ldiego/nltk_data...\n",
      "[nltk_data]   Package stopwords is already up-to-date!\n",
      "[nltk_data] Downloading package averaged_perceptron_tagger to\n",
      "[nltk_data]     /Users/ldiego/nltk_data...\n",
      "[nltk_data]   Package averaged_perceptron_tagger is already up-to-\n",
      "[nltk_data]       date!\n",
      "[nltk_data] Downloading package wordnet to /Users/ldiego/nltk_data...\n",
      "[nltk_data]   Package wordnet is already up-to-date!\n",
      "[nltk_data] Error loading en_core_web_md: Package 'en_core_web_md' not\n",
      "[nltk_data]     found in index\n"
     ]
    },
    {
     "name": "stdout",
     "output_type": "stream",
     "text": [
      "Cleaning: utrust\n",
      "Cleaning: ark\n",
      "Cleaning: bitcoin\n",
      "Cleaning: icon\n",
      "Cleaning: basicattentiontoken\n",
      "Cleaning: dash\n",
      "Cleaning: bytecoin\n",
      "Cleaning: horizen\n",
      "Cleaning: abbccoin\n",
      "Cleaning: komodo\n",
      "Cleaning: hyperion\n",
      "Cleaning: tezos\n",
      "Cleaning: nexo\n",
      "Cleaning: dai\n",
      "Cleaning: tron\n",
      "Cleaning: fantom\n",
      "Cleaning: digixdao\n",
      "Cleaning: cryptonex\n",
      "Cleaning: maker\n",
      "Cleaning: bytom\n",
      "Cleaning: metal\n",
      "Cleaning: dogecoin\n",
      "Cleaning: pundix\n",
      "Cleaning: japancontenttoken\n",
      "Cleaning: cosmos\n",
      "Cleaning: latoken\n",
      "Cleaning: nem\n",
      "Cleaning: maidsafecoin\n",
      "Cleaning: decentraland\n",
      "Cleaning: mixin\n",
      "Cleaning: stellar\n",
      "Cleaning: elastos\n",
      "Cleaning: gxchain\n",
      "Cleaning: nebulas\n",
      "Cleaning: solve\n",
      "Cleaning: eos\n",
      "Cleaning: theta\n",
      "Cleaning: stratis\n",
      "Cleaning: tether\n",
      "Cleaning: iexecrlc\n",
      "Cleaning: orbs\n",
      "Cleaning: dent\n",
      "Cleaning: ethereum\n",
      "Cleaning: vechain\n",
      "Cleaning: hypercash\n",
      "Cleaning: bitcoingold\n",
      "Cleaning: status\n",
      "Cleaning: ravencoin\n",
      "Cleaning: thetafuel\n",
      "Cleaning: zilliqa\n",
      "Cleaning: celernetwork\n",
      "Cleaning: omisego\n",
      "Cleaning: singularitynet\n",
      "Cleaning: usdcoin\n",
      "Cleaning: holo\n",
      "Cleaning: synthetixnetworktoken\n",
      "Cleaning: bitshares\n",
      "Cleaning: 0x\n",
      "Cleaning: nkn\n",
      "Cleaning: riftoken\n",
      "Cleaning: waves\n",
      "Cleaning: #metahash\n",
      "Cleaning: powerledger\n",
      "Cleaning: siacoin\n",
      "Cleaning: wanchain\n",
      "Cleaning: enjincoin\n",
      "Cleaning: loopring\n",
      "Cleaning: factom\n",
      "Cleaning: crypto\n",
      "Cleaning: ontology\n",
      "Cleaning: particl\n",
      "Cleaning: metaverseetp\n",
      "Cleaning: zcash\n",
      "Cleaning: aion\n",
      "Cleaning: skycoin\n",
      "Cleaning: iota\n",
      "Cleaning: binancecoin\n",
      "Cleaning: chainlink\n",
      "Cleaning: wax\n",
      "Cleaning: bhpcoin\n",
      "Cleaning: bittorrent\n",
      "Cleaning: paxosstandardtoken\n",
      "Cleaning: thundertoken\n",
      "Cleaning: inocoin\n",
      "Cleaning: apollocurrency\n",
      "Cleaning: cosmocoin\n",
      "Cleaning: tenx\n",
      "Cleaning: nano\n",
      "Cleaning: truechain\n",
      "Cleaning: ardor\n",
      "Cleaning: xrp\n",
      "Cleaning: ethereumclassic\n",
      "Cleaning: gnosis\n",
      "Cleaning: waltonchain\n",
      "Cleaning: monero\n",
      "Cleaning: golem\n",
      "Cleaning: steem\n",
      "Cleaning: lina\n",
      "Cleaning: obyte\n",
      "Done!\n"
     ]
    },
    {
     "name": "stderr",
     "output_type": "stream",
     "text": [
      "[nltk_data] Downloading package punkt to /Users/ldiego/nltk_data...\n",
      "[nltk_data]   Package punkt is already up-to-date!\n",
      "[nltk_data] Downloading package stopwords to\n",
      "[nltk_data]     /Users/ldiego/nltk_data...\n",
      "[nltk_data]   Package stopwords is already up-to-date!\n",
      "[nltk_data] Downloading package averaged_perceptron_tagger to\n",
      "[nltk_data]     /Users/ldiego/nltk_data...\n",
      "[nltk_data]   Package averaged_perceptron_tagger is already up-to-\n",
      "[nltk_data]       date!\n",
      "[nltk_data] Downloading package wordnet to /Users/ldiego/nltk_data...\n",
      "[nltk_data]   Package wordnet is already up-to-date!\n",
      "[nltk_data] Error loading en_core_web_md: Package 'en_core_web_md' not\n",
      "[nltk_data]     found in index\n"
     ]
    },
    {
     "name": "stdout",
     "output_type": "stream",
     "text": [
      "Cleaning: kwattcoin\n",
      "Cleaning: adcoin\n",
      "Cleaning: budbo\n",
      "Cleaning: oceanprotocol\n",
      "Done!\n"
     ]
    },
    {
     "name": "stderr",
     "output_type": "stream",
     "text": [
      "[nltk_data] Downloading package punkt to /Users/ldiego/nltk_data...\n",
      "[nltk_data]   Package punkt is already up-to-date!\n",
      "[nltk_data] Downloading package stopwords to\n",
      "[nltk_data]     /Users/ldiego/nltk_data...\n",
      "[nltk_data]   Package stopwords is already up-to-date!\n",
      "[nltk_data] Downloading package averaged_perceptron_tagger to\n",
      "[nltk_data]     /Users/ldiego/nltk_data...\n",
      "[nltk_data]   Package averaged_perceptron_tagger is already up-to-\n",
      "[nltk_data]       date!\n",
      "[nltk_data] Downloading package wordnet to /Users/ldiego/nltk_data...\n",
      "[nltk_data]   Package wordnet is already up-to-date!\n",
      "[nltk_data] Error loading en_core_web_md: Package 'en_core_web_md' not\n",
      "[nltk_data]     found in index\n"
     ]
    },
    {
     "name": "stdout",
     "output_type": "stream",
     "text": [
      "Cleaning: kwattcoin\n",
      "Cleaning: adcoin\n",
      "Cleaning: budbo\n",
      "Cleaning: oceanprotocol\n",
      "Done!\n"
     ]
    }
   ],
   "source": [
    "dataset = Data()"
   ]
  },
  {
   "cell_type": "code",
   "execution_count": 337,
   "metadata": {},
   "outputs": [],
   "source": [
    "ir = InformationRetrieval(dataset)"
   ]
  },
  {
   "cell_type": "code",
   "execution_count": 338,
   "metadata": {},
   "outputs": [],
   "source": [
    "dc = DocumentClustering(dataset)"
   ]
  },
  {
   "cell_type": "code",
   "execution_count": 339,
   "metadata": {},
   "outputs": [],
   "source": [
    "te = TextExtraction(dataset)"
   ]
  },
  {
   "cell_type": "code",
   "execution_count": 340,
   "metadata": {},
   "outputs": [],
   "source": [
    "tm = TopicModeling(dataset)"
   ]
  },
  {
   "cell_type": "code",
   "execution_count": 341,
   "metadata": {},
   "outputs": [],
   "source": [
    "tc = TextClassification(dataset)"
   ]
  },
  {
   "cell_type": "code",
   "execution_count": 342,
   "metadata": {},
   "outputs": [],
   "source": [
    "protocol = \"kwattcoin\""
   ]
  },
  {
   "cell_type": "markdown",
   "metadata": {},
   "source": [
    "#### Information Retrieval"
   ]
  },
  {
   "cell_type": "code",
   "execution_count": 343,
   "metadata": {},
   "outputs": [],
   "source": [
    "tokens = ir.prepare_data(dataset.corpora_test_whole,protocol)"
   ]
  },
  {
   "cell_type": "code",
   "execution_count": 344,
   "metadata": {},
   "outputs": [
    {
     "data": {
      "image/png": "[encoded data removed]",
      "text/plain": [
       "<Figure size 432x288 with 1 Axes>"
      ]
     },
     "metadata": {
      "needs_background": "light"
     },
     "output_type": "display_data"
    }
   ],
   "source": [
    "plt_ngrams = ir.visualize_ngrams(tokens, n=2)"
   ]
  },
  {
   "cell_type": "code",
   "execution_count": 345,
   "metadata": {},
   "outputs": [
    {
     "data": {
      "image/png": "[encoded data removed]",
      "text/plain": [
       "<Figure size 432x288 with 1 Axes>"
      ]
     },
     "metadata": {
      "needs_background": "light"
     },
     "output_type": "display_data"
    }
   ],
   "source": [
    "plt_wordcloud = ir.visualize_word_cloud(dataset.corpora_test_whole,protocol)"
   ]
  },
  {
   "cell_type": "markdown",
   "metadata": {},
   "source": [
    "#### Document Clustering"
   ]
  },
  {
   "cell_type": "code",
   "execution_count": 346,
   "metadata": {},
   "outputs": [],
   "source": [
    "dc.prepare_data()"
   ]
  },
  {
   "cell_type": "code",
   "execution_count": 347,
   "metadata": {},
   "outputs": [],
   "source": [
    "dc.get_word2vec_model()"
   ]
  },
  {
   "cell_type": "code",
   "execution_count": 348,
   "metadata": {},
   "outputs": [],
   "source": [
    "dc.get_ap_model()"
   ]
  },
  {
   "cell_type": "code",
   "execution_count": 349,
   "metadata": {},
   "outputs": [
    {
     "data": {
      "text/plain": [
       "<module 'matplotlib.pyplot' from '/usr/local/anaconda/lib/python3.7/site-packages/matplotlib/pyplot.py'>"
      ]
     },
     "execution_count": 349,
     "metadata": {},
     "output_type": "execute_result"
    },
    {
     "data": {
      "image/png": "[encoded data removed]",
      "text/plain": [
       "<Figure size 432x288 with 1 Axes>"
      ]
     },
     "metadata": {
      "needs_background": "light"
     },
     "output_type": "display_data"
    }
   ],
   "source": [
    "dc.visualize_ap_clusters(protocol)"
   ]
  },
  {
   "cell_type": "markdown",
   "metadata": {},
   "source": [
    "#### Text Extraction"
   ]
  },
  {
   "cell_type": "code",
   "execution_count": 350,
   "metadata": {},
   "outputs": [],
   "source": [
    "te.prepare_data()"
   ]
  },
  {
   "cell_type": "code",
   "execution_count": 351,
   "metadata": {},
   "outputs": [],
   "source": [
    "te.get_word2vec_model()"
   ]
  },
  {
   "cell_type": "code",
   "execution_count": 352,
   "metadata": {},
   "outputs": [
    {
     "data": {
      "text/plain": [
       "<module 'matplotlib.pyplot' from '/usr/local/anaconda/lib/python3.7/site-packages/matplotlib/pyplot.py'>"
      ]
     },
     "execution_count": 352,
     "metadata": {},
     "output_type": "execute_result"
    },
    {
     "data": {
      "image/png": "[encoded data removed]",
      "text/plain": [
       "<Figure size 432x288 with 1 Axes>"
      ]
     },
     "metadata": {
      "needs_background": "light"
     },
     "output_type": "display_data"
    }
   ],
   "source": [
    "te.visualize_ent(protocol)"
   ]
  },
  {
   "cell_type": "code",
   "execution_count": 354,
   "metadata": {},
   "outputs": [
    {
     "data": {
      "text/plain": [
       "<module 'matplotlib.pyplot' from '/usr/local/anaconda/lib/python3.7/site-packages/matplotlib/pyplot.py'>"
      ]
     },
     "execution_count": 354,
     "metadata": {},
     "output_type": "execute_result"
    },
    {
     "data": {
      "image/png": "[encoded data removed]",
      "text/plain": [
       "<Figure size 432x288 with 1 Axes>"
      ]
     },
     "metadata": {
      "needs_background": "light"
     },
     "output_type": "display_data"
    }
   ],
   "source": [
    "te.visualize_wordvec(\"marketing\",protocol)"
   ]
  },
  {
   "cell_type": "code",
   "execution_count": 355,
   "metadata": {},
   "outputs": [
    {
     "data": {
      "text/plain": [
       "<module 'matplotlib.pyplot' from '/usr/local/anaconda/lib/python3.7/site-packages/matplotlib/pyplot.py'>"
      ]
     },
     "execution_count": 355,
     "metadata": {},
     "output_type": "execute_result"
    },
    {
     "data": {
      "image/png": "[encoded data removed]",
      "text/plain": [
       "<Figure size 432x288 with 1 Axes>"
      ]
     },
     "metadata": {
      "needs_background": "light"
     },
     "output_type": "display_data"
    }
   ],
   "source": [
    "te.visualize_pca(protocol)"
   ]
  },
  {
   "cell_type": "markdown",
   "metadata": {},
   "source": [
    "#### Topic Modeling"
   ]
  },
  {
   "cell_type": "code",
   "execution_count": 356,
   "metadata": {},
   "outputs": [],
   "source": [
    "tm.prepare_data()"
   ]
  },
  {
   "cell_type": "code",
   "execution_count": 357,
   "metadata": {},
   "outputs": [],
   "source": [
    "tm.get_lda_model()"
   ]
  },
  {
   "cell_type": "code",
   "execution_count": 358,
   "metadata": {},
   "outputs": [
    {
     "data": {
      "text/plain": [
       "<module 'matplotlib.pyplot' from '/usr/local/anaconda/lib/python3.7/site-packages/matplotlib/pyplot.py'>"
      ]
     },
     "execution_count": 358,
     "metadata": {},
     "output_type": "execute_result"
    },
    {
     "data": {
      "image/png": "[encoded data removed]",
      "text/plain": [
       "<Figure size 432x288 with 1 Axes>"
      ]
     },
     "metadata": {
      "needs_background": "light"
     },
     "output_type": "display_data"
    }
   ],
   "source": [
    "tm.visualize_topics(protocol)"
   ]
  },
  {
   "cell_type": "markdown",
   "metadata": {},
   "source": [
    "#### Text Classification"
   ]
  },
  {
   "cell_type": "code",
   "execution_count": 359,
   "metadata": {},
   "outputs": [],
   "source": [
    "tc.prepare_data()"
   ]
  },
  {
   "cell_type": "code",
   "execution_count": 360,
   "metadata": {},
   "outputs": [],
   "source": [
    "tc.get_tokenizer()"
   ]
  },
  {
   "cell_type": "code",
   "execution_count": 361,
   "metadata": {},
   "outputs": [],
   "source": [
    "tc.get_log_model()"
   ]
  },
  {
   "cell_type": "code",
   "execution_count": 362,
   "metadata": {},
   "outputs": [],
   "source": [
    "tc.get_nn_model()"
   ]
  },
  {
   "cell_type": "code",
   "execution_count": 363,
   "metadata": {},
   "outputs": [
    {
     "data": {
      "text/plain": [
       "<module 'matplotlib.pyplot' from '/usr/local/anaconda/lib/python3.7/site-packages/matplotlib/pyplot.py'>"
      ]
     },
     "execution_count": 363,
     "metadata": {},
     "output_type": "execute_result"
    },
    {
     "data": {
      "image/png": "[encoded data removed]",
      "text/plain": [
       "<Figure size 432x288 with 1 Axes>"
      ]
     },
     "metadata": {
      "needs_background": "light"
     },
     "output_type": "display_data"
    }
   ],
   "source": [
    "tc.visualize_log(protocol)"
   ]
  },
  {
   "cell_type": "code",
   "execution_count": 364,
   "metadata": {},
   "outputs": [
    {
     "data": {
      "text/plain": [
       "<module 'matplotlib.pyplot' from '/usr/local/anaconda/lib/python3.7/site-packages/matplotlib/pyplot.py'>"
      ]
     },
     "execution_count": 364,
     "metadata": {},
     "output_type": "execute_result"
    },
    {
     "data": {
      "image/png": "[encoded data removed]",
      "text/plain": [
       "<Figure size 432x288 with 1 Axes>"
      ]
     },
     "metadata": {
      "needs_background": "light"
     },
     "output_type": "display_data"
    }
   ],
   "source": [
    "tc.visualize_nn(protocol)"
   ]
  }
 ],
 "metadata": {
  "kernelspec": {
   "display_name": "Python 3",
   "language": "python",
   "name": "python3"
  },
  "language_info": {
   "codemirror_mode": {
    "name": "ipython",
    "version": 3
   },
   "file_extension": ".py",
   "mimetype": "text/x-python",
   "name": "python",
   "nbconvert_exporter": "python",
   "pygments_lexer": "ipython3",
   "version": "3.7.1"
  }
 },
 "nbformat": 4,
 "nbformat_minor": 2
}
